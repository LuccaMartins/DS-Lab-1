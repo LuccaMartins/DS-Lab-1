{
 "cells": [
  {
   "cell_type": "code",
   "execution_count": null,
   "metadata": {},
   "outputs": [],
   "source": [
    "train_dataset = HyperX(img, train_gt, **hyperparams)\n",
    "\n",
    "\n",
    "train_loader = data.DataLoader(\n",
    "    train_dataset,\n",
    "    batch_size=hyperparams[\"batch_size\"],\n",
    "    # pin_memory=hyperparams['device'],\n",
    "    shuffle=True,\n",
    ")"
   ]
  }
 ],
 "metadata": {
  "language_info": {
   "name": "python"
  }
 },
 "nbformat": 4,
 "nbformat_minor": 2
}
