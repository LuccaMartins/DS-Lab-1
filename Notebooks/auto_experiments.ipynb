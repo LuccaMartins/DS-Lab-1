{
 "cells": [
  {
   "cell_type": "code",
   "execution_count": null,
   "metadata": {},
   "outputs": [],
   "source": [
    "epochs = 30\n",
    "patch_size = 7\n",
    "training_sample = 0.7\n",
    "# feature_extraction = ['PCA', 'FastICA', 'UMAP', 'DiffMaps', 'Corr', 'Var', 'AE1', 'AE2'] #Keeping DiffMaps out\n",
    "feature_extraction = ['AE1', 'AE2'] #Keeping DiffMaps out\n",
    "\n",
    "models = ['hamida', 'li', 'mou', 'paoletti']"
   ]
  },
  {
   "cell_type": "markdown",
   "metadata": {},
   "source": [
    "# Salinas script"
   ]
  },
  {
   "cell_type": "code",
   "execution_count": 3,
   "metadata": {},
   "outputs": [],
   "source": [
    "\n",
    "full_script = ''\n",
    "for n_components in [8, 15, 30]:\n",
    "    for ds in ['Salinas']:\n",
    "        for method in feature_extraction:\n",
    "            for model in models:\n",
    "                full_script += f'python main.py --model {model} --dataset {ds}_{method}_{n_components} --training_sample {training_sample} --patch_size {patch_size} --epoch {epochs} --cuda 0\\n'\n",
    "                # full_script += f'python main.py --model {model} --dataset {ds}_{method}_{n_components} --training_sample {training_sample} --class_balancing --patch_size {patch_size} --epoch {epochs} --cuda 0\\n'\n",
    "\n",
    "with open('../auto_exp_salinas.cmd', 'w') as file:\n",
    "    file.write(full_script)\n",
    "\n"
   ]
  },
  {
   "cell_type": "markdown",
   "metadata": {},
   "source": [
    "# Indian Pines script"
   ]
  },
  {
   "cell_type": "code",
   "execution_count": 6,
   "metadata": {},
   "outputs": [],
   "source": [
    "batch_size = 20\n",
    "\n",
    "full_script = ''\n",
    "for n_components in [8, 15, 30]:\n",
    "    for ds in ['IndianPines']:\n",
    "        for dr_method in feature_extraction:\n",
    "            for model in models:\n",
    "                full_script += f'python main.py --model {model} --dataset {ds}_{dr_method}_{n_components} --training_sample {training_sample}  --batch_size {batch_size} --patch_size {patch_size} --epoch {epochs} --cuda 0\\n'\n",
    "                # full_script += f'python main.py --model {model} --dataset {ds}_{dr_method}_{n_components} --training_sample {training_sample}  --batch_size {batch_size} --class_balancing --patch_size {patch_size} --epoch {epochs} --cuda 0\\n'\n",
    "\n",
    "with open('../auto_exp_indianpines.cmd', 'w') as file:\n",
    "    file.write(full_script)\n",
    "\n"
   ]
  }
 ],
 "metadata": {
  "kernelspec": {
   "display_name": "dslab",
   "language": "python",
   "name": "python3"
  },
  "language_info": {
   "codemirror_mode": {
    "name": "ipython",
    "version": 3
   },
   "file_extension": ".py",
   "mimetype": "text/x-python",
   "name": "python",
   "nbconvert_exporter": "python",
   "pygments_lexer": "ipython3",
   "version": "3.12.2"
  }
 },
 "nbformat": 4,
 "nbformat_minor": 2
}
