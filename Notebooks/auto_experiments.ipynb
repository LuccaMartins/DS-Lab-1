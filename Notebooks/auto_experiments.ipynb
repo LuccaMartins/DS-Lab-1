{
 "cells": [
  {
   "cell_type": "code",
   "execution_count": 9,
   "metadata": {},
   "outputs": [],
   "source": [
    "epochs = 30\n",
    "patch_size = 7\n",
    "training_sample = 0.5\n",
    "\n",
    "full_script = ''\n",
    "for n_components in [8, 15, 30]:\n",
    "    for ds in ['Salinas']:#['IndianPines', 'Salinas']:\n",
    "        for dr_method in ['PCA', 'FastICA']:\n",
    "            for model in ['mou', 'hamida', 'li']:\n",
    "                full_script += f'python main.py --model {model} --dataset {ds}_{dr_method}_{n_components} --training_sample {training_sample} --patch_size {patch_size} --epoch {epochs} --cuda 0\\n'\n",
    "\n",
    "with open('../auto_exp.cmd', 'w') as file:\n",
    "    file.write(full_script)\n",
    "\n"
   ]
  }
 ],
 "metadata": {
  "kernelspec": {
   "display_name": "dslab",
   "language": "python",
   "name": "python3"
  },
  "language_info": {
   "codemirror_mode": {
    "name": "ipython",
    "version": 3
   },
   "file_extension": ".py",
   "mimetype": "text/x-python",
   "name": "python",
   "nbconvert_exporter": "python",
   "pygments_lexer": "ipython3",
   "version": "3.12.2"
  }
 },
 "nbformat": 4,
 "nbformat_minor": 2
}
