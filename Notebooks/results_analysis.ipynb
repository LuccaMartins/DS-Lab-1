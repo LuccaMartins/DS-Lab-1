{
 "cells": [
  {
   "cell_type": "markdown",
   "metadata": {},
   "source": [
    "#### Analysis to do in one dataset\n",
    "\n",
    "For each model, analyze if more components lead to a better performance.\n",
    "\n",
    "For each model, and each number of components analyze which DR method leads to a better performance.\n",
    "\n",
    "For each type of model, analyze \n",
    "\n",
    "\n",
    "#### Extra analysis\n",
    "\n",
    "Compare the behavior of each experiment with and without class balancing. "
   ]
  },
  {
   "cell_type": "code",
   "execution_count": 16,
   "metadata": {},
   "outputs": [
    {
     "name": "stdout",
     "output_type": "stream",
     "text": [
      "\n",
      "Salinas_PCA_8_mou_30epochs.csv\n",
      "Loaded.\n",
      "Columns unpickled.\n",
      "\n",
      "Salinas_PCA_8_hamida_30epochs.csv\n",
      "Loaded.\n",
      "Columns unpickled.\n",
      "\n",
      "Salinas_PCA_8_li_30epochs.csv\n",
      "Loaded.\n",
      "Columns unpickled.\n",
      "\n",
      "Salinas_PCA_8_paoletti_30epochs.csv\n",
      "Loaded.\n",
      "Columns unpickled.\n",
      "\n",
      "Salinas_PCA_15_mou_30epochs.csv\n",
      "Loaded.\n",
      "Columns unpickled.\n",
      "\n",
      "Salinas_PCA_15_hamida_30epochs.csv\n",
      "Loaded.\n",
      "Columns unpickled.\n",
      "\n",
      "Salinas_PCA_15_li_30epochs.csv\n",
      "Loaded.\n",
      "Columns unpickled.\n",
      "\n",
      "Salinas_PCA_15_paoletti_30epochs.csv\n",
      "Loaded.\n",
      "Columns unpickled.\n",
      "\n",
      "Salinas_PCA_30_mou_30epochs.csv\n",
      "Loaded.\n",
      "Columns unpickled.\n",
      "\n",
      "Salinas_PCA_30_hamida_30epochs.csv\n",
      "Loaded.\n",
      "Columns unpickled.\n",
      "\n",
      "Salinas_PCA_30_li_30epochs.csv\n",
      "Loaded.\n",
      "Columns unpickled.\n",
      "\n",
      "Salinas_PCA_30_paoletti_30epochs.csv\n",
      "Loaded.\n",
      "Columns unpickled.\n",
      "\n",
      "Salinas_FastICA_8_mou_30epochs.csv\n",
      "Loaded.\n",
      "Columns unpickled.\n",
      "\n",
      "Salinas_FastICA_8_hamida_30epochs.csv\n",
      "Loaded.\n",
      "Columns unpickled.\n",
      "\n",
      "Salinas_FastICA_8_li_30epochs.csv\n",
      "Loaded.\n",
      "Columns unpickled.\n",
      "\n",
      "Salinas_FastICA_8_paoletti_30epochs.csv\n",
      "Loaded.\n",
      "Columns unpickled.\n",
      "\n",
      "Salinas_FastICA_15_mou_30epochs.csv\n",
      "Loaded.\n",
      "Columns unpickled.\n",
      "\n",
      "Salinas_FastICA_15_hamida_30epochs.csv\n",
      "Loaded.\n",
      "Columns unpickled.\n",
      "\n",
      "Salinas_FastICA_15_li_30epochs.csv\n",
      "Loaded.\n",
      "Columns unpickled.\n",
      "\n",
      "Salinas_FastICA_15_paoletti_30epochs.csv\n",
      "Loaded.\n",
      "Columns unpickled.\n",
      "\n",
      "Salinas_FastICA_30_mou_30epochs.csv\n",
      "Loaded.\n",
      "Columns unpickled.\n",
      "\n",
      "Salinas_FastICA_30_hamida_30epochs.csv\n",
      "Loaded.\n",
      "Columns unpickled.\n",
      "\n",
      "Salinas_FastICA_30_li_30epochs.csv\n",
      "Loaded.\n",
      "Columns unpickled.\n",
      "\n",
      "Salinas_FastICA_30_paoletti_30epochs.csv\n",
      "Loaded.\n",
      "Columns unpickled.\n",
      "\n",
      "IndianPines_PCA_8_mou_30epochs.csv\n",
      "Loaded.\n",
      "Columns unpickled.\n",
      "\n",
      "IndianPines_PCA_8_hamida_30epochs.csv\n",
      "Loaded.\n",
      "Columns unpickled.\n",
      "\n",
      "IndianPines_PCA_8_li_30epochs.csv\n",
      "Loaded.\n",
      "Columns unpickled.\n",
      "\n",
      "IndianPines_PCA_8_paoletti_30epochs.csv\n",
      "Loaded.\n",
      "Columns unpickled.\n",
      "\n",
      "IndianPines_PCA_15_mou_30epochs.csv\n",
      "Loaded.\n",
      "Columns unpickled.\n",
      "\n",
      "IndianPines_PCA_15_hamida_30epochs.csv\n",
      "Loaded.\n",
      "Columns unpickled.\n",
      "\n",
      "IndianPines_PCA_15_li_30epochs.csv\n",
      "Loaded.\n",
      "Columns unpickled.\n",
      "\n",
      "IndianPines_PCA_15_paoletti_30epochs.csv\n",
      "Loaded.\n",
      "Columns unpickled.\n",
      "\n",
      "IndianPines_PCA_30_mou_30epochs.csv\n",
      "Loaded.\n",
      "Columns unpickled.\n",
      "\n",
      "IndianPines_PCA_30_hamida_30epochs.csv\n",
      "Loaded.\n",
      "Columns unpickled.\n",
      "\n",
      "IndianPines_PCA_30_li_30epochs.csv\n",
      "Loaded.\n",
      "Columns unpickled.\n",
      "\n",
      "IndianPines_PCA_30_paoletti_30epochs.csv\n",
      "Loaded.\n",
      "Columns unpickled.\n",
      "\n",
      "IndianPines_FastICA_8_mou_30epochs.csv\n",
      "Loaded.\n",
      "Columns unpickled.\n",
      "\n",
      "IndianPines_FastICA_8_hamida_30epochs.csv\n",
      "Loaded.\n",
      "Columns unpickled.\n",
      "\n",
      "IndianPines_FastICA_8_li_30epochs.csv\n",
      "Loaded.\n",
      "Columns unpickled.\n",
      "\n",
      "IndianPines_FastICA_8_paoletti_30epochs.csv\n",
      "Loaded.\n",
      "Columns unpickled.\n",
      "\n",
      "IndianPines_FastICA_15_mou_30epochs.csv\n",
      "Loaded.\n",
      "Columns unpickled.\n",
      "\n",
      "IndianPines_FastICA_15_hamida_30epochs.csv\n",
      "Loaded.\n",
      "Columns unpickled.\n",
      "\n",
      "IndianPines_FastICA_15_li_30epochs.csv\n",
      "Loaded.\n",
      "Columns unpickled.\n",
      "\n",
      "IndianPines_FastICA_15_paoletti_30epochs.csv\n",
      "Loaded.\n",
      "Columns unpickled.\n",
      "\n",
      "IndianPines_FastICA_30_mou_30epochs.csv\n",
      "Loaded.\n",
      "Columns unpickled.\n",
      "\n",
      "IndianPines_FastICA_30_hamida_30epochs.csv\n",
      "Loaded.\n",
      "Columns unpickled.\n",
      "\n",
      "IndianPines_FastICA_30_li_30epochs.csv\n",
      "Loaded.\n",
      "Columns unpickled.\n",
      "\n",
      "IndianPines_FastICA_30_paoletti_30epochs.csv\n",
      "Loaded.\n",
      "Columns unpickled.\n"
     ]
    },
    {
     "data": {
      "text/html": [
       "<div>\n",
       "<style scoped>\n",
       "    .dataframe tbody tr th:only-of-type {\n",
       "        vertical-align: middle;\n",
       "    }\n",
       "\n",
       "    .dataframe tbody tr th {\n",
       "        vertical-align: top;\n",
       "    }\n",
       "\n",
       "    .dataframe thead th {\n",
       "        text-align: right;\n",
       "    }\n",
       "</style>\n",
       "<table border=\"1\" class=\"dataframe\">\n",
       "  <thead>\n",
       "    <tr style=\"text-align: right;\">\n",
       "      <th></th>\n",
       "      <th>Experiment</th>\n",
       "      <th>Confusion matrix</th>\n",
       "      <th>Accuracy</th>\n",
       "      <th>F1 scores</th>\n",
       "      <th>Kappa</th>\n",
       "      <th>IOU</th>\n",
       "      <th>Dataset</th>\n",
       "      <th>DR Method</th>\n",
       "      <th>N Components</th>\n",
       "      <th>Model</th>\n",
       "    </tr>\n",
       "  </thead>\n",
       "  <tbody>\n",
       "    <tr>\n",
       "      <th>0</th>\n",
       "      <td>Salinas_PCA_8_mou</td>\n",
       "      <td>[[0, 0, 0, 0, 0, 0, 0, 0, 0, 0, 0, 0, 0, 0, 0,...</td>\n",
       "      <td>87.442960</td>\n",
       "      <td>[0.0, 0.9636504253673627, 0.9913136442603234, ...</td>\n",
       "      <td>0.860648</td>\n",
       "      <td>[0.0, 0.9298507462686567, 0.9827768945416004, ...</td>\n",
       "      <td>Salinas</td>\n",
       "      <td>PCA</td>\n",
       "      <td>8</td>\n",
       "      <td>mou</td>\n",
       "    </tr>\n",
       "    <tr>\n",
       "      <th>1</th>\n",
       "      <td>Salinas_PCA_8_hamida</td>\n",
       "      <td>[[0, 0, 0, 0, 0, 0, 0, 0, 0, 0, 0, 0, 0, 0, 0,...</td>\n",
       "      <td>92.939090</td>\n",
       "      <td>[0.0, 0.9744767738642164, 0.9993294890706719, ...</td>\n",
       "      <td>0.921351</td>\n",
       "      <td>[0.0, 0.9502239920358387, 0.9986598767086572, ...</td>\n",
       "      <td>Salinas</td>\n",
       "      <td>PCA</td>\n",
       "      <td>8</td>\n",
       "      <td>hamida</td>\n",
       "    </tr>\n",
       "    <tr>\n",
       "      <th>2</th>\n",
       "      <td>Salinas_PCA_8_li</td>\n",
       "      <td>[[0, 0, 0, 0, 0, 0, 0, 0, 0, 0, 0, 0, 0, 0, 0,...</td>\n",
       "      <td>80.539695</td>\n",
       "      <td>[0.0, 0.9529810954920019, 0.9972187104930468, ...</td>\n",
       "      <td>0.783730</td>\n",
       "      <td>[0.0, 0.9101851851851852, 0.994452849218356, 0...</td>\n",
       "      <td>Salinas</td>\n",
       "      <td>PCA</td>\n",
       "      <td>8</td>\n",
       "      <td>li</td>\n",
       "    </tr>\n",
       "    <tr>\n",
       "      <th>3</th>\n",
       "      <td>Salinas_PCA_8_paoletti</td>\n",
       "      <td>[[0, 0, 0, 0, 0, 0, 0, 0, 0, 0, 0, 0, 0, 0, 0,...</td>\n",
       "      <td>85.946535</td>\n",
       "      <td>[0.0, 0.8724862888482633, 0.927277953434895, 0...</td>\n",
       "      <td>0.843572</td>\n",
       "      <td>[0.0, 0.7738143494122416, 0.8644158628081458, ...</td>\n",
       "      <td>Salinas</td>\n",
       "      <td>PCA</td>\n",
       "      <td>8</td>\n",
       "      <td>paoletti</td>\n",
       "    </tr>\n",
       "    <tr>\n",
       "      <th>4</th>\n",
       "      <td>Salinas_PCA_15_mou</td>\n",
       "      <td>[[0, 0, 0, 0, 0, 0, 0, 0, 0, 0, 0, 0, 0, 0, 0,...</td>\n",
       "      <td>88.671507</td>\n",
       "      <td>[0.0, 0.9678910865656306, 0.9937157373980479, ...</td>\n",
       "      <td>0.874224</td>\n",
       "      <td>[0.0, 0.9377799900447984, 0.9875099654530959, ...</td>\n",
       "      <td>Salinas</td>\n",
       "      <td>PCA</td>\n",
       "      <td>15</td>\n",
       "      <td>mou</td>\n",
       "    </tr>\n",
       "    <tr>\n",
       "      <th>5</th>\n",
       "      <td>Salinas_PCA_15_hamida</td>\n",
       "      <td>[[0, 0, 0, 0, 0, 0, 0, 0, 0, 0, 0, 0, 0, 0, 0,...</td>\n",
       "      <td>90.936467</td>\n",
       "      <td>[0.0, 0.9737980157720681, 0.99892530897367, 0....</td>\n",
       "      <td>0.899849</td>\n",
       "      <td>[0.0, 0.9489340604858701, 0.9978529253891573, ...</td>\n",
       "      <td>Salinas</td>\n",
       "      <td>PCA</td>\n",
       "      <td>15</td>\n",
       "      <td>hamida</td>\n",
       "    </tr>\n",
       "    <tr>\n",
       "      <th>6</th>\n",
       "      <td>Salinas_PCA_15_li</td>\n",
       "      <td>[[0, 0, 0, 0, 0, 0, 0, 0, 0, 0, 0, 0, 0, 0, 0,...</td>\n",
       "      <td>94.962035</td>\n",
       "      <td>[0.0, 0.9757838388988019, 1.0, 0.9992406985573...</td>\n",
       "      <td>0.944063</td>\n",
       "      <td>[0.0, 0.9527127924340468, 1.0, 0.9984825493171...</td>\n",
       "      <td>Salinas</td>\n",
       "      <td>PCA</td>\n",
       "      <td>15</td>\n",
       "      <td>li</td>\n",
       "    </tr>\n",
       "    <tr>\n",
       "      <th>7</th>\n",
       "      <td>Salinas_PCA_15_paoletti</td>\n",
       "      <td>[[0, 0, 0, 0, 0, 0, 0, 0, 0, 0, 0, 0, 0, 0, 0,...</td>\n",
       "      <td>90.210423</td>\n",
       "      <td>[0.0, 0.8605595667870036, 0.9199426111908178, ...</td>\n",
       "      <td>0.891155</td>\n",
       "      <td>[0.0, 0.7552475247524753, 0.8517534537725824, ...</td>\n",
       "      <td>Salinas</td>\n",
       "      <td>PCA</td>\n",
       "      <td>15</td>\n",
       "      <td>paoletti</td>\n",
       "    </tr>\n",
       "    <tr>\n",
       "      <th>8</th>\n",
       "      <td>Salinas_PCA_30_mou</td>\n",
       "      <td>[[0, 0, 0, 0, 0, 0, 0, 0, 0, 0, 0, 0, 0, 0, 0,...</td>\n",
       "      <td>88.869183</td>\n",
       "      <td>[0.0, 0.960951642099819, 0.9895805503606733, 0...</td>\n",
       "      <td>0.876249</td>\n",
       "      <td>[0.0, 0.9248382279741165, 0.9793759915388683, ...</td>\n",
       "      <td>Salinas</td>\n",
       "      <td>PCA</td>\n",
       "      <td>30</td>\n",
       "      <td>mou</td>\n",
       "    </tr>\n",
       "    <tr>\n",
       "      <th>9</th>\n",
       "      <td>Salinas_PCA_30_hamida</td>\n",
       "      <td>[[0, 0, 0, 0, 0, 0, 0, 0, 0, 0, 0, 0, 0, 0, 0,...</td>\n",
       "      <td>95.410963</td>\n",
       "      <td>[0.0, 0.9757838388988019, 1.0, 0.9977197871801...</td>\n",
       "      <td>0.949015</td>\n",
       "      <td>[0.0, 0.9527127924340468, 1.0, 0.9954499494438...</td>\n",
       "      <td>Salinas</td>\n",
       "      <td>PCA</td>\n",
       "      <td>30</td>\n",
       "      <td>hamida</td>\n",
       "    </tr>\n",
       "    <tr>\n",
       "      <th>10</th>\n",
       "      <td>Salinas_PCA_30_li</td>\n",
       "      <td>[[0, 0, 0, 0, 0, 0, 0, 0, 0, 0, 0, 0, 0, 0, 0,...</td>\n",
       "      <td>95.128305</td>\n",
       "      <td>[0.0, 0.9757838388988019, 1.0, 0.9987332151000...</td>\n",
       "      <td>0.945837</td>\n",
       "      <td>[0.0, 0.9527127924340468, 1.0, 0.9974696356275...</td>\n",
       "      <td>Salinas</td>\n",
       "      <td>PCA</td>\n",
       "      <td>30</td>\n",
       "      <td>li</td>\n",
       "    </tr>\n",
       "    <tr>\n",
       "      <th>11</th>\n",
       "      <td>Salinas_PCA_30_paoletti</td>\n",
       "      <td>[[0, 0, 0, 0, 0, 0, 0, 0, 0, 0, 0, 0, 0, 0, 0,...</td>\n",
       "      <td>87.381995</td>\n",
       "      <td>[0.0, 0.9044555634977365, 0.9539492045771699, ...</td>\n",
       "      <td>0.860044</td>\n",
       "      <td>[0.0, 0.82557633753806, 0.9119530416221985, 0....</td>\n",
       "      <td>Salinas</td>\n",
       "      <td>PCA</td>\n",
       "      <td>30</td>\n",
       "      <td>paoletti</td>\n",
       "    </tr>\n",
       "    <tr>\n",
       "      <th>12</th>\n",
       "      <td>Salinas_FastICA_8_mou</td>\n",
       "      <td>[[0, 0, 0, 0, 0, 0, 0, 0, 0, 0, 0, 0, 0, 0, 0,...</td>\n",
       "      <td>92.552975</td>\n",
       "      <td>[0.0, 0.9755226925038246, 0.9990615363989811, ...</td>\n",
       "      <td>0.917376</td>\n",
       "      <td>[0.0, 0.9522150323544052, 0.998124832574337, 0...</td>\n",
       "      <td>Salinas</td>\n",
       "      <td>FastICA</td>\n",
       "      <td>8</td>\n",
       "      <td>mou</td>\n",
       "    </tr>\n",
       "    <tr>\n",
       "      <th>13</th>\n",
       "      <td>Salinas_FastICA_8_hamida</td>\n",
       "      <td>[[0, 0, 0, 0, 0, 0, 0, 0, 0, 0, 0, 0, 0, 0, 0,...</td>\n",
       "      <td>94.771749</td>\n",
       "      <td>[0.0, 0.9757838388988019, 0.9997316876844647, ...</td>\n",
       "      <td>0.941950</td>\n",
       "      <td>[0.0, 0.9527127924340468, 0.9994635193133047, ...</td>\n",
       "      <td>Salinas</td>\n",
       "      <td>FastICA</td>\n",
       "      <td>8</td>\n",
       "      <td>hamida</td>\n",
       "    </tr>\n",
       "    <tr>\n",
       "      <th>14</th>\n",
       "      <td>Salinas_FastICA_8_li</td>\n",
       "      <td>[[0, 0, 0, 0, 0, 0, 0, 0, 0, 0, 0, 0, 0, 0, 0,...</td>\n",
       "      <td>94.649818</td>\n",
       "      <td>[0.0, 0.9757838388988019, 0.9998657898268689, ...</td>\n",
       "      <td>0.940519</td>\n",
       "      <td>[0.0, 0.9527127924340468, 0.9997316156736447, ...</td>\n",
       "      <td>Salinas</td>\n",
       "      <td>FastICA</td>\n",
       "      <td>8</td>\n",
       "      <td>li</td>\n",
       "    </tr>\n",
       "    <tr>\n",
       "      <th>15</th>\n",
       "      <td>Salinas_FastICA_8_paoletti</td>\n",
       "      <td>[[0, 0, 0, 0, 0, 0, 0, 0, 0, 0, 0, 0, 0, 0, 0,...</td>\n",
       "      <td>93.982893</td>\n",
       "      <td>[0.0, 0.9757838388988019, 0.9993289491343443, ...</td>\n",
       "      <td>0.933149</td>\n",
       "      <td>[0.0, 0.9527127924340468, 0.9986587982832618, ...</td>\n",
       "      <td>Salinas</td>\n",
       "      <td>FastICA</td>\n",
       "      <td>8</td>\n",
       "      <td>paoletti</td>\n",
       "    </tr>\n",
       "    <tr>\n",
       "      <th>16</th>\n",
       "      <td>Salinas_FastICA_15_mou</td>\n",
       "      <td>[[0, 0, 0, 0, 0, 0, 0, 0, 0, 0, 0, 0, 0, 0, 0,...</td>\n",
       "      <td>91.797373</td>\n",
       "      <td>[0.0, 0.9757838388988019, 1.0, 0.9740488788107...</td>\n",
       "      <td>0.908822</td>\n",
       "      <td>[0.0, 0.9527127924340468, 1.0, 0.9494106090373...</td>\n",
       "      <td>Salinas</td>\n",
       "      <td>FastICA</td>\n",
       "      <td>15</td>\n",
       "      <td>mou</td>\n",
       "    </tr>\n",
       "    <tr>\n",
       "      <th>17</th>\n",
       "      <td>Salinas_FastICA_15_hamida</td>\n",
       "      <td>[[0, 0, 0, 0, 0, 0, 0, 0, 0, 0, 0, 0, 0, 0, 0,...</td>\n",
       "      <td>20.512110</td>\n",
       "      <td>[0.0, 0.0, 0.0, 0.0, 0.0, 0.0, 0.0, 0.0, 0.345...</td>\n",
       "      <td>0.001834</td>\n",
       "      <td>[0.0, 0.0, 0.0, 0.0, 0.0, 0.0, 0.0, 0.0, 0.209...</td>\n",
       "      <td>Salinas</td>\n",
       "      <td>FastICA</td>\n",
       "      <td>15</td>\n",
       "      <td>hamida</td>\n",
       "    </tr>\n",
       "    <tr>\n",
       "      <th>18</th>\n",
       "      <td>Salinas_FastICA_15_li</td>\n",
       "      <td>[[0, 0, 0, 0, 0, 0, 0, 0, 0, 0, 0, 0, 0, 0, 0,...</td>\n",
       "      <td>20.512110</td>\n",
       "      <td>[0.0, 0.0, 0.0, 0.0, 0.0, 0.0, 0.0, 0.0, 0.345...</td>\n",
       "      <td>0.001808</td>\n",
       "      <td>[0.0, 0.0, 0.0, 0.0, 0.0, 0.0, 0.0, 0.0, 0.209...</td>\n",
       "      <td>Salinas</td>\n",
       "      <td>FastICA</td>\n",
       "      <td>15</td>\n",
       "      <td>li</td>\n",
       "    </tr>\n",
       "    <tr>\n",
       "      <th>19</th>\n",
       "      <td>Salinas_FastICA_15_paoletti</td>\n",
       "      <td>[[0, 0, 0, 0, 0, 0, 0, 0, 0, 0, 0, 0, 0, 0, 0,...</td>\n",
       "      <td>96.754051</td>\n",
       "      <td>[0.0, 0.9757838388988019, 1.0, 0.9984794728839...</td>\n",
       "      <td>0.963922</td>\n",
       "      <td>[0.0, 0.9527127924340468, 1.0, 0.9969635627530...</td>\n",
       "      <td>Salinas</td>\n",
       "      <td>FastICA</td>\n",
       "      <td>15</td>\n",
       "      <td>paoletti</td>\n",
       "    </tr>\n",
       "    <tr>\n",
       "      <th>20</th>\n",
       "      <td>Salinas_FastICA_30_mou</td>\n",
       "      <td>[[0, 0, 0, 0, 0, 0, 0, 0, 0, 0, 0, 0, 0, 0, 0,...</td>\n",
       "      <td>20.512110</td>\n",
       "      <td>[0.0, 0.0, 0.0, 0.0, 0.0, 0.0, 0.0, 0.0, 0.345...</td>\n",
       "      <td>0.001808</td>\n",
       "      <td>[0.0, 0.0, 0.0, 0.0, 0.0, 0.0, 0.0, 0.0, 0.209...</td>\n",
       "      <td>Salinas</td>\n",
       "      <td>FastICA</td>\n",
       "      <td>30</td>\n",
       "      <td>mou</td>\n",
       "    </tr>\n",
       "    <tr>\n",
       "      <th>21</th>\n",
       "      <td>Salinas_FastICA_30_hamida</td>\n",
       "      <td>[[0, 0, 0, 0, 0, 0, 0, 0, 0, 0, 0, 0, 0, 0, 0,...</td>\n",
       "      <td>20.512110</td>\n",
       "      <td>[0.0, 0.0, 0.0, 0.0, 0.0, 0.0, 0.0, 0.0, 0.345...</td>\n",
       "      <td>0.001808</td>\n",
       "      <td>[0.0, 0.0, 0.0, 0.0, 0.0, 0.0, 0.0, 0.0, 0.209...</td>\n",
       "      <td>Salinas</td>\n",
       "      <td>FastICA</td>\n",
       "      <td>30</td>\n",
       "      <td>hamida</td>\n",
       "    </tr>\n",
       "    <tr>\n",
       "      <th>22</th>\n",
       "      <td>Salinas_FastICA_30_li</td>\n",
       "      <td>[[0, 0, 0, 0, 0, 0, 0, 0, 0, 0, 0, 0, 0, 0, 0,...</td>\n",
       "      <td>20.512110</td>\n",
       "      <td>[0.0, 0.0, 0.0, 0.0, 0.0, 0.0, 0.0, 0.0, 0.345...</td>\n",
       "      <td>0.001808</td>\n",
       "      <td>[0.0, 0.0, 0.0, 0.0, 0.0, 0.0, 0.0, 0.0, 0.209...</td>\n",
       "      <td>Salinas</td>\n",
       "      <td>FastICA</td>\n",
       "      <td>30</td>\n",
       "      <td>li</td>\n",
       "    </tr>\n",
       "    <tr>\n",
       "      <th>23</th>\n",
       "      <td>Salinas_FastICA_30_paoletti</td>\n",
       "      <td>[[0, 0, 0, 0, 0, 0, 0, 0, 0, 0, 0, 0, 0, 0, 0,...</td>\n",
       "      <td>93.585693</td>\n",
       "      <td>[0.0, 0.9655704008221994, 0.9959882321476331, ...</td>\n",
       "      <td>0.928687</td>\n",
       "      <td>[0.0, 0.9334326875310481, 0.9920085242408098, ...</td>\n",
       "      <td>Salinas</td>\n",
       "      <td>FastICA</td>\n",
       "      <td>30</td>\n",
       "      <td>paoletti</td>\n",
       "    </tr>\n",
       "    <tr>\n",
       "      <th>24</th>\n",
       "      <td>IndianPines_PCA_8_mou</td>\n",
       "      <td>[[0, 0, 0, 0, 0, 0, 0, 0, 0, 0, 0, 0, 0, 0, 0,...</td>\n",
       "      <td>67.307692</td>\n",
       "      <td>[0.0, 0.2909090909090909, 0.5605331358756016, ...</td>\n",
       "      <td>0.622179</td>\n",
       "      <td>[0.0, 0.1702127659574468, 0.38940329218106995,...</td>\n",
       "      <td>IndianPines</td>\n",
       "      <td>PCA</td>\n",
       "      <td>8</td>\n",
       "      <td>mou</td>\n",
       "    </tr>\n",
       "    <tr>\n",
       "      <th>25</th>\n",
       "      <td>IndianPines_PCA_8_hamida</td>\n",
       "      <td>[[0, 0, 0, 0, 0, 0, 0, 0, 0, 0, 0, 0, 0, 0, 0,...</td>\n",
       "      <td>93.628647</td>\n",
       "      <td>[0.0, 0.9292929292929293, 0.9295470884255931, ...</td>\n",
       "      <td>0.927505</td>\n",
       "      <td>[0.0, 0.8679245283018868, 0.8683680322364002, ...</td>\n",
       "      <td>IndianPines</td>\n",
       "      <td>PCA</td>\n",
       "      <td>8</td>\n",
       "      <td>hamida</td>\n",
       "    </tr>\n",
       "    <tr>\n",
       "      <th>26</th>\n",
       "      <td>IndianPines_PCA_8_li</td>\n",
       "      <td>[[0, 0, 0, 0, 0, 0, 0, 0, 0, 0, 0, 0, 0, 0, 0,...</td>\n",
       "      <td>90.623475</td>\n",
       "      <td>[0.0, 0.989010989010989, 0.8135461268976255, 0...</td>\n",
       "      <td>0.893155</td>\n",
       "      <td>[0.0, 0.9782608695652174, 0.6856955380577427, ...</td>\n",
       "      <td>IndianPines</td>\n",
       "      <td>PCA</td>\n",
       "      <td>8</td>\n",
       "      <td>li</td>\n",
       "    </tr>\n",
       "    <tr>\n",
       "      <th>27</th>\n",
       "      <td>IndianPines_PCA_8_paoletti</td>\n",
       "      <td>[[0, 0, 0, 0, 0, 0, 0, 0, 0, 0, 0, 0, 0, 0, 0,...</td>\n",
       "      <td>63.508635</td>\n",
       "      <td>[0.0, 0.5352112676056338, 0.48417132216014896,...</td>\n",
       "      <td>0.578225</td>\n",
       "      <td>[0.0, 0.36538461538461536, 0.3194103194103194,...</td>\n",
       "      <td>IndianPines</td>\n",
       "      <td>PCA</td>\n",
       "      <td>8</td>\n",
       "      <td>paoletti</td>\n",
       "    </tr>\n",
       "    <tr>\n",
       "      <th>28</th>\n",
       "      <td>IndianPines_PCA_15_mou</td>\n",
       "      <td>[[0, 0, 0, 0, 0, 0, 0, 0, 0, 0, 0, 0, 0, 0, 0,...</td>\n",
       "      <td>74.817055</td>\n",
       "      <td>[0.0, 0.0, 0.7592717464598786, 0.6723300970873...</td>\n",
       "      <td>0.713640</td>\n",
       "      <td>[0.0, 0.0, 0.6119565217391304, 0.5063985374771...</td>\n",
       "      <td>IndianPines</td>\n",
       "      <td>PCA</td>\n",
       "      <td>15</td>\n",
       "      <td>mou</td>\n",
       "    </tr>\n",
       "    <tr>\n",
       "      <th>29</th>\n",
       "      <td>IndianPines_PCA_15_hamida</td>\n",
       "      <td>[[0, 0, 0, 0, 0, 0, 0, 0, 0, 0, 0, 0, 0, 0, 0,...</td>\n",
       "      <td>96.770417</td>\n",
       "      <td>[0.0, 1.0, 0.9890883491728265, 0.9436352121595...</td>\n",
       "      <td>0.963272</td>\n",
       "      <td>[0.0, 1.0, 0.9784122562674095, 0.8932853717026...</td>\n",
       "      <td>IndianPines</td>\n",
       "      <td>PCA</td>\n",
       "      <td>15</td>\n",
       "      <td>hamida</td>\n",
       "    </tr>\n",
       "    <tr>\n",
       "      <th>30</th>\n",
       "      <td>IndianPines_PCA_15_li</td>\n",
       "      <td>[[0, 0, 0, 0, 0, 0, 0, 0, 0, 0, 0, 0, 0, 0, 0,...</td>\n",
       "      <td>89.511172</td>\n",
       "      <td>[0.0, 0.989010989010989, 0.8579525327665604, 0...</td>\n",
       "      <td>0.880756</td>\n",
       "      <td>[0.0, 0.9782608695652174, 0.7512406947890818, ...</td>\n",
       "      <td>IndianPines</td>\n",
       "      <td>PCA</td>\n",
       "      <td>15</td>\n",
       "      <td>li</td>\n",
       "    </tr>\n",
       "    <tr>\n",
       "      <th>31</th>\n",
       "      <td>IndianPines_PCA_15_paoletti</td>\n",
       "      <td>[[0, 0, 0, 0, 0, 0, 0, 0, 0, 0, 0, 0, 0, 0, 0,...</td>\n",
       "      <td>63.245195</td>\n",
       "      <td>[0.0, 0.32142857142857145, 0.5383149065955013,...</td>\n",
       "      <td>0.575938</td>\n",
       "      <td>[0.0, 0.19148936170212766, 0.368283776734481, ...</td>\n",
       "      <td>IndianPines</td>\n",
       "      <td>PCA</td>\n",
       "      <td>15</td>\n",
       "      <td>paoletti</td>\n",
       "    </tr>\n",
       "    <tr>\n",
       "      <th>32</th>\n",
       "      <td>IndianPines_PCA_30_mou</td>\n",
       "      <td>[[0, 0, 0, 0, 0, 0, 0, 0, 0, 0, 0, 0, 0, 0, 0,...</td>\n",
       "      <td>64.572153</td>\n",
       "      <td>[0.0, 0.0, 0.5655509065550907, 0.4325767690253...</td>\n",
       "      <td>0.591337</td>\n",
       "      <td>[0.0, 0.0, 0.394263490520175, 0.27597955706984...</td>\n",
       "      <td>IndianPines</td>\n",
       "      <td>PCA</td>\n",
       "      <td>30</td>\n",
       "      <td>mou</td>\n",
       "    </tr>\n",
       "    <tr>\n",
       "      <th>33</th>\n",
       "      <td>IndianPines_PCA_30_hamida</td>\n",
       "      <td>[[0, 0, 0, 0, 0, 0, 0, 0, 0, 0, 0, 0, 0, 0, 0,...</td>\n",
       "      <td>96.311835</td>\n",
       "      <td>[0.0, 1.0, 0.9767282683093771, 0.9064748201438...</td>\n",
       "      <td>0.958057</td>\n",
       "      <td>[0.0, 1.0, 0.954515050167224, 0.82894736842105...</td>\n",
       "      <td>IndianPines</td>\n",
       "      <td>PCA</td>\n",
       "      <td>30</td>\n",
       "      <td>hamida</td>\n",
       "    </tr>\n",
       "    <tr>\n",
       "      <th>34</th>\n",
       "      <td>IndianPines_PCA_30_li</td>\n",
       "      <td>[[0, 0, 0, 0, 0, 0, 0, 0, 0, 0, 0, 0, 0, 0, 0,...</td>\n",
       "      <td>89.657528</td>\n",
       "      <td>[0.0, 1.0, 0.8419847328244274, 0.8488160291438...</td>\n",
       "      <td>0.882700</td>\n",
       "      <td>[0.0, 1.0, 0.7270929466051417, 0.7373417721518...</td>\n",
       "      <td>IndianPines</td>\n",
       "      <td>PCA</td>\n",
       "      <td>30</td>\n",
       "      <td>li</td>\n",
       "    </tr>\n",
       "    <tr>\n",
       "      <th>35</th>\n",
       "      <td>IndianPines_PCA_30_paoletti</td>\n",
       "      <td>[[0, 0, 0, 0, 0, 0, 0, 0, 0, 0, 0, 0, 0, 0, 0,...</td>\n",
       "      <td>67.831008</td>\n",
       "      <td>[0.0, 0.23076923076923078, 0.5650056200824278,...</td>\n",
       "      <td>0.631030</td>\n",
       "      <td>[0.0, 0.13043478260869565, 0.393733681462141, ...</td>\n",
       "      <td>IndianPines</td>\n",
       "      <td>PCA</td>\n",
       "      <td>30</td>\n",
       "      <td>paoletti</td>\n",
       "    </tr>\n",
       "    <tr>\n",
       "      <th>36</th>\n",
       "      <td>IndianPines_FastICA_8_mou</td>\n",
       "      <td>[[0, 0, 0, 0, 0, 0, 0, 0, 0, 0, 0, 0, 0, 0, 0,...</td>\n",
       "      <td>84.203337</td>\n",
       "      <td>[0.0, 0.6197183098591549, 0.8457993619283942, ...</td>\n",
       "      <td>0.819197</td>\n",
       "      <td>[0.0, 0.4489795918367347, 0.7328009828009828, ...</td>\n",
       "      <td>IndianPines</td>\n",
       "      <td>FastICA</td>\n",
       "      <td>8</td>\n",
       "      <td>mou</td>\n",
       "    </tr>\n",
       "    <tr>\n",
       "      <th>37</th>\n",
       "      <td>IndianPines_FastICA_8_hamida</td>\n",
       "      <td>[[0, 0, 0, 0, 0, 0, 0, 0, 0, 0, 0, 0, 0, 0, 0,...</td>\n",
       "      <td>95.101961</td>\n",
       "      <td>[0.0, 0.9777777777777777, 0.9620951068228808, ...</td>\n",
       "      <td>0.944369</td>\n",
       "      <td>[0.0, 0.9565217391304348, 0.9269588313413014, ...</td>\n",
       "      <td>IndianPines</td>\n",
       "      <td>FastICA</td>\n",
       "      <td>8</td>\n",
       "      <td>hamida</td>\n",
       "    </tr>\n",
       "    <tr>\n",
       "      <th>38</th>\n",
       "      <td>IndianPines_FastICA_8_li</td>\n",
       "      <td>[[0, 0, 0, 0, 0, 0, 0, 0, 0, 0, 0, 0, 0, 0, 0,...</td>\n",
       "      <td>63.918431</td>\n",
       "      <td>[0.0, 0.5294117647058824, 0.5104166666666666, ...</td>\n",
       "      <td>0.584420</td>\n",
       "      <td>[0.0, 0.36, 0.34265734265734266, 0.26204238921...</td>\n",
       "      <td>IndianPines</td>\n",
       "      <td>FastICA</td>\n",
       "      <td>8</td>\n",
       "      <td>li</td>\n",
       "    </tr>\n",
       "    <tr>\n",
       "      <th>39</th>\n",
       "      <td>IndianPines_FastICA_8_paoletti</td>\n",
       "      <td>[[0, 0, 0, 0, 0, 0, 0, 0, 0, 0, 0, 0, 0, 0, 0,...</td>\n",
       "      <td>91.882135</td>\n",
       "      <td>[0.0, 0.8735632183908046, 0.9395509499136442, ...</td>\n",
       "      <td>0.907657</td>\n",
       "      <td>[0.0, 0.7755102040816326, 0.8859934853420195, ...</td>\n",
       "      <td>IndianPines</td>\n",
       "      <td>FastICA</td>\n",
       "      <td>8</td>\n",
       "      <td>paoletti</td>\n",
       "    </tr>\n",
       "    <tr>\n",
       "      <th>40</th>\n",
       "      <td>IndianPines_FastICA_15_mou</td>\n",
       "      <td>[[0, 0, 0, 0, 0, 0, 0, 0, 0, 0, 0, 0, 0, 0, 0,...</td>\n",
       "      <td>92.532214</td>\n",
       "      <td>[0.0, 0.989010989010989, 0.9219219219219219, 0...</td>\n",
       "      <td>0.915046</td>\n",
       "      <td>[0.0, 0.9782608695652174, 0.8551532033426184, ...</td>\n",
       "      <td>IndianPines</td>\n",
       "      <td>FastICA</td>\n",
       "      <td>15</td>\n",
       "      <td>mou</td>\n",
       "    </tr>\n",
       "    <tr>\n",
       "      <th>41</th>\n",
       "      <td>IndianPines_FastICA_15_hamida</td>\n",
       "      <td>[[0, 0, 0, 0, 0, 0, 0, 0, 0, 0, 0, 0, 0, 0, 0,...</td>\n",
       "      <td>96.653332</td>\n",
       "      <td>[0.0, 1.0, 0.9767441860465116, 0.9361430395913...</td>\n",
       "      <td>0.961978</td>\n",
       "      <td>[0.0, 1.0, 0.9545454545454546, 0.8799519807923...</td>\n",
       "      <td>IndianPines</td>\n",
       "      <td>FastICA</td>\n",
       "      <td>15</td>\n",
       "      <td>hamida</td>\n",
       "    </tr>\n",
       "    <tr>\n",
       "      <th>42</th>\n",
       "      <td>IndianPines_FastICA_15_li</td>\n",
       "      <td>[[0, 0, 0, 0, 0, 0, 0, 0, 0, 0, 0, 0, 0, 0, 0,...</td>\n",
       "      <td>97.346083</td>\n",
       "      <td>[0.0, 1.0, 0.9964862965565706, 0.9481012658227...</td>\n",
       "      <td>0.969829</td>\n",
       "      <td>[0.0, 1.0, 0.9929971988795518, 0.9013237063778...</td>\n",
       "      <td>IndianPines</td>\n",
       "      <td>FastICA</td>\n",
       "      <td>15</td>\n",
       "      <td>li</td>\n",
       "    </tr>\n",
       "    <tr>\n",
       "      <th>43</th>\n",
       "      <td>IndianPines_FastICA_15_paoletti</td>\n",
       "      <td>[[0, 0, 0, 0, 0, 0, 0, 0, 0, 0, 0, 0, 0, 0, 0,...</td>\n",
       "      <td>95.902039</td>\n",
       "      <td>[0.0, 1.0, 0.9707231040564374, 0.9306431273644...</td>\n",
       "      <td>0.953385</td>\n",
       "      <td>[0.0, 1.0, 0.9431117203564084, 0.8702830188679...</td>\n",
       "      <td>IndianPines</td>\n",
       "      <td>FastICA</td>\n",
       "      <td>15</td>\n",
       "      <td>paoletti</td>\n",
       "    </tr>\n",
       "    <tr>\n",
       "      <th>44</th>\n",
       "      <td>IndianPines_FastICA_30_mou</td>\n",
       "      <td>[[0, 0, 0, 0, 0, 0, 0, 0, 0, 0, 0, 0, 0, 0, 0,...</td>\n",
       "      <td>87.881745</td>\n",
       "      <td>[0.0, 0.8913043478260869, 0.871130309575234, 0...</td>\n",
       "      <td>0.861855</td>\n",
       "      <td>[0.0, 0.803921568627451, 0.7716836734693877, 0...</td>\n",
       "      <td>IndianPines</td>\n",
       "      <td>FastICA</td>\n",
       "      <td>30</td>\n",
       "      <td>mou</td>\n",
       "    </tr>\n",
       "    <tr>\n",
       "      <th>45</th>\n",
       "      <td>IndianPines_FastICA_30_hamida</td>\n",
       "      <td>[[0, 0, 0, 0, 0, 0, 0, 0, 0, 0, 0, 0, 0, 0, 0,...</td>\n",
       "      <td>97.326568</td>\n",
       "      <td>[0.0, 1.0, 0.9986013986013986, 0.9467005076142...</td>\n",
       "      <td>0.969604</td>\n",
       "      <td>[0.0, 1.0, 0.9972067039106145, 0.8987951807228...</td>\n",
       "      <td>IndianPines</td>\n",
       "      <td>FastICA</td>\n",
       "      <td>30</td>\n",
       "      <td>hamida</td>\n",
       "    </tr>\n",
       "    <tr>\n",
       "      <th>46</th>\n",
       "      <td>IndianPines_FastICA_30_li</td>\n",
       "      <td>[[0, 0, 0, 0, 0, 0, 0, 0, 0, 0, 0, 0, 0, 0, 0,...</td>\n",
       "      <td>23.338862</td>\n",
       "      <td>[0.0, 0.0, 0.0, 0.0, 0.0, 0.0, 0.0, 0.0, 0.0, ...</td>\n",
       "      <td>-0.000244</td>\n",
       "      <td>[0.0, 0.0, 0.0, 0.0, 0.0, 0.0, 0.0, 0.0, 0.0, ...</td>\n",
       "      <td>IndianPines</td>\n",
       "      <td>FastICA</td>\n",
       "      <td>30</td>\n",
       "      <td>li</td>\n",
       "    </tr>\n",
       "    <tr>\n",
       "      <th>47</th>\n",
       "      <td>IndianPines_FastICA_30_paoletti</td>\n",
       "      <td>[[0, 0, 0, 0, 0, 0, 0, 0, 0, 0, 0, 0, 0, 0, 0,...</td>\n",
       "      <td>91.013757</td>\n",
       "      <td>[0.0, 0.9069767441860465, 0.9164222873900293, ...</td>\n",
       "      <td>0.897808</td>\n",
       "      <td>[0.0, 0.8297872340425532, 0.8457374830852503, ...</td>\n",
       "      <td>IndianPines</td>\n",
       "      <td>FastICA</td>\n",
       "      <td>30</td>\n",
       "      <td>paoletti</td>\n",
       "    </tr>\n",
       "  </tbody>\n",
       "</table>\n",
       "</div>"
      ],
      "text/plain": [
       "                         Experiment  \\\n",
       "0                 Salinas_PCA_8_mou   \n",
       "1              Salinas_PCA_8_hamida   \n",
       "2                  Salinas_PCA_8_li   \n",
       "3            Salinas_PCA_8_paoletti   \n",
       "4                Salinas_PCA_15_mou   \n",
       "5             Salinas_PCA_15_hamida   \n",
       "6                 Salinas_PCA_15_li   \n",
       "7           Salinas_PCA_15_paoletti   \n",
       "8                Salinas_PCA_30_mou   \n",
       "9             Salinas_PCA_30_hamida   \n",
       "10                Salinas_PCA_30_li   \n",
       "11          Salinas_PCA_30_paoletti   \n",
       "12            Salinas_FastICA_8_mou   \n",
       "13         Salinas_FastICA_8_hamida   \n",
       "14             Salinas_FastICA_8_li   \n",
       "15       Salinas_FastICA_8_paoletti   \n",
       "16           Salinas_FastICA_15_mou   \n",
       "17        Salinas_FastICA_15_hamida   \n",
       "18            Salinas_FastICA_15_li   \n",
       "19      Salinas_FastICA_15_paoletti   \n",
       "20           Salinas_FastICA_30_mou   \n",
       "21        Salinas_FastICA_30_hamida   \n",
       "22            Salinas_FastICA_30_li   \n",
       "23      Salinas_FastICA_30_paoletti   \n",
       "24            IndianPines_PCA_8_mou   \n",
       "25         IndianPines_PCA_8_hamida   \n",
       "26             IndianPines_PCA_8_li   \n",
       "27       IndianPines_PCA_8_paoletti   \n",
       "28           IndianPines_PCA_15_mou   \n",
       "29        IndianPines_PCA_15_hamida   \n",
       "30            IndianPines_PCA_15_li   \n",
       "31      IndianPines_PCA_15_paoletti   \n",
       "32           IndianPines_PCA_30_mou   \n",
       "33        IndianPines_PCA_30_hamida   \n",
       "34            IndianPines_PCA_30_li   \n",
       "35      IndianPines_PCA_30_paoletti   \n",
       "36        IndianPines_FastICA_8_mou   \n",
       "37     IndianPines_FastICA_8_hamida   \n",
       "38         IndianPines_FastICA_8_li   \n",
       "39   IndianPines_FastICA_8_paoletti   \n",
       "40       IndianPines_FastICA_15_mou   \n",
       "41    IndianPines_FastICA_15_hamida   \n",
       "42        IndianPines_FastICA_15_li   \n",
       "43  IndianPines_FastICA_15_paoletti   \n",
       "44       IndianPines_FastICA_30_mou   \n",
       "45    IndianPines_FastICA_30_hamida   \n",
       "46        IndianPines_FastICA_30_li   \n",
       "47  IndianPines_FastICA_30_paoletti   \n",
       "\n",
       "                                     Confusion matrix   Accuracy  \\\n",
       "0   [[0, 0, 0, 0, 0, 0, 0, 0, 0, 0, 0, 0, 0, 0, 0,...  87.442960   \n",
       "1   [[0, 0, 0, 0, 0, 0, 0, 0, 0, 0, 0, 0, 0, 0, 0,...  92.939090   \n",
       "2   [[0, 0, 0, 0, 0, 0, 0, 0, 0, 0, 0, 0, 0, 0, 0,...  80.539695   \n",
       "3   [[0, 0, 0, 0, 0, 0, 0, 0, 0, 0, 0, 0, 0, 0, 0,...  85.946535   \n",
       "4   [[0, 0, 0, 0, 0, 0, 0, 0, 0, 0, 0, 0, 0, 0, 0,...  88.671507   \n",
       "5   [[0, 0, 0, 0, 0, 0, 0, 0, 0, 0, 0, 0, 0, 0, 0,...  90.936467   \n",
       "6   [[0, 0, 0, 0, 0, 0, 0, 0, 0, 0, 0, 0, 0, 0, 0,...  94.962035   \n",
       "7   [[0, 0, 0, 0, 0, 0, 0, 0, 0, 0, 0, 0, 0, 0, 0,...  90.210423   \n",
       "8   [[0, 0, 0, 0, 0, 0, 0, 0, 0, 0, 0, 0, 0, 0, 0,...  88.869183   \n",
       "9   [[0, 0, 0, 0, 0, 0, 0, 0, 0, 0, 0, 0, 0, 0, 0,...  95.410963   \n",
       "10  [[0, 0, 0, 0, 0, 0, 0, 0, 0, 0, 0, 0, 0, 0, 0,...  95.128305   \n",
       "11  [[0, 0, 0, 0, 0, 0, 0, 0, 0, 0, 0, 0, 0, 0, 0,...  87.381995   \n",
       "12  [[0, 0, 0, 0, 0, 0, 0, 0, 0, 0, 0, 0, 0, 0, 0,...  92.552975   \n",
       "13  [[0, 0, 0, 0, 0, 0, 0, 0, 0, 0, 0, 0, 0, 0, 0,...  94.771749   \n",
       "14  [[0, 0, 0, 0, 0, 0, 0, 0, 0, 0, 0, 0, 0, 0, 0,...  94.649818   \n",
       "15  [[0, 0, 0, 0, 0, 0, 0, 0, 0, 0, 0, 0, 0, 0, 0,...  93.982893   \n",
       "16  [[0, 0, 0, 0, 0, 0, 0, 0, 0, 0, 0, 0, 0, 0, 0,...  91.797373   \n",
       "17  [[0, 0, 0, 0, 0, 0, 0, 0, 0, 0, 0, 0, 0, 0, 0,...  20.512110   \n",
       "18  [[0, 0, 0, 0, 0, 0, 0, 0, 0, 0, 0, 0, 0, 0, 0,...  20.512110   \n",
       "19  [[0, 0, 0, 0, 0, 0, 0, 0, 0, 0, 0, 0, 0, 0, 0,...  96.754051   \n",
       "20  [[0, 0, 0, 0, 0, 0, 0, 0, 0, 0, 0, 0, 0, 0, 0,...  20.512110   \n",
       "21  [[0, 0, 0, 0, 0, 0, 0, 0, 0, 0, 0, 0, 0, 0, 0,...  20.512110   \n",
       "22  [[0, 0, 0, 0, 0, 0, 0, 0, 0, 0, 0, 0, 0, 0, 0,...  20.512110   \n",
       "23  [[0, 0, 0, 0, 0, 0, 0, 0, 0, 0, 0, 0, 0, 0, 0,...  93.585693   \n",
       "24  [[0, 0, 0, 0, 0, 0, 0, 0, 0, 0, 0, 0, 0, 0, 0,...  67.307692   \n",
       "25  [[0, 0, 0, 0, 0, 0, 0, 0, 0, 0, 0, 0, 0, 0, 0,...  93.628647   \n",
       "26  [[0, 0, 0, 0, 0, 0, 0, 0, 0, 0, 0, 0, 0, 0, 0,...  90.623475   \n",
       "27  [[0, 0, 0, 0, 0, 0, 0, 0, 0, 0, 0, 0, 0, 0, 0,...  63.508635   \n",
       "28  [[0, 0, 0, 0, 0, 0, 0, 0, 0, 0, 0, 0, 0, 0, 0,...  74.817055   \n",
       "29  [[0, 0, 0, 0, 0, 0, 0, 0, 0, 0, 0, 0, 0, 0, 0,...  96.770417   \n",
       "30  [[0, 0, 0, 0, 0, 0, 0, 0, 0, 0, 0, 0, 0, 0, 0,...  89.511172   \n",
       "31  [[0, 0, 0, 0, 0, 0, 0, 0, 0, 0, 0, 0, 0, 0, 0,...  63.245195   \n",
       "32  [[0, 0, 0, 0, 0, 0, 0, 0, 0, 0, 0, 0, 0, 0, 0,...  64.572153   \n",
       "33  [[0, 0, 0, 0, 0, 0, 0, 0, 0, 0, 0, 0, 0, 0, 0,...  96.311835   \n",
       "34  [[0, 0, 0, 0, 0, 0, 0, 0, 0, 0, 0, 0, 0, 0, 0,...  89.657528   \n",
       "35  [[0, 0, 0, 0, 0, 0, 0, 0, 0, 0, 0, 0, 0, 0, 0,...  67.831008   \n",
       "36  [[0, 0, 0, 0, 0, 0, 0, 0, 0, 0, 0, 0, 0, 0, 0,...  84.203337   \n",
       "37  [[0, 0, 0, 0, 0, 0, 0, 0, 0, 0, 0, 0, 0, 0, 0,...  95.101961   \n",
       "38  [[0, 0, 0, 0, 0, 0, 0, 0, 0, 0, 0, 0, 0, 0, 0,...  63.918431   \n",
       "39  [[0, 0, 0, 0, 0, 0, 0, 0, 0, 0, 0, 0, 0, 0, 0,...  91.882135   \n",
       "40  [[0, 0, 0, 0, 0, 0, 0, 0, 0, 0, 0, 0, 0, 0, 0,...  92.532214   \n",
       "41  [[0, 0, 0, 0, 0, 0, 0, 0, 0, 0, 0, 0, 0, 0, 0,...  96.653332   \n",
       "42  [[0, 0, 0, 0, 0, 0, 0, 0, 0, 0, 0, 0, 0, 0, 0,...  97.346083   \n",
       "43  [[0, 0, 0, 0, 0, 0, 0, 0, 0, 0, 0, 0, 0, 0, 0,...  95.902039   \n",
       "44  [[0, 0, 0, 0, 0, 0, 0, 0, 0, 0, 0, 0, 0, 0, 0,...  87.881745   \n",
       "45  [[0, 0, 0, 0, 0, 0, 0, 0, 0, 0, 0, 0, 0, 0, 0,...  97.326568   \n",
       "46  [[0, 0, 0, 0, 0, 0, 0, 0, 0, 0, 0, 0, 0, 0, 0,...  23.338862   \n",
       "47  [[0, 0, 0, 0, 0, 0, 0, 0, 0, 0, 0, 0, 0, 0, 0,...  91.013757   \n",
       "\n",
       "                                            F1 scores     Kappa  \\\n",
       "0   [0.0, 0.9636504253673627, 0.9913136442603234, ...  0.860648   \n",
       "1   [0.0, 0.9744767738642164, 0.9993294890706719, ...  0.921351   \n",
       "2   [0.0, 0.9529810954920019, 0.9972187104930468, ...  0.783730   \n",
       "3   [0.0, 0.8724862888482633, 0.927277953434895, 0...  0.843572   \n",
       "4   [0.0, 0.9678910865656306, 0.9937157373980479, ...  0.874224   \n",
       "5   [0.0, 0.9737980157720681, 0.99892530897367, 0....  0.899849   \n",
       "6   [0.0, 0.9757838388988019, 1.0, 0.9992406985573...  0.944063   \n",
       "7   [0.0, 0.8605595667870036, 0.9199426111908178, ...  0.891155   \n",
       "8   [0.0, 0.960951642099819, 0.9895805503606733, 0...  0.876249   \n",
       "9   [0.0, 0.9757838388988019, 1.0, 0.9977197871801...  0.949015   \n",
       "10  [0.0, 0.9757838388988019, 1.0, 0.9987332151000...  0.945837   \n",
       "11  [0.0, 0.9044555634977365, 0.9539492045771699, ...  0.860044   \n",
       "12  [0.0, 0.9755226925038246, 0.9990615363989811, ...  0.917376   \n",
       "13  [0.0, 0.9757838388988019, 0.9997316876844647, ...  0.941950   \n",
       "14  [0.0, 0.9757838388988019, 0.9998657898268689, ...  0.940519   \n",
       "15  [0.0, 0.9757838388988019, 0.9993289491343443, ...  0.933149   \n",
       "16  [0.0, 0.9757838388988019, 1.0, 0.9740488788107...  0.908822   \n",
       "17  [0.0, 0.0, 0.0, 0.0, 0.0, 0.0, 0.0, 0.0, 0.345...  0.001834   \n",
       "18  [0.0, 0.0, 0.0, 0.0, 0.0, 0.0, 0.0, 0.0, 0.345...  0.001808   \n",
       "19  [0.0, 0.9757838388988019, 1.0, 0.9984794728839...  0.963922   \n",
       "20  [0.0, 0.0, 0.0, 0.0, 0.0, 0.0, 0.0, 0.0, 0.345...  0.001808   \n",
       "21  [0.0, 0.0, 0.0, 0.0, 0.0, 0.0, 0.0, 0.0, 0.345...  0.001808   \n",
       "22  [0.0, 0.0, 0.0, 0.0, 0.0, 0.0, 0.0, 0.0, 0.345...  0.001808   \n",
       "23  [0.0, 0.9655704008221994, 0.9959882321476331, ...  0.928687   \n",
       "24  [0.0, 0.2909090909090909, 0.5605331358756016, ...  0.622179   \n",
       "25  [0.0, 0.9292929292929293, 0.9295470884255931, ...  0.927505   \n",
       "26  [0.0, 0.989010989010989, 0.8135461268976255, 0...  0.893155   \n",
       "27  [0.0, 0.5352112676056338, 0.48417132216014896,...  0.578225   \n",
       "28  [0.0, 0.0, 0.7592717464598786, 0.6723300970873...  0.713640   \n",
       "29  [0.0, 1.0, 0.9890883491728265, 0.9436352121595...  0.963272   \n",
       "30  [0.0, 0.989010989010989, 0.8579525327665604, 0...  0.880756   \n",
       "31  [0.0, 0.32142857142857145, 0.5383149065955013,...  0.575938   \n",
       "32  [0.0, 0.0, 0.5655509065550907, 0.4325767690253...  0.591337   \n",
       "33  [0.0, 1.0, 0.9767282683093771, 0.9064748201438...  0.958057   \n",
       "34  [0.0, 1.0, 0.8419847328244274, 0.8488160291438...  0.882700   \n",
       "35  [0.0, 0.23076923076923078, 0.5650056200824278,...  0.631030   \n",
       "36  [0.0, 0.6197183098591549, 0.8457993619283942, ...  0.819197   \n",
       "37  [0.0, 0.9777777777777777, 0.9620951068228808, ...  0.944369   \n",
       "38  [0.0, 0.5294117647058824, 0.5104166666666666, ...  0.584420   \n",
       "39  [0.0, 0.8735632183908046, 0.9395509499136442, ...  0.907657   \n",
       "40  [0.0, 0.989010989010989, 0.9219219219219219, 0...  0.915046   \n",
       "41  [0.0, 1.0, 0.9767441860465116, 0.9361430395913...  0.961978   \n",
       "42  [0.0, 1.0, 0.9964862965565706, 0.9481012658227...  0.969829   \n",
       "43  [0.0, 1.0, 0.9707231040564374, 0.9306431273644...  0.953385   \n",
       "44  [0.0, 0.8913043478260869, 0.871130309575234, 0...  0.861855   \n",
       "45  [0.0, 1.0, 0.9986013986013986, 0.9467005076142...  0.969604   \n",
       "46  [0.0, 0.0, 0.0, 0.0, 0.0, 0.0, 0.0, 0.0, 0.0, ... -0.000244   \n",
       "47  [0.0, 0.9069767441860465, 0.9164222873900293, ...  0.897808   \n",
       "\n",
       "                                                  IOU      Dataset DR Method  \\\n",
       "0   [0.0, 0.9298507462686567, 0.9827768945416004, ...      Salinas       PCA   \n",
       "1   [0.0, 0.9502239920358387, 0.9986598767086572, ...      Salinas       PCA   \n",
       "2   [0.0, 0.9101851851851852, 0.994452849218356, 0...      Salinas       PCA   \n",
       "3   [0.0, 0.7738143494122416, 0.8644158628081458, ...      Salinas       PCA   \n",
       "4   [0.0, 0.9377799900447984, 0.9875099654530959, ...      Salinas       PCA   \n",
       "5   [0.0, 0.9489340604858701, 0.9978529253891573, ...      Salinas       PCA   \n",
       "6   [0.0, 0.9527127924340468, 1.0, 0.9984825493171...      Salinas       PCA   \n",
       "7   [0.0, 0.7552475247524753, 0.8517534537725824, ...      Salinas       PCA   \n",
       "8   [0.0, 0.9248382279741165, 0.9793759915388683, ...      Salinas       PCA   \n",
       "9   [0.0, 0.9527127924340468, 1.0, 0.9954499494438...      Salinas       PCA   \n",
       "10  [0.0, 0.9527127924340468, 1.0, 0.9974696356275...      Salinas       PCA   \n",
       "11  [0.0, 0.82557633753806, 0.9119530416221985, 0....      Salinas       PCA   \n",
       "12  [0.0, 0.9522150323544052, 0.998124832574337, 0...      Salinas   FastICA   \n",
       "13  [0.0, 0.9527127924340468, 0.9994635193133047, ...      Salinas   FastICA   \n",
       "14  [0.0, 0.9527127924340468, 0.9997316156736447, ...      Salinas   FastICA   \n",
       "15  [0.0, 0.9527127924340468, 0.9986587982832618, ...      Salinas   FastICA   \n",
       "16  [0.0, 0.9527127924340468, 1.0, 0.9494106090373...      Salinas   FastICA   \n",
       "17  [0.0, 0.0, 0.0, 0.0, 0.0, 0.0, 0.0, 0.0, 0.209...      Salinas   FastICA   \n",
       "18  [0.0, 0.0, 0.0, 0.0, 0.0, 0.0, 0.0, 0.0, 0.209...      Salinas   FastICA   \n",
       "19  [0.0, 0.9527127924340468, 1.0, 0.9969635627530...      Salinas   FastICA   \n",
       "20  [0.0, 0.0, 0.0, 0.0, 0.0, 0.0, 0.0, 0.0, 0.209...      Salinas   FastICA   \n",
       "21  [0.0, 0.0, 0.0, 0.0, 0.0, 0.0, 0.0, 0.0, 0.209...      Salinas   FastICA   \n",
       "22  [0.0, 0.0, 0.0, 0.0, 0.0, 0.0, 0.0, 0.0, 0.209...      Salinas   FastICA   \n",
       "23  [0.0, 0.9334326875310481, 0.9920085242408098, ...      Salinas   FastICA   \n",
       "24  [0.0, 0.1702127659574468, 0.38940329218106995,...  IndianPines       PCA   \n",
       "25  [0.0, 0.8679245283018868, 0.8683680322364002, ...  IndianPines       PCA   \n",
       "26  [0.0, 0.9782608695652174, 0.6856955380577427, ...  IndianPines       PCA   \n",
       "27  [0.0, 0.36538461538461536, 0.3194103194103194,...  IndianPines       PCA   \n",
       "28  [0.0, 0.0, 0.6119565217391304, 0.5063985374771...  IndianPines       PCA   \n",
       "29  [0.0, 1.0, 0.9784122562674095, 0.8932853717026...  IndianPines       PCA   \n",
       "30  [0.0, 0.9782608695652174, 0.7512406947890818, ...  IndianPines       PCA   \n",
       "31  [0.0, 0.19148936170212766, 0.368283776734481, ...  IndianPines       PCA   \n",
       "32  [0.0, 0.0, 0.394263490520175, 0.27597955706984...  IndianPines       PCA   \n",
       "33  [0.0, 1.0, 0.954515050167224, 0.82894736842105...  IndianPines       PCA   \n",
       "34  [0.0, 1.0, 0.7270929466051417, 0.7373417721518...  IndianPines       PCA   \n",
       "35  [0.0, 0.13043478260869565, 0.393733681462141, ...  IndianPines       PCA   \n",
       "36  [0.0, 0.4489795918367347, 0.7328009828009828, ...  IndianPines   FastICA   \n",
       "37  [0.0, 0.9565217391304348, 0.9269588313413014, ...  IndianPines   FastICA   \n",
       "38  [0.0, 0.36, 0.34265734265734266, 0.26204238921...  IndianPines   FastICA   \n",
       "39  [0.0, 0.7755102040816326, 0.8859934853420195, ...  IndianPines   FastICA   \n",
       "40  [0.0, 0.9782608695652174, 0.8551532033426184, ...  IndianPines   FastICA   \n",
       "41  [0.0, 1.0, 0.9545454545454546, 0.8799519807923...  IndianPines   FastICA   \n",
       "42  [0.0, 1.0, 0.9929971988795518, 0.9013237063778...  IndianPines   FastICA   \n",
       "43  [0.0, 1.0, 0.9431117203564084, 0.8702830188679...  IndianPines   FastICA   \n",
       "44  [0.0, 0.803921568627451, 0.7716836734693877, 0...  IndianPines   FastICA   \n",
       "45  [0.0, 1.0, 0.9972067039106145, 0.8987951807228...  IndianPines   FastICA   \n",
       "46  [0.0, 0.0, 0.0, 0.0, 0.0, 0.0, 0.0, 0.0, 0.0, ...  IndianPines   FastICA   \n",
       "47  [0.0, 0.8297872340425532, 0.8457374830852503, ...  IndianPines   FastICA   \n",
       "\n",
       "    N Components     Model  \n",
       "0              8       mou  \n",
       "1              8    hamida  \n",
       "2              8        li  \n",
       "3              8  paoletti  \n",
       "4             15       mou  \n",
       "5             15    hamida  \n",
       "6             15        li  \n",
       "7             15  paoletti  \n",
       "8             30       mou  \n",
       "9             30    hamida  \n",
       "10            30        li  \n",
       "11            30  paoletti  \n",
       "12             8       mou  \n",
       "13             8    hamida  \n",
       "14             8        li  \n",
       "15             8  paoletti  \n",
       "16            15       mou  \n",
       "17            15    hamida  \n",
       "18            15        li  \n",
       "19            15  paoletti  \n",
       "20            30       mou  \n",
       "21            30    hamida  \n",
       "22            30        li  \n",
       "23            30  paoletti  \n",
       "24             8       mou  \n",
       "25             8    hamida  \n",
       "26             8        li  \n",
       "27             8  paoletti  \n",
       "28            15       mou  \n",
       "29            15    hamida  \n",
       "30            15        li  \n",
       "31            15  paoletti  \n",
       "32            30       mou  \n",
       "33            30    hamida  \n",
       "34            30        li  \n",
       "35            30  paoletti  \n",
       "36             8       mou  \n",
       "37             8    hamida  \n",
       "38             8        li  \n",
       "39             8  paoletti  \n",
       "40            15       mou  \n",
       "41            15    hamida  \n",
       "42            15        li  \n",
       "43            15  paoletti  \n",
       "44            30       mou  \n",
       "45            30    hamida  \n",
       "46            30        li  \n",
       "47            30  paoletti  "
      ]
     },
     "execution_count": 16,
     "metadata": {},
     "output_type": "execute_result"
    }
   ],
   "source": [
    "import pandas as pd\n",
    "import numpy as np\n",
    "import pickle\n",
    "import matplotlib.pyplot as plt\n",
    "import plotly.graph_objs as go\n",
    "import plotly.express as px\n",
    "\n",
    "dict_results = {}\n",
    "for ds in ['Salinas', 'IndianPines']:\n",
    "    for dr_method in ['PCA', 'FastICA']:\n",
    "        for n_components in [8, 15, 30]:\n",
    "            for model in ['mou', 'hamida', 'li', 'paoletti']:\n",
    "                filename = f'{ds}_{dr_method}_{n_components}_{model}_30epochs.csv'\n",
    "                print('\\n' + filename)\n",
    "\n",
    "                try:\n",
    "                    df = pd.read_csv(f'../Results/Not Balanced/{model}/{filename}', index_col=0)\n",
    "                    # df = pd.read_csv(f'../Results/Class Balancing/{model}/{filename}', index_col=0)\n",
    "\n",
    "                    print('Loaded.')\n",
    "                    try:\n",
    "                        df['Confusion matrix'] = df['Confusion matrix'].apply(lambda x: pickle.loads(eval(x)))\n",
    "                        df['F1 scores'] = df['F1 scores'].apply(lambda x: pickle.loads(eval(x)))\n",
    "                        df['IOU'] = df['IOU'].apply(lambda x: pickle.loads(eval(x)))\n",
    "                        dict_results[f'{ds}_{dr_method}_{n_components}_{model}'] = df\n",
    "                        print('Columns unpickled.')\n",
    "                    except:\n",
    "                        print(\"Problem with pickled columns\")\n",
    "                except:\n",
    "                    print(\"Couldn't find CSV file.\")\n",
    "                \n",
    "dfs = []\n",
    "for key, value in dict_results.items():\n",
    "    df = pd.DataFrame(value)\n",
    "    df.insert(0, 'Experiment', key)  # Inserting the 'Method' column as the first column\n",
    "    dfs.append(df)\n",
    "\n",
    "# Concatenate all DataFrames\n",
    "df_results = pd.concat(dfs, ignore_index=True)\n",
    "df_results['Dataset'] = df_results['Experiment'].apply(lambda x: x.split('_')[0])\n",
    "df_results['DR Method'] = df_results['Experiment'].apply(lambda x: x.split('_')[1])\n",
    "df_results['N Components'] = df_results['Experiment'].apply(lambda x: int(x.split('_')[2]))\n",
    "df_results['Model'] = df_results['Experiment'].apply(lambda x: '_'.join(x.split('_')[3:]))\n",
    "df_results"
   ]
  },
  {
   "cell_type": "code",
   "execution_count": 17,
   "metadata": {},
   "outputs": [],
   "source": [
    "import pickle \n",
    "df_to_save = df_results.copy()\n",
    "df_to_save['Confusion matrix'] = df_to_save['Confusion matrix'].apply(lambda x: pickle.dumps(x))\n",
    "df_to_save['F1 scores'] = df_to_save['F1 scores'].apply(lambda x: pickle.dumps(x))\n",
    "df_to_save['IOU'] = df_to_save['IOU'].apply(lambda x: pickle.dumps(x))\n",
    "df_to_save.to_csv('exp_results.csv')"
   ]
  },
  {
   "cell_type": "code",
   "execution_count": 119,
   "metadata": {},
   "outputs": [],
   "source": [
    "LABELS = {\n",
    "    \"Salinas\": [\n",
    "        \"Undefined\",\n",
    "        \"Brocoli_green_weeds_1\",\n",
    "        \"Brocoli_green_weeds_2\",\n",
    "        \"Fallow\",\n",
    "        \"Fallow_rough_plow\",\n",
    "        \"Fallow_smooth\",\n",
    "        \"Stubble\",\n",
    "        \"Celery\",\n",
    "        \"Grapes_untrained\",\n",
    "        \"Soil_vinyard_develop\",\n",
    "        \"Corn_senesced_green_weeds\",\n",
    "        \"Lettuce_romaine_4wk\",\n",
    "        \"Lettuce_romaine_5wk\",\n",
    "        \"Lettuce_romaine_6wk\",\n",
    "        \"Lettuce_romaine_7wk\",\n",
    "        \"Vinyard_untrained\",\n",
    "        \"Vinyard_vertical_trellis\",\n",
    "    ],\n",
    "\n",
    "    'IndianPines': [\n",
    "        \"Undefined\",\n",
    "        \"Alfalfa\",\n",
    "        \"Corn-notill\",\n",
    "        \"Corn-mintill\",\n",
    "        \"Corn\",\n",
    "        \"Grass-pasture\",\n",
    "        \"Grass-trees\",\n",
    "        \"Grass-pasture-mowed\",\n",
    "        \"Hay-windrowed\",\n",
    "        \"Oats\",\n",
    "        \"Soybean-notill\",\n",
    "        \"Soybean-mintill\",\n",
    "        \"Soybean-clean\",\n",
    "        \"Wheat\",\n",
    "        \"Woods\",\n",
    "        \"Buildings-Grass-Trees-Drives\",\n",
    "        \"Stone-Steel-Towers\",\n",
    "    ]}"
   ]
  },
  {
   "cell_type": "code",
   "execution_count": 120,
   "metadata": {},
   "outputs": [],
   "source": [
    "from plotly.subplots import make_subplots\n",
    "\n",
    "def filter_exp_by_substring(df, substrings):\n",
    "    # Check if any substrings are present in the 'Method' column\n",
    "    mask = df['Experiment'].apply(lambda x: any(substring in x for substring in substrings))\n",
    "    filtered_df = df[mask]\n",
    "    return filtered_df\n",
    "\n",
    "# def show_confusion_matrix(confusion_matrix, labels, normalize=False):\n",
    "#     if normalize:\n",
    "#         confusion_matrix = normalize_confusion_matrix(confusion_matrix)\n",
    "\n",
    "#     fig = px.imshow(confusion_matrix, text_auto=True, \n",
    "#                     labels=dict(x='Predicted labels', y='Actual labels', color='# of classification'),\n",
    "#                     x = labels,\n",
    "#                     y = labels,\n",
    "#                     height=700\n",
    "#                     )\n",
    "#     fig.update_xaxes(tickangle=45, type='category')\n",
    "#     fig.show()\n",
    "\n",
    "def show_confusion_matrix(confusion_matrix, labels, normalize=False):\n",
    "    if normalize:\n",
    "        confusion_matrix = normalize_confusion_matrix(confusion_matrix)\n",
    "\n",
    "    fig = go.Figure()\n",
    "\n",
    "    fig.add_trace(\n",
    "        go.Heatmap(z=confusion_matrix,  # Reverse the order of rows\n",
    "                   colorscale='Blues', \n",
    "                   showscale=False,\n",
    "                   x=labels, \n",
    "                   y=labels,  # Reverse the order of labels for y-axis\n",
    "                   zmin=0, \n",
    "                   zmax=1 if normalize else None,\n",
    "                   colorbar=dict(title='Normalized' if normalize else 'Counts'))\n",
    "    )\n",
    "\n",
    "    fig.update_xaxes(title='Predicted labels', tickangle=45, type='category')\n",
    "    fig.update_yaxes(title='Actual labels', type='category')\n",
    "\n",
    "    fig.update_layout(\n",
    "        title='Confusion Matrix',\n",
    "        height=800,\n",
    "        width=800,\n",
    "        showlegend=False\n",
    "    )\n",
    "\n",
    "    fig.show()\n",
    "\n",
    "import plotly.graph_objects as go\n",
    "from plotly.subplots import make_subplots\n",
    "\n",
    "def show_confusion_matrices(df_results, exps, labels, normalize=False):\n",
    "    confusion_matrices = []\n",
    "    for exp in exps:\n",
    "        confusion_matrices.append(df_results[df_results['Experiment'] == exp]['Confusion matrix'].values[0])\n",
    "\n",
    "    fig = make_subplots(rows=2, cols=2, subplot_titles=exps)\n",
    "\n",
    "    for i, (confusion_matrix, label) in enumerate(zip(confusion_matrices, labels)):\n",
    "        if normalize:\n",
    "            confusion_matrix = normalize_confusion_matrix(confusion_matrix)\n",
    "\n",
    "        row = i // 2 + 1\n",
    "        col = i % 2 + 1\n",
    "\n",
    "        fig.add_trace(\n",
    "            go.Heatmap(z=confusion_matrix, colorscale='Blues', showscale=False,\n",
    "                       x=labels, y=labels, zmin=0, zmax=1 if normalize else None,\n",
    "                       colorbar=dict(title='Normalized' if normalize else 'Counts')),\n",
    "            row=row, col=col\n",
    "        )\n",
    "\n",
    "        # fig.update_xaxes(tickangle=45, type='category', row=row, col=col)\n",
    "        # if col == 2:  # Only update y-axis for the second subplot\n",
    "        #     fig.update_yaxes(showticklabels=False, row=row, col=col)\n",
    "\n",
    "        if row == 2:\n",
    "            fig.update_xaxes(title='Predicted labels', tickangle=45, type='category', row=row, col=col)\n",
    "        else:\n",
    "            fig.update_xaxes(showticklabels=False, row=row, col=col)\n",
    "        \n",
    "        if col == 1:\n",
    "            fig.update_yaxes(title='Actual labels', type='category', row=row, col=col)\n",
    "        else:\n",
    "            fig.update_yaxes(showticklabels=False, row=row, col=col)\n",
    "    \n",
    "    fig.update_layout(\n",
    "        title='Confusion Matrices',\n",
    "        height=1000,\n",
    "        width=1000,\n",
    "        showlegend=False\n",
    "    )\n",
    "\n",
    "    fig.show()\n",
    "\n",
    "\n",
    "def normalize_confusion_matrix(conf_matrix):\n",
    "    # Sum of true positives for each class (diagonal elements)\n",
    "    # print(conf_matrix)\n",
    "    class_totals = np.sum(conf_matrix, axis=1)\n",
    "    \n",
    "    # Normalize confusion matrix\n",
    "    normalized_conf_matrix = conf_matrix / class_totals[:, np.newaxis]\n",
    "    \n",
    "    return np.round(normalized_conf_matrix, 2)\n",
    "\n",
    "\n",
    "\n",
    "\n",
    "import plotly.graph_objs as go\n",
    "import plotly.express as px\n",
    "\n",
    "def plot_acc_by_model(df):\n",
    "    # Parse 'Experiment' column to extract model information\n",
    "    df['Model'] = df['Experiment'].apply(lambda x: x.split('_')[-1])\n",
    "\n",
    "    # Get unique model names\n",
    "    unique_models = df['Model'].unique()\n",
    "\n",
    "    # Define a color palette with enough colors for all models\n",
    "    colors = px.colors.qualitative.Plotly[:len(unique_models)]\n",
    "\n",
    "    # Create an empty list to store traces\n",
    "    data = []\n",
    "\n",
    "    # Iterate over unique models\n",
    "    for model, color in zip(unique_models, colors):\n",
    "        # Filter DataFrame for the current model\n",
    "        model_data = df[df['Model'] == model]\n",
    "        # model_data = df.loc[df['Model'] == model]\n",
    "\n",
    "        \n",
    "        # Add a trace for the current model\n",
    "        trace = go.Bar(\n",
    "            x=model_data['Experiment'],  # Method names on x-axis\n",
    "            y=model_data['Accuracy'],  # Accuracies on y-axis\n",
    "            name=model,  # Legend name\n",
    "            marker=dict(color=color)  # Assign color\n",
    "        )\n",
    "        \n",
    "        # Append trace to the list\n",
    "        data.append(trace)\n",
    "\n",
    "    # Create a bar graph\n",
    "    fig = go.Figure(data=data)\n",
    "\n",
    "    # Update layout\n",
    "    fig.update_layout(\n",
    "        title='Accuracies of Different Models',\n",
    "        xaxis=dict(title='Experiment'),\n",
    "        yaxis=dict(title='Accuracy (%)', range=[0, 100]),  # Set y-axis range\n",
    "        barmode='group',  # Grouped bars\n",
    "        # template='plotly_white'  # White background template\n",
    "    )\n",
    "\n",
    "    # Show legend\n",
    "    fig.update_layout(showlegend=True)\n",
    "\n",
    "    # Show the plot\n",
    "    fig.show()\n",
    "\n",
    "\n",
    "def plot_grouped_values(df_results, labels, metric):\n",
    "    # Create a list to store traces\n",
    "    traces = []\n",
    "\n",
    "    # Iterate over each experiment\n",
    "    for i, experiment in enumerate(df_results['Experiment']):\n",
    "        # Extract IOU values for the current experiment\n",
    "        experiment_iou = df_results[metric].values[i]\n",
    "        \n",
    "            # Create a bar trace for the current experiment\n",
    "        trace = go.Bar(\n",
    "            x=labels,  # Class labels on x-axis\n",
    "            y=experiment_iou,  # IOU values for the current experiment on y-axis\n",
    "            name=experiment  # Legend name\n",
    "        )\n",
    "        \n",
    "        # Append the trace to the list of traces\n",
    "        traces.append(trace)\n",
    "\n",
    "    # Create a layout\n",
    "    layout = go.Layout(\n",
    "        title=f'{metric} Values by Experiment',\n",
    "        xaxis=dict(title='Class'),\n",
    "        yaxis=dict(title=metric),\n",
    "        barmode='group'  # Grouped bars\n",
    "    )\n",
    "\n",
    "    # Create the figure\n",
    "    fig = go.Figure(data=traces, layout=layout)\n",
    "\n",
    "    # Show the plot\n",
    "    fig.show()\n",
    "\n",
    "\n",
    "def accuracies_by_n_comps(df, dataset, dr_method):\n",
    "    accuracy_df = filter_exp_by_substring(df, [f'{dataset}_{dr_method}_'])[['N Components', 'Model', 'Accuracy']]\n",
    "\n",
    "    # Pivot the DataFrame to have number of components as columns\n",
    "    accuracy_df = accuracy_df.pivot(index='Model', columns='N Components', values='Accuracy')\n",
    "    accuracy_df.__doc__ = f\"Accuracy values in {dataset} using {dr_method}\"\n",
    "    return accuracy_df\n",
    "\n",
    "from scipy.stats import f_oneway\n",
    "from scipy.stats import ttest_ind, ttest_rel\n",
    "\n",
    "def ANOVA_TTest(df_accuracies, transposed=False, describe=False, ind_samples=False):\n",
    "    if transposed:\n",
    "        df_accuracies = df_accuracies.transpose()\n",
    "    \n",
    "    print(df_accuracies)\n",
    "    if describe:\n",
    "        print(df_accuracies.describe().loc[['mean', 'std', 'max']])    \n",
    "\n",
    "    # Perform ANOVA\n",
    "    f_statistic, p_value = f_oneway(*df_accuracies.values)\n",
    "    print(f'ANOVA test -> F-statistic: {f_statistic}, p-value: {p_value}')\n",
    "\n",
    "    if p_value < 0.05:\n",
    "        print(\"The ANOVA test INDICATES that there is a significant difference in accuracies.\")\n",
    "    # else:\n",
    "    #     print(\"The ANOVA test DOES NOT INDICATE a significant difference in accuracies.\")\n",
    "\n",
    "    print('\\nPaired T Tests')\n",
    "\n",
    "    # Perform paired t-tests\n",
    "    found = False\n",
    "    for i in range(len(df_accuracies)):\n",
    "        for j in range(i+1, len(df_accuracies)):\n",
    "            data1 = df_accuracies.iloc[i]\n",
    "            data2 = df_accuracies.iloc[j]\n",
    "            if ind_samples:\n",
    "                t_statistic, p_value = ttest_rel(data1, data2)\n",
    "            else:\n",
    "                t_statistic, p_value = ttest_rel(data1, data2)\n",
    "            print(f\"\\n{df_accuracies.index[i]} vs {df_accuracies.index[j]}: t-statistic = {t_statistic}, p-value = {p_value}\")\n",
    "            if p_value < 0.05:\n",
    "                found = True\n",
    "                if data1.mean() > data2.mean():\n",
    "                    print(f\"THERE IS A SIGNIFICANT DIFFERENCE in accuracies in favor of {df_accuracies.index[i]} over {df_accuracies.index[j]}.\")\n",
    "                else:\n",
    "                    print(f\"THERE IS A SIGNIFICANT DIFFERENCE in accuracies in favor of {df_accuracies.index[j]} over {df_accuracies.index[i]}.\")\n",
    "\n",
    "            # else:\n",
    "                # print(f\"There is NO SIGNIFICANT DIFFERENCE in accuracies between {df_accuracies.index[i]} and {df_accuracies.index[j]}.\")\n",
    "    if not found:\n",
    "        print(\"\\nNo significant difference found with T Tests\")\n",
    "\n",
    "\n",
    "def scores_by_model(df, dataset, dr_method, n_comps, scores):\n",
    "    if scores == 'F1':\n",
    "        scores_df = filter_exp_by_substring(df, [f'{dataset}_{dr_method}_'])[['N Components', 'Model', 'F1 scores']]\n",
    "        scores_df = scores_df.pivot(index='Model', columns='N Components', values='F1 scores')\n",
    "    elif scores == 'IOU':\n",
    "        scores_df = filter_exp_by_substring(df, [f'{dataset}_{dr_method}_'])[['N Components', 'Model', 'IOU']]\n",
    "        scores_df = scores_df.pivot(index='Model', columns='N Components', values='IOU')\n",
    "\n",
    "    scores_df.__doc__ = f\"{scores} scores values in {dataset} using {dr_method}\"\n",
    "\n",
    "    # Flatten the lists into columns\n",
    "    df_flat = pd.concat([scores_df[n_comps], scores_df[n_comps].apply(pd.Series)], axis=1)\n",
    "\n",
    "    # Drop the original column\n",
    "    df_flat.drop(columns=[n_comps], inplace=True)\n",
    "\n",
    "    # Rename the columns\n",
    "    df_flat.columns = [f'Class {i+1}' for i in range(len(df_flat.columns))]\n",
    "    \n",
    "    return df_flat\n"
   ]
  },
  {
   "cell_type": "markdown",
   "metadata": {},
   "source": [
    "## CONFUSION MATRICES"
   ]
  },
  {
   "cell_type": "code",
   "execution_count": 121,
   "metadata": {},
   "outputs": [
    {
     "name": "stderr",
     "output_type": "stream",
     "text": [
      "C:\\Users\\Dell\\AppData\\Local\\Temp\\ipykernel_9284\\742158990.py:105: RuntimeWarning:\n",
      "\n",
      "invalid value encountered in divide\n",
      "\n"
     ]
    },
    {
     "data": {
      "application/vnd.plotly.v1+json": {
       "config": {
        "plotlyServerURL": "https://plot.ly"
       },
       "data": [
        {
         "colorbar": {
          "title": {
           "text": "Normalized"
          }
         },
         "colorscale": [
          [
           0,
           "rgb(247,251,255)"
          ],
          [
           0.125,
           "rgb(222,235,247)"
          ],
          [
           0.25,
           "rgb(198,219,239)"
          ],
          [
           0.375,
           "rgb(158,202,225)"
          ],
          [
           0.5,
           "rgb(107,174,214)"
          ],
          [
           0.625,
           "rgb(66,146,198)"
          ],
          [
           0.75,
           "rgb(33,113,181)"
          ],
          [
           0.875,
           "rgb(8,81,156)"
          ],
          [
           1,
           "rgb(8,48,107)"
          ]
         ],
         "showscale": false,
         "type": "heatmap",
         "x": [
          "Undefined",
          "Brocoli_green_weeds_1",
          "Brocoli_green_weeds_2",
          "Fallow",
          "Fallow_rough_plow",
          "Fallow_smooth",
          "Stubble",
          "Celery",
          "Grapes_untrained",
          "Soil_vinyard_develop",
          "Corn_senesced_green_weeds",
          "Lettuce_romaine_4wk",
          "Lettuce_romaine_5wk",
          "Lettuce_romaine_6wk",
          "Lettuce_romaine_7wk",
          "Vinyard_untrained",
          "Vinyard_vertical_trellis"
         ],
         "xaxis": "x",
         "y": [
          "Undefined",
          "Brocoli_green_weeds_1",
          "Brocoli_green_weeds_2",
          "Fallow",
          "Fallow_rough_plow",
          "Fallow_smooth",
          "Stubble",
          "Celery",
          "Grapes_untrained",
          "Soil_vinyard_develop",
          "Corn_senesced_green_weeds",
          "Lettuce_romaine_4wk",
          "Lettuce_romaine_5wk",
          "Lettuce_romaine_6wk",
          "Lettuce_romaine_7wk",
          "Vinyard_untrained",
          "Vinyard_vertical_trellis"
         ],
         "yaxis": "y",
         "z": [
          [
           null,
           null,
           null,
           null,
           null,
           null,
           null,
           null,
           null,
           null,
           null,
           null,
           null,
           null,
           null,
           null,
           null
          ],
          [
           0.05,
           0.95,
           0,
           0,
           0,
           0,
           0,
           0,
           0,
           0,
           0,
           0,
           0,
           0,
           0,
           0,
           0
          ],
          [
           0,
           0,
           1,
           0,
           0,
           0,
           0,
           0,
           0,
           0,
           0,
           0,
           0,
           0,
           0,
           0,
           0
          ],
          [
           0,
           0,
           0,
           1,
           0,
           0,
           0,
           0,
           0,
           0,
           0,
           0,
           0,
           0,
           0,
           0,
           0
          ],
          [
           0.01,
           0,
           0,
           0,
           0.99,
           0,
           0,
           0,
           0,
           0,
           0,
           0,
           0,
           0,
           0,
           0,
           0
          ],
          [
           0,
           0,
           0,
           0,
           0,
           1,
           0,
           0,
           0,
           0,
           0,
           0,
           0,
           0,
           0,
           0,
           0
          ],
          [
           0.02,
           0,
           0,
           0,
           0,
           0,
           0.98,
           0,
           0,
           0,
           0,
           0,
           0,
           0,
           0,
           0,
           0
          ],
          [
           0.01,
           0,
           0,
           0,
           0,
           0,
           0,
           0.99,
           0,
           0,
           0,
           0,
           0,
           0,
           0,
           0,
           0
          ],
          [
           0.01,
           0,
           0,
           0,
           0,
           0,
           0,
           0,
           0.94,
           0,
           0,
           0,
           0,
           0,
           0,
           0.04,
           0
          ],
          [
           0,
           0,
           0,
           0,
           0,
           0,
           0,
           0,
           0,
           1,
           0,
           0,
           0,
           0,
           0,
           0,
           0
          ],
          [
           0.03,
           0,
           0,
           0,
           0,
           0,
           0,
           0,
           0,
           0,
           0.97,
           0,
           0,
           0,
           0,
           0,
           0
          ],
          [
           0.03,
           0,
           0,
           0,
           0,
           0,
           0,
           0,
           0,
           0,
           0.01,
           0.96,
           0,
           0,
           0,
           0,
           0
          ],
          [
           0.03,
           0,
           0,
           0,
           0,
           0,
           0,
           0,
           0,
           0,
           0,
           0,
           0.97,
           0,
           0,
           0,
           0
          ],
          [
           0.02,
           0,
           0,
           0,
           0,
           0,
           0,
           0,
           0,
           0,
           0,
           0,
           0,
           0.98,
           0,
           0,
           0
          ],
          [
           0.03,
           0,
           0,
           0,
           0,
           0,
           0,
           0,
           0,
           0,
           0,
           0,
           0,
           0,
           0.97,
           0,
           0
          ],
          [
           0.04,
           0,
           0,
           0,
           0,
           0,
           0,
           0,
           0.13,
           0,
           0,
           0,
           0,
           0,
           0,
           0.83,
           0
          ],
          [
           0.14,
           0,
           0,
           0,
           0,
           0,
           0,
           0,
           0,
           0,
           0,
           0,
           0,
           0,
           0,
           0,
           0.86
          ]
         ],
         "zmax": 1,
         "zmin": 0
        },
        {
         "colorbar": {
          "title": {
           "text": "Normalized"
          }
         },
         "colorscale": [
          [
           0,
           "rgb(247,251,255)"
          ],
          [
           0.125,
           "rgb(222,235,247)"
          ],
          [
           0.25,
           "rgb(198,219,239)"
          ],
          [
           0.375,
           "rgb(158,202,225)"
          ],
          [
           0.5,
           "rgb(107,174,214)"
          ],
          [
           0.625,
           "rgb(66,146,198)"
          ],
          [
           0.75,
           "rgb(33,113,181)"
          ],
          [
           0.875,
           "rgb(8,81,156)"
          ],
          [
           1,
           "rgb(8,48,107)"
          ]
         ],
         "showscale": false,
         "type": "heatmap",
         "x": [
          "Undefined",
          "Brocoli_green_weeds_1",
          "Brocoli_green_weeds_2",
          "Fallow",
          "Fallow_rough_plow",
          "Fallow_smooth",
          "Stubble",
          "Celery",
          "Grapes_untrained",
          "Soil_vinyard_develop",
          "Corn_senesced_green_weeds",
          "Lettuce_romaine_4wk",
          "Lettuce_romaine_5wk",
          "Lettuce_romaine_6wk",
          "Lettuce_romaine_7wk",
          "Vinyard_untrained",
          "Vinyard_vertical_trellis"
         ],
         "xaxis": "x2",
         "y": [
          "Undefined",
          "Brocoli_green_weeds_1",
          "Brocoli_green_weeds_2",
          "Fallow",
          "Fallow_rough_plow",
          "Fallow_smooth",
          "Stubble",
          "Celery",
          "Grapes_untrained",
          "Soil_vinyard_develop",
          "Corn_senesced_green_weeds",
          "Lettuce_romaine_4wk",
          "Lettuce_romaine_5wk",
          "Lettuce_romaine_6wk",
          "Lettuce_romaine_7wk",
          "Vinyard_untrained",
          "Vinyard_vertical_trellis"
         ],
         "yaxis": "y2",
         "z": [
          [
           null,
           null,
           null,
           null,
           null,
           null,
           null,
           null,
           null,
           null,
           null,
           null,
           null,
           null,
           null,
           null,
           null
          ],
          [
           0.05,
           0.95,
           0,
           0,
           0,
           0,
           0,
           0,
           0,
           0,
           0,
           0,
           0,
           0,
           0,
           0,
           0
          ],
          [
           0,
           0,
           1,
           0,
           0,
           0,
           0,
           0,
           0,
           0,
           0,
           0,
           0,
           0,
           0,
           0,
           0
          ],
          [
           0,
           0,
           0,
           1,
           0,
           0,
           0,
           0,
           0,
           0,
           0,
           0,
           0,
           0,
           0,
           0,
           0
          ],
          [
           0.01,
           0,
           0,
           0,
           0.99,
           0,
           0,
           0,
           0,
           0,
           0,
           0,
           0,
           0,
           0,
           0,
           0
          ],
          [
           0,
           0,
           0,
           0,
           0,
           1,
           0,
           0,
           0,
           0,
           0,
           0,
           0,
           0,
           0,
           0,
           0
          ],
          [
           0.02,
           0,
           0,
           0,
           0,
           0,
           0.98,
           0,
           0,
           0,
           0,
           0,
           0,
           0,
           0,
           0,
           0
          ],
          [
           0.01,
           0,
           0,
           0,
           0,
           0,
           0,
           0.99,
           0,
           0,
           0,
           0,
           0,
           0,
           0,
           0,
           0
          ],
          [
           0.01,
           0,
           0,
           0,
           0,
           0,
           0,
           0,
           0.93,
           0,
           0,
           0,
           0,
           0,
           0,
           0.05,
           0
          ],
          [
           0,
           0,
           0,
           0,
           0,
           0,
           0,
           0,
           0,
           0.99,
           0.01,
           0,
           0,
           0,
           0,
           0,
           0
          ],
          [
           0.03,
           0,
           0,
           0,
           0,
           0,
           0,
           0,
           0,
           0,
           0.97,
           0,
           0,
           0,
           0,
           0,
           0
          ],
          [
           0.03,
           0,
           0,
           0,
           0,
           0,
           0,
           0,
           0,
           0,
           0.03,
           0.94,
           0,
           0,
           0,
           0,
           0
          ],
          [
           0.03,
           0,
           0,
           0,
           0,
           0,
           0,
           0,
           0,
           0,
           0,
           0,
           0.97,
           0,
           0,
           0,
           0
          ],
          [
           0.02,
           0,
           0,
           0,
           0,
           0,
           0,
           0,
           0,
           0,
           0,
           0,
           0,
           0.98,
           0,
           0,
           0
          ],
          [
           0.03,
           0,
           0,
           0,
           0,
           0,
           0,
           0,
           0,
           0,
           0.01,
           0,
           0,
           0,
           0.97,
           0,
           0
          ],
          [
           0.04,
           0,
           0,
           0,
           0,
           0,
           0,
           0,
           0.09,
           0,
           0,
           0,
           0,
           0,
           0,
           0.87,
           0
          ],
          [
           0.14,
           0,
           0,
           0,
           0,
           0,
           0,
           0,
           0,
           0,
           0,
           0,
           0,
           0,
           0,
           0,
           0.86
          ]
         ],
         "zmax": 1,
         "zmin": 0
        },
        {
         "colorbar": {
          "title": {
           "text": "Normalized"
          }
         },
         "colorscale": [
          [
           0,
           "rgb(247,251,255)"
          ],
          [
           0.125,
           "rgb(222,235,247)"
          ],
          [
           0.25,
           "rgb(198,219,239)"
          ],
          [
           0.375,
           "rgb(158,202,225)"
          ],
          [
           0.5,
           "rgb(107,174,214)"
          ],
          [
           0.625,
           "rgb(66,146,198)"
          ],
          [
           0.75,
           "rgb(33,113,181)"
          ],
          [
           0.875,
           "rgb(8,81,156)"
          ],
          [
           1,
           "rgb(8,48,107)"
          ]
         ],
         "showscale": false,
         "type": "heatmap",
         "x": [
          "Undefined",
          "Brocoli_green_weeds_1",
          "Brocoli_green_weeds_2",
          "Fallow",
          "Fallow_rough_plow",
          "Fallow_smooth",
          "Stubble",
          "Celery",
          "Grapes_untrained",
          "Soil_vinyard_develop",
          "Corn_senesced_green_weeds",
          "Lettuce_romaine_4wk",
          "Lettuce_romaine_5wk",
          "Lettuce_romaine_6wk",
          "Lettuce_romaine_7wk",
          "Vinyard_untrained",
          "Vinyard_vertical_trellis"
         ],
         "xaxis": "x3",
         "y": [
          "Undefined",
          "Brocoli_green_weeds_1",
          "Brocoli_green_weeds_2",
          "Fallow",
          "Fallow_rough_plow",
          "Fallow_smooth",
          "Stubble",
          "Celery",
          "Grapes_untrained",
          "Soil_vinyard_develop",
          "Corn_senesced_green_weeds",
          "Lettuce_romaine_4wk",
          "Lettuce_romaine_5wk",
          "Lettuce_romaine_6wk",
          "Lettuce_romaine_7wk",
          "Vinyard_untrained",
          "Vinyard_vertical_trellis"
         ],
         "yaxis": "y3",
         "z": [
          [
           null,
           null,
           null,
           null,
           null,
           null,
           null,
           null,
           null,
           null,
           null,
           null,
           null,
           null,
           null,
           null,
           null
          ],
          [
           0.05,
           0.92,
           0.03,
           0,
           0,
           0,
           0,
           0,
           0,
           0,
           0,
           0,
           0,
           0,
           0,
           0,
           0
          ],
          [
           0,
           0,
           0.99,
           0,
           0,
           0,
           0,
           0.01,
           0,
           0,
           0,
           0,
           0,
           0,
           0,
           0,
           0
          ],
          [
           0,
           0,
           0,
           0.96,
           0,
           0.04,
           0,
           0,
           0,
           0,
           0,
           0,
           0,
           0,
           0,
           0,
           0
          ],
          [
           0.01,
           0,
           0,
           0,
           0.98,
           0.01,
           0,
           0,
           0,
           0,
           0,
           0,
           0,
           0,
           0,
           0,
           0
          ],
          [
           0,
           0,
           0,
           0.05,
           0.01,
           0.94,
           0,
           0,
           0,
           0,
           0,
           0,
           0,
           0,
           0,
           0,
           0
          ],
          [
           0.02,
           0,
           0,
           0,
           0,
           0,
           0.98,
           0,
           0,
           0,
           0,
           0,
           0,
           0,
           0,
           0,
           0
          ],
          [
           0.01,
           0,
           0,
           0,
           0,
           0,
           0,
           0.98,
           0,
           0,
           0,
           0,
           0,
           0,
           0,
           0,
           0.01
          ],
          [
           0.01,
           0,
           0,
           0,
           0,
           0,
           0,
           0,
           0.86,
           0,
           0.01,
           0,
           0,
           0.01,
           0,
           0.1,
           0
          ],
          [
           0,
           0,
           0,
           0,
           0,
           0,
           0,
           0,
           0,
           0.95,
           0.01,
           0.03,
           0,
           0,
           0,
           0,
           0
          ],
          [
           0.03,
           0,
           0,
           0.02,
           0,
           0,
           0,
           0,
           0.06,
           0.01,
           0.84,
           0.02,
           0.02,
           0.01,
           0.01,
           0,
           0
          ],
          [
           0.03,
           0,
           0,
           0.06,
           0,
           0,
           0,
           0,
           0,
           0,
           0.05,
           0.81,
           0.06,
           0,
           0,
           0,
           0
          ],
          [
           0.03,
           0,
           0,
           0,
           0,
           0,
           0,
           0,
           0,
           0,
           0.01,
           0,
           0.96,
           0,
           0,
           0,
           0
          ],
          [
           0.02,
           0,
           0,
           0,
           0,
           0,
           0,
           0,
           0.01,
           0,
           0.03,
           0,
           0,
           0.92,
           0.01,
           0,
           0
          ],
          [
           0.03,
           0,
           0,
           0,
           0,
           0,
           0,
           0,
           0,
           0,
           0,
           0,
           0,
           0,
           0.97,
           0,
           0
          ],
          [
           0.04,
           0,
           0,
           0,
           0,
           0,
           0,
           0,
           0.27,
           0,
           0,
           0,
           0,
           0,
           0,
           0.69,
           0
          ],
          [
           0.14,
           0,
           0,
           0,
           0,
           0,
           0,
           0.06,
           0.02,
           0,
           0,
           0,
           0,
           0,
           0,
           0,
           0.78
          ]
         ],
         "zmax": 1,
         "zmin": 0
        },
        {
         "colorbar": {
          "title": {
           "text": "Normalized"
          }
         },
         "colorscale": [
          [
           0,
           "rgb(247,251,255)"
          ],
          [
           0.125,
           "rgb(222,235,247)"
          ],
          [
           0.25,
           "rgb(198,219,239)"
          ],
          [
           0.375,
           "rgb(158,202,225)"
          ],
          [
           0.5,
           "rgb(107,174,214)"
          ],
          [
           0.625,
           "rgb(66,146,198)"
          ],
          [
           0.75,
           "rgb(33,113,181)"
          ],
          [
           0.875,
           "rgb(8,81,156)"
          ],
          [
           1,
           "rgb(8,48,107)"
          ]
         ],
         "showscale": false,
         "type": "heatmap",
         "x": [
          "Undefined",
          "Brocoli_green_weeds_1",
          "Brocoli_green_weeds_2",
          "Fallow",
          "Fallow_rough_plow",
          "Fallow_smooth",
          "Stubble",
          "Celery",
          "Grapes_untrained",
          "Soil_vinyard_develop",
          "Corn_senesced_green_weeds",
          "Lettuce_romaine_4wk",
          "Lettuce_romaine_5wk",
          "Lettuce_romaine_6wk",
          "Lettuce_romaine_7wk",
          "Vinyard_untrained",
          "Vinyard_vertical_trellis"
         ],
         "xaxis": "x4",
         "y": [
          "Undefined",
          "Brocoli_green_weeds_1",
          "Brocoli_green_weeds_2",
          "Fallow",
          "Fallow_rough_plow",
          "Fallow_smooth",
          "Stubble",
          "Celery",
          "Grapes_untrained",
          "Soil_vinyard_develop",
          "Corn_senesced_green_weeds",
          "Lettuce_romaine_4wk",
          "Lettuce_romaine_5wk",
          "Lettuce_romaine_6wk",
          "Lettuce_romaine_7wk",
          "Vinyard_untrained",
          "Vinyard_vertical_trellis"
         ],
         "yaxis": "y4",
         "z": [
          [
           null,
           null,
           null,
           null,
           null,
           null,
           null,
           null,
           null,
           null,
           null,
           null,
           null,
           null,
           null,
           null,
           null
          ],
          [
           0.05,
           0.94,
           0.01,
           0,
           0,
           0,
           0,
           0,
           0,
           0,
           0,
           0,
           0,
           0,
           0,
           0,
           0
          ],
          [
           0,
           0.08,
           0.92,
           0,
           0,
           0,
           0,
           0,
           0,
           0,
           0,
           0,
           0,
           0,
           0,
           0,
           0
          ],
          [
           0,
           0,
           0,
           0.99,
           0,
           0,
           0,
           0,
           0,
           0,
           0,
           0,
           0,
           0,
           0,
           0,
           0
          ],
          [
           0.01,
           0,
           0,
           0,
           0.99,
           0.01,
           0,
           0,
           0,
           0,
           0,
           0,
           0,
           0,
           0,
           0,
           0
          ],
          [
           0,
           0,
           0,
           0.17,
           0,
           0.83,
           0,
           0,
           0,
           0,
           0,
           0,
           0,
           0,
           0,
           0,
           0
          ],
          [
           0.02,
           0,
           0,
           0,
           0,
           0,
           0.98,
           0,
           0,
           0,
           0,
           0,
           0,
           0,
           0,
           0,
           0
          ],
          [
           0.01,
           0,
           0,
           0,
           0,
           0,
           0,
           0.98,
           0,
           0,
           0,
           0,
           0,
           0,
           0,
           0,
           0.01
          ],
          [
           0.01,
           0,
           0,
           0,
           0,
           0,
           0,
           0,
           0.78,
           0,
           0.03,
           0,
           0,
           0.01,
           0,
           0.17,
           0
          ],
          [
           0,
           0,
           0,
           0,
           0,
           0,
           0,
           0,
           0,
           0.96,
           0.01,
           0.03,
           0,
           0,
           0,
           0,
           0
          ],
          [
           0.03,
           0,
           0,
           0.01,
           0,
           0,
           0,
           0,
           0,
           0.01,
           0.92,
           0,
           0.01,
           0.01,
           0,
           0,
           0
          ],
          [
           0.03,
           0,
           0,
           0,
           0,
           0,
           0,
           0,
           0,
           0.14,
           0.2,
           0.6,
           0.03,
           0,
           0,
           0,
           0
          ],
          [
           0.03,
           0,
           0,
           0,
           0,
           0,
           0,
           0,
           0,
           0,
           0.02,
           0,
           0.95,
           0,
           0,
           0,
           0
          ],
          [
           0.02,
           0,
           0,
           0,
           0,
           0,
           0,
           0,
           0.01,
           0,
           0,
           0,
           0,
           0.97,
           0,
           0,
           0
          ],
          [
           0.03,
           0,
           0,
           0,
           0,
           0,
           0,
           0,
           0,
           0,
           0,
           0,
           0,
           0,
           0.97,
           0,
           0
          ],
          [
           0.04,
           0,
           0,
           0,
           0,
           0,
           0,
           0,
           0.16,
           0,
           0,
           0,
           0,
           0,
           0,
           0.79,
           0
          ],
          [
           0.14,
           0,
           0,
           0,
           0,
           0,
           0,
           0.08,
           0.14,
           0,
           0,
           0,
           0,
           0,
           0,
           0.01,
           0.64
          ]
         ],
         "zmax": 1,
         "zmin": 0
        }
       ],
       "layout": {
        "annotations": [
         {
          "font": {
           "size": 16
          },
          "showarrow": false,
          "text": "Salinas_PCA_30_li",
          "x": 0.225,
          "xanchor": "center",
          "xref": "paper",
          "y": 1,
          "yanchor": "bottom",
          "yref": "paper"
         },
         {
          "font": {
           "size": 16
          },
          "showarrow": false,
          "text": "Salinas_PCA_30_hamida",
          "x": 0.775,
          "xanchor": "center",
          "xref": "paper",
          "y": 1,
          "yanchor": "bottom",
          "yref": "paper"
         },
         {
          "font": {
           "size": 16
          },
          "showarrow": false,
          "text": "Salinas_PCA_30_mou",
          "x": 0.225,
          "xanchor": "center",
          "xref": "paper",
          "y": 0.375,
          "yanchor": "bottom",
          "yref": "paper"
         },
         {
          "font": {
           "size": 16
          },
          "showarrow": false,
          "text": "Salinas_PCA_30_paoletti",
          "x": 0.775,
          "xanchor": "center",
          "xref": "paper",
          "y": 0.375,
          "yanchor": "bottom",
          "yref": "paper"
         }
        ],
        "height": 1000,
        "showlegend": false,
        "template": {
         "data": {
          "bar": [
           {
            "error_x": {
             "color": "#2a3f5f"
            },
            "error_y": {
             "color": "#2a3f5f"
            },
            "marker": {
             "line": {
              "color": "#E5ECF6",
              "width": 0.5
             },
             "pattern": {
              "fillmode": "overlay",
              "size": 10,
              "solidity": 0.2
             }
            },
            "type": "bar"
           }
          ],
          "barpolar": [
           {
            "marker": {
             "line": {
              "color": "#E5ECF6",
              "width": 0.5
             },
             "pattern": {
              "fillmode": "overlay",
              "size": 10,
              "solidity": 0.2
             }
            },
            "type": "barpolar"
           }
          ],
          "carpet": [
           {
            "aaxis": {
             "endlinecolor": "#2a3f5f",
             "gridcolor": "white",
             "linecolor": "white",
             "minorgridcolor": "white",
             "startlinecolor": "#2a3f5f"
            },
            "baxis": {
             "endlinecolor": "#2a3f5f",
             "gridcolor": "white",
             "linecolor": "white",
             "minorgridcolor": "white",
             "startlinecolor": "#2a3f5f"
            },
            "type": "carpet"
           }
          ],
          "choropleth": [
           {
            "colorbar": {
             "outlinewidth": 0,
             "ticks": ""
            },
            "type": "choropleth"
           }
          ],
          "contour": [
           {
            "colorbar": {
             "outlinewidth": 0,
             "ticks": ""
            },
            "colorscale": [
             [
              0,
              "#0d0887"
             ],
             [
              0.1111111111111111,
              "#46039f"
             ],
             [
              0.2222222222222222,
              "#7201a8"
             ],
             [
              0.3333333333333333,
              "#9c179e"
             ],
             [
              0.4444444444444444,
              "#bd3786"
             ],
             [
              0.5555555555555556,
              "#d8576b"
             ],
             [
              0.6666666666666666,
              "#ed7953"
             ],
             [
              0.7777777777777778,
              "#fb9f3a"
             ],
             [
              0.8888888888888888,
              "#fdca26"
             ],
             [
              1,
              "#f0f921"
             ]
            ],
            "type": "contour"
           }
          ],
          "contourcarpet": [
           {
            "colorbar": {
             "outlinewidth": 0,
             "ticks": ""
            },
            "type": "contourcarpet"
           }
          ],
          "heatmap": [
           {
            "colorbar": {
             "outlinewidth": 0,
             "ticks": ""
            },
            "colorscale": [
             [
              0,
              "#0d0887"
             ],
             [
              0.1111111111111111,
              "#46039f"
             ],
             [
              0.2222222222222222,
              "#7201a8"
             ],
             [
              0.3333333333333333,
              "#9c179e"
             ],
             [
              0.4444444444444444,
              "#bd3786"
             ],
             [
              0.5555555555555556,
              "#d8576b"
             ],
             [
              0.6666666666666666,
              "#ed7953"
             ],
             [
              0.7777777777777778,
              "#fb9f3a"
             ],
             [
              0.8888888888888888,
              "#fdca26"
             ],
             [
              1,
              "#f0f921"
             ]
            ],
            "type": "heatmap"
           }
          ],
          "heatmapgl": [
           {
            "colorbar": {
             "outlinewidth": 0,
             "ticks": ""
            },
            "colorscale": [
             [
              0,
              "#0d0887"
             ],
             [
              0.1111111111111111,
              "#46039f"
             ],
             [
              0.2222222222222222,
              "#7201a8"
             ],
             [
              0.3333333333333333,
              "#9c179e"
             ],
             [
              0.4444444444444444,
              "#bd3786"
             ],
             [
              0.5555555555555556,
              "#d8576b"
             ],
             [
              0.6666666666666666,
              "#ed7953"
             ],
             [
              0.7777777777777778,
              "#fb9f3a"
             ],
             [
              0.8888888888888888,
              "#fdca26"
             ],
             [
              1,
              "#f0f921"
             ]
            ],
            "type": "heatmapgl"
           }
          ],
          "histogram": [
           {
            "marker": {
             "pattern": {
              "fillmode": "overlay",
              "size": 10,
              "solidity": 0.2
             }
            },
            "type": "histogram"
           }
          ],
          "histogram2d": [
           {
            "colorbar": {
             "outlinewidth": 0,
             "ticks": ""
            },
            "colorscale": [
             [
              0,
              "#0d0887"
             ],
             [
              0.1111111111111111,
              "#46039f"
             ],
             [
              0.2222222222222222,
              "#7201a8"
             ],
             [
              0.3333333333333333,
              "#9c179e"
             ],
             [
              0.4444444444444444,
              "#bd3786"
             ],
             [
              0.5555555555555556,
              "#d8576b"
             ],
             [
              0.6666666666666666,
              "#ed7953"
             ],
             [
              0.7777777777777778,
              "#fb9f3a"
             ],
             [
              0.8888888888888888,
              "#fdca26"
             ],
             [
              1,
              "#f0f921"
             ]
            ],
            "type": "histogram2d"
           }
          ],
          "histogram2dcontour": [
           {
            "colorbar": {
             "outlinewidth": 0,
             "ticks": ""
            },
            "colorscale": [
             [
              0,
              "#0d0887"
             ],
             [
              0.1111111111111111,
              "#46039f"
             ],
             [
              0.2222222222222222,
              "#7201a8"
             ],
             [
              0.3333333333333333,
              "#9c179e"
             ],
             [
              0.4444444444444444,
              "#bd3786"
             ],
             [
              0.5555555555555556,
              "#d8576b"
             ],
             [
              0.6666666666666666,
              "#ed7953"
             ],
             [
              0.7777777777777778,
              "#fb9f3a"
             ],
             [
              0.8888888888888888,
              "#fdca26"
             ],
             [
              1,
              "#f0f921"
             ]
            ],
            "type": "histogram2dcontour"
           }
          ],
          "mesh3d": [
           {
            "colorbar": {
             "outlinewidth": 0,
             "ticks": ""
            },
            "type": "mesh3d"
           }
          ],
          "parcoords": [
           {
            "line": {
             "colorbar": {
              "outlinewidth": 0,
              "ticks": ""
             }
            },
            "type": "parcoords"
           }
          ],
          "pie": [
           {
            "automargin": true,
            "type": "pie"
           }
          ],
          "scatter": [
           {
            "fillpattern": {
             "fillmode": "overlay",
             "size": 10,
             "solidity": 0.2
            },
            "type": "scatter"
           }
          ],
          "scatter3d": [
           {
            "line": {
             "colorbar": {
              "outlinewidth": 0,
              "ticks": ""
             }
            },
            "marker": {
             "colorbar": {
              "outlinewidth": 0,
              "ticks": ""
             }
            },
            "type": "scatter3d"
           }
          ],
          "scattercarpet": [
           {
            "marker": {
             "colorbar": {
              "outlinewidth": 0,
              "ticks": ""
             }
            },
            "type": "scattercarpet"
           }
          ],
          "scattergeo": [
           {
            "marker": {
             "colorbar": {
              "outlinewidth": 0,
              "ticks": ""
             }
            },
            "type": "scattergeo"
           }
          ],
          "scattergl": [
           {
            "marker": {
             "colorbar": {
              "outlinewidth": 0,
              "ticks": ""
             }
            },
            "type": "scattergl"
           }
          ],
          "scattermapbox": [
           {
            "marker": {
             "colorbar": {
              "outlinewidth": 0,
              "ticks": ""
             }
            },
            "type": "scattermapbox"
           }
          ],
          "scatterpolar": [
           {
            "marker": {
             "colorbar": {
              "outlinewidth": 0,
              "ticks": ""
             }
            },
            "type": "scatterpolar"
           }
          ],
          "scatterpolargl": [
           {
            "marker": {
             "colorbar": {
              "outlinewidth": 0,
              "ticks": ""
             }
            },
            "type": "scatterpolargl"
           }
          ],
          "scatterternary": [
           {
            "marker": {
             "colorbar": {
              "outlinewidth": 0,
              "ticks": ""
             }
            },
            "type": "scatterternary"
           }
          ],
          "surface": [
           {
            "colorbar": {
             "outlinewidth": 0,
             "ticks": ""
            },
            "colorscale": [
             [
              0,
              "#0d0887"
             ],
             [
              0.1111111111111111,
              "#46039f"
             ],
             [
              0.2222222222222222,
              "#7201a8"
             ],
             [
              0.3333333333333333,
              "#9c179e"
             ],
             [
              0.4444444444444444,
              "#bd3786"
             ],
             [
              0.5555555555555556,
              "#d8576b"
             ],
             [
              0.6666666666666666,
              "#ed7953"
             ],
             [
              0.7777777777777778,
              "#fb9f3a"
             ],
             [
              0.8888888888888888,
              "#fdca26"
             ],
             [
              1,
              "#f0f921"
             ]
            ],
            "type": "surface"
           }
          ],
          "table": [
           {
            "cells": {
             "fill": {
              "color": "#EBF0F8"
             },
             "line": {
              "color": "white"
             }
            },
            "header": {
             "fill": {
              "color": "#C8D4E3"
             },
             "line": {
              "color": "white"
             }
            },
            "type": "table"
           }
          ]
         },
         "layout": {
          "annotationdefaults": {
           "arrowcolor": "#2a3f5f",
           "arrowhead": 0,
           "arrowwidth": 1
          },
          "autotypenumbers": "strict",
          "coloraxis": {
           "colorbar": {
            "outlinewidth": 0,
            "ticks": ""
           }
          },
          "colorscale": {
           "diverging": [
            [
             0,
             "#8e0152"
            ],
            [
             0.1,
             "#c51b7d"
            ],
            [
             0.2,
             "#de77ae"
            ],
            [
             0.3,
             "#f1b6da"
            ],
            [
             0.4,
             "#fde0ef"
            ],
            [
             0.5,
             "#f7f7f7"
            ],
            [
             0.6,
             "#e6f5d0"
            ],
            [
             0.7,
             "#b8e186"
            ],
            [
             0.8,
             "#7fbc41"
            ],
            [
             0.9,
             "#4d9221"
            ],
            [
             1,
             "#276419"
            ]
           ],
           "sequential": [
            [
             0,
             "#0d0887"
            ],
            [
             0.1111111111111111,
             "#46039f"
            ],
            [
             0.2222222222222222,
             "#7201a8"
            ],
            [
             0.3333333333333333,
             "#9c179e"
            ],
            [
             0.4444444444444444,
             "#bd3786"
            ],
            [
             0.5555555555555556,
             "#d8576b"
            ],
            [
             0.6666666666666666,
             "#ed7953"
            ],
            [
             0.7777777777777778,
             "#fb9f3a"
            ],
            [
             0.8888888888888888,
             "#fdca26"
            ],
            [
             1,
             "#f0f921"
            ]
           ],
           "sequentialminus": [
            [
             0,
             "#0d0887"
            ],
            [
             0.1111111111111111,
             "#46039f"
            ],
            [
             0.2222222222222222,
             "#7201a8"
            ],
            [
             0.3333333333333333,
             "#9c179e"
            ],
            [
             0.4444444444444444,
             "#bd3786"
            ],
            [
             0.5555555555555556,
             "#d8576b"
            ],
            [
             0.6666666666666666,
             "#ed7953"
            ],
            [
             0.7777777777777778,
             "#fb9f3a"
            ],
            [
             0.8888888888888888,
             "#fdca26"
            ],
            [
             1,
             "#f0f921"
            ]
           ]
          },
          "colorway": [
           "#636efa",
           "#EF553B",
           "#00cc96",
           "#ab63fa",
           "#FFA15A",
           "#19d3f3",
           "#FF6692",
           "#B6E880",
           "#FF97FF",
           "#FECB52"
          ],
          "font": {
           "color": "#2a3f5f"
          },
          "geo": {
           "bgcolor": "white",
           "lakecolor": "white",
           "landcolor": "#E5ECF6",
           "showlakes": true,
           "showland": true,
           "subunitcolor": "white"
          },
          "hoverlabel": {
           "align": "left"
          },
          "hovermode": "closest",
          "mapbox": {
           "style": "light"
          },
          "paper_bgcolor": "white",
          "plot_bgcolor": "#E5ECF6",
          "polar": {
           "angularaxis": {
            "gridcolor": "white",
            "linecolor": "white",
            "ticks": ""
           },
           "bgcolor": "#E5ECF6",
           "radialaxis": {
            "gridcolor": "white",
            "linecolor": "white",
            "ticks": ""
           }
          },
          "scene": {
           "xaxis": {
            "backgroundcolor": "#E5ECF6",
            "gridcolor": "white",
            "gridwidth": 2,
            "linecolor": "white",
            "showbackground": true,
            "ticks": "",
            "zerolinecolor": "white"
           },
           "yaxis": {
            "backgroundcolor": "#E5ECF6",
            "gridcolor": "white",
            "gridwidth": 2,
            "linecolor": "white",
            "showbackground": true,
            "ticks": "",
            "zerolinecolor": "white"
           },
           "zaxis": {
            "backgroundcolor": "#E5ECF6",
            "gridcolor": "white",
            "gridwidth": 2,
            "linecolor": "white",
            "showbackground": true,
            "ticks": "",
            "zerolinecolor": "white"
           }
          },
          "shapedefaults": {
           "line": {
            "color": "#2a3f5f"
           }
          },
          "ternary": {
           "aaxis": {
            "gridcolor": "white",
            "linecolor": "white",
            "ticks": ""
           },
           "baxis": {
            "gridcolor": "white",
            "linecolor": "white",
            "ticks": ""
           },
           "bgcolor": "#E5ECF6",
           "caxis": {
            "gridcolor": "white",
            "linecolor": "white",
            "ticks": ""
           }
          },
          "title": {
           "x": 0.05
          },
          "xaxis": {
           "automargin": true,
           "gridcolor": "white",
           "linecolor": "white",
           "ticks": "",
           "title": {
            "standoff": 15
           },
           "zerolinecolor": "white",
           "zerolinewidth": 2
          },
          "yaxis": {
           "automargin": true,
           "gridcolor": "white",
           "linecolor": "white",
           "ticks": "",
           "title": {
            "standoff": 15
           },
           "zerolinecolor": "white",
           "zerolinewidth": 2
          }
         }
        },
        "title": {
         "text": "Confusion Matrices"
        },
        "width": 1000,
        "xaxis": {
         "anchor": "y",
         "domain": [
          0,
          0.45
         ],
         "showticklabels": false
        },
        "xaxis2": {
         "anchor": "y2",
         "domain": [
          0.55,
          1
         ],
         "showticklabels": false
        },
        "xaxis3": {
         "anchor": "y3",
         "domain": [
          0,
          0.45
         ],
         "tickangle": 45,
         "title": {
          "text": "Predicted labels"
         },
         "type": "category"
        },
        "xaxis4": {
         "anchor": "y4",
         "domain": [
          0.55,
          1
         ],
         "tickangle": 45,
         "title": {
          "text": "Predicted labels"
         },
         "type": "category"
        },
        "yaxis": {
         "anchor": "x",
         "domain": [
          0.625,
          1
         ],
         "title": {
          "text": "Actual labels"
         },
         "type": "category"
        },
        "yaxis2": {
         "anchor": "x2",
         "domain": [
          0.625,
          1
         ],
         "showticklabels": false
        },
        "yaxis3": {
         "anchor": "x3",
         "domain": [
          0,
          0.375
         ],
         "title": {
          "text": "Actual labels"
         },
         "type": "category"
        },
        "yaxis4": {
         "anchor": "x4",
         "domain": [
          0,
          0.375
         ],
         "showticklabels": false
        }
       }
      }
     },
     "metadata": {},
     "output_type": "display_data"
    }
   ],
   "source": [
    "ds = 'Salinas'\n",
    "dr_method = 'PCA'\n",
    "n_comps = 30\n",
    "\n",
    "exps = [\n",
    "    f'{ds}_{dr_method}_{n_comps}_li',\n",
    "    f'{ds}_{dr_method}_{n_comps}_hamida',\n",
    "    f'{ds}_{dr_method}_{n_comps}_mou',\n",
    "    f'{ds}_{dr_method}_{n_comps}_paoletti'\n",
    "]\n",
    "show_confusion_matrices(df_results, exps, labels=LABELS[ds], normalize=True)"
   ]
  },
  {
   "cell_type": "code",
   "execution_count": 124,
   "metadata": {},
   "outputs": [
    {
     "name": "stderr",
     "output_type": "stream",
     "text": [
      "C:\\Users\\Dell\\AppData\\Local\\Temp\\ipykernel_9284\\742158990.py:105: RuntimeWarning:\n",
      "\n",
      "invalid value encountered in divide\n",
      "\n"
     ]
    },
    {
     "data": {
      "application/vnd.plotly.v1+json": {
       "config": {
        "plotlyServerURL": "https://plot.ly"
       },
       "data": [
        {
         "colorbar": {
          "title": {
           "text": "Normalized"
          }
         },
         "colorscale": [
          [
           0,
           "rgb(247,251,255)"
          ],
          [
           0.125,
           "rgb(222,235,247)"
          ],
          [
           0.25,
           "rgb(198,219,239)"
          ],
          [
           0.375,
           "rgb(158,202,225)"
          ],
          [
           0.5,
           "rgb(107,174,214)"
          ],
          [
           0.625,
           "rgb(66,146,198)"
          ],
          [
           0.75,
           "rgb(33,113,181)"
          ],
          [
           0.875,
           "rgb(8,81,156)"
          ],
          [
           1,
           "rgb(8,48,107)"
          ]
         ],
         "showscale": false,
         "type": "heatmap",
         "x": [
          "Undefined",
          "Brocoli_green_weeds_1",
          "Brocoli_green_weeds_2",
          "Fallow",
          "Fallow_rough_plow",
          "Fallow_smooth",
          "Stubble",
          "Celery",
          "Grapes_untrained",
          "Soil_vinyard_develop",
          "Corn_senesced_green_weeds",
          "Lettuce_romaine_4wk",
          "Lettuce_romaine_5wk",
          "Lettuce_romaine_6wk",
          "Lettuce_romaine_7wk",
          "Vinyard_untrained",
          "Vinyard_vertical_trellis"
         ],
         "y": [
          "Undefined",
          "Brocoli_green_weeds_1",
          "Brocoli_green_weeds_2",
          "Fallow",
          "Fallow_rough_plow",
          "Fallow_smooth",
          "Stubble",
          "Celery",
          "Grapes_untrained",
          "Soil_vinyard_develop",
          "Corn_senesced_green_weeds",
          "Lettuce_romaine_4wk",
          "Lettuce_romaine_5wk",
          "Lettuce_romaine_6wk",
          "Lettuce_romaine_7wk",
          "Vinyard_untrained",
          "Vinyard_vertical_trellis"
         ],
         "z": [
          [
           null,
           null,
           null,
           null,
           null,
           null,
           null,
           null,
           null,
           null,
           null,
           null,
           null,
           null,
           null,
           null,
           null
          ],
          [
           0.05,
           0.95,
           0,
           0,
           0,
           0,
           0,
           0,
           0,
           0,
           0,
           0,
           0,
           0,
           0,
           0,
           0
          ],
          [
           0,
           0,
           1,
           0,
           0,
           0,
           0,
           0,
           0,
           0,
           0,
           0,
           0,
           0,
           0,
           0,
           0
          ],
          [
           0,
           0,
           0,
           1,
           0,
           0,
           0,
           0,
           0,
           0,
           0,
           0,
           0,
           0,
           0,
           0,
           0
          ],
          [
           0.01,
           0,
           0,
           0,
           0.99,
           0,
           0,
           0,
           0,
           0,
           0,
           0,
           0,
           0,
           0,
           0,
           0
          ],
          [
           0,
           0,
           0,
           0,
           0,
           1,
           0,
           0,
           0,
           0,
           0,
           0,
           0,
           0,
           0,
           0,
           0
          ],
          [
           0.02,
           0,
           0,
           0,
           0,
           0,
           0.98,
           0,
           0,
           0,
           0,
           0,
           0,
           0,
           0,
           0,
           0
          ],
          [
           0.01,
           0,
           0,
           0,
           0,
           0,
           0,
           0.99,
           0,
           0,
           0,
           0,
           0,
           0,
           0,
           0,
           0
          ],
          [
           0.01,
           0,
           0,
           0,
           0,
           0,
           0,
           0,
           0.95,
           0,
           0,
           0,
           0,
           0,
           0,
           0.03,
           0
          ],
          [
           0,
           0,
           0,
           0,
           0,
           0,
           0,
           0,
           0,
           0.99,
           0,
           0,
           0,
           0,
           0,
           0,
           0
          ],
          [
           0.03,
           0,
           0,
           0.02,
           0,
           0,
           0,
           0,
           0,
           0.01,
           0.93,
           0.01,
           0,
           0,
           0,
           0,
           0
          ],
          [
           0.03,
           0,
           0,
           0,
           0,
           0,
           0,
           0,
           0,
           0.07,
           0,
           0.9,
           0,
           0,
           0,
           0,
           0
          ],
          [
           0.03,
           0,
           0,
           0,
           0,
           0,
           0,
           0,
           0,
           0,
           0,
           0,
           0.97,
           0,
           0,
           0,
           0
          ],
          [
           0.02,
           0,
           0,
           0,
           0,
           0,
           0,
           0,
           0,
           0,
           0,
           0,
           0,
           0.98,
           0,
           0,
           0
          ],
          [
           0.03,
           0,
           0,
           0,
           0,
           0,
           0,
           0,
           0,
           0,
           0,
           0,
           0,
           0,
           0.97,
           0,
           0
          ],
          [
           0.04,
           0,
           0,
           0,
           0,
           0,
           0,
           0,
           0.27,
           0,
           0,
           0,
           0,
           0,
           0,
           0.68,
           0
          ],
          [
           0.14,
           0,
           0,
           0,
           0,
           0,
           0,
           0,
           0,
           0,
           0,
           0,
           0,
           0,
           0,
           0,
           0.86
          ]
         ],
         "zmax": 1,
         "zmin": 0
        }
       ],
       "layout": {
        "height": 800,
        "showlegend": false,
        "template": {
         "data": {
          "bar": [
           {
            "error_x": {
             "color": "#2a3f5f"
            },
            "error_y": {
             "color": "#2a3f5f"
            },
            "marker": {
             "line": {
              "color": "#E5ECF6",
              "width": 0.5
             },
             "pattern": {
              "fillmode": "overlay",
              "size": 10,
              "solidity": 0.2
             }
            },
            "type": "bar"
           }
          ],
          "barpolar": [
           {
            "marker": {
             "line": {
              "color": "#E5ECF6",
              "width": 0.5
             },
             "pattern": {
              "fillmode": "overlay",
              "size": 10,
              "solidity": 0.2
             }
            },
            "type": "barpolar"
           }
          ],
          "carpet": [
           {
            "aaxis": {
             "endlinecolor": "#2a3f5f",
             "gridcolor": "white",
             "linecolor": "white",
             "minorgridcolor": "white",
             "startlinecolor": "#2a3f5f"
            },
            "baxis": {
             "endlinecolor": "#2a3f5f",
             "gridcolor": "white",
             "linecolor": "white",
             "minorgridcolor": "white",
             "startlinecolor": "#2a3f5f"
            },
            "type": "carpet"
           }
          ],
          "choropleth": [
           {
            "colorbar": {
             "outlinewidth": 0,
             "ticks": ""
            },
            "type": "choropleth"
           }
          ],
          "contour": [
           {
            "colorbar": {
             "outlinewidth": 0,
             "ticks": ""
            },
            "colorscale": [
             [
              0,
              "#0d0887"
             ],
             [
              0.1111111111111111,
              "#46039f"
             ],
             [
              0.2222222222222222,
              "#7201a8"
             ],
             [
              0.3333333333333333,
              "#9c179e"
             ],
             [
              0.4444444444444444,
              "#bd3786"
             ],
             [
              0.5555555555555556,
              "#d8576b"
             ],
             [
              0.6666666666666666,
              "#ed7953"
             ],
             [
              0.7777777777777778,
              "#fb9f3a"
             ],
             [
              0.8888888888888888,
              "#fdca26"
             ],
             [
              1,
              "#f0f921"
             ]
            ],
            "type": "contour"
           }
          ],
          "contourcarpet": [
           {
            "colorbar": {
             "outlinewidth": 0,
             "ticks": ""
            },
            "type": "contourcarpet"
           }
          ],
          "heatmap": [
           {
            "colorbar": {
             "outlinewidth": 0,
             "ticks": ""
            },
            "colorscale": [
             [
              0,
              "#0d0887"
             ],
             [
              0.1111111111111111,
              "#46039f"
             ],
             [
              0.2222222222222222,
              "#7201a8"
             ],
             [
              0.3333333333333333,
              "#9c179e"
             ],
             [
              0.4444444444444444,
              "#bd3786"
             ],
             [
              0.5555555555555556,
              "#d8576b"
             ],
             [
              0.6666666666666666,
              "#ed7953"
             ],
             [
              0.7777777777777778,
              "#fb9f3a"
             ],
             [
              0.8888888888888888,
              "#fdca26"
             ],
             [
              1,
              "#f0f921"
             ]
            ],
            "type": "heatmap"
           }
          ],
          "heatmapgl": [
           {
            "colorbar": {
             "outlinewidth": 0,
             "ticks": ""
            },
            "colorscale": [
             [
              0,
              "#0d0887"
             ],
             [
              0.1111111111111111,
              "#46039f"
             ],
             [
              0.2222222222222222,
              "#7201a8"
             ],
             [
              0.3333333333333333,
              "#9c179e"
             ],
             [
              0.4444444444444444,
              "#bd3786"
             ],
             [
              0.5555555555555556,
              "#d8576b"
             ],
             [
              0.6666666666666666,
              "#ed7953"
             ],
             [
              0.7777777777777778,
              "#fb9f3a"
             ],
             [
              0.8888888888888888,
              "#fdca26"
             ],
             [
              1,
              "#f0f921"
             ]
            ],
            "type": "heatmapgl"
           }
          ],
          "histogram": [
           {
            "marker": {
             "pattern": {
              "fillmode": "overlay",
              "size": 10,
              "solidity": 0.2
             }
            },
            "type": "histogram"
           }
          ],
          "histogram2d": [
           {
            "colorbar": {
             "outlinewidth": 0,
             "ticks": ""
            },
            "colorscale": [
             [
              0,
              "#0d0887"
             ],
             [
              0.1111111111111111,
              "#46039f"
             ],
             [
              0.2222222222222222,
              "#7201a8"
             ],
             [
              0.3333333333333333,
              "#9c179e"
             ],
             [
              0.4444444444444444,
              "#bd3786"
             ],
             [
              0.5555555555555556,
              "#d8576b"
             ],
             [
              0.6666666666666666,
              "#ed7953"
             ],
             [
              0.7777777777777778,
              "#fb9f3a"
             ],
             [
              0.8888888888888888,
              "#fdca26"
             ],
             [
              1,
              "#f0f921"
             ]
            ],
            "type": "histogram2d"
           }
          ],
          "histogram2dcontour": [
           {
            "colorbar": {
             "outlinewidth": 0,
             "ticks": ""
            },
            "colorscale": [
             [
              0,
              "#0d0887"
             ],
             [
              0.1111111111111111,
              "#46039f"
             ],
             [
              0.2222222222222222,
              "#7201a8"
             ],
             [
              0.3333333333333333,
              "#9c179e"
             ],
             [
              0.4444444444444444,
              "#bd3786"
             ],
             [
              0.5555555555555556,
              "#d8576b"
             ],
             [
              0.6666666666666666,
              "#ed7953"
             ],
             [
              0.7777777777777778,
              "#fb9f3a"
             ],
             [
              0.8888888888888888,
              "#fdca26"
             ],
             [
              1,
              "#f0f921"
             ]
            ],
            "type": "histogram2dcontour"
           }
          ],
          "mesh3d": [
           {
            "colorbar": {
             "outlinewidth": 0,
             "ticks": ""
            },
            "type": "mesh3d"
           }
          ],
          "parcoords": [
           {
            "line": {
             "colorbar": {
              "outlinewidth": 0,
              "ticks": ""
             }
            },
            "type": "parcoords"
           }
          ],
          "pie": [
           {
            "automargin": true,
            "type": "pie"
           }
          ],
          "scatter": [
           {
            "fillpattern": {
             "fillmode": "overlay",
             "size": 10,
             "solidity": 0.2
            },
            "type": "scatter"
           }
          ],
          "scatter3d": [
           {
            "line": {
             "colorbar": {
              "outlinewidth": 0,
              "ticks": ""
             }
            },
            "marker": {
             "colorbar": {
              "outlinewidth": 0,
              "ticks": ""
             }
            },
            "type": "scatter3d"
           }
          ],
          "scattercarpet": [
           {
            "marker": {
             "colorbar": {
              "outlinewidth": 0,
              "ticks": ""
             }
            },
            "type": "scattercarpet"
           }
          ],
          "scattergeo": [
           {
            "marker": {
             "colorbar": {
              "outlinewidth": 0,
              "ticks": ""
             }
            },
            "type": "scattergeo"
           }
          ],
          "scattergl": [
           {
            "marker": {
             "colorbar": {
              "outlinewidth": 0,
              "ticks": ""
             }
            },
            "type": "scattergl"
           }
          ],
          "scattermapbox": [
           {
            "marker": {
             "colorbar": {
              "outlinewidth": 0,
              "ticks": ""
             }
            },
            "type": "scattermapbox"
           }
          ],
          "scatterpolar": [
           {
            "marker": {
             "colorbar": {
              "outlinewidth": 0,
              "ticks": ""
             }
            },
            "type": "scatterpolar"
           }
          ],
          "scatterpolargl": [
           {
            "marker": {
             "colorbar": {
              "outlinewidth": 0,
              "ticks": ""
             }
            },
            "type": "scatterpolargl"
           }
          ],
          "scatterternary": [
           {
            "marker": {
             "colorbar": {
              "outlinewidth": 0,
              "ticks": ""
             }
            },
            "type": "scatterternary"
           }
          ],
          "surface": [
           {
            "colorbar": {
             "outlinewidth": 0,
             "ticks": ""
            },
            "colorscale": [
             [
              0,
              "#0d0887"
             ],
             [
              0.1111111111111111,
              "#46039f"
             ],
             [
              0.2222222222222222,
              "#7201a8"
             ],
             [
              0.3333333333333333,
              "#9c179e"
             ],
             [
              0.4444444444444444,
              "#bd3786"
             ],
             [
              0.5555555555555556,
              "#d8576b"
             ],
             [
              0.6666666666666666,
              "#ed7953"
             ],
             [
              0.7777777777777778,
              "#fb9f3a"
             ],
             [
              0.8888888888888888,
              "#fdca26"
             ],
             [
              1,
              "#f0f921"
             ]
            ],
            "type": "surface"
           }
          ],
          "table": [
           {
            "cells": {
             "fill": {
              "color": "#EBF0F8"
             },
             "line": {
              "color": "white"
             }
            },
            "header": {
             "fill": {
              "color": "#C8D4E3"
             },
             "line": {
              "color": "white"
             }
            },
            "type": "table"
           }
          ]
         },
         "layout": {
          "annotationdefaults": {
           "arrowcolor": "#2a3f5f",
           "arrowhead": 0,
           "arrowwidth": 1
          },
          "autotypenumbers": "strict",
          "coloraxis": {
           "colorbar": {
            "outlinewidth": 0,
            "ticks": ""
           }
          },
          "colorscale": {
           "diverging": [
            [
             0,
             "#8e0152"
            ],
            [
             0.1,
             "#c51b7d"
            ],
            [
             0.2,
             "#de77ae"
            ],
            [
             0.3,
             "#f1b6da"
            ],
            [
             0.4,
             "#fde0ef"
            ],
            [
             0.5,
             "#f7f7f7"
            ],
            [
             0.6,
             "#e6f5d0"
            ],
            [
             0.7,
             "#b8e186"
            ],
            [
             0.8,
             "#7fbc41"
            ],
            [
             0.9,
             "#4d9221"
            ],
            [
             1,
             "#276419"
            ]
           ],
           "sequential": [
            [
             0,
             "#0d0887"
            ],
            [
             0.1111111111111111,
             "#46039f"
            ],
            [
             0.2222222222222222,
             "#7201a8"
            ],
            [
             0.3333333333333333,
             "#9c179e"
            ],
            [
             0.4444444444444444,
             "#bd3786"
            ],
            [
             0.5555555555555556,
             "#d8576b"
            ],
            [
             0.6666666666666666,
             "#ed7953"
            ],
            [
             0.7777777777777778,
             "#fb9f3a"
            ],
            [
             0.8888888888888888,
             "#fdca26"
            ],
            [
             1,
             "#f0f921"
            ]
           ],
           "sequentialminus": [
            [
             0,
             "#0d0887"
            ],
            [
             0.1111111111111111,
             "#46039f"
            ],
            [
             0.2222222222222222,
             "#7201a8"
            ],
            [
             0.3333333333333333,
             "#9c179e"
            ],
            [
             0.4444444444444444,
             "#bd3786"
            ],
            [
             0.5555555555555556,
             "#d8576b"
            ],
            [
             0.6666666666666666,
             "#ed7953"
            ],
            [
             0.7777777777777778,
             "#fb9f3a"
            ],
            [
             0.8888888888888888,
             "#fdca26"
            ],
            [
             1,
             "#f0f921"
            ]
           ]
          },
          "colorway": [
           "#636efa",
           "#EF553B",
           "#00cc96",
           "#ab63fa",
           "#FFA15A",
           "#19d3f3",
           "#FF6692",
           "#B6E880",
           "#FF97FF",
           "#FECB52"
          ],
          "font": {
           "color": "#2a3f5f"
          },
          "geo": {
           "bgcolor": "white",
           "lakecolor": "white",
           "landcolor": "#E5ECF6",
           "showlakes": true,
           "showland": true,
           "subunitcolor": "white"
          },
          "hoverlabel": {
           "align": "left"
          },
          "hovermode": "closest",
          "mapbox": {
           "style": "light"
          },
          "paper_bgcolor": "white",
          "plot_bgcolor": "#E5ECF6",
          "polar": {
           "angularaxis": {
            "gridcolor": "white",
            "linecolor": "white",
            "ticks": ""
           },
           "bgcolor": "#E5ECF6",
           "radialaxis": {
            "gridcolor": "white",
            "linecolor": "white",
            "ticks": ""
           }
          },
          "scene": {
           "xaxis": {
            "backgroundcolor": "#E5ECF6",
            "gridcolor": "white",
            "gridwidth": 2,
            "linecolor": "white",
            "showbackground": true,
            "ticks": "",
            "zerolinecolor": "white"
           },
           "yaxis": {
            "backgroundcolor": "#E5ECF6",
            "gridcolor": "white",
            "gridwidth": 2,
            "linecolor": "white",
            "showbackground": true,
            "ticks": "",
            "zerolinecolor": "white"
           },
           "zaxis": {
            "backgroundcolor": "#E5ECF6",
            "gridcolor": "white",
            "gridwidth": 2,
            "linecolor": "white",
            "showbackground": true,
            "ticks": "",
            "zerolinecolor": "white"
           }
          },
          "shapedefaults": {
           "line": {
            "color": "#2a3f5f"
           }
          },
          "ternary": {
           "aaxis": {
            "gridcolor": "white",
            "linecolor": "white",
            "ticks": ""
           },
           "baxis": {
            "gridcolor": "white",
            "linecolor": "white",
            "ticks": ""
           },
           "bgcolor": "#E5ECF6",
           "caxis": {
            "gridcolor": "white",
            "linecolor": "white",
            "ticks": ""
           }
          },
          "title": {
           "x": 0.05
          },
          "xaxis": {
           "automargin": true,
           "gridcolor": "white",
           "linecolor": "white",
           "ticks": "",
           "title": {
            "standoff": 15
           },
           "zerolinecolor": "white",
           "zerolinewidth": 2
          },
          "yaxis": {
           "automargin": true,
           "gridcolor": "white",
           "linecolor": "white",
           "ticks": "",
           "title": {
            "standoff": 15
           },
           "zerolinecolor": "white",
           "zerolinewidth": 2
          }
         }
        },
        "title": {
         "text": "Confusion Matrix"
        },
        "width": 800,
        "xaxis": {
         "tickangle": 45,
         "title": {
          "text": "Predicted labels"
         },
         "type": "category"
        },
        "yaxis": {
         "title": {
          "text": "Actual labels"
         },
         "type": "category"
        }
       }
      }
     },
     "metadata": {},
     "output_type": "display_data"
    }
   ],
   "source": [
    "ds = 'Salinas'\n",
    "dm = 'PCA'\n",
    "n_comp = 8\n",
    "model = 'hamida'\n",
    "\n",
    "conf_matrix = df_results[df_results['Experiment'] == f'{ds}_{dm}_{n_comp}_{model}']['Confusion matrix'].values[0]\n",
    "show_confusion_matrix(conf_matrix, labels=LABELS[ds], normalize=True)\n"
   ]
  },
  {
   "cell_type": "markdown",
   "metadata": {},
   "source": [
    "## ACCURACIES"
   ]
  },
  {
   "cell_type": "code",
   "execution_count": 25,
   "metadata": {},
   "outputs": [
    {
     "name": "stderr",
     "output_type": "stream",
     "text": [
      "C:\\Users\\Dell\\AppData\\Local\\Temp\\ipykernel_9284\\1720605065.py:117: SettingWithCopyWarning:\n",
      "\n",
      "\n",
      "A value is trying to be set on a copy of a slice from a DataFrame.\n",
      "Try using .loc[row_indexer,col_indexer] = value instead\n",
      "\n",
      "See the caveats in the documentation: https://pandas.pydata.org/pandas-docs/stable/user_guide/indexing.html#returning-a-view-versus-a-copy\n",
      "\n"
     ]
    },
    {
     "data": {
      "application/vnd.plotly.v1+json": {
       "config": {
        "plotlyServerURL": "https://plot.ly"
       },
       "data": [
        {
         "marker": {
          "color": "#636EFA"
         },
         "name": "mou",
         "type": "bar",
         "x": [
          "Salinas_PCA_8_mou",
          "Salinas_PCA_15_mou",
          "Salinas_PCA_30_mou"
         ],
         "y": [
          87.44296033549483,
          88.67150695560605,
          88.86918287793974
         ]
        },
        {
         "marker": {
          "color": "#EF553B"
         },
         "name": "hamida",
         "type": "bar",
         "x": [
          "Salinas_PCA_8_hamida",
          "Salinas_PCA_15_hamida",
          "Salinas_PCA_30_hamida"
         ],
         "y": [
          92.93908995178184,
          90.93646658907424,
          95.41096270021616
         ]
        },
        {
         "marker": {
          "color": "#00CC96"
         },
         "name": "li",
         "type": "bar",
         "x": [
          "Salinas_PCA_8_li",
          "Salinas_PCA_15_li",
          "Salinas_PCA_30_li"
         ],
         "y": [
          80.53969548667754,
          94.96203513828075,
          95.12830460566424
         ]
        },
        {
         "marker": {
          "color": "#AB63FA"
         },
         "name": "paoletti",
         "type": "bar",
         "x": [
          "Salinas_PCA_8_paoletti",
          "Salinas_PCA_15_paoletti",
          "Salinas_PCA_30_paoletti"
         ],
         "y": [
          85.94653512904358,
          90.21042324816642,
          87.3819948641209
         ]
        }
       ],
       "layout": {
        "barmode": "group",
        "showlegend": true,
        "template": {
         "data": {
          "bar": [
           {
            "error_x": {
             "color": "#2a3f5f"
            },
            "error_y": {
             "color": "#2a3f5f"
            },
            "marker": {
             "line": {
              "color": "#E5ECF6",
              "width": 0.5
             },
             "pattern": {
              "fillmode": "overlay",
              "size": 10,
              "solidity": 0.2
             }
            },
            "type": "bar"
           }
          ],
          "barpolar": [
           {
            "marker": {
             "line": {
              "color": "#E5ECF6",
              "width": 0.5
             },
             "pattern": {
              "fillmode": "overlay",
              "size": 10,
              "solidity": 0.2
             }
            },
            "type": "barpolar"
           }
          ],
          "carpet": [
           {
            "aaxis": {
             "endlinecolor": "#2a3f5f",
             "gridcolor": "white",
             "linecolor": "white",
             "minorgridcolor": "white",
             "startlinecolor": "#2a3f5f"
            },
            "baxis": {
             "endlinecolor": "#2a3f5f",
             "gridcolor": "white",
             "linecolor": "white",
             "minorgridcolor": "white",
             "startlinecolor": "#2a3f5f"
            },
            "type": "carpet"
           }
          ],
          "choropleth": [
           {
            "colorbar": {
             "outlinewidth": 0,
             "ticks": ""
            },
            "type": "choropleth"
           }
          ],
          "contour": [
           {
            "colorbar": {
             "outlinewidth": 0,
             "ticks": ""
            },
            "colorscale": [
             [
              0,
              "#0d0887"
             ],
             [
              0.1111111111111111,
              "#46039f"
             ],
             [
              0.2222222222222222,
              "#7201a8"
             ],
             [
              0.3333333333333333,
              "#9c179e"
             ],
             [
              0.4444444444444444,
              "#bd3786"
             ],
             [
              0.5555555555555556,
              "#d8576b"
             ],
             [
              0.6666666666666666,
              "#ed7953"
             ],
             [
              0.7777777777777778,
              "#fb9f3a"
             ],
             [
              0.8888888888888888,
              "#fdca26"
             ],
             [
              1,
              "#f0f921"
             ]
            ],
            "type": "contour"
           }
          ],
          "contourcarpet": [
           {
            "colorbar": {
             "outlinewidth": 0,
             "ticks": ""
            },
            "type": "contourcarpet"
           }
          ],
          "heatmap": [
           {
            "colorbar": {
             "outlinewidth": 0,
             "ticks": ""
            },
            "colorscale": [
             [
              0,
              "#0d0887"
             ],
             [
              0.1111111111111111,
              "#46039f"
             ],
             [
              0.2222222222222222,
              "#7201a8"
             ],
             [
              0.3333333333333333,
              "#9c179e"
             ],
             [
              0.4444444444444444,
              "#bd3786"
             ],
             [
              0.5555555555555556,
              "#d8576b"
             ],
             [
              0.6666666666666666,
              "#ed7953"
             ],
             [
              0.7777777777777778,
              "#fb9f3a"
             ],
             [
              0.8888888888888888,
              "#fdca26"
             ],
             [
              1,
              "#f0f921"
             ]
            ],
            "type": "heatmap"
           }
          ],
          "heatmapgl": [
           {
            "colorbar": {
             "outlinewidth": 0,
             "ticks": ""
            },
            "colorscale": [
             [
              0,
              "#0d0887"
             ],
             [
              0.1111111111111111,
              "#46039f"
             ],
             [
              0.2222222222222222,
              "#7201a8"
             ],
             [
              0.3333333333333333,
              "#9c179e"
             ],
             [
              0.4444444444444444,
              "#bd3786"
             ],
             [
              0.5555555555555556,
              "#d8576b"
             ],
             [
              0.6666666666666666,
              "#ed7953"
             ],
             [
              0.7777777777777778,
              "#fb9f3a"
             ],
             [
              0.8888888888888888,
              "#fdca26"
             ],
             [
              1,
              "#f0f921"
             ]
            ],
            "type": "heatmapgl"
           }
          ],
          "histogram": [
           {
            "marker": {
             "pattern": {
              "fillmode": "overlay",
              "size": 10,
              "solidity": 0.2
             }
            },
            "type": "histogram"
           }
          ],
          "histogram2d": [
           {
            "colorbar": {
             "outlinewidth": 0,
             "ticks": ""
            },
            "colorscale": [
             [
              0,
              "#0d0887"
             ],
             [
              0.1111111111111111,
              "#46039f"
             ],
             [
              0.2222222222222222,
              "#7201a8"
             ],
             [
              0.3333333333333333,
              "#9c179e"
             ],
             [
              0.4444444444444444,
              "#bd3786"
             ],
             [
              0.5555555555555556,
              "#d8576b"
             ],
             [
              0.6666666666666666,
              "#ed7953"
             ],
             [
              0.7777777777777778,
              "#fb9f3a"
             ],
             [
              0.8888888888888888,
              "#fdca26"
             ],
             [
              1,
              "#f0f921"
             ]
            ],
            "type": "histogram2d"
           }
          ],
          "histogram2dcontour": [
           {
            "colorbar": {
             "outlinewidth": 0,
             "ticks": ""
            },
            "colorscale": [
             [
              0,
              "#0d0887"
             ],
             [
              0.1111111111111111,
              "#46039f"
             ],
             [
              0.2222222222222222,
              "#7201a8"
             ],
             [
              0.3333333333333333,
              "#9c179e"
             ],
             [
              0.4444444444444444,
              "#bd3786"
             ],
             [
              0.5555555555555556,
              "#d8576b"
             ],
             [
              0.6666666666666666,
              "#ed7953"
             ],
             [
              0.7777777777777778,
              "#fb9f3a"
             ],
             [
              0.8888888888888888,
              "#fdca26"
             ],
             [
              1,
              "#f0f921"
             ]
            ],
            "type": "histogram2dcontour"
           }
          ],
          "mesh3d": [
           {
            "colorbar": {
             "outlinewidth": 0,
             "ticks": ""
            },
            "type": "mesh3d"
           }
          ],
          "parcoords": [
           {
            "line": {
             "colorbar": {
              "outlinewidth": 0,
              "ticks": ""
             }
            },
            "type": "parcoords"
           }
          ],
          "pie": [
           {
            "automargin": true,
            "type": "pie"
           }
          ],
          "scatter": [
           {
            "fillpattern": {
             "fillmode": "overlay",
             "size": 10,
             "solidity": 0.2
            },
            "type": "scatter"
           }
          ],
          "scatter3d": [
           {
            "line": {
             "colorbar": {
              "outlinewidth": 0,
              "ticks": ""
             }
            },
            "marker": {
             "colorbar": {
              "outlinewidth": 0,
              "ticks": ""
             }
            },
            "type": "scatter3d"
           }
          ],
          "scattercarpet": [
           {
            "marker": {
             "colorbar": {
              "outlinewidth": 0,
              "ticks": ""
             }
            },
            "type": "scattercarpet"
           }
          ],
          "scattergeo": [
           {
            "marker": {
             "colorbar": {
              "outlinewidth": 0,
              "ticks": ""
             }
            },
            "type": "scattergeo"
           }
          ],
          "scattergl": [
           {
            "marker": {
             "colorbar": {
              "outlinewidth": 0,
              "ticks": ""
             }
            },
            "type": "scattergl"
           }
          ],
          "scattermapbox": [
           {
            "marker": {
             "colorbar": {
              "outlinewidth": 0,
              "ticks": ""
             }
            },
            "type": "scattermapbox"
           }
          ],
          "scatterpolar": [
           {
            "marker": {
             "colorbar": {
              "outlinewidth": 0,
              "ticks": ""
             }
            },
            "type": "scatterpolar"
           }
          ],
          "scatterpolargl": [
           {
            "marker": {
             "colorbar": {
              "outlinewidth": 0,
              "ticks": ""
             }
            },
            "type": "scatterpolargl"
           }
          ],
          "scatterternary": [
           {
            "marker": {
             "colorbar": {
              "outlinewidth": 0,
              "ticks": ""
             }
            },
            "type": "scatterternary"
           }
          ],
          "surface": [
           {
            "colorbar": {
             "outlinewidth": 0,
             "ticks": ""
            },
            "colorscale": [
             [
              0,
              "#0d0887"
             ],
             [
              0.1111111111111111,
              "#46039f"
             ],
             [
              0.2222222222222222,
              "#7201a8"
             ],
             [
              0.3333333333333333,
              "#9c179e"
             ],
             [
              0.4444444444444444,
              "#bd3786"
             ],
             [
              0.5555555555555556,
              "#d8576b"
             ],
             [
              0.6666666666666666,
              "#ed7953"
             ],
             [
              0.7777777777777778,
              "#fb9f3a"
             ],
             [
              0.8888888888888888,
              "#fdca26"
             ],
             [
              1,
              "#f0f921"
             ]
            ],
            "type": "surface"
           }
          ],
          "table": [
           {
            "cells": {
             "fill": {
              "color": "#EBF0F8"
             },
             "line": {
              "color": "white"
             }
            },
            "header": {
             "fill": {
              "color": "#C8D4E3"
             },
             "line": {
              "color": "white"
             }
            },
            "type": "table"
           }
          ]
         },
         "layout": {
          "annotationdefaults": {
           "arrowcolor": "#2a3f5f",
           "arrowhead": 0,
           "arrowwidth": 1
          },
          "autotypenumbers": "strict",
          "coloraxis": {
           "colorbar": {
            "outlinewidth": 0,
            "ticks": ""
           }
          },
          "colorscale": {
           "diverging": [
            [
             0,
             "#8e0152"
            ],
            [
             0.1,
             "#c51b7d"
            ],
            [
             0.2,
             "#de77ae"
            ],
            [
             0.3,
             "#f1b6da"
            ],
            [
             0.4,
             "#fde0ef"
            ],
            [
             0.5,
             "#f7f7f7"
            ],
            [
             0.6,
             "#e6f5d0"
            ],
            [
             0.7,
             "#b8e186"
            ],
            [
             0.8,
             "#7fbc41"
            ],
            [
             0.9,
             "#4d9221"
            ],
            [
             1,
             "#276419"
            ]
           ],
           "sequential": [
            [
             0,
             "#0d0887"
            ],
            [
             0.1111111111111111,
             "#46039f"
            ],
            [
             0.2222222222222222,
             "#7201a8"
            ],
            [
             0.3333333333333333,
             "#9c179e"
            ],
            [
             0.4444444444444444,
             "#bd3786"
            ],
            [
             0.5555555555555556,
             "#d8576b"
            ],
            [
             0.6666666666666666,
             "#ed7953"
            ],
            [
             0.7777777777777778,
             "#fb9f3a"
            ],
            [
             0.8888888888888888,
             "#fdca26"
            ],
            [
             1,
             "#f0f921"
            ]
           ],
           "sequentialminus": [
            [
             0,
             "#0d0887"
            ],
            [
             0.1111111111111111,
             "#46039f"
            ],
            [
             0.2222222222222222,
             "#7201a8"
            ],
            [
             0.3333333333333333,
             "#9c179e"
            ],
            [
             0.4444444444444444,
             "#bd3786"
            ],
            [
             0.5555555555555556,
             "#d8576b"
            ],
            [
             0.6666666666666666,
             "#ed7953"
            ],
            [
             0.7777777777777778,
             "#fb9f3a"
            ],
            [
             0.8888888888888888,
             "#fdca26"
            ],
            [
             1,
             "#f0f921"
            ]
           ]
          },
          "colorway": [
           "#636efa",
           "#EF553B",
           "#00cc96",
           "#ab63fa",
           "#FFA15A",
           "#19d3f3",
           "#FF6692",
           "#B6E880",
           "#FF97FF",
           "#FECB52"
          ],
          "font": {
           "color": "#2a3f5f"
          },
          "geo": {
           "bgcolor": "white",
           "lakecolor": "white",
           "landcolor": "#E5ECF6",
           "showlakes": true,
           "showland": true,
           "subunitcolor": "white"
          },
          "hoverlabel": {
           "align": "left"
          },
          "hovermode": "closest",
          "mapbox": {
           "style": "light"
          },
          "paper_bgcolor": "white",
          "plot_bgcolor": "#E5ECF6",
          "polar": {
           "angularaxis": {
            "gridcolor": "white",
            "linecolor": "white",
            "ticks": ""
           },
           "bgcolor": "#E5ECF6",
           "radialaxis": {
            "gridcolor": "white",
            "linecolor": "white",
            "ticks": ""
           }
          },
          "scene": {
           "xaxis": {
            "backgroundcolor": "#E5ECF6",
            "gridcolor": "white",
            "gridwidth": 2,
            "linecolor": "white",
            "showbackground": true,
            "ticks": "",
            "zerolinecolor": "white"
           },
           "yaxis": {
            "backgroundcolor": "#E5ECF6",
            "gridcolor": "white",
            "gridwidth": 2,
            "linecolor": "white",
            "showbackground": true,
            "ticks": "",
            "zerolinecolor": "white"
           },
           "zaxis": {
            "backgroundcolor": "#E5ECF6",
            "gridcolor": "white",
            "gridwidth": 2,
            "linecolor": "white",
            "showbackground": true,
            "ticks": "",
            "zerolinecolor": "white"
           }
          },
          "shapedefaults": {
           "line": {
            "color": "#2a3f5f"
           }
          },
          "ternary": {
           "aaxis": {
            "gridcolor": "white",
            "linecolor": "white",
            "ticks": ""
           },
           "baxis": {
            "gridcolor": "white",
            "linecolor": "white",
            "ticks": ""
           },
           "bgcolor": "#E5ECF6",
           "caxis": {
            "gridcolor": "white",
            "linecolor": "white",
            "ticks": ""
           }
          },
          "title": {
           "x": 0.05
          },
          "xaxis": {
           "automargin": true,
           "gridcolor": "white",
           "linecolor": "white",
           "ticks": "",
           "title": {
            "standoff": 15
           },
           "zerolinecolor": "white",
           "zerolinewidth": 2
          },
          "yaxis": {
           "automargin": true,
           "gridcolor": "white",
           "linecolor": "white",
           "ticks": "",
           "title": {
            "standoff": 15
           },
           "zerolinecolor": "white",
           "zerolinewidth": 2
          }
         }
        },
        "title": {
         "text": "Accuracies of Different Models"
        },
        "xaxis": {
         "title": {
          "text": "Experiment"
         }
        },
        "yaxis": {
         "range": [
          0,
          100
         ],
         "title": {
          "text": "Accuracy (%)"
         }
        }
       }
      }
     },
     "metadata": {},
     "output_type": "display_data"
    }
   ],
   "source": [
    "plot_acc_by_model(filter_exp_by_substring(df_results, ['Salinas_PCA_']))\n"
   ]
  },
  {
   "cell_type": "code",
   "execution_count": 26,
   "metadata": {},
   "outputs": [
    {
     "data": {
      "application/vnd.plotly.v1+json": {
       "config": {
        "plotlyServerURL": "https://plot.ly"
       },
       "data": [
        {
         "marker": {
          "color": "#636EFA"
         },
         "name": "mou",
         "type": "bar",
         "x": [
          "Salinas_PCA_30_mou",
          "Salinas_FastICA_30_mou"
         ],
         "y": [
          88.86918287793974,
          20.512109959541096
         ]
        },
        {
         "marker": {
          "color": "#EF553B"
         },
         "name": "hamida",
         "type": "bar",
         "x": [
          "Salinas_PCA_30_hamida",
          "Salinas_FastICA_30_hamida"
         ],
         "y": [
          95.41096270021616,
          20.512109959541096
         ]
        },
        {
         "marker": {
          "color": "#00CC96"
         },
         "name": "li",
         "type": "bar",
         "x": [
          "Salinas_PCA_30_li",
          "Salinas_FastICA_30_li"
         ],
         "y": [
          95.12830460566424,
          20.512109959541096
         ]
        },
        {
         "marker": {
          "color": "#AB63FA"
         },
         "name": "paoletti",
         "type": "bar",
         "x": [
          "Salinas_PCA_30_paoletti",
          "Salinas_FastICA_30_paoletti"
         ],
         "y": [
          87.3819948641209,
          93.58569343605092
         ]
        }
       ],
       "layout": {
        "barmode": "group",
        "showlegend": true,
        "template": {
         "data": {
          "bar": [
           {
            "error_x": {
             "color": "#2a3f5f"
            },
            "error_y": {
             "color": "#2a3f5f"
            },
            "marker": {
             "line": {
              "color": "#E5ECF6",
              "width": 0.5
             },
             "pattern": {
              "fillmode": "overlay",
              "size": 10,
              "solidity": 0.2
             }
            },
            "type": "bar"
           }
          ],
          "barpolar": [
           {
            "marker": {
             "line": {
              "color": "#E5ECF6",
              "width": 0.5
             },
             "pattern": {
              "fillmode": "overlay",
              "size": 10,
              "solidity": 0.2
             }
            },
            "type": "barpolar"
           }
          ],
          "carpet": [
           {
            "aaxis": {
             "endlinecolor": "#2a3f5f",
             "gridcolor": "white",
             "linecolor": "white",
             "minorgridcolor": "white",
             "startlinecolor": "#2a3f5f"
            },
            "baxis": {
             "endlinecolor": "#2a3f5f",
             "gridcolor": "white",
             "linecolor": "white",
             "minorgridcolor": "white",
             "startlinecolor": "#2a3f5f"
            },
            "type": "carpet"
           }
          ],
          "choropleth": [
           {
            "colorbar": {
             "outlinewidth": 0,
             "ticks": ""
            },
            "type": "choropleth"
           }
          ],
          "contour": [
           {
            "colorbar": {
             "outlinewidth": 0,
             "ticks": ""
            },
            "colorscale": [
             [
              0,
              "#0d0887"
             ],
             [
              0.1111111111111111,
              "#46039f"
             ],
             [
              0.2222222222222222,
              "#7201a8"
             ],
             [
              0.3333333333333333,
              "#9c179e"
             ],
             [
              0.4444444444444444,
              "#bd3786"
             ],
             [
              0.5555555555555556,
              "#d8576b"
             ],
             [
              0.6666666666666666,
              "#ed7953"
             ],
             [
              0.7777777777777778,
              "#fb9f3a"
             ],
             [
              0.8888888888888888,
              "#fdca26"
             ],
             [
              1,
              "#f0f921"
             ]
            ],
            "type": "contour"
           }
          ],
          "contourcarpet": [
           {
            "colorbar": {
             "outlinewidth": 0,
             "ticks": ""
            },
            "type": "contourcarpet"
           }
          ],
          "heatmap": [
           {
            "colorbar": {
             "outlinewidth": 0,
             "ticks": ""
            },
            "colorscale": [
             [
              0,
              "#0d0887"
             ],
             [
              0.1111111111111111,
              "#46039f"
             ],
             [
              0.2222222222222222,
              "#7201a8"
             ],
             [
              0.3333333333333333,
              "#9c179e"
             ],
             [
              0.4444444444444444,
              "#bd3786"
             ],
             [
              0.5555555555555556,
              "#d8576b"
             ],
             [
              0.6666666666666666,
              "#ed7953"
             ],
             [
              0.7777777777777778,
              "#fb9f3a"
             ],
             [
              0.8888888888888888,
              "#fdca26"
             ],
             [
              1,
              "#f0f921"
             ]
            ],
            "type": "heatmap"
           }
          ],
          "heatmapgl": [
           {
            "colorbar": {
             "outlinewidth": 0,
             "ticks": ""
            },
            "colorscale": [
             [
              0,
              "#0d0887"
             ],
             [
              0.1111111111111111,
              "#46039f"
             ],
             [
              0.2222222222222222,
              "#7201a8"
             ],
             [
              0.3333333333333333,
              "#9c179e"
             ],
             [
              0.4444444444444444,
              "#bd3786"
             ],
             [
              0.5555555555555556,
              "#d8576b"
             ],
             [
              0.6666666666666666,
              "#ed7953"
             ],
             [
              0.7777777777777778,
              "#fb9f3a"
             ],
             [
              0.8888888888888888,
              "#fdca26"
             ],
             [
              1,
              "#f0f921"
             ]
            ],
            "type": "heatmapgl"
           }
          ],
          "histogram": [
           {
            "marker": {
             "pattern": {
              "fillmode": "overlay",
              "size": 10,
              "solidity": 0.2
             }
            },
            "type": "histogram"
           }
          ],
          "histogram2d": [
           {
            "colorbar": {
             "outlinewidth": 0,
             "ticks": ""
            },
            "colorscale": [
             [
              0,
              "#0d0887"
             ],
             [
              0.1111111111111111,
              "#46039f"
             ],
             [
              0.2222222222222222,
              "#7201a8"
             ],
             [
              0.3333333333333333,
              "#9c179e"
             ],
             [
              0.4444444444444444,
              "#bd3786"
             ],
             [
              0.5555555555555556,
              "#d8576b"
             ],
             [
              0.6666666666666666,
              "#ed7953"
             ],
             [
              0.7777777777777778,
              "#fb9f3a"
             ],
             [
              0.8888888888888888,
              "#fdca26"
             ],
             [
              1,
              "#f0f921"
             ]
            ],
            "type": "histogram2d"
           }
          ],
          "histogram2dcontour": [
           {
            "colorbar": {
             "outlinewidth": 0,
             "ticks": ""
            },
            "colorscale": [
             [
              0,
              "#0d0887"
             ],
             [
              0.1111111111111111,
              "#46039f"
             ],
             [
              0.2222222222222222,
              "#7201a8"
             ],
             [
              0.3333333333333333,
              "#9c179e"
             ],
             [
              0.4444444444444444,
              "#bd3786"
             ],
             [
              0.5555555555555556,
              "#d8576b"
             ],
             [
              0.6666666666666666,
              "#ed7953"
             ],
             [
              0.7777777777777778,
              "#fb9f3a"
             ],
             [
              0.8888888888888888,
              "#fdca26"
             ],
             [
              1,
              "#f0f921"
             ]
            ],
            "type": "histogram2dcontour"
           }
          ],
          "mesh3d": [
           {
            "colorbar": {
             "outlinewidth": 0,
             "ticks": ""
            },
            "type": "mesh3d"
           }
          ],
          "parcoords": [
           {
            "line": {
             "colorbar": {
              "outlinewidth": 0,
              "ticks": ""
             }
            },
            "type": "parcoords"
           }
          ],
          "pie": [
           {
            "automargin": true,
            "type": "pie"
           }
          ],
          "scatter": [
           {
            "fillpattern": {
             "fillmode": "overlay",
             "size": 10,
             "solidity": 0.2
            },
            "type": "scatter"
           }
          ],
          "scatter3d": [
           {
            "line": {
             "colorbar": {
              "outlinewidth": 0,
              "ticks": ""
             }
            },
            "marker": {
             "colorbar": {
              "outlinewidth": 0,
              "ticks": ""
             }
            },
            "type": "scatter3d"
           }
          ],
          "scattercarpet": [
           {
            "marker": {
             "colorbar": {
              "outlinewidth": 0,
              "ticks": ""
             }
            },
            "type": "scattercarpet"
           }
          ],
          "scattergeo": [
           {
            "marker": {
             "colorbar": {
              "outlinewidth": 0,
              "ticks": ""
             }
            },
            "type": "scattergeo"
           }
          ],
          "scattergl": [
           {
            "marker": {
             "colorbar": {
              "outlinewidth": 0,
              "ticks": ""
             }
            },
            "type": "scattergl"
           }
          ],
          "scattermapbox": [
           {
            "marker": {
             "colorbar": {
              "outlinewidth": 0,
              "ticks": ""
             }
            },
            "type": "scattermapbox"
           }
          ],
          "scatterpolar": [
           {
            "marker": {
             "colorbar": {
              "outlinewidth": 0,
              "ticks": ""
             }
            },
            "type": "scatterpolar"
           }
          ],
          "scatterpolargl": [
           {
            "marker": {
             "colorbar": {
              "outlinewidth": 0,
              "ticks": ""
             }
            },
            "type": "scatterpolargl"
           }
          ],
          "scatterternary": [
           {
            "marker": {
             "colorbar": {
              "outlinewidth": 0,
              "ticks": ""
             }
            },
            "type": "scatterternary"
           }
          ],
          "surface": [
           {
            "colorbar": {
             "outlinewidth": 0,
             "ticks": ""
            },
            "colorscale": [
             [
              0,
              "#0d0887"
             ],
             [
              0.1111111111111111,
              "#46039f"
             ],
             [
              0.2222222222222222,
              "#7201a8"
             ],
             [
              0.3333333333333333,
              "#9c179e"
             ],
             [
              0.4444444444444444,
              "#bd3786"
             ],
             [
              0.5555555555555556,
              "#d8576b"
             ],
             [
              0.6666666666666666,
              "#ed7953"
             ],
             [
              0.7777777777777778,
              "#fb9f3a"
             ],
             [
              0.8888888888888888,
              "#fdca26"
             ],
             [
              1,
              "#f0f921"
             ]
            ],
            "type": "surface"
           }
          ],
          "table": [
           {
            "cells": {
             "fill": {
              "color": "#EBF0F8"
             },
             "line": {
              "color": "white"
             }
            },
            "header": {
             "fill": {
              "color": "#C8D4E3"
             },
             "line": {
              "color": "white"
             }
            },
            "type": "table"
           }
          ]
         },
         "layout": {
          "annotationdefaults": {
           "arrowcolor": "#2a3f5f",
           "arrowhead": 0,
           "arrowwidth": 1
          },
          "autotypenumbers": "strict",
          "coloraxis": {
           "colorbar": {
            "outlinewidth": 0,
            "ticks": ""
           }
          },
          "colorscale": {
           "diverging": [
            [
             0,
             "#8e0152"
            ],
            [
             0.1,
             "#c51b7d"
            ],
            [
             0.2,
             "#de77ae"
            ],
            [
             0.3,
             "#f1b6da"
            ],
            [
             0.4,
             "#fde0ef"
            ],
            [
             0.5,
             "#f7f7f7"
            ],
            [
             0.6,
             "#e6f5d0"
            ],
            [
             0.7,
             "#b8e186"
            ],
            [
             0.8,
             "#7fbc41"
            ],
            [
             0.9,
             "#4d9221"
            ],
            [
             1,
             "#276419"
            ]
           ],
           "sequential": [
            [
             0,
             "#0d0887"
            ],
            [
             0.1111111111111111,
             "#46039f"
            ],
            [
             0.2222222222222222,
             "#7201a8"
            ],
            [
             0.3333333333333333,
             "#9c179e"
            ],
            [
             0.4444444444444444,
             "#bd3786"
            ],
            [
             0.5555555555555556,
             "#d8576b"
            ],
            [
             0.6666666666666666,
             "#ed7953"
            ],
            [
             0.7777777777777778,
             "#fb9f3a"
            ],
            [
             0.8888888888888888,
             "#fdca26"
            ],
            [
             1,
             "#f0f921"
            ]
           ],
           "sequentialminus": [
            [
             0,
             "#0d0887"
            ],
            [
             0.1111111111111111,
             "#46039f"
            ],
            [
             0.2222222222222222,
             "#7201a8"
            ],
            [
             0.3333333333333333,
             "#9c179e"
            ],
            [
             0.4444444444444444,
             "#bd3786"
            ],
            [
             0.5555555555555556,
             "#d8576b"
            ],
            [
             0.6666666666666666,
             "#ed7953"
            ],
            [
             0.7777777777777778,
             "#fb9f3a"
            ],
            [
             0.8888888888888888,
             "#fdca26"
            ],
            [
             1,
             "#f0f921"
            ]
           ]
          },
          "colorway": [
           "#636efa",
           "#EF553B",
           "#00cc96",
           "#ab63fa",
           "#FFA15A",
           "#19d3f3",
           "#FF6692",
           "#B6E880",
           "#FF97FF",
           "#FECB52"
          ],
          "font": {
           "color": "#2a3f5f"
          },
          "geo": {
           "bgcolor": "white",
           "lakecolor": "white",
           "landcolor": "#E5ECF6",
           "showlakes": true,
           "showland": true,
           "subunitcolor": "white"
          },
          "hoverlabel": {
           "align": "left"
          },
          "hovermode": "closest",
          "mapbox": {
           "style": "light"
          },
          "paper_bgcolor": "white",
          "plot_bgcolor": "#E5ECF6",
          "polar": {
           "angularaxis": {
            "gridcolor": "white",
            "linecolor": "white",
            "ticks": ""
           },
           "bgcolor": "#E5ECF6",
           "radialaxis": {
            "gridcolor": "white",
            "linecolor": "white",
            "ticks": ""
           }
          },
          "scene": {
           "xaxis": {
            "backgroundcolor": "#E5ECF6",
            "gridcolor": "white",
            "gridwidth": 2,
            "linecolor": "white",
            "showbackground": true,
            "ticks": "",
            "zerolinecolor": "white"
           },
           "yaxis": {
            "backgroundcolor": "#E5ECF6",
            "gridcolor": "white",
            "gridwidth": 2,
            "linecolor": "white",
            "showbackground": true,
            "ticks": "",
            "zerolinecolor": "white"
           },
           "zaxis": {
            "backgroundcolor": "#E5ECF6",
            "gridcolor": "white",
            "gridwidth": 2,
            "linecolor": "white",
            "showbackground": true,
            "ticks": "",
            "zerolinecolor": "white"
           }
          },
          "shapedefaults": {
           "line": {
            "color": "#2a3f5f"
           }
          },
          "ternary": {
           "aaxis": {
            "gridcolor": "white",
            "linecolor": "white",
            "ticks": ""
           },
           "baxis": {
            "gridcolor": "white",
            "linecolor": "white",
            "ticks": ""
           },
           "bgcolor": "#E5ECF6",
           "caxis": {
            "gridcolor": "white",
            "linecolor": "white",
            "ticks": ""
           }
          },
          "title": {
           "x": 0.05
          },
          "xaxis": {
           "automargin": true,
           "gridcolor": "white",
           "linecolor": "white",
           "ticks": "",
           "title": {
            "standoff": 15
           },
           "zerolinecolor": "white",
           "zerolinewidth": 2
          },
          "yaxis": {
           "automargin": true,
           "gridcolor": "white",
           "linecolor": "white",
           "ticks": "",
           "title": {
            "standoff": 15
           },
           "zerolinecolor": "white",
           "zerolinewidth": 2
          }
         }
        },
        "title": {
         "text": "Accuracies of Different Models"
        },
        "xaxis": {
         "title": {
          "text": "Experiment"
         }
        },
        "yaxis": {
         "range": [
          0,
          100
         ],
         "title": {
          "text": "Accuracy (%)"
         }
        }
       }
      }
     },
     "metadata": {},
     "output_type": "display_data"
    }
   ],
   "source": [
    "filtered_df = df_results.copy()\n",
    "filtered_df = filter_exp_by_substring(filtered_df, ['Salinas_'])\n",
    "\n",
    "filtered_df = filter_exp_by_substring(filtered_df, ['30'])\n",
    "\n",
    "\n",
    "plot_acc_by_model(filtered_df)"
   ]
  },
  {
   "cell_type": "code",
   "execution_count": 125,
   "metadata": {},
   "outputs": [
    {
     "name": "stdout",
     "output_type": "stream",
     "text": [
      "N Components         8          15         30\n",
      "Model                                        \n",
      "hamida        93.628647  96.770417  96.311835\n",
      "li            90.623475  89.511172  89.657528\n",
      "mou           67.307692  74.817055  64.572153\n",
      "paoletti      63.508635  63.245195  67.831008\n",
      "ANOVA test -> F-statistic: 72.95365688049424, p-value: 3.7515043356167765e-06\n",
      "The ANOVA test INDICATES that there is a significant difference in accuracies.\n",
      "\n",
      "Paired T Tests\n",
      "\n",
      "hamida vs li: t-statistic = 4.244343420936107, p-value = 0.051278648283109844\n",
      "\n",
      "hamida vs mou: t-statistic = 9.422853785592263, p-value = 0.011075743909149461\n",
      "THERE IS A SIGNIFICANT DIFFERENCE in accuracies in favor of hamida over mou.\n",
      "\n",
      "hamida vs paoletti: t-statistic = 20.670335067163883, p-value = 0.0023322953248993738\n",
      "THERE IS A SIGNIFICANT DIFFERENCE in accuracies in favor of hamida over paoletti.\n",
      "\n",
      "li vs mou: t-statistic = 6.552496695243886, p-value = 0.02250755702105062\n",
      "THERE IS A SIGNIFICANT DIFFERENCE in accuracies in favor of li over mou.\n",
      "\n",
      "li vs paoletti: t-statistic = 15.288746248302962, p-value = 0.004250892850531383\n",
      "THERE IS A SIGNIFICANT DIFFERENCE in accuracies in favor of li over paoletti.\n",
      "\n",
      "mou vs paoletti: t-statistic = 0.9426648005609881, p-value = 0.4453585599059424\n"
     ]
    }
   ],
   "source": [
    "accuracies_pca = accuracies_by_n_comps(df_results, 'IndianPines', 'PCA')\n",
    "\n",
    "ANOVA_TTest(accuracies_pca, transposed=False, describe=False, ind_samples=False)\n",
    "# ANOVA_TTest(accuracies_pca, transposed=True)"
   ]
  },
  {
   "cell_type": "markdown",
   "metadata": {},
   "source": [
    "## F1 SCORES"
   ]
  },
  {
   "cell_type": "code",
   "execution_count": 111,
   "metadata": {},
   "outputs": [
    {
     "name": "stdout",
     "output_type": "stream",
     "text": [
      "          Class 1   Class 2   Class 3   Class 4   Class 5   Class 6   Class 7  \\\n",
      "Model                                                                           \n",
      "hamida        0.0  1.000000  0.998601  0.946701  1.000000  0.965812  1.000000   \n",
      "li            0.0  0.000000  0.000000  0.000000  0.000000  0.000000  0.000000   \n",
      "mou           0.0  0.891304  0.871130  0.807895  0.871245  0.936404  0.981392   \n",
      "paoletti      0.0  0.906977  0.916422  0.852273  0.872651  0.879747  0.989789   \n",
      "\n",
      "           Class 8   Class 9  Class 10  Class 11  Class 12  Class 13  \\\n",
      "Model                                                                  \n",
      "hamida    1.000000  1.000000  1.000000  0.994315  0.984761  0.991497   \n",
      "li        0.000000  0.000000  0.000000  0.000000  0.384288  0.000000   \n",
      "mou       0.982456  0.990654  0.679245  0.824950  0.883870  0.791145   \n",
      "paoletti  1.000000  0.998955  0.777778  0.921993  0.917566  0.855491   \n",
      "\n",
      "          Class 14  Class 15  Class 16  Class 17  \n",
      "Model                                             \n",
      "hamida    0.997567  0.999210  0.892396  1.000000  \n",
      "li        0.000000  0.000000  0.000000  0.000000  \n",
      "mou       0.982716  0.966474  0.787466  0.994652  \n",
      "paoletti  0.977556  0.972222  0.850440  0.989247  \n",
      "ANOVA test -> F-statistic: 71.32794624335303, p-value: 2.209716179581717e-20\n",
      "The ANOVA test INDICATES that there is a significant difference in accuracies.\n",
      "\n",
      "Paired T Tests\n",
      "\n",
      "hamida vs li: t-statistic = 14.764209259204067, p-value = 9.687825892698229e-11\n",
      "THERE IS A SIGNIFICANT DIFFERENCE in accuracies in favor of hamida over li.\n",
      "\n",
      "hamida vs mou: t-statistic = 4.236388219601607, p-value = 0.0006288126232060183\n",
      "THERE IS A SIGNIFICANT DIFFERENCE in accuracies in favor of hamida over mou.\n",
      "\n",
      "hamida vs paoletti: t-statistic = 4.376413676462797, p-value = 0.00046969918165705844\n",
      "THERE IS A SIGNIFICANT DIFFERENCE in accuracies in favor of hamida over paoletti.\n",
      "\n",
      "li vs mou: t-statistic = -13.578484376074208, p-value = 3.3674784232967e-10\n",
      "THERE IS A SIGNIFICANT DIFFERENCE in accuracies in favor of mou over li.\n",
      "\n",
      "li vs paoletti: t-statistic = -14.185678934573094, p-value = 1.7593713325446511e-10\n",
      "THERE IS A SIGNIFICANT DIFFERENCE in accuracies in favor of paoletti over li.\n",
      "\n",
      "mou vs paoletti: t-statistic = -2.665502408492709, p-value = 0.016925057524837975\n",
      "THERE IS A SIGNIFICANT DIFFERENCE in accuracies in favor of paoletti over mou.\n"
     ]
    }
   ],
   "source": [
    "scores_df = scores_by_model(df_results, \n",
    "                            dataset='IndianPines', \n",
    "                            dr_method='FastICA', \n",
    "                            n_comps=30,\n",
    "                            scores='F1')\n",
    "ANOVA_TTest(scores_df, transposed=False)"
   ]
  },
  {
   "cell_type": "code",
   "execution_count": 60,
   "metadata": {},
   "outputs": [
    {
     "data": {
      "text/html": [
       "<div>\n",
       "<style scoped>\n",
       "    .dataframe tbody tr th:only-of-type {\n",
       "        vertical-align: middle;\n",
       "    }\n",
       "\n",
       "    .dataframe tbody tr th {\n",
       "        vertical-align: top;\n",
       "    }\n",
       "\n",
       "    .dataframe thead th {\n",
       "        text-align: right;\n",
       "    }\n",
       "</style>\n",
       "<table border=\"1\" class=\"dataframe\">\n",
       "  <thead>\n",
       "    <tr style=\"text-align: right;\">\n",
       "      <th>N Components</th>\n",
       "      <th>8</th>\n",
       "      <th>15</th>\n",
       "      <th>30</th>\n",
       "    </tr>\n",
       "    <tr>\n",
       "      <th>Model</th>\n",
       "      <th></th>\n",
       "      <th></th>\n",
       "      <th></th>\n",
       "    </tr>\n",
       "  </thead>\n",
       "  <tbody>\n",
       "    <tr>\n",
       "      <th>hamida</th>\n",
       "      <td>[0.0, 0.9744767738642164, 0.9993294890706719, ...</td>\n",
       "      <td>[0.0, 0.9737980157720681, 0.99892530897367, 0....</td>\n",
       "      <td>[0.0, 0.9757838388988019, 1.0, 0.9977197871801...</td>\n",
       "    </tr>\n",
       "    <tr>\n",
       "      <th>li</th>\n",
       "      <td>[0.0, 0.9529810954920019, 0.9972187104930468, ...</td>\n",
       "      <td>[0.0, 0.9757838388988019, 1.0, 0.9992406985573...</td>\n",
       "      <td>[0.0, 0.9757838388988019, 1.0, 0.9987332151000...</td>\n",
       "    </tr>\n",
       "    <tr>\n",
       "      <th>mou</th>\n",
       "      <td>[0.0, 0.9636504253673627, 0.9913136442603234, ...</td>\n",
       "      <td>[0.0, 0.9678910865656306, 0.9937157373980479, ...</td>\n",
       "      <td>[0.0, 0.960951642099819, 0.9895805503606733, 0...</td>\n",
       "    </tr>\n",
       "    <tr>\n",
       "      <th>paoletti</th>\n",
       "      <td>[0.0, 0.8724862888482633, 0.927277953434895, 0...</td>\n",
       "      <td>[0.0, 0.8605595667870036, 0.9199426111908178, ...</td>\n",
       "      <td>[0.0, 0.9044555634977365, 0.9539492045771699, ...</td>\n",
       "    </tr>\n",
       "  </tbody>\n",
       "</table>\n",
       "</div>"
      ],
      "text/plain": [
       "N Components                                                 8   \\\n",
       "Model                                                             \n",
       "hamida        [0.0, 0.9744767738642164, 0.9993294890706719, ...   \n",
       "li            [0.0, 0.9529810954920019, 0.9972187104930468, ...   \n",
       "mou           [0.0, 0.9636504253673627, 0.9913136442603234, ...   \n",
       "paoletti      [0.0, 0.8724862888482633, 0.927277953434895, 0...   \n",
       "\n",
       "N Components                                                 15  \\\n",
       "Model                                                             \n",
       "hamida        [0.0, 0.9737980157720681, 0.99892530897367, 0....   \n",
       "li            [0.0, 0.9757838388988019, 1.0, 0.9992406985573...   \n",
       "mou           [0.0, 0.9678910865656306, 0.9937157373980479, ...   \n",
       "paoletti      [0.0, 0.8605595667870036, 0.9199426111908178, ...   \n",
       "\n",
       "N Components                                                 30  \n",
       "Model                                                            \n",
       "hamida        [0.0, 0.9757838388988019, 1.0, 0.9977197871801...  \n",
       "li            [0.0, 0.9757838388988019, 1.0, 0.9987332151000...  \n",
       "mou           [0.0, 0.960951642099819, 0.9895805503606733, 0...  \n",
       "paoletti      [0.0, 0.9044555634977365, 0.9539492045771699, ...  "
      ]
     },
     "execution_count": 60,
     "metadata": {},
     "output_type": "execute_result"
    }
   ],
   "source": []
  },
  {
   "cell_type": "code",
   "execution_count": 112,
   "metadata": {},
   "outputs": [
    {
     "data": {
      "application/vnd.plotly.v1+json": {
       "config": {
        "plotlyServerURL": "https://plot.ly"
       },
       "data": [
        {
         "name": "IndianPines_PCA_8_mou",
         "type": "bar",
         "x": [
          "Undefined",
          "Alfalfa",
          "Corn-notill",
          "Corn-mintill",
          "Corn",
          "Grass-pasture",
          "Grass-trees",
          "Grass-pasture-mowed",
          "Hay-windrowed",
          "Oats",
          "Soybean-notill",
          "Soybean-mintill",
          "Soybean-clean",
          "Wheat",
          "Woods",
          "Buildings-Grass-Trees-Drives",
          "Stone-Steel-Towers"
         ],
         "y": [
          0,
          0.2909090909090909,
          0.5605331358756016,
          0.4690265486725664,
          0.625,
          0.7175257731958763,
          0.8671586715867159,
          0.7692307692307693,
          0.9467084639498433,
          0,
          0.5899705014749262,
          0.7072111207645526,
          0.3448275862068966,
          0.5337423312883436,
          0.9055400557991231,
          0.4157814871016692,
          0.9891304347826086
         ]
        },
        {
         "name": "IndianPines_PCA_8_hamida",
         "type": "bar",
         "x": [
          "Undefined",
          "Alfalfa",
          "Corn-notill",
          "Corn-mintill",
          "Corn",
          "Grass-pasture",
          "Grass-trees",
          "Grass-pasture-mowed",
          "Hay-windrowed",
          "Oats",
          "Soybean-notill",
          "Soybean-mintill",
          "Soybean-clean",
          "Wheat",
          "Woods",
          "Buildings-Grass-Trees-Drives",
          "Stone-Steel-Towers"
         ],
         "y": [
          0,
          0.9292929292929293,
          0.9295470884255931,
          0.9157829070492826,
          0.9833333333333333,
          0.9442622950819672,
          0.989159891598916,
          0.9180327868852459,
          0.9926238145416227,
          0.8695652173913043,
          0.9579746835443038,
          0.9454768225444149,
          0.9333333333333333,
          1,
          0.9771406431615652,
          0.7900466562986003,
          1
         ]
        },
        {
         "name": "IndianPines_PCA_8_li",
         "type": "bar",
         "x": [
          "Undefined",
          "Alfalfa",
          "Corn-notill",
          "Corn-mintill",
          "Corn",
          "Grass-pasture",
          "Grass-trees",
          "Grass-pasture-mowed",
          "Hay-windrowed",
          "Oats",
          "Soybean-notill",
          "Soybean-mintill",
          "Soybean-clean",
          "Wheat",
          "Woods",
          "Buildings-Grass-Trees-Drives",
          "Stone-Steel-Towers"
         ],
         "y": [
          0,
          0.989010989010989,
          0.8135461268976255,
          0.8762626262626263,
          0.9893390191897654,
          0.9439153439153439,
          0.9958960328317373,
          0.9818181818181818,
          0.9989550679205852,
          1,
          0.9272264631043257,
          0.9019068213092196,
          0.8726061615320566,
          1,
          0.9853928148440584,
          0.865021770682148,
          1
         ]
        },
        {
         "name": "IndianPines_PCA_8_paoletti",
         "type": "bar",
         "x": [
          "Undefined",
          "Alfalfa",
          "Corn-notill",
          "Corn-mintill",
          "Corn",
          "Grass-pasture",
          "Grass-trees",
          "Grass-pasture-mowed",
          "Hay-windrowed",
          "Oats",
          "Soybean-notill",
          "Soybean-mintill",
          "Soybean-clean",
          "Wheat",
          "Woods",
          "Buildings-Grass-Trees-Drives",
          "Stone-Steel-Towers"
         ],
         "y": [
          0,
          0.5352112676056338,
          0.48417132216014896,
          0.09967497291440953,
          0.5098039215686274,
          0.7380952380952381,
          0.9051948051948052,
          0.18181818181818182,
          0.9223205506391348,
          0.4897959183673469,
          0.5827205882352942,
          0.6271656271656272,
          0.35258964143426297,
          0.8377192982456141,
          0.9170412750306498,
          0.5165562913907285,
          0.9837837837837838
         ]
        },
        {
         "name": "IndianPines_PCA_15_mou",
         "type": "bar",
         "x": [
          "Undefined",
          "Alfalfa",
          "Corn-notill",
          "Corn-mintill",
          "Corn",
          "Grass-pasture",
          "Grass-trees",
          "Grass-pasture-mowed",
          "Hay-windrowed",
          "Oats",
          "Soybean-notill",
          "Soybean-mintill",
          "Soybean-clean",
          "Wheat",
          "Woods",
          "Buildings-Grass-Trees-Drives",
          "Stone-Steel-Towers"
         ],
         "y": [
          0,
          0,
          0.7592717464598786,
          0.6723300970873787,
          0.559610705596107,
          0.7166276346604216,
          0.7785488958990536,
          0.06451612903225806,
          0.9401197604790419,
          0,
          0.7698945349952061,
          0.7829571820291078,
          0.5878962536023055,
          0.6723549488054608,
          0.9166995657323332,
          0.25149700598802394,
          0.983957219251337
         ]
        },
        {
         "name": "IndianPines_PCA_15_hamida",
         "type": "bar",
         "x": [
          "Undefined",
          "Alfalfa",
          "Corn-notill",
          "Corn-mintill",
          "Corn",
          "Grass-pasture",
          "Grass-trees",
          "Grass-pasture-mowed",
          "Hay-windrowed",
          "Oats",
          "Soybean-notill",
          "Soybean-mintill",
          "Soybean-clean",
          "Wheat",
          "Woods",
          "Buildings-Grass-Trees-Drives",
          "Stone-Steel-Towers"
         ],
         "y": [
          0,
          1,
          0.9890883491728265,
          0.9436352121595947,
          0.9936575052854123,
          0.967948717948718,
          0.9986320109439124,
          1,
          1,
          1,
          0.9876543209876543,
          0.9802631578947368,
          0.9897959183673469,
          1,
          0.990990990990991,
          0.8562962962962963,
          1
         ]
        },
        {
         "name": "IndianPines_PCA_15_li",
         "type": "bar",
         "x": [
          "Undefined",
          "Alfalfa",
          "Corn-notill",
          "Corn-mintill",
          "Corn",
          "Grass-pasture",
          "Grass-trees",
          "Grass-pasture-mowed",
          "Hay-windrowed",
          "Oats",
          "Soybean-notill",
          "Soybean-mintill",
          "Soybean-clean",
          "Wheat",
          "Woods",
          "Buildings-Grass-Trees-Drives",
          "Stone-Steel-Towers"
         ],
         "y": [
          0,
          0.989010989010989,
          0.8579525327665604,
          0.8134228187919463,
          0.9536423841059603,
          0.943796394485684,
          0.9965776865160849,
          1,
          1,
          0.9743589743589743,
          0.8597242035187826,
          0.8882912701696318,
          0.8700854700854701,
          1,
          0.9819324430479183,
          0.8521229868228404,
          0.9945945945945946
         ]
        },
        {
         "name": "IndianPines_PCA_15_paoletti",
         "type": "bar",
         "x": [
          "Undefined",
          "Alfalfa",
          "Corn-notill",
          "Corn-mintill",
          "Corn",
          "Grass-pasture",
          "Grass-trees",
          "Grass-pasture-mowed",
          "Hay-windrowed",
          "Oats",
          "Soybean-notill",
          "Soybean-mintill",
          "Soybean-clean",
          "Wheat",
          "Woods",
          "Buildings-Grass-Trees-Drives",
          "Stone-Steel-Towers"
         ],
         "y": [
          0,
          0.32142857142857145,
          0.5383149065955013,
          0.2672727272727273,
          0.5700712589073634,
          0.5394828791055206,
          0.8516868236791852,
          0,
          0.9054054054054054,
          0,
          0.6660029865604778,
          0.7060236828556719,
          0.287292817679558,
          0.8167539267015707,
          0.7395736793327155,
          0.30265848670756645,
          0.989247311827957
         ]
        },
        {
         "name": "IndianPines_PCA_30_mou",
         "type": "bar",
         "x": [
          "Undefined",
          "Alfalfa",
          "Corn-notill",
          "Corn-mintill",
          "Corn",
          "Grass-pasture",
          "Grass-trees",
          "Grass-pasture-mowed",
          "Hay-windrowed",
          "Oats",
          "Soybean-notill",
          "Soybean-mintill",
          "Soybean-clean",
          "Wheat",
          "Woods",
          "Buildings-Grass-Trees-Drives",
          "Stone-Steel-Towers"
         ],
         "y": [
          0,
          0,
          0.5655509065550907,
          0.4325767690253672,
          0.4444444444444444,
          0.3314415437003405,
          0.7060439560439561,
          0.14285714285714285,
          0.8125,
          0,
          0.6720741599073001,
          0.7388252678241596,
          0.4017094017094017,
          0.8393782383419689,
          0.8631944444444445,
          0.05925925925925926,
          0.978021978021978
         ]
        },
        {
         "name": "IndianPines_PCA_30_hamida",
         "type": "bar",
         "x": [
          "Undefined",
          "Alfalfa",
          "Corn-notill",
          "Corn-mintill",
          "Corn",
          "Grass-pasture",
          "Grass-trees",
          "Grass-pasture-mowed",
          "Hay-windrowed",
          "Oats",
          "Soybean-notill",
          "Soybean-mintill",
          "Soybean-clean",
          "Wheat",
          "Woods",
          "Buildings-Grass-Trees-Drives",
          "Stone-Steel-Towers"
         ],
         "y": [
          0,
          1,
          0.9767282683093771,
          0.9064748201438849,
          0.9559471365638766,
          0.9647058823529412,
          1,
          1,
          1,
          1,
          0.9827676240208877,
          0.9826661163846472,
          0.9628406275805119,
          1,
          0.9992101105845181,
          0.8955650929899857,
          1
         ]
        },
        {
         "name": "IndianPines_PCA_30_li",
         "type": "bar",
         "x": [
          "Undefined",
          "Alfalfa",
          "Corn-notill",
          "Corn-mintill",
          "Corn",
          "Grass-pasture",
          "Grass-trees",
          "Grass-pasture-mowed",
          "Hay-windrowed",
          "Oats",
          "Soybean-notill",
          "Soybean-mintill",
          "Soybean-clean",
          "Wheat",
          "Woods",
          "Buildings-Grass-Trees-Drives",
          "Stone-Steel-Towers"
         ],
         "y": [
          0,
          1,
          0.8419847328244274,
          0.848816029143898,
          0.8777555110220441,
          0.958109559613319,
          0.9979494190020506,
          1,
          1,
          0.9743589743589743,
          0.8502824858757062,
          0.8828190158465388,
          0.9057239057239057,
          0.9975669099756691,
          0.9940875049270792,
          0.8723098995695839,
          0.9946524064171123
         ]
        },
        {
         "name": "IndianPines_PCA_30_paoletti",
         "type": "bar",
         "x": [
          "Undefined",
          "Alfalfa",
          "Corn-notill",
          "Corn-mintill",
          "Corn",
          "Grass-pasture",
          "Grass-trees",
          "Grass-pasture-mowed",
          "Hay-windrowed",
          "Oats",
          "Soybean-notill",
          "Soybean-mintill",
          "Soybean-clean",
          "Wheat",
          "Woods",
          "Buildings-Grass-Trees-Drives",
          "Stone-Steel-Towers"
         ],
         "y": [
          0,
          0.23076923076923078,
          0.5650056200824278,
          0.45233866193013617,
          0.7231404958677686,
          0.37267080745341613,
          0.829523187459177,
          0.46153846153846156,
          0.9383983572895277,
          0,
          0.693200663349917,
          0.7229420731707317,
          0.40615384615384614,
          0.91415313225058,
          0.879543834640057,
          0.49415204678362573,
          0.9945945945945946
         ]
        }
       ],
       "layout": {
        "barmode": "group",
        "template": {
         "data": {
          "bar": [
           {
            "error_x": {
             "color": "#2a3f5f"
            },
            "error_y": {
             "color": "#2a3f5f"
            },
            "marker": {
             "line": {
              "color": "#E5ECF6",
              "width": 0.5
             },
             "pattern": {
              "fillmode": "overlay",
              "size": 10,
              "solidity": 0.2
             }
            },
            "type": "bar"
           }
          ],
          "barpolar": [
           {
            "marker": {
             "line": {
              "color": "#E5ECF6",
              "width": 0.5
             },
             "pattern": {
              "fillmode": "overlay",
              "size": 10,
              "solidity": 0.2
             }
            },
            "type": "barpolar"
           }
          ],
          "carpet": [
           {
            "aaxis": {
             "endlinecolor": "#2a3f5f",
             "gridcolor": "white",
             "linecolor": "white",
             "minorgridcolor": "white",
             "startlinecolor": "#2a3f5f"
            },
            "baxis": {
             "endlinecolor": "#2a3f5f",
             "gridcolor": "white",
             "linecolor": "white",
             "minorgridcolor": "white",
             "startlinecolor": "#2a3f5f"
            },
            "type": "carpet"
           }
          ],
          "choropleth": [
           {
            "colorbar": {
             "outlinewidth": 0,
             "ticks": ""
            },
            "type": "choropleth"
           }
          ],
          "contour": [
           {
            "colorbar": {
             "outlinewidth": 0,
             "ticks": ""
            },
            "colorscale": [
             [
              0,
              "#0d0887"
             ],
             [
              0.1111111111111111,
              "#46039f"
             ],
             [
              0.2222222222222222,
              "#7201a8"
             ],
             [
              0.3333333333333333,
              "#9c179e"
             ],
             [
              0.4444444444444444,
              "#bd3786"
             ],
             [
              0.5555555555555556,
              "#d8576b"
             ],
             [
              0.6666666666666666,
              "#ed7953"
             ],
             [
              0.7777777777777778,
              "#fb9f3a"
             ],
             [
              0.8888888888888888,
              "#fdca26"
             ],
             [
              1,
              "#f0f921"
             ]
            ],
            "type": "contour"
           }
          ],
          "contourcarpet": [
           {
            "colorbar": {
             "outlinewidth": 0,
             "ticks": ""
            },
            "type": "contourcarpet"
           }
          ],
          "heatmap": [
           {
            "colorbar": {
             "outlinewidth": 0,
             "ticks": ""
            },
            "colorscale": [
             [
              0,
              "#0d0887"
             ],
             [
              0.1111111111111111,
              "#46039f"
             ],
             [
              0.2222222222222222,
              "#7201a8"
             ],
             [
              0.3333333333333333,
              "#9c179e"
             ],
             [
              0.4444444444444444,
              "#bd3786"
             ],
             [
              0.5555555555555556,
              "#d8576b"
             ],
             [
              0.6666666666666666,
              "#ed7953"
             ],
             [
              0.7777777777777778,
              "#fb9f3a"
             ],
             [
              0.8888888888888888,
              "#fdca26"
             ],
             [
              1,
              "#f0f921"
             ]
            ],
            "type": "heatmap"
           }
          ],
          "heatmapgl": [
           {
            "colorbar": {
             "outlinewidth": 0,
             "ticks": ""
            },
            "colorscale": [
             [
              0,
              "#0d0887"
             ],
             [
              0.1111111111111111,
              "#46039f"
             ],
             [
              0.2222222222222222,
              "#7201a8"
             ],
             [
              0.3333333333333333,
              "#9c179e"
             ],
             [
              0.4444444444444444,
              "#bd3786"
             ],
             [
              0.5555555555555556,
              "#d8576b"
             ],
             [
              0.6666666666666666,
              "#ed7953"
             ],
             [
              0.7777777777777778,
              "#fb9f3a"
             ],
             [
              0.8888888888888888,
              "#fdca26"
             ],
             [
              1,
              "#f0f921"
             ]
            ],
            "type": "heatmapgl"
           }
          ],
          "histogram": [
           {
            "marker": {
             "pattern": {
              "fillmode": "overlay",
              "size": 10,
              "solidity": 0.2
             }
            },
            "type": "histogram"
           }
          ],
          "histogram2d": [
           {
            "colorbar": {
             "outlinewidth": 0,
             "ticks": ""
            },
            "colorscale": [
             [
              0,
              "#0d0887"
             ],
             [
              0.1111111111111111,
              "#46039f"
             ],
             [
              0.2222222222222222,
              "#7201a8"
             ],
             [
              0.3333333333333333,
              "#9c179e"
             ],
             [
              0.4444444444444444,
              "#bd3786"
             ],
             [
              0.5555555555555556,
              "#d8576b"
             ],
             [
              0.6666666666666666,
              "#ed7953"
             ],
             [
              0.7777777777777778,
              "#fb9f3a"
             ],
             [
              0.8888888888888888,
              "#fdca26"
             ],
             [
              1,
              "#f0f921"
             ]
            ],
            "type": "histogram2d"
           }
          ],
          "histogram2dcontour": [
           {
            "colorbar": {
             "outlinewidth": 0,
             "ticks": ""
            },
            "colorscale": [
             [
              0,
              "#0d0887"
             ],
             [
              0.1111111111111111,
              "#46039f"
             ],
             [
              0.2222222222222222,
              "#7201a8"
             ],
             [
              0.3333333333333333,
              "#9c179e"
             ],
             [
              0.4444444444444444,
              "#bd3786"
             ],
             [
              0.5555555555555556,
              "#d8576b"
             ],
             [
              0.6666666666666666,
              "#ed7953"
             ],
             [
              0.7777777777777778,
              "#fb9f3a"
             ],
             [
              0.8888888888888888,
              "#fdca26"
             ],
             [
              1,
              "#f0f921"
             ]
            ],
            "type": "histogram2dcontour"
           }
          ],
          "mesh3d": [
           {
            "colorbar": {
             "outlinewidth": 0,
             "ticks": ""
            },
            "type": "mesh3d"
           }
          ],
          "parcoords": [
           {
            "line": {
             "colorbar": {
              "outlinewidth": 0,
              "ticks": ""
             }
            },
            "type": "parcoords"
           }
          ],
          "pie": [
           {
            "automargin": true,
            "type": "pie"
           }
          ],
          "scatter": [
           {
            "fillpattern": {
             "fillmode": "overlay",
             "size": 10,
             "solidity": 0.2
            },
            "type": "scatter"
           }
          ],
          "scatter3d": [
           {
            "line": {
             "colorbar": {
              "outlinewidth": 0,
              "ticks": ""
             }
            },
            "marker": {
             "colorbar": {
              "outlinewidth": 0,
              "ticks": ""
             }
            },
            "type": "scatter3d"
           }
          ],
          "scattercarpet": [
           {
            "marker": {
             "colorbar": {
              "outlinewidth": 0,
              "ticks": ""
             }
            },
            "type": "scattercarpet"
           }
          ],
          "scattergeo": [
           {
            "marker": {
             "colorbar": {
              "outlinewidth": 0,
              "ticks": ""
             }
            },
            "type": "scattergeo"
           }
          ],
          "scattergl": [
           {
            "marker": {
             "colorbar": {
              "outlinewidth": 0,
              "ticks": ""
             }
            },
            "type": "scattergl"
           }
          ],
          "scattermapbox": [
           {
            "marker": {
             "colorbar": {
              "outlinewidth": 0,
              "ticks": ""
             }
            },
            "type": "scattermapbox"
           }
          ],
          "scatterpolar": [
           {
            "marker": {
             "colorbar": {
              "outlinewidth": 0,
              "ticks": ""
             }
            },
            "type": "scatterpolar"
           }
          ],
          "scatterpolargl": [
           {
            "marker": {
             "colorbar": {
              "outlinewidth": 0,
              "ticks": ""
             }
            },
            "type": "scatterpolargl"
           }
          ],
          "scatterternary": [
           {
            "marker": {
             "colorbar": {
              "outlinewidth": 0,
              "ticks": ""
             }
            },
            "type": "scatterternary"
           }
          ],
          "surface": [
           {
            "colorbar": {
             "outlinewidth": 0,
             "ticks": ""
            },
            "colorscale": [
             [
              0,
              "#0d0887"
             ],
             [
              0.1111111111111111,
              "#46039f"
             ],
             [
              0.2222222222222222,
              "#7201a8"
             ],
             [
              0.3333333333333333,
              "#9c179e"
             ],
             [
              0.4444444444444444,
              "#bd3786"
             ],
             [
              0.5555555555555556,
              "#d8576b"
             ],
             [
              0.6666666666666666,
              "#ed7953"
             ],
             [
              0.7777777777777778,
              "#fb9f3a"
             ],
             [
              0.8888888888888888,
              "#fdca26"
             ],
             [
              1,
              "#f0f921"
             ]
            ],
            "type": "surface"
           }
          ],
          "table": [
           {
            "cells": {
             "fill": {
              "color": "#EBF0F8"
             },
             "line": {
              "color": "white"
             }
            },
            "header": {
             "fill": {
              "color": "#C8D4E3"
             },
             "line": {
              "color": "white"
             }
            },
            "type": "table"
           }
          ]
         },
         "layout": {
          "annotationdefaults": {
           "arrowcolor": "#2a3f5f",
           "arrowhead": 0,
           "arrowwidth": 1
          },
          "autotypenumbers": "strict",
          "coloraxis": {
           "colorbar": {
            "outlinewidth": 0,
            "ticks": ""
           }
          },
          "colorscale": {
           "diverging": [
            [
             0,
             "#8e0152"
            ],
            [
             0.1,
             "#c51b7d"
            ],
            [
             0.2,
             "#de77ae"
            ],
            [
             0.3,
             "#f1b6da"
            ],
            [
             0.4,
             "#fde0ef"
            ],
            [
             0.5,
             "#f7f7f7"
            ],
            [
             0.6,
             "#e6f5d0"
            ],
            [
             0.7,
             "#b8e186"
            ],
            [
             0.8,
             "#7fbc41"
            ],
            [
             0.9,
             "#4d9221"
            ],
            [
             1,
             "#276419"
            ]
           ],
           "sequential": [
            [
             0,
             "#0d0887"
            ],
            [
             0.1111111111111111,
             "#46039f"
            ],
            [
             0.2222222222222222,
             "#7201a8"
            ],
            [
             0.3333333333333333,
             "#9c179e"
            ],
            [
             0.4444444444444444,
             "#bd3786"
            ],
            [
             0.5555555555555556,
             "#d8576b"
            ],
            [
             0.6666666666666666,
             "#ed7953"
            ],
            [
             0.7777777777777778,
             "#fb9f3a"
            ],
            [
             0.8888888888888888,
             "#fdca26"
            ],
            [
             1,
             "#f0f921"
            ]
           ],
           "sequentialminus": [
            [
             0,
             "#0d0887"
            ],
            [
             0.1111111111111111,
             "#46039f"
            ],
            [
             0.2222222222222222,
             "#7201a8"
            ],
            [
             0.3333333333333333,
             "#9c179e"
            ],
            [
             0.4444444444444444,
             "#bd3786"
            ],
            [
             0.5555555555555556,
             "#d8576b"
            ],
            [
             0.6666666666666666,
             "#ed7953"
            ],
            [
             0.7777777777777778,
             "#fb9f3a"
            ],
            [
             0.8888888888888888,
             "#fdca26"
            ],
            [
             1,
             "#f0f921"
            ]
           ]
          },
          "colorway": [
           "#636efa",
           "#EF553B",
           "#00cc96",
           "#ab63fa",
           "#FFA15A",
           "#19d3f3",
           "#FF6692",
           "#B6E880",
           "#FF97FF",
           "#FECB52"
          ],
          "font": {
           "color": "#2a3f5f"
          },
          "geo": {
           "bgcolor": "white",
           "lakecolor": "white",
           "landcolor": "#E5ECF6",
           "showlakes": true,
           "showland": true,
           "subunitcolor": "white"
          },
          "hoverlabel": {
           "align": "left"
          },
          "hovermode": "closest",
          "mapbox": {
           "style": "light"
          },
          "paper_bgcolor": "white",
          "plot_bgcolor": "#E5ECF6",
          "polar": {
           "angularaxis": {
            "gridcolor": "white",
            "linecolor": "white",
            "ticks": ""
           },
           "bgcolor": "#E5ECF6",
           "radialaxis": {
            "gridcolor": "white",
            "linecolor": "white",
            "ticks": ""
           }
          },
          "scene": {
           "xaxis": {
            "backgroundcolor": "#E5ECF6",
            "gridcolor": "white",
            "gridwidth": 2,
            "linecolor": "white",
            "showbackground": true,
            "ticks": "",
            "zerolinecolor": "white"
           },
           "yaxis": {
            "backgroundcolor": "#E5ECF6",
            "gridcolor": "white",
            "gridwidth": 2,
            "linecolor": "white",
            "showbackground": true,
            "ticks": "",
            "zerolinecolor": "white"
           },
           "zaxis": {
            "backgroundcolor": "#E5ECF6",
            "gridcolor": "white",
            "gridwidth": 2,
            "linecolor": "white",
            "showbackground": true,
            "ticks": "",
            "zerolinecolor": "white"
           }
          },
          "shapedefaults": {
           "line": {
            "color": "#2a3f5f"
           }
          },
          "ternary": {
           "aaxis": {
            "gridcolor": "white",
            "linecolor": "white",
            "ticks": ""
           },
           "baxis": {
            "gridcolor": "white",
            "linecolor": "white",
            "ticks": ""
           },
           "bgcolor": "#E5ECF6",
           "caxis": {
            "gridcolor": "white",
            "linecolor": "white",
            "ticks": ""
           }
          },
          "title": {
           "x": 0.05
          },
          "xaxis": {
           "automargin": true,
           "gridcolor": "white",
           "linecolor": "white",
           "ticks": "",
           "title": {
            "standoff": 15
           },
           "zerolinecolor": "white",
           "zerolinewidth": 2
          },
          "yaxis": {
           "automargin": true,
           "gridcolor": "white",
           "linecolor": "white",
           "ticks": "",
           "title": {
            "standoff": 15
           },
           "zerolinecolor": "white",
           "zerolinewidth": 2
          }
         }
        },
        "title": {
         "text": "F1 scores Values by Experiment"
        },
        "xaxis": {
         "title": {
          "text": "Class"
         }
        },
        "yaxis": {
         "title": {
          "text": "F1 scores"
         }
        }
       }
      }
     },
     "metadata": {},
     "output_type": "display_data"
    }
   ],
   "source": [
    "plot_grouped_values(df_results[(df_results['Dataset'] == 'IndianPines') \n",
    "                & (df_results['DR Method'] == 'PCA')], \n",
    "                INDIANPINES_LABELS, # SALINAS_LABELS INDIANPINES_LABELS\n",
    "                metric='F1 scores')"
   ]
  },
  {
   "cell_type": "code",
   "execution_count": 28,
   "metadata": {},
   "outputs": [
    {
     "data": {
      "application/vnd.plotly.v1+json": {
       "config": {
        "plotlyServerURL": "https://plot.ly"
       },
       "data": [
        {
         "name": "Salinas_PCA_8_li",
         "type": "bar",
         "x": [
          "Undefined",
          "Brocoli_green_weeds_1",
          "Brocoli_green_weeds_2",
          "Fallow",
          "Fallow_rough_plow",
          "Fallow_smooth",
          "Stubble",
          "Celery",
          "Grapes_untrained",
          "Soil_vinyard_develop",
          "Corn_senesced_green_weeds",
          "Lettuce_romaine_4wk",
          "Lettuce_romaine_5wk",
          "Lettuce_romaine_6wk",
          "Lettuce_romaine_7wk",
          "Vinyard_untrained",
          "Vinyard_vertical_trellis"
         ],
         "y": [
          0,
          0.9529810954920019,
          0.9972187104930468,
          0.32142857142857145,
          0.9766233766233766,
          0.8520664349169563,
          0.9993044284720612,
          0.9946360153256705,
          0.759471644388199,
          0.918918918918919,
          0.7036175163951767,
          0.6914446002805049,
          0.8392370572207084,
          0.9723643807574207,
          0.9712292938099389,
          0.5844496616489435,
          0.8890147225368064
         ]
        },
        {
         "name": "Salinas_PCA_15_li",
         "type": "bar",
         "x": [
          "Undefined",
          "Brocoli_green_weeds_1",
          "Brocoli_green_weeds_2",
          "Fallow",
          "Fallow_rough_plow",
          "Fallow_smooth",
          "Stubble",
          "Celery",
          "Grapes_untrained",
          "Soil_vinyard_develop",
          "Corn_senesced_green_weeds",
          "Lettuce_romaine_4wk",
          "Lettuce_romaine_5wk",
          "Lettuce_romaine_6wk",
          "Lettuce_romaine_7wk",
          "Vinyard_untrained",
          "Vinyard_vertical_trellis"
         ],
         "y": [
          0,
          0.9757838388988019,
          1,
          0.9992406985573272,
          0.9956803455723542,
          0.9986932984879596,
          0.9922362224767723,
          0.9939581284248982,
          0.9237847934034896,
          0.9977401129943503,
          0.9808227652335292,
          0.9744075829383886,
          0.9839684625492773,
          0.9878453038674033,
          0.9853010905642484,
          0.8765626067354327,
          0.9250446162998215
         ]
        },
        {
         "name": "Salinas_PCA_30_li",
         "type": "bar",
         "x": [
          "Undefined",
          "Brocoli_green_weeds_1",
          "Brocoli_green_weeds_2",
          "Fallow",
          "Fallow_rough_plow",
          "Fallow_smooth",
          "Stubble",
          "Celery",
          "Grapes_untrained",
          "Soil_vinyard_develop",
          "Corn_senesced_green_weeds",
          "Lettuce_romaine_4wk",
          "Lettuce_romaine_5wk",
          "Lettuce_romaine_6wk",
          "Lettuce_romaine_7wk",
          "Vinyard_untrained",
          "Vinyard_vertical_trellis"
         ],
         "y": [
          0,
          0.9757838388988019,
          1,
          0.998733215100076,
          0.99568345323741,
          0.9981336319522209,
          0.9922362224767723,
          0.9939581284248982,
          0.9304831573875334,
          0.9978195913752725,
          0.9812307692307692,
          0.9799426934097422,
          0.984485932158822,
          0.9878453038674033,
          0.9843379212149976,
          0.8750635947379897,
          0.9237641453245979
         ]
        }
       ],
       "layout": {
        "barmode": "group",
        "template": {
         "data": {
          "bar": [
           {
            "error_x": {
             "color": "#2a3f5f"
            },
            "error_y": {
             "color": "#2a3f5f"
            },
            "marker": {
             "line": {
              "color": "#E5ECF6",
              "width": 0.5
             },
             "pattern": {
              "fillmode": "overlay",
              "size": 10,
              "solidity": 0.2
             }
            },
            "type": "bar"
           }
          ],
          "barpolar": [
           {
            "marker": {
             "line": {
              "color": "#E5ECF6",
              "width": 0.5
             },
             "pattern": {
              "fillmode": "overlay",
              "size": 10,
              "solidity": 0.2
             }
            },
            "type": "barpolar"
           }
          ],
          "carpet": [
           {
            "aaxis": {
             "endlinecolor": "#2a3f5f",
             "gridcolor": "white",
             "linecolor": "white",
             "minorgridcolor": "white",
             "startlinecolor": "#2a3f5f"
            },
            "baxis": {
             "endlinecolor": "#2a3f5f",
             "gridcolor": "white",
             "linecolor": "white",
             "minorgridcolor": "white",
             "startlinecolor": "#2a3f5f"
            },
            "type": "carpet"
           }
          ],
          "choropleth": [
           {
            "colorbar": {
             "outlinewidth": 0,
             "ticks": ""
            },
            "type": "choropleth"
           }
          ],
          "contour": [
           {
            "colorbar": {
             "outlinewidth": 0,
             "ticks": ""
            },
            "colorscale": [
             [
              0,
              "#0d0887"
             ],
             [
              0.1111111111111111,
              "#46039f"
             ],
             [
              0.2222222222222222,
              "#7201a8"
             ],
             [
              0.3333333333333333,
              "#9c179e"
             ],
             [
              0.4444444444444444,
              "#bd3786"
             ],
             [
              0.5555555555555556,
              "#d8576b"
             ],
             [
              0.6666666666666666,
              "#ed7953"
             ],
             [
              0.7777777777777778,
              "#fb9f3a"
             ],
             [
              0.8888888888888888,
              "#fdca26"
             ],
             [
              1,
              "#f0f921"
             ]
            ],
            "type": "contour"
           }
          ],
          "contourcarpet": [
           {
            "colorbar": {
             "outlinewidth": 0,
             "ticks": ""
            },
            "type": "contourcarpet"
           }
          ],
          "heatmap": [
           {
            "colorbar": {
             "outlinewidth": 0,
             "ticks": ""
            },
            "colorscale": [
             [
              0,
              "#0d0887"
             ],
             [
              0.1111111111111111,
              "#46039f"
             ],
             [
              0.2222222222222222,
              "#7201a8"
             ],
             [
              0.3333333333333333,
              "#9c179e"
             ],
             [
              0.4444444444444444,
              "#bd3786"
             ],
             [
              0.5555555555555556,
              "#d8576b"
             ],
             [
              0.6666666666666666,
              "#ed7953"
             ],
             [
              0.7777777777777778,
              "#fb9f3a"
             ],
             [
              0.8888888888888888,
              "#fdca26"
             ],
             [
              1,
              "#f0f921"
             ]
            ],
            "type": "heatmap"
           }
          ],
          "heatmapgl": [
           {
            "colorbar": {
             "outlinewidth": 0,
             "ticks": ""
            },
            "colorscale": [
             [
              0,
              "#0d0887"
             ],
             [
              0.1111111111111111,
              "#46039f"
             ],
             [
              0.2222222222222222,
              "#7201a8"
             ],
             [
              0.3333333333333333,
              "#9c179e"
             ],
             [
              0.4444444444444444,
              "#bd3786"
             ],
             [
              0.5555555555555556,
              "#d8576b"
             ],
             [
              0.6666666666666666,
              "#ed7953"
             ],
             [
              0.7777777777777778,
              "#fb9f3a"
             ],
             [
              0.8888888888888888,
              "#fdca26"
             ],
             [
              1,
              "#f0f921"
             ]
            ],
            "type": "heatmapgl"
           }
          ],
          "histogram": [
           {
            "marker": {
             "pattern": {
              "fillmode": "overlay",
              "size": 10,
              "solidity": 0.2
             }
            },
            "type": "histogram"
           }
          ],
          "histogram2d": [
           {
            "colorbar": {
             "outlinewidth": 0,
             "ticks": ""
            },
            "colorscale": [
             [
              0,
              "#0d0887"
             ],
             [
              0.1111111111111111,
              "#46039f"
             ],
             [
              0.2222222222222222,
              "#7201a8"
             ],
             [
              0.3333333333333333,
              "#9c179e"
             ],
             [
              0.4444444444444444,
              "#bd3786"
             ],
             [
              0.5555555555555556,
              "#d8576b"
             ],
             [
              0.6666666666666666,
              "#ed7953"
             ],
             [
              0.7777777777777778,
              "#fb9f3a"
             ],
             [
              0.8888888888888888,
              "#fdca26"
             ],
             [
              1,
              "#f0f921"
             ]
            ],
            "type": "histogram2d"
           }
          ],
          "histogram2dcontour": [
           {
            "colorbar": {
             "outlinewidth": 0,
             "ticks": ""
            },
            "colorscale": [
             [
              0,
              "#0d0887"
             ],
             [
              0.1111111111111111,
              "#46039f"
             ],
             [
              0.2222222222222222,
              "#7201a8"
             ],
             [
              0.3333333333333333,
              "#9c179e"
             ],
             [
              0.4444444444444444,
              "#bd3786"
             ],
             [
              0.5555555555555556,
              "#d8576b"
             ],
             [
              0.6666666666666666,
              "#ed7953"
             ],
             [
              0.7777777777777778,
              "#fb9f3a"
             ],
             [
              0.8888888888888888,
              "#fdca26"
             ],
             [
              1,
              "#f0f921"
             ]
            ],
            "type": "histogram2dcontour"
           }
          ],
          "mesh3d": [
           {
            "colorbar": {
             "outlinewidth": 0,
             "ticks": ""
            },
            "type": "mesh3d"
           }
          ],
          "parcoords": [
           {
            "line": {
             "colorbar": {
              "outlinewidth": 0,
              "ticks": ""
             }
            },
            "type": "parcoords"
           }
          ],
          "pie": [
           {
            "automargin": true,
            "type": "pie"
           }
          ],
          "scatter": [
           {
            "fillpattern": {
             "fillmode": "overlay",
             "size": 10,
             "solidity": 0.2
            },
            "type": "scatter"
           }
          ],
          "scatter3d": [
           {
            "line": {
             "colorbar": {
              "outlinewidth": 0,
              "ticks": ""
             }
            },
            "marker": {
             "colorbar": {
              "outlinewidth": 0,
              "ticks": ""
             }
            },
            "type": "scatter3d"
           }
          ],
          "scattercarpet": [
           {
            "marker": {
             "colorbar": {
              "outlinewidth": 0,
              "ticks": ""
             }
            },
            "type": "scattercarpet"
           }
          ],
          "scattergeo": [
           {
            "marker": {
             "colorbar": {
              "outlinewidth": 0,
              "ticks": ""
             }
            },
            "type": "scattergeo"
           }
          ],
          "scattergl": [
           {
            "marker": {
             "colorbar": {
              "outlinewidth": 0,
              "ticks": ""
             }
            },
            "type": "scattergl"
           }
          ],
          "scattermapbox": [
           {
            "marker": {
             "colorbar": {
              "outlinewidth": 0,
              "ticks": ""
             }
            },
            "type": "scattermapbox"
           }
          ],
          "scatterpolar": [
           {
            "marker": {
             "colorbar": {
              "outlinewidth": 0,
              "ticks": ""
             }
            },
            "type": "scatterpolar"
           }
          ],
          "scatterpolargl": [
           {
            "marker": {
             "colorbar": {
              "outlinewidth": 0,
              "ticks": ""
             }
            },
            "type": "scatterpolargl"
           }
          ],
          "scatterternary": [
           {
            "marker": {
             "colorbar": {
              "outlinewidth": 0,
              "ticks": ""
             }
            },
            "type": "scatterternary"
           }
          ],
          "surface": [
           {
            "colorbar": {
             "outlinewidth": 0,
             "ticks": ""
            },
            "colorscale": [
             [
              0,
              "#0d0887"
             ],
             [
              0.1111111111111111,
              "#46039f"
             ],
             [
              0.2222222222222222,
              "#7201a8"
             ],
             [
              0.3333333333333333,
              "#9c179e"
             ],
             [
              0.4444444444444444,
              "#bd3786"
             ],
             [
              0.5555555555555556,
              "#d8576b"
             ],
             [
              0.6666666666666666,
              "#ed7953"
             ],
             [
              0.7777777777777778,
              "#fb9f3a"
             ],
             [
              0.8888888888888888,
              "#fdca26"
             ],
             [
              1,
              "#f0f921"
             ]
            ],
            "type": "surface"
           }
          ],
          "table": [
           {
            "cells": {
             "fill": {
              "color": "#EBF0F8"
             },
             "line": {
              "color": "white"
             }
            },
            "header": {
             "fill": {
              "color": "#C8D4E3"
             },
             "line": {
              "color": "white"
             }
            },
            "type": "table"
           }
          ]
         },
         "layout": {
          "annotationdefaults": {
           "arrowcolor": "#2a3f5f",
           "arrowhead": 0,
           "arrowwidth": 1
          },
          "autotypenumbers": "strict",
          "coloraxis": {
           "colorbar": {
            "outlinewidth": 0,
            "ticks": ""
           }
          },
          "colorscale": {
           "diverging": [
            [
             0,
             "#8e0152"
            ],
            [
             0.1,
             "#c51b7d"
            ],
            [
             0.2,
             "#de77ae"
            ],
            [
             0.3,
             "#f1b6da"
            ],
            [
             0.4,
             "#fde0ef"
            ],
            [
             0.5,
             "#f7f7f7"
            ],
            [
             0.6,
             "#e6f5d0"
            ],
            [
             0.7,
             "#b8e186"
            ],
            [
             0.8,
             "#7fbc41"
            ],
            [
             0.9,
             "#4d9221"
            ],
            [
             1,
             "#276419"
            ]
           ],
           "sequential": [
            [
             0,
             "#0d0887"
            ],
            [
             0.1111111111111111,
             "#46039f"
            ],
            [
             0.2222222222222222,
             "#7201a8"
            ],
            [
             0.3333333333333333,
             "#9c179e"
            ],
            [
             0.4444444444444444,
             "#bd3786"
            ],
            [
             0.5555555555555556,
             "#d8576b"
            ],
            [
             0.6666666666666666,
             "#ed7953"
            ],
            [
             0.7777777777777778,
             "#fb9f3a"
            ],
            [
             0.8888888888888888,
             "#fdca26"
            ],
            [
             1,
             "#f0f921"
            ]
           ],
           "sequentialminus": [
            [
             0,
             "#0d0887"
            ],
            [
             0.1111111111111111,
             "#46039f"
            ],
            [
             0.2222222222222222,
             "#7201a8"
            ],
            [
             0.3333333333333333,
             "#9c179e"
            ],
            [
             0.4444444444444444,
             "#bd3786"
            ],
            [
             0.5555555555555556,
             "#d8576b"
            ],
            [
             0.6666666666666666,
             "#ed7953"
            ],
            [
             0.7777777777777778,
             "#fb9f3a"
            ],
            [
             0.8888888888888888,
             "#fdca26"
            ],
            [
             1,
             "#f0f921"
            ]
           ]
          },
          "colorway": [
           "#636efa",
           "#EF553B",
           "#00cc96",
           "#ab63fa",
           "#FFA15A",
           "#19d3f3",
           "#FF6692",
           "#B6E880",
           "#FF97FF",
           "#FECB52"
          ],
          "font": {
           "color": "#2a3f5f"
          },
          "geo": {
           "bgcolor": "white",
           "lakecolor": "white",
           "landcolor": "#E5ECF6",
           "showlakes": true,
           "showland": true,
           "subunitcolor": "white"
          },
          "hoverlabel": {
           "align": "left"
          },
          "hovermode": "closest",
          "mapbox": {
           "style": "light"
          },
          "paper_bgcolor": "white",
          "plot_bgcolor": "#E5ECF6",
          "polar": {
           "angularaxis": {
            "gridcolor": "white",
            "linecolor": "white",
            "ticks": ""
           },
           "bgcolor": "#E5ECF6",
           "radialaxis": {
            "gridcolor": "white",
            "linecolor": "white",
            "ticks": ""
           }
          },
          "scene": {
           "xaxis": {
            "backgroundcolor": "#E5ECF6",
            "gridcolor": "white",
            "gridwidth": 2,
            "linecolor": "white",
            "showbackground": true,
            "ticks": "",
            "zerolinecolor": "white"
           },
           "yaxis": {
            "backgroundcolor": "#E5ECF6",
            "gridcolor": "white",
            "gridwidth": 2,
            "linecolor": "white",
            "showbackground": true,
            "ticks": "",
            "zerolinecolor": "white"
           },
           "zaxis": {
            "backgroundcolor": "#E5ECF6",
            "gridcolor": "white",
            "gridwidth": 2,
            "linecolor": "white",
            "showbackground": true,
            "ticks": "",
            "zerolinecolor": "white"
           }
          },
          "shapedefaults": {
           "line": {
            "color": "#2a3f5f"
           }
          },
          "ternary": {
           "aaxis": {
            "gridcolor": "white",
            "linecolor": "white",
            "ticks": ""
           },
           "baxis": {
            "gridcolor": "white",
            "linecolor": "white",
            "ticks": ""
           },
           "bgcolor": "#E5ECF6",
           "caxis": {
            "gridcolor": "white",
            "linecolor": "white",
            "ticks": ""
           }
          },
          "title": {
           "x": 0.05
          },
          "xaxis": {
           "automargin": true,
           "gridcolor": "white",
           "linecolor": "white",
           "ticks": "",
           "title": {
            "standoff": 15
           },
           "zerolinecolor": "white",
           "zerolinewidth": 2
          },
          "yaxis": {
           "automargin": true,
           "gridcolor": "white",
           "linecolor": "white",
           "ticks": "",
           "title": {
            "standoff": 15
           },
           "zerolinecolor": "white",
           "zerolinewidth": 2
          }
         }
        },
        "title": {
         "text": "F1 scores Values by Experiment"
        },
        "xaxis": {
         "title": {
          "text": "Class"
         }
        },
        "yaxis": {
         "title": {
          "text": "F1 scores"
         }
        }
       }
      }
     },
     "metadata": {},
     "output_type": "display_data"
    }
   ],
   "source": [
    "filtered_df = filter_exp_by_substring(df_results, substrings=['Salinas'])\n",
    "filtered_df = filter_exp_by_substring(filtered_df, substrings=['_li'])\n",
    "filtered_df = filter_exp_by_substring(filtered_df, substrings=['PCA'])\n",
    "\n",
    "                                      \n",
    "plot_grouped_values(filtered_df, SALINAS_LABELS, metric='F1 scores')"
   ]
  },
  {
   "cell_type": "markdown",
   "metadata": {},
   "source": [
    "## Analyzing IOU scores"
   ]
  },
  {
   "cell_type": "code",
   "execution_count": 29,
   "metadata": {},
   "outputs": [
    {
     "data": {
      "application/vnd.plotly.v1+json": {
       "config": {
        "plotlyServerURL": "https://plot.ly"
       },
       "data": [
        {
         "name": "Salinas_PCA_8_mou",
         "type": "bar",
         "x": [
          "Undefined",
          "Brocoli_green_weeds_1",
          "Brocoli_green_weeds_2",
          "Fallow",
          "Fallow_rough_plow",
          "Fallow_smooth",
          "Stubble",
          "Celery",
          "Grapes_untrained",
          "Soil_vinyard_develop",
          "Corn_senesced_green_weeds",
          "Lettuce_romaine_4wk",
          "Lettuce_romaine_5wk",
          "Lettuce_romaine_6wk",
          "Lettuce_romaine_7wk",
          "Vinyard_untrained",
          "Vinyard_vertical_trellis"
         ],
         "y": [
          0,
          0.9298507462686567,
          0.9827768945416004,
          0.8148927219183845,
          0.9408450704225352,
          0.8453646024184683,
          0.9843434343434343,
          0.9436049649217485,
          0.6632412270685849,
          0.9494138429420267,
          0.8216185942313078,
          0.6746806912096168,
          0.9063871282301317,
          0.8466933867735471,
          0.9369287020109689,
          0.5787338528877976,
          0.5880582037129954
         ]
        },
        {
         "name": "Salinas_PCA_8_hamida",
         "type": "bar",
         "x": [
          "Undefined",
          "Brocoli_green_weeds_1",
          "Brocoli_green_weeds_2",
          "Fallow",
          "Fallow_rough_plow",
          "Fallow_smooth",
          "Stubble",
          "Celery",
          "Grapes_untrained",
          "Soil_vinyard_develop",
          "Corn_senesced_green_weeds",
          "Lettuce_romaine_4wk",
          "Lettuce_romaine_5wk",
          "Lettuce_romaine_6wk",
          "Lettuce_romaine_7wk",
          "Vinyard_untrained",
          "Vinyard_vertical_trellis"
         ],
         "y": [
          0,
          0.9502239920358387,
          0.9986598767086572,
          0.9596499756927565,
          0.9878310665712241,
          0.994415487714073,
          0.9843394796665824,
          0.9879854708019,
          0.8089531991860728,
          0.9776509747979077,
          0.9209809264305178,
          0.8590664272890485,
          0.9658914728682171,
          0.9749182115594329,
          0.9719887955182073,
          0.6500131130343562,
          0.8584070796460177
         ]
        },
        {
         "name": "Salinas_PCA_8_li",
         "type": "bar",
         "x": [
          "Undefined",
          "Brocoli_green_weeds_1",
          "Brocoli_green_weeds_2",
          "Fallow",
          "Fallow_rough_plow",
          "Fallow_smooth",
          "Stubble",
          "Celery",
          "Grapes_untrained",
          "Soil_vinyard_develop",
          "Corn_senesced_green_weeds",
          "Lettuce_romaine_4wk",
          "Lettuce_romaine_5wk",
          "Lettuce_romaine_6wk",
          "Lettuce_romaine_7wk",
          "Vinyard_untrained",
          "Vinyard_vertical_trellis"
         ],
         "y": [
          0,
          0.9101851851851852,
          0.994452849218356,
          0.19148936170212766,
          0.9543147208121827,
          0.7422611036339165,
          0.9986098239110287,
          0.989329268292683,
          0.6122162713593471,
          0.85,
          0.5427545691906005,
          0.5284030010718114,
          0.7230046948356808,
          0.9462151394422311,
          0.9440677966101695,
          0.4128780487804878,
          0.800203873598369
         ]
        },
        {
         "name": "Salinas_PCA_8_paoletti",
         "type": "bar",
         "x": [
          "Undefined",
          "Brocoli_green_weeds_1",
          "Brocoli_green_weeds_2",
          "Fallow",
          "Fallow_rough_plow",
          "Fallow_smooth",
          "Stubble",
          "Celery",
          "Grapes_untrained",
          "Soil_vinyard_develop",
          "Corn_senesced_green_weeds",
          "Lettuce_romaine_4wk",
          "Lettuce_romaine_5wk",
          "Lettuce_romaine_6wk",
          "Lettuce_romaine_7wk",
          "Vinyard_untrained",
          "Vinyard_vertical_trellis"
         ],
         "y": [
          0,
          0.7738143494122416,
          0.8644158628081458,
          0.8226621735467565,
          0.96987087517934,
          0.85467255334805,
          0.9845920687042182,
          0.925534724055981,
          0.6703410265242852,
          0.9458943348185869,
          0.8130013831258645,
          0.693302891933029,
          0.9306532663316583,
          0.8645418326693227,
          0.9468864468864469,
          0.4799512492382694,
          0.5415676959619953
         ]
        },
        {
         "name": "Salinas_PCA_15_mou",
         "type": "bar",
         "x": [
          "Undefined",
          "Brocoli_green_weeds_1",
          "Brocoli_green_weeds_2",
          "Fallow",
          "Fallow_rough_plow",
          "Fallow_smooth",
          "Stubble",
          "Celery",
          "Grapes_untrained",
          "Soil_vinyard_develop",
          "Corn_senesced_green_weeds",
          "Lettuce_romaine_4wk",
          "Lettuce_romaine_5wk",
          "Lettuce_romaine_6wk",
          "Lettuce_romaine_7wk",
          "Vinyard_untrained",
          "Vinyard_vertical_trellis"
         ],
         "y": [
          0,
          0.9377799900447984,
          0.9875099654530959,
          0.831524303916942,
          0.9598025387870239,
          0.9129824561403509,
          0.9843434343434343,
          0.9529602595296026,
          0.6875434396478493,
          0.9615014436958614,
          0.834241468310869,
          0.6993268511593119,
          0.9276807980049875,
          0.8542665388302972,
          0.9459706959706959,
          0.6114649681528662,
          0.572354211663067
         ]
        },
        {
         "name": "Salinas_PCA_15_hamida",
         "type": "bar",
         "x": [
          "Undefined",
          "Brocoli_green_weeds_1",
          "Brocoli_green_weeds_2",
          "Fallow",
          "Fallow_rough_plow",
          "Fallow_smooth",
          "Stubble",
          "Celery",
          "Grapes_untrained",
          "Soil_vinyard_develop",
          "Corn_senesced_green_weeds",
          "Lettuce_romaine_4wk",
          "Lettuce_romaine_5wk",
          "Lettuce_romaine_6wk",
          "Lettuce_romaine_7wk",
          "Vinyard_untrained",
          "Vinyard_vertical_trellis"
         ],
         "y": [
          0,
          0.9489340604858701,
          0.9978529253891573,
          0.9889168765743073,
          0.9899785254115963,
          0.9966417910447761,
          0.9843434343434343,
          0.9879854708019,
          0.6646405919661733,
          0.9934104789456766,
          0.9241581259150805,
          0.945054945054945,
          0.9684265010351967,
          0.9749182115594329,
          0.969187675070028,
          0.6423098486264249,
          0.8572219147758716
         ]
        },
        {
         "name": "Salinas_PCA_15_li",
         "type": "bar",
         "x": [
          "Undefined",
          "Brocoli_green_weeds_1",
          "Brocoli_green_weeds_2",
          "Fallow",
          "Fallow_rough_plow",
          "Fallow_smooth",
          "Stubble",
          "Celery",
          "Grapes_untrained",
          "Soil_vinyard_develop",
          "Corn_senesced_green_weeds",
          "Lettuce_romaine_4wk",
          "Lettuce_romaine_5wk",
          "Lettuce_romaine_6wk",
          "Lettuce_romaine_7wk",
          "Vinyard_untrained",
          "Vinyard_vertical_trellis"
         ],
         "y": [
          0,
          0.9527127924340468,
          1,
          0.9984825493171472,
          0.9913978494623656,
          0.9973900074571216,
          0.9845920687042182,
          0.9879888268156425,
          0.8583643752116492,
          0.9954904171364148,
          0.9623672230652504,
          0.9500924214417745,
          0.9684428349715468,
          0.9759825327510917,
          0.9710280373831776,
          0.7802505168430013,
          0.8605423353624793
         ]
        },
        {
         "name": "Salinas_PCA_15_paoletti",
         "type": "bar",
         "x": [
          "Undefined",
          "Brocoli_green_weeds_1",
          "Brocoli_green_weeds_2",
          "Fallow",
          "Fallow_rough_plow",
          "Fallow_smooth",
          "Stubble",
          "Celery",
          "Grapes_untrained",
          "Soil_vinyard_develop",
          "Corn_senesced_green_weeds",
          "Lettuce_romaine_4wk",
          "Lettuce_romaine_5wk",
          "Lettuce_romaine_6wk",
          "Lettuce_romaine_7wk",
          "Vinyard_untrained",
          "Vinyard_vertical_trellis"
         ],
         "y": [
          0,
          0.7552475247524753,
          0.8517534537725824,
          0.8768878718535469,
          0.978076379066478,
          0.9166666666666666,
          0.9843394796665824,
          0.9192237083661159,
          0.7700367084735393,
          0.9834617854849069,
          0.8948447568834212,
          0.8851590106007067,
          0.9545222278998468,
          0.9630032644178455,
          0.9453053783044667,
          0.6285609934258582,
          0.7188533627342889
         ]
        },
        {
         "name": "Salinas_PCA_30_mou",
         "type": "bar",
         "x": [
          "Undefined",
          "Brocoli_green_weeds_1",
          "Brocoli_green_weeds_2",
          "Fallow",
          "Fallow_rough_plow",
          "Fallow_smooth",
          "Stubble",
          "Celery",
          "Grapes_untrained",
          "Soil_vinyard_develop",
          "Corn_senesced_green_weeds",
          "Lettuce_romaine_4wk",
          "Lettuce_romaine_5wk",
          "Lettuce_romaine_6wk",
          "Lettuce_romaine_7wk",
          "Vinyard_untrained",
          "Vinyard_vertical_trellis"
         ],
         "y": [
          0,
          0.9248382279741165,
          0.9793759915388683,
          0.8472906403940886,
          0.9710042432814711,
          0.9141615356754799,
          0.9845920687042182,
          0.9446544276457883,
          0.7197054228966748,
          0.9461489293704058,
          0.761297477127807,
          0.651778955336866,
          0.9073983341499265,
          0.8263414634146341,
          0.9399454049135578,
          0.5928952042628775,
          0.7553418803418803
         ]
        },
        {
         "name": "Salinas_PCA_30_hamida",
         "type": "bar",
         "x": [
          "Undefined",
          "Brocoli_green_weeds_1",
          "Brocoli_green_weeds_2",
          "Fallow",
          "Fallow_rough_plow",
          "Fallow_smooth",
          "Stubble",
          "Celery",
          "Grapes_untrained",
          "Soil_vinyard_develop",
          "Corn_senesced_green_weeds",
          "Lettuce_romaine_4wk",
          "Lettuce_romaine_5wk",
          "Lettuce_romaine_6wk",
          "Lettuce_romaine_7wk",
          "Vinyard_untrained",
          "Vinyard_vertical_trellis"
         ],
         "y": [
          0,
          0.9527127924340468,
          1,
          0.9954499494438828,
          0.9921203438395415,
          0.9992531740104555,
          0.9838343015913109,
          0.9871544261379503,
          0.8850391052056177,
          0.9903303787268332,
          0.9321637426900585,
          0.9420018709073901,
          0.9663386846193682,
          0.9759825327510917,
          0.9663551401869159,
          0.813085311096857,
          0.8567477876106194
         ]
        },
        {
         "name": "Salinas_PCA_30_li",
         "type": "bar",
         "x": [
          "Undefined",
          "Brocoli_green_weeds_1",
          "Brocoli_green_weeds_2",
          "Fallow",
          "Fallow_rough_plow",
          "Fallow_smooth",
          "Stubble",
          "Celery",
          "Grapes_untrained",
          "Soil_vinyard_develop",
          "Corn_senesced_green_weeds",
          "Lettuce_romaine_4wk",
          "Lettuce_romaine_5wk",
          "Lettuce_romaine_6wk",
          "Lettuce_romaine_7wk",
          "Vinyard_untrained",
          "Vinyard_vertical_trellis"
         ],
         "y": [
          0,
          0.9527127924340468,
          1,
          0.9974696356275303,
          0.9914040114613181,
          0.996274217585693,
          0.9845920687042182,
          0.9879888268156425,
          0.8700032765399738,
          0.9956486704270749,
          0.9631531259438236,
          0.9606741573033708,
          0.9694458829621958,
          0.9759825327510917,
          0.9691588785046729,
          0.7778782788473964,
          0.8583287216380742
         ]
        },
        {
         "name": "Salinas_PCA_30_paoletti",
         "type": "bar",
         "x": [
          "Undefined",
          "Brocoli_green_weeds_1",
          "Brocoli_green_weeds_2",
          "Fallow",
          "Fallow_rough_plow",
          "Fallow_smooth",
          "Stubble",
          "Celery",
          "Grapes_untrained",
          "Soil_vinyard_develop",
          "Corn_senesced_green_weeds",
          "Lettuce_romaine_4wk",
          "Lettuce_romaine_5wk",
          "Lettuce_romaine_6wk",
          "Lettuce_romaine_7wk",
          "Vinyard_untrained",
          "Vinyard_vertical_trellis"
         ],
         "y": [
          0,
          0.82557633753806,
          0.9119530416221985,
          0.7938436614013771,
          0.9800711743772242,
          0.8257632166790767,
          0.9845920687042182,
          0.935595938001069,
          0.6892699811202014,
          0.927088212334114,
          0.7723680856487382,
          0.516545601291364,
          0.9188916876574307,
          0.8823529411764706,
          0.9585253456221198,
          0.6246744791666666,
          0.6062039957939012
         ]
        },
        {
         "name": "Salinas_FastICA_8_mou",
         "type": "bar",
         "x": [
          "Undefined",
          "Brocoli_green_weeds_1",
          "Brocoli_green_weeds_2",
          "Fallow",
          "Fallow_rough_plow",
          "Fallow_smooth",
          "Stubble",
          "Celery",
          "Grapes_untrained",
          "Soil_vinyard_develop",
          "Corn_senesced_green_weeds",
          "Lettuce_romaine_4wk",
          "Lettuce_romaine_5wk",
          "Lettuce_romaine_6wk",
          "Lettuce_romaine_7wk",
          "Vinyard_untrained",
          "Vinyard_vertical_trellis"
         ],
         "y": [
          0,
          0.9522150323544052,
          0.998124832574337,
          0.9350713231677324,
          0.9520400858983536,
          0.9534632034632035,
          0.9840949255238576,
          0.9852037967615858,
          0.7810792915080285,
          0.9887982077132341,
          0.913694935570872,
          0.8773584905660378,
          0.9529892692897292,
          0.9420442571127503,
          0.941231343283582,
          0.6936865839909808,
          0.8558011049723757
         ]
        },
        {
         "name": "Salinas_FastICA_8_hamida",
         "type": "bar",
         "x": [
          "Undefined",
          "Brocoli_green_weeds_1",
          "Brocoli_green_weeds_2",
          "Fallow",
          "Fallow_rough_plow",
          "Fallow_smooth",
          "Stubble",
          "Celery",
          "Grapes_untrained",
          "Soil_vinyard_develop",
          "Corn_senesced_green_weeds",
          "Lettuce_romaine_4wk",
          "Lettuce_romaine_5wk",
          "Lettuce_romaine_6wk",
          "Lettuce_romaine_7wk",
          "Vinyard_untrained",
          "Vinyard_vertical_trellis"
         ],
         "y": [
          0,
          0.9527127924340468,
          0.9994635193133047,
          0.9924165824064712,
          0.9878048780487805,
          0.9889135254988913,
          0.9843394796665824,
          0.9879888268156425,
          0.8531545209176788,
          0.9938887101962046,
          0.9581691421642922,
          0.957288765088208,
          0.967408173823073,
          0.971677559912854,
          0.9637883008356546,
          0.7729755979118611,
          0.8595909342177999
         ]
        },
        {
         "name": "Salinas_FastICA_8_li",
         "type": "bar",
         "x": [
          "Undefined",
          "Brocoli_green_weeds_1",
          "Brocoli_green_weeds_2",
          "Fallow",
          "Fallow_rough_plow",
          "Fallow_smooth",
          "Stubble",
          "Celery",
          "Grapes_untrained",
          "Soil_vinyard_develop",
          "Corn_senesced_green_weeds",
          "Lettuce_romaine_4wk",
          "Lettuce_romaine_5wk",
          "Lettuce_romaine_6wk",
          "Lettuce_romaine_7wk",
          "Vinyard_untrained",
          "Vinyard_vertical_trellis"
         ],
         "y": [
          0,
          0.9527127924340468,
          0.9997316156736447,
          0.9994941831057157,
          0.9849354375896701,
          0.9944237918215614,
          0.9845920687042182,
          0.9882648784576697,
          0.8529244285365655,
          0.9895933397374319,
          0.958041958041958,
          0.9535747446610956,
          0.970954356846473,
          0.9738562091503268,
          0.9692164179104478,
          0.7527918781725889,
          0.8599889319313779
         ]
        },
        {
         "name": "Salinas_FastICA_8_paoletti",
         "type": "bar",
         "x": [
          "Undefined",
          "Brocoli_green_weeds_1",
          "Brocoli_green_weeds_2",
          "Fallow",
          "Fallow_rough_plow",
          "Fallow_smooth",
          "Stubble",
          "Celery",
          "Grapes_untrained",
          "Soil_vinyard_develop",
          "Corn_senesced_green_weeds",
          "Lettuce_romaine_4wk",
          "Lettuce_romaine_5wk",
          "Lettuce_romaine_6wk",
          "Lettuce_romaine_7wk",
          "Vinyard_untrained",
          "Vinyard_vertical_trellis"
         ],
         "y": [
          0,
          0.9527127924340468,
          0.9986587982832618,
          0.9725548902195609,
          0.9668313338038109,
          0.9792746113989638,
          0.9838465421504291,
          0.9877094972067039,
          0.8338413378367246,
          0.9750749329547247,
          0.9486166007905138,
          0.8964879852125693,
          0.970954356846473,
          0.9662676822633297,
          0.9738317757009346,
          0.7396694214876033,
          0.8595909342177999
         ]
        },
        {
         "name": "Salinas_FastICA_15_mou",
         "type": "bar",
         "x": [
          "Undefined",
          "Brocoli_green_weeds_1",
          "Brocoli_green_weeds_2",
          "Fallow",
          "Fallow_rough_plow",
          "Fallow_smooth",
          "Stubble",
          "Celery",
          "Grapes_untrained",
          "Soil_vinyard_develop",
          "Corn_senesced_green_weeds",
          "Lettuce_romaine_4wk",
          "Lettuce_romaine_5wk",
          "Lettuce_romaine_6wk",
          "Lettuce_romaine_7wk",
          "Vinyard_untrained",
          "Vinyard_vertical_trellis"
         ],
         "y": [
          0,
          0.9527127924340468,
          1,
          0.9494106090373281,
          0.9192280200142959,
          0.9372759856630825,
          0.9821023443408117,
          0.9879854708019,
          0.8005022759378434,
          0.9456120648163003,
          0.8701990468180544,
          0.8605898123324397,
          0.8745265151515151,
          0.7665580890336591,
          0.8049921996879875,
          0.6829147593715205,
          0.832144816236972
         ]
        },
        {
         "name": "Salinas_FastICA_15_hamida",
         "type": "bar",
         "x": [
          "Undefined",
          "Brocoli_green_weeds_1",
          "Brocoli_green_weeds_2",
          "Fallow",
          "Fallow_rough_plow",
          "Fallow_smooth",
          "Stubble",
          "Celery",
          "Grapes_untrained",
          "Soil_vinyard_develop",
          "Corn_senesced_green_weeds",
          "Lettuce_romaine_4wk",
          "Lettuce_romaine_5wk",
          "Lettuce_romaine_6wk",
          "Lettuce_romaine_7wk",
          "Vinyard_untrained",
          "Vinyard_vertical_trellis"
         ],
         "y": [
          0,
          0,
          0,
          0,
          0,
          0,
          0,
          0,
          0.20908029526965954,
          0,
          0,
          0,
          0,
          0,
          0,
          0,
          0
         ]
        },
        {
         "name": "Salinas_FastICA_15_li",
         "type": "bar",
         "x": [
          "Undefined",
          "Brocoli_green_weeds_1",
          "Brocoli_green_weeds_2",
          "Fallow",
          "Fallow_rough_plow",
          "Fallow_smooth",
          "Stubble",
          "Celery",
          "Grapes_untrained",
          "Soil_vinyard_develop",
          "Corn_senesced_green_weeds",
          "Lettuce_romaine_4wk",
          "Lettuce_romaine_5wk",
          "Lettuce_romaine_6wk",
          "Lettuce_romaine_7wk",
          "Vinyard_untrained",
          "Vinyard_vertical_trellis"
         ],
         "y": [
          0,
          0,
          0,
          0,
          0,
          0,
          0,
          0,
          0.2090330597183523,
          0,
          0,
          0,
          0,
          0,
          0,
          0,
          0
         ]
        },
        {
         "name": "Salinas_FastICA_15_paoletti",
         "type": "bar",
         "x": [
          "Undefined",
          "Brocoli_green_weeds_1",
          "Brocoli_green_weeds_2",
          "Fallow",
          "Fallow_rough_plow",
          "Fallow_smooth",
          "Stubble",
          "Celery",
          "Grapes_untrained",
          "Soil_vinyard_develop",
          "Corn_senesced_green_weeds",
          "Lettuce_romaine_4wk",
          "Lettuce_romaine_5wk",
          "Lettuce_romaine_6wk",
          "Lettuce_romaine_7wk",
          "Vinyard_untrained",
          "Vinyard_vertical_trellis"
         ],
         "y": [
          0,
          0.9527127924340468,
          1,
          0.9969635627530364,
          0.9857040743388135,
          0.9933110367892977,
          0.9843434343434343,
          0.9882648784576697,
          0.9391915039397054,
          0.9935660286311726,
          0.9674574209245742,
          0.9691011235955056,
          0.96794208893485,
          0.9759825327510917,
          0.9738317757009346,
          0.88723433058075,
          0.8590381426202321
         ]
        },
        {
         "name": "Salinas_FastICA_30_mou",
         "type": "bar",
         "x": [
          "Undefined",
          "Brocoli_green_weeds_1",
          "Brocoli_green_weeds_2",
          "Fallow",
          "Fallow_rough_plow",
          "Fallow_smooth",
          "Stubble",
          "Celery",
          "Grapes_untrained",
          "Soil_vinyard_develop",
          "Corn_senesced_green_weeds",
          "Lettuce_romaine_4wk",
          "Lettuce_romaine_5wk",
          "Lettuce_romaine_6wk",
          "Lettuce_romaine_7wk",
          "Vinyard_untrained",
          "Vinyard_vertical_trellis"
         ],
         "y": [
          0,
          0,
          0,
          0,
          0,
          0,
          0,
          0,
          0.2090330597183523,
          0,
          0,
          0,
          0,
          0,
          0,
          0,
          0
         ]
        },
        {
         "name": "Salinas_FastICA_30_hamida",
         "type": "bar",
         "x": [
          "Undefined",
          "Brocoli_green_weeds_1",
          "Brocoli_green_weeds_2",
          "Fallow",
          "Fallow_rough_plow",
          "Fallow_smooth",
          "Stubble",
          "Celery",
          "Grapes_untrained",
          "Soil_vinyard_develop",
          "Corn_senesced_green_weeds",
          "Lettuce_romaine_4wk",
          "Lettuce_romaine_5wk",
          "Lettuce_romaine_6wk",
          "Lettuce_romaine_7wk",
          "Vinyard_untrained",
          "Vinyard_vertical_trellis"
         ],
         "y": [
          0,
          0,
          0,
          0,
          0,
          0,
          0,
          0,
          0.2090330597183523,
          0,
          0,
          0,
          0,
          0,
          0,
          0,
          0
         ]
        },
        {
         "name": "Salinas_FastICA_30_li",
         "type": "bar",
         "x": [
          "Undefined",
          "Brocoli_green_weeds_1",
          "Brocoli_green_weeds_2",
          "Fallow",
          "Fallow_rough_plow",
          "Fallow_smooth",
          "Stubble",
          "Celery",
          "Grapes_untrained",
          "Soil_vinyard_develop",
          "Corn_senesced_green_weeds",
          "Lettuce_romaine_4wk",
          "Lettuce_romaine_5wk",
          "Lettuce_romaine_6wk",
          "Lettuce_romaine_7wk",
          "Vinyard_untrained",
          "Vinyard_vertical_trellis"
         ],
         "y": [
          0,
          0,
          0,
          0,
          0,
          0,
          0,
          0,
          0.2090330597183523,
          0,
          0,
          0,
          0,
          0,
          0,
          0,
          0
         ]
        },
        {
         "name": "Salinas_FastICA_30_paoletti",
         "type": "bar",
         "x": [
          "Undefined",
          "Brocoli_green_weeds_1",
          "Brocoli_green_weeds_2",
          "Fallow",
          "Fallow_rough_plow",
          "Fallow_smooth",
          "Stubble",
          "Celery",
          "Grapes_untrained",
          "Soil_vinyard_develop",
          "Corn_senesced_green_weeds",
          "Lettuce_romaine_4wk",
          "Lettuce_romaine_5wk",
          "Lettuce_romaine_6wk",
          "Lettuce_romaine_7wk",
          "Vinyard_untrained",
          "Vinyard_vertical_trellis"
         ],
         "y": [
          0,
          0.9334326875310481,
          0.9920085242408098,
          0.929115128449096,
          0.9285714285714286,
          0.9482446615997104,
          0.9808032331396818,
          0.9829941455255088,
          0.8342280266004326,
          0.9921069587628866,
          0.9254491017964072,
          0.9438822447102115,
          0.95361875637105,
          0.9662309368191722,
          0.9405306495882891,
          0.7273761375126391,
          0.8367346938775511
         ]
        },
        {
         "name": "IndianPines_PCA_8_mou",
         "type": "bar",
         "x": [
          "Undefined",
          "Brocoli_green_weeds_1",
          "Brocoli_green_weeds_2",
          "Fallow",
          "Fallow_rough_plow",
          "Fallow_smooth",
          "Stubble",
          "Celery",
          "Grapes_untrained",
          "Soil_vinyard_develop",
          "Corn_senesced_green_weeds",
          "Lettuce_romaine_4wk",
          "Lettuce_romaine_5wk",
          "Lettuce_romaine_6wk",
          "Lettuce_romaine_7wk",
          "Vinyard_untrained",
          "Vinyard_vertical_trellis"
         ],
         "y": [
          0,
          0.1702127659574468,
          0.38940329218106995,
          0.3063583815028902,
          0.45454545454545453,
          0.5594855305466238,
          0.7654723127035831,
          0.625,
          0.8988095238095238,
          0,
          0.41841004184100417,
          0.5470430107526881,
          0.20833333333333334,
          0.36401673640167365,
          0.8273852876911871,
          0.2624521072796935,
          0.978494623655914
         ]
        },
        {
         "name": "IndianPines_PCA_8_hamida",
         "type": "bar",
         "x": [
          "Undefined",
          "Brocoli_green_weeds_1",
          "Brocoli_green_weeds_2",
          "Fallow",
          "Fallow_rough_plow",
          "Fallow_smooth",
          "Stubble",
          "Celery",
          "Grapes_untrained",
          "Soil_vinyard_develop",
          "Corn_senesced_green_weeds",
          "Lettuce_romaine_4wk",
          "Lettuce_romaine_5wk",
          "Lettuce_romaine_6wk",
          "Lettuce_romaine_7wk",
          "Vinyard_untrained",
          "Vinyard_vertical_trellis"
         ],
         "y": [
          0,
          0.8679245283018868,
          0.8683680322364002,
          0.8446490218642118,
          0.9672131147540983,
          0.8944099378881988,
          0.9785522788203753,
          0.8484848484848485,
          0.9853556485355649,
          0.7692307692307693,
          0.9193391642371235,
          0.8965917893106119,
          0.875,
          1,
          0.9553030303030303,
          0.6529562982005142,
          1
         ]
        },
        {
         "name": "IndianPines_PCA_8_li",
         "type": "bar",
         "x": [
          "Undefined",
          "Brocoli_green_weeds_1",
          "Brocoli_green_weeds_2",
          "Fallow",
          "Fallow_rough_plow",
          "Fallow_smooth",
          "Stubble",
          "Celery",
          "Grapes_untrained",
          "Soil_vinyard_develop",
          "Corn_senesced_green_weeds",
          "Lettuce_romaine_4wk",
          "Lettuce_romaine_5wk",
          "Lettuce_romaine_6wk",
          "Lettuce_romaine_7wk",
          "Vinyard_untrained",
          "Vinyard_vertical_trellis"
         ],
         "y": [
          0,
          0.9782608695652174,
          0.6856955380577427,
          0.7797752808988764,
          0.9789029535864979,
          0.8937875751503006,
          0.9918256130790191,
          0.9642857142857143,
          0.9979123173277662,
          1,
          0.864326375711575,
          0.8213390619405657,
          0.7740029542097489,
          1,
          0.9712062256809338,
          0.7621483375959079,
          1
         ]
        },
        {
         "name": "IndianPines_PCA_8_paoletti",
         "type": "bar",
         "x": [
          "Undefined",
          "Brocoli_green_weeds_1",
          "Brocoli_green_weeds_2",
          "Fallow",
          "Fallow_rough_plow",
          "Fallow_smooth",
          "Stubble",
          "Celery",
          "Grapes_untrained",
          "Soil_vinyard_develop",
          "Corn_senesced_green_weeds",
          "Lettuce_romaine_4wk",
          "Lettuce_romaine_5wk",
          "Lettuce_romaine_6wk",
          "Lettuce_romaine_7wk",
          "Vinyard_untrained",
          "Vinyard_vertical_trellis"
         ],
         "y": [
          0,
          0.36538461538461536,
          0.3194103194103194,
          0.052451539338654506,
          0.34210526315789475,
          0.5849056603773585,
          0.8268090154211151,
          0.1,
          0.8558394160583942,
          0.32432432432432434,
          0.41115434500648507,
          0.4568399798081777,
          0.2140266021765417,
          0.720754716981132,
          0.8467924528301887,
          0.3482142857142857,
          0.9680851063829787
         ]
        },
        {
         "name": "IndianPines_PCA_15_mou",
         "type": "bar",
         "x": [
          "Undefined",
          "Brocoli_green_weeds_1",
          "Brocoli_green_weeds_2",
          "Fallow",
          "Fallow_rough_plow",
          "Fallow_smooth",
          "Stubble",
          "Celery",
          "Grapes_untrained",
          "Soil_vinyard_develop",
          "Corn_senesced_green_weeds",
          "Lettuce_romaine_4wk",
          "Lettuce_romaine_5wk",
          "Lettuce_romaine_6wk",
          "Lettuce_romaine_7wk",
          "Vinyard_untrained",
          "Vinyard_vertical_trellis"
         ],
         "y": [
          0,
          0,
          0.6119565217391304,
          0.506398537477148,
          0.3885135135135135,
          0.5583941605839416,
          0.637396694214876,
          0.03333333333333333,
          0.8870056497175142,
          0,
          0.6258768511301637,
          0.6433275563258232,
          0.4163265306122449,
          0.506426735218509,
          0.8462099125364432,
          0.14383561643835616,
          0.968421052631579
         ]
        },
        {
         "name": "IndianPines_PCA_15_hamida",
         "type": "bar",
         "x": [
          "Undefined",
          "Brocoli_green_weeds_1",
          "Brocoli_green_weeds_2",
          "Fallow",
          "Fallow_rough_plow",
          "Fallow_smooth",
          "Stubble",
          "Celery",
          "Grapes_untrained",
          "Soil_vinyard_develop",
          "Corn_senesced_green_weeds",
          "Lettuce_romaine_4wk",
          "Lettuce_romaine_5wk",
          "Lettuce_romaine_6wk",
          "Lettuce_romaine_7wk",
          "Vinyard_untrained",
          "Vinyard_vertical_trellis"
         ],
         "y": [
          0,
          1,
          0.9784122562674095,
          0.8932853717026379,
          0.9873949579831933,
          0.937888198757764,
          0.9972677595628415,
          1,
          1,
          1,
          0.975609756097561,
          0.9612903225806452,
          0.9797979797979798,
          1,
          0.9821428571428571,
          0.7487046632124352,
          1
         ]
        },
        {
         "name": "IndianPines_PCA_15_li",
         "type": "bar",
         "x": [
          "Undefined",
          "Brocoli_green_weeds_1",
          "Brocoli_green_weeds_2",
          "Fallow",
          "Fallow_rough_plow",
          "Fallow_smooth",
          "Stubble",
          "Celery",
          "Grapes_untrained",
          "Soil_vinyard_develop",
          "Corn_senesced_green_weeds",
          "Lettuce_romaine_4wk",
          "Lettuce_romaine_5wk",
          "Lettuce_romaine_6wk",
          "Lettuce_romaine_7wk",
          "Vinyard_untrained",
          "Vinyard_vertical_trellis"
         ],
         "y": [
          0,
          0.9782608695652174,
          0.7512406947890818,
          0.6855203619909502,
          0.9113924050632911,
          0.893574297188755,
          0.9931787175989086,
          1,
          1,
          0.95,
          0.7539616346955796,
          0.7990323781168589,
          0.7700453857791225,
          1,
          0.9645061728395061,
          0.7423469387755102,
          0.989247311827957
         ]
        },
        {
         "name": "IndianPines_PCA_15_paoletti",
         "type": "bar",
         "x": [
          "Undefined",
          "Brocoli_green_weeds_1",
          "Brocoli_green_weeds_2",
          "Fallow",
          "Fallow_rough_plow",
          "Fallow_smooth",
          "Stubble",
          "Celery",
          "Grapes_untrained",
          "Soil_vinyard_develop",
          "Corn_senesced_green_weeds",
          "Lettuce_romaine_4wk",
          "Lettuce_romaine_5wk",
          "Lettuce_romaine_6wk",
          "Lettuce_romaine_7wk",
          "Vinyard_untrained",
          "Vinyard_vertical_trellis"
         ],
         "y": [
          0,
          0.19148936170212766,
          0.368283776734481,
          0.15424973767051417,
          0.39867109634551495,
          0.369377990430622,
          0.7416851441241685,
          0,
          0.8271604938271605,
          0,
          0.4992537313432836,
          0.5456233421750664,
          0.16774193548387098,
          0.6902654867256637,
          0.586764705882353,
          0.1783132530120482,
          0.9787234042553191
         ]
        },
        {
         "name": "IndianPines_PCA_30_mou",
         "type": "bar",
         "x": [
          "Undefined",
          "Brocoli_green_weeds_1",
          "Brocoli_green_weeds_2",
          "Fallow",
          "Fallow_rough_plow",
          "Fallow_smooth",
          "Stubble",
          "Celery",
          "Grapes_untrained",
          "Soil_vinyard_develop",
          "Corn_senesced_green_weeds",
          "Lettuce_romaine_4wk",
          "Lettuce_romaine_5wk",
          "Lettuce_romaine_6wk",
          "Lettuce_romaine_7wk",
          "Vinyard_untrained",
          "Vinyard_vertical_trellis"
         ],
         "y": [
          0,
          0,
          0.394263490520175,
          0.27597955706984667,
          0.2857142857142857,
          0.19863945578231293,
          0.5456475583864119,
          0.07692307692307693,
          0.6842105263157895,
          0,
          0.506108202443281,
          0.5858230814294083,
          0.25133689839572193,
          0.7232142857142857,
          0.7593158216249236,
          0.030534351145038167,
          0.956989247311828
         ]
        },
        {
         "name": "IndianPines_PCA_30_hamida",
         "type": "bar",
         "x": [
          "Undefined",
          "Brocoli_green_weeds_1",
          "Brocoli_green_weeds_2",
          "Fallow",
          "Fallow_rough_plow",
          "Fallow_smooth",
          "Stubble",
          "Celery",
          "Grapes_untrained",
          "Soil_vinyard_develop",
          "Corn_senesced_green_weeds",
          "Lettuce_romaine_4wk",
          "Lettuce_romaine_5wk",
          "Lettuce_romaine_6wk",
          "Lettuce_romaine_7wk",
          "Vinyard_untrained",
          "Vinyard_vertical_trellis"
         ],
         "y": [
          0,
          1,
          0.954515050167224,
          0.8289473684210527,
          0.9156118143459916,
          0.9318181818181818,
          1,
          1,
          1,
          1,
          0.9661190965092402,
          0.9659229208924949,
          0.928343949044586,
          1,
          0.9984214680347278,
          0.810880829015544,
          1
         ]
        },
        {
         "name": "IndianPines_PCA_30_li",
         "type": "bar",
         "x": [
          "Undefined",
          "Brocoli_green_weeds_1",
          "Brocoli_green_weeds_2",
          "Fallow",
          "Fallow_rough_plow",
          "Fallow_smooth",
          "Stubble",
          "Celery",
          "Grapes_untrained",
          "Soil_vinyard_develop",
          "Corn_senesced_green_weeds",
          "Lettuce_romaine_4wk",
          "Lettuce_romaine_5wk",
          "Lettuce_romaine_6wk",
          "Lettuce_romaine_7wk",
          "Vinyard_untrained",
          "Vinyard_vertical_trellis"
         ],
         "y": [
          0,
          1,
          0.7270929466051417,
          0.7373417721518988,
          0.7821428571428571,
          0.9195876288659793,
          0.9959072305593452,
          1,
          1,
          0.95,
          0.7395577395577395,
          0.7902202314296379,
          0.8276923076923077,
          0.9951456310679612,
          0.9882445141065831,
          0.7735368956743003,
          0.9893617021276596
         ]
        },
        {
         "name": "IndianPines_PCA_30_paoletti",
         "type": "bar",
         "x": [
          "Undefined",
          "Brocoli_green_weeds_1",
          "Brocoli_green_weeds_2",
          "Fallow",
          "Fallow_rough_plow",
          "Fallow_smooth",
          "Stubble",
          "Celery",
          "Grapes_untrained",
          "Soil_vinyard_develop",
          "Corn_senesced_green_weeds",
          "Lettuce_romaine_4wk",
          "Lettuce_romaine_5wk",
          "Lettuce_romaine_6wk",
          "Lettuce_romaine_7wk",
          "Vinyard_untrained",
          "Vinyard_vertical_trellis"
         ],
         "y": [
          0,
          0.13043478260869565,
          0.393733681462141,
          0.29227237949502677,
          0.5663430420711975,
          0.22900763358778625,
          0.7087053571428571,
          0.3,
          0.8839458413926499,
          0,
          0.5304568527918782,
          0.5660996717397792,
          0.2548262548262548,
          0.8418803418803419,
          0.7849872773536896,
          0.32815533980582523,
          0.989247311827957
         ]
        },
        {
         "name": "IndianPines_FastICA_8_mou",
         "type": "bar",
         "x": [
          "Undefined",
          "Brocoli_green_weeds_1",
          "Brocoli_green_weeds_2",
          "Fallow",
          "Fallow_rough_plow",
          "Fallow_smooth",
          "Stubble",
          "Celery",
          "Grapes_untrained",
          "Soil_vinyard_develop",
          "Corn_senesced_green_weeds",
          "Lettuce_romaine_4wk",
          "Lettuce_romaine_5wk",
          "Lettuce_romaine_6wk",
          "Lettuce_romaine_7wk",
          "Vinyard_untrained",
          "Vinyard_vertical_trellis"
         ],
         "y": [
          0,
          0.4489795918367347,
          0.7328009828009828,
          0.6443736730360934,
          0.6551724137931034,
          0.6361904761904762,
          0.9149746192893401,
          0.7857142857142857,
          0.950199203187251,
          0.56,
          0.5984481086323957,
          0.7560149101999323,
          0.6053333333333333,
          0.9238095238095239,
          0.8838028169014085,
          0.5487804878048781,
          1
         ]
        },
        {
         "name": "IndianPines_FastICA_8_hamida",
         "type": "bar",
         "x": [
          "Undefined",
          "Brocoli_green_weeds_1",
          "Brocoli_green_weeds_2",
          "Fallow",
          "Fallow_rough_plow",
          "Fallow_smooth",
          "Stubble",
          "Celery",
          "Grapes_untrained",
          "Soil_vinyard_develop",
          "Corn_senesced_green_weeds",
          "Lettuce_romaine_4wk",
          "Lettuce_romaine_5wk",
          "Lettuce_romaine_6wk",
          "Lettuce_romaine_7wk",
          "Vinyard_untrained",
          "Vinyard_vertical_trellis"
         ],
         "y": [
          0,
          0.9565217391304348,
          0.9269588313413014,
          0.8351001177856302,
          0.9083333333333333,
          0.9281314168377823,
          0.9567496723460026,
          0.9642857142857143,
          0.9815195071868583,
          0.9090909090909091,
          0.951,
          0.927016129032258,
          0.9148264984227129,
          0.9853658536585366,
          0.995260663507109,
          0.7403598971722365,
          0.9893617021276596
         ]
        },
        {
         "name": "IndianPines_FastICA_8_li",
         "type": "bar",
         "x": [
          "Undefined",
          "Brocoli_green_weeds_1",
          "Brocoli_green_weeds_2",
          "Fallow",
          "Fallow_rough_plow",
          "Fallow_smooth",
          "Stubble",
          "Celery",
          "Grapes_untrained",
          "Soil_vinyard_develop",
          "Corn_senesced_green_weeds",
          "Lettuce_romaine_4wk",
          "Lettuce_romaine_5wk",
          "Lettuce_romaine_6wk",
          "Lettuce_romaine_7wk",
          "Vinyard_untrained",
          "Vinyard_vertical_trellis"
         ],
         "y": [
          0,
          0.36,
          0.34265734265734266,
          0.26204238921001927,
          0.3098159509202454,
          0.3218588640275387,
          0.7688229056203606,
          0.13793103448275862,
          0.5888324873096447,
          0.65,
          0.39819004524886875,
          0.5436734693877551,
          0.3061699650756694,
          0.5794392523364486,
          0.7124132613723978,
          0.37915742793791574,
          0.7849462365591398
         ]
        },
        {
         "name": "IndianPines_FastICA_8_paoletti",
         "type": "bar",
         "x": [
          "Undefined",
          "Brocoli_green_weeds_1",
          "Brocoli_green_weeds_2",
          "Fallow",
          "Fallow_rough_plow",
          "Fallow_smooth",
          "Stubble",
          "Celery",
          "Grapes_untrained",
          "Soil_vinyard_develop",
          "Corn_senesced_green_weeds",
          "Lettuce_romaine_4wk",
          "Lettuce_romaine_5wk",
          "Lettuce_romaine_6wk",
          "Lettuce_romaine_7wk",
          "Vinyard_untrained",
          "Vinyard_vertical_trellis"
         ],
         "y": [
          0,
          0.7755102040816326,
          0.8859934853420195,
          0.7854671280276817,
          0.8490566037735849,
          0.8121212121212121,
          0.979757085020243,
          0.8214285714285714,
          0.977366255144033,
          0.8333333333333334,
          0.8201712654614652,
          0.8620292083013067,
          0.8160741885625966,
          0.9902439024390244,
          0.936661698956781,
          0.7095959595959596,
          1
         ]
        },
        {
         "name": "IndianPines_FastICA_15_mou",
         "type": "bar",
         "x": [
          "Undefined",
          "Brocoli_green_weeds_1",
          "Brocoli_green_weeds_2",
          "Fallow",
          "Fallow_rough_plow",
          "Fallow_smooth",
          "Stubble",
          "Celery",
          "Grapes_untrained",
          "Soil_vinyard_develop",
          "Corn_senesced_green_weeds",
          "Lettuce_romaine_4wk",
          "Lettuce_romaine_5wk",
          "Lettuce_romaine_6wk",
          "Lettuce_romaine_7wk",
          "Vinyard_untrained",
          "Vinyard_vertical_trellis"
         ],
         "y": [
          0,
          0.9782608695652174,
          0.8551532033426184,
          0.7984234234234234,
          0.8295454545454546,
          0.8875739644970414,
          0.9836289222373806,
          1,
          1,
          0.8181818181818182,
          0.8619402985074627,
          0.8894395730080061,
          0.7433628318584071,
          0.9951456310679612,
          0.9596273291925466,
          0.7355163727959698,
          0.956989247311828
         ]
        },
        {
         "name": "IndianPines_FastICA_15_hamida",
         "type": "bar",
         "x": [
          "Undefined",
          "Brocoli_green_weeds_1",
          "Brocoli_green_weeds_2",
          "Fallow",
          "Fallow_rough_plow",
          "Fallow_smooth",
          "Stubble",
          "Celery",
          "Grapes_untrained",
          "Soil_vinyard_develop",
          "Corn_senesced_green_weeds",
          "Lettuce_romaine_4wk",
          "Lettuce_romaine_5wk",
          "Lettuce_romaine_6wk",
          "Lettuce_romaine_7wk",
          "Vinyard_untrained",
          "Vinyard_vertical_trellis"
         ],
         "y": [
          0,
          1,
          0.9545454545454546,
          0.879951980792317,
          1,
          0.9358178053830227,
          1,
          1,
          1,
          1,
          0.9766022380467956,
          0.9503257328990228,
          0.9765494137353434,
          1,
          0.9992101105845181,
          0.8134715025906736,
          1
         ]
        },
        {
         "name": "IndianPines_FastICA_15_li",
         "type": "bar",
         "x": [
          "Undefined",
          "Brocoli_green_weeds_1",
          "Brocoli_green_weeds_2",
          "Fallow",
          "Fallow_rough_plow",
          "Fallow_smooth",
          "Stubble",
          "Celery",
          "Grapes_untrained",
          "Soil_vinyard_develop",
          "Corn_senesced_green_weeds",
          "Lettuce_romaine_4wk",
          "Lettuce_romaine_5wk",
          "Lettuce_romaine_6wk",
          "Lettuce_romaine_7wk",
          "Vinyard_untrained",
          "Vinyard_vertical_trellis"
         ],
         "y": [
          0,
          1,
          0.9929971988795518,
          0.901323706377858,
          0.9833333333333333,
          0.937888198757764,
          1,
          1,
          1,
          1,
          0.9866666666666667,
          0.9703853955375253,
          0.9915682967959528,
          1,
          1,
          0.8134715025906736,
          1
         ]
        },
        {
         "name": "IndianPines_FastICA_15_paoletti",
         "type": "bar",
         "x": [
          "Undefined",
          "Brocoli_green_weeds_1",
          "Brocoli_green_weeds_2",
          "Fallow",
          "Fallow_rough_plow",
          "Fallow_smooth",
          "Stubble",
          "Celery",
          "Grapes_untrained",
          "Soil_vinyard_develop",
          "Corn_senesced_green_weeds",
          "Lettuce_romaine_4wk",
          "Lettuce_romaine_5wk",
          "Lettuce_romaine_6wk",
          "Lettuce_romaine_7wk",
          "Vinyard_untrained",
          "Vinyard_vertical_trellis"
         ],
         "y": [
          0,
          1,
          0.9431117203564084,
          0.8702830188679245,
          0.9588477366255144,
          0.9316770186335404,
          0.9986301369863013,
          0.9642857142857143,
          1,
          1,
          0.9342105263157895,
          0.9408260524225576,
          0.9621087314662273,
          1,
          0.9875097580015613,
          0.7674418604651163,
          0.956989247311828
         ]
        },
        {
         "name": "IndianPines_FastICA_30_mou",
         "type": "bar",
         "x": [
          "Undefined",
          "Brocoli_green_weeds_1",
          "Brocoli_green_weeds_2",
          "Fallow",
          "Fallow_rough_plow",
          "Fallow_smooth",
          "Stubble",
          "Celery",
          "Grapes_untrained",
          "Soil_vinyard_develop",
          "Corn_senesced_green_weeds",
          "Lettuce_romaine_4wk",
          "Lettuce_romaine_5wk",
          "Lettuce_romaine_6wk",
          "Lettuce_romaine_7wk",
          "Vinyard_untrained",
          "Vinyard_vertical_trellis"
         ],
         "y": [
          0,
          0.803921568627451,
          0.7716836734693877,
          0.6777041942604857,
          0.7718631178707225,
          0.8804123711340206,
          0.9634641407307172,
          0.9655172413793104,
          0.9814814814814815,
          0.5142857142857142,
          0.702054794520548,
          0.7919054441260746,
          0.6544585987261147,
          0.9660194174757282,
          0.9351230425055929,
          0.6494382022471911,
          0.9893617021276596
         ]
        },
        {
         "name": "IndianPines_FastICA_30_hamida",
         "type": "bar",
         "x": [
          "Undefined",
          "Brocoli_green_weeds_1",
          "Brocoli_green_weeds_2",
          "Fallow",
          "Fallow_rough_plow",
          "Fallow_smooth",
          "Stubble",
          "Celery",
          "Grapes_untrained",
          "Soil_vinyard_develop",
          "Corn_senesced_green_weeds",
          "Lettuce_romaine_4wk",
          "Lettuce_romaine_5wk",
          "Lettuce_romaine_6wk",
          "Lettuce_romaine_7wk",
          "Vinyard_untrained",
          "Vinyard_vertical_trellis"
         ],
         "y": [
          0,
          1,
          0.9972067039106145,
          0.8987951807228916,
          1,
          0.9338842975206612,
          1,
          1,
          1,
          1,
          0.9886947584789312,
          0.9699797160243407,
          0.9831365935919055,
          0.9951456310679612,
          0.9984214680347278,
          0.805699481865285,
          1
         ]
        },
        {
         "name": "IndianPines_FastICA_30_li",
         "type": "bar",
         "x": [
          "Undefined",
          "Brocoli_green_weeds_1",
          "Brocoli_green_weeds_2",
          "Fallow",
          "Fallow_rough_plow",
          "Fallow_smooth",
          "Stubble",
          "Celery",
          "Grapes_untrained",
          "Soil_vinyard_develop",
          "Corn_senesced_green_weeds",
          "Lettuce_romaine_4wk",
          "Lettuce_romaine_5wk",
          "Lettuce_romaine_6wk",
          "Lettuce_romaine_7wk",
          "Vinyard_untrained",
          "Vinyard_vertical_trellis"
         ],
         "y": [
          0,
          0,
          0,
          0,
          0,
          0,
          0,
          0,
          0,
          0,
          0,
          0.23784428756090287,
          0,
          0,
          0,
          0,
          0
         ]
        },
        {
         "name": "IndianPines_FastICA_30_paoletti",
         "type": "bar",
         "x": [
          "Undefined",
          "Brocoli_green_weeds_1",
          "Brocoli_green_weeds_2",
          "Fallow",
          "Fallow_rough_plow",
          "Fallow_smooth",
          "Stubble",
          "Celery",
          "Grapes_untrained",
          "Soil_vinyard_develop",
          "Corn_senesced_green_weeds",
          "Lettuce_romaine_4wk",
          "Lettuce_romaine_5wk",
          "Lettuce_romaine_6wk",
          "Lettuce_romaine_7wk",
          "Vinyard_untrained",
          "Vinyard_vertical_trellis"
         ],
         "y": [
          0,
          0.8297872340425532,
          0.8457374830852503,
          0.7425742574257426,
          0.774074074074074,
          0.7853107344632768,
          0.9797843665768194,
          1,
          0.9979123173277662,
          0.6363636363636364,
          0.8552754435107376,
          0.8476871004136893,
          0.7474747474747475,
          0.9560975609756097,
          0.9459459459459459,
          0.7397959183673469,
          0.9787234042553191
         ]
        }
       ],
       "layout": {
        "barmode": "group",
        "template": {
         "data": {
          "bar": [
           {
            "error_x": {
             "color": "#2a3f5f"
            },
            "error_y": {
             "color": "#2a3f5f"
            },
            "marker": {
             "line": {
              "color": "#E5ECF6",
              "width": 0.5
             },
             "pattern": {
              "fillmode": "overlay",
              "size": 10,
              "solidity": 0.2
             }
            },
            "type": "bar"
           }
          ],
          "barpolar": [
           {
            "marker": {
             "line": {
              "color": "#E5ECF6",
              "width": 0.5
             },
             "pattern": {
              "fillmode": "overlay",
              "size": 10,
              "solidity": 0.2
             }
            },
            "type": "barpolar"
           }
          ],
          "carpet": [
           {
            "aaxis": {
             "endlinecolor": "#2a3f5f",
             "gridcolor": "white",
             "linecolor": "white",
             "minorgridcolor": "white",
             "startlinecolor": "#2a3f5f"
            },
            "baxis": {
             "endlinecolor": "#2a3f5f",
             "gridcolor": "white",
             "linecolor": "white",
             "minorgridcolor": "white",
             "startlinecolor": "#2a3f5f"
            },
            "type": "carpet"
           }
          ],
          "choropleth": [
           {
            "colorbar": {
             "outlinewidth": 0,
             "ticks": ""
            },
            "type": "choropleth"
           }
          ],
          "contour": [
           {
            "colorbar": {
             "outlinewidth": 0,
             "ticks": ""
            },
            "colorscale": [
             [
              0,
              "#0d0887"
             ],
             [
              0.1111111111111111,
              "#46039f"
             ],
             [
              0.2222222222222222,
              "#7201a8"
             ],
             [
              0.3333333333333333,
              "#9c179e"
             ],
             [
              0.4444444444444444,
              "#bd3786"
             ],
             [
              0.5555555555555556,
              "#d8576b"
             ],
             [
              0.6666666666666666,
              "#ed7953"
             ],
             [
              0.7777777777777778,
              "#fb9f3a"
             ],
             [
              0.8888888888888888,
              "#fdca26"
             ],
             [
              1,
              "#f0f921"
             ]
            ],
            "type": "contour"
           }
          ],
          "contourcarpet": [
           {
            "colorbar": {
             "outlinewidth": 0,
             "ticks": ""
            },
            "type": "contourcarpet"
           }
          ],
          "heatmap": [
           {
            "colorbar": {
             "outlinewidth": 0,
             "ticks": ""
            },
            "colorscale": [
             [
              0,
              "#0d0887"
             ],
             [
              0.1111111111111111,
              "#46039f"
             ],
             [
              0.2222222222222222,
              "#7201a8"
             ],
             [
              0.3333333333333333,
              "#9c179e"
             ],
             [
              0.4444444444444444,
              "#bd3786"
             ],
             [
              0.5555555555555556,
              "#d8576b"
             ],
             [
              0.6666666666666666,
              "#ed7953"
             ],
             [
              0.7777777777777778,
              "#fb9f3a"
             ],
             [
              0.8888888888888888,
              "#fdca26"
             ],
             [
              1,
              "#f0f921"
             ]
            ],
            "type": "heatmap"
           }
          ],
          "heatmapgl": [
           {
            "colorbar": {
             "outlinewidth": 0,
             "ticks": ""
            },
            "colorscale": [
             [
              0,
              "#0d0887"
             ],
             [
              0.1111111111111111,
              "#46039f"
             ],
             [
              0.2222222222222222,
              "#7201a8"
             ],
             [
              0.3333333333333333,
              "#9c179e"
             ],
             [
              0.4444444444444444,
              "#bd3786"
             ],
             [
              0.5555555555555556,
              "#d8576b"
             ],
             [
              0.6666666666666666,
              "#ed7953"
             ],
             [
              0.7777777777777778,
              "#fb9f3a"
             ],
             [
              0.8888888888888888,
              "#fdca26"
             ],
             [
              1,
              "#f0f921"
             ]
            ],
            "type": "heatmapgl"
           }
          ],
          "histogram": [
           {
            "marker": {
             "pattern": {
              "fillmode": "overlay",
              "size": 10,
              "solidity": 0.2
             }
            },
            "type": "histogram"
           }
          ],
          "histogram2d": [
           {
            "colorbar": {
             "outlinewidth": 0,
             "ticks": ""
            },
            "colorscale": [
             [
              0,
              "#0d0887"
             ],
             [
              0.1111111111111111,
              "#46039f"
             ],
             [
              0.2222222222222222,
              "#7201a8"
             ],
             [
              0.3333333333333333,
              "#9c179e"
             ],
             [
              0.4444444444444444,
              "#bd3786"
             ],
             [
              0.5555555555555556,
              "#d8576b"
             ],
             [
              0.6666666666666666,
              "#ed7953"
             ],
             [
              0.7777777777777778,
              "#fb9f3a"
             ],
             [
              0.8888888888888888,
              "#fdca26"
             ],
             [
              1,
              "#f0f921"
             ]
            ],
            "type": "histogram2d"
           }
          ],
          "histogram2dcontour": [
           {
            "colorbar": {
             "outlinewidth": 0,
             "ticks": ""
            },
            "colorscale": [
             [
              0,
              "#0d0887"
             ],
             [
              0.1111111111111111,
              "#46039f"
             ],
             [
              0.2222222222222222,
              "#7201a8"
             ],
             [
              0.3333333333333333,
              "#9c179e"
             ],
             [
              0.4444444444444444,
              "#bd3786"
             ],
             [
              0.5555555555555556,
              "#d8576b"
             ],
             [
              0.6666666666666666,
              "#ed7953"
             ],
             [
              0.7777777777777778,
              "#fb9f3a"
             ],
             [
              0.8888888888888888,
              "#fdca26"
             ],
             [
              1,
              "#f0f921"
             ]
            ],
            "type": "histogram2dcontour"
           }
          ],
          "mesh3d": [
           {
            "colorbar": {
             "outlinewidth": 0,
             "ticks": ""
            },
            "type": "mesh3d"
           }
          ],
          "parcoords": [
           {
            "line": {
             "colorbar": {
              "outlinewidth": 0,
              "ticks": ""
             }
            },
            "type": "parcoords"
           }
          ],
          "pie": [
           {
            "automargin": true,
            "type": "pie"
           }
          ],
          "scatter": [
           {
            "fillpattern": {
             "fillmode": "overlay",
             "size": 10,
             "solidity": 0.2
            },
            "type": "scatter"
           }
          ],
          "scatter3d": [
           {
            "line": {
             "colorbar": {
              "outlinewidth": 0,
              "ticks": ""
             }
            },
            "marker": {
             "colorbar": {
              "outlinewidth": 0,
              "ticks": ""
             }
            },
            "type": "scatter3d"
           }
          ],
          "scattercarpet": [
           {
            "marker": {
             "colorbar": {
              "outlinewidth": 0,
              "ticks": ""
             }
            },
            "type": "scattercarpet"
           }
          ],
          "scattergeo": [
           {
            "marker": {
             "colorbar": {
              "outlinewidth": 0,
              "ticks": ""
             }
            },
            "type": "scattergeo"
           }
          ],
          "scattergl": [
           {
            "marker": {
             "colorbar": {
              "outlinewidth": 0,
              "ticks": ""
             }
            },
            "type": "scattergl"
           }
          ],
          "scattermapbox": [
           {
            "marker": {
             "colorbar": {
              "outlinewidth": 0,
              "ticks": ""
             }
            },
            "type": "scattermapbox"
           }
          ],
          "scatterpolar": [
           {
            "marker": {
             "colorbar": {
              "outlinewidth": 0,
              "ticks": ""
             }
            },
            "type": "scatterpolar"
           }
          ],
          "scatterpolargl": [
           {
            "marker": {
             "colorbar": {
              "outlinewidth": 0,
              "ticks": ""
             }
            },
            "type": "scatterpolargl"
           }
          ],
          "scatterternary": [
           {
            "marker": {
             "colorbar": {
              "outlinewidth": 0,
              "ticks": ""
             }
            },
            "type": "scatterternary"
           }
          ],
          "surface": [
           {
            "colorbar": {
             "outlinewidth": 0,
             "ticks": ""
            },
            "colorscale": [
             [
              0,
              "#0d0887"
             ],
             [
              0.1111111111111111,
              "#46039f"
             ],
             [
              0.2222222222222222,
              "#7201a8"
             ],
             [
              0.3333333333333333,
              "#9c179e"
             ],
             [
              0.4444444444444444,
              "#bd3786"
             ],
             [
              0.5555555555555556,
              "#d8576b"
             ],
             [
              0.6666666666666666,
              "#ed7953"
             ],
             [
              0.7777777777777778,
              "#fb9f3a"
             ],
             [
              0.8888888888888888,
              "#fdca26"
             ],
             [
              1,
              "#f0f921"
             ]
            ],
            "type": "surface"
           }
          ],
          "table": [
           {
            "cells": {
             "fill": {
              "color": "#EBF0F8"
             },
             "line": {
              "color": "white"
             }
            },
            "header": {
             "fill": {
              "color": "#C8D4E3"
             },
             "line": {
              "color": "white"
             }
            },
            "type": "table"
           }
          ]
         },
         "layout": {
          "annotationdefaults": {
           "arrowcolor": "#2a3f5f",
           "arrowhead": 0,
           "arrowwidth": 1
          },
          "autotypenumbers": "strict",
          "coloraxis": {
           "colorbar": {
            "outlinewidth": 0,
            "ticks": ""
           }
          },
          "colorscale": {
           "diverging": [
            [
             0,
             "#8e0152"
            ],
            [
             0.1,
             "#c51b7d"
            ],
            [
             0.2,
             "#de77ae"
            ],
            [
             0.3,
             "#f1b6da"
            ],
            [
             0.4,
             "#fde0ef"
            ],
            [
             0.5,
             "#f7f7f7"
            ],
            [
             0.6,
             "#e6f5d0"
            ],
            [
             0.7,
             "#b8e186"
            ],
            [
             0.8,
             "#7fbc41"
            ],
            [
             0.9,
             "#4d9221"
            ],
            [
             1,
             "#276419"
            ]
           ],
           "sequential": [
            [
             0,
             "#0d0887"
            ],
            [
             0.1111111111111111,
             "#46039f"
            ],
            [
             0.2222222222222222,
             "#7201a8"
            ],
            [
             0.3333333333333333,
             "#9c179e"
            ],
            [
             0.4444444444444444,
             "#bd3786"
            ],
            [
             0.5555555555555556,
             "#d8576b"
            ],
            [
             0.6666666666666666,
             "#ed7953"
            ],
            [
             0.7777777777777778,
             "#fb9f3a"
            ],
            [
             0.8888888888888888,
             "#fdca26"
            ],
            [
             1,
             "#f0f921"
            ]
           ],
           "sequentialminus": [
            [
             0,
             "#0d0887"
            ],
            [
             0.1111111111111111,
             "#46039f"
            ],
            [
             0.2222222222222222,
             "#7201a8"
            ],
            [
             0.3333333333333333,
             "#9c179e"
            ],
            [
             0.4444444444444444,
             "#bd3786"
            ],
            [
             0.5555555555555556,
             "#d8576b"
            ],
            [
             0.6666666666666666,
             "#ed7953"
            ],
            [
             0.7777777777777778,
             "#fb9f3a"
            ],
            [
             0.8888888888888888,
             "#fdca26"
            ],
            [
             1,
             "#f0f921"
            ]
           ]
          },
          "colorway": [
           "#636efa",
           "#EF553B",
           "#00cc96",
           "#ab63fa",
           "#FFA15A",
           "#19d3f3",
           "#FF6692",
           "#B6E880",
           "#FF97FF",
           "#FECB52"
          ],
          "font": {
           "color": "#2a3f5f"
          },
          "geo": {
           "bgcolor": "white",
           "lakecolor": "white",
           "landcolor": "#E5ECF6",
           "showlakes": true,
           "showland": true,
           "subunitcolor": "white"
          },
          "hoverlabel": {
           "align": "left"
          },
          "hovermode": "closest",
          "mapbox": {
           "style": "light"
          },
          "paper_bgcolor": "white",
          "plot_bgcolor": "#E5ECF6",
          "polar": {
           "angularaxis": {
            "gridcolor": "white",
            "linecolor": "white",
            "ticks": ""
           },
           "bgcolor": "#E5ECF6",
           "radialaxis": {
            "gridcolor": "white",
            "linecolor": "white",
            "ticks": ""
           }
          },
          "scene": {
           "xaxis": {
            "backgroundcolor": "#E5ECF6",
            "gridcolor": "white",
            "gridwidth": 2,
            "linecolor": "white",
            "showbackground": true,
            "ticks": "",
            "zerolinecolor": "white"
           },
           "yaxis": {
            "backgroundcolor": "#E5ECF6",
            "gridcolor": "white",
            "gridwidth": 2,
            "linecolor": "white",
            "showbackground": true,
            "ticks": "",
            "zerolinecolor": "white"
           },
           "zaxis": {
            "backgroundcolor": "#E5ECF6",
            "gridcolor": "white",
            "gridwidth": 2,
            "linecolor": "white",
            "showbackground": true,
            "ticks": "",
            "zerolinecolor": "white"
           }
          },
          "shapedefaults": {
           "line": {
            "color": "#2a3f5f"
           }
          },
          "ternary": {
           "aaxis": {
            "gridcolor": "white",
            "linecolor": "white",
            "ticks": ""
           },
           "baxis": {
            "gridcolor": "white",
            "linecolor": "white",
            "ticks": ""
           },
           "bgcolor": "#E5ECF6",
           "caxis": {
            "gridcolor": "white",
            "linecolor": "white",
            "ticks": ""
           }
          },
          "title": {
           "x": 0.05
          },
          "xaxis": {
           "automargin": true,
           "gridcolor": "white",
           "linecolor": "white",
           "ticks": "",
           "title": {
            "standoff": 15
           },
           "zerolinecolor": "white",
           "zerolinewidth": 2
          },
          "yaxis": {
           "automargin": true,
           "gridcolor": "white",
           "linecolor": "white",
           "ticks": "",
           "title": {
            "standoff": 15
           },
           "zerolinecolor": "white",
           "zerolinewidth": 2
          }
         }
        },
        "title": {
         "text": "IOU Values by Experiment"
        },
        "xaxis": {
         "title": {
          "text": "Class"
         }
        },
        "yaxis": {
         "title": {
          "text": "IOU"
         }
        }
       }
      }
     },
     "metadata": {},
     "output_type": "display_data"
    }
   ],
   "source": [
    "plot_grouped_values(df_results, SALINAS_LABELS, metric='IOU')"
   ]
  },
  {
   "cell_type": "markdown",
   "metadata": {},
   "source": [
    "# ANOVA"
   ]
  },
  {
   "cell_type": "code",
   "execution_count": 30,
   "metadata": {},
   "outputs": [
    {
     "ename": "PatsyError",
     "evalue": "model is missing required outcome variables",
     "output_type": "error",
     "traceback": [
      "\u001b[1;31m---------------------------------------------------------------------------\u001b[0m",
      "\u001b[1;31mPatsyError\u001b[0m                                Traceback (most recent call last)",
      "Cell \u001b[1;32mIn[30], line 10\u001b[0m\n\u001b[0;32m      7\u001b[0m filtered_df \u001b[38;5;241m=\u001b[39m filter_exp_by_substring(filtered_df, [\u001b[38;5;124m'\u001b[39m\u001b[38;5;124mSalinas_PCA_8\u001b[39m\u001b[38;5;124m'\u001b[39m])\n\u001b[0;32m      9\u001b[0m \u001b[38;5;66;03m# Perform ANOVA\u001b[39;00m\n\u001b[1;32m---> 10\u001b[0m model \u001b[38;5;241m=\u001b[39m ols(\u001b[38;5;124m'\u001b[39m\u001b[38;5;124mAccuracy\u001b[39m\u001b[38;5;124m'\u001b[39m, data\u001b[38;5;241m=\u001b[39mfiltered_df)\u001b[38;5;241m.\u001b[39mfit()\n\u001b[0;32m     11\u001b[0m anova_table \u001b[38;5;241m=\u001b[39m sm\u001b[38;5;241m.\u001b[39mstats\u001b[38;5;241m.\u001b[39manova_lm(model, typ\u001b[38;5;241m=\u001b[39m\u001b[38;5;241m2\u001b[39m)\n\u001b[0;32m     13\u001b[0m \u001b[38;5;66;03m# Check ANOVA results\u001b[39;00m\n",
      "File \u001b[1;32mc:\\Users\\Dell\\anaconda3\\envs\\dslab\\Lib\\site-packages\\statsmodels\\base\\model.py:203\u001b[0m, in \u001b[0;36mModel.from_formula\u001b[1;34m(cls, formula, data, subset, drop_cols, *args, **kwargs)\u001b[0m\n\u001b[0;32m    200\u001b[0m \u001b[38;5;28;01mif\u001b[39;00m missing \u001b[38;5;241m==\u001b[39m \u001b[38;5;124m'\u001b[39m\u001b[38;5;124mnone\u001b[39m\u001b[38;5;124m'\u001b[39m:  \u001b[38;5;66;03m# with patsy it's drop or raise. let's raise.\u001b[39;00m\n\u001b[0;32m    201\u001b[0m     missing \u001b[38;5;241m=\u001b[39m \u001b[38;5;124m'\u001b[39m\u001b[38;5;124mraise\u001b[39m\u001b[38;5;124m'\u001b[39m\n\u001b[1;32m--> 203\u001b[0m tmp \u001b[38;5;241m=\u001b[39m handle_formula_data(data, \u001b[38;5;28;01mNone\u001b[39;00m, formula, depth\u001b[38;5;241m=\u001b[39meval_env,\n\u001b[0;32m    204\u001b[0m                           missing\u001b[38;5;241m=\u001b[39mmissing)\n\u001b[0;32m    205\u001b[0m ((endog, exog), missing_idx, design_info) \u001b[38;5;241m=\u001b[39m tmp\n\u001b[0;32m    206\u001b[0m max_endog \u001b[38;5;241m=\u001b[39m \u001b[38;5;28mcls\u001b[39m\u001b[38;5;241m.\u001b[39m_formula_max_endog\n",
      "File \u001b[1;32mc:\\Users\\Dell\\anaconda3\\envs\\dslab\\Lib\\site-packages\\statsmodels\\formula\\formulatools.py:63\u001b[0m, in \u001b[0;36mhandle_formula_data\u001b[1;34m(Y, X, formula, depth, missing)\u001b[0m\n\u001b[0;32m     61\u001b[0m \u001b[38;5;28;01melse\u001b[39;00m:\n\u001b[0;32m     62\u001b[0m     \u001b[38;5;28;01mif\u001b[39;00m data_util\u001b[38;5;241m.\u001b[39m_is_using_pandas(Y, \u001b[38;5;28;01mNone\u001b[39;00m):\n\u001b[1;32m---> 63\u001b[0m         result \u001b[38;5;241m=\u001b[39m dmatrices(formula, Y, depth, return_type\u001b[38;5;241m=\u001b[39m\u001b[38;5;124m'\u001b[39m\u001b[38;5;124mdataframe\u001b[39m\u001b[38;5;124m'\u001b[39m,\n\u001b[0;32m     64\u001b[0m                            NA_action\u001b[38;5;241m=\u001b[39mna_action)\n\u001b[0;32m     65\u001b[0m     \u001b[38;5;28;01melse\u001b[39;00m:\n\u001b[0;32m     66\u001b[0m         result \u001b[38;5;241m=\u001b[39m dmatrices(formula, Y, depth, return_type\u001b[38;5;241m=\u001b[39m\u001b[38;5;124m'\u001b[39m\u001b[38;5;124mdataframe\u001b[39m\u001b[38;5;124m'\u001b[39m,\n\u001b[0;32m     67\u001b[0m                            NA_action\u001b[38;5;241m=\u001b[39mna_action)\n",
      "File \u001b[1;32mc:\\Users\\Dell\\anaconda3\\envs\\dslab\\Lib\\site-packages\\patsy\\highlevel.py:312\u001b[0m, in \u001b[0;36mdmatrices\u001b[1;34m(formula_like, data, eval_env, NA_action, return_type)\u001b[0m\n\u001b[0;32m    309\u001b[0m (lhs, rhs) \u001b[38;5;241m=\u001b[39m _do_highlevel_design(formula_like, data, eval_env,\n\u001b[0;32m    310\u001b[0m                                   NA_action, return_type)\n\u001b[0;32m    311\u001b[0m \u001b[38;5;28;01mif\u001b[39;00m lhs\u001b[38;5;241m.\u001b[39mshape[\u001b[38;5;241m1\u001b[39m] \u001b[38;5;241m==\u001b[39m \u001b[38;5;241m0\u001b[39m:\n\u001b[1;32m--> 312\u001b[0m     \u001b[38;5;28;01mraise\u001b[39;00m PatsyError(\u001b[38;5;124m\"\u001b[39m\u001b[38;5;124mmodel is missing required outcome variables\u001b[39m\u001b[38;5;124m\"\u001b[39m)\n\u001b[0;32m    313\u001b[0m \u001b[38;5;28;01mreturn\u001b[39;00m (lhs, rhs)\n",
      "\u001b[1;31mPatsyError\u001b[0m: model is missing required outcome variables"
     ]
    }
   ],
   "source": [
    "import pandas as pd\n",
    "import statsmodels.api as sm\n",
    "from statsmodels.stats.multicomp import pairwise_tukeyhsd\n",
    "from statsmodels.formula.api import ols\n",
    "\n",
    "filtered_df = df_results.copy()\n",
    "filtered_df = filter_exp_by_substring(filtered_df, ['Salinas_PCA_8'])\n",
    "\n",
    "# Perform ANOVA\n",
    "model = ols('Accuracy', data=filtered_df).fit()\n",
    "anova_table = sm.stats.anova_lm(model, typ=2)\n",
    "\n",
    "# Check ANOVA results\n",
    "print(\"ANOVA results:\")\n",
    "print(anova_table)\n",
    "\n",
    "# Perform Tukey's HSD test\n",
    "tukey_results = pairwise_tukeyhsd(filtered_df['Accuracy'], filtered_df['Experiment'])\n",
    "\n",
    "# Check Tukey's HSD test results\n",
    "print(\"\\nTukey's HSD test results:\")\n",
    "print(tukey_results)"
   ]
  }
 ],
 "metadata": {
  "kernelspec": {
   "display_name": "dslab1",
   "language": "python",
   "name": "python3"
  },
  "language_info": {
   "codemirror_mode": {
    "name": "ipython",
    "version": 3
   },
   "file_extension": ".py",
   "mimetype": "text/x-python",
   "name": "python",
   "nbconvert_exporter": "python",
   "pygments_lexer": "ipython3",
   "version": "3.12.2"
  }
 },
 "nbformat": 4,
 "nbformat_minor": 2
}
