{
 "cells": [
  {
   "cell_type": "code",
   "execution_count": 14,
   "metadata": {},
   "outputs": [
    {
     "name": "stdout",
     "output_type": "stream",
     "text": [
      "\n",
      "Salinas_PCA_8_SVM_1epochs.csv\n",
      "Couldn't find CSV file.\n",
      "\n",
      "Salinas_PCA_8_hamida_1epochs.csv\n",
      "Loaded.\n",
      "Columns unpickled.\n",
      "\n",
      "Salinas_PCA_15_SVM_1epochs.csv\n",
      "Couldn't find CSV file.\n",
      "\n",
      "Salinas_PCA_15_hamida_1epochs.csv\n",
      "Loaded.\n",
      "Columns unpickled.\n",
      "\n",
      "Salinas_FastICA_8_SVM_1epochs.csv\n",
      "Couldn't find CSV file.\n",
      "\n",
      "Salinas_FastICA_8_hamida_1epochs.csv\n",
      "Couldn't find CSV file.\n",
      "\n",
      "Salinas_FastICA_15_SVM_1epochs.csv\n",
      "Couldn't find CSV file.\n",
      "\n",
      "Salinas_FastICA_15_hamida_1epochs.csv\n",
      "Couldn't find CSV file.\n",
      "\n",
      "IndianPines_PCA_8_SVM_1epochs.csv\n",
      "Couldn't find CSV file.\n",
      "\n",
      "IndianPines_PCA_8_hamida_1epochs.csv\n",
      "Couldn't find CSV file.\n",
      "\n",
      "IndianPines_PCA_15_SVM_1epochs.csv\n",
      "Couldn't find CSV file.\n",
      "\n",
      "IndianPines_PCA_15_hamida_1epochs.csv\n",
      "Couldn't find CSV file.\n",
      "\n",
      "IndianPines_FastICA_8_SVM_1epochs.csv\n",
      "Couldn't find CSV file.\n",
      "\n",
      "IndianPines_FastICA_8_hamida_1epochs.csv\n",
      "Couldn't find CSV file.\n",
      "\n",
      "IndianPines_FastICA_15_SVM_1epochs.csv\n",
      "Couldn't find CSV file.\n",
      "\n",
      "IndianPines_FastICA_15_hamida_1epochs.csv\n",
      "Couldn't find CSV file.\n"
     ]
    }
   ],
   "source": [
    "import pandas as pd\n",
    "import pickle\n",
    "\n",
    "dict_results = {}\n",
    "for ds in ['Salinas','IndianPines']:\n",
    "    for dr_method in ['PCA', 'FastICA']:\n",
    "        for n_components in [8, 15]:\n",
    "            for model in ['SVM', 'hamida']:\n",
    "                filename = f'{ds}_{dr_method}_{n_components}_{model}_1epochs.csv'\n",
    "                print('\\n' + filename)\n",
    "                try:\n",
    "                    df = pd.read_csv(f'./Results/{ds}_{dr_method}_{n_components}_{model}_30epochs.csv', index_col=0)\n",
    "                    print('Loaded.')\n",
    "                    try:\n",
    "                        df['Confusion matrix'] = df['Confusion matrix'].apply(lambda x: pickle.loads(eval(x)))\n",
    "                        df['F1 scores'] = df['F1 scores'].apply(lambda x: pickle.loads(eval(x)))\n",
    "                        dict_results[f'{ds}_{dr_method}_{n_components}_{model}'] = df\n",
    "                        print('Columns unpickled.')\n",
    "                    except:\n",
    "                        print(\"Problem with pickled columns\")\n",
    "                except:\n",
    "                    print(\"Couldn't find CSV file.\")\n",
    "                \n",
    "                "
   ]
  },
  {
   "cell_type": "code",
   "execution_count": 2,
   "metadata": {},
   "outputs": [],
   "source": [
    "SALINAS_LABELS = [\n",
    "    \"Undefined\",\n",
    "    \"Brocoli_green_weeds_1\",\n",
    "    \"Brocoli_green_weeds_2\",\n",
    "    \"Fallow\",\n",
    "    \"Fallow_rough_plow\",\n",
    "    \"Fallow_smooth\",\n",
    "    \"Stubble\",\n",
    "    \"Celery\",\n",
    "    \"Grapes_untrained\",\n",
    "    \"Soil_vinyard_develop\",\n",
    "    \"Corn_senesced_green_weeds\",\n",
    "    \"Lettuce_romaine_4wk\",\n",
    "    \"Lettuce_romaine_5wk\",\n",
    "    \"Lettuce_romaine_6wk\",\n",
    "    \"Lettuce_romaine_7wk\",\n",
    "    \"Vinyard_untrained\",\n",
    "    \"Vinyard_vertical_trellis\",\n",
    "]"
   ]
  },
  {
   "cell_type": "code",
   "execution_count": 3,
   "metadata": {},
   "outputs": [
    {
     "data": {
      "text/html": [
       "<div>\n",
       "<style scoped>\n",
       "    .dataframe tbody tr th:only-of-type {\n",
       "        vertical-align: middle;\n",
       "    }\n",
       "\n",
       "    .dataframe tbody tr th {\n",
       "        vertical-align: top;\n",
       "    }\n",
       "\n",
       "    .dataframe thead th {\n",
       "        text-align: right;\n",
       "    }\n",
       "</style>\n",
       "<table border=\"1\" class=\"dataframe\">\n",
       "  <thead>\n",
       "    <tr style=\"text-align: right;\">\n",
       "      <th></th>\n",
       "      <th>Confusion matrix</th>\n",
       "      <th>Accuracy</th>\n",
       "      <th>F1 scores</th>\n",
       "      <th>Kappa</th>\n",
       "    </tr>\n",
       "  </thead>\n",
       "  <tbody>\n",
       "    <tr>\n",
       "      <th>0</th>\n",
       "      <td>[[0, 0, 0, 0, 0, 0, 0, 0, 0, 0, 0, 0, 0, 0, 0,...</td>\n",
       "      <td>57.948604</td>\n",
       "      <td>[0.0, 0.0, 0.7662163555738888, 0.0032467532467...</td>\n",
       "      <td>0.520811</td>\n",
       "    </tr>\n",
       "  </tbody>\n",
       "</table>\n",
       "</div>"
      ],
      "text/plain": [
       "                                    Confusion matrix   Accuracy  \\\n",
       "0  [[0, 0, 0, 0, 0, 0, 0, 0, 0, 0, 0, 0, 0, 0, 0,...  57.948604   \n",
       "\n",
       "                                           F1 scores     Kappa  \n",
       "0  [0.0, 0.0, 0.7662163555738888, 0.0032467532467...  0.520811  "
      ]
     },
     "execution_count": 3,
     "metadata": {},
     "output_type": "execute_result"
    }
   ],
   "source": [
    "dict_results['Salinas_PCA_15_hamida']"
   ]
  },
  {
   "cell_type": "code",
   "execution_count": 13,
   "metadata": {},
   "outputs": [
    {
     "data": {
      "application/vnd.plotly.v1+json": {
       "config": {
        "plotlyServerURL": "https://plot.ly"
       },
       "data": [
        {
         "coloraxis": "coloraxis",
         "hovertemplate": "Predicted labels: %{x}<br>Actual labels: %{y}<br># of classification: %{z}<extra></extra>",
         "name": "0",
         "texttemplate": "%{z}",
         "type": "heatmap",
         "x": [
          "Undefined",
          "Brocoli_green_weeds_1",
          "Brocoli_green_weeds_2",
          "Fallow",
          "Fallow_rough_plow",
          "Fallow_smooth",
          "Stubble",
          "Celery",
          "Grapes_untrained",
          "Soil_vinyard_develop",
          "Corn_senesced_green_weeds",
          "Lettuce_romaine_4wk",
          "Lettuce_romaine_5wk",
          "Lettuce_romaine_6wk",
          "Lettuce_romaine_7wk",
          "Vinyard_untrained",
          "Vinyard_vertical_trellis"
         ],
         "xaxis": "x",
         "y": [
          "Undefined",
          "Brocoli_green_weeds_1",
          "Brocoli_green_weeds_2",
          "Fallow",
          "Fallow_rough_plow",
          "Fallow_smooth",
          "Stubble",
          "Celery",
          "Grapes_untrained",
          "Soil_vinyard_develop",
          "Corn_senesced_green_weeds",
          "Lettuce_romaine_4wk",
          "Lettuce_romaine_5wk",
          "Lettuce_romaine_6wk",
          "Lettuce_romaine_7wk",
          "Vinyard_untrained",
          "Vinyard_vertical_trellis"
         ],
         "yaxis": "y",
         "z": [
          [
           0,
           0,
           0,
           0,
           0,
           0,
           0,
           0,
           0,
           0,
           0,
           0,
           0,
           0,
           0,
           0,
           0
          ],
          [
           95,
           0,
           1914,
           0,
           0,
           0,
           0,
           0,
           0,
           0,
           0,
           0,
           0,
           0,
           0,
           0,
           0
          ],
          [
           0,
           0,
           3715,
           0,
           0,
           0,
           0,
           0,
           0,
           0,
           0,
           0,
           0,
           0,
           11,
           0,
           0
          ],
          [
           0,
           0,
           0,
           4,
           0,
           0,
           0,
           0,
           0,
           1972,
           0,
           0,
           0,
           0,
           0,
           0,
           0
          ],
          [
           9,
           0,
           0,
           59,
           1193,
           130,
           0,
           0,
           0,
           3,
           0,
           0,
           0,
           0,
           0,
           0,
           0
          ],
          [
           0,
           0,
           0,
           409,
           0,
           173,
           0,
           0,
           0,
           2085,
           11,
           0,
           0,
           0,
           0,
           0,
           0
          ],
          [
           61,
           0,
           0,
           0,
           0,
           0,
           3898,
           0,
           0,
           0,
           0,
           0,
           0,
           0,
           0,
           0,
           0
          ],
          [
           42,
           0,
           286,
           0,
           0,
           0,
           0,
           3194,
           0,
           0,
           7,
           0,
           0,
           0,
           49,
           0,
           1
          ],
          [
           168,
           0,
           0,
           0,
           0,
           0,
           6,
           0,
           10409,
           13,
           664,
           0,
           0,
           0,
           9,
           2,
           0
          ],
          [
           22,
           0,
           0,
           0,
           0,
           0,
           0,
           0,
           0,
           6181,
           0,
           0,
           0,
           0,
           0,
           0,
           0
          ],
          [
           86,
           0,
           0,
           0,
           0,
           0,
           0,
           0,
           0,
           2012,
           1138,
           0,
           0,
           0,
           42,
           0,
           0
          ],
          [
           31,
           0,
           0,
           1,
           0,
           0,
           0,
           0,
           0,
           1036,
           0,
           0,
           0,
           0,
           0,
           0,
           0
          ],
          [
           55,
           0,
           0,
           14,
           0,
           0,
           0,
           0,
           0,
           1000,
           858,
           0,
           0,
           0,
           0,
           0,
           0
          ],
          [
           22,
           0,
           0,
           0,
           0,
           0,
           0,
           0,
           0,
           0,
           894,
           0,
           0,
           0,
           0,
           0,
           0
          ],
          [
           28,
           0,
           23,
           0,
           0,
           0,
           0,
           0,
           0,
           0,
           93,
           0,
           0,
           0,
           926,
           0,
           0
          ],
          [
           311,
           0,
           0,
           1,
           0,
           0,
           0,
           0,
           6807,
           4,
           55,
           0,
           55,
           0,
           0,
           35,
           0
          ],
          [
           251,
           0,
           33,
           0,
           4,
           0,
           0,
           315,
           676,
           0,
           5,
           0,
           20,
           0,
           0,
           2,
           501
          ]
         ]
        }
       ],
       "layout": {
        "coloraxis": {
         "colorbar": {
          "title": {
           "text": "# of classification"
          }
         },
         "colorscale": [
          [
           0,
           "#0d0887"
          ],
          [
           0.1111111111111111,
           "#46039f"
          ],
          [
           0.2222222222222222,
           "#7201a8"
          ],
          [
           0.3333333333333333,
           "#9c179e"
          ],
          [
           0.4444444444444444,
           "#bd3786"
          ],
          [
           0.5555555555555556,
           "#d8576b"
          ],
          [
           0.6666666666666666,
           "#ed7953"
          ],
          [
           0.7777777777777778,
           "#fb9f3a"
          ],
          [
           0.8888888888888888,
           "#fdca26"
          ],
          [
           1,
           "#f0f921"
          ]
         ]
        },
        "height": 700,
        "margin": {
         "t": 60
        },
        "template": {
         "data": {
          "bar": [
           {
            "error_x": {
             "color": "#2a3f5f"
            },
            "error_y": {
             "color": "#2a3f5f"
            },
            "marker": {
             "line": {
              "color": "#E5ECF6",
              "width": 0.5
             },
             "pattern": {
              "fillmode": "overlay",
              "size": 10,
              "solidity": 0.2
             }
            },
            "type": "bar"
           }
          ],
          "barpolar": [
           {
            "marker": {
             "line": {
              "color": "#E5ECF6",
              "width": 0.5
             },
             "pattern": {
              "fillmode": "overlay",
              "size": 10,
              "solidity": 0.2
             }
            },
            "type": "barpolar"
           }
          ],
          "carpet": [
           {
            "aaxis": {
             "endlinecolor": "#2a3f5f",
             "gridcolor": "white",
             "linecolor": "white",
             "minorgridcolor": "white",
             "startlinecolor": "#2a3f5f"
            },
            "baxis": {
             "endlinecolor": "#2a3f5f",
             "gridcolor": "white",
             "linecolor": "white",
             "minorgridcolor": "white",
             "startlinecolor": "#2a3f5f"
            },
            "type": "carpet"
           }
          ],
          "choropleth": [
           {
            "colorbar": {
             "outlinewidth": 0,
             "ticks": ""
            },
            "type": "choropleth"
           }
          ],
          "contour": [
           {
            "colorbar": {
             "outlinewidth": 0,
             "ticks": ""
            },
            "colorscale": [
             [
              0,
              "#0d0887"
             ],
             [
              0.1111111111111111,
              "#46039f"
             ],
             [
              0.2222222222222222,
              "#7201a8"
             ],
             [
              0.3333333333333333,
              "#9c179e"
             ],
             [
              0.4444444444444444,
              "#bd3786"
             ],
             [
              0.5555555555555556,
              "#d8576b"
             ],
             [
              0.6666666666666666,
              "#ed7953"
             ],
             [
              0.7777777777777778,
              "#fb9f3a"
             ],
             [
              0.8888888888888888,
              "#fdca26"
             ],
             [
              1,
              "#f0f921"
             ]
            ],
            "type": "contour"
           }
          ],
          "contourcarpet": [
           {
            "colorbar": {
             "outlinewidth": 0,
             "ticks": ""
            },
            "type": "contourcarpet"
           }
          ],
          "heatmap": [
           {
            "colorbar": {
             "outlinewidth": 0,
             "ticks": ""
            },
            "colorscale": [
             [
              0,
              "#0d0887"
             ],
             [
              0.1111111111111111,
              "#46039f"
             ],
             [
              0.2222222222222222,
              "#7201a8"
             ],
             [
              0.3333333333333333,
              "#9c179e"
             ],
             [
              0.4444444444444444,
              "#bd3786"
             ],
             [
              0.5555555555555556,
              "#d8576b"
             ],
             [
              0.6666666666666666,
              "#ed7953"
             ],
             [
              0.7777777777777778,
              "#fb9f3a"
             ],
             [
              0.8888888888888888,
              "#fdca26"
             ],
             [
              1,
              "#f0f921"
             ]
            ],
            "type": "heatmap"
           }
          ],
          "heatmapgl": [
           {
            "colorbar": {
             "outlinewidth": 0,
             "ticks": ""
            },
            "colorscale": [
             [
              0,
              "#0d0887"
             ],
             [
              0.1111111111111111,
              "#46039f"
             ],
             [
              0.2222222222222222,
              "#7201a8"
             ],
             [
              0.3333333333333333,
              "#9c179e"
             ],
             [
              0.4444444444444444,
              "#bd3786"
             ],
             [
              0.5555555555555556,
              "#d8576b"
             ],
             [
              0.6666666666666666,
              "#ed7953"
             ],
             [
              0.7777777777777778,
              "#fb9f3a"
             ],
             [
              0.8888888888888888,
              "#fdca26"
             ],
             [
              1,
              "#f0f921"
             ]
            ],
            "type": "heatmapgl"
           }
          ],
          "histogram": [
           {
            "marker": {
             "pattern": {
              "fillmode": "overlay",
              "size": 10,
              "solidity": 0.2
             }
            },
            "type": "histogram"
           }
          ],
          "histogram2d": [
           {
            "colorbar": {
             "outlinewidth": 0,
             "ticks": ""
            },
            "colorscale": [
             [
              0,
              "#0d0887"
             ],
             [
              0.1111111111111111,
              "#46039f"
             ],
             [
              0.2222222222222222,
              "#7201a8"
             ],
             [
              0.3333333333333333,
              "#9c179e"
             ],
             [
              0.4444444444444444,
              "#bd3786"
             ],
             [
              0.5555555555555556,
              "#d8576b"
             ],
             [
              0.6666666666666666,
              "#ed7953"
             ],
             [
              0.7777777777777778,
              "#fb9f3a"
             ],
             [
              0.8888888888888888,
              "#fdca26"
             ],
             [
              1,
              "#f0f921"
             ]
            ],
            "type": "histogram2d"
           }
          ],
          "histogram2dcontour": [
           {
            "colorbar": {
             "outlinewidth": 0,
             "ticks": ""
            },
            "colorscale": [
             [
              0,
              "#0d0887"
             ],
             [
              0.1111111111111111,
              "#46039f"
             ],
             [
              0.2222222222222222,
              "#7201a8"
             ],
             [
              0.3333333333333333,
              "#9c179e"
             ],
             [
              0.4444444444444444,
              "#bd3786"
             ],
             [
              0.5555555555555556,
              "#d8576b"
             ],
             [
              0.6666666666666666,
              "#ed7953"
             ],
             [
              0.7777777777777778,
              "#fb9f3a"
             ],
             [
              0.8888888888888888,
              "#fdca26"
             ],
             [
              1,
              "#f0f921"
             ]
            ],
            "type": "histogram2dcontour"
           }
          ],
          "mesh3d": [
           {
            "colorbar": {
             "outlinewidth": 0,
             "ticks": ""
            },
            "type": "mesh3d"
           }
          ],
          "parcoords": [
           {
            "line": {
             "colorbar": {
              "outlinewidth": 0,
              "ticks": ""
             }
            },
            "type": "parcoords"
           }
          ],
          "pie": [
           {
            "automargin": true,
            "type": "pie"
           }
          ],
          "scatter": [
           {
            "fillpattern": {
             "fillmode": "overlay",
             "size": 10,
             "solidity": 0.2
            },
            "type": "scatter"
           }
          ],
          "scatter3d": [
           {
            "line": {
             "colorbar": {
              "outlinewidth": 0,
              "ticks": ""
             }
            },
            "marker": {
             "colorbar": {
              "outlinewidth": 0,
              "ticks": ""
             }
            },
            "type": "scatter3d"
           }
          ],
          "scattercarpet": [
           {
            "marker": {
             "colorbar": {
              "outlinewidth": 0,
              "ticks": ""
             }
            },
            "type": "scattercarpet"
           }
          ],
          "scattergeo": [
           {
            "marker": {
             "colorbar": {
              "outlinewidth": 0,
              "ticks": ""
             }
            },
            "type": "scattergeo"
           }
          ],
          "scattergl": [
           {
            "marker": {
             "colorbar": {
              "outlinewidth": 0,
              "ticks": ""
             }
            },
            "type": "scattergl"
           }
          ],
          "scattermapbox": [
           {
            "marker": {
             "colorbar": {
              "outlinewidth": 0,
              "ticks": ""
             }
            },
            "type": "scattermapbox"
           }
          ],
          "scatterpolar": [
           {
            "marker": {
             "colorbar": {
              "outlinewidth": 0,
              "ticks": ""
             }
            },
            "type": "scatterpolar"
           }
          ],
          "scatterpolargl": [
           {
            "marker": {
             "colorbar": {
              "outlinewidth": 0,
              "ticks": ""
             }
            },
            "type": "scatterpolargl"
           }
          ],
          "scatterternary": [
           {
            "marker": {
             "colorbar": {
              "outlinewidth": 0,
              "ticks": ""
             }
            },
            "type": "scatterternary"
           }
          ],
          "surface": [
           {
            "colorbar": {
             "outlinewidth": 0,
             "ticks": ""
            },
            "colorscale": [
             [
              0,
              "#0d0887"
             ],
             [
              0.1111111111111111,
              "#46039f"
             ],
             [
              0.2222222222222222,
              "#7201a8"
             ],
             [
              0.3333333333333333,
              "#9c179e"
             ],
             [
              0.4444444444444444,
              "#bd3786"
             ],
             [
              0.5555555555555556,
              "#d8576b"
             ],
             [
              0.6666666666666666,
              "#ed7953"
             ],
             [
              0.7777777777777778,
              "#fb9f3a"
             ],
             [
              0.8888888888888888,
              "#fdca26"
             ],
             [
              1,
              "#f0f921"
             ]
            ],
            "type": "surface"
           }
          ],
          "table": [
           {
            "cells": {
             "fill": {
              "color": "#EBF0F8"
             },
             "line": {
              "color": "white"
             }
            },
            "header": {
             "fill": {
              "color": "#C8D4E3"
             },
             "line": {
              "color": "white"
             }
            },
            "type": "table"
           }
          ]
         },
         "layout": {
          "annotationdefaults": {
           "arrowcolor": "#2a3f5f",
           "arrowhead": 0,
           "arrowwidth": 1
          },
          "autotypenumbers": "strict",
          "coloraxis": {
           "colorbar": {
            "outlinewidth": 0,
            "ticks": ""
           }
          },
          "colorscale": {
           "diverging": [
            [
             0,
             "#8e0152"
            ],
            [
             0.1,
             "#c51b7d"
            ],
            [
             0.2,
             "#de77ae"
            ],
            [
             0.3,
             "#f1b6da"
            ],
            [
             0.4,
             "#fde0ef"
            ],
            [
             0.5,
             "#f7f7f7"
            ],
            [
             0.6,
             "#e6f5d0"
            ],
            [
             0.7,
             "#b8e186"
            ],
            [
             0.8,
             "#7fbc41"
            ],
            [
             0.9,
             "#4d9221"
            ],
            [
             1,
             "#276419"
            ]
           ],
           "sequential": [
            [
             0,
             "#0d0887"
            ],
            [
             0.1111111111111111,
             "#46039f"
            ],
            [
             0.2222222222222222,
             "#7201a8"
            ],
            [
             0.3333333333333333,
             "#9c179e"
            ],
            [
             0.4444444444444444,
             "#bd3786"
            ],
            [
             0.5555555555555556,
             "#d8576b"
            ],
            [
             0.6666666666666666,
             "#ed7953"
            ],
            [
             0.7777777777777778,
             "#fb9f3a"
            ],
            [
             0.8888888888888888,
             "#fdca26"
            ],
            [
             1,
             "#f0f921"
            ]
           ],
           "sequentialminus": [
            [
             0,
             "#0d0887"
            ],
            [
             0.1111111111111111,
             "#46039f"
            ],
            [
             0.2222222222222222,
             "#7201a8"
            ],
            [
             0.3333333333333333,
             "#9c179e"
            ],
            [
             0.4444444444444444,
             "#bd3786"
            ],
            [
             0.5555555555555556,
             "#d8576b"
            ],
            [
             0.6666666666666666,
             "#ed7953"
            ],
            [
             0.7777777777777778,
             "#fb9f3a"
            ],
            [
             0.8888888888888888,
             "#fdca26"
            ],
            [
             1,
             "#f0f921"
            ]
           ]
          },
          "colorway": [
           "#636efa",
           "#EF553B",
           "#00cc96",
           "#ab63fa",
           "#FFA15A",
           "#19d3f3",
           "#FF6692",
           "#B6E880",
           "#FF97FF",
           "#FECB52"
          ],
          "font": {
           "color": "#2a3f5f"
          },
          "geo": {
           "bgcolor": "white",
           "lakecolor": "white",
           "landcolor": "#E5ECF6",
           "showlakes": true,
           "showland": true,
           "subunitcolor": "white"
          },
          "hoverlabel": {
           "align": "left"
          },
          "hovermode": "closest",
          "mapbox": {
           "style": "light"
          },
          "paper_bgcolor": "white",
          "plot_bgcolor": "#E5ECF6",
          "polar": {
           "angularaxis": {
            "gridcolor": "white",
            "linecolor": "white",
            "ticks": ""
           },
           "bgcolor": "#E5ECF6",
           "radialaxis": {
            "gridcolor": "white",
            "linecolor": "white",
            "ticks": ""
           }
          },
          "scene": {
           "xaxis": {
            "backgroundcolor": "#E5ECF6",
            "gridcolor": "white",
            "gridwidth": 2,
            "linecolor": "white",
            "showbackground": true,
            "ticks": "",
            "zerolinecolor": "white"
           },
           "yaxis": {
            "backgroundcolor": "#E5ECF6",
            "gridcolor": "white",
            "gridwidth": 2,
            "linecolor": "white",
            "showbackground": true,
            "ticks": "",
            "zerolinecolor": "white"
           },
           "zaxis": {
            "backgroundcolor": "#E5ECF6",
            "gridcolor": "white",
            "gridwidth": 2,
            "linecolor": "white",
            "showbackground": true,
            "ticks": "",
            "zerolinecolor": "white"
           }
          },
          "shapedefaults": {
           "line": {
            "color": "#2a3f5f"
           }
          },
          "ternary": {
           "aaxis": {
            "gridcolor": "white",
            "linecolor": "white",
            "ticks": ""
           },
           "baxis": {
            "gridcolor": "white",
            "linecolor": "white",
            "ticks": ""
           },
           "bgcolor": "#E5ECF6",
           "caxis": {
            "gridcolor": "white",
            "linecolor": "white",
            "ticks": ""
           }
          },
          "title": {
           "x": 0.05
          },
          "xaxis": {
           "automargin": true,
           "gridcolor": "white",
           "linecolor": "white",
           "ticks": "",
           "title": {
            "standoff": 15
           },
           "zerolinecolor": "white",
           "zerolinewidth": 2
          },
          "yaxis": {
           "automargin": true,
           "gridcolor": "white",
           "linecolor": "white",
           "ticks": "",
           "title": {
            "standoff": 15
           },
           "zerolinecolor": "white",
           "zerolinewidth": 2
          }
         }
        },
        "xaxis": {
         "anchor": "y",
         "constrain": "domain",
         "domain": [
          0,
          1
         ],
         "scaleanchor": "y",
         "tickangle": 45,
         "title": {
          "text": "Predicted labels"
         }
        },
        "yaxis": {
         "anchor": "x",
         "autorange": "reversed",
         "constrain": "domain",
         "domain": [
          0,
          1
         ],
         "title": {
          "text": "Actual labels"
         }
        }
       }
      }
     },
     "metadata": {},
     "output_type": "display_data"
    }
   ],
   "source": [
    "import plotly.express as px\n",
    "\n",
    "conf_matrix = dict_results['Salinas_PCA_15_hamida']['Confusion matrix'][0]\n",
    "fig = px.imshow(conf_matrix, text_auto=True, \n",
    "                labels=dict(x='Predicted labels', y='Actual labels', color='# of classification'),\n",
    "                x = SALINAS_LABELS,\n",
    "                y = SALINAS_LABELS,\n",
    "                height=700\n",
    "                )\n",
    "fig.update_xaxes(tickangle=45)\n",
    "fig.show()"
   ]
  }
 ],
 "metadata": {
  "kernelspec": {
   "display_name": "dslab1",
   "language": "python",
   "name": "python3"
  },
  "language_info": {
   "codemirror_mode": {
    "name": "ipython",
    "version": 3
   },
   "file_extension": ".py",
   "mimetype": "text/x-python",
   "name": "python",
   "nbconvert_exporter": "python",
   "pygments_lexer": "ipython3",
   "version": "3.11.8"
  }
 },
 "nbformat": 4,
 "nbformat_minor": 2
}
