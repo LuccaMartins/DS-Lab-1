{
 "cells": [
  {
   "cell_type": "markdown",
   "metadata": {},
   "source": [
    "#### Analysis to do in one dataset\n",
    "\n",
    "For each model, analyze if more components lead to a better performance.\n",
    "\n",
    "For each model, and each number of components analyze which DR method leads to a better performance.\n",
    "\n",
    "For each type of model, analyze \n",
    "\n",
    "\n",
    "#### Extra analysis\n",
    "\n",
    "Compare the behavior of each experiment with and without class balancing. "
   ]
  },
  {
   "cell_type": "markdown",
   "metadata": {},
   "source": [
    "# Imports"
   ]
  },
  {
   "cell_type": "code",
   "execution_count": 1,
   "metadata": {},
   "outputs": [],
   "source": [
    "import pandas as pd\n",
    "import numpy as np\n",
    "import pickle\n",
    "import matplotlib.pyplot as plt\n",
    "# import plotly.graph_objs as go\n",
    "import plotly.express as px\n",
    "import plotly.graph_objects as go\n",
    "from plotly.subplots import make_subplots\n",
    "from scipy.stats import f_oneway\n",
    "from scipy.stats import ttest_ind, ttest_rel"
   ]
  },
  {
   "cell_type": "markdown",
   "metadata": {},
   "source": [
    "# Loading Results and Preparing DataFrame"
   ]
  },
  {
   "cell_type": "code",
   "execution_count": 15,
   "metadata": {},
   "outputs": [
    {
     "name": "stdout",
     "output_type": "stream",
     "text": [
      "\n",
      "IndianPines_PCA_8_mou_30epochs.csv\n",
      "Loaded.\n",
      "Columns unpickled.\n",
      "\n",
      "IndianPines_PCA_8_hamida_30epochs.csv\n",
      "Loaded.\n",
      "Columns unpickled.\n",
      "\n",
      "IndianPines_PCA_8_li_30epochs.csv\n",
      "Loaded.\n",
      "Columns unpickled.\n",
      "\n",
      "IndianPines_PCA_8_paoletti_30epochs.csv\n",
      "Loaded.\n",
      "Columns unpickled.\n",
      "\n",
      "IndianPines_FastICA_8_mou_30epochs.csv\n",
      "Loaded.\n",
      "Columns unpickled.\n",
      "\n",
      "IndianPines_FastICA_8_hamida_30epochs.csv\n",
      "Loaded.\n",
      "Columns unpickled.\n",
      "\n",
      "IndianPines_FastICA_8_li_30epochs.csv\n",
      "Loaded.\n",
      "Columns unpickled.\n",
      "\n",
      "IndianPines_FastICA_8_paoletti_30epochs.csv\n",
      "Loaded.\n",
      "Columns unpickled.\n",
      "\n",
      "IndianPines_UMAP_8_mou_30epochs.csv\n",
      "Loaded.\n",
      "Columns unpickled.\n",
      "\n",
      "IndianPines_UMAP_8_hamida_30epochs.csv\n",
      "Loaded.\n",
      "Columns unpickled.\n",
      "\n",
      "IndianPines_UMAP_8_li_30epochs.csv\n",
      "Loaded.\n",
      "Columns unpickled.\n",
      "\n",
      "IndianPines_UMAP_8_paoletti_30epochs.csv\n",
      "Loaded.\n",
      "Columns unpickled.\n",
      "\n",
      "IndianPines_DiffMaps_8_mou_30epochs.csv\n",
      "Loaded.\n",
      "Columns unpickled.\n",
      "\n",
      "IndianPines_DiffMaps_8_hamida_30epochs.csv\n",
      "Loaded.\n",
      "Columns unpickled.\n",
      "\n",
      "IndianPines_DiffMaps_8_li_30epochs.csv\n",
      "Loaded.\n",
      "Columns unpickled.\n",
      "\n",
      "IndianPines_DiffMaps_8_paoletti_30epochs.csv\n",
      "Loaded.\n",
      "Columns unpickled.\n",
      "\n",
      "IndianPines_SOM_8_mou_30epochs.csv\n",
      "Loaded.\n",
      "Columns unpickled.\n",
      "\n",
      "IndianPines_SOM_8_hamida_30epochs.csv\n",
      "Loaded.\n",
      "Columns unpickled.\n",
      "\n",
      "IndianPines_SOM_8_li_30epochs.csv\n",
      "Loaded.\n",
      "Columns unpickled.\n",
      "\n",
      "IndianPines_SOM_8_paoletti_30epochs.csv\n",
      "Loaded.\n",
      "Columns unpickled.\n",
      "\n",
      "IndianPines_Corr_8_mou_30epochs.csv\n",
      "Loaded.\n",
      "Columns unpickled.\n",
      "\n",
      "IndianPines_Corr_8_hamida_30epochs.csv\n",
      "Loaded.\n",
      "Columns unpickled.\n",
      "\n",
      "IndianPines_Corr_8_li_30epochs.csv\n",
      "Loaded.\n",
      "Columns unpickled.\n",
      "\n",
      "IndianPines_Corr_8_paoletti_30epochs.csv\n",
      "Loaded.\n",
      "Columns unpickled.\n",
      "\n",
      "IndianPines_Var_8_mou_30epochs.csv\n",
      "Loaded.\n",
      "Columns unpickled.\n",
      "\n",
      "IndianPines_Var_8_hamida_30epochs.csv\n",
      "Loaded.\n",
      "Columns unpickled.\n",
      "\n",
      "IndianPines_Var_8_li_30epochs.csv\n",
      "Loaded.\n",
      "Columns unpickled.\n",
      "\n",
      "IndianPines_Var_8_paoletti_30epochs.csv\n",
      "Loaded.\n",
      "Columns unpickled.\n",
      "\n",
      "IndianPines_AE1_8_mou_30epochs.csv\n",
      "Loaded.\n",
      "Columns unpickled.\n",
      "\n",
      "IndianPines_AE1_8_hamida_30epochs.csv\n",
      "Loaded.\n",
      "Columns unpickled.\n",
      "\n",
      "IndianPines_AE1_8_li_30epochs.csv\n",
      "Loaded.\n",
      "Columns unpickled.\n",
      "\n",
      "IndianPines_AE1_8_paoletti_30epochs.csv\n",
      "Loaded.\n",
      "Columns unpickled.\n",
      "\n",
      "IndianPines_AE2_8_mou_30epochs.csv\n",
      "Couldn't find CSV file.\n",
      "\n",
      "IndianPines_AE2_8_hamida_30epochs.csv\n",
      "Loaded.\n",
      "Columns unpickled.\n",
      "\n",
      "IndianPines_AE2_8_li_30epochs.csv\n",
      "Loaded.\n",
      "Columns unpickled.\n",
      "\n",
      "IndianPines_AE2_8_paoletti_30epochs.csv\n",
      "Loaded.\n",
      "Columns unpickled.\n"
     ]
    },
    {
     "data": {
      "text/html": [
       "<div>\n",
       "<style scoped>\n",
       "    .dataframe tbody tr th:only-of-type {\n",
       "        vertical-align: middle;\n",
       "    }\n",
       "\n",
       "    .dataframe tbody tr th {\n",
       "        vertical-align: top;\n",
       "    }\n",
       "\n",
       "    .dataframe thead th {\n",
       "        text-align: right;\n",
       "    }\n",
       "</style>\n",
       "<table border=\"1\" class=\"dataframe\">\n",
       "  <thead>\n",
       "    <tr style=\"text-align: right;\">\n",
       "      <th></th>\n",
       "      <th>Experiment</th>\n",
       "      <th>Confusion matrix</th>\n",
       "      <th>Accuracy</th>\n",
       "      <th>F1 scores</th>\n",
       "      <th>Kappa</th>\n",
       "      <th>IOU</th>\n",
       "      <th>Dataset</th>\n",
       "      <th>DR Method</th>\n",
       "      <th>N Components</th>\n",
       "      <th>Model</th>\n",
       "    </tr>\n",
       "  </thead>\n",
       "  <tbody>\n",
       "    <tr>\n",
       "      <th>0</th>\n",
       "      <td>IndianPines_PCA_8_mou</td>\n",
       "      <td>[[0, 0, 0, 0, 0, 0, 0, 0, 0, 0, 0, 0, 0, 0, 0,...</td>\n",
       "      <td>92.786021</td>\n",
       "      <td>[0.0, 0.7567567567567568, 0.9294894060437652, ...</td>\n",
       "      <td>0.917880</td>\n",
       "      <td>[0.0, 0.6086956521739131, 0.8682673588578845, ...</td>\n",
       "      <td>IndianPines</td>\n",
       "      <td>PCA</td>\n",
       "      <td>8</td>\n",
       "      <td>mou</td>\n",
       "    </tr>\n",
       "    <tr>\n",
       "      <th>1</th>\n",
       "      <td>IndianPines_PCA_8_hamida</td>\n",
       "      <td>[[0, 0, 0, 0, 0, 0, 0, 0, 0, 0, 0, 0, 0, 0, 0,...</td>\n",
       "      <td>97.120266</td>\n",
       "      <td>[0.0, 1.0, 0.9964936886395512, 0.9461001902346...</td>\n",
       "      <td>0.967257</td>\n",
       "      <td>[0.0, 1.0, 0.9930118798043326, 0.8977135980746...</td>\n",
       "      <td>IndianPines</td>\n",
       "      <td>PCA</td>\n",
       "      <td>8</td>\n",
       "      <td>hamida</td>\n",
       "    </tr>\n",
       "    <tr>\n",
       "      <th>2</th>\n",
       "      <td>IndianPines_PCA_8_li</td>\n",
       "      <td>[[0, 0, 0, 0, 0, 0, 0, 0, 0, 0, 0, 0, 0, 0, 0,...</td>\n",
       "      <td>97.393596</td>\n",
       "      <td>[0.0, 1.0, 0.9975550122249389, 0.9468354430379...</td>\n",
       "      <td>0.970370</td>\n",
       "      <td>[0.0, 1.0, 0.9951219512195122, 0.8990384615384...</td>\n",
       "      <td>IndianPines</td>\n",
       "      <td>PCA</td>\n",
       "      <td>8</td>\n",
       "      <td>li</td>\n",
       "    </tr>\n",
       "    <tr>\n",
       "      <th>3</th>\n",
       "      <td>IndianPines_PCA_8_paoletti</td>\n",
       "      <td>[[0, 0, 0, 0, 0, 0, 0, 0, 0, 0, 0, 0, 0, 0, 0,...</td>\n",
       "      <td>94.055057</td>\n",
       "      <td>[0.0, 0.7435897435897436, 0.9573590096286108, ...</td>\n",
       "      <td>0.932381</td>\n",
       "      <td>[0.0, 0.5918367346938775, 0.9182058047493403, ...</td>\n",
       "      <td>IndianPines</td>\n",
       "      <td>PCA</td>\n",
       "      <td>8</td>\n",
       "      <td>paoletti</td>\n",
       "    </tr>\n",
       "    <tr>\n",
       "      <th>4</th>\n",
       "      <td>IndianPines_FastICA_8_mou</td>\n",
       "      <td>[[0, 0, 0, 0, 0, 0, 0, 0, 0, 0, 0, 0, 0, 0, 0,...</td>\n",
       "      <td>88.803202</td>\n",
       "      <td>[0.0, 0.8192771084337349, 0.8563829787234043, ...</td>\n",
       "      <td>0.872724</td>\n",
       "      <td>[0.0, 0.6938775510204082, 0.7488372093023256, ...</td>\n",
       "      <td>IndianPines</td>\n",
       "      <td>FastICA</td>\n",
       "      <td>8</td>\n",
       "      <td>mou</td>\n",
       "    </tr>\n",
       "    <tr>\n",
       "      <th>5</th>\n",
       "      <td>IndianPines_FastICA_8_hamida</td>\n",
       "      <td>[[0, 0, 0, 0, 0, 0, 0, 0, 0, 0, 0, 0, 0, 0, 0,...</td>\n",
       "      <td>96.856697</td>\n",
       "      <td>[0.0, 1.0, 0.9905693328676214, 0.9233741146168...</td>\n",
       "      <td>0.964257</td>\n",
       "      <td>[0.0, 1.0, 0.9813148788927336, 0.8576555023923...</td>\n",
       "      <td>IndianPines</td>\n",
       "      <td>FastICA</td>\n",
       "      <td>8</td>\n",
       "      <td>hamida</td>\n",
       "    </tr>\n",
       "    <tr>\n",
       "      <th>6</th>\n",
       "      <td>IndianPines_FastICA_8_li</td>\n",
       "      <td>[[0, 0, 0, 0, 0, 0, 0, 0, 0, 0, 0, 0, 0, 0, 0,...</td>\n",
       "      <td>97.061695</td>\n",
       "      <td>[0.0, 1.0, 0.9911816578483245, 0.9453621346886...</td>\n",
       "      <td>0.966581</td>\n",
       "      <td>[0.0, 1.0, 0.9825174825174825, 0.8963855421686...</td>\n",
       "      <td>IndianPines</td>\n",
       "      <td>FastICA</td>\n",
       "      <td>8</td>\n",
       "      <td>li</td>\n",
       "    </tr>\n",
       "    <tr>\n",
       "      <th>7</th>\n",
       "      <td>IndianPines_FastICA_8_paoletti</td>\n",
       "      <td>[[0, 0, 0, 0, 0, 0, 0, 0, 0, 0, 0, 0, 0, 0, 0,...</td>\n",
       "      <td>93.576728</td>\n",
       "      <td>[0.0, 0.9302325581395349, 0.9419627154414351, ...</td>\n",
       "      <td>0.926975</td>\n",
       "      <td>[0.0, 0.8695652173913043, 0.8902925531914894, ...</td>\n",
       "      <td>IndianPines</td>\n",
       "      <td>FastICA</td>\n",
       "      <td>8</td>\n",
       "      <td>paoletti</td>\n",
       "    </tr>\n",
       "    <tr>\n",
       "      <th>8</th>\n",
       "      <td>IndianPines_UMAP_8_mou</td>\n",
       "      <td>[[0, 0, 0, 0, 0, 0, 0, 0, 0, 0, 0, 0, 0, 0, 0,...</td>\n",
       "      <td>84.019914</td>\n",
       "      <td>[0.0, 0.41379310344827586, 0.7777362719462084,...</td>\n",
       "      <td>0.818183</td>\n",
       "      <td>[0.0, 0.2608695652173913, 0.6363080684596577, ...</td>\n",
       "      <td>IndianPines</td>\n",
       "      <td>UMAP</td>\n",
       "      <td>8</td>\n",
       "      <td>mou</td>\n",
       "    </tr>\n",
       "    <tr>\n",
       "      <th>9</th>\n",
       "      <td>IndianPines_UMAP_8_hamida</td>\n",
       "      <td>[[0, 0, 0, 0, 0, 0, 0, 0, 0, 0, 0, 0, 0, 0, 0,...</td>\n",
       "      <td>96.192893</td>\n",
       "      <td>[0.0, 0.9662921348314607, 0.9761480954076184, ...</td>\n",
       "      <td>0.956751</td>\n",
       "      <td>[0.0, 0.9347826086956522, 0.9534075104311543, ...</td>\n",
       "      <td>IndianPines</td>\n",
       "      <td>UMAP</td>\n",
       "      <td>8</td>\n",
       "      <td>hamida</td>\n",
       "    </tr>\n",
       "    <tr>\n",
       "      <th>10</th>\n",
       "      <td>IndianPines_UMAP_8_li</td>\n",
       "      <td>[[0, 0, 0, 0, 0, 0, 0, 0, 0, 0, 0, 0, 0, 0, 0,...</td>\n",
       "      <td>97.130027</td>\n",
       "      <td>[0.0, 1.0, 0.9947349947349947, 0.9366602687140...</td>\n",
       "      <td>0.967368</td>\n",
       "      <td>[0.0, 1.0, 0.9895251396648045, 0.8808664259927...</td>\n",
       "      <td>IndianPines</td>\n",
       "      <td>UMAP</td>\n",
       "      <td>8</td>\n",
       "      <td>li</td>\n",
       "    </tr>\n",
       "    <tr>\n",
       "      <th>11</th>\n",
       "      <td>IndianPines_UMAP_8_paoletti</td>\n",
       "      <td>[[0, 0, 0, 0, 0, 0, 0, 0, 0, 0, 0, 0, 0, 0, 0,...</td>\n",
       "      <td>91.653651</td>\n",
       "      <td>[0.0, 0.7466666666666667, 0.8956043956043956, ...</td>\n",
       "      <td>0.905098</td>\n",
       "      <td>[0.0, 0.5957446808510638, 0.8109452736318408, ...</td>\n",
       "      <td>IndianPines</td>\n",
       "      <td>UMAP</td>\n",
       "      <td>8</td>\n",
       "      <td>paoletti</td>\n",
       "    </tr>\n",
       "    <tr>\n",
       "      <th>12</th>\n",
       "      <td>IndianPines_DiffMaps_8_mou</td>\n",
       "      <td>[[0, 0, 0, 0, 0, 0, 0, 0, 0, 0, 0, 0, 0, 0, 0,...</td>\n",
       "      <td>75.449043</td>\n",
       "      <td>[0.0, 0.8354430379746836, 0.685971685971686, 0...</td>\n",
       "      <td>0.717553</td>\n",
       "      <td>[0.0, 0.717391304347826, 0.5220372184133203, 0...</td>\n",
       "      <td>IndianPines</td>\n",
       "      <td>DiffMaps</td>\n",
       "      <td>8</td>\n",
       "      <td>mou</td>\n",
       "    </tr>\n",
       "    <tr>\n",
       "      <th>13</th>\n",
       "      <td>IndianPines_DiffMaps_8_hamida</td>\n",
       "      <td>[[0, 0, 0, 0, 0, 0, 0, 0, 0, 0, 0, 0, 0, 0, 0,...</td>\n",
       "      <td>85.754708</td>\n",
       "      <td>[0.0, 0.704225352112676, 0.8094362745098039, 0...</td>\n",
       "      <td>0.837597</td>\n",
       "      <td>[0.0, 0.5434782608695652, 0.6798764796706125, ...</td>\n",
       "      <td>IndianPines</td>\n",
       "      <td>DiffMaps</td>\n",
       "      <td>8</td>\n",
       "      <td>hamida</td>\n",
       "    </tr>\n",
       "    <tr>\n",
       "      <th>14</th>\n",
       "      <td>IndianPines_DiffMaps_8_li</td>\n",
       "      <td>[[0, 0, 0, 0, 0, 0, 0, 0, 0, 0, 0, 0, 0, 0, 0,...</td>\n",
       "      <td>89.052590</td>\n",
       "      <td>[0.0, 0.6268656716417911, 0.8481561822125814, ...</td>\n",
       "      <td>0.875060</td>\n",
       "      <td>[0.0, 0.45652173913043476, 0.736346516007533, ...</td>\n",
       "      <td>IndianPines</td>\n",
       "      <td>DiffMaps</td>\n",
       "      <td>8</td>\n",
       "      <td>li</td>\n",
       "    </tr>\n",
       "    <tr>\n",
       "      <th>15</th>\n",
       "      <td>IndianPines_DiffMaps_8_paoletti</td>\n",
       "      <td>[[0, 0, 0, 0, 0, 0, 0, 0, 0, 0, 0, 0, 0, 0, 0,...</td>\n",
       "      <td>76.251342</td>\n",
       "      <td>[0.0, 0.6923076923076923, 0.6666666666666666, ...</td>\n",
       "      <td>0.730117</td>\n",
       "      <td>[0.0, 0.5294117647058824, 0.5, 0.3712910986367...</td>\n",
       "      <td>IndianPines</td>\n",
       "      <td>DiffMaps</td>\n",
       "      <td>8</td>\n",
       "      <td>paoletti</td>\n",
       "    </tr>\n",
       "    <tr>\n",
       "      <th>16</th>\n",
       "      <td>IndianPines_SOM_8_mou</td>\n",
       "      <td>[[0, 0, 0, 0, 0, 0, 0, 0, 0, 0, 0, 0, 0, 0, 0,...</td>\n",
       "      <td>78.114938</td>\n",
       "      <td>[0.0, 0.9213483146067416, 0.7366852886405959, ...</td>\n",
       "      <td>0.750258</td>\n",
       "      <td>[0.0, 0.8541666666666666, 0.5831367924528302, ...</td>\n",
       "      <td>IndianPines</td>\n",
       "      <td>SOM</td>\n",
       "      <td>8</td>\n",
       "      <td>mou</td>\n",
       "    </tr>\n",
       "    <tr>\n",
       "      <th>17</th>\n",
       "      <td>IndianPines_SOM_8_hamida</td>\n",
       "      <td>[[0, 0, 0, 0, 0, 0, 0, 0, 0, 0, 0, 0, 0, 0, 0,...</td>\n",
       "      <td>91.111328</td>\n",
       "      <td>[0.0, 0.989010989010989, 0.8849490758204451, 0...</td>\n",
       "      <td>0.898693</td>\n",
       "      <td>[0.0, 0.9782608695652174, 0.793640054127199, 0...</td>\n",
       "      <td>IndianPines</td>\n",
       "      <td>SOM</td>\n",
       "      <td>8</td>\n",
       "      <td>hamida</td>\n",
       "    </tr>\n",
       "    <tr>\n",
       "      <th>18</th>\n",
       "      <td>IndianPines_SOM_8_li</td>\n",
       "      <td>[[0, 0, 0, 0, 0, 0, 0, 0, 0, 0, 0, 0, 0, 0, 0,...</td>\n",
       "      <td>83.734999</td>\n",
       "      <td>[0.0, 0.9545454545454546, 0.8236598890942699, ...</td>\n",
       "      <td>0.814296</td>\n",
       "      <td>[0.0, 0.9130434782608695, 0.700188560653677, 0...</td>\n",
       "      <td>IndianPines</td>\n",
       "      <td>SOM</td>\n",
       "      <td>8</td>\n",
       "      <td>li</td>\n",
       "    </tr>\n",
       "    <tr>\n",
       "      <th>19</th>\n",
       "      <td>IndianPines_SOM_8_paoletti</td>\n",
       "      <td>[[0, 0, 0, 0, 0, 0, 0, 0, 0, 0, 0, 0, 0, 0, 0,...</td>\n",
       "      <td>84.359450</td>\n",
       "      <td>[0.0, 0.5538461538461539, 0.8436619718309859, ...</td>\n",
       "      <td>0.821341</td>\n",
       "      <td>[0.0, 0.3829787234042553, 0.7295980511571255, ...</td>\n",
       "      <td>IndianPines</td>\n",
       "      <td>SOM</td>\n",
       "      <td>8</td>\n",
       "      <td>paoletti</td>\n",
       "    </tr>\n",
       "    <tr>\n",
       "      <th>20</th>\n",
       "      <td>IndianPines_Corr_8_mou</td>\n",
       "      <td>[[0, 0, 0, 0, 0, 0, 0, 0, 0, 0, 0, 0, 0, 0, 0,...</td>\n",
       "      <td>76.024990</td>\n",
       "      <td>[0.0, 0.7027027027027027, 0.6829451540195342, ...</td>\n",
       "      <td>0.724278</td>\n",
       "      <td>[0.0, 0.5416666666666666, 0.5185396463205932, ...</td>\n",
       "      <td>IndianPines</td>\n",
       "      <td>Corr</td>\n",
       "      <td>8</td>\n",
       "      <td>mou</td>\n",
       "    </tr>\n",
       "    <tr>\n",
       "      <th>21</th>\n",
       "      <td>IndianPines_Corr_8_hamida</td>\n",
       "      <td>[[0, 0, 0, 0, 0, 0, 0, 0, 0, 0, 0, 0, 0, 0, 0,...</td>\n",
       "      <td>81.540414</td>\n",
       "      <td>[0.0, 0.8205128205128205, 0.7828382838283828, ...</td>\n",
       "      <td>0.790219</td>\n",
       "      <td>[0.0, 0.6956521739130435, 0.6431670281995662, ...</td>\n",
       "      <td>IndianPines</td>\n",
       "      <td>Corr</td>\n",
       "      <td>8</td>\n",
       "      <td>hamida</td>\n",
       "    </tr>\n",
       "    <tr>\n",
       "      <th>22</th>\n",
       "      <td>IndianPines_Corr_8_li</td>\n",
       "      <td>[[0, 0, 0, 0, 0, 0, 0, 0, 0, 0, 0, 0, 0, 0, 0,...</td>\n",
       "      <td>74.414291</td>\n",
       "      <td>[0.0, 0.6268656716417911, 0.6078886310904872, ...</td>\n",
       "      <td>0.704918</td>\n",
       "      <td>[0.0, 0.45652173913043476, 0.43666666666666665...</td>\n",
       "      <td>IndianPines</td>\n",
       "      <td>Corr</td>\n",
       "      <td>8</td>\n",
       "      <td>li</td>\n",
       "    </tr>\n",
       "    <tr>\n",
       "      <th>23</th>\n",
       "      <td>IndianPines_Corr_8_paoletti</td>\n",
       "      <td>[[0, 0, 0, 0, 0, 0, 0, 0, 0, 0, 0, 0, 0, 0, 0,...</td>\n",
       "      <td>79.129246</td>\n",
       "      <td>[0.0, 0.5833333333333334, 0.7064, 0.6151603498...</td>\n",
       "      <td>0.760622</td>\n",
       "      <td>[0.0, 0.4117647058823529, 0.5460729746444032, ...</td>\n",
       "      <td>IndianPines</td>\n",
       "      <td>Corr</td>\n",
       "      <td>8</td>\n",
       "      <td>paoletti</td>\n",
       "    </tr>\n",
       "    <tr>\n",
       "      <th>24</th>\n",
       "      <td>IndianPines_Var_8_mou</td>\n",
       "      <td>[[0, 0, 0, 0, 0, 0, 0, 0, 0, 0, 0, 0, 0, 0, 0,...</td>\n",
       "      <td>76.142132</td>\n",
       "      <td>[0.0, 0.8712871287128713, 0.6835895602431177, ...</td>\n",
       "      <td>0.726291</td>\n",
       "      <td>[0.0, 0.7719298245614035, 0.5192829983704509, ...</td>\n",
       "      <td>IndianPines</td>\n",
       "      <td>Var</td>\n",
       "      <td>8</td>\n",
       "      <td>mou</td>\n",
       "    </tr>\n",
       "    <tr>\n",
       "      <th>25</th>\n",
       "      <td>IndianPines_Var_8_hamida</td>\n",
       "      <td>[[0, 0, 0, 0, 0, 0, 0, 0, 0, 0, 0, 0, 0, 0, 0,...</td>\n",
       "      <td>80.076142</td>\n",
       "      <td>[0.0, 0.9777777777777777, 0.729903536977492, 0...</td>\n",
       "      <td>0.772567</td>\n",
       "      <td>[0.0, 0.9565217391304348, 0.5746835443037974, ...</td>\n",
       "      <td>IndianPines</td>\n",
       "      <td>Var</td>\n",
       "      <td>8</td>\n",
       "      <td>hamida</td>\n",
       "    </tr>\n",
       "    <tr>\n",
       "      <th>26</th>\n",
       "      <td>IndianPines_Var_8_li</td>\n",
       "      <td>[[0, 0, 0, 0, 0, 0, 0, 0, 0, 0, 0, 0, 0, 0, 0,...</td>\n",
       "      <td>87.983210</td>\n",
       "      <td>[0.0, 1.0, 0.8481714074621352, 0.8438928804702...</td>\n",
       "      <td>0.862741</td>\n",
       "      <td>[0.0, 1.0, 0.7363694676074407, 0.7299435028248...</td>\n",
       "      <td>IndianPines</td>\n",
       "      <td>Var</td>\n",
       "      <td>8</td>\n",
       "      <td>li</td>\n",
       "    </tr>\n",
       "    <tr>\n",
       "      <th>27</th>\n",
       "      <td>IndianPines_Var_8_paoletti</td>\n",
       "      <td>[[0, 0, 0, 0, 0, 0, 0, 0, 0, 0, 0, 0, 0, 0, 0,...</td>\n",
       "      <td>80.720422</td>\n",
       "      <td>[0.0, 0.9247311827956989, 0.7312546399406088, ...</td>\n",
       "      <td>0.780653</td>\n",
       "      <td>[0.0, 0.86, 0.5763604447045055, 0.519662921348...</td>\n",
       "      <td>IndianPines</td>\n",
       "      <td>Var</td>\n",
       "      <td>8</td>\n",
       "      <td>paoletti</td>\n",
       "    </tr>\n",
       "    <tr>\n",
       "      <th>28</th>\n",
       "      <td>IndianPines_AE1_8_mou</td>\n",
       "      <td>[[0, 0, 0, 0, 0, 0, 0, 0, 0, 0, 0, 0, 0, 0, 0,...</td>\n",
       "      <td>84.713003</td>\n",
       "      <td>[0.0, 0.7567567567567568, 0.7909249563699825, ...</td>\n",
       "      <td>0.826082</td>\n",
       "      <td>[0.0, 0.6086956521739131, 0.6541570438799076, ...</td>\n",
       "      <td>IndianPines</td>\n",
       "      <td>AE1</td>\n",
       "      <td>8</td>\n",
       "      <td>mou</td>\n",
       "    </tr>\n",
       "    <tr>\n",
       "      <th>29</th>\n",
       "      <td>IndianPines_AE1_8_hamida</td>\n",
       "      <td>[[0, 0, 0, 0, 0, 0, 0, 0, 0, 0, 0, 0, 0, 0, 0,...</td>\n",
       "      <td>86.636080</td>\n",
       "      <td>[0.0, 0.6571428571428571, 0.8354927365528072, ...</td>\n",
       "      <td>0.847859</td>\n",
       "      <td>[0.0, 0.48936170212765956, 0.7174645987862441,...</td>\n",
       "      <td>IndianPines</td>\n",
       "      <td>AE1</td>\n",
       "      <td>8</td>\n",
       "      <td>hamida</td>\n",
       "    </tr>\n",
       "    <tr>\n",
       "      <th>30</th>\n",
       "      <td>IndianPines_AE1_8_li</td>\n",
       "      <td>[[0, 0, 0, 0, 0, 0, 0, 0, 0, 0, 0, 0, 0, 0, 0,...</td>\n",
       "      <td>93.732917</td>\n",
       "      <td>[0.0, 1.0, 0.9620253164556962, 0.9267982176957...</td>\n",
       "      <td>0.928649</td>\n",
       "      <td>[0.0, 1.0, 0.926829268292683, 0.86358244365361...</td>\n",
       "      <td>IndianPines</td>\n",
       "      <td>AE1</td>\n",
       "      <td>8</td>\n",
       "      <td>li</td>\n",
       "    </tr>\n",
       "    <tr>\n",
       "      <th>31</th>\n",
       "      <td>IndianPines_AE1_8_paoletti</td>\n",
       "      <td>[[0, 0, 0, 0, 0, 0, 0, 0, 0, 0, 0, 0, 0, 0, 0,...</td>\n",
       "      <td>82.350644</td>\n",
       "      <td>[0.0, 0.6176470588235294, 0.7665130568356375, ...</td>\n",
       "      <td>0.798786</td>\n",
       "      <td>[0.0, 0.44680851063829785, 0.6214196762141968,...</td>\n",
       "      <td>IndianPines</td>\n",
       "      <td>AE1</td>\n",
       "      <td>8</td>\n",
       "      <td>paoletti</td>\n",
       "    </tr>\n",
       "    <tr>\n",
       "      <th>32</th>\n",
       "      <td>IndianPines_AE2_8_hamida</td>\n",
       "      <td>[[0, 0, 0, 0, 0, 0, 0, 0, 0, 0, 0, 0, 0, 0, 0,...</td>\n",
       "      <td>93.752440</td>\n",
       "      <td>[0.0, 0.9574468085106383, 0.9434473416864206, ...</td>\n",
       "      <td>0.929124</td>\n",
       "      <td>[0.0, 0.9183673469387755, 0.892948717948718, 0...</td>\n",
       "      <td>IndianPines</td>\n",
       "      <td>AE2</td>\n",
       "      <td>8</td>\n",
       "      <td>hamida</td>\n",
       "    </tr>\n",
       "    <tr>\n",
       "      <th>33</th>\n",
       "      <td>IndianPines_AE2_8_li</td>\n",
       "      <td>[[0, 0, 0, 0, 0, 0, 0, 0, 0, 0, 0, 0, 0, 0, 0,...</td>\n",
       "      <td>95.577899</td>\n",
       "      <td>[0.0, 1.0, 0.9693420599379952, 0.9326556543837...</td>\n",
       "      <td>0.949771</td>\n",
       "      <td>[0.0, 1.0, 0.9405080213903744, 0.8738095238095...</td>\n",
       "      <td>IndianPines</td>\n",
       "      <td>AE2</td>\n",
       "      <td>8</td>\n",
       "      <td>li</td>\n",
       "    </tr>\n",
       "    <tr>\n",
       "      <th>34</th>\n",
       "      <td>IndianPines_AE2_8_paoletti</td>\n",
       "      <td>[[0, 0, 0, 0, 0, 0, 0, 0, 0, 0, 0, 0, 0, 0, 0,...</td>\n",
       "      <td>83.258493</td>\n",
       "      <td>[0.0, 0.5833333333333334, 0.7894361170592434, ...</td>\n",
       "      <td>0.809529</td>\n",
       "      <td>[0.0, 0.4117647058823529, 0.652122641509434, 0...</td>\n",
       "      <td>IndianPines</td>\n",
       "      <td>AE2</td>\n",
       "      <td>8</td>\n",
       "      <td>paoletti</td>\n",
       "    </tr>\n",
       "  </tbody>\n",
       "</table>\n",
       "</div>"
      ],
      "text/plain": [
       "                         Experiment  \\\n",
       "0             IndianPines_PCA_8_mou   \n",
       "1          IndianPines_PCA_8_hamida   \n",
       "2              IndianPines_PCA_8_li   \n",
       "3        IndianPines_PCA_8_paoletti   \n",
       "4         IndianPines_FastICA_8_mou   \n",
       "5      IndianPines_FastICA_8_hamida   \n",
       "6          IndianPines_FastICA_8_li   \n",
       "7    IndianPines_FastICA_8_paoletti   \n",
       "8            IndianPines_UMAP_8_mou   \n",
       "9         IndianPines_UMAP_8_hamida   \n",
       "10            IndianPines_UMAP_8_li   \n",
       "11      IndianPines_UMAP_8_paoletti   \n",
       "12       IndianPines_DiffMaps_8_mou   \n",
       "13    IndianPines_DiffMaps_8_hamida   \n",
       "14        IndianPines_DiffMaps_8_li   \n",
       "15  IndianPines_DiffMaps_8_paoletti   \n",
       "16            IndianPines_SOM_8_mou   \n",
       "17         IndianPines_SOM_8_hamida   \n",
       "18             IndianPines_SOM_8_li   \n",
       "19       IndianPines_SOM_8_paoletti   \n",
       "20           IndianPines_Corr_8_mou   \n",
       "21        IndianPines_Corr_8_hamida   \n",
       "22            IndianPines_Corr_8_li   \n",
       "23      IndianPines_Corr_8_paoletti   \n",
       "24            IndianPines_Var_8_mou   \n",
       "25         IndianPines_Var_8_hamida   \n",
       "26             IndianPines_Var_8_li   \n",
       "27       IndianPines_Var_8_paoletti   \n",
       "28            IndianPines_AE1_8_mou   \n",
       "29         IndianPines_AE1_8_hamida   \n",
       "30             IndianPines_AE1_8_li   \n",
       "31       IndianPines_AE1_8_paoletti   \n",
       "32         IndianPines_AE2_8_hamida   \n",
       "33             IndianPines_AE2_8_li   \n",
       "34       IndianPines_AE2_8_paoletti   \n",
       "\n",
       "                                     Confusion matrix   Accuracy  \\\n",
       "0   [[0, 0, 0, 0, 0, 0, 0, 0, 0, 0, 0, 0, 0, 0, 0,...  92.786021   \n",
       "1   [[0, 0, 0, 0, 0, 0, 0, 0, 0, 0, 0, 0, 0, 0, 0,...  97.120266   \n",
       "2   [[0, 0, 0, 0, 0, 0, 0, 0, 0, 0, 0, 0, 0, 0, 0,...  97.393596   \n",
       "3   [[0, 0, 0, 0, 0, 0, 0, 0, 0, 0, 0, 0, 0, 0, 0,...  94.055057   \n",
       "4   [[0, 0, 0, 0, 0, 0, 0, 0, 0, 0, 0, 0, 0, 0, 0,...  88.803202   \n",
       "5   [[0, 0, 0, 0, 0, 0, 0, 0, 0, 0, 0, 0, 0, 0, 0,...  96.856697   \n",
       "6   [[0, 0, 0, 0, 0, 0, 0, 0, 0, 0, 0, 0, 0, 0, 0,...  97.061695   \n",
       "7   [[0, 0, 0, 0, 0, 0, 0, 0, 0, 0, 0, 0, 0, 0, 0,...  93.576728   \n",
       "8   [[0, 0, 0, 0, 0, 0, 0, 0, 0, 0, 0, 0, 0, 0, 0,...  84.019914   \n",
       "9   [[0, 0, 0, 0, 0, 0, 0, 0, 0, 0, 0, 0, 0, 0, 0,...  96.192893   \n",
       "10  [[0, 0, 0, 0, 0, 0, 0, 0, 0, 0, 0, 0, 0, 0, 0,...  97.130027   \n",
       "11  [[0, 0, 0, 0, 0, 0, 0, 0, 0, 0, 0, 0, 0, 0, 0,...  91.653651   \n",
       "12  [[0, 0, 0, 0, 0, 0, 0, 0, 0, 0, 0, 0, 0, 0, 0,...  75.449043   \n",
       "13  [[0, 0, 0, 0, 0, 0, 0, 0, 0, 0, 0, 0, 0, 0, 0,...  85.754708   \n",
       "14  [[0, 0, 0, 0, 0, 0, 0, 0, 0, 0, 0, 0, 0, 0, 0,...  89.052590   \n",
       "15  [[0, 0, 0, 0, 0, 0, 0, 0, 0, 0, 0, 0, 0, 0, 0,...  76.251342   \n",
       "16  [[0, 0, 0, 0, 0, 0, 0, 0, 0, 0, 0, 0, 0, 0, 0,...  78.114938   \n",
       "17  [[0, 0, 0, 0, 0, 0, 0, 0, 0, 0, 0, 0, 0, 0, 0,...  91.111328   \n",
       "18  [[0, 0, 0, 0, 0, 0, 0, 0, 0, 0, 0, 0, 0, 0, 0,...  83.734999   \n",
       "19  [[0, 0, 0, 0, 0, 0, 0, 0, 0, 0, 0, 0, 0, 0, 0,...  84.359450   \n",
       "20  [[0, 0, 0, 0, 0, 0, 0, 0, 0, 0, 0, 0, 0, 0, 0,...  76.024990   \n",
       "21  [[0, 0, 0, 0, 0, 0, 0, 0, 0, 0, 0, 0, 0, 0, 0,...  81.540414   \n",
       "22  [[0, 0, 0, 0, 0, 0, 0, 0, 0, 0, 0, 0, 0, 0, 0,...  74.414291   \n",
       "23  [[0, 0, 0, 0, 0, 0, 0, 0, 0, 0, 0, 0, 0, 0, 0,...  79.129246   \n",
       "24  [[0, 0, 0, 0, 0, 0, 0, 0, 0, 0, 0, 0, 0, 0, 0,...  76.142132   \n",
       "25  [[0, 0, 0, 0, 0, 0, 0, 0, 0, 0, 0, 0, 0, 0, 0,...  80.076142   \n",
       "26  [[0, 0, 0, 0, 0, 0, 0, 0, 0, 0, 0, 0, 0, 0, 0,...  87.983210   \n",
       "27  [[0, 0, 0, 0, 0, 0, 0, 0, 0, 0, 0, 0, 0, 0, 0,...  80.720422   \n",
       "28  [[0, 0, 0, 0, 0, 0, 0, 0, 0, 0, 0, 0, 0, 0, 0,...  84.713003   \n",
       "29  [[0, 0, 0, 0, 0, 0, 0, 0, 0, 0, 0, 0, 0, 0, 0,...  86.636080   \n",
       "30  [[0, 0, 0, 0, 0, 0, 0, 0, 0, 0, 0, 0, 0, 0, 0,...  93.732917   \n",
       "31  [[0, 0, 0, 0, 0, 0, 0, 0, 0, 0, 0, 0, 0, 0, 0,...  82.350644   \n",
       "32  [[0, 0, 0, 0, 0, 0, 0, 0, 0, 0, 0, 0, 0, 0, 0,...  93.752440   \n",
       "33  [[0, 0, 0, 0, 0, 0, 0, 0, 0, 0, 0, 0, 0, 0, 0,...  95.577899   \n",
       "34  [[0, 0, 0, 0, 0, 0, 0, 0, 0, 0, 0, 0, 0, 0, 0,...  83.258493   \n",
       "\n",
       "                                            F1 scores     Kappa  \\\n",
       "0   [0.0, 0.7567567567567568, 0.9294894060437652, ...  0.917880   \n",
       "1   [0.0, 1.0, 0.9964936886395512, 0.9461001902346...  0.967257   \n",
       "2   [0.0, 1.0, 0.9975550122249389, 0.9468354430379...  0.970370   \n",
       "3   [0.0, 0.7435897435897436, 0.9573590096286108, ...  0.932381   \n",
       "4   [0.0, 0.8192771084337349, 0.8563829787234043, ...  0.872724   \n",
       "5   [0.0, 1.0, 0.9905693328676214, 0.9233741146168...  0.964257   \n",
       "6   [0.0, 1.0, 0.9911816578483245, 0.9453621346886...  0.966581   \n",
       "7   [0.0, 0.9302325581395349, 0.9419627154414351, ...  0.926975   \n",
       "8   [0.0, 0.41379310344827586, 0.7777362719462084,...  0.818183   \n",
       "9   [0.0, 0.9662921348314607, 0.9761480954076184, ...  0.956751   \n",
       "10  [0.0, 1.0, 0.9947349947349947, 0.9366602687140...  0.967368   \n",
       "11  [0.0, 0.7466666666666667, 0.8956043956043956, ...  0.905098   \n",
       "12  [0.0, 0.8354430379746836, 0.685971685971686, 0...  0.717553   \n",
       "13  [0.0, 0.704225352112676, 0.8094362745098039, 0...  0.837597   \n",
       "14  [0.0, 0.6268656716417911, 0.8481561822125814, ...  0.875060   \n",
       "15  [0.0, 0.6923076923076923, 0.6666666666666666, ...  0.730117   \n",
       "16  [0.0, 0.9213483146067416, 0.7366852886405959, ...  0.750258   \n",
       "17  [0.0, 0.989010989010989, 0.8849490758204451, 0...  0.898693   \n",
       "18  [0.0, 0.9545454545454546, 0.8236598890942699, ...  0.814296   \n",
       "19  [0.0, 0.5538461538461539, 0.8436619718309859, ...  0.821341   \n",
       "20  [0.0, 0.7027027027027027, 0.6829451540195342, ...  0.724278   \n",
       "21  [0.0, 0.8205128205128205, 0.7828382838283828, ...  0.790219   \n",
       "22  [0.0, 0.6268656716417911, 0.6078886310904872, ...  0.704918   \n",
       "23  [0.0, 0.5833333333333334, 0.7064, 0.6151603498...  0.760622   \n",
       "24  [0.0, 0.8712871287128713, 0.6835895602431177, ...  0.726291   \n",
       "25  [0.0, 0.9777777777777777, 0.729903536977492, 0...  0.772567   \n",
       "26  [0.0, 1.0, 0.8481714074621352, 0.8438928804702...  0.862741   \n",
       "27  [0.0, 0.9247311827956989, 0.7312546399406088, ...  0.780653   \n",
       "28  [0.0, 0.7567567567567568, 0.7909249563699825, ...  0.826082   \n",
       "29  [0.0, 0.6571428571428571, 0.8354927365528072, ...  0.847859   \n",
       "30  [0.0, 1.0, 0.9620253164556962, 0.9267982176957...  0.928649   \n",
       "31  [0.0, 0.6176470588235294, 0.7665130568356375, ...  0.798786   \n",
       "32  [0.0, 0.9574468085106383, 0.9434473416864206, ...  0.929124   \n",
       "33  [0.0, 1.0, 0.9693420599379952, 0.9326556543837...  0.949771   \n",
       "34  [0.0, 0.5833333333333334, 0.7894361170592434, ...  0.809529   \n",
       "\n",
       "                                                  IOU      Dataset DR Method  \\\n",
       "0   [0.0, 0.6086956521739131, 0.8682673588578845, ...  IndianPines       PCA   \n",
       "1   [0.0, 1.0, 0.9930118798043326, 0.8977135980746...  IndianPines       PCA   \n",
       "2   [0.0, 1.0, 0.9951219512195122, 0.8990384615384...  IndianPines       PCA   \n",
       "3   [0.0, 0.5918367346938775, 0.9182058047493403, ...  IndianPines       PCA   \n",
       "4   [0.0, 0.6938775510204082, 0.7488372093023256, ...  IndianPines   FastICA   \n",
       "5   [0.0, 1.0, 0.9813148788927336, 0.8576555023923...  IndianPines   FastICA   \n",
       "6   [0.0, 1.0, 0.9825174825174825, 0.8963855421686...  IndianPines   FastICA   \n",
       "7   [0.0, 0.8695652173913043, 0.8902925531914894, ...  IndianPines   FastICA   \n",
       "8   [0.0, 0.2608695652173913, 0.6363080684596577, ...  IndianPines      UMAP   \n",
       "9   [0.0, 0.9347826086956522, 0.9534075104311543, ...  IndianPines      UMAP   \n",
       "10  [0.0, 1.0, 0.9895251396648045, 0.8808664259927...  IndianPines      UMAP   \n",
       "11  [0.0, 0.5957446808510638, 0.8109452736318408, ...  IndianPines      UMAP   \n",
       "12  [0.0, 0.717391304347826, 0.5220372184133203, 0...  IndianPines  DiffMaps   \n",
       "13  [0.0, 0.5434782608695652, 0.6798764796706125, ...  IndianPines  DiffMaps   \n",
       "14  [0.0, 0.45652173913043476, 0.736346516007533, ...  IndianPines  DiffMaps   \n",
       "15  [0.0, 0.5294117647058824, 0.5, 0.3712910986367...  IndianPines  DiffMaps   \n",
       "16  [0.0, 0.8541666666666666, 0.5831367924528302, ...  IndianPines       SOM   \n",
       "17  [0.0, 0.9782608695652174, 0.793640054127199, 0...  IndianPines       SOM   \n",
       "18  [0.0, 0.9130434782608695, 0.700188560653677, 0...  IndianPines       SOM   \n",
       "19  [0.0, 0.3829787234042553, 0.7295980511571255, ...  IndianPines       SOM   \n",
       "20  [0.0, 0.5416666666666666, 0.5185396463205932, ...  IndianPines      Corr   \n",
       "21  [0.0, 0.6956521739130435, 0.6431670281995662, ...  IndianPines      Corr   \n",
       "22  [0.0, 0.45652173913043476, 0.43666666666666665...  IndianPines      Corr   \n",
       "23  [0.0, 0.4117647058823529, 0.5460729746444032, ...  IndianPines      Corr   \n",
       "24  [0.0, 0.7719298245614035, 0.5192829983704509, ...  IndianPines       Var   \n",
       "25  [0.0, 0.9565217391304348, 0.5746835443037974, ...  IndianPines       Var   \n",
       "26  [0.0, 1.0, 0.7363694676074407, 0.7299435028248...  IndianPines       Var   \n",
       "27  [0.0, 0.86, 0.5763604447045055, 0.519662921348...  IndianPines       Var   \n",
       "28  [0.0, 0.6086956521739131, 0.6541570438799076, ...  IndianPines       AE1   \n",
       "29  [0.0, 0.48936170212765956, 0.7174645987862441,...  IndianPines       AE1   \n",
       "30  [0.0, 1.0, 0.926829268292683, 0.86358244365361...  IndianPines       AE1   \n",
       "31  [0.0, 0.44680851063829785, 0.6214196762141968,...  IndianPines       AE1   \n",
       "32  [0.0, 0.9183673469387755, 0.892948717948718, 0...  IndianPines       AE2   \n",
       "33  [0.0, 1.0, 0.9405080213903744, 0.8738095238095...  IndianPines       AE2   \n",
       "34  [0.0, 0.4117647058823529, 0.652122641509434, 0...  IndianPines       AE2   \n",
       "\n",
       "    N Components     Model  \n",
       "0              8       mou  \n",
       "1              8    hamida  \n",
       "2              8        li  \n",
       "3              8  paoletti  \n",
       "4              8       mou  \n",
       "5              8    hamida  \n",
       "6              8        li  \n",
       "7              8  paoletti  \n",
       "8              8       mou  \n",
       "9              8    hamida  \n",
       "10             8        li  \n",
       "11             8  paoletti  \n",
       "12             8       mou  \n",
       "13             8    hamida  \n",
       "14             8        li  \n",
       "15             8  paoletti  \n",
       "16             8       mou  \n",
       "17             8    hamida  \n",
       "18             8        li  \n",
       "19             8  paoletti  \n",
       "20             8       mou  \n",
       "21             8    hamida  \n",
       "22             8        li  \n",
       "23             8  paoletti  \n",
       "24             8       mou  \n",
       "25             8    hamida  \n",
       "26             8        li  \n",
       "27             8  paoletti  \n",
       "28             8       mou  \n",
       "29             8    hamida  \n",
       "30             8        li  \n",
       "31             8  paoletti  \n",
       "32             8    hamida  \n",
       "33             8        li  \n",
       "34             8  paoletti  "
      ]
     },
     "execution_count": 15,
     "metadata": {},
     "output_type": "execute_result"
    }
   ],
   "source": [
    "dict_models = {\n",
    "    'hamida': 'Deep CNN', \n",
    "    'li': 'Shallow CNN', \n",
    "    'paoletti': 'Deep RNN', \n",
    "    'Mou': 'Shallow RNN'\n",
    "}\n",
    "\n",
    "dict_results = {}\n",
    "# for ds in ['Salinas', 'IndianPines']:\n",
    "for ds in ['IndianPines']:\n",
    "\n",
    "    for dr_method in ['PCA', 'FastICA', 'UMAP', 'DiffMaps', 'SOM', 'Corr', 'Var', 'AE1', 'AE2']:\n",
    "        for n_components in [8]:\n",
    "            for model in ['mou', 'hamida', 'li', 'paoletti']:\n",
    "                filename = f'{ds}_{dr_method}_{n_components}_{model}_30epochs.csv'\n",
    "                print('\\n' + filename)\n",
    "\n",
    "                try:\n",
    "                    df = pd.read_csv(f'./Results/Not Balanced/{model}/{filename}', index_col=0)\n",
    "                    # df = pd.read_csv(f'./Results/Class Balancing/{model}/{filename}', index_col=0)\n",
    "\n",
    "                    print('Loaded.')\n",
    "                    try:\n",
    "                        df['Confusion matrix'] = df['Confusion matrix'].apply(lambda x: pickle.loads(eval(x)))\n",
    "                        df['F1 scores'] = df['F1 scores'].apply(lambda x: pickle.loads(eval(x)))\n",
    "                        df['IOU'] = df['IOU'].apply(lambda x: pickle.loads(eval(x)))\n",
    "                        dict_results[f'{ds}_{dr_method}_{n_components}_{model}'] = df\n",
    "                        print('Columns unpickled.')\n",
    "                    except:\n",
    "                        print(\"Problem with pickled columns\")\n",
    "                except:\n",
    "                    print(\"Couldn't find CSV file.\")\n",
    "                \n",
    "dfs = []\n",
    "for key, value in dict_results.items():\n",
    "    df = pd.DataFrame(value)\n",
    "    df.insert(0, 'Experiment', key)  # Inserting the 'Method' column as the first column\n",
    "    dfs.append(df)\n",
    "\n",
    "# Concatenate all DataFrames\n",
    "df_results = pd.concat(dfs, ignore_index=True)\n",
    "df_results['Dataset'] = df_results['Experiment'].apply(lambda x: x.split('_')[0])\n",
    "df_results['DR Method'] = df_results['Experiment'].apply(lambda x: x.split('_')[1])\n",
    "df_results['N Components'] = df_results['Experiment'].apply(lambda x: int(x.split('_')[2]))\n",
    "df_results['Model'] = df_results['Experiment'].apply(lambda x: '_'.join(x.split('_')[3:]))\n",
    "df_results"
   ]
  },
  {
   "cell_type": "code",
   "execution_count": 16,
   "metadata": {},
   "outputs": [],
   "source": [
    "df_to_save = df_results.copy()\n",
    "df_to_save['Confusion matrix'] = df_to_save['Confusion matrix'].apply(lambda x: pickle.dumps(x))\n",
    "df_to_save['F1 scores'] = df_to_save['F1 scores'].apply(lambda x: pickle.dumps(x))\n",
    "df_to_save['IOU'] = df_to_save['IOU'].apply(lambda x: pickle.dumps(x))\n",
    "# df_to_save.to_csv('exp_results.csv')"
   ]
  },
  {
   "cell_type": "code",
   "execution_count": 17,
   "metadata": {},
   "outputs": [],
   "source": [
    "df_to_save[['Experiment', 'Accuracy', 'Dataset', 'DR Method', 'N Components', 'Model']].to_csv('exp_accuracy.csv', index=False)"
   ]
  },
  {
   "cell_type": "markdown",
   "metadata": {},
   "source": [
    "## Functions and Labels"
   ]
  },
  {
   "cell_type": "code",
   "execution_count": 18,
   "metadata": {},
   "outputs": [],
   "source": [
    "LABELS = {\n",
    "    \"Salinas\": [\n",
    "        \"Undefined\",\n",
    "        \"Brocoli_green_weeds_1\",\n",
    "        \"Brocoli_green_weeds_2\",\n",
    "        \"Fallow\",\n",
    "        \"Fallow_rough_plow\",\n",
    "        \"Fallow_smooth\",\n",
    "        \"Stubble\",\n",
    "        \"Celery\",\n",
    "        \"Grapes_untrained\",\n",
    "        \"Soil_vinyard_develop\",\n",
    "        \"Corn_senesced_green_weeds\",\n",
    "        \"Lettuce_romaine_4wk\",\n",
    "        \"Lettuce_romaine_5wk\",\n",
    "        \"Lettuce_romaine_6wk\",\n",
    "        \"Lettuce_romaine_7wk\",\n",
    "        \"Vinyard_untrained\",\n",
    "        \"Vinyard_vertical_trellis\",\n",
    "    ],\n",
    "\n",
    "    'IndianPines': [\n",
    "        \"Undefined\",\n",
    "        \"Alfalfa\",\n",
    "        \"Corn-notill\",\n",
    "        \"Corn-mintill\",\n",
    "        \"Corn\",\n",
    "        \"Grass-pasture\",\n",
    "        \"Grass-trees\",\n",
    "        \"Grass-pasture-mowed\",\n",
    "        \"Hay-windrowed\",\n",
    "        \"Oats\",\n",
    "        \"Soybean-notill\",\n",
    "        \"Soybean-mintill\",\n",
    "        \"Soybean-clean\",\n",
    "        \"Wheat\",\n",
    "        \"Woods\",\n",
    "        \"Buildings-Grass-Trees-Drives\",\n",
    "        \"Stone-Steel-Towers\",\n",
    "    ]}\n",
    "\n",
    "\n",
    "def filter_exp_by_substring(df, substrings):\n",
    "    mask = df['Experiment'].apply(lambda x: any(substring in x for substring in substrings))\n",
    "    filtered_df = df[mask]\n",
    "    return filtered_df\n",
    "\n",
    "# def show_confusion_matrix(confusion_matrix, labels, normalize=False):\n",
    "#     if normalize:\n",
    "#         confusion_matrix = normalize_confusion_matrix(confusion_matrix)\n",
    "\n",
    "#     fig = px.imshow(confusion_matrix, text_auto=True, \n",
    "#                     labels=dict(x='Predicted labels', y='Actual labels', color='# of classification'),\n",
    "#                     x = labels,\n",
    "#                     y = labels,\n",
    "#                     height=700\n",
    "#                     )\n",
    "#     fig.update_xaxes(tickangle=45, type='category')\n",
    "#     fig.show()\n",
    "\n",
    "def show_confusion_matrix(confusion_matrix, labels, normalize=False):\n",
    "    if normalize:\n",
    "        confusion_matrix = normalize_confusion_matrix(confusion_matrix)\n",
    "\n",
    "    fig = go.Figure()\n",
    "\n",
    "    fig.add_trace(\n",
    "        go.Heatmap(z=confusion_matrix,  \n",
    "                   colorscale='Blues', \n",
    "                   showscale=False,\n",
    "                   x=labels, \n",
    "                   y=labels,  \n",
    "                   zmin=0, \n",
    "                   zmax=1 if normalize else None,\n",
    "                   colorbar=dict(title='Normalized' if normalize else 'Counts'))\n",
    "    )\n",
    "\n",
    "    fig.update_xaxes(title='Predicted labels', tickangle=45, type='category')\n",
    "    fig.update_yaxes(title='Actual labels', type='category')\n",
    "\n",
    "    fig.update_layout(\n",
    "        title='Confusion Matrix',\n",
    "        height=800,\n",
    "        width=800,\n",
    "        showlegend=False\n",
    "    )\n",
    "\n",
    "    fig.show()\n",
    "\n",
    "\n",
    "\n",
    "def show_confusion_matrices(df_results, exps, labels, normalize=False):\n",
    "    confusion_matrices = []\n",
    "    for exp in exps:\n",
    "        confusion_matrices.append(df_results[df_results['Experiment'] == exp]['Confusion matrix'].values[0])\n",
    "\n",
    "    fig = make_subplots(rows=2, cols=2, subplot_titles=exps)\n",
    "\n",
    "    for i, (confusion_matrix, label) in enumerate(zip(confusion_matrices, labels)):\n",
    "        if normalize:\n",
    "            confusion_matrix = normalize_confusion_matrix(confusion_matrix)\n",
    "\n",
    "        row = i // 2 + 1\n",
    "        col = i % 2 + 1\n",
    "\n",
    "        fig.add_trace(\n",
    "            go.Heatmap(z=confusion_matrix, colorscale='Blues', showscale=False,\n",
    "                       x=labels, y=labels, zmin=0, zmax=1 if normalize else None,\n",
    "                       colorbar=dict(title='Normalized' if normalize else 'Counts')),\n",
    "            row=row, col=col\n",
    "        )\n",
    "\n",
    "        # fig.update_xaxes(tickangle=45, type='category', row=row, col=col)\n",
    "        # if col == 2:  # Only update y-axis for the second subplot\n",
    "        #     fig.update_yaxes(showticklabels=False, row=row, col=col)\n",
    "\n",
    "        if row == 2:\n",
    "            fig.update_xaxes(title='Predicted labels', tickangle=45, type='category', row=row, col=col)\n",
    "        else:\n",
    "            fig.update_xaxes(showticklabels=False, row=row, col=col)\n",
    "        \n",
    "        if col == 1:\n",
    "            fig.update_yaxes(title='Actual labels', type='category', row=row, col=col)\n",
    "        else:\n",
    "            fig.update_yaxes(showticklabels=False, row=row, col=col)\n",
    "    \n",
    "    fig.update_layout(\n",
    "        title='Confusion Matrices',\n",
    "        height=1000,\n",
    "        width=1000,\n",
    "        showlegend=False\n",
    "    )\n",
    "\n",
    "    fig.show()\n",
    "\n",
    "\n",
    "def normalize_confusion_matrix(conf_matrix):\n",
    "    class_totals = np.sum(conf_matrix, axis=1)\n",
    "    normalized_conf_matrix = conf_matrix / class_totals[:, np.newaxis]\n",
    "    return np.round(normalized_conf_matrix, 2)\n",
    "\n",
    "\n",
    "def plot_acc_by_model(df):\n",
    "    # Parse 'Experiment' column to extract model information\n",
    "    df['Model'] = df['Experiment'].apply(lambda x: x.split('_')[-1])\n",
    "    unique_models = df['Model'].unique()\n",
    "\n",
    "    colors = px.colors.qualitative.Plotly[:len(unique_models)]\n",
    "\n",
    "    data = []\n",
    "    for model, color in zip(unique_models, colors):\n",
    "        model_data = df[df['Model'] == model]\n",
    "        trace = go.Bar(\n",
    "            x=model_data['Experiment'],  \n",
    "            y=model_data['Accuracy'], \n",
    "            name=model, \n",
    "            marker=dict(color=color) \n",
    "        )\n",
    "        data.append(trace)\n",
    "\n",
    "    fig = go.Figure(data=data)\n",
    "\n",
    "    fig.update_layout(\n",
    "        title='Accuracies of Different Models',\n",
    "        xaxis=dict(title='Experiment'),\n",
    "        yaxis=dict(title='Accuracy (%)', range=[0, 100]),  \n",
    "        barmode='group',  \n",
    "        # template='plotly_white'  # White background template\n",
    "    )\n",
    "\n",
    "    fig.update_layout(showlegend=True)\n",
    "    fig.show()\n",
    "\n",
    "\n",
    "def plot_grouped_values(df_results, labels, metric):\n",
    "    traces = []\n",
    "    for i, experiment in enumerate(df_results['Experiment']):\n",
    "        experiment_iou = df_results[metric].values[i]\n",
    "        trace = go.Bar(\n",
    "            x=labels,  \n",
    "            y=experiment_iou, \n",
    "            name=experiment  \n",
    "        )\n",
    "        traces.append(trace)\n",
    "\n",
    "    layout = go.Layout(\n",
    "        title=f'{metric} Values by Experiment',\n",
    "        xaxis=dict(title='Class'),\n",
    "        yaxis=dict(title=metric),\n",
    "        barmode='group'  # Grouped bars\n",
    "    )\n",
    "\n",
    "    fig = go.Figure(data=traces, layout=layout)\n",
    "    fig.show()\n",
    "\n",
    "\n",
    "def accuracies_by_n_comps(df, dataset, dr_method):\n",
    "    accuracy_df = filter_exp_by_substring(df, [f'{dataset}_{dr_method}_'])[['N Components', 'Model', 'Accuracy']]\n",
    "\n",
    "    accuracy_df = accuracy_df.pivot(index='Model', columns='N Components', values='Accuracy')\n",
    "    accuracy_df.__doc__ = f\"Accuracy values in {dataset} using {dr_method}\"\n",
    "    return accuracy_df\n",
    "\n",
    "\n",
    "def ANOVA_TTest(df_accuracies, transposed=False, describe=False, ind_samples=False):\n",
    "    if transposed:\n",
    "        df_accuracies = df_accuracies.transpose()\n",
    "    \n",
    "    # print(df_accuracies)\n",
    "    if describe:\n",
    "        print(df_accuracies.describe().loc[['mean', 'std', 'max']])    \n",
    "\n",
    "    # Perform ANOVA\n",
    "    f_statistic, p_value = f_oneway(*df_accuracies.values)\n",
    "    print(f'ANOVA test -> F-statistic: {f_statistic}, p-value: {p_value}')\n",
    "\n",
    "    \n",
    "    if p_value < 0.05:\n",
    "        ANOVA_diff = True\n",
    "        print(\"ANOVA indicates a significant difference in accuracies.\")\n",
    "    else:\n",
    "        ANOVA_diff = False\n",
    "        print(\"No significant difference in accuracies for ANOVA\")\n",
    "\n",
    "    print('\\nPaired T Tests')\n",
    "\n",
    "    # Perform paired t-tests\n",
    "    found = False\n",
    "    differences = []\n",
    "    for i in range(len(df_accuracies)):\n",
    "        for j in range(i+1, len(df_accuracies)):\n",
    "            data1 = df_accuracies.iloc[i]\n",
    "            data2 = df_accuracies.iloc[j]\n",
    "            if ind_samples:\n",
    "                t_statistic, p_value = ttest_rel(data1, data2)\n",
    "            else:\n",
    "                t_statistic, p_value = ttest_rel(data1, data2)\n",
    "            print(f\"{df_accuracies.index[i]} vs {df_accuracies.index[j]}: t-statistic = {t_statistic}, p-value = {p_value}\")\n",
    "            if p_value < 0.05:\n",
    "                found = True\n",
    "                if data1.mean() > data2.mean():\n",
    "                    difference = f\"THERE IS A SIGNIFICANT DIFFERENCE in accuracies in favor of {df_accuracies.index[i]} over {df_accuracies.index[j]}.\"\n",
    "                    # print(difference)\n",
    "                    differences.append(f'{df_accuracies.index[i]} > {df_accuracies.index[j]}')\n",
    "                else:\n",
    "                    difference = f\"THERE IS A SIGNIFICANT DIFFERENCE in accuracies in favor of {df_accuracies.index[j]} over {df_accuracies.index[i]}.\"\n",
    "                    # print(difference)\n",
    "                    differences.append(f'{df_accuracies.index[j]} > {df_accuracies.index[i]}')\n",
    "\n",
    "            # else:\n",
    "                # print(f\"There is NO SIGNIFICANT DIFFERENCE in accuracies between {df_accuracies.index[i]} and {df_accuracies.index[j]}.\")\n",
    "    if differences == []:\n",
    "        print(\"\\nNo significant difference found with T Tests\")\n",
    "    return ANOVA_diff, differences\n",
    "\n",
    "def paired_t_test(df_accuracies):\n",
    " # Perform paired t-tests\n",
    "    found = False\n",
    "    differences = []\n",
    "\n",
    "    data1 = df_accuracies.iloc[0]\n",
    "    data2 = df_accuracies.iloc[1]\n",
    "    t_statistic, p_value = ttest_rel(data1, data2)\n",
    "    # print(f\"\\n{df_accuracies.index[0]} vs {df_accuracies.index[1]}: t-statistic = {t_statistic}, p-value = {p_value}\")\n",
    "    if p_value < 0.05:\n",
    "        found = True\n",
    "        if data1.mean() > data2.mean():\n",
    "            return df_accuracies.iloc[0].name\n",
    "        else:\n",
    "            return df_accuracies.iloc[1].name\n",
    "    return '='\n",
    "\n",
    "\n",
    "def scores_by_model(df, dataset, dr_method, n_comps, scores):\n",
    "    if scores == 'F1':\n",
    "        scores_df = filter_exp_by_substring(df, [f'{dataset}_{dr_method}_'])[['N Components', 'Model', 'F1 scores']]\n",
    "        scores_df = scores_df.pivot(index='Model', columns='N Components', values='F1 scores')\n",
    "    elif scores == 'IOU':\n",
    "        scores_df = filter_exp_by_substring(df, [f'{dataset}_{dr_method}_'])[['N Components', 'Model', 'IOU']]\n",
    "        scores_df = scores_df.pivot(index='Model', columns='N Components', values='IOU')\n",
    "\n",
    "    scores_df.__doc__ = f\"{scores} scores values in {dataset} using {dr_method}\"\n",
    "\n",
    "    df_flat = pd.concat([scores_df[n_comps], scores_df[n_comps].apply(pd.Series)], axis=1)\n",
    "    df_flat.drop(columns=[n_comps], inplace=True)\n",
    "    df_flat.columns = [f'Class {i+1}' for i in range(len(df_flat.columns))]\n",
    "    \n",
    "    return df_flat\n",
    "\n",
    "\n",
    "import seaborn as sns\n",
    "import matplotlib.pyplot as plt\n",
    "\n",
    "def plot_sorted_column_heatmap(df, column_name):\n",
    "    \"\"\"\n",
    "    Plot a specified column of a DataFrame as a heatmap, sorted by another column.\n",
    "\n",
    "    Parameters:\n",
    "        df (pd.DataFrame): The DataFrame containing the data.\n",
    "        column_name (str): The name of the column to plot as a heatmap.\n",
    "    \"\"\"\n",
    "    if column_name not in df.columns:\n",
    "        raise ValueError(f\"Column '{column_name}' not found in the DataFrame.\")\n",
    "    \n",
    "    # Sort the DataFrame by the specified column\n",
    "    df_sorted = df.sort_values(by=column_name, ascending=False)\n",
    "    \n",
    "    # Create the heatmap\n",
    "    plt.figure(figsize=(1, 8))  # Adjust figsize as necessary\n",
    "    sns.heatmap(df_sorted[[column_name]], cmap='Spectral', cbar=False, annot=True, vmin=0, vmax=100)\n",
    "    \n",
    "    # Set y-axis labels to the experiment names\n",
    "    plt.yticks(ticks=np.arange(df_sorted.shape[0]) + 0.5, labels=df_sorted['Experiment'], rotation=0)  # Use shape[0] for the number of rows\n",
    "    \n",
    "    # Set plot labels and title\n",
    "    plt.ylabel('Experiment')\n",
    "    plt.title(f'{column_name}')\n",
    "    plt.show()\n",
    "\n",
    "\n"
   ]
  },
  {
   "cell_type": "code",
   "execution_count": 19,
   "metadata": {},
   "outputs": [
    {
     "data": {
      "text/html": [
       "<div>\n",
       "<style scoped>\n",
       "    .dataframe tbody tr th:only-of-type {\n",
       "        vertical-align: middle;\n",
       "    }\n",
       "\n",
       "    .dataframe tbody tr th {\n",
       "        vertical-align: top;\n",
       "    }\n",
       "\n",
       "    .dataframe thead th {\n",
       "        text-align: right;\n",
       "    }\n",
       "</style>\n",
       "<table border=\"1\" class=\"dataframe\">\n",
       "  <thead>\n",
       "    <tr style=\"text-align: right;\">\n",
       "      <th></th>\n",
       "      <th>Experiment</th>\n",
       "      <th>Accuracy</th>\n",
       "      <th>Kappa</th>\n",
       "      <th>Dataset</th>\n",
       "      <th>DR Method</th>\n",
       "      <th>N Components</th>\n",
       "      <th>Model</th>\n",
       "      <th>Class</th>\n",
       "      <th>IoU Score</th>\n",
       "    </tr>\n",
       "  </thead>\n",
       "  <tbody>\n",
       "    <tr>\n",
       "      <th>0</th>\n",
       "      <td>IndianPines_PCA_8_mou</td>\n",
       "      <td>92.786021</td>\n",
       "      <td>0.917880</td>\n",
       "      <td>IndianPines</td>\n",
       "      <td>PCA</td>\n",
       "      <td>8</td>\n",
       "      <td>mou</td>\n",
       "      <td>Undefined</td>\n",
       "      <td>0.000000</td>\n",
       "    </tr>\n",
       "    <tr>\n",
       "      <th>1</th>\n",
       "      <td>IndianPines_PCA_8_hamida</td>\n",
       "      <td>97.120266</td>\n",
       "      <td>0.967257</td>\n",
       "      <td>IndianPines</td>\n",
       "      <td>PCA</td>\n",
       "      <td>8</td>\n",
       "      <td>hamida</td>\n",
       "      <td>Undefined</td>\n",
       "      <td>0.000000</td>\n",
       "    </tr>\n",
       "    <tr>\n",
       "      <th>2</th>\n",
       "      <td>IndianPines_PCA_8_li</td>\n",
       "      <td>97.393596</td>\n",
       "      <td>0.970370</td>\n",
       "      <td>IndianPines</td>\n",
       "      <td>PCA</td>\n",
       "      <td>8</td>\n",
       "      <td>li</td>\n",
       "      <td>Undefined</td>\n",
       "      <td>0.000000</td>\n",
       "    </tr>\n",
       "    <tr>\n",
       "      <th>3</th>\n",
       "      <td>IndianPines_PCA_8_paoletti</td>\n",
       "      <td>94.055057</td>\n",
       "      <td>0.932381</td>\n",
       "      <td>IndianPines</td>\n",
       "      <td>PCA</td>\n",
       "      <td>8</td>\n",
       "      <td>paoletti</td>\n",
       "      <td>Undefined</td>\n",
       "      <td>0.000000</td>\n",
       "    </tr>\n",
       "    <tr>\n",
       "      <th>4</th>\n",
       "      <td>IndianPines_FastICA_8_mou</td>\n",
       "      <td>88.803202</td>\n",
       "      <td>0.872724</td>\n",
       "      <td>IndianPines</td>\n",
       "      <td>FastICA</td>\n",
       "      <td>8</td>\n",
       "      <td>mou</td>\n",
       "      <td>Undefined</td>\n",
       "      <td>0.000000</td>\n",
       "    </tr>\n",
       "    <tr>\n",
       "      <th>...</th>\n",
       "      <td>...</td>\n",
       "      <td>...</td>\n",
       "      <td>...</td>\n",
       "      <td>...</td>\n",
       "      <td>...</td>\n",
       "      <td>...</td>\n",
       "      <td>...</td>\n",
       "      <td>...</td>\n",
       "      <td>...</td>\n",
       "    </tr>\n",
       "    <tr>\n",
       "      <th>590</th>\n",
       "      <td>IndianPines_AE1_8_li</td>\n",
       "      <td>93.732917</td>\n",
       "      <td>0.928649</td>\n",
       "      <td>IndianPines</td>\n",
       "      <td>AE1</td>\n",
       "      <td>8</td>\n",
       "      <td>li</td>\n",
       "      <td>Stone-Steel-Towers</td>\n",
       "      <td>1.000000</td>\n",
       "    </tr>\n",
       "    <tr>\n",
       "      <th>591</th>\n",
       "      <td>IndianPines_AE1_8_paoletti</td>\n",
       "      <td>82.350644</td>\n",
       "      <td>0.798786</td>\n",
       "      <td>IndianPines</td>\n",
       "      <td>AE1</td>\n",
       "      <td>8</td>\n",
       "      <td>paoletti</td>\n",
       "      <td>Stone-Steel-Towers</td>\n",
       "      <td>0.948980</td>\n",
       "    </tr>\n",
       "    <tr>\n",
       "      <th>592</th>\n",
       "      <td>IndianPines_AE2_8_hamida</td>\n",
       "      <td>93.752440</td>\n",
       "      <td>0.929124</td>\n",
       "      <td>IndianPines</td>\n",
       "      <td>AE2</td>\n",
       "      <td>8</td>\n",
       "      <td>hamida</td>\n",
       "      <td>Stone-Steel-Towers</td>\n",
       "      <td>1.000000</td>\n",
       "    </tr>\n",
       "    <tr>\n",
       "      <th>593</th>\n",
       "      <td>IndianPines_AE2_8_li</td>\n",
       "      <td>95.577899</td>\n",
       "      <td>0.949771</td>\n",
       "      <td>IndianPines</td>\n",
       "      <td>AE2</td>\n",
       "      <td>8</td>\n",
       "      <td>li</td>\n",
       "      <td>Stone-Steel-Towers</td>\n",
       "      <td>1.000000</td>\n",
       "    </tr>\n",
       "    <tr>\n",
       "      <th>594</th>\n",
       "      <td>IndianPines_AE2_8_paoletti</td>\n",
       "      <td>83.258493</td>\n",
       "      <td>0.809529</td>\n",
       "      <td>IndianPines</td>\n",
       "      <td>AE2</td>\n",
       "      <td>8</td>\n",
       "      <td>paoletti</td>\n",
       "      <td>Stone-Steel-Towers</td>\n",
       "      <td>0.948454</td>\n",
       "    </tr>\n",
       "  </tbody>\n",
       "</table>\n",
       "<p>595 rows × 9 columns</p>\n",
       "</div>"
      ],
      "text/plain": [
       "                     Experiment   Accuracy     Kappa      Dataset DR Method  \\\n",
       "0         IndianPines_PCA_8_mou  92.786021  0.917880  IndianPines       PCA   \n",
       "1      IndianPines_PCA_8_hamida  97.120266  0.967257  IndianPines       PCA   \n",
       "2          IndianPines_PCA_8_li  97.393596  0.970370  IndianPines       PCA   \n",
       "3    IndianPines_PCA_8_paoletti  94.055057  0.932381  IndianPines       PCA   \n",
       "4     IndianPines_FastICA_8_mou  88.803202  0.872724  IndianPines   FastICA   \n",
       "..                          ...        ...       ...          ...       ...   \n",
       "590        IndianPines_AE1_8_li  93.732917  0.928649  IndianPines       AE1   \n",
       "591  IndianPines_AE1_8_paoletti  82.350644  0.798786  IndianPines       AE1   \n",
       "592    IndianPines_AE2_8_hamida  93.752440  0.929124  IndianPines       AE2   \n",
       "593        IndianPines_AE2_8_li  95.577899  0.949771  IndianPines       AE2   \n",
       "594  IndianPines_AE2_8_paoletti  83.258493  0.809529  IndianPines       AE2   \n",
       "\n",
       "     N Components     Model               Class  IoU Score  \n",
       "0               8       mou           Undefined   0.000000  \n",
       "1               8    hamida           Undefined   0.000000  \n",
       "2               8        li           Undefined   0.000000  \n",
       "3               8  paoletti           Undefined   0.000000  \n",
       "4               8       mou           Undefined   0.000000  \n",
       "..            ...       ...                 ...        ...  \n",
       "590             8        li  Stone-Steel-Towers   1.000000  \n",
       "591             8  paoletti  Stone-Steel-Towers   0.948980  \n",
       "592             8    hamida  Stone-Steel-Towers   1.000000  \n",
       "593             8        li  Stone-Steel-Towers   1.000000  \n",
       "594             8  paoletti  Stone-Steel-Towers   0.948454  \n",
       "\n",
       "[595 rows x 9 columns]"
      ]
     },
     "execution_count": 19,
     "metadata": {},
     "output_type": "execute_result"
    }
   ],
   "source": [
    "ds = 'IndianPines'\n",
    "df_ds = df_results[df_results['Dataset'] == ds].copy()\n",
    "\n",
    "# Expand 'IOU' lists into separate columns using class names\n",
    "iou_df = pd.DataFrame(df_ds['IOU'].tolist(), columns=LABELS[ds])\n",
    "\n",
    "# Concatenate expanded columns with the original DataFrame\n",
    "experiments_IOU = pd.concat([df_ds.drop(columns=['IOU']), iou_df], axis=1)\n",
    "\n",
    "# Unpivot (melt) the DataFrame to have 'Class' and 'IoU Score' as columns\n",
    "experiments_IOU_melted = experiments_IOU.melt(\n",
    "    id_vars=['Experiment', 'Accuracy', 'Kappa', 'Dataset', 'DR Method', 'N Components', 'Model'],\n",
    "    value_vars=LABELS[ds],\n",
    "    var_name='Class',\n",
    "    value_name='IoU Score'\n",
    ")\n",
    "\n",
    "# Export to CSV\n",
    "experiments_IOU_melted.to_csv(f'exp_{ds}_with_iou_melted.csv', index=False)\n",
    "\n",
    "# Display the resulting DataFrame\n",
    "experiments_IOU_melted"
   ]
  },
  {
   "cell_type": "markdown",
   "metadata": {},
   "source": [
    "# CONFUSION MATRICES\n",
    "\n",
    "NO CLASS BALANCING:\n",
    "- Salinas_PCA: OK for all models and n_comps\n",
    "- Salinas_FastICA: \n",
    "    - CNNs performed well except for LI NOT CONVERGING with 15 and 30 components\n",
    "    - RNNs peformed well except for MOU NOT CONVERGING with 30 components\n",
    "- IndianPines_PCA: \n",
    "    - CNNs presented slightly worse reults with 8 components. Also, LI NOT CONVERGING with 30 components\n",
    "    - RNNs presented very poor results with any number of components. \n",
    "\n",
    "- IndianPines_FastICA:\n",
    "    - CNNs presented slightly better results than with PCA. \n",
    "    - RNNs presented much better results than with PCA. "
   ]
  },
  {
   "cell_type": "code",
   "execution_count": 20,
   "metadata": {},
   "outputs": [
    {
     "name": "stderr",
     "output_type": "stream",
     "text": [
      "C:\\Users\\Dell\\AppData\\Local\\Temp\\ipykernel_7660\\2522080869.py:139: RuntimeWarning:\n",
      "\n",
      "invalid value encountered in divide\n",
      "\n"
     ]
    },
    {
     "data": {
      "application/vnd.plotly.v1+json": {
       "config": {
        "plotlyServerURL": "https://plot.ly"
       },
       "data": [
        {
         "colorbar": {
          "title": {
           "text": "Normalized"
          }
         },
         "colorscale": [
          [
           0,
           "rgb(247,251,255)"
          ],
          [
           0.125,
           "rgb(222,235,247)"
          ],
          [
           0.25,
           "rgb(198,219,239)"
          ],
          [
           0.375,
           "rgb(158,202,225)"
          ],
          [
           0.5,
           "rgb(107,174,214)"
          ],
          [
           0.625,
           "rgb(66,146,198)"
          ],
          [
           0.75,
           "rgb(33,113,181)"
          ],
          [
           0.875,
           "rgb(8,81,156)"
          ],
          [
           1,
           "rgb(8,48,107)"
          ]
         ],
         "showscale": false,
         "type": "heatmap",
         "x": [
          "Undefined",
          "Alfalfa",
          "Corn-notill",
          "Corn-mintill",
          "Corn",
          "Grass-pasture",
          "Grass-trees",
          "Grass-pasture-mowed",
          "Hay-windrowed",
          "Oats",
          "Soybean-notill",
          "Soybean-mintill",
          "Soybean-clean",
          "Wheat",
          "Woods",
          "Buildings-Grass-Trees-Drives",
          "Stone-Steel-Towers"
         ],
         "xaxis": "x",
         "y": [
          "Undefined",
          "Alfalfa",
          "Corn-notill",
          "Corn-mintill",
          "Corn",
          "Grass-pasture",
          "Grass-trees",
          "Grass-pasture-mowed",
          "Hay-windrowed",
          "Oats",
          "Soybean-notill",
          "Soybean-mintill",
          "Soybean-clean",
          "Wheat",
          "Woods",
          "Buildings-Grass-Trees-Drives",
          "Stone-Steel-Towers"
         ],
         "yaxis": "y",
         "z": [
          [
           null,
           null,
           null,
           null,
           null,
           null,
           null,
           null,
           null,
           null,
           null,
           null,
           null,
           null,
           null,
           null,
           null
          ],
          [
           0,
           1,
           0,
           0,
           0,
           0,
           0,
           0,
           0,
           0,
           0,
           0,
           0,
           0,
           0,
           0,
           0
          ],
          [
           0,
           0,
           0.96,
           0,
           0,
           0,
           0,
           0,
           0,
           0,
           0,
           0.03,
           0,
           0,
           0,
           0,
           0
          ],
          [
           0.09,
           0,
           0.01,
           0.88,
           0,
           0,
           0,
           0,
           0,
           0,
           0,
           0,
           0.01,
           0,
           0,
           0,
           0
          ],
          [
           0,
           0,
           0,
           0.03,
           0.95,
           0,
           0,
           0,
           0,
           0,
           0,
           0.01,
           0.01,
           0,
           0,
           0,
           0
          ],
          [
           0.06,
           0,
           0,
           0,
           0,
           0.7,
           0.01,
           0,
           0,
           0,
           0,
           0,
           0,
           0,
           0.23,
           0,
           0
          ],
          [
           0,
           0,
           0,
           0,
           0,
           0,
           0.97,
           0,
           0,
           0,
           0,
           0,
           0,
           0,
           0.02,
           0.01,
           0
          ],
          [
           0,
           0,
           0,
           0,
           0,
           0,
           0,
           1,
           0,
           0,
           0,
           0,
           0,
           0,
           0,
           0,
           0
          ],
          [
           0,
           0,
           0,
           0,
           0,
           0,
           0,
           0,
           1,
           0,
           0,
           0,
           0,
           0,
           0,
           0,
           0
          ],
          [
           0,
           0,
           0,
           0,
           0,
           0,
           0,
           0,
           0,
           1,
           0,
           0,
           0,
           0,
           0,
           0,
           0
          ],
          [
           0.01,
           0,
           0.01,
           0,
           0,
           0,
           0,
           0,
           0,
           0,
           0.98,
           0.01,
           0,
           0,
           0,
           0,
           0
          ],
          [
           0.03,
           0,
           0.01,
           0,
           0,
           0,
           0,
           0,
           0,
           0,
           0.01,
           0.95,
           0,
           0,
           0,
           0,
           0
          ],
          [
           0.01,
           0,
           0.02,
           0,
           0,
           0,
           0,
           0,
           0,
           0,
           0.01,
           0,
           0.96,
           0,
           0,
           0,
           0
          ],
          [
           0,
           0,
           0,
           0,
           0,
           0,
           0,
           0,
           0,
           0,
           0,
           0,
           0,
           1,
           0,
           0,
           0
          ],
          [
           0,
           0,
           0,
           0,
           0,
           0,
           0,
           0,
           0,
           0,
           0,
           0,
           0,
           0,
           1,
           0,
           0
          ],
          [
           0.19,
           0,
           0,
           0,
           0,
           0,
           0.06,
           0,
           0,
           0,
           0,
           0,
           0,
           0,
           0.1,
           0.65,
           0
          ],
          [
           0,
           0,
           0,
           0,
           0,
           0,
           0,
           0,
           0,
           0,
           0,
           0,
           0,
           0,
           0,
           0,
           1
          ]
         ],
         "zmax": 1,
         "zmin": 0
        },
        {
         "colorbar": {
          "title": {
           "text": "Normalized"
          }
         },
         "colorscale": [
          [
           0,
           "rgb(247,251,255)"
          ],
          [
           0.125,
           "rgb(222,235,247)"
          ],
          [
           0.25,
           "rgb(198,219,239)"
          ],
          [
           0.375,
           "rgb(158,202,225)"
          ],
          [
           0.5,
           "rgb(107,174,214)"
          ],
          [
           0.625,
           "rgb(66,146,198)"
          ],
          [
           0.75,
           "rgb(33,113,181)"
          ],
          [
           0.875,
           "rgb(8,81,156)"
          ],
          [
           1,
           "rgb(8,48,107)"
          ]
         ],
         "showscale": false,
         "type": "heatmap",
         "x": [
          "Undefined",
          "Alfalfa",
          "Corn-notill",
          "Corn-mintill",
          "Corn",
          "Grass-pasture",
          "Grass-trees",
          "Grass-pasture-mowed",
          "Hay-windrowed",
          "Oats",
          "Soybean-notill",
          "Soybean-mintill",
          "Soybean-clean",
          "Wheat",
          "Woods",
          "Buildings-Grass-Trees-Drives",
          "Stone-Steel-Towers"
         ],
         "xaxis": "x2",
         "y": [
          "Undefined",
          "Alfalfa",
          "Corn-notill",
          "Corn-mintill",
          "Corn",
          "Grass-pasture",
          "Grass-trees",
          "Grass-pasture-mowed",
          "Hay-windrowed",
          "Oats",
          "Soybean-notill",
          "Soybean-mintill",
          "Soybean-clean",
          "Wheat",
          "Woods",
          "Buildings-Grass-Trees-Drives",
          "Stone-Steel-Towers"
         ],
         "yaxis": "y2",
         "z": [
          [
           null,
           null,
           null,
           null,
           null,
           null,
           null,
           null,
           null,
           null,
           null,
           null,
           null,
           null,
           null,
           null,
           null
          ],
          [
           0,
           1,
           0,
           0,
           0,
           0,
           0,
           0,
           0,
           0,
           0,
           0,
           0,
           0,
           0,
           0,
           0
          ],
          [
           0,
           0,
           0.75,
           0.04,
           0,
           0,
           0,
           0,
           0,
           0,
           0.01,
           0.13,
           0.06,
           0,
           0,
           0,
           0
          ],
          [
           0.09,
           0,
           0,
           0.87,
           0.01,
           0,
           0,
           0,
           0,
           0,
           0,
           0.01,
           0.02,
           0,
           0,
           0,
           0
          ],
          [
           0,
           0,
           0.01,
           0,
           0.97,
           0,
           0.01,
           0,
           0,
           0,
           0,
           0,
           0,
           0,
           0,
           0,
           0
          ],
          [
           0.06,
           0.01,
           0,
           0,
           0,
           0.41,
           0.04,
           0,
           0,
           0,
           0,
           0,
           0,
           0,
           0.46,
           0.02,
           0
          ],
          [
           0,
           0,
           0,
           0,
           0,
           0,
           0.95,
           0,
           0,
           0,
           0,
           0,
           0,
           0,
           0.03,
           0.02,
           0
          ],
          [
           0,
           0,
           0,
           0,
           0,
           0,
           0,
           1,
           0,
           0,
           0,
           0,
           0,
           0,
           0,
           0,
           0
          ],
          [
           0,
           0.09,
           0,
           0,
           0,
           0.01,
           0,
           0,
           0.91,
           0,
           0,
           0,
           0,
           0,
           0,
           0,
           0
          ],
          [
           0,
           0,
           0,
           0,
           0,
           0,
           0,
           0,
           0,
           1,
           0,
           0,
           0,
           0,
           0,
           0,
           0
          ],
          [
           0.01,
           0,
           0.02,
           0.01,
           0,
           0,
           0,
           0,
           0,
           0,
           0.9,
           0.04,
           0.03,
           0,
           0,
           0,
           0
          ],
          [
           0.03,
           0,
           0.01,
           0.02,
           0,
           0,
           0,
           0,
           0,
           0,
           0.01,
           0.92,
           0.02,
           0,
           0,
           0,
           0
          ],
          [
           0.01,
           0,
           0.02,
           0.03,
           0.01,
           0,
           0,
           0,
           0,
           0,
           0.01,
           0.02,
           0.92,
           0,
           0,
           0,
           0
          ],
          [
           0,
           0,
           0,
           0,
           0,
           0,
           0,
           0,
           0,
           0,
           0,
           0,
           0,
           1,
           0,
           0,
           0
          ],
          [
           0,
           0,
           0,
           0,
           0,
           0,
           0,
           0,
           0,
           0,
           0,
           0,
           0,
           0,
           0.99,
           0.01,
           0
          ],
          [
           0.19,
           0,
           0,
           0,
           0,
           0.01,
           0.07,
           0,
           0,
           0,
           0,
           0,
           0,
           0.01,
           0.12,
           0.61,
           0
          ],
          [
           0,
           0,
           0,
           0,
           0,
           0,
           0,
           0,
           0,
           0,
           0,
           0,
           0,
           0,
           0,
           0,
           1
          ]
         ],
         "zmax": 1,
         "zmin": 0
        },
        {
         "colorbar": {
          "title": {
           "text": "Normalized"
          }
         },
         "colorscale": [
          [
           0,
           "rgb(247,251,255)"
          ],
          [
           0.125,
           "rgb(222,235,247)"
          ],
          [
           0.25,
           "rgb(198,219,239)"
          ],
          [
           0.375,
           "rgb(158,202,225)"
          ],
          [
           0.5,
           "rgb(107,174,214)"
          ],
          [
           0.625,
           "rgb(66,146,198)"
          ],
          [
           0.75,
           "rgb(33,113,181)"
          ],
          [
           0.875,
           "rgb(8,81,156)"
          ],
          [
           1,
           "rgb(8,48,107)"
          ]
         ],
         "showscale": false,
         "type": "heatmap",
         "x": [
          "Undefined",
          "Alfalfa",
          "Corn-notill",
          "Corn-mintill",
          "Corn",
          "Grass-pasture",
          "Grass-trees",
          "Grass-pasture-mowed",
          "Hay-windrowed",
          "Oats",
          "Soybean-notill",
          "Soybean-mintill",
          "Soybean-clean",
          "Wheat",
          "Woods",
          "Buildings-Grass-Trees-Drives",
          "Stone-Steel-Towers"
         ],
         "xaxis": "x3",
         "y": [
          "Undefined",
          "Alfalfa",
          "Corn-notill",
          "Corn-mintill",
          "Corn",
          "Grass-pasture",
          "Grass-trees",
          "Grass-pasture-mowed",
          "Hay-windrowed",
          "Oats",
          "Soybean-notill",
          "Soybean-mintill",
          "Soybean-clean",
          "Wheat",
          "Woods",
          "Buildings-Grass-Trees-Drives",
          "Stone-Steel-Towers"
         ],
         "yaxis": "y3",
         "z": [
          [
           null,
           null,
           null,
           null,
           null,
           null,
           null,
           null,
           null,
           null,
           null,
           null,
           null,
           null,
           null,
           null,
           null
          ],
          [
           0,
           0.61,
           0,
           0,
           0,
           0.09,
           0,
           0,
           0.28,
           0,
           0,
           0.02,
           0,
           0,
           0,
           0,
           0
          ],
          [
           0,
           0,
           0.79,
           0.02,
           0.02,
           0,
           0,
           0,
           0,
           0,
           0.03,
           0.09,
           0.05,
           0,
           0,
           0,
           0
          ],
          [
           0.09,
           0,
           0.1,
           0.64,
           0,
           0,
           0,
           0,
           0,
           0,
           0.06,
           0.07,
           0.04,
           0,
           0,
           0,
           0
          ],
          [
           0,
           0,
           0.05,
           0.02,
           0.83,
           0,
           0,
           0,
           0,
           0,
           0.01,
           0.05,
           0.03,
           0,
           0,
           0,
           0
          ],
          [
           0.06,
           0,
           0,
           0,
           0.02,
           0.86,
           0.02,
           0,
           0.02,
           0,
           0,
           0.01,
           0,
           0,
           0.01,
           0,
           0
          ],
          [
           0,
           0,
           0,
           0,
           0,
           0.01,
           0.95,
           0,
           0,
           0,
           0,
           0.01,
           0,
           0,
           0,
           0.02,
           0
          ],
          [
           0,
           0,
           0,
           0,
           0,
           0.07,
           0,
           0.93,
           0,
           0,
           0,
           0,
           0,
           0,
           0,
           0,
           0
          ],
          [
           0,
           0,
           0,
           0,
           0,
           0.01,
           0,
           0,
           0.99,
           0,
           0,
           0,
           0,
           0,
           0,
           0,
           0
          ],
          [
           0,
           0,
           0,
           0,
           0,
           0,
           0.15,
           0,
           0,
           0.6,
           0,
           0,
           0,
           0,
           0,
           0.25,
           0
          ],
          [
           0.01,
           0,
           0.04,
           0.03,
           0,
           0,
           0,
           0,
           0,
           0,
           0.84,
           0.05,
           0.03,
           0,
           0,
           0,
           0
          ],
          [
           0.03,
           0,
           0.04,
           0.01,
           0,
           0,
           0.01,
           0,
           0,
           0,
           0.02,
           0.88,
           0.01,
           0,
           0,
           0,
           0
          ],
          [
           0.01,
           0,
           0.11,
           0.05,
           0.01,
           0,
           0,
           0,
           0,
           0,
           0.02,
           0.07,
           0.72,
           0,
           0,
           0.01,
           0.01
          ],
          [
           0,
           0,
           0,
           0,
           0,
           0,
           0,
           0,
           0,
           0,
           0,
           0,
           0,
           1,
           0,
           0,
           0
          ],
          [
           0,
           0,
           0,
           0,
           0,
           0.03,
           0,
           0,
           0,
           0,
           0,
           0,
           0,
           0,
           0.94,
           0.02,
           0
          ],
          [
           0.19,
           0,
           0,
           0,
           0,
           0,
           0.03,
           0,
           0,
           0,
           0,
           0,
           0,
           0.01,
           0.05,
           0.72,
           0
          ],
          [
           0,
           0,
           0,
           0,
           0,
           0,
           0,
           0,
           0,
           0,
           0,
           0,
           0,
           0.01,
           0,
           0,
           0.99
          ]
         ],
         "zmax": 1,
         "zmin": 0
        },
        {
         "colorbar": {
          "title": {
           "text": "Normalized"
          }
         },
         "colorscale": [
          [
           0,
           "rgb(247,251,255)"
          ],
          [
           0.125,
           "rgb(222,235,247)"
          ],
          [
           0.25,
           "rgb(198,219,239)"
          ],
          [
           0.375,
           "rgb(158,202,225)"
          ],
          [
           0.5,
           "rgb(107,174,214)"
          ],
          [
           0.625,
           "rgb(66,146,198)"
          ],
          [
           0.75,
           "rgb(33,113,181)"
          ],
          [
           0.875,
           "rgb(8,81,156)"
          ],
          [
           1,
           "rgb(8,48,107)"
          ]
         ],
         "showscale": false,
         "type": "heatmap",
         "x": [
          "Undefined",
          "Alfalfa",
          "Corn-notill",
          "Corn-mintill",
          "Corn",
          "Grass-pasture",
          "Grass-trees",
          "Grass-pasture-mowed",
          "Hay-windrowed",
          "Oats",
          "Soybean-notill",
          "Soybean-mintill",
          "Soybean-clean",
          "Wheat",
          "Woods",
          "Buildings-Grass-Trees-Drives",
          "Stone-Steel-Towers"
         ],
         "xaxis": "x4",
         "y": [
          "Undefined",
          "Alfalfa",
          "Corn-notill",
          "Corn-mintill",
          "Corn",
          "Grass-pasture",
          "Grass-trees",
          "Grass-pasture-mowed",
          "Hay-windrowed",
          "Oats",
          "Soybean-notill",
          "Soybean-mintill",
          "Soybean-clean",
          "Wheat",
          "Woods",
          "Buildings-Grass-Trees-Drives",
          "Stone-Steel-Towers"
         ],
         "yaxis": "y4",
         "z": [
          [
           null,
           null,
           null,
           null,
           null,
           null,
           null,
           null,
           null,
           null,
           null,
           null,
           null,
           null,
           null,
           null,
           null
          ],
          [
           0,
           0.46,
           0,
           0,
           0.02,
           0.02,
           0,
           0.02,
           0.43,
           0,
           0.04,
           0,
           0,
           0,
           0,
           0,
           0
          ],
          [
           0,
           0,
           0.7,
           0.02,
           0.02,
           0,
           0,
           0,
           0,
           0,
           0.04,
           0.13,
           0.08,
           0,
           0,
           0,
           0
          ],
          [
           0.09,
           0,
           0.04,
           0.76,
           0,
           0,
           0,
           0,
           0,
           0,
           0.01,
           0.07,
           0.01,
           0,
           0,
           0,
           0
          ],
          [
           0,
           0,
           0.04,
           0.03,
           0.71,
           0.02,
           0,
           0,
           0,
           0,
           0.05,
           0.15,
           0,
           0,
           0,
           0,
           0
          ],
          [
           0.06,
           0,
           0,
           0,
           0.01,
           0.87,
           0.02,
           0.01,
           0,
           0,
           0,
           0,
           0,
           0,
           0.01,
           0,
           0
          ],
          [
           0,
           0,
           0,
           0,
           0,
           0,
           0.94,
           0,
           0,
           0.01,
           0,
           0,
           0,
           0,
           0.01,
           0.03,
           0
          ],
          [
           0,
           0,
           0,
           0,
           0,
           0.11,
           0,
           0.89,
           0,
           0,
           0,
           0,
           0,
           0,
           0,
           0,
           0
          ],
          [
           0,
           0,
           0,
           0,
           0,
           0.01,
           0,
           0.01,
           0.98,
           0,
           0,
           0,
           0,
           0,
           0,
           0,
           0
          ],
          [
           0,
           0,
           0,
           0,
           0,
           0,
           0.45,
           0,
           0,
           0.55,
           0,
           0,
           0,
           0,
           0,
           0,
           0
          ],
          [
           0.01,
           0,
           0.04,
           0.03,
           0.01,
           0,
           0,
           0,
           0,
           0,
           0.75,
           0.12,
           0.05,
           0,
           0,
           0,
           0
          ],
          [
           0.03,
           0,
           0.01,
           0.03,
           0.01,
           0,
           0,
           0,
           0,
           0,
           0.01,
           0.9,
           0.01,
           0,
           0,
           0,
           0
          ],
          [
           0.01,
           0,
           0.11,
           0.09,
           0.02,
           0,
           0,
           0,
           0,
           0,
           0.03,
           0.06,
           0.69,
           0,
           0,
           0,
           0.01
          ],
          [
           0,
           0,
           0,
           0,
           0,
           0,
           0,
           0,
           0,
           0,
           0,
           0,
           0,
           1,
           0,
           0,
           0
          ],
          [
           0,
           0,
           0,
           0,
           0,
           0.07,
           0,
           0,
           0,
           0,
           0,
           0,
           0,
           0,
           0.92,
           0.01,
           0
          ],
          [
           0.19,
           0,
           0,
           0,
           0,
           0,
           0.09,
           0,
           0,
           0.01,
           0,
           0,
           0,
           0,
           0.22,
           0.49,
           0
          ],
          [
           0,
           0,
           0,
           0,
           0,
           0,
           0,
           0,
           0,
           0,
           0,
           0,
           0,
           0,
           0,
           0,
           1
          ]
         ],
         "zmax": 1,
         "zmin": 0
        }
       ],
       "layout": {
        "annotations": [
         {
          "font": {
           "size": 16
          },
          "showarrow": false,
          "text": "IndianPines_AE1_8_li",
          "x": 0.225,
          "xanchor": "center",
          "xref": "paper",
          "y": 1,
          "yanchor": "bottom",
          "yref": "paper"
         },
         {
          "font": {
           "size": 16
          },
          "showarrow": false,
          "text": "IndianPines_AE1_8_hamida",
          "x": 0.775,
          "xanchor": "center",
          "xref": "paper",
          "y": 1,
          "yanchor": "bottom",
          "yref": "paper"
         },
         {
          "font": {
           "size": 16
          },
          "showarrow": false,
          "text": "IndianPines_AE1_8_mou",
          "x": 0.225,
          "xanchor": "center",
          "xref": "paper",
          "y": 0.375,
          "yanchor": "bottom",
          "yref": "paper"
         },
         {
          "font": {
           "size": 16
          },
          "showarrow": false,
          "text": "IndianPines_AE1_8_paoletti",
          "x": 0.775,
          "xanchor": "center",
          "xref": "paper",
          "y": 0.375,
          "yanchor": "bottom",
          "yref": "paper"
         }
        ],
        "height": 1000,
        "showlegend": false,
        "template": {
         "data": {
          "bar": [
           {
            "error_x": {
             "color": "#2a3f5f"
            },
            "error_y": {
             "color": "#2a3f5f"
            },
            "marker": {
             "line": {
              "color": "#E5ECF6",
              "width": 0.5
             },
             "pattern": {
              "fillmode": "overlay",
              "size": 10,
              "solidity": 0.2
             }
            },
            "type": "bar"
           }
          ],
          "barpolar": [
           {
            "marker": {
             "line": {
              "color": "#E5ECF6",
              "width": 0.5
             },
             "pattern": {
              "fillmode": "overlay",
              "size": 10,
              "solidity": 0.2
             }
            },
            "type": "barpolar"
           }
          ],
          "carpet": [
           {
            "aaxis": {
             "endlinecolor": "#2a3f5f",
             "gridcolor": "white",
             "linecolor": "white",
             "minorgridcolor": "white",
             "startlinecolor": "#2a3f5f"
            },
            "baxis": {
             "endlinecolor": "#2a3f5f",
             "gridcolor": "white",
             "linecolor": "white",
             "minorgridcolor": "white",
             "startlinecolor": "#2a3f5f"
            },
            "type": "carpet"
           }
          ],
          "choropleth": [
           {
            "colorbar": {
             "outlinewidth": 0,
             "ticks": ""
            },
            "type": "choropleth"
           }
          ],
          "contour": [
           {
            "colorbar": {
             "outlinewidth": 0,
             "ticks": ""
            },
            "colorscale": [
             [
              0,
              "#0d0887"
             ],
             [
              0.1111111111111111,
              "#46039f"
             ],
             [
              0.2222222222222222,
              "#7201a8"
             ],
             [
              0.3333333333333333,
              "#9c179e"
             ],
             [
              0.4444444444444444,
              "#bd3786"
             ],
             [
              0.5555555555555556,
              "#d8576b"
             ],
             [
              0.6666666666666666,
              "#ed7953"
             ],
             [
              0.7777777777777778,
              "#fb9f3a"
             ],
             [
              0.8888888888888888,
              "#fdca26"
             ],
             [
              1,
              "#f0f921"
             ]
            ],
            "type": "contour"
           }
          ],
          "contourcarpet": [
           {
            "colorbar": {
             "outlinewidth": 0,
             "ticks": ""
            },
            "type": "contourcarpet"
           }
          ],
          "heatmap": [
           {
            "colorbar": {
             "outlinewidth": 0,
             "ticks": ""
            },
            "colorscale": [
             [
              0,
              "#0d0887"
             ],
             [
              0.1111111111111111,
              "#46039f"
             ],
             [
              0.2222222222222222,
              "#7201a8"
             ],
             [
              0.3333333333333333,
              "#9c179e"
             ],
             [
              0.4444444444444444,
              "#bd3786"
             ],
             [
              0.5555555555555556,
              "#d8576b"
             ],
             [
              0.6666666666666666,
              "#ed7953"
             ],
             [
              0.7777777777777778,
              "#fb9f3a"
             ],
             [
              0.8888888888888888,
              "#fdca26"
             ],
             [
              1,
              "#f0f921"
             ]
            ],
            "type": "heatmap"
           }
          ],
          "heatmapgl": [
           {
            "colorbar": {
             "outlinewidth": 0,
             "ticks": ""
            },
            "colorscale": [
             [
              0,
              "#0d0887"
             ],
             [
              0.1111111111111111,
              "#46039f"
             ],
             [
              0.2222222222222222,
              "#7201a8"
             ],
             [
              0.3333333333333333,
              "#9c179e"
             ],
             [
              0.4444444444444444,
              "#bd3786"
             ],
             [
              0.5555555555555556,
              "#d8576b"
             ],
             [
              0.6666666666666666,
              "#ed7953"
             ],
             [
              0.7777777777777778,
              "#fb9f3a"
             ],
             [
              0.8888888888888888,
              "#fdca26"
             ],
             [
              1,
              "#f0f921"
             ]
            ],
            "type": "heatmapgl"
           }
          ],
          "histogram": [
           {
            "marker": {
             "pattern": {
              "fillmode": "overlay",
              "size": 10,
              "solidity": 0.2
             }
            },
            "type": "histogram"
           }
          ],
          "histogram2d": [
           {
            "colorbar": {
             "outlinewidth": 0,
             "ticks": ""
            },
            "colorscale": [
             [
              0,
              "#0d0887"
             ],
             [
              0.1111111111111111,
              "#46039f"
             ],
             [
              0.2222222222222222,
              "#7201a8"
             ],
             [
              0.3333333333333333,
              "#9c179e"
             ],
             [
              0.4444444444444444,
              "#bd3786"
             ],
             [
              0.5555555555555556,
              "#d8576b"
             ],
             [
              0.6666666666666666,
              "#ed7953"
             ],
             [
              0.7777777777777778,
              "#fb9f3a"
             ],
             [
              0.8888888888888888,
              "#fdca26"
             ],
             [
              1,
              "#f0f921"
             ]
            ],
            "type": "histogram2d"
           }
          ],
          "histogram2dcontour": [
           {
            "colorbar": {
             "outlinewidth": 0,
             "ticks": ""
            },
            "colorscale": [
             [
              0,
              "#0d0887"
             ],
             [
              0.1111111111111111,
              "#46039f"
             ],
             [
              0.2222222222222222,
              "#7201a8"
             ],
             [
              0.3333333333333333,
              "#9c179e"
             ],
             [
              0.4444444444444444,
              "#bd3786"
             ],
             [
              0.5555555555555556,
              "#d8576b"
             ],
             [
              0.6666666666666666,
              "#ed7953"
             ],
             [
              0.7777777777777778,
              "#fb9f3a"
             ],
             [
              0.8888888888888888,
              "#fdca26"
             ],
             [
              1,
              "#f0f921"
             ]
            ],
            "type": "histogram2dcontour"
           }
          ],
          "mesh3d": [
           {
            "colorbar": {
             "outlinewidth": 0,
             "ticks": ""
            },
            "type": "mesh3d"
           }
          ],
          "parcoords": [
           {
            "line": {
             "colorbar": {
              "outlinewidth": 0,
              "ticks": ""
             }
            },
            "type": "parcoords"
           }
          ],
          "pie": [
           {
            "automargin": true,
            "type": "pie"
           }
          ],
          "scatter": [
           {
            "fillpattern": {
             "fillmode": "overlay",
             "size": 10,
             "solidity": 0.2
            },
            "type": "scatter"
           }
          ],
          "scatter3d": [
           {
            "line": {
             "colorbar": {
              "outlinewidth": 0,
              "ticks": ""
             }
            },
            "marker": {
             "colorbar": {
              "outlinewidth": 0,
              "ticks": ""
             }
            },
            "type": "scatter3d"
           }
          ],
          "scattercarpet": [
           {
            "marker": {
             "colorbar": {
              "outlinewidth": 0,
              "ticks": ""
             }
            },
            "type": "scattercarpet"
           }
          ],
          "scattergeo": [
           {
            "marker": {
             "colorbar": {
              "outlinewidth": 0,
              "ticks": ""
             }
            },
            "type": "scattergeo"
           }
          ],
          "scattergl": [
           {
            "marker": {
             "colorbar": {
              "outlinewidth": 0,
              "ticks": ""
             }
            },
            "type": "scattergl"
           }
          ],
          "scattermapbox": [
           {
            "marker": {
             "colorbar": {
              "outlinewidth": 0,
              "ticks": ""
             }
            },
            "type": "scattermapbox"
           }
          ],
          "scatterpolar": [
           {
            "marker": {
             "colorbar": {
              "outlinewidth": 0,
              "ticks": ""
             }
            },
            "type": "scatterpolar"
           }
          ],
          "scatterpolargl": [
           {
            "marker": {
             "colorbar": {
              "outlinewidth": 0,
              "ticks": ""
             }
            },
            "type": "scatterpolargl"
           }
          ],
          "scatterternary": [
           {
            "marker": {
             "colorbar": {
              "outlinewidth": 0,
              "ticks": ""
             }
            },
            "type": "scatterternary"
           }
          ],
          "surface": [
           {
            "colorbar": {
             "outlinewidth": 0,
             "ticks": ""
            },
            "colorscale": [
             [
              0,
              "#0d0887"
             ],
             [
              0.1111111111111111,
              "#46039f"
             ],
             [
              0.2222222222222222,
              "#7201a8"
             ],
             [
              0.3333333333333333,
              "#9c179e"
             ],
             [
              0.4444444444444444,
              "#bd3786"
             ],
             [
              0.5555555555555556,
              "#d8576b"
             ],
             [
              0.6666666666666666,
              "#ed7953"
             ],
             [
              0.7777777777777778,
              "#fb9f3a"
             ],
             [
              0.8888888888888888,
              "#fdca26"
             ],
             [
              1,
              "#f0f921"
             ]
            ],
            "type": "surface"
           }
          ],
          "table": [
           {
            "cells": {
             "fill": {
              "color": "#EBF0F8"
             },
             "line": {
              "color": "white"
             }
            },
            "header": {
             "fill": {
              "color": "#C8D4E3"
             },
             "line": {
              "color": "white"
             }
            },
            "type": "table"
           }
          ]
         },
         "layout": {
          "annotationdefaults": {
           "arrowcolor": "#2a3f5f",
           "arrowhead": 0,
           "arrowwidth": 1
          },
          "autotypenumbers": "strict",
          "coloraxis": {
           "colorbar": {
            "outlinewidth": 0,
            "ticks": ""
           }
          },
          "colorscale": {
           "diverging": [
            [
             0,
             "#8e0152"
            ],
            [
             0.1,
             "#c51b7d"
            ],
            [
             0.2,
             "#de77ae"
            ],
            [
             0.3,
             "#f1b6da"
            ],
            [
             0.4,
             "#fde0ef"
            ],
            [
             0.5,
             "#f7f7f7"
            ],
            [
             0.6,
             "#e6f5d0"
            ],
            [
             0.7,
             "#b8e186"
            ],
            [
             0.8,
             "#7fbc41"
            ],
            [
             0.9,
             "#4d9221"
            ],
            [
             1,
             "#276419"
            ]
           ],
           "sequential": [
            [
             0,
             "#0d0887"
            ],
            [
             0.1111111111111111,
             "#46039f"
            ],
            [
             0.2222222222222222,
             "#7201a8"
            ],
            [
             0.3333333333333333,
             "#9c179e"
            ],
            [
             0.4444444444444444,
             "#bd3786"
            ],
            [
             0.5555555555555556,
             "#d8576b"
            ],
            [
             0.6666666666666666,
             "#ed7953"
            ],
            [
             0.7777777777777778,
             "#fb9f3a"
            ],
            [
             0.8888888888888888,
             "#fdca26"
            ],
            [
             1,
             "#f0f921"
            ]
           ],
           "sequentialminus": [
            [
             0,
             "#0d0887"
            ],
            [
             0.1111111111111111,
             "#46039f"
            ],
            [
             0.2222222222222222,
             "#7201a8"
            ],
            [
             0.3333333333333333,
             "#9c179e"
            ],
            [
             0.4444444444444444,
             "#bd3786"
            ],
            [
             0.5555555555555556,
             "#d8576b"
            ],
            [
             0.6666666666666666,
             "#ed7953"
            ],
            [
             0.7777777777777778,
             "#fb9f3a"
            ],
            [
             0.8888888888888888,
             "#fdca26"
            ],
            [
             1,
             "#f0f921"
            ]
           ]
          },
          "colorway": [
           "#636efa",
           "#EF553B",
           "#00cc96",
           "#ab63fa",
           "#FFA15A",
           "#19d3f3",
           "#FF6692",
           "#B6E880",
           "#FF97FF",
           "#FECB52"
          ],
          "font": {
           "color": "#2a3f5f"
          },
          "geo": {
           "bgcolor": "white",
           "lakecolor": "white",
           "landcolor": "#E5ECF6",
           "showlakes": true,
           "showland": true,
           "subunitcolor": "white"
          },
          "hoverlabel": {
           "align": "left"
          },
          "hovermode": "closest",
          "mapbox": {
           "style": "light"
          },
          "paper_bgcolor": "white",
          "plot_bgcolor": "#E5ECF6",
          "polar": {
           "angularaxis": {
            "gridcolor": "white",
            "linecolor": "white",
            "ticks": ""
           },
           "bgcolor": "#E5ECF6",
           "radialaxis": {
            "gridcolor": "white",
            "linecolor": "white",
            "ticks": ""
           }
          },
          "scene": {
           "xaxis": {
            "backgroundcolor": "#E5ECF6",
            "gridcolor": "white",
            "gridwidth": 2,
            "linecolor": "white",
            "showbackground": true,
            "ticks": "",
            "zerolinecolor": "white"
           },
           "yaxis": {
            "backgroundcolor": "#E5ECF6",
            "gridcolor": "white",
            "gridwidth": 2,
            "linecolor": "white",
            "showbackground": true,
            "ticks": "",
            "zerolinecolor": "white"
           },
           "zaxis": {
            "backgroundcolor": "#E5ECF6",
            "gridcolor": "white",
            "gridwidth": 2,
            "linecolor": "white",
            "showbackground": true,
            "ticks": "",
            "zerolinecolor": "white"
           }
          },
          "shapedefaults": {
           "line": {
            "color": "#2a3f5f"
           }
          },
          "ternary": {
           "aaxis": {
            "gridcolor": "white",
            "linecolor": "white",
            "ticks": ""
           },
           "baxis": {
            "gridcolor": "white",
            "linecolor": "white",
            "ticks": ""
           },
           "bgcolor": "#E5ECF6",
           "caxis": {
            "gridcolor": "white",
            "linecolor": "white",
            "ticks": ""
           }
          },
          "title": {
           "x": 0.05
          },
          "xaxis": {
           "automargin": true,
           "gridcolor": "white",
           "linecolor": "white",
           "ticks": "",
           "title": {
            "standoff": 15
           },
           "zerolinecolor": "white",
           "zerolinewidth": 2
          },
          "yaxis": {
           "automargin": true,
           "gridcolor": "white",
           "linecolor": "white",
           "ticks": "",
           "title": {
            "standoff": 15
           },
           "zerolinecolor": "white",
           "zerolinewidth": 2
          }
         }
        },
        "title": {
         "text": "Confusion Matrices"
        },
        "width": 1000,
        "xaxis": {
         "anchor": "y",
         "domain": [
          0,
          0.45
         ],
         "showticklabels": false
        },
        "xaxis2": {
         "anchor": "y2",
         "domain": [
          0.55,
          1
         ],
         "showticklabels": false
        },
        "xaxis3": {
         "anchor": "y3",
         "domain": [
          0,
          0.45
         ],
         "tickangle": 45,
         "title": {
          "text": "Predicted labels"
         },
         "type": "category"
        },
        "xaxis4": {
         "anchor": "y4",
         "domain": [
          0.55,
          1
         ],
         "tickangle": 45,
         "title": {
          "text": "Predicted labels"
         },
         "type": "category"
        },
        "yaxis": {
         "anchor": "x",
         "domain": [
          0.625,
          1
         ],
         "title": {
          "text": "Actual labels"
         },
         "type": "category"
        },
        "yaxis2": {
         "anchor": "x2",
         "domain": [
          0.625,
          1
         ],
         "showticklabels": false
        },
        "yaxis3": {
         "anchor": "x3",
         "domain": [
          0,
          0.375
         ],
         "title": {
          "text": "Actual labels"
         },
         "type": "category"
        },
        "yaxis4": {
         "anchor": "x4",
         "domain": [
          0,
          0.375
         ],
         "showticklabels": false
        }
       }
      }
     },
     "metadata": {},
     "output_type": "display_data"
    },
    {
     "ename": "IndexError",
     "evalue": "index 0 is out of bounds for axis 0 with size 0",
     "output_type": "error",
     "traceback": [
      "\u001b[1;31m---------------------------------------------------------------------------\u001b[0m",
      "\u001b[1;31mIndexError\u001b[0m                                Traceback (most recent call last)",
      "Cell \u001b[1;32mIn[20], line 20\u001b[0m\n\u001b[0;32m     13\u001b[0m n_comps \u001b[38;5;241m=\u001b[39m \u001b[38;5;241m15\u001b[39m\n\u001b[0;32m     14\u001b[0m exps \u001b[38;5;241m=\u001b[39m [\n\u001b[0;32m     15\u001b[0m     \u001b[38;5;124mf\u001b[39m\u001b[38;5;124m'\u001b[39m\u001b[38;5;132;01m{\u001b[39;00mds\u001b[38;5;132;01m}\u001b[39;00m\u001b[38;5;124m_\u001b[39m\u001b[38;5;132;01m{\u001b[39;00mdr\u001b[38;5;132;01m}\u001b[39;00m\u001b[38;5;124m_\u001b[39m\u001b[38;5;132;01m{\u001b[39;00mn_comps\u001b[38;5;132;01m}\u001b[39;00m\u001b[38;5;124m_li\u001b[39m\u001b[38;5;124m'\u001b[39m,\n\u001b[0;32m     16\u001b[0m     \u001b[38;5;124mf\u001b[39m\u001b[38;5;124m'\u001b[39m\u001b[38;5;132;01m{\u001b[39;00mds\u001b[38;5;132;01m}\u001b[39;00m\u001b[38;5;124m_\u001b[39m\u001b[38;5;132;01m{\u001b[39;00mdr\u001b[38;5;132;01m}\u001b[39;00m\u001b[38;5;124m_\u001b[39m\u001b[38;5;132;01m{\u001b[39;00mn_comps\u001b[38;5;132;01m}\u001b[39;00m\u001b[38;5;124m_hamida\u001b[39m\u001b[38;5;124m'\u001b[39m,\n\u001b[0;32m     17\u001b[0m     \u001b[38;5;124mf\u001b[39m\u001b[38;5;124m'\u001b[39m\u001b[38;5;132;01m{\u001b[39;00mds\u001b[38;5;132;01m}\u001b[39;00m\u001b[38;5;124m_\u001b[39m\u001b[38;5;132;01m{\u001b[39;00mdr\u001b[38;5;132;01m}\u001b[39;00m\u001b[38;5;124m_\u001b[39m\u001b[38;5;132;01m{\u001b[39;00mn_comps\u001b[38;5;132;01m}\u001b[39;00m\u001b[38;5;124m_mou\u001b[39m\u001b[38;5;124m'\u001b[39m,\n\u001b[0;32m     18\u001b[0m     \u001b[38;5;124mf\u001b[39m\u001b[38;5;124m'\u001b[39m\u001b[38;5;132;01m{\u001b[39;00mds\u001b[38;5;132;01m}\u001b[39;00m\u001b[38;5;124m_\u001b[39m\u001b[38;5;132;01m{\u001b[39;00mdr\u001b[38;5;132;01m}\u001b[39;00m\u001b[38;5;124m_\u001b[39m\u001b[38;5;132;01m{\u001b[39;00mn_comps\u001b[38;5;132;01m}\u001b[39;00m\u001b[38;5;124m_paoletti\u001b[39m\u001b[38;5;124m'\u001b[39m\n\u001b[0;32m     19\u001b[0m ]\n\u001b[1;32m---> 20\u001b[0m show_confusion_matrices(df_results, exps, labels\u001b[38;5;241m=\u001b[39mLABELS[ds], normalize\u001b[38;5;241m=\u001b[39m\u001b[38;5;28;01mTrue\u001b[39;00m)\n\u001b[0;32m     22\u001b[0m n_comps \u001b[38;5;241m=\u001b[39m \u001b[38;5;241m30\u001b[39m\n\u001b[0;32m     23\u001b[0m exps \u001b[38;5;241m=\u001b[39m [\n\u001b[0;32m     24\u001b[0m     \u001b[38;5;124mf\u001b[39m\u001b[38;5;124m'\u001b[39m\u001b[38;5;132;01m{\u001b[39;00mds\u001b[38;5;132;01m}\u001b[39;00m\u001b[38;5;124m_\u001b[39m\u001b[38;5;132;01m{\u001b[39;00mdr\u001b[38;5;132;01m}\u001b[39;00m\u001b[38;5;124m_\u001b[39m\u001b[38;5;132;01m{\u001b[39;00mn_comps\u001b[38;5;132;01m}\u001b[39;00m\u001b[38;5;124m_li\u001b[39m\u001b[38;5;124m'\u001b[39m,\n\u001b[0;32m     25\u001b[0m     \u001b[38;5;124mf\u001b[39m\u001b[38;5;124m'\u001b[39m\u001b[38;5;132;01m{\u001b[39;00mds\u001b[38;5;132;01m}\u001b[39;00m\u001b[38;5;124m_\u001b[39m\u001b[38;5;132;01m{\u001b[39;00mdr\u001b[38;5;132;01m}\u001b[39;00m\u001b[38;5;124m_\u001b[39m\u001b[38;5;132;01m{\u001b[39;00mn_comps\u001b[38;5;132;01m}\u001b[39;00m\u001b[38;5;124m_hamida\u001b[39m\u001b[38;5;124m'\u001b[39m,\n\u001b[0;32m     26\u001b[0m     \u001b[38;5;124mf\u001b[39m\u001b[38;5;124m'\u001b[39m\u001b[38;5;132;01m{\u001b[39;00mds\u001b[38;5;132;01m}\u001b[39;00m\u001b[38;5;124m_\u001b[39m\u001b[38;5;132;01m{\u001b[39;00mdr\u001b[38;5;132;01m}\u001b[39;00m\u001b[38;5;124m_\u001b[39m\u001b[38;5;132;01m{\u001b[39;00mn_comps\u001b[38;5;132;01m}\u001b[39;00m\u001b[38;5;124m_mou\u001b[39m\u001b[38;5;124m'\u001b[39m,\n\u001b[0;32m     27\u001b[0m     \u001b[38;5;124mf\u001b[39m\u001b[38;5;124m'\u001b[39m\u001b[38;5;132;01m{\u001b[39;00mds\u001b[38;5;132;01m}\u001b[39;00m\u001b[38;5;124m_\u001b[39m\u001b[38;5;132;01m{\u001b[39;00mdr\u001b[38;5;132;01m}\u001b[39;00m\u001b[38;5;124m_\u001b[39m\u001b[38;5;132;01m{\u001b[39;00mn_comps\u001b[38;5;132;01m}\u001b[39;00m\u001b[38;5;124m_paoletti\u001b[39m\u001b[38;5;124m'\u001b[39m\n\u001b[0;32m     28\u001b[0m ]\n",
      "Cell \u001b[1;32mIn[18], line 95\u001b[0m, in \u001b[0;36mshow_confusion_matrices\u001b[1;34m(df_results, exps, labels, normalize)\u001b[0m\n\u001b[0;32m     93\u001b[0m confusion_matrices \u001b[38;5;241m=\u001b[39m []\n\u001b[0;32m     94\u001b[0m \u001b[38;5;28;01mfor\u001b[39;00m exp \u001b[38;5;129;01min\u001b[39;00m exps:\n\u001b[1;32m---> 95\u001b[0m     confusion_matrices\u001b[38;5;241m.\u001b[39mappend(df_results[df_results[\u001b[38;5;124m'\u001b[39m\u001b[38;5;124mExperiment\u001b[39m\u001b[38;5;124m'\u001b[39m] \u001b[38;5;241m==\u001b[39m exp][\u001b[38;5;124m'\u001b[39m\u001b[38;5;124mConfusion matrix\u001b[39m\u001b[38;5;124m'\u001b[39m]\u001b[38;5;241m.\u001b[39mvalues[\u001b[38;5;241m0\u001b[39m])\n\u001b[0;32m     97\u001b[0m fig \u001b[38;5;241m=\u001b[39m make_subplots(rows\u001b[38;5;241m=\u001b[39m\u001b[38;5;241m2\u001b[39m, cols\u001b[38;5;241m=\u001b[39m\u001b[38;5;241m2\u001b[39m, subplot_titles\u001b[38;5;241m=\u001b[39mexps)\n\u001b[0;32m     99\u001b[0m \u001b[38;5;28;01mfor\u001b[39;00m i, (confusion_matrix, label) \u001b[38;5;129;01min\u001b[39;00m \u001b[38;5;28menumerate\u001b[39m(\u001b[38;5;28mzip\u001b[39m(confusion_matrices, labels)):\n",
      "\u001b[1;31mIndexError\u001b[0m: index 0 is out of bounds for axis 0 with size 0"
     ]
    }
   ],
   "source": [
    "\n",
    "# dr = 'PCA'\n",
    "dr = 'AE1'\n",
    "\n",
    "n_comps = 8\n",
    "exps = [\n",
    "    f'{ds}_{dr}_{n_comps}_li',\n",
    "    f'{ds}_{dr}_{n_comps}_hamida',\n",
    "    f'{ds}_{dr}_{n_comps}_mou',\n",
    "    f'{ds}_{dr}_{n_comps}_paoletti'\n",
    "]\n",
    "show_confusion_matrices(df_results, exps, labels=LABELS[ds], normalize=True)\n",
    "\n",
    "n_comps = 15\n",
    "exps = [\n",
    "    f'{ds}_{dr}_{n_comps}_li',\n",
    "    f'{ds}_{dr}_{n_comps}_hamida',\n",
    "    f'{ds}_{dr}_{n_comps}_mou',\n",
    "    f'{ds}_{dr}_{n_comps}_paoletti'\n",
    "]\n",
    "show_confusion_matrices(df_results, exps, labels=LABELS[ds], normalize=True)\n",
    "\n",
    "n_comps = 30\n",
    "exps = [\n",
    "    f'{ds}_{dr}_{n_comps}_li',\n",
    "    f'{ds}_{dr}_{n_comps}_hamida',\n",
    "    f'{ds}_{dr}_{n_comps}_mou',\n",
    "    f'{ds}_{dr}_{n_comps}_paoletti'\n",
    "]\n",
    "show_confusion_matrices(df_results, exps, labels=LABELS[ds], normalize=True)\n"
   ]
  },
  {
   "cell_type": "markdown",
   "metadata": {},
   "source": [
    "# ACCURACIES"
   ]
  },
  {
   "cell_type": "code",
   "execution_count": 21,
   "metadata": {},
   "outputs": [
    {
     "data": {
      "image/png": "[encoded data removed]",
      "text/plain": [
       "<Figure size 100x800 with 1 Axes>"
      ]
     },
     "metadata": {},
     "output_type": "display_data"
    }
   ],
   "source": [
    "plot_sorted_column_heatmap(df_results[(df_results['Dataset'] == ds)], 'Accuracy')\n",
    "# dr = 'PCA'\n",
    "# plot_sorted_column_heatmap(df_results[(df_results['Dataset'] == ds) & (df_results['DR Method'] == dr)],'Accuracy') "
   ]
  },
  {
   "cell_type": "code",
   "execution_count": 8,
   "metadata": {},
   "outputs": [
    {
     "data": {
      "image/png": "[encoded data removed]",
      "text/plain": [
       "<Figure size 100x800 with 1 Axes>"
      ]
     },
     "metadata": {},
     "output_type": "display_data"
    }
   ],
   "source": [
    "plot_sorted_column_heatmap(df_results,'Accuracy') "
   ]
  },
  {
   "cell_type": "code",
   "execution_count": 14,
   "metadata": {},
   "outputs": [
    {
     "name": "stderr",
     "output_type": "stream",
     "text": [
      "C:\\Users\\Dell\\AppData\\Local\\Temp\\ipykernel_11840\\3497796932.py:145: SettingWithCopyWarning:\n",
      "\n",
      "\n",
      "A value is trying to be set on a copy of a slice from a DataFrame.\n",
      "Try using .loc[row_indexer,col_indexer] = value instead\n",
      "\n",
      "See the caveats in the documentation: https://pandas.pydata.org/pandas-docs/stable/user_guide/indexing.html#returning-a-view-versus-a-copy\n",
      "\n"
     ]
    },
    {
     "data": {
      "application/vnd.plotly.v1+json": {
       "config": {
        "plotlyServerURL": "https://plot.ly"
       },
       "data": [
        {
         "marker": {
          "color": "#636EFA"
         },
         "name": "mou",
         "type": "bar",
         "x": [
          "Salinas_UMAP_8_mou"
         ],
         "y": [
          93.7501154649079
         ]
        },
        {
         "marker": {
          "color": "#EF553B"
         },
         "name": "hamida",
         "type": "bar",
         "x": [
          "Salinas_UMAP_8_hamida"
         ],
         "y": [
          93.73533595669603
         ]
        },
        {
         "marker": {
          "color": "#00CC96"
         },
         "name": "li",
         "type": "bar",
         "x": [
          "Salinas_UMAP_8_li"
         ],
         "y": [
          94.1306878013634
         ]
        },
        {
         "marker": {
          "color": "#AB63FA"
         },
         "name": "paoletti",
         "type": "bar",
         "x": [
          "Salinas_UMAP_8_paoletti"
         ],
         "y": [
          93.8720464076558
         ]
        }
       ],
       "layout": {
        "barmode": "group",
        "showlegend": true,
        "template": {
         "data": {
          "bar": [
           {
            "error_x": {
             "color": "#2a3f5f"
            },
            "error_y": {
             "color": "#2a3f5f"
            },
            "marker": {
             "line": {
              "color": "#E5ECF6",
              "width": 0.5
             },
             "pattern": {
              "fillmode": "overlay",
              "size": 10,
              "solidity": 0.2
             }
            },
            "type": "bar"
           }
          ],
          "barpolar": [
           {
            "marker": {
             "line": {
              "color": "#E5ECF6",
              "width": 0.5
             },
             "pattern": {
              "fillmode": "overlay",
              "size": 10,
              "solidity": 0.2
             }
            },
            "type": "barpolar"
           }
          ],
          "carpet": [
           {
            "aaxis": {
             "endlinecolor": "#2a3f5f",
             "gridcolor": "white",
             "linecolor": "white",
             "minorgridcolor": "white",
             "startlinecolor": "#2a3f5f"
            },
            "baxis": {
             "endlinecolor": "#2a3f5f",
             "gridcolor": "white",
             "linecolor": "white",
             "minorgridcolor": "white",
             "startlinecolor": "#2a3f5f"
            },
            "type": "carpet"
           }
          ],
          "choropleth": [
           {
            "colorbar": {
             "outlinewidth": 0,
             "ticks": ""
            },
            "type": "choropleth"
           }
          ],
          "contour": [
           {
            "colorbar": {
             "outlinewidth": 0,
             "ticks": ""
            },
            "colorscale": [
             [
              0,
              "#0d0887"
             ],
             [
              0.1111111111111111,
              "#46039f"
             ],
             [
              0.2222222222222222,
              "#7201a8"
             ],
             [
              0.3333333333333333,
              "#9c179e"
             ],
             [
              0.4444444444444444,
              "#bd3786"
             ],
             [
              0.5555555555555556,
              "#d8576b"
             ],
             [
              0.6666666666666666,
              "#ed7953"
             ],
             [
              0.7777777777777778,
              "#fb9f3a"
             ],
             [
              0.8888888888888888,
              "#fdca26"
             ],
             [
              1,
              "#f0f921"
             ]
            ],
            "type": "contour"
           }
          ],
          "contourcarpet": [
           {
            "colorbar": {
             "outlinewidth": 0,
             "ticks": ""
            },
            "type": "contourcarpet"
           }
          ],
          "heatmap": [
           {
            "colorbar": {
             "outlinewidth": 0,
             "ticks": ""
            },
            "colorscale": [
             [
              0,
              "#0d0887"
             ],
             [
              0.1111111111111111,
              "#46039f"
             ],
             [
              0.2222222222222222,
              "#7201a8"
             ],
             [
              0.3333333333333333,
              "#9c179e"
             ],
             [
              0.4444444444444444,
              "#bd3786"
             ],
             [
              0.5555555555555556,
              "#d8576b"
             ],
             [
              0.6666666666666666,
              "#ed7953"
             ],
             [
              0.7777777777777778,
              "#fb9f3a"
             ],
             [
              0.8888888888888888,
              "#fdca26"
             ],
             [
              1,
              "#f0f921"
             ]
            ],
            "type": "heatmap"
           }
          ],
          "heatmapgl": [
           {
            "colorbar": {
             "outlinewidth": 0,
             "ticks": ""
            },
            "colorscale": [
             [
              0,
              "#0d0887"
             ],
             [
              0.1111111111111111,
              "#46039f"
             ],
             [
              0.2222222222222222,
              "#7201a8"
             ],
             [
              0.3333333333333333,
              "#9c179e"
             ],
             [
              0.4444444444444444,
              "#bd3786"
             ],
             [
              0.5555555555555556,
              "#d8576b"
             ],
             [
              0.6666666666666666,
              "#ed7953"
             ],
             [
              0.7777777777777778,
              "#fb9f3a"
             ],
             [
              0.8888888888888888,
              "#fdca26"
             ],
             [
              1,
              "#f0f921"
             ]
            ],
            "type": "heatmapgl"
           }
          ],
          "histogram": [
           {
            "marker": {
             "pattern": {
              "fillmode": "overlay",
              "size": 10,
              "solidity": 0.2
             }
            },
            "type": "histogram"
           }
          ],
          "histogram2d": [
           {
            "colorbar": {
             "outlinewidth": 0,
             "ticks": ""
            },
            "colorscale": [
             [
              0,
              "#0d0887"
             ],
             [
              0.1111111111111111,
              "#46039f"
             ],
             [
              0.2222222222222222,
              "#7201a8"
             ],
             [
              0.3333333333333333,
              "#9c179e"
             ],
             [
              0.4444444444444444,
              "#bd3786"
             ],
             [
              0.5555555555555556,
              "#d8576b"
             ],
             [
              0.6666666666666666,
              "#ed7953"
             ],
             [
              0.7777777777777778,
              "#fb9f3a"
             ],
             [
              0.8888888888888888,
              "#fdca26"
             ],
             [
              1,
              "#f0f921"
             ]
            ],
            "type": "histogram2d"
           }
          ],
          "histogram2dcontour": [
           {
            "colorbar": {
             "outlinewidth": 0,
             "ticks": ""
            },
            "colorscale": [
             [
              0,
              "#0d0887"
             ],
             [
              0.1111111111111111,
              "#46039f"
             ],
             [
              0.2222222222222222,
              "#7201a8"
             ],
             [
              0.3333333333333333,
              "#9c179e"
             ],
             [
              0.4444444444444444,
              "#bd3786"
             ],
             [
              0.5555555555555556,
              "#d8576b"
             ],
             [
              0.6666666666666666,
              "#ed7953"
             ],
             [
              0.7777777777777778,
              "#fb9f3a"
             ],
             [
              0.8888888888888888,
              "#fdca26"
             ],
             [
              1,
              "#f0f921"
             ]
            ],
            "type": "histogram2dcontour"
           }
          ],
          "mesh3d": [
           {
            "colorbar": {
             "outlinewidth": 0,
             "ticks": ""
            },
            "type": "mesh3d"
           }
          ],
          "parcoords": [
           {
            "line": {
             "colorbar": {
              "outlinewidth": 0,
              "ticks": ""
             }
            },
            "type": "parcoords"
           }
          ],
          "pie": [
           {
            "automargin": true,
            "type": "pie"
           }
          ],
          "scatter": [
           {
            "fillpattern": {
             "fillmode": "overlay",
             "size": 10,
             "solidity": 0.2
            },
            "type": "scatter"
           }
          ],
          "scatter3d": [
           {
            "line": {
             "colorbar": {
              "outlinewidth": 0,
              "ticks": ""
             }
            },
            "marker": {
             "colorbar": {
              "outlinewidth": 0,
              "ticks": ""
             }
            },
            "type": "scatter3d"
           }
          ],
          "scattercarpet": [
           {
            "marker": {
             "colorbar": {
              "outlinewidth": 0,
              "ticks": ""
             }
            },
            "type": "scattercarpet"
           }
          ],
          "scattergeo": [
           {
            "marker": {
             "colorbar": {
              "outlinewidth": 0,
              "ticks": ""
             }
            },
            "type": "scattergeo"
           }
          ],
          "scattergl": [
           {
            "marker": {
             "colorbar": {
              "outlinewidth": 0,
              "ticks": ""
             }
            },
            "type": "scattergl"
           }
          ],
          "scattermapbox": [
           {
            "marker": {
             "colorbar": {
              "outlinewidth": 0,
              "ticks": ""
             }
            },
            "type": "scattermapbox"
           }
          ],
          "scatterpolar": [
           {
            "marker": {
             "colorbar": {
              "outlinewidth": 0,
              "ticks": ""
             }
            },
            "type": "scatterpolar"
           }
          ],
          "scatterpolargl": [
           {
            "marker": {
             "colorbar": {
              "outlinewidth": 0,
              "ticks": ""
             }
            },
            "type": "scatterpolargl"
           }
          ],
          "scatterternary": [
           {
            "marker": {
             "colorbar": {
              "outlinewidth": 0,
              "ticks": ""
             }
            },
            "type": "scatterternary"
           }
          ],
          "surface": [
           {
            "colorbar": {
             "outlinewidth": 0,
             "ticks": ""
            },
            "colorscale": [
             [
              0,
              "#0d0887"
             ],
             [
              0.1111111111111111,
              "#46039f"
             ],
             [
              0.2222222222222222,
              "#7201a8"
             ],
             [
              0.3333333333333333,
              "#9c179e"
             ],
             [
              0.4444444444444444,
              "#bd3786"
             ],
             [
              0.5555555555555556,
              "#d8576b"
             ],
             [
              0.6666666666666666,
              "#ed7953"
             ],
             [
              0.7777777777777778,
              "#fb9f3a"
             ],
             [
              0.8888888888888888,
              "#fdca26"
             ],
             [
              1,
              "#f0f921"
             ]
            ],
            "type": "surface"
           }
          ],
          "table": [
           {
            "cells": {
             "fill": {
              "color": "#EBF0F8"
             },
             "line": {
              "color": "white"
             }
            },
            "header": {
             "fill": {
              "color": "#C8D4E3"
             },
             "line": {
              "color": "white"
             }
            },
            "type": "table"
           }
          ]
         },
         "layout": {
          "annotationdefaults": {
           "arrowcolor": "#2a3f5f",
           "arrowhead": 0,
           "arrowwidth": 1
          },
          "autotypenumbers": "strict",
          "coloraxis": {
           "colorbar": {
            "outlinewidth": 0,
            "ticks": ""
           }
          },
          "colorscale": {
           "diverging": [
            [
             0,
             "#8e0152"
            ],
            [
             0.1,
             "#c51b7d"
            ],
            [
             0.2,
             "#de77ae"
            ],
            [
             0.3,
             "#f1b6da"
            ],
            [
             0.4,
             "#fde0ef"
            ],
            [
             0.5,
             "#f7f7f7"
            ],
            [
             0.6,
             "#e6f5d0"
            ],
            [
             0.7,
             "#b8e186"
            ],
            [
             0.8,
             "#7fbc41"
            ],
            [
             0.9,
             "#4d9221"
            ],
            [
             1,
             "#276419"
            ]
           ],
           "sequential": [
            [
             0,
             "#0d0887"
            ],
            [
             0.1111111111111111,
             "#46039f"
            ],
            [
             0.2222222222222222,
             "#7201a8"
            ],
            [
             0.3333333333333333,
             "#9c179e"
            ],
            [
             0.4444444444444444,
             "#bd3786"
            ],
            [
             0.5555555555555556,
             "#d8576b"
            ],
            [
             0.6666666666666666,
             "#ed7953"
            ],
            [
             0.7777777777777778,
             "#fb9f3a"
            ],
            [
             0.8888888888888888,
             "#fdca26"
            ],
            [
             1,
             "#f0f921"
            ]
           ],
           "sequentialminus": [
            [
             0,
             "#0d0887"
            ],
            [
             0.1111111111111111,
             "#46039f"
            ],
            [
             0.2222222222222222,
             "#7201a8"
            ],
            [
             0.3333333333333333,
             "#9c179e"
            ],
            [
             0.4444444444444444,
             "#bd3786"
            ],
            [
             0.5555555555555556,
             "#d8576b"
            ],
            [
             0.6666666666666666,
             "#ed7953"
            ],
            [
             0.7777777777777778,
             "#fb9f3a"
            ],
            [
             0.8888888888888888,
             "#fdca26"
            ],
            [
             1,
             "#f0f921"
            ]
           ]
          },
          "colorway": [
           "#636efa",
           "#EF553B",
           "#00cc96",
           "#ab63fa",
           "#FFA15A",
           "#19d3f3",
           "#FF6692",
           "#B6E880",
           "#FF97FF",
           "#FECB52"
          ],
          "font": {
           "color": "#2a3f5f"
          },
          "geo": {
           "bgcolor": "white",
           "lakecolor": "white",
           "landcolor": "#E5ECF6",
           "showlakes": true,
           "showland": true,
           "subunitcolor": "white"
          },
          "hoverlabel": {
           "align": "left"
          },
          "hovermode": "closest",
          "mapbox": {
           "style": "light"
          },
          "paper_bgcolor": "white",
          "plot_bgcolor": "#E5ECF6",
          "polar": {
           "angularaxis": {
            "gridcolor": "white",
            "linecolor": "white",
            "ticks": ""
           },
           "bgcolor": "#E5ECF6",
           "radialaxis": {
            "gridcolor": "white",
            "linecolor": "white",
            "ticks": ""
           }
          },
          "scene": {
           "xaxis": {
            "backgroundcolor": "#E5ECF6",
            "gridcolor": "white",
            "gridwidth": 2,
            "linecolor": "white",
            "showbackground": true,
            "ticks": "",
            "zerolinecolor": "white"
           },
           "yaxis": {
            "backgroundcolor": "#E5ECF6",
            "gridcolor": "white",
            "gridwidth": 2,
            "linecolor": "white",
            "showbackground": true,
            "ticks": "",
            "zerolinecolor": "white"
           },
           "zaxis": {
            "backgroundcolor": "#E5ECF6",
            "gridcolor": "white",
            "gridwidth": 2,
            "linecolor": "white",
            "showbackground": true,
            "ticks": "",
            "zerolinecolor": "white"
           }
          },
          "shapedefaults": {
           "line": {
            "color": "#2a3f5f"
           }
          },
          "ternary": {
           "aaxis": {
            "gridcolor": "white",
            "linecolor": "white",
            "ticks": ""
           },
           "baxis": {
            "gridcolor": "white",
            "linecolor": "white",
            "ticks": ""
           },
           "bgcolor": "#E5ECF6",
           "caxis": {
            "gridcolor": "white",
            "linecolor": "white",
            "ticks": ""
           }
          },
          "title": {
           "x": 0.05
          },
          "xaxis": {
           "automargin": true,
           "gridcolor": "white",
           "linecolor": "white",
           "ticks": "",
           "title": {
            "standoff": 15
           },
           "zerolinecolor": "white",
           "zerolinewidth": 2
          },
          "yaxis": {
           "automargin": true,
           "gridcolor": "white",
           "linecolor": "white",
           "ticks": "",
           "title": {
            "standoff": 15
           },
           "zerolinecolor": "white",
           "zerolinewidth": 2
          }
         }
        },
        "title": {
         "text": "Accuracies of Different Models"
        },
        "xaxis": {
         "title": {
          "text": "Experiment"
         }
        },
        "yaxis": {
         "range": [
          0,
          100
         ],
         "title": {
          "text": "Accuracy (%)"
         }
        }
       }
      }
     },
     "metadata": {},
     "output_type": "display_data"
    }
   ],
   "source": [
    "# ds = 'Salinas'\n",
    "# dr = 'FastICA'\n",
    "plot_acc_by_model(filter_exp_by_substring(df_results, [f'{ds}_{dr}_8']))\n"
   ]
  },
  {
   "cell_type": "code",
   "execution_count": null,
   "metadata": {},
   "outputs": [
    {
     "data": {
      "application/vnd.plotly.v1+json": {
       "config": {
        "plotlyServerURL": "https://plot.ly"
       },
       "data": [
        {
         "marker": {
          "color": "#636EFA"
         },
         "name": "mou",
         "type": "bar",
         "x": [
          "IndianPines_PCA_8_mou",
          "IndianPines_FastICA_8_mou",
          "IndianPines_UMAP_8_mou",
          "IndianPines_DiffMaps_8_mou",
          "IndianPines_SOM_8_mou",
          "IndianPines_Corr_8_mou"
         ],
         "y": [
          91.97970533710604,
          90.87715874719484,
          87.45243438384233,
          75.44904334244436,
          78.11493804273587,
          76.67089472143624
         ]
        },
        {
         "marker": {
          "color": "#EF553B"
         },
         "name": "hamida",
         "type": "bar",
         "x": [
          "IndianPines_PCA_8_hamida",
          "IndianPines_FastICA_8_hamida",
          "IndianPines_UMAP_8_hamida",
          "IndianPines_DiffMaps_8_hamida",
          "IndianPines_SOM_8_hamida",
          "IndianPines_Corr_8_hamida"
         ],
         "y": [
          97.04361401112304,
          96.06790906429896,
          96.53624743877452,
          85.75470777636842,
          91.11132793443262,
          75.46102058737438
         ]
        },
        {
         "marker": {
          "color": "#00CC96"
         },
         "name": "li",
         "type": "bar",
         "x": [
          "IndianPines_PCA_8_li",
          "IndianPines_FastICA_8_li",
          "IndianPines_UMAP_8_li",
          "IndianPines_DiffMaps_8_li",
          "IndianPines_SOM_8_li",
          "IndianPines_Corr_8_li"
         ],
         "y": [
          97.27778319836082,
          97.43389598985269,
          96.79968777441702,
          89.05259049663381,
          83.73499853644257,
          76.76846521611864
         ]
        },
        {
         "marker": {
          "color": "#AB63FA"
         },
         "name": "paoletti",
         "type": "bar",
         "x": [
          "IndianPines_PCA_8_paoletti",
          "IndianPines_FastICA_8_paoletti",
          "IndianPines_UMAP_8_paoletti",
          "IndianPines_DiffMaps_8_paoletti",
          "IndianPines_SOM_8_paoletti",
          "IndianPines_Corr_8_paoletti"
         ],
         "y": [
          94.7383834439672,
          94.49433814916048,
          87.67684652161186,
          76.25134159430188,
          84.35944970240999,
          80.0078056395746
         ]
        }
       ],
       "layout": {
        "barmode": "group",
        "showlegend": true,
        "template": {
         "data": {
          "bar": [
           {
            "error_x": {
             "color": "#2a3f5f"
            },
            "error_y": {
             "color": "#2a3f5f"
            },
            "marker": {
             "line": {
              "color": "#E5ECF6",
              "width": 0.5
             },
             "pattern": {
              "fillmode": "overlay",
              "size": 10,
              "solidity": 0.2
             }
            },
            "type": "bar"
           }
          ],
          "barpolar": [
           {
            "marker": {
             "line": {
              "color": "#E5ECF6",
              "width": 0.5
             },
             "pattern": {
              "fillmode": "overlay",
              "size": 10,
              "solidity": 0.2
             }
            },
            "type": "barpolar"
           }
          ],
          "carpet": [
           {
            "aaxis": {
             "endlinecolor": "#2a3f5f",
             "gridcolor": "white",
             "linecolor": "white",
             "minorgridcolor": "white",
             "startlinecolor": "#2a3f5f"
            },
            "baxis": {
             "endlinecolor": "#2a3f5f",
             "gridcolor": "white",
             "linecolor": "white",
             "minorgridcolor": "white",
             "startlinecolor": "#2a3f5f"
            },
            "type": "carpet"
           }
          ],
          "choropleth": [
           {
            "colorbar": {
             "outlinewidth": 0,
             "ticks": ""
            },
            "type": "choropleth"
           }
          ],
          "contour": [
           {
            "colorbar": {
             "outlinewidth": 0,
             "ticks": ""
            },
            "colorscale": [
             [
              0,
              "#0d0887"
             ],
             [
              0.1111111111111111,
              "#46039f"
             ],
             [
              0.2222222222222222,
              "#7201a8"
             ],
             [
              0.3333333333333333,
              "#9c179e"
             ],
             [
              0.4444444444444444,
              "#bd3786"
             ],
             [
              0.5555555555555556,
              "#d8576b"
             ],
             [
              0.6666666666666666,
              "#ed7953"
             ],
             [
              0.7777777777777778,
              "#fb9f3a"
             ],
             [
              0.8888888888888888,
              "#fdca26"
             ],
             [
              1,
              "#f0f921"
             ]
            ],
            "type": "contour"
           }
          ],
          "contourcarpet": [
           {
            "colorbar": {
             "outlinewidth": 0,
             "ticks": ""
            },
            "type": "contourcarpet"
           }
          ],
          "heatmap": [
           {
            "colorbar": {
             "outlinewidth": 0,
             "ticks": ""
            },
            "colorscale": [
             [
              0,
              "#0d0887"
             ],
             [
              0.1111111111111111,
              "#46039f"
             ],
             [
              0.2222222222222222,
              "#7201a8"
             ],
             [
              0.3333333333333333,
              "#9c179e"
             ],
             [
              0.4444444444444444,
              "#bd3786"
             ],
             [
              0.5555555555555556,
              "#d8576b"
             ],
             [
              0.6666666666666666,
              "#ed7953"
             ],
             [
              0.7777777777777778,
              "#fb9f3a"
             ],
             [
              0.8888888888888888,
              "#fdca26"
             ],
             [
              1,
              "#f0f921"
             ]
            ],
            "type": "heatmap"
           }
          ],
          "heatmapgl": [
           {
            "colorbar": {
             "outlinewidth": 0,
             "ticks": ""
            },
            "colorscale": [
             [
              0,
              "#0d0887"
             ],
             [
              0.1111111111111111,
              "#46039f"
             ],
             [
              0.2222222222222222,
              "#7201a8"
             ],
             [
              0.3333333333333333,
              "#9c179e"
             ],
             [
              0.4444444444444444,
              "#bd3786"
             ],
             [
              0.5555555555555556,
              "#d8576b"
             ],
             [
              0.6666666666666666,
              "#ed7953"
             ],
             [
              0.7777777777777778,
              "#fb9f3a"
             ],
             [
              0.8888888888888888,
              "#fdca26"
             ],
             [
              1,
              "#f0f921"
             ]
            ],
            "type": "heatmapgl"
           }
          ],
          "histogram": [
           {
            "marker": {
             "pattern": {
              "fillmode": "overlay",
              "size": 10,
              "solidity": 0.2
             }
            },
            "type": "histogram"
           }
          ],
          "histogram2d": [
           {
            "colorbar": {
             "outlinewidth": 0,
             "ticks": ""
            },
            "colorscale": [
             [
              0,
              "#0d0887"
             ],
             [
              0.1111111111111111,
              "#46039f"
             ],
             [
              0.2222222222222222,
              "#7201a8"
             ],
             [
              0.3333333333333333,
              "#9c179e"
             ],
             [
              0.4444444444444444,
              "#bd3786"
             ],
             [
              0.5555555555555556,
              "#d8576b"
             ],
             [
              0.6666666666666666,
              "#ed7953"
             ],
             [
              0.7777777777777778,
              "#fb9f3a"
             ],
             [
              0.8888888888888888,
              "#fdca26"
             ],
             [
              1,
              "#f0f921"
             ]
            ],
            "type": "histogram2d"
           }
          ],
          "histogram2dcontour": [
           {
            "colorbar": {
             "outlinewidth": 0,
             "ticks": ""
            },
            "colorscale": [
             [
              0,
              "#0d0887"
             ],
             [
              0.1111111111111111,
              "#46039f"
             ],
             [
              0.2222222222222222,
              "#7201a8"
             ],
             [
              0.3333333333333333,
              "#9c179e"
             ],
             [
              0.4444444444444444,
              "#bd3786"
             ],
             [
              0.5555555555555556,
              "#d8576b"
             ],
             [
              0.6666666666666666,
              "#ed7953"
             ],
             [
              0.7777777777777778,
              "#fb9f3a"
             ],
             [
              0.8888888888888888,
              "#fdca26"
             ],
             [
              1,
              "#f0f921"
             ]
            ],
            "type": "histogram2dcontour"
           }
          ],
          "mesh3d": [
           {
            "colorbar": {
             "outlinewidth": 0,
             "ticks": ""
            },
            "type": "mesh3d"
           }
          ],
          "parcoords": [
           {
            "line": {
             "colorbar": {
              "outlinewidth": 0,
              "ticks": ""
             }
            },
            "type": "parcoords"
           }
          ],
          "pie": [
           {
            "automargin": true,
            "type": "pie"
           }
          ],
          "scatter": [
           {
            "fillpattern": {
             "fillmode": "overlay",
             "size": 10,
             "solidity": 0.2
            },
            "type": "scatter"
           }
          ],
          "scatter3d": [
           {
            "line": {
             "colorbar": {
              "outlinewidth": 0,
              "ticks": ""
             }
            },
            "marker": {
             "colorbar": {
              "outlinewidth": 0,
              "ticks": ""
             }
            },
            "type": "scatter3d"
           }
          ],
          "scattercarpet": [
           {
            "marker": {
             "colorbar": {
              "outlinewidth": 0,
              "ticks": ""
             }
            },
            "type": "scattercarpet"
           }
          ],
          "scattergeo": [
           {
            "marker": {
             "colorbar": {
              "outlinewidth": 0,
              "ticks": ""
             }
            },
            "type": "scattergeo"
           }
          ],
          "scattergl": [
           {
            "marker": {
             "colorbar": {
              "outlinewidth": 0,
              "ticks": ""
             }
            },
            "type": "scattergl"
           }
          ],
          "scattermapbox": [
           {
            "marker": {
             "colorbar": {
              "outlinewidth": 0,
              "ticks": ""
             }
            },
            "type": "scattermapbox"
           }
          ],
          "scatterpolar": [
           {
            "marker": {
             "colorbar": {
              "outlinewidth": 0,
              "ticks": ""
             }
            },
            "type": "scatterpolar"
           }
          ],
          "scatterpolargl": [
           {
            "marker": {
             "colorbar": {
              "outlinewidth": 0,
              "ticks": ""
             }
            },
            "type": "scatterpolargl"
           }
          ],
          "scatterternary": [
           {
            "marker": {
             "colorbar": {
              "outlinewidth": 0,
              "ticks": ""
             }
            },
            "type": "scatterternary"
           }
          ],
          "surface": [
           {
            "colorbar": {
             "outlinewidth": 0,
             "ticks": ""
            },
            "colorscale": [
             [
              0,
              "#0d0887"
             ],
             [
              0.1111111111111111,
              "#46039f"
             ],
             [
              0.2222222222222222,
              "#7201a8"
             ],
             [
              0.3333333333333333,
              "#9c179e"
             ],
             [
              0.4444444444444444,
              "#bd3786"
             ],
             [
              0.5555555555555556,
              "#d8576b"
             ],
             [
              0.6666666666666666,
              "#ed7953"
             ],
             [
              0.7777777777777778,
              "#fb9f3a"
             ],
             [
              0.8888888888888888,
              "#fdca26"
             ],
             [
              1,
              "#f0f921"
             ]
            ],
            "type": "surface"
           }
          ],
          "table": [
           {
            "cells": {
             "fill": {
              "color": "#EBF0F8"
             },
             "line": {
              "color": "white"
             }
            },
            "header": {
             "fill": {
              "color": "#C8D4E3"
             },
             "line": {
              "color": "white"
             }
            },
            "type": "table"
           }
          ]
         },
         "layout": {
          "annotationdefaults": {
           "arrowcolor": "#2a3f5f",
           "arrowhead": 0,
           "arrowwidth": 1
          },
          "autotypenumbers": "strict",
          "coloraxis": {
           "colorbar": {
            "outlinewidth": 0,
            "ticks": ""
           }
          },
          "colorscale": {
           "diverging": [
            [
             0,
             "#8e0152"
            ],
            [
             0.1,
             "#c51b7d"
            ],
            [
             0.2,
             "#de77ae"
            ],
            [
             0.3,
             "#f1b6da"
            ],
            [
             0.4,
             "#fde0ef"
            ],
            [
             0.5,
             "#f7f7f7"
            ],
            [
             0.6,
             "#e6f5d0"
            ],
            [
             0.7,
             "#b8e186"
            ],
            [
             0.8,
             "#7fbc41"
            ],
            [
             0.9,
             "#4d9221"
            ],
            [
             1,
             "#276419"
            ]
           ],
           "sequential": [
            [
             0,
             "#0d0887"
            ],
            [
             0.1111111111111111,
             "#46039f"
            ],
            [
             0.2222222222222222,
             "#7201a8"
            ],
            [
             0.3333333333333333,
             "#9c179e"
            ],
            [
             0.4444444444444444,
             "#bd3786"
            ],
            [
             0.5555555555555556,
             "#d8576b"
            ],
            [
             0.6666666666666666,
             "#ed7953"
            ],
            [
             0.7777777777777778,
             "#fb9f3a"
            ],
            [
             0.8888888888888888,
             "#fdca26"
            ],
            [
             1,
             "#f0f921"
            ]
           ],
           "sequentialminus": [
            [
             0,
             "#0d0887"
            ],
            [
             0.1111111111111111,
             "#46039f"
            ],
            [
             0.2222222222222222,
             "#7201a8"
            ],
            [
             0.3333333333333333,
             "#9c179e"
            ],
            [
             0.4444444444444444,
             "#bd3786"
            ],
            [
             0.5555555555555556,
             "#d8576b"
            ],
            [
             0.6666666666666666,
             "#ed7953"
            ],
            [
             0.7777777777777778,
             "#fb9f3a"
            ],
            [
             0.8888888888888888,
             "#fdca26"
            ],
            [
             1,
             "#f0f921"
            ]
           ]
          },
          "colorway": [
           "#636efa",
           "#EF553B",
           "#00cc96",
           "#ab63fa",
           "#FFA15A",
           "#19d3f3",
           "#FF6692",
           "#B6E880",
           "#FF97FF",
           "#FECB52"
          ],
          "font": {
           "color": "#2a3f5f"
          },
          "geo": {
           "bgcolor": "white",
           "lakecolor": "white",
           "landcolor": "#E5ECF6",
           "showlakes": true,
           "showland": true,
           "subunitcolor": "white"
          },
          "hoverlabel": {
           "align": "left"
          },
          "hovermode": "closest",
          "mapbox": {
           "style": "light"
          },
          "paper_bgcolor": "white",
          "plot_bgcolor": "#E5ECF6",
          "polar": {
           "angularaxis": {
            "gridcolor": "white",
            "linecolor": "white",
            "ticks": ""
           },
           "bgcolor": "#E5ECF6",
           "radialaxis": {
            "gridcolor": "white",
            "linecolor": "white",
            "ticks": ""
           }
          },
          "scene": {
           "xaxis": {
            "backgroundcolor": "#E5ECF6",
            "gridcolor": "white",
            "gridwidth": 2,
            "linecolor": "white",
            "showbackground": true,
            "ticks": "",
            "zerolinecolor": "white"
           },
           "yaxis": {
            "backgroundcolor": "#E5ECF6",
            "gridcolor": "white",
            "gridwidth": 2,
            "linecolor": "white",
            "showbackground": true,
            "ticks": "",
            "zerolinecolor": "white"
           },
           "zaxis": {
            "backgroundcolor": "#E5ECF6",
            "gridcolor": "white",
            "gridwidth": 2,
            "linecolor": "white",
            "showbackground": true,
            "ticks": "",
            "zerolinecolor": "white"
           }
          },
          "shapedefaults": {
           "line": {
            "color": "#2a3f5f"
           }
          },
          "ternary": {
           "aaxis": {
            "gridcolor": "white",
            "linecolor": "white",
            "ticks": ""
           },
           "baxis": {
            "gridcolor": "white",
            "linecolor": "white",
            "ticks": ""
           },
           "bgcolor": "#E5ECF6",
           "caxis": {
            "gridcolor": "white",
            "linecolor": "white",
            "ticks": ""
           }
          },
          "title": {
           "x": 0.05
          },
          "xaxis": {
           "automargin": true,
           "gridcolor": "white",
           "linecolor": "white",
           "ticks": "",
           "title": {
            "standoff": 15
           },
           "zerolinecolor": "white",
           "zerolinewidth": 2
          },
          "yaxis": {
           "automargin": true,
           "gridcolor": "white",
           "linecolor": "white",
           "ticks": "",
           "title": {
            "standoff": 15
           },
           "zerolinecolor": "white",
           "zerolinewidth": 2
          }
         }
        },
        "title": {
         "text": "Accuracies of Different Models"
        },
        "xaxis": {
         "title": {
          "text": "Experiment"
         }
        },
        "yaxis": {
         "range": [
          0,
          100
         ],
         "title": {
          "text": "Accuracy (%)"
         }
        }
       }
      }
     },
     "metadata": {},
     "output_type": "display_data"
    }
   ],
   "source": [
    "# ds = 'Salinas'\n",
    "n_comps = 30\n",
    "\n",
    "plot_acc_by_model(df_results[(df_results['Dataset'] == ds) ])\n",
    "                # & (df_results['N Components'] == n_comps)])"
   ]
  },
  {
   "cell_type": "markdown",
   "metadata": {},
   "source": [
    "## F1 SCORES"
   ]
  },
  {
   "cell_type": "code",
   "execution_count": null,
   "metadata": {},
   "outputs": [
    {
     "data": {
      "application/vnd.plotly.v1+json": {
       "config": {
        "plotlyServerURL": "https://plot.ly"
       },
       "data": [
        {
         "name": "IndianPines_UMAP_8_mou",
         "type": "bar",
         "x": [
          "Undefined",
          "Alfalfa",
          "Corn-notill",
          "Corn-mintill",
          "Corn",
          "Grass-pasture",
          "Grass-trees",
          "Grass-pasture-mowed",
          "Hay-windrowed",
          "Oats",
          "Soybean-notill",
          "Soybean-mintill",
          "Soybean-clean",
          "Wheat",
          "Woods",
          "Buildings-Grass-Trees-Drives",
          "Stone-Steel-Towers"
         ],
         "y": [
          0,
          0.8051948051948052,
          0.8380751668422901,
          0.7851949768671513,
          0.911504424778761,
          0.9062170706006323,
          0.9622132253711201,
          0.7213114754098361,
          0.9845201238390093,
          0.6666666666666666,
          0.8698807672369103,
          0.8919465803318495,
          0.8248113998323554,
          0.9832134292565947,
          0.9605055292259084,
          0.718796992481203,
          0.9945945945945946
         ]
        },
        {
         "name": "IndianPines_UMAP_8_hamida",
         "type": "bar",
         "x": [
          "Undefined",
          "Alfalfa",
          "Corn-notill",
          "Corn-mintill",
          "Corn",
          "Grass-pasture",
          "Grass-trees",
          "Grass-pasture-mowed",
          "Hay-windrowed",
          "Oats",
          "Soybean-notill",
          "Soybean-mintill",
          "Soybean-clean",
          "Wheat",
          "Woods",
          "Buildings-Grass-Trees-Drives",
          "Stone-Steel-Towers"
         ],
         "y": [
          0,
          0.9130434782608695,
          0.9884575026232949,
          0.9339320076972418,
          0.9746835443037974,
          0.9594882729211087,
          0.9945504087193461,
          0.9824561403508771,
          0.9926854754440961,
          1,
          0.9845360824742269,
          0.9812795721045052,
          0.9747048903878583,
          1,
          0.9984214680347278,
          0.8680351906158358,
          1
         ]
        },
        {
         "name": "IndianPines_UMAP_8_li",
         "type": "bar",
         "x": [
          "Undefined",
          "Alfalfa",
          "Corn-notill",
          "Corn-mintill",
          "Corn",
          "Grass-pasture",
          "Grass-trees",
          "Grass-pasture-mowed",
          "Hay-windrowed",
          "Oats",
          "Soybean-notill",
          "Soybean-mintill",
          "Soybean-clean",
          "Wheat",
          "Woods",
          "Buildings-Grass-Trees-Drives",
          "Stone-Steel-Towers"
         ],
         "y": [
          0,
          0.9777777777777777,
          0.988343341575415,
          0.939297124600639,
          0.9854469854469855,
          0.9668449197860962,
          0.9979494190020506,
          1,
          0.9979123173277662,
          1,
          0.985655737704918,
          0.9788196586469258,
          0.9864864864864865,
          1,
          0.9988156336360048,
          0.8879310344827587,
          1
         ]
        },
        {
         "name": "IndianPines_UMAP_8_paoletti",
         "type": "bar",
         "x": [
          "Undefined",
          "Alfalfa",
          "Corn-notill",
          "Corn-mintill",
          "Corn",
          "Grass-pasture",
          "Grass-trees",
          "Grass-pasture-mowed",
          "Hay-windrowed",
          "Oats",
          "Soybean-notill",
          "Soybean-mintill",
          "Soybean-clean",
          "Wheat",
          "Woods",
          "Buildings-Grass-Trees-Drives",
          "Stone-Steel-Towers"
         ],
         "y": [
          0,
          0.6075949367088608,
          0.8379965457685665,
          0.8080438756855576,
          0.8688845401174168,
          0.9130434782608695,
          0.9586114819759679,
          0.6,
          0.9666329625884732,
          0.6666666666666666,
          0.8821656050955414,
          0.8893042575285566,
          0.8017777777777778,
          0.9575471698113207,
          0.9870638965111721,
          0.7651632970451011,
          0.9837837837837838
         ]
        }
       ],
       "layout": {
        "barmode": "group",
        "template": {
         "data": {
          "bar": [
           {
            "error_x": {
             "color": "#2a3f5f"
            },
            "error_y": {
             "color": "#2a3f5f"
            },
            "marker": {
             "line": {
              "color": "#E5ECF6",
              "width": 0.5
             },
             "pattern": {
              "fillmode": "overlay",
              "size": 10,
              "solidity": 0.2
             }
            },
            "type": "bar"
           }
          ],
          "barpolar": [
           {
            "marker": {
             "line": {
              "color": "#E5ECF6",
              "width": 0.5
             },
             "pattern": {
              "fillmode": "overlay",
              "size": 10,
              "solidity": 0.2
             }
            },
            "type": "barpolar"
           }
          ],
          "carpet": [
           {
            "aaxis": {
             "endlinecolor": "#2a3f5f",
             "gridcolor": "white",
             "linecolor": "white",
             "minorgridcolor": "white",
             "startlinecolor": "#2a3f5f"
            },
            "baxis": {
             "endlinecolor": "#2a3f5f",
             "gridcolor": "white",
             "linecolor": "white",
             "minorgridcolor": "white",
             "startlinecolor": "#2a3f5f"
            },
            "type": "carpet"
           }
          ],
          "choropleth": [
           {
            "colorbar": {
             "outlinewidth": 0,
             "ticks": ""
            },
            "type": "choropleth"
           }
          ],
          "contour": [
           {
            "colorbar": {
             "outlinewidth": 0,
             "ticks": ""
            },
            "colorscale": [
             [
              0,
              "#0d0887"
             ],
             [
              0.1111111111111111,
              "#46039f"
             ],
             [
              0.2222222222222222,
              "#7201a8"
             ],
             [
              0.3333333333333333,
              "#9c179e"
             ],
             [
              0.4444444444444444,
              "#bd3786"
             ],
             [
              0.5555555555555556,
              "#d8576b"
             ],
             [
              0.6666666666666666,
              "#ed7953"
             ],
             [
              0.7777777777777778,
              "#fb9f3a"
             ],
             [
              0.8888888888888888,
              "#fdca26"
             ],
             [
              1,
              "#f0f921"
             ]
            ],
            "type": "contour"
           }
          ],
          "contourcarpet": [
           {
            "colorbar": {
             "outlinewidth": 0,
             "ticks": ""
            },
            "type": "contourcarpet"
           }
          ],
          "heatmap": [
           {
            "colorbar": {
             "outlinewidth": 0,
             "ticks": ""
            },
            "colorscale": [
             [
              0,
              "#0d0887"
             ],
             [
              0.1111111111111111,
              "#46039f"
             ],
             [
              0.2222222222222222,
              "#7201a8"
             ],
             [
              0.3333333333333333,
              "#9c179e"
             ],
             [
              0.4444444444444444,
              "#bd3786"
             ],
             [
              0.5555555555555556,
              "#d8576b"
             ],
             [
              0.6666666666666666,
              "#ed7953"
             ],
             [
              0.7777777777777778,
              "#fb9f3a"
             ],
             [
              0.8888888888888888,
              "#fdca26"
             ],
             [
              1,
              "#f0f921"
             ]
            ],
            "type": "heatmap"
           }
          ],
          "heatmapgl": [
           {
            "colorbar": {
             "outlinewidth": 0,
             "ticks": ""
            },
            "colorscale": [
             [
              0,
              "#0d0887"
             ],
             [
              0.1111111111111111,
              "#46039f"
             ],
             [
              0.2222222222222222,
              "#7201a8"
             ],
             [
              0.3333333333333333,
              "#9c179e"
             ],
             [
              0.4444444444444444,
              "#bd3786"
             ],
             [
              0.5555555555555556,
              "#d8576b"
             ],
             [
              0.6666666666666666,
              "#ed7953"
             ],
             [
              0.7777777777777778,
              "#fb9f3a"
             ],
             [
              0.8888888888888888,
              "#fdca26"
             ],
             [
              1,
              "#f0f921"
             ]
            ],
            "type": "heatmapgl"
           }
          ],
          "histogram": [
           {
            "marker": {
             "pattern": {
              "fillmode": "overlay",
              "size": 10,
              "solidity": 0.2
             }
            },
            "type": "histogram"
           }
          ],
          "histogram2d": [
           {
            "colorbar": {
             "outlinewidth": 0,
             "ticks": ""
            },
            "colorscale": [
             [
              0,
              "#0d0887"
             ],
             [
              0.1111111111111111,
              "#46039f"
             ],
             [
              0.2222222222222222,
              "#7201a8"
             ],
             [
              0.3333333333333333,
              "#9c179e"
             ],
             [
              0.4444444444444444,
              "#bd3786"
             ],
             [
              0.5555555555555556,
              "#d8576b"
             ],
             [
              0.6666666666666666,
              "#ed7953"
             ],
             [
              0.7777777777777778,
              "#fb9f3a"
             ],
             [
              0.8888888888888888,
              "#fdca26"
             ],
             [
              1,
              "#f0f921"
             ]
            ],
            "type": "histogram2d"
           }
          ],
          "histogram2dcontour": [
           {
            "colorbar": {
             "outlinewidth": 0,
             "ticks": ""
            },
            "colorscale": [
             [
              0,
              "#0d0887"
             ],
             [
              0.1111111111111111,
              "#46039f"
             ],
             [
              0.2222222222222222,
              "#7201a8"
             ],
             [
              0.3333333333333333,
              "#9c179e"
             ],
             [
              0.4444444444444444,
              "#bd3786"
             ],
             [
              0.5555555555555556,
              "#d8576b"
             ],
             [
              0.6666666666666666,
              "#ed7953"
             ],
             [
              0.7777777777777778,
              "#fb9f3a"
             ],
             [
              0.8888888888888888,
              "#fdca26"
             ],
             [
              1,
              "#f0f921"
             ]
            ],
            "type": "histogram2dcontour"
           }
          ],
          "mesh3d": [
           {
            "colorbar": {
             "outlinewidth": 0,
             "ticks": ""
            },
            "type": "mesh3d"
           }
          ],
          "parcoords": [
           {
            "line": {
             "colorbar": {
              "outlinewidth": 0,
              "ticks": ""
             }
            },
            "type": "parcoords"
           }
          ],
          "pie": [
           {
            "automargin": true,
            "type": "pie"
           }
          ],
          "scatter": [
           {
            "fillpattern": {
             "fillmode": "overlay",
             "size": 10,
             "solidity": 0.2
            },
            "type": "scatter"
           }
          ],
          "scatter3d": [
           {
            "line": {
             "colorbar": {
              "outlinewidth": 0,
              "ticks": ""
             }
            },
            "marker": {
             "colorbar": {
              "outlinewidth": 0,
              "ticks": ""
             }
            },
            "type": "scatter3d"
           }
          ],
          "scattercarpet": [
           {
            "marker": {
             "colorbar": {
              "outlinewidth": 0,
              "ticks": ""
             }
            },
            "type": "scattercarpet"
           }
          ],
          "scattergeo": [
           {
            "marker": {
             "colorbar": {
              "outlinewidth": 0,
              "ticks": ""
             }
            },
            "type": "scattergeo"
           }
          ],
          "scattergl": [
           {
            "marker": {
             "colorbar": {
              "outlinewidth": 0,
              "ticks": ""
             }
            },
            "type": "scattergl"
           }
          ],
          "scattermapbox": [
           {
            "marker": {
             "colorbar": {
              "outlinewidth": 0,
              "ticks": ""
             }
            },
            "type": "scattermapbox"
           }
          ],
          "scatterpolar": [
           {
            "marker": {
             "colorbar": {
              "outlinewidth": 0,
              "ticks": ""
             }
            },
            "type": "scatterpolar"
           }
          ],
          "scatterpolargl": [
           {
            "marker": {
             "colorbar": {
              "outlinewidth": 0,
              "ticks": ""
             }
            },
            "type": "scatterpolargl"
           }
          ],
          "scatterternary": [
           {
            "marker": {
             "colorbar": {
              "outlinewidth": 0,
              "ticks": ""
             }
            },
            "type": "scatterternary"
           }
          ],
          "surface": [
           {
            "colorbar": {
             "outlinewidth": 0,
             "ticks": ""
            },
            "colorscale": [
             [
              0,
              "#0d0887"
             ],
             [
              0.1111111111111111,
              "#46039f"
             ],
             [
              0.2222222222222222,
              "#7201a8"
             ],
             [
              0.3333333333333333,
              "#9c179e"
             ],
             [
              0.4444444444444444,
              "#bd3786"
             ],
             [
              0.5555555555555556,
              "#d8576b"
             ],
             [
              0.6666666666666666,
              "#ed7953"
             ],
             [
              0.7777777777777778,
              "#fb9f3a"
             ],
             [
              0.8888888888888888,
              "#fdca26"
             ],
             [
              1,
              "#f0f921"
             ]
            ],
            "type": "surface"
           }
          ],
          "table": [
           {
            "cells": {
             "fill": {
              "color": "#EBF0F8"
             },
             "line": {
              "color": "white"
             }
            },
            "header": {
             "fill": {
              "color": "#C8D4E3"
             },
             "line": {
              "color": "white"
             }
            },
            "type": "table"
           }
          ]
         },
         "layout": {
          "annotationdefaults": {
           "arrowcolor": "#2a3f5f",
           "arrowhead": 0,
           "arrowwidth": 1
          },
          "autotypenumbers": "strict",
          "coloraxis": {
           "colorbar": {
            "outlinewidth": 0,
            "ticks": ""
           }
          },
          "colorscale": {
           "diverging": [
            [
             0,
             "#8e0152"
            ],
            [
             0.1,
             "#c51b7d"
            ],
            [
             0.2,
             "#de77ae"
            ],
            [
             0.3,
             "#f1b6da"
            ],
            [
             0.4,
             "#fde0ef"
            ],
            [
             0.5,
             "#f7f7f7"
            ],
            [
             0.6,
             "#e6f5d0"
            ],
            [
             0.7,
             "#b8e186"
            ],
            [
             0.8,
             "#7fbc41"
            ],
            [
             0.9,
             "#4d9221"
            ],
            [
             1,
             "#276419"
            ]
           ],
           "sequential": [
            [
             0,
             "#0d0887"
            ],
            [
             0.1111111111111111,
             "#46039f"
            ],
            [
             0.2222222222222222,
             "#7201a8"
            ],
            [
             0.3333333333333333,
             "#9c179e"
            ],
            [
             0.4444444444444444,
             "#bd3786"
            ],
            [
             0.5555555555555556,
             "#d8576b"
            ],
            [
             0.6666666666666666,
             "#ed7953"
            ],
            [
             0.7777777777777778,
             "#fb9f3a"
            ],
            [
             0.8888888888888888,
             "#fdca26"
            ],
            [
             1,
             "#f0f921"
            ]
           ],
           "sequentialminus": [
            [
             0,
             "#0d0887"
            ],
            [
             0.1111111111111111,
             "#46039f"
            ],
            [
             0.2222222222222222,
             "#7201a8"
            ],
            [
             0.3333333333333333,
             "#9c179e"
            ],
            [
             0.4444444444444444,
             "#bd3786"
            ],
            [
             0.5555555555555556,
             "#d8576b"
            ],
            [
             0.6666666666666666,
             "#ed7953"
            ],
            [
             0.7777777777777778,
             "#fb9f3a"
            ],
            [
             0.8888888888888888,
             "#fdca26"
            ],
            [
             1,
             "#f0f921"
            ]
           ]
          },
          "colorway": [
           "#636efa",
           "#EF553B",
           "#00cc96",
           "#ab63fa",
           "#FFA15A",
           "#19d3f3",
           "#FF6692",
           "#B6E880",
           "#FF97FF",
           "#FECB52"
          ],
          "font": {
           "color": "#2a3f5f"
          },
          "geo": {
           "bgcolor": "white",
           "lakecolor": "white",
           "landcolor": "#E5ECF6",
           "showlakes": true,
           "showland": true,
           "subunitcolor": "white"
          },
          "hoverlabel": {
           "align": "left"
          },
          "hovermode": "closest",
          "mapbox": {
           "style": "light"
          },
          "paper_bgcolor": "white",
          "plot_bgcolor": "#E5ECF6",
          "polar": {
           "angularaxis": {
            "gridcolor": "white",
            "linecolor": "white",
            "ticks": ""
           },
           "bgcolor": "#E5ECF6",
           "radialaxis": {
            "gridcolor": "white",
            "linecolor": "white",
            "ticks": ""
           }
          },
          "scene": {
           "xaxis": {
            "backgroundcolor": "#E5ECF6",
            "gridcolor": "white",
            "gridwidth": 2,
            "linecolor": "white",
            "showbackground": true,
            "ticks": "",
            "zerolinecolor": "white"
           },
           "yaxis": {
            "backgroundcolor": "#E5ECF6",
            "gridcolor": "white",
            "gridwidth": 2,
            "linecolor": "white",
            "showbackground": true,
            "ticks": "",
            "zerolinecolor": "white"
           },
           "zaxis": {
            "backgroundcolor": "#E5ECF6",
            "gridcolor": "white",
            "gridwidth": 2,
            "linecolor": "white",
            "showbackground": true,
            "ticks": "",
            "zerolinecolor": "white"
           }
          },
          "shapedefaults": {
           "line": {
            "color": "#2a3f5f"
           }
          },
          "ternary": {
           "aaxis": {
            "gridcolor": "white",
            "linecolor": "white",
            "ticks": ""
           },
           "baxis": {
            "gridcolor": "white",
            "linecolor": "white",
            "ticks": ""
           },
           "bgcolor": "#E5ECF6",
           "caxis": {
            "gridcolor": "white",
            "linecolor": "white",
            "ticks": ""
           }
          },
          "title": {
           "x": 0.05
          },
          "xaxis": {
           "automargin": true,
           "gridcolor": "white",
           "linecolor": "white",
           "ticks": "",
           "title": {
            "standoff": 15
           },
           "zerolinecolor": "white",
           "zerolinewidth": 2
          },
          "yaxis": {
           "automargin": true,
           "gridcolor": "white",
           "linecolor": "white",
           "ticks": "",
           "title": {
            "standoff": 15
           },
           "zerolinecolor": "white",
           "zerolinewidth": 2
          }
         }
        },
        "title": {
         "text": "F1 scores Values by Experiment"
        },
        "xaxis": {
         "title": {
          "text": "Class"
         }
        },
        "yaxis": {
         "title": {
          "text": "F1 scores"
         }
        }
       }
      }
     },
     "metadata": {},
     "output_type": "display_data"
    }
   ],
   "source": [
    "# ds = 'Salinas'\n",
    "# dr = 'PCA'\n",
    "plot_grouped_values(df_results[(df_results['Dataset'] == ds) \n",
    "                & (df_results['DR Method'] == dr)], \n",
    "                LABELS[ds],\n",
    "                metric='F1 scores')"
   ]
  },
  {
   "cell_type": "code",
   "execution_count": null,
   "metadata": {},
   "outputs": [
    {
     "data": {
      "application/vnd.plotly.v1+json": {
       "config": {
        "plotlyServerURL": "https://plot.ly"
       },
       "data": [],
       "layout": {
        "barmode": "group",
        "template": {
         "data": {
          "bar": [
           {
            "error_x": {
             "color": "#2a3f5f"
            },
            "error_y": {
             "color": "#2a3f5f"
            },
            "marker": {
             "line": {
              "color": "#E5ECF6",
              "width": 0.5
             },
             "pattern": {
              "fillmode": "overlay",
              "size": 10,
              "solidity": 0.2
             }
            },
            "type": "bar"
           }
          ],
          "barpolar": [
           {
            "marker": {
             "line": {
              "color": "#E5ECF6",
              "width": 0.5
             },
             "pattern": {
              "fillmode": "overlay",
              "size": 10,
              "solidity": 0.2
             }
            },
            "type": "barpolar"
           }
          ],
          "carpet": [
           {
            "aaxis": {
             "endlinecolor": "#2a3f5f",
             "gridcolor": "white",
             "linecolor": "white",
             "minorgridcolor": "white",
             "startlinecolor": "#2a3f5f"
            },
            "baxis": {
             "endlinecolor": "#2a3f5f",
             "gridcolor": "white",
             "linecolor": "white",
             "minorgridcolor": "white",
             "startlinecolor": "#2a3f5f"
            },
            "type": "carpet"
           }
          ],
          "choropleth": [
           {
            "colorbar": {
             "outlinewidth": 0,
             "ticks": ""
            },
            "type": "choropleth"
           }
          ],
          "contour": [
           {
            "colorbar": {
             "outlinewidth": 0,
             "ticks": ""
            },
            "colorscale": [
             [
              0,
              "#0d0887"
             ],
             [
              0.1111111111111111,
              "#46039f"
             ],
             [
              0.2222222222222222,
              "#7201a8"
             ],
             [
              0.3333333333333333,
              "#9c179e"
             ],
             [
              0.4444444444444444,
              "#bd3786"
             ],
             [
              0.5555555555555556,
              "#d8576b"
             ],
             [
              0.6666666666666666,
              "#ed7953"
             ],
             [
              0.7777777777777778,
              "#fb9f3a"
             ],
             [
              0.8888888888888888,
              "#fdca26"
             ],
             [
              1,
              "#f0f921"
             ]
            ],
            "type": "contour"
           }
          ],
          "contourcarpet": [
           {
            "colorbar": {
             "outlinewidth": 0,
             "ticks": ""
            },
            "type": "contourcarpet"
           }
          ],
          "heatmap": [
           {
            "colorbar": {
             "outlinewidth": 0,
             "ticks": ""
            },
            "colorscale": [
             [
              0,
              "#0d0887"
             ],
             [
              0.1111111111111111,
              "#46039f"
             ],
             [
              0.2222222222222222,
              "#7201a8"
             ],
             [
              0.3333333333333333,
              "#9c179e"
             ],
             [
              0.4444444444444444,
              "#bd3786"
             ],
             [
              0.5555555555555556,
              "#d8576b"
             ],
             [
              0.6666666666666666,
              "#ed7953"
             ],
             [
              0.7777777777777778,
              "#fb9f3a"
             ],
             [
              0.8888888888888888,
              "#fdca26"
             ],
             [
              1,
              "#f0f921"
             ]
            ],
            "type": "heatmap"
           }
          ],
          "heatmapgl": [
           {
            "colorbar": {
             "outlinewidth": 0,
             "ticks": ""
            },
            "colorscale": [
             [
              0,
              "#0d0887"
             ],
             [
              0.1111111111111111,
              "#46039f"
             ],
             [
              0.2222222222222222,
              "#7201a8"
             ],
             [
              0.3333333333333333,
              "#9c179e"
             ],
             [
              0.4444444444444444,
              "#bd3786"
             ],
             [
              0.5555555555555556,
              "#d8576b"
             ],
             [
              0.6666666666666666,
              "#ed7953"
             ],
             [
              0.7777777777777778,
              "#fb9f3a"
             ],
             [
              0.8888888888888888,
              "#fdca26"
             ],
             [
              1,
              "#f0f921"
             ]
            ],
            "type": "heatmapgl"
           }
          ],
          "histogram": [
           {
            "marker": {
             "pattern": {
              "fillmode": "overlay",
              "size": 10,
              "solidity": 0.2
             }
            },
            "type": "histogram"
           }
          ],
          "histogram2d": [
           {
            "colorbar": {
             "outlinewidth": 0,
             "ticks": ""
            },
            "colorscale": [
             [
              0,
              "#0d0887"
             ],
             [
              0.1111111111111111,
              "#46039f"
             ],
             [
              0.2222222222222222,
              "#7201a8"
             ],
             [
              0.3333333333333333,
              "#9c179e"
             ],
             [
              0.4444444444444444,
              "#bd3786"
             ],
             [
              0.5555555555555556,
              "#d8576b"
             ],
             [
              0.6666666666666666,
              "#ed7953"
             ],
             [
              0.7777777777777778,
              "#fb9f3a"
             ],
             [
              0.8888888888888888,
              "#fdca26"
             ],
             [
              1,
              "#f0f921"
             ]
            ],
            "type": "histogram2d"
           }
          ],
          "histogram2dcontour": [
           {
            "colorbar": {
             "outlinewidth": 0,
             "ticks": ""
            },
            "colorscale": [
             [
              0,
              "#0d0887"
             ],
             [
              0.1111111111111111,
              "#46039f"
             ],
             [
              0.2222222222222222,
              "#7201a8"
             ],
             [
              0.3333333333333333,
              "#9c179e"
             ],
             [
              0.4444444444444444,
              "#bd3786"
             ],
             [
              0.5555555555555556,
              "#d8576b"
             ],
             [
              0.6666666666666666,
              "#ed7953"
             ],
             [
              0.7777777777777778,
              "#fb9f3a"
             ],
             [
              0.8888888888888888,
              "#fdca26"
             ],
             [
              1,
              "#f0f921"
             ]
            ],
            "type": "histogram2dcontour"
           }
          ],
          "mesh3d": [
           {
            "colorbar": {
             "outlinewidth": 0,
             "ticks": ""
            },
            "type": "mesh3d"
           }
          ],
          "parcoords": [
           {
            "line": {
             "colorbar": {
              "outlinewidth": 0,
              "ticks": ""
             }
            },
            "type": "parcoords"
           }
          ],
          "pie": [
           {
            "automargin": true,
            "type": "pie"
           }
          ],
          "scatter": [
           {
            "fillpattern": {
             "fillmode": "overlay",
             "size": 10,
             "solidity": 0.2
            },
            "type": "scatter"
           }
          ],
          "scatter3d": [
           {
            "line": {
             "colorbar": {
              "outlinewidth": 0,
              "ticks": ""
             }
            },
            "marker": {
             "colorbar": {
              "outlinewidth": 0,
              "ticks": ""
             }
            },
            "type": "scatter3d"
           }
          ],
          "scattercarpet": [
           {
            "marker": {
             "colorbar": {
              "outlinewidth": 0,
              "ticks": ""
             }
            },
            "type": "scattercarpet"
           }
          ],
          "scattergeo": [
           {
            "marker": {
             "colorbar": {
              "outlinewidth": 0,
              "ticks": ""
             }
            },
            "type": "scattergeo"
           }
          ],
          "scattergl": [
           {
            "marker": {
             "colorbar": {
              "outlinewidth": 0,
              "ticks": ""
             }
            },
            "type": "scattergl"
           }
          ],
          "scattermapbox": [
           {
            "marker": {
             "colorbar": {
              "outlinewidth": 0,
              "ticks": ""
             }
            },
            "type": "scattermapbox"
           }
          ],
          "scatterpolar": [
           {
            "marker": {
             "colorbar": {
              "outlinewidth": 0,
              "ticks": ""
             }
            },
            "type": "scatterpolar"
           }
          ],
          "scatterpolargl": [
           {
            "marker": {
             "colorbar": {
              "outlinewidth": 0,
              "ticks": ""
             }
            },
            "type": "scatterpolargl"
           }
          ],
          "scatterternary": [
           {
            "marker": {
             "colorbar": {
              "outlinewidth": 0,
              "ticks": ""
             }
            },
            "type": "scatterternary"
           }
          ],
          "surface": [
           {
            "colorbar": {
             "outlinewidth": 0,
             "ticks": ""
            },
            "colorscale": [
             [
              0,
              "#0d0887"
             ],
             [
              0.1111111111111111,
              "#46039f"
             ],
             [
              0.2222222222222222,
              "#7201a8"
             ],
             [
              0.3333333333333333,
              "#9c179e"
             ],
             [
              0.4444444444444444,
              "#bd3786"
             ],
             [
              0.5555555555555556,
              "#d8576b"
             ],
             [
              0.6666666666666666,
              "#ed7953"
             ],
             [
              0.7777777777777778,
              "#fb9f3a"
             ],
             [
              0.8888888888888888,
              "#fdca26"
             ],
             [
              1,
              "#f0f921"
             ]
            ],
            "type": "surface"
           }
          ],
          "table": [
           {
            "cells": {
             "fill": {
              "color": "#EBF0F8"
             },
             "line": {
              "color": "white"
             }
            },
            "header": {
             "fill": {
              "color": "#C8D4E3"
             },
             "line": {
              "color": "white"
             }
            },
            "type": "table"
           }
          ]
         },
         "layout": {
          "annotationdefaults": {
           "arrowcolor": "#2a3f5f",
           "arrowhead": 0,
           "arrowwidth": 1
          },
          "autotypenumbers": "strict",
          "coloraxis": {
           "colorbar": {
            "outlinewidth": 0,
            "ticks": ""
           }
          },
          "colorscale": {
           "diverging": [
            [
             0,
             "#8e0152"
            ],
            [
             0.1,
             "#c51b7d"
            ],
            [
             0.2,
             "#de77ae"
            ],
            [
             0.3,
             "#f1b6da"
            ],
            [
             0.4,
             "#fde0ef"
            ],
            [
             0.5,
             "#f7f7f7"
            ],
            [
             0.6,
             "#e6f5d0"
            ],
            [
             0.7,
             "#b8e186"
            ],
            [
             0.8,
             "#7fbc41"
            ],
            [
             0.9,
             "#4d9221"
            ],
            [
             1,
             "#276419"
            ]
           ],
           "sequential": [
            [
             0,
             "#0d0887"
            ],
            [
             0.1111111111111111,
             "#46039f"
            ],
            [
             0.2222222222222222,
             "#7201a8"
            ],
            [
             0.3333333333333333,
             "#9c179e"
            ],
            [
             0.4444444444444444,
             "#bd3786"
            ],
            [
             0.5555555555555556,
             "#d8576b"
            ],
            [
             0.6666666666666666,
             "#ed7953"
            ],
            [
             0.7777777777777778,
             "#fb9f3a"
            ],
            [
             0.8888888888888888,
             "#fdca26"
            ],
            [
             1,
             "#f0f921"
            ]
           ],
           "sequentialminus": [
            [
             0,
             "#0d0887"
            ],
            [
             0.1111111111111111,
             "#46039f"
            ],
            [
             0.2222222222222222,
             "#7201a8"
            ],
            [
             0.3333333333333333,
             "#9c179e"
            ],
            [
             0.4444444444444444,
             "#bd3786"
            ],
            [
             0.5555555555555556,
             "#d8576b"
            ],
            [
             0.6666666666666666,
             "#ed7953"
            ],
            [
             0.7777777777777778,
             "#fb9f3a"
            ],
            [
             0.8888888888888888,
             "#fdca26"
            ],
            [
             1,
             "#f0f921"
            ]
           ]
          },
          "colorway": [
           "#636efa",
           "#EF553B",
           "#00cc96",
           "#ab63fa",
           "#FFA15A",
           "#19d3f3",
           "#FF6692",
           "#B6E880",
           "#FF97FF",
           "#FECB52"
          ],
          "font": {
           "color": "#2a3f5f"
          },
          "geo": {
           "bgcolor": "white",
           "lakecolor": "white",
           "landcolor": "#E5ECF6",
           "showlakes": true,
           "showland": true,
           "subunitcolor": "white"
          },
          "hoverlabel": {
           "align": "left"
          },
          "hovermode": "closest",
          "mapbox": {
           "style": "light"
          },
          "paper_bgcolor": "white",
          "plot_bgcolor": "#E5ECF6",
          "polar": {
           "angularaxis": {
            "gridcolor": "white",
            "linecolor": "white",
            "ticks": ""
           },
           "bgcolor": "#E5ECF6",
           "radialaxis": {
            "gridcolor": "white",
            "linecolor": "white",
            "ticks": ""
           }
          },
          "scene": {
           "xaxis": {
            "backgroundcolor": "#E5ECF6",
            "gridcolor": "white",
            "gridwidth": 2,
            "linecolor": "white",
            "showbackground": true,
            "ticks": "",
            "zerolinecolor": "white"
           },
           "yaxis": {
            "backgroundcolor": "#E5ECF6",
            "gridcolor": "white",
            "gridwidth": 2,
            "linecolor": "white",
            "showbackground": true,
            "ticks": "",
            "zerolinecolor": "white"
           },
           "zaxis": {
            "backgroundcolor": "#E5ECF6",
            "gridcolor": "white",
            "gridwidth": 2,
            "linecolor": "white",
            "showbackground": true,
            "ticks": "",
            "zerolinecolor": "white"
           }
          },
          "shapedefaults": {
           "line": {
            "color": "#2a3f5f"
           }
          },
          "ternary": {
           "aaxis": {
            "gridcolor": "white",
            "linecolor": "white",
            "ticks": ""
           },
           "baxis": {
            "gridcolor": "white",
            "linecolor": "white",
            "ticks": ""
           },
           "bgcolor": "#E5ECF6",
           "caxis": {
            "gridcolor": "white",
            "linecolor": "white",
            "ticks": ""
           }
          },
          "title": {
           "x": 0.05
          },
          "xaxis": {
           "automargin": true,
           "gridcolor": "white",
           "linecolor": "white",
           "ticks": "",
           "title": {
            "standoff": 15
           },
           "zerolinecolor": "white",
           "zerolinewidth": 2
          },
          "yaxis": {
           "automargin": true,
           "gridcolor": "white",
           "linecolor": "white",
           "ticks": "",
           "title": {
            "standoff": 15
           },
           "zerolinecolor": "white",
           "zerolinewidth": 2
          }
         }
        },
        "title": {
         "text": "F1 scores Values by Experiment"
        },
        "xaxis": {
         "title": {
          "text": "Class"
         }
        },
        "yaxis": {
         "title": {
          "text": "F1 scores"
         }
        }
       }
      }
     },
     "metadata": {},
     "output_type": "display_data"
    }
   ],
   "source": [
    "ds = 'Salinas'\n",
    "dr = 'PCA'\n",
    "model = 'mou'\n",
    "plot_grouped_values(df_results[(df_results['Dataset'] == ds) \n",
    "                & (df_results['DR Method'] == dr)\n",
    "                & (df_results['Model'] ==  model)], \n",
    "                LABELS[ds],\n",
    "                metric='F1 scores')"
   ]
  },
  {
   "cell_type": "markdown",
   "metadata": {},
   "source": [
    "## IOU SCORES"
   ]
  },
  {
   "cell_type": "code",
   "execution_count": null,
   "metadata": {},
   "outputs": [
    {
     "data": {
      "application/vnd.plotly.v1+json": {
       "config": {
        "plotlyServerURL": "https://plot.ly"
       },
       "data": [],
       "layout": {
        "barmode": "group",
        "template": {
         "data": {
          "bar": [
           {
            "error_x": {
             "color": "#2a3f5f"
            },
            "error_y": {
             "color": "#2a3f5f"
            },
            "marker": {
             "line": {
              "color": "#E5ECF6",
              "width": 0.5
             },
             "pattern": {
              "fillmode": "overlay",
              "size": 10,
              "solidity": 0.2
             }
            },
            "type": "bar"
           }
          ],
          "barpolar": [
           {
            "marker": {
             "line": {
              "color": "#E5ECF6",
              "width": 0.5
             },
             "pattern": {
              "fillmode": "overlay",
              "size": 10,
              "solidity": 0.2
             }
            },
            "type": "barpolar"
           }
          ],
          "carpet": [
           {
            "aaxis": {
             "endlinecolor": "#2a3f5f",
             "gridcolor": "white",
             "linecolor": "white",
             "minorgridcolor": "white",
             "startlinecolor": "#2a3f5f"
            },
            "baxis": {
             "endlinecolor": "#2a3f5f",
             "gridcolor": "white",
             "linecolor": "white",
             "minorgridcolor": "white",
             "startlinecolor": "#2a3f5f"
            },
            "type": "carpet"
           }
          ],
          "choropleth": [
           {
            "colorbar": {
             "outlinewidth": 0,
             "ticks": ""
            },
            "type": "choropleth"
           }
          ],
          "contour": [
           {
            "colorbar": {
             "outlinewidth": 0,
             "ticks": ""
            },
            "colorscale": [
             [
              0,
              "#0d0887"
             ],
             [
              0.1111111111111111,
              "#46039f"
             ],
             [
              0.2222222222222222,
              "#7201a8"
             ],
             [
              0.3333333333333333,
              "#9c179e"
             ],
             [
              0.4444444444444444,
              "#bd3786"
             ],
             [
              0.5555555555555556,
              "#d8576b"
             ],
             [
              0.6666666666666666,
              "#ed7953"
             ],
             [
              0.7777777777777778,
              "#fb9f3a"
             ],
             [
              0.8888888888888888,
              "#fdca26"
             ],
             [
              1,
              "#f0f921"
             ]
            ],
            "type": "contour"
           }
          ],
          "contourcarpet": [
           {
            "colorbar": {
             "outlinewidth": 0,
             "ticks": ""
            },
            "type": "contourcarpet"
           }
          ],
          "heatmap": [
           {
            "colorbar": {
             "outlinewidth": 0,
             "ticks": ""
            },
            "colorscale": [
             [
              0,
              "#0d0887"
             ],
             [
              0.1111111111111111,
              "#46039f"
             ],
             [
              0.2222222222222222,
              "#7201a8"
             ],
             [
              0.3333333333333333,
              "#9c179e"
             ],
             [
              0.4444444444444444,
              "#bd3786"
             ],
             [
              0.5555555555555556,
              "#d8576b"
             ],
             [
              0.6666666666666666,
              "#ed7953"
             ],
             [
              0.7777777777777778,
              "#fb9f3a"
             ],
             [
              0.8888888888888888,
              "#fdca26"
             ],
             [
              1,
              "#f0f921"
             ]
            ],
            "type": "heatmap"
           }
          ],
          "heatmapgl": [
           {
            "colorbar": {
             "outlinewidth": 0,
             "ticks": ""
            },
            "colorscale": [
             [
              0,
              "#0d0887"
             ],
             [
              0.1111111111111111,
              "#46039f"
             ],
             [
              0.2222222222222222,
              "#7201a8"
             ],
             [
              0.3333333333333333,
              "#9c179e"
             ],
             [
              0.4444444444444444,
              "#bd3786"
             ],
             [
              0.5555555555555556,
              "#d8576b"
             ],
             [
              0.6666666666666666,
              "#ed7953"
             ],
             [
              0.7777777777777778,
              "#fb9f3a"
             ],
             [
              0.8888888888888888,
              "#fdca26"
             ],
             [
              1,
              "#f0f921"
             ]
            ],
            "type": "heatmapgl"
           }
          ],
          "histogram": [
           {
            "marker": {
             "pattern": {
              "fillmode": "overlay",
              "size": 10,
              "solidity": 0.2
             }
            },
            "type": "histogram"
           }
          ],
          "histogram2d": [
           {
            "colorbar": {
             "outlinewidth": 0,
             "ticks": ""
            },
            "colorscale": [
             [
              0,
              "#0d0887"
             ],
             [
              0.1111111111111111,
              "#46039f"
             ],
             [
              0.2222222222222222,
              "#7201a8"
             ],
             [
              0.3333333333333333,
              "#9c179e"
             ],
             [
              0.4444444444444444,
              "#bd3786"
             ],
             [
              0.5555555555555556,
              "#d8576b"
             ],
             [
              0.6666666666666666,
              "#ed7953"
             ],
             [
              0.7777777777777778,
              "#fb9f3a"
             ],
             [
              0.8888888888888888,
              "#fdca26"
             ],
             [
              1,
              "#f0f921"
             ]
            ],
            "type": "histogram2d"
           }
          ],
          "histogram2dcontour": [
           {
            "colorbar": {
             "outlinewidth": 0,
             "ticks": ""
            },
            "colorscale": [
             [
              0,
              "#0d0887"
             ],
             [
              0.1111111111111111,
              "#46039f"
             ],
             [
              0.2222222222222222,
              "#7201a8"
             ],
             [
              0.3333333333333333,
              "#9c179e"
             ],
             [
              0.4444444444444444,
              "#bd3786"
             ],
             [
              0.5555555555555556,
              "#d8576b"
             ],
             [
              0.6666666666666666,
              "#ed7953"
             ],
             [
              0.7777777777777778,
              "#fb9f3a"
             ],
             [
              0.8888888888888888,
              "#fdca26"
             ],
             [
              1,
              "#f0f921"
             ]
            ],
            "type": "histogram2dcontour"
           }
          ],
          "mesh3d": [
           {
            "colorbar": {
             "outlinewidth": 0,
             "ticks": ""
            },
            "type": "mesh3d"
           }
          ],
          "parcoords": [
           {
            "line": {
             "colorbar": {
              "outlinewidth": 0,
              "ticks": ""
             }
            },
            "type": "parcoords"
           }
          ],
          "pie": [
           {
            "automargin": true,
            "type": "pie"
           }
          ],
          "scatter": [
           {
            "fillpattern": {
             "fillmode": "overlay",
             "size": 10,
             "solidity": 0.2
            },
            "type": "scatter"
           }
          ],
          "scatter3d": [
           {
            "line": {
             "colorbar": {
              "outlinewidth": 0,
              "ticks": ""
             }
            },
            "marker": {
             "colorbar": {
              "outlinewidth": 0,
              "ticks": ""
             }
            },
            "type": "scatter3d"
           }
          ],
          "scattercarpet": [
           {
            "marker": {
             "colorbar": {
              "outlinewidth": 0,
              "ticks": ""
             }
            },
            "type": "scattercarpet"
           }
          ],
          "scattergeo": [
           {
            "marker": {
             "colorbar": {
              "outlinewidth": 0,
              "ticks": ""
             }
            },
            "type": "scattergeo"
           }
          ],
          "scattergl": [
           {
            "marker": {
             "colorbar": {
              "outlinewidth": 0,
              "ticks": ""
             }
            },
            "type": "scattergl"
           }
          ],
          "scattermapbox": [
           {
            "marker": {
             "colorbar": {
              "outlinewidth": 0,
              "ticks": ""
             }
            },
            "type": "scattermapbox"
           }
          ],
          "scatterpolar": [
           {
            "marker": {
             "colorbar": {
              "outlinewidth": 0,
              "ticks": ""
             }
            },
            "type": "scatterpolar"
           }
          ],
          "scatterpolargl": [
           {
            "marker": {
             "colorbar": {
              "outlinewidth": 0,
              "ticks": ""
             }
            },
            "type": "scatterpolargl"
           }
          ],
          "scatterternary": [
           {
            "marker": {
             "colorbar": {
              "outlinewidth": 0,
              "ticks": ""
             }
            },
            "type": "scatterternary"
           }
          ],
          "surface": [
           {
            "colorbar": {
             "outlinewidth": 0,
             "ticks": ""
            },
            "colorscale": [
             [
              0,
              "#0d0887"
             ],
             [
              0.1111111111111111,
              "#46039f"
             ],
             [
              0.2222222222222222,
              "#7201a8"
             ],
             [
              0.3333333333333333,
              "#9c179e"
             ],
             [
              0.4444444444444444,
              "#bd3786"
             ],
             [
              0.5555555555555556,
              "#d8576b"
             ],
             [
              0.6666666666666666,
              "#ed7953"
             ],
             [
              0.7777777777777778,
              "#fb9f3a"
             ],
             [
              0.8888888888888888,
              "#fdca26"
             ],
             [
              1,
              "#f0f921"
             ]
            ],
            "type": "surface"
           }
          ],
          "table": [
           {
            "cells": {
             "fill": {
              "color": "#EBF0F8"
             },
             "line": {
              "color": "white"
             }
            },
            "header": {
             "fill": {
              "color": "#C8D4E3"
             },
             "line": {
              "color": "white"
             }
            },
            "type": "table"
           }
          ]
         },
         "layout": {
          "annotationdefaults": {
           "arrowcolor": "#2a3f5f",
           "arrowhead": 0,
           "arrowwidth": 1
          },
          "autotypenumbers": "strict",
          "coloraxis": {
           "colorbar": {
            "outlinewidth": 0,
            "ticks": ""
           }
          },
          "colorscale": {
           "diverging": [
            [
             0,
             "#8e0152"
            ],
            [
             0.1,
             "#c51b7d"
            ],
            [
             0.2,
             "#de77ae"
            ],
            [
             0.3,
             "#f1b6da"
            ],
            [
             0.4,
             "#fde0ef"
            ],
            [
             0.5,
             "#f7f7f7"
            ],
            [
             0.6,
             "#e6f5d0"
            ],
            [
             0.7,
             "#b8e186"
            ],
            [
             0.8,
             "#7fbc41"
            ],
            [
             0.9,
             "#4d9221"
            ],
            [
             1,
             "#276419"
            ]
           ],
           "sequential": [
            [
             0,
             "#0d0887"
            ],
            [
             0.1111111111111111,
             "#46039f"
            ],
            [
             0.2222222222222222,
             "#7201a8"
            ],
            [
             0.3333333333333333,
             "#9c179e"
            ],
            [
             0.4444444444444444,
             "#bd3786"
            ],
            [
             0.5555555555555556,
             "#d8576b"
            ],
            [
             0.6666666666666666,
             "#ed7953"
            ],
            [
             0.7777777777777778,
             "#fb9f3a"
            ],
            [
             0.8888888888888888,
             "#fdca26"
            ],
            [
             1,
             "#f0f921"
            ]
           ],
           "sequentialminus": [
            [
             0,
             "#0d0887"
            ],
            [
             0.1111111111111111,
             "#46039f"
            ],
            [
             0.2222222222222222,
             "#7201a8"
            ],
            [
             0.3333333333333333,
             "#9c179e"
            ],
            [
             0.4444444444444444,
             "#bd3786"
            ],
            [
             0.5555555555555556,
             "#d8576b"
            ],
            [
             0.6666666666666666,
             "#ed7953"
            ],
            [
             0.7777777777777778,
             "#fb9f3a"
            ],
            [
             0.8888888888888888,
             "#fdca26"
            ],
            [
             1,
             "#f0f921"
            ]
           ]
          },
          "colorway": [
           "#636efa",
           "#EF553B",
           "#00cc96",
           "#ab63fa",
           "#FFA15A",
           "#19d3f3",
           "#FF6692",
           "#B6E880",
           "#FF97FF",
           "#FECB52"
          ],
          "font": {
           "color": "#2a3f5f"
          },
          "geo": {
           "bgcolor": "white",
           "lakecolor": "white",
           "landcolor": "#E5ECF6",
           "showlakes": true,
           "showland": true,
           "subunitcolor": "white"
          },
          "hoverlabel": {
           "align": "left"
          },
          "hovermode": "closest",
          "mapbox": {
           "style": "light"
          },
          "paper_bgcolor": "white",
          "plot_bgcolor": "#E5ECF6",
          "polar": {
           "angularaxis": {
            "gridcolor": "white",
            "linecolor": "white",
            "ticks": ""
           },
           "bgcolor": "#E5ECF6",
           "radialaxis": {
            "gridcolor": "white",
            "linecolor": "white",
            "ticks": ""
           }
          },
          "scene": {
           "xaxis": {
            "backgroundcolor": "#E5ECF6",
            "gridcolor": "white",
            "gridwidth": 2,
            "linecolor": "white",
            "showbackground": true,
            "ticks": "",
            "zerolinecolor": "white"
           },
           "yaxis": {
            "backgroundcolor": "#E5ECF6",
            "gridcolor": "white",
            "gridwidth": 2,
            "linecolor": "white",
            "showbackground": true,
            "ticks": "",
            "zerolinecolor": "white"
           },
           "zaxis": {
            "backgroundcolor": "#E5ECF6",
            "gridcolor": "white",
            "gridwidth": 2,
            "linecolor": "white",
            "showbackground": true,
            "ticks": "",
            "zerolinecolor": "white"
           }
          },
          "shapedefaults": {
           "line": {
            "color": "#2a3f5f"
           }
          },
          "ternary": {
           "aaxis": {
            "gridcolor": "white",
            "linecolor": "white",
            "ticks": ""
           },
           "baxis": {
            "gridcolor": "white",
            "linecolor": "white",
            "ticks": ""
           },
           "bgcolor": "#E5ECF6",
           "caxis": {
            "gridcolor": "white",
            "linecolor": "white",
            "ticks": ""
           }
          },
          "title": {
           "x": 0.05
          },
          "xaxis": {
           "automargin": true,
           "gridcolor": "white",
           "linecolor": "white",
           "ticks": "",
           "title": {
            "standoff": 15
           },
           "zerolinecolor": "white",
           "zerolinewidth": 2
          },
          "yaxis": {
           "automargin": true,
           "gridcolor": "white",
           "linecolor": "white",
           "ticks": "",
           "title": {
            "standoff": 15
           },
           "zerolinecolor": "white",
           "zerolinewidth": 2
          }
         }
        },
        "title": {
         "text": "IOU Values by Experiment"
        },
        "xaxis": {
         "title": {
          "text": "Class"
         }
        },
        "yaxis": {
         "title": {
          "text": "IOU"
         }
        }
       }
      }
     },
     "metadata": {},
     "output_type": "display_data"
    },
    {
     "data": {
      "application/vnd.plotly.v1+json": {
       "config": {
        "plotlyServerURL": "https://plot.ly"
       },
       "data": [],
       "layout": {
        "barmode": "group",
        "template": {
         "data": {
          "bar": [
           {
            "error_x": {
             "color": "#2a3f5f"
            },
            "error_y": {
             "color": "#2a3f5f"
            },
            "marker": {
             "line": {
              "color": "#E5ECF6",
              "width": 0.5
             },
             "pattern": {
              "fillmode": "overlay",
              "size": 10,
              "solidity": 0.2
             }
            },
            "type": "bar"
           }
          ],
          "barpolar": [
           {
            "marker": {
             "line": {
              "color": "#E5ECF6",
              "width": 0.5
             },
             "pattern": {
              "fillmode": "overlay",
              "size": 10,
              "solidity": 0.2
             }
            },
            "type": "barpolar"
           }
          ],
          "carpet": [
           {
            "aaxis": {
             "endlinecolor": "#2a3f5f",
             "gridcolor": "white",
             "linecolor": "white",
             "minorgridcolor": "white",
             "startlinecolor": "#2a3f5f"
            },
            "baxis": {
             "endlinecolor": "#2a3f5f",
             "gridcolor": "white",
             "linecolor": "white",
             "minorgridcolor": "white",
             "startlinecolor": "#2a3f5f"
            },
            "type": "carpet"
           }
          ],
          "choropleth": [
           {
            "colorbar": {
             "outlinewidth": 0,
             "ticks": ""
            },
            "type": "choropleth"
           }
          ],
          "contour": [
           {
            "colorbar": {
             "outlinewidth": 0,
             "ticks": ""
            },
            "colorscale": [
             [
              0,
              "#0d0887"
             ],
             [
              0.1111111111111111,
              "#46039f"
             ],
             [
              0.2222222222222222,
              "#7201a8"
             ],
             [
              0.3333333333333333,
              "#9c179e"
             ],
             [
              0.4444444444444444,
              "#bd3786"
             ],
             [
              0.5555555555555556,
              "#d8576b"
             ],
             [
              0.6666666666666666,
              "#ed7953"
             ],
             [
              0.7777777777777778,
              "#fb9f3a"
             ],
             [
              0.8888888888888888,
              "#fdca26"
             ],
             [
              1,
              "#f0f921"
             ]
            ],
            "type": "contour"
           }
          ],
          "contourcarpet": [
           {
            "colorbar": {
             "outlinewidth": 0,
             "ticks": ""
            },
            "type": "contourcarpet"
           }
          ],
          "heatmap": [
           {
            "colorbar": {
             "outlinewidth": 0,
             "ticks": ""
            },
            "colorscale": [
             [
              0,
              "#0d0887"
             ],
             [
              0.1111111111111111,
              "#46039f"
             ],
             [
              0.2222222222222222,
              "#7201a8"
             ],
             [
              0.3333333333333333,
              "#9c179e"
             ],
             [
              0.4444444444444444,
              "#bd3786"
             ],
             [
              0.5555555555555556,
              "#d8576b"
             ],
             [
              0.6666666666666666,
              "#ed7953"
             ],
             [
              0.7777777777777778,
              "#fb9f3a"
             ],
             [
              0.8888888888888888,
              "#fdca26"
             ],
             [
              1,
              "#f0f921"
             ]
            ],
            "type": "heatmap"
           }
          ],
          "heatmapgl": [
           {
            "colorbar": {
             "outlinewidth": 0,
             "ticks": ""
            },
            "colorscale": [
             [
              0,
              "#0d0887"
             ],
             [
              0.1111111111111111,
              "#46039f"
             ],
             [
              0.2222222222222222,
              "#7201a8"
             ],
             [
              0.3333333333333333,
              "#9c179e"
             ],
             [
              0.4444444444444444,
              "#bd3786"
             ],
             [
              0.5555555555555556,
              "#d8576b"
             ],
             [
              0.6666666666666666,
              "#ed7953"
             ],
             [
              0.7777777777777778,
              "#fb9f3a"
             ],
             [
              0.8888888888888888,
              "#fdca26"
             ],
             [
              1,
              "#f0f921"
             ]
            ],
            "type": "heatmapgl"
           }
          ],
          "histogram": [
           {
            "marker": {
             "pattern": {
              "fillmode": "overlay",
              "size": 10,
              "solidity": 0.2
             }
            },
            "type": "histogram"
           }
          ],
          "histogram2d": [
           {
            "colorbar": {
             "outlinewidth": 0,
             "ticks": ""
            },
            "colorscale": [
             [
              0,
              "#0d0887"
             ],
             [
              0.1111111111111111,
              "#46039f"
             ],
             [
              0.2222222222222222,
              "#7201a8"
             ],
             [
              0.3333333333333333,
              "#9c179e"
             ],
             [
              0.4444444444444444,
              "#bd3786"
             ],
             [
              0.5555555555555556,
              "#d8576b"
             ],
             [
              0.6666666666666666,
              "#ed7953"
             ],
             [
              0.7777777777777778,
              "#fb9f3a"
             ],
             [
              0.8888888888888888,
              "#fdca26"
             ],
             [
              1,
              "#f0f921"
             ]
            ],
            "type": "histogram2d"
           }
          ],
          "histogram2dcontour": [
           {
            "colorbar": {
             "outlinewidth": 0,
             "ticks": ""
            },
            "colorscale": [
             [
              0,
              "#0d0887"
             ],
             [
              0.1111111111111111,
              "#46039f"
             ],
             [
              0.2222222222222222,
              "#7201a8"
             ],
             [
              0.3333333333333333,
              "#9c179e"
             ],
             [
              0.4444444444444444,
              "#bd3786"
             ],
             [
              0.5555555555555556,
              "#d8576b"
             ],
             [
              0.6666666666666666,
              "#ed7953"
             ],
             [
              0.7777777777777778,
              "#fb9f3a"
             ],
             [
              0.8888888888888888,
              "#fdca26"
             ],
             [
              1,
              "#f0f921"
             ]
            ],
            "type": "histogram2dcontour"
           }
          ],
          "mesh3d": [
           {
            "colorbar": {
             "outlinewidth": 0,
             "ticks": ""
            },
            "type": "mesh3d"
           }
          ],
          "parcoords": [
           {
            "line": {
             "colorbar": {
              "outlinewidth": 0,
              "ticks": ""
             }
            },
            "type": "parcoords"
           }
          ],
          "pie": [
           {
            "automargin": true,
            "type": "pie"
           }
          ],
          "scatter": [
           {
            "fillpattern": {
             "fillmode": "overlay",
             "size": 10,
             "solidity": 0.2
            },
            "type": "scatter"
           }
          ],
          "scatter3d": [
           {
            "line": {
             "colorbar": {
              "outlinewidth": 0,
              "ticks": ""
             }
            },
            "marker": {
             "colorbar": {
              "outlinewidth": 0,
              "ticks": ""
             }
            },
            "type": "scatter3d"
           }
          ],
          "scattercarpet": [
           {
            "marker": {
             "colorbar": {
              "outlinewidth": 0,
              "ticks": ""
             }
            },
            "type": "scattercarpet"
           }
          ],
          "scattergeo": [
           {
            "marker": {
             "colorbar": {
              "outlinewidth": 0,
              "ticks": ""
             }
            },
            "type": "scattergeo"
           }
          ],
          "scattergl": [
           {
            "marker": {
             "colorbar": {
              "outlinewidth": 0,
              "ticks": ""
             }
            },
            "type": "scattergl"
           }
          ],
          "scattermapbox": [
           {
            "marker": {
             "colorbar": {
              "outlinewidth": 0,
              "ticks": ""
             }
            },
            "type": "scattermapbox"
           }
          ],
          "scatterpolar": [
           {
            "marker": {
             "colorbar": {
              "outlinewidth": 0,
              "ticks": ""
             }
            },
            "type": "scatterpolar"
           }
          ],
          "scatterpolargl": [
           {
            "marker": {
             "colorbar": {
              "outlinewidth": 0,
              "ticks": ""
             }
            },
            "type": "scatterpolargl"
           }
          ],
          "scatterternary": [
           {
            "marker": {
             "colorbar": {
              "outlinewidth": 0,
              "ticks": ""
             }
            },
            "type": "scatterternary"
           }
          ],
          "surface": [
           {
            "colorbar": {
             "outlinewidth": 0,
             "ticks": ""
            },
            "colorscale": [
             [
              0,
              "#0d0887"
             ],
             [
              0.1111111111111111,
              "#46039f"
             ],
             [
              0.2222222222222222,
              "#7201a8"
             ],
             [
              0.3333333333333333,
              "#9c179e"
             ],
             [
              0.4444444444444444,
              "#bd3786"
             ],
             [
              0.5555555555555556,
              "#d8576b"
             ],
             [
              0.6666666666666666,
              "#ed7953"
             ],
             [
              0.7777777777777778,
              "#fb9f3a"
             ],
             [
              0.8888888888888888,
              "#fdca26"
             ],
             [
              1,
              "#f0f921"
             ]
            ],
            "type": "surface"
           }
          ],
          "table": [
           {
            "cells": {
             "fill": {
              "color": "#EBF0F8"
             },
             "line": {
              "color": "white"
             }
            },
            "header": {
             "fill": {
              "color": "#C8D4E3"
             },
             "line": {
              "color": "white"
             }
            },
            "type": "table"
           }
          ]
         },
         "layout": {
          "annotationdefaults": {
           "arrowcolor": "#2a3f5f",
           "arrowhead": 0,
           "arrowwidth": 1
          },
          "autotypenumbers": "strict",
          "coloraxis": {
           "colorbar": {
            "outlinewidth": 0,
            "ticks": ""
           }
          },
          "colorscale": {
           "diverging": [
            [
             0,
             "#8e0152"
            ],
            [
             0.1,
             "#c51b7d"
            ],
            [
             0.2,
             "#de77ae"
            ],
            [
             0.3,
             "#f1b6da"
            ],
            [
             0.4,
             "#fde0ef"
            ],
            [
             0.5,
             "#f7f7f7"
            ],
            [
             0.6,
             "#e6f5d0"
            ],
            [
             0.7,
             "#b8e186"
            ],
            [
             0.8,
             "#7fbc41"
            ],
            [
             0.9,
             "#4d9221"
            ],
            [
             1,
             "#276419"
            ]
           ],
           "sequential": [
            [
             0,
             "#0d0887"
            ],
            [
             0.1111111111111111,
             "#46039f"
            ],
            [
             0.2222222222222222,
             "#7201a8"
            ],
            [
             0.3333333333333333,
             "#9c179e"
            ],
            [
             0.4444444444444444,
             "#bd3786"
            ],
            [
             0.5555555555555556,
             "#d8576b"
            ],
            [
             0.6666666666666666,
             "#ed7953"
            ],
            [
             0.7777777777777778,
             "#fb9f3a"
            ],
            [
             0.8888888888888888,
             "#fdca26"
            ],
            [
             1,
             "#f0f921"
            ]
           ],
           "sequentialminus": [
            [
             0,
             "#0d0887"
            ],
            [
             0.1111111111111111,
             "#46039f"
            ],
            [
             0.2222222222222222,
             "#7201a8"
            ],
            [
             0.3333333333333333,
             "#9c179e"
            ],
            [
             0.4444444444444444,
             "#bd3786"
            ],
            [
             0.5555555555555556,
             "#d8576b"
            ],
            [
             0.6666666666666666,
             "#ed7953"
            ],
            [
             0.7777777777777778,
             "#fb9f3a"
            ],
            [
             0.8888888888888888,
             "#fdca26"
            ],
            [
             1,
             "#f0f921"
            ]
           ]
          },
          "colorway": [
           "#636efa",
           "#EF553B",
           "#00cc96",
           "#ab63fa",
           "#FFA15A",
           "#19d3f3",
           "#FF6692",
           "#B6E880",
           "#FF97FF",
           "#FECB52"
          ],
          "font": {
           "color": "#2a3f5f"
          },
          "geo": {
           "bgcolor": "white",
           "lakecolor": "white",
           "landcolor": "#E5ECF6",
           "showlakes": true,
           "showland": true,
           "subunitcolor": "white"
          },
          "hoverlabel": {
           "align": "left"
          },
          "hovermode": "closest",
          "mapbox": {
           "style": "light"
          },
          "paper_bgcolor": "white",
          "plot_bgcolor": "#E5ECF6",
          "polar": {
           "angularaxis": {
            "gridcolor": "white",
            "linecolor": "white",
            "ticks": ""
           },
           "bgcolor": "#E5ECF6",
           "radialaxis": {
            "gridcolor": "white",
            "linecolor": "white",
            "ticks": ""
           }
          },
          "scene": {
           "xaxis": {
            "backgroundcolor": "#E5ECF6",
            "gridcolor": "white",
            "gridwidth": 2,
            "linecolor": "white",
            "showbackground": true,
            "ticks": "",
            "zerolinecolor": "white"
           },
           "yaxis": {
            "backgroundcolor": "#E5ECF6",
            "gridcolor": "white",
            "gridwidth": 2,
            "linecolor": "white",
            "showbackground": true,
            "ticks": "",
            "zerolinecolor": "white"
           },
           "zaxis": {
            "backgroundcolor": "#E5ECF6",
            "gridcolor": "white",
            "gridwidth": 2,
            "linecolor": "white",
            "showbackground": true,
            "ticks": "",
            "zerolinecolor": "white"
           }
          },
          "shapedefaults": {
           "line": {
            "color": "#2a3f5f"
           }
          },
          "ternary": {
           "aaxis": {
            "gridcolor": "white",
            "linecolor": "white",
            "ticks": ""
           },
           "baxis": {
            "gridcolor": "white",
            "linecolor": "white",
            "ticks": ""
           },
           "bgcolor": "#E5ECF6",
           "caxis": {
            "gridcolor": "white",
            "linecolor": "white",
            "ticks": ""
           }
          },
          "title": {
           "x": 0.05
          },
          "xaxis": {
           "automargin": true,
           "gridcolor": "white",
           "linecolor": "white",
           "ticks": "",
           "title": {
            "standoff": 15
           },
           "zerolinecolor": "white",
           "zerolinewidth": 2
          },
          "yaxis": {
           "automargin": true,
           "gridcolor": "white",
           "linecolor": "white",
           "ticks": "",
           "title": {
            "standoff": 15
           },
           "zerolinecolor": "white",
           "zerolinewidth": 2
          }
         }
        },
        "title": {
         "text": "IOU Values by Experiment"
        },
        "xaxis": {
         "title": {
          "text": "Class"
         }
        },
        "yaxis": {
         "title": {
          "text": "IOU"
         }
        }
       }
      }
     },
     "metadata": {},
     "output_type": "display_data"
    }
   ],
   "source": [
    "ds = 'Salinas'\n",
    "dr = 'FastICA'\n",
    "plot_grouped_values(df_results[(df_results['Dataset'] == ds) \n",
    "                & (df_results['DR Method'] == dr)], \n",
    "                LABELS[ds],\n",
    "                metric='IOU')\n",
    "dr = 'PCA'\n",
    "plot_grouped_values(df_results[(df_results['Dataset'] == ds) \n",
    "                & (df_results['DR Method'] == dr)], \n",
    "                LABELS[ds],\n",
    "                metric='IOU')"
   ]
  },
  {
   "cell_type": "code",
   "execution_count": null,
   "metadata": {},
   "outputs": [
    {
     "data": {
      "application/vnd.plotly.v1+json": {
       "config": {
        "plotlyServerURL": "https://plot.ly"
       },
       "data": [],
       "layout": {
        "barmode": "group",
        "template": {
         "data": {
          "bar": [
           {
            "error_x": {
             "color": "#2a3f5f"
            },
            "error_y": {
             "color": "#2a3f5f"
            },
            "marker": {
             "line": {
              "color": "#E5ECF6",
              "width": 0.5
             },
             "pattern": {
              "fillmode": "overlay",
              "size": 10,
              "solidity": 0.2
             }
            },
            "type": "bar"
           }
          ],
          "barpolar": [
           {
            "marker": {
             "line": {
              "color": "#E5ECF6",
              "width": 0.5
             },
             "pattern": {
              "fillmode": "overlay",
              "size": 10,
              "solidity": 0.2
             }
            },
            "type": "barpolar"
           }
          ],
          "carpet": [
           {
            "aaxis": {
             "endlinecolor": "#2a3f5f",
             "gridcolor": "white",
             "linecolor": "white",
             "minorgridcolor": "white",
             "startlinecolor": "#2a3f5f"
            },
            "baxis": {
             "endlinecolor": "#2a3f5f",
             "gridcolor": "white",
             "linecolor": "white",
             "minorgridcolor": "white",
             "startlinecolor": "#2a3f5f"
            },
            "type": "carpet"
           }
          ],
          "choropleth": [
           {
            "colorbar": {
             "outlinewidth": 0,
             "ticks": ""
            },
            "type": "choropleth"
           }
          ],
          "contour": [
           {
            "colorbar": {
             "outlinewidth": 0,
             "ticks": ""
            },
            "colorscale": [
             [
              0,
              "#0d0887"
             ],
             [
              0.1111111111111111,
              "#46039f"
             ],
             [
              0.2222222222222222,
              "#7201a8"
             ],
             [
              0.3333333333333333,
              "#9c179e"
             ],
             [
              0.4444444444444444,
              "#bd3786"
             ],
             [
              0.5555555555555556,
              "#d8576b"
             ],
             [
              0.6666666666666666,
              "#ed7953"
             ],
             [
              0.7777777777777778,
              "#fb9f3a"
             ],
             [
              0.8888888888888888,
              "#fdca26"
             ],
             [
              1,
              "#f0f921"
             ]
            ],
            "type": "contour"
           }
          ],
          "contourcarpet": [
           {
            "colorbar": {
             "outlinewidth": 0,
             "ticks": ""
            },
            "type": "contourcarpet"
           }
          ],
          "heatmap": [
           {
            "colorbar": {
             "outlinewidth": 0,
             "ticks": ""
            },
            "colorscale": [
             [
              0,
              "#0d0887"
             ],
             [
              0.1111111111111111,
              "#46039f"
             ],
             [
              0.2222222222222222,
              "#7201a8"
             ],
             [
              0.3333333333333333,
              "#9c179e"
             ],
             [
              0.4444444444444444,
              "#bd3786"
             ],
             [
              0.5555555555555556,
              "#d8576b"
             ],
             [
              0.6666666666666666,
              "#ed7953"
             ],
             [
              0.7777777777777778,
              "#fb9f3a"
             ],
             [
              0.8888888888888888,
              "#fdca26"
             ],
             [
              1,
              "#f0f921"
             ]
            ],
            "type": "heatmap"
           }
          ],
          "heatmapgl": [
           {
            "colorbar": {
             "outlinewidth": 0,
             "ticks": ""
            },
            "colorscale": [
             [
              0,
              "#0d0887"
             ],
             [
              0.1111111111111111,
              "#46039f"
             ],
             [
              0.2222222222222222,
              "#7201a8"
             ],
             [
              0.3333333333333333,
              "#9c179e"
             ],
             [
              0.4444444444444444,
              "#bd3786"
             ],
             [
              0.5555555555555556,
              "#d8576b"
             ],
             [
              0.6666666666666666,
              "#ed7953"
             ],
             [
              0.7777777777777778,
              "#fb9f3a"
             ],
             [
              0.8888888888888888,
              "#fdca26"
             ],
             [
              1,
              "#f0f921"
             ]
            ],
            "type": "heatmapgl"
           }
          ],
          "histogram": [
           {
            "marker": {
             "pattern": {
              "fillmode": "overlay",
              "size": 10,
              "solidity": 0.2
             }
            },
            "type": "histogram"
           }
          ],
          "histogram2d": [
           {
            "colorbar": {
             "outlinewidth": 0,
             "ticks": ""
            },
            "colorscale": [
             [
              0,
              "#0d0887"
             ],
             [
              0.1111111111111111,
              "#46039f"
             ],
             [
              0.2222222222222222,
              "#7201a8"
             ],
             [
              0.3333333333333333,
              "#9c179e"
             ],
             [
              0.4444444444444444,
              "#bd3786"
             ],
             [
              0.5555555555555556,
              "#d8576b"
             ],
             [
              0.6666666666666666,
              "#ed7953"
             ],
             [
              0.7777777777777778,
              "#fb9f3a"
             ],
             [
              0.8888888888888888,
              "#fdca26"
             ],
             [
              1,
              "#f0f921"
             ]
            ],
            "type": "histogram2d"
           }
          ],
          "histogram2dcontour": [
           {
            "colorbar": {
             "outlinewidth": 0,
             "ticks": ""
            },
            "colorscale": [
             [
              0,
              "#0d0887"
             ],
             [
              0.1111111111111111,
              "#46039f"
             ],
             [
              0.2222222222222222,
              "#7201a8"
             ],
             [
              0.3333333333333333,
              "#9c179e"
             ],
             [
              0.4444444444444444,
              "#bd3786"
             ],
             [
              0.5555555555555556,
              "#d8576b"
             ],
             [
              0.6666666666666666,
              "#ed7953"
             ],
             [
              0.7777777777777778,
              "#fb9f3a"
             ],
             [
              0.8888888888888888,
              "#fdca26"
             ],
             [
              1,
              "#f0f921"
             ]
            ],
            "type": "histogram2dcontour"
           }
          ],
          "mesh3d": [
           {
            "colorbar": {
             "outlinewidth": 0,
             "ticks": ""
            },
            "type": "mesh3d"
           }
          ],
          "parcoords": [
           {
            "line": {
             "colorbar": {
              "outlinewidth": 0,
              "ticks": ""
             }
            },
            "type": "parcoords"
           }
          ],
          "pie": [
           {
            "automargin": true,
            "type": "pie"
           }
          ],
          "scatter": [
           {
            "fillpattern": {
             "fillmode": "overlay",
             "size": 10,
             "solidity": 0.2
            },
            "type": "scatter"
           }
          ],
          "scatter3d": [
           {
            "line": {
             "colorbar": {
              "outlinewidth": 0,
              "ticks": ""
             }
            },
            "marker": {
             "colorbar": {
              "outlinewidth": 0,
              "ticks": ""
             }
            },
            "type": "scatter3d"
           }
          ],
          "scattercarpet": [
           {
            "marker": {
             "colorbar": {
              "outlinewidth": 0,
              "ticks": ""
             }
            },
            "type": "scattercarpet"
           }
          ],
          "scattergeo": [
           {
            "marker": {
             "colorbar": {
              "outlinewidth": 0,
              "ticks": ""
             }
            },
            "type": "scattergeo"
           }
          ],
          "scattergl": [
           {
            "marker": {
             "colorbar": {
              "outlinewidth": 0,
              "ticks": ""
             }
            },
            "type": "scattergl"
           }
          ],
          "scattermapbox": [
           {
            "marker": {
             "colorbar": {
              "outlinewidth": 0,
              "ticks": ""
             }
            },
            "type": "scattermapbox"
           }
          ],
          "scatterpolar": [
           {
            "marker": {
             "colorbar": {
              "outlinewidth": 0,
              "ticks": ""
             }
            },
            "type": "scatterpolar"
           }
          ],
          "scatterpolargl": [
           {
            "marker": {
             "colorbar": {
              "outlinewidth": 0,
              "ticks": ""
             }
            },
            "type": "scatterpolargl"
           }
          ],
          "scatterternary": [
           {
            "marker": {
             "colorbar": {
              "outlinewidth": 0,
              "ticks": ""
             }
            },
            "type": "scatterternary"
           }
          ],
          "surface": [
           {
            "colorbar": {
             "outlinewidth": 0,
             "ticks": ""
            },
            "colorscale": [
             [
              0,
              "#0d0887"
             ],
             [
              0.1111111111111111,
              "#46039f"
             ],
             [
              0.2222222222222222,
              "#7201a8"
             ],
             [
              0.3333333333333333,
              "#9c179e"
             ],
             [
              0.4444444444444444,
              "#bd3786"
             ],
             [
              0.5555555555555556,
              "#d8576b"
             ],
             [
              0.6666666666666666,
              "#ed7953"
             ],
             [
              0.7777777777777778,
              "#fb9f3a"
             ],
             [
              0.8888888888888888,
              "#fdca26"
             ],
             [
              1,
              "#f0f921"
             ]
            ],
            "type": "surface"
           }
          ],
          "table": [
           {
            "cells": {
             "fill": {
              "color": "#EBF0F8"
             },
             "line": {
              "color": "white"
             }
            },
            "header": {
             "fill": {
              "color": "#C8D4E3"
             },
             "line": {
              "color": "white"
             }
            },
            "type": "table"
           }
          ]
         },
         "layout": {
          "annotationdefaults": {
           "arrowcolor": "#2a3f5f",
           "arrowhead": 0,
           "arrowwidth": 1
          },
          "autotypenumbers": "strict",
          "coloraxis": {
           "colorbar": {
            "outlinewidth": 0,
            "ticks": ""
           }
          },
          "colorscale": {
           "diverging": [
            [
             0,
             "#8e0152"
            ],
            [
             0.1,
             "#c51b7d"
            ],
            [
             0.2,
             "#de77ae"
            ],
            [
             0.3,
             "#f1b6da"
            ],
            [
             0.4,
             "#fde0ef"
            ],
            [
             0.5,
             "#f7f7f7"
            ],
            [
             0.6,
             "#e6f5d0"
            ],
            [
             0.7,
             "#b8e186"
            ],
            [
             0.8,
             "#7fbc41"
            ],
            [
             0.9,
             "#4d9221"
            ],
            [
             1,
             "#276419"
            ]
           ],
           "sequential": [
            [
             0,
             "#0d0887"
            ],
            [
             0.1111111111111111,
             "#46039f"
            ],
            [
             0.2222222222222222,
             "#7201a8"
            ],
            [
             0.3333333333333333,
             "#9c179e"
            ],
            [
             0.4444444444444444,
             "#bd3786"
            ],
            [
             0.5555555555555556,
             "#d8576b"
            ],
            [
             0.6666666666666666,
             "#ed7953"
            ],
            [
             0.7777777777777778,
             "#fb9f3a"
            ],
            [
             0.8888888888888888,
             "#fdca26"
            ],
            [
             1,
             "#f0f921"
            ]
           ],
           "sequentialminus": [
            [
             0,
             "#0d0887"
            ],
            [
             0.1111111111111111,
             "#46039f"
            ],
            [
             0.2222222222222222,
             "#7201a8"
            ],
            [
             0.3333333333333333,
             "#9c179e"
            ],
            [
             0.4444444444444444,
             "#bd3786"
            ],
            [
             0.5555555555555556,
             "#d8576b"
            ],
            [
             0.6666666666666666,
             "#ed7953"
            ],
            [
             0.7777777777777778,
             "#fb9f3a"
            ],
            [
             0.8888888888888888,
             "#fdca26"
            ],
            [
             1,
             "#f0f921"
            ]
           ]
          },
          "colorway": [
           "#636efa",
           "#EF553B",
           "#00cc96",
           "#ab63fa",
           "#FFA15A",
           "#19d3f3",
           "#FF6692",
           "#B6E880",
           "#FF97FF",
           "#FECB52"
          ],
          "font": {
           "color": "#2a3f5f"
          },
          "geo": {
           "bgcolor": "white",
           "lakecolor": "white",
           "landcolor": "#E5ECF6",
           "showlakes": true,
           "showland": true,
           "subunitcolor": "white"
          },
          "hoverlabel": {
           "align": "left"
          },
          "hovermode": "closest",
          "mapbox": {
           "style": "light"
          },
          "paper_bgcolor": "white",
          "plot_bgcolor": "#E5ECF6",
          "polar": {
           "angularaxis": {
            "gridcolor": "white",
            "linecolor": "white",
            "ticks": ""
           },
           "bgcolor": "#E5ECF6",
           "radialaxis": {
            "gridcolor": "white",
            "linecolor": "white",
            "ticks": ""
           }
          },
          "scene": {
           "xaxis": {
            "backgroundcolor": "#E5ECF6",
            "gridcolor": "white",
            "gridwidth": 2,
            "linecolor": "white",
            "showbackground": true,
            "ticks": "",
            "zerolinecolor": "white"
           },
           "yaxis": {
            "backgroundcolor": "#E5ECF6",
            "gridcolor": "white",
            "gridwidth": 2,
            "linecolor": "white",
            "showbackground": true,
            "ticks": "",
            "zerolinecolor": "white"
           },
           "zaxis": {
            "backgroundcolor": "#E5ECF6",
            "gridcolor": "white",
            "gridwidth": 2,
            "linecolor": "white",
            "showbackground": true,
            "ticks": "",
            "zerolinecolor": "white"
           }
          },
          "shapedefaults": {
           "line": {
            "color": "#2a3f5f"
           }
          },
          "ternary": {
           "aaxis": {
            "gridcolor": "white",
            "linecolor": "white",
            "ticks": ""
           },
           "baxis": {
            "gridcolor": "white",
            "linecolor": "white",
            "ticks": ""
           },
           "bgcolor": "#E5ECF6",
           "caxis": {
            "gridcolor": "white",
            "linecolor": "white",
            "ticks": ""
           }
          },
          "title": {
           "x": 0.05
          },
          "xaxis": {
           "automargin": true,
           "gridcolor": "white",
           "linecolor": "white",
           "ticks": "",
           "title": {
            "standoff": 15
           },
           "zerolinecolor": "white",
           "zerolinewidth": 2
          },
          "yaxis": {
           "automargin": true,
           "gridcolor": "white",
           "linecolor": "white",
           "ticks": "",
           "title": {
            "standoff": 15
           },
           "zerolinecolor": "white",
           "zerolinewidth": 2
          }
         }
        },
        "title": {
         "text": "IOU Values by Experiment"
        },
        "xaxis": {
         "title": {
          "text": "Class"
         }
        },
        "yaxis": {
         "title": {
          "text": "IOU"
         }
        }
       }
      }
     },
     "metadata": {},
     "output_type": "display_data"
    }
   ],
   "source": [
    "ds = 'Salinas'\n",
    "dr = 'PCA'\n",
    "model = 'li'\n",
    "plot_grouped_values(df_results[(df_results['Dataset'] == ds) \n",
    "                & (df_results['DR Method'] == dr)\n",
    "                & (df_results['Model'] ==  model)], \n",
    "                LABELS[ds],\n",
    "                metric='IOU')\n"
   ]
  },
  {
   "cell_type": "markdown",
   "metadata": {},
   "source": [
    "# ANOVA"
   ]
  },
  {
   "cell_type": "code",
   "execution_count": 7,
   "metadata": {},
   "outputs": [
    {
     "data": {
      "text/html": [
       "<div>\n",
       "<style scoped>\n",
       "    .dataframe tbody tr th:only-of-type {\n",
       "        vertical-align: middle;\n",
       "    }\n",
       "\n",
       "    .dataframe tbody tr th {\n",
       "        vertical-align: top;\n",
       "    }\n",
       "\n",
       "    .dataframe thead th {\n",
       "        text-align: right;\n",
       "    }\n",
       "</style>\n",
       "<table border=\"1\" class=\"dataframe\">\n",
       "  <thead>\n",
       "    <tr style=\"text-align: right;\">\n",
       "      <th></th>\n",
       "      <th>Experiment</th>\n",
       "      <th>IOU</th>\n",
       "      <th>Dataset</th>\n",
       "      <th>Model</th>\n",
       "      <th>DR Method</th>\n",
       "      <th>N Components</th>\n",
       "    </tr>\n",
       "  </thead>\n",
       "  <tbody>\n",
       "    <tr>\n",
       "      <th>0</th>\n",
       "      <td>Salinas_PCA_8_mou</td>\n",
       "      <td>[0.0, 0.9527127924340468, 1.0, 0.9954637096774...</td>\n",
       "      <td>Salinas</td>\n",
       "      <td>mou</td>\n",
       "      <td>PCA</td>\n",
       "      <td>8</td>\n",
       "    </tr>\n",
       "    <tr>\n",
       "      <th>1</th>\n",
       "      <td>Salinas_PCA_8_hamida</td>\n",
       "      <td>[0.0, 0.9527127924340468, 1.0, 0.9984840828701...</td>\n",
       "      <td>Salinas</td>\n",
       "      <td>hamida</td>\n",
       "      <td>PCA</td>\n",
       "      <td>8</td>\n",
       "    </tr>\n",
       "    <tr>\n",
       "      <th>2</th>\n",
       "      <td>Salinas_PCA_8_li</td>\n",
       "      <td>[0.0, 0.9527127924340468, 1.0, 0.9994941831057...</td>\n",
       "      <td>Salinas</td>\n",
       "      <td>li</td>\n",
       "      <td>PCA</td>\n",
       "      <td>8</td>\n",
       "    </tr>\n",
       "    <tr>\n",
       "      <th>3</th>\n",
       "      <td>Salinas_PCA_8_paoletti</td>\n",
       "      <td>[0.0, 0.9527127924340468, 1.0, 0.9859296482412...</td>\n",
       "      <td>Salinas</td>\n",
       "      <td>paoletti</td>\n",
       "      <td>PCA</td>\n",
       "      <td>8</td>\n",
       "    </tr>\n",
       "    <tr>\n",
       "      <th>4</th>\n",
       "      <td>Salinas_PCA_15_mou</td>\n",
       "      <td>[0.0, 0.925335988053758, 0.9817508595609628, 0...</td>\n",
       "      <td>Salinas</td>\n",
       "      <td>mou</td>\n",
       "      <td>PCA</td>\n",
       "      <td>15</td>\n",
       "    </tr>\n",
       "    <tr>\n",
       "      <th>...</th>\n",
       "      <td>...</td>\n",
       "      <td>...</td>\n",
       "      <td>...</td>\n",
       "      <td>...</td>\n",
       "      <td>...</td>\n",
       "      <td>...</td>\n",
       "    </tr>\n",
       "    <tr>\n",
       "      <th>163</th>\n",
       "      <td>IndianPines_Var_15_paoletti</td>\n",
       "      <td>[0.0, 0.8181818181818182, 0.6886261261261262, ...</td>\n",
       "      <td>IndianPines</td>\n",
       "      <td>paoletti</td>\n",
       "      <td>Var</td>\n",
       "      <td>15</td>\n",
       "    </tr>\n",
       "    <tr>\n",
       "      <th>164</th>\n",
       "      <td>IndianPines_Var_30_mou</td>\n",
       "      <td>[0.0, 0.7659574468085106, 0.6846473029045643, ...</td>\n",
       "      <td>IndianPines</td>\n",
       "      <td>mou</td>\n",
       "      <td>Var</td>\n",
       "      <td>30</td>\n",
       "    </tr>\n",
       "    <tr>\n",
       "      <th>165</th>\n",
       "      <td>IndianPines_Var_30_hamida</td>\n",
       "      <td>[0.0, 1.0, 0.9736842105263158, 0.8872901678657...</td>\n",
       "      <td>IndianPines</td>\n",
       "      <td>hamida</td>\n",
       "      <td>Var</td>\n",
       "      <td>30</td>\n",
       "    </tr>\n",
       "    <tr>\n",
       "      <th>166</th>\n",
       "      <td>IndianPines_Var_30_li</td>\n",
       "      <td>[0.0, 0.9782608695652174, 0.8008684863523573, ...</td>\n",
       "      <td>IndianPines</td>\n",
       "      <td>li</td>\n",
       "      <td>Var</td>\n",
       "      <td>30</td>\n",
       "    </tr>\n",
       "    <tr>\n",
       "      <th>167</th>\n",
       "      <td>IndianPines_Var_30_paoletti</td>\n",
       "      <td>[0.0, 0.7115384615384616, 0.7078239608801956, ...</td>\n",
       "      <td>IndianPines</td>\n",
       "      <td>paoletti</td>\n",
       "      <td>Var</td>\n",
       "      <td>30</td>\n",
       "    </tr>\n",
       "  </tbody>\n",
       "</table>\n",
       "<p>168 rows × 6 columns</p>\n",
       "</div>"
      ],
      "text/plain": [
       "                      Experiment  \\\n",
       "0              Salinas_PCA_8_mou   \n",
       "1           Salinas_PCA_8_hamida   \n",
       "2               Salinas_PCA_8_li   \n",
       "3         Salinas_PCA_8_paoletti   \n",
       "4             Salinas_PCA_15_mou   \n",
       "..                           ...   \n",
       "163  IndianPines_Var_15_paoletti   \n",
       "164       IndianPines_Var_30_mou   \n",
       "165    IndianPines_Var_30_hamida   \n",
       "166        IndianPines_Var_30_li   \n",
       "167  IndianPines_Var_30_paoletti   \n",
       "\n",
       "                                                   IOU      Dataset     Model  \\\n",
       "0    [0.0, 0.9527127924340468, 1.0, 0.9954637096774...      Salinas       mou   \n",
       "1    [0.0, 0.9527127924340468, 1.0, 0.9984840828701...      Salinas    hamida   \n",
       "2    [0.0, 0.9527127924340468, 1.0, 0.9994941831057...      Salinas        li   \n",
       "3    [0.0, 0.9527127924340468, 1.0, 0.9859296482412...      Salinas  paoletti   \n",
       "4    [0.0, 0.925335988053758, 0.9817508595609628, 0...      Salinas       mou   \n",
       "..                                                 ...          ...       ...   \n",
       "163  [0.0, 0.8181818181818182, 0.6886261261261262, ...  IndianPines  paoletti   \n",
       "164  [0.0, 0.7659574468085106, 0.6846473029045643, ...  IndianPines       mou   \n",
       "165  [0.0, 1.0, 0.9736842105263158, 0.8872901678657...  IndianPines    hamida   \n",
       "166  [0.0, 0.9782608695652174, 0.8008684863523573, ...  IndianPines        li   \n",
       "167  [0.0, 0.7115384615384616, 0.7078239608801956, ...  IndianPines  paoletti   \n",
       "\n",
       "    DR Method  N Components  \n",
       "0         PCA             8  \n",
       "1         PCA             8  \n",
       "2         PCA             8  \n",
       "3         PCA             8  \n",
       "4         PCA            15  \n",
       "..        ...           ...  \n",
       "163       Var            15  \n",
       "164       Var            30  \n",
       "165       Var            30  \n",
       "166       Var            30  \n",
       "167       Var            30  \n",
       "\n",
       "[168 rows x 6 columns]"
      ]
     },
     "execution_count": 7,
     "metadata": {},
     "output_type": "execute_result"
    }
   ],
   "source": [
    "df_results[['Experiment', 'IOU', 'Dataset', 'Model', 'DR Method', 'N Components']]"
   ]
  },
  {
   "cell_type": "code",
   "execution_count": 35,
   "metadata": {},
   "outputs": [
    {
     "name": "stdout",
     "output_type": "stream",
     "text": [
      "Comparing Model's performances with different Data Reduction methods.\n",
      "\n",
      "-> Salinas, PCA  --------------------------------------------------------------\n",
      "N Components         8          15         30\n",
      "Model                                        \n",
      "hamida        94.708936  94.991594  96.641357\n",
      "li            95.701011  95.002679  96.833490\n",
      "mou           95.285337  88.488611  95.106135\n",
      "paoletti      95.536589  89.316263  93.912690\n",
      "ANOVA test -> F-statistic: 1.082078008877013, p-value: 0.41019384324694935\n",
      "No significant difference in accuracies for ANOVA\n",
      "\n",
      "Paired T Tests\n",
      "hamida vs li: t-statistic = -1.3219865697376907, p-value = 0.31711492919903117\n",
      "hamida vs mou: t-statistic = 1.185344823319659, p-value = 0.3576326651019408\n",
      "hamida vs paoletti: t-statistic = 1.3433254124867535, p-value = 0.3112983645303824\n",
      "li vs mou: t-statistic = 1.557077812070841, p-value = 0.2597496135212742\n",
      "li vs paoletti: t-statistic = 1.8342307123811465, p-value = 0.20805815555153725\n",
      "mou vs paoletti: t-statistic = 0.06351538933489513, p-value = 0.9551330652953216\n",
      "\n",
      "No significant difference found with T Tests\n",
      "\n",
      "-> Salinas, FastICA  --------------------------------------------------------------\n",
      "N Components         8          15         30\n",
      "Model                                        \n",
      "hamida        95.102440  88.324189  96.395647\n",
      "li            95.909771  20.512110  94.407804\n",
      "mou           93.868352  93.816623  95.154169\n",
      "paoletti      95.294574  97.228842  95.937483\n",
      "ANOVA test -> F-statistic: 0.951656215512751, p-value: 0.46052609395453903\n",
      "No significant difference in accuracies for ANOVA\n",
      "\n",
      "Paired T Tests\n",
      "hamida vs li: t-statistic = 1.025677375719213, p-value = 0.412892660406728\n",
      "hamida vs mou: t-statistic = -0.44825672844466474, p-value = 0.6978495133308504\n",
      "hamida vs paoletti: t-statistic = -0.9539958643642429, p-value = 0.4407681080507171\n",
      "li vs mou: t-statistic = -0.973213381035748, p-value = 0.4330988051182172\n",
      "li vs paoletti: t-statistic = -1.0176857180600198, p-value = 0.41590245189976915\n",
      "mou vs paoletti: t-statistic = -2.3683773966863204, p-value = 0.14141938254998435\n",
      "\n",
      "No significant difference found with T Tests\n",
      "\n",
      "-> Salinas, UMAP  --------------------------------------------------------------\n",
      "N Components         8          15         30\n",
      "Model                                        \n",
      "hamida        93.301188  93.367696  94.165789\n",
      "li            94.154705  94.187958  95.041475\n",
      "mou           93.934859  93.894216  94.738495\n",
      "paoletti      93.751963  94.370855  94.825325\n",
      "ANOVA test -> F-statistic: 1.6615703734680887, p-value: 0.2513562113090578\n",
      "No significant difference in accuracies for ANOVA\n",
      "\n",
      "Paired T Tests\n",
      "hamida vs li: t-statistic = -52.765618790258415, p-value = 0.00035897485498715916\n",
      "hamida vs mou: t-statistic = -18.61536208070287, p-value = 0.0028733073781494175\n",
      "hamida vs paoletti: t-statistic = -4.374737003800582, p-value = 0.048482728058481486\n",
      "li vs mou: t-statistic = 10.346437412137613, p-value = 0.00921264555003174\n",
      "li vs paoletti: t-statistic = 0.8413934897470221, p-value = 0.4886957675710739\n",
      "mou vs paoletti: t-statistic = -0.6626466685875887, p-value = 0.5757057348915866\n",
      "\n",
      "-> Salinas, SOM  --------------------------------------------------------------\n",
      "N Components         8          15         30\n",
      "Model                                        \n",
      "hamida        90.066323  94.134383  95.089508\n",
      "li            87.923294  93.410187  95.143084\n",
      "mou           88.883962  92.022760  92.739567\n",
      "paoletti      81.808273  93.109054  93.077648\n",
      "ANOVA test -> F-statistic: 0.45642015956637905, p-value: 0.7201209889820508\n",
      "No significant difference in accuracies for ANOVA\n",
      "\n",
      "Paired T Tests\n",
      "hamida vs li: t-statistic = 1.4585065234896233, p-value = 0.28207604173408346\n",
      "hamida vs mou: t-statistic = 5.281887363008473, p-value = 0.03402554851793774\n",
      "hamida vs paoletti: t-statistic = 1.662679897786226, p-value = 0.23827224895041677\n",
      "li vs mou: t-statistic = 0.9470167287792581, p-value = 0.44358946391642795\n",
      "li vs paoletti: t-statistic = 1.6427627735782346, p-value = 0.24214276279159674\n",
      "mou vs paoletti: t-statistic = 0.7231565525611979, p-value = 0.5447210834056582\n",
      "\n",
      "-> Salinas, Var  --------------------------------------------------------------\n",
      "N Components         8          15         30\n",
      "Model                                        \n",
      "hamida        85.711910  90.411794  92.907683\n",
      "li            85.571505  90.485692  94.029079\n",
      "mou           88.150529  89.763343  93.838793\n",
      "paoletti      85.859706  91.557206  92.966802\n",
      "ANOVA test -> F-statistic: 0.030959631972470463, p-value: 0.9920968612853338\n",
      "No significant difference in accuracies for ANOVA\n",
      "\n",
      "Paired T Tests\n",
      "hamida vs li: t-statistic = -0.9020221965410932, p-value = 0.46224724030926745\n",
      "hamida vs mou: t-statistic = -1.0177854556091017, p-value = 0.4158647396869569\n",
      "hamida vs paoletti: t-statistic = -1.2943614079150845, p-value = 0.32484274815955927\n",
      "li vs mou: t-statistic = -0.5427772903476453, p-value = 0.6416829335634311\n",
      "li vs paoletti: t-statistic = -0.1590958025383801, p-value = 0.8882074635057793\n",
      "mou vs paoletti: t-statistic = 0.3811143023528571, p-value = 0.7397944934470388\n",
      "\n",
      "No significant difference found with T Tests\n",
      "\n",
      "-> Salinas, Corr  --------------------------------------------------------------\n",
      "N Components         8          15         30\n",
      "Model                                        \n",
      "hamida        90.123594  91.860186  94.136230\n",
      "li            91.226514  93.247612  94.799461\n",
      "mou           92.370079  88.708456  91.368767\n",
      "paoletti      89.052079  91.686527  87.354283\n",
      "ANOVA test -> F-statistic: 1.9824198805277753, p-value: 0.19526710803702552\n",
      "No significant difference in accuracies for ANOVA\n",
      "\n",
      "Paired T Tests\n",
      "hamida vs li: t-statistic = -4.990204228509332, p-value = 0.03788957646166852\n",
      "hamida vs mou: t-statistic = 0.7040279806982056, p-value = 0.5543462028043489\n",
      "hamida vs paoletti: t-statistic = 1.2929770836769312, p-value = 0.32523596633263474\n",
      "li vs mou: t-statistic = 1.308329333145035, p-value = 0.3209071704815807\n",
      "li vs paoletti: t-statistic = 1.9956075640617443, p-value = 0.18410246889449344\n",
      "mou vs paoletti: t-statistic = 0.652675521526877, p-value = 0.5809621632058628\n",
      "\n",
      "-> IndianPines, PCA  --------------------------------------------------------------\n",
      "N Components         8          15         30\n",
      "Model                                        \n",
      "hamida        97.120266  96.905506  97.188598\n",
      "li            97.393596  91.126513  75.409996\n",
      "mou           92.786021  80.534947  64.789145\n",
      "paoletti      95.616947  66.175322  64.506052\n",
      "ANOVA test -> F-statistic: 1.7596320484208459, p-value: 0.23235969425672187\n",
      "No significant difference in accuracies for ANOVA\n",
      "\n",
      "Paired T Tests\n",
      "hamida vs li: t-statistic = 1.3825624373517558, p-value = 0.30094031349948835\n",
      "hamida vs mou: t-statistic = 2.1775616103115776, p-value = 0.1613450044031059\n",
      "hamida vs paoletti: t-statistic = 2.145961318060155, p-value = 0.16501139702997833\n",
      "li vs mou: t-statistic = 4.304273978633359, p-value = 0.049965116494195334\n",
      "li vs paoletti: t-statistic = 1.8611223891194866, p-value = 0.20378845806992923\n",
      "mou vs paoletti: t-statistic = 0.7445451803986143, p-value = 0.5341446742765356\n",
      "\n",
      "-> IndianPines, FastICA  --------------------------------------------------------------\n",
      "N Components         8          15         30\n",
      "Model                                        \n",
      "hamida        96.856697  97.305740  97.422882\n",
      "li            97.061695  96.466224  23.350254\n",
      "mou           88.803202  92.981257  90.609137\n",
      "paoletti      93.576728  95.958610  93.986724\n",
      "ANOVA test -> F-statistic: 0.8420455548475339, p-value: 0.5081784605536093\n",
      "No significant difference in accuracies for ANOVA\n",
      "\n",
      "Paired T Tests\n",
      "hamida vs li: t-statistic = 1.012828335254701, p-value = 0.4177436822854348\n",
      "hamida vs mou: t-statistic = 5.834598567909899, p-value = 0.02814094859354208\n",
      "hamida vs paoletti: t-statistic = 4.000668518781016, p-value = 0.05717345438667053\n",
      "li vs mou: t-statistic = -0.757917007362093, p-value = 0.5276320557345309\n",
      "li vs paoletti: t-statistic = -0.9169682411782791, p-value = 0.455959020586293\n",
      "mou vs paoletti: t-statistic = -6.813654833298623, p-value = 0.020867843434128185\n",
      "\n",
      "-> IndianPines, UMAP  --------------------------------------------------------------\n",
      "N Components         8          15         30\n",
      "Model                                        \n",
      "hamida        96.192893  97.247169  97.344787\n",
      "li            97.130027  97.305740  97.393596\n",
      "mou           84.019914  93.088637  94.347911\n",
      "paoletti      91.653651  92.629832  93.000781\n",
      "ANOVA test -> F-statistic: 4.142154374048074, p-value: 0.04793062457618788\n",
      "ANOVA indicates a significant difference in accuracies.\n",
      "\n",
      "Paired T Tests\n",
      "hamida vs li: t-statistic = -1.1822663118076038, p-value = 0.35861415360205195\n",
      "hamida vs mou: t-statistic = 2.2334758944973996, p-value = 0.1551260119337394\n",
      "hamida vs paoletti: t-statistic = 55.36430917810278, p-value = 0.0003260827051226397\n",
      "li vs mou: t-statistic = 2.1371253303319335, p-value = 0.16605691993682445\n",
      "li vs paoletti: t-statistic = 14.942647404502543, p-value = 0.004448762773741901\n",
      "mou vs paoletti: t-statistic = -0.679920485721515, p-value = 0.5667003270955366\n",
      "\n",
      "-> IndianPines, SOM  --------------------------------------------------------------\n",
      "N Components         8          15         30\n",
      "Model                                        \n",
      "hamida        91.111328  95.170261  97.092399\n",
      "li            83.734999  83.393502  90.525905\n",
      "mou           78.114938  78.993072  87.725632\n",
      "paoletti      84.359450  89.120890  89.501415\n",
      "ANOVA test -> F-statistic: 5.532830308525309, p-value: 0.023665699221945474\n",
      "ANOVA indicates a significant difference in accuracies.\n",
      "\n",
      "Paired T Tests\n",
      "hamida vs li: t-statistic = 5.296173946135485, p-value = 0.03385142957096926\n",
      "hamida vs mou: t-statistic = 6.529755215919346, p-value = 0.022659308481511767\n",
      "hamida vs paoletti: t-statistic = 15.25425539619366, p-value = 0.004270014578458\n",
      "li vs mou: t-statistic = 5.234229010068444, p-value = 0.03461603405274537\n",
      "li vs paoletti: t-statistic = -0.8737655418258559, p-value = 0.47438489979621357\n",
      "mou vs paoletti: t-statistic = -2.5069935534826304, p-value = 0.12902332682052198\n",
      "\n",
      "-> IndianPines, Var  --------------------------------------------------------------\n",
      "N Components         8          15         30\n",
      "Model                                        \n",
      "hamida        80.076142  94.894572  96.807888\n",
      "li            87.983210  89.945334  90.999610\n",
      "mou           76.142132  87.377977  85.884420\n",
      "paoletti      80.720422  85.845373  87.221788\n",
      "ANOVA test -> F-statistic: 1.201718065045162, p-value: 0.3694746304354377\n",
      "No significant difference in accuracies for ANOVA\n",
      "\n",
      "Paired T Tests\n",
      "hamida vs li: t-statistic = 0.21421255474062112, p-value = 0.8502371495743857\n",
      "hamida vs mou: t-statistic = 3.6959426038682937, p-value = 0.06603746769684168\n",
      "hamida vs paoletti: t-statistic = 1.8040134955338392, p-value = 0.21299853090442064\n",
      "li vs mou: t-statistic = 2.352662780945232, p-value = 0.1429277871838214\n",
      "li vs paoletti: t-statistic = 4.539106096954329, p-value = 0.04526544751160744\n",
      "mou vs paoletti: t-statistic = -0.8277035582659973, p-value = 0.494879329023451\n",
      "\n",
      "-> IndianPines, Corr  --------------------------------------------------------------\n",
      "N Components         8          15         30\n",
      "Model                                        \n",
      "hamida        81.540414  85.503709  93.645061\n",
      "li            74.414291  67.073409  65.081999\n",
      "mou           76.024990  79.578290  83.199922\n",
      "paoletti      79.129246  79.597813  77.459977\n",
      "ANOVA test -> F-statistic: 8.628803109335509, p-value: 0.006883109257787665\n",
      "ANOVA indicates a significant difference in accuracies.\n",
      "\n",
      "Paired T Tests\n",
      "hamida vs li: t-statistic = 2.913695906038865, p-value = 0.10036930157943073\n",
      "hamida vs mou: t-statistic = 4.619205900454113, p-value = 0.04380994908639687\n",
      "hamida vs paoletti: t-statistic = 1.9757367906175662, p-value = 0.18684566054316296\n",
      "li vs mou: t-statistic = -2.217265704832012, p-value = 0.15689462535314044\n",
      "li vs paoletti: t-statistic = -3.827876953018211, p-value = 0.0619707162763849\n",
      "mou vs paoletti: t-statistic = 0.3364763746098069, p-value = 0.7685364578992189\n"
     ]
    }
   ],
   "source": [
    "\n",
    "print('Comparing Model\\'s performances with different Data Reduction methods.')\n",
    "tests_results = []\n",
    "for ds in ['Salinas', 'IndianPines']:\n",
    "    for dr in ['PCA', 'FastICA', 'UMAP', 'SOM', 'Var', 'Corr']:\n",
    "        print(f'\\n-> {ds}, {dr}  --------------------------------------------------------------')\n",
    "        accuracies = accuracies_by_n_comps(df_results, ds, dr)\n",
    "        ANOVA_result, T_test_results = ANOVA_TTest(accuracies, \n",
    "                transposed=False, \n",
    "                describe=False, \n",
    "                ind_samples=False)\n",
    "        \n",
    "        tests_results.append({\n",
    "            'Dataset': ds, \n",
    "            'Data Reduction': dr,\n",
    "            'ANOVA': ANOVA_result,\n",
    "            'T Tests': T_test_results\n",
    "        }\n",
    "        )"
   ]
  },
  {
   "cell_type": "code",
   "execution_count": 36,
   "metadata": {},
   "outputs": [
    {
     "data": {
      "text/html": [
       "<div>\n",
       "<style scoped>\n",
       "    .dataframe tbody tr th:only-of-type {\n",
       "        vertical-align: middle;\n",
       "    }\n",
       "\n",
       "    .dataframe tbody tr th {\n",
       "        vertical-align: top;\n",
       "    }\n",
       "\n",
       "    .dataframe thead th {\n",
       "        text-align: right;\n",
       "    }\n",
       "</style>\n",
       "<table border=\"1\" class=\"dataframe\">\n",
       "  <thead>\n",
       "    <tr style=\"text-align: right;\">\n",
       "      <th></th>\n",
       "      <th>Dataset</th>\n",
       "      <th>Data Reduction</th>\n",
       "      <th>ANOVA</th>\n",
       "      <th>T Tests</th>\n",
       "    </tr>\n",
       "  </thead>\n",
       "  <tbody>\n",
       "    <tr>\n",
       "      <th>0</th>\n",
       "      <td>Salinas</td>\n",
       "      <td>PCA</td>\n",
       "      <td>False</td>\n",
       "      <td>[]</td>\n",
       "    </tr>\n",
       "    <tr>\n",
       "      <th>1</th>\n",
       "      <td>Salinas</td>\n",
       "      <td>FastICA</td>\n",
       "      <td>False</td>\n",
       "      <td>[]</td>\n",
       "    </tr>\n",
       "    <tr>\n",
       "      <th>2</th>\n",
       "      <td>Salinas</td>\n",
       "      <td>UMAP</td>\n",
       "      <td>False</td>\n",
       "      <td>[li &gt; hamida, mou &gt; hamida, paoletti &gt; hamida,...</td>\n",
       "    </tr>\n",
       "    <tr>\n",
       "      <th>3</th>\n",
       "      <td>Salinas</td>\n",
       "      <td>SOM</td>\n",
       "      <td>False</td>\n",
       "      <td>[hamida &gt; mou]</td>\n",
       "    </tr>\n",
       "    <tr>\n",
       "      <th>4</th>\n",
       "      <td>Salinas</td>\n",
       "      <td>Var</td>\n",
       "      <td>False</td>\n",
       "      <td>[]</td>\n",
       "    </tr>\n",
       "    <tr>\n",
       "      <th>5</th>\n",
       "      <td>Salinas</td>\n",
       "      <td>Corr</td>\n",
       "      <td>False</td>\n",
       "      <td>[li &gt; hamida]</td>\n",
       "    </tr>\n",
       "    <tr>\n",
       "      <th>6</th>\n",
       "      <td>IndianPines</td>\n",
       "      <td>PCA</td>\n",
       "      <td>False</td>\n",
       "      <td>[li &gt; mou]</td>\n",
       "    </tr>\n",
       "    <tr>\n",
       "      <th>7</th>\n",
       "      <td>IndianPines</td>\n",
       "      <td>FastICA</td>\n",
       "      <td>False</td>\n",
       "      <td>[hamida &gt; mou, paoletti &gt; mou]</td>\n",
       "    </tr>\n",
       "    <tr>\n",
       "      <th>8</th>\n",
       "      <td>IndianPines</td>\n",
       "      <td>UMAP</td>\n",
       "      <td>True</td>\n",
       "      <td>[hamida &gt; paoletti, li &gt; paoletti]</td>\n",
       "    </tr>\n",
       "    <tr>\n",
       "      <th>9</th>\n",
       "      <td>IndianPines</td>\n",
       "      <td>SOM</td>\n",
       "      <td>True</td>\n",
       "      <td>[hamida &gt; li, hamida &gt; mou, hamida &gt; paoletti,...</td>\n",
       "    </tr>\n",
       "    <tr>\n",
       "      <th>10</th>\n",
       "      <td>IndianPines</td>\n",
       "      <td>Var</td>\n",
       "      <td>False</td>\n",
       "      <td>[li &gt; paoletti]</td>\n",
       "    </tr>\n",
       "    <tr>\n",
       "      <th>11</th>\n",
       "      <td>IndianPines</td>\n",
       "      <td>Corr</td>\n",
       "      <td>True</td>\n",
       "      <td>[hamida &gt; mou]</td>\n",
       "    </tr>\n",
       "  </tbody>\n",
       "</table>\n",
       "</div>"
      ],
      "text/plain": [
       "        Dataset Data Reduction  ANOVA  \\\n",
       "0       Salinas            PCA  False   \n",
       "1       Salinas        FastICA  False   \n",
       "2       Salinas           UMAP  False   \n",
       "3       Salinas            SOM  False   \n",
       "4       Salinas            Var  False   \n",
       "5       Salinas           Corr  False   \n",
       "6   IndianPines            PCA  False   \n",
       "7   IndianPines        FastICA  False   \n",
       "8   IndianPines           UMAP   True   \n",
       "9   IndianPines            SOM   True   \n",
       "10  IndianPines            Var  False   \n",
       "11  IndianPines           Corr   True   \n",
       "\n",
       "                                              T Tests  \n",
       "0                                                  []  \n",
       "1                                                  []  \n",
       "2   [li > hamida, mou > hamida, paoletti > hamida,...  \n",
       "3                                      [hamida > mou]  \n",
       "4                                                  []  \n",
       "5                                       [li > hamida]  \n",
       "6                                          [li > mou]  \n",
       "7                      [hamida > mou, paoletti > mou]  \n",
       "8                  [hamida > paoletti, li > paoletti]  \n",
       "9   [hamida > li, hamida > mou, hamida > paoletti,...  \n",
       "10                                    [li > paoletti]  \n",
       "11                                     [hamida > mou]  "
      ]
     },
     "execution_count": 36,
     "metadata": {},
     "output_type": "execute_result"
    }
   ],
   "source": [
    "df_tests_results = pd.DataFrame.from_dict(tests_results)\n",
    "df_tests_results"
   ]
  },
  {
   "cell_type": "code",
   "execution_count": 44,
   "metadata": {},
   "outputs": [
    {
     "name": "stdout",
     "output_type": "stream",
     "text": [
      "Comparing Model's performances with different Data Reduction methods.\n",
      "\n",
      "-> Salinas, PCA, 8 --------------------------------------------------------------\n",
      "          Class 1   Class 2  Class 3   Class 4   Class 5   Class 6   Class 7  \\\n",
      "Model                                                                          \n",
      "hamida        0.0  0.952713      1.0  0.998484  0.992115  0.998507  0.984592   \n",
      "li            0.0  0.952713      1.0  0.999494  0.990674  0.998136  0.984592   \n",
      "mou           0.0  0.952713      1.0  0.995464  0.982845  0.993680  0.983102   \n",
      "paoletti      0.0  0.952713      1.0  0.985930  0.973571  0.985926  0.984095   \n",
      "\n",
      "           Class 8   Class 9  Class 10  Class 11  Class 12  Class 13  \\\n",
      "Model                                                                  \n",
      "hamida    0.988265  0.996293  0.970785  0.968165  0.970451  0.975983   \n",
      "li        0.988265  0.996132  0.971960  0.970037  0.970954  0.975983   \n",
      "mou       0.987147  0.995811  0.967732  0.966324  0.970954  0.975983   \n",
      "paoletti  0.988265  0.995650  0.960558  0.929616  0.965446  0.975983   \n",
      "\n",
      "          Class 14  Class 15  Class 16  \n",
      "Model                                   \n",
      "hamida    0.971989  0.748728  0.859513  \n",
      "li        0.971082  0.818878  0.859989  \n",
      "mou       0.971055  0.798746  0.859989  \n",
      "paoletti  0.972897  0.814762  0.859513  \n",
      "ANOVA test -> F-statistic: 0.0019855230135283576, p-value: 0.9998764429632678\n",
      "No significant difference in accuracies for ANOVA\n",
      "\n",
      "Paired T Tests\n",
      "hamida vs li: t-statistic = -1.0318488589506127, p-value = 0.31849405233030786\n",
      "hamida vs mou: t-statistic = -0.47411458137961604, p-value = 0.642245915544843\n",
      "hamida vs paoletti: t-statistic = 0.3780171168027341, p-value = 0.7107136791773082\n",
      "li vs mou: t-statistic = 2.29827111492064, p-value = 0.03634553237145799\n",
      "li vs paoletti: t-statistic = 2.3958969851952086, p-value = 0.030065017299667457\n",
      "mou vs paoletti: t-statistic = 1.3186806724196163, p-value = 0.20705574792014564\n",
      "\n",
      "-> Salinas, PCA, 15 --------------------------------------------------------------\n",
      "          Class 1   Class 2   Class 3   Class 4   Class 5   Class 6   Class 7  \\\n",
      "Model                                                                           \n",
      "hamida        0.0  0.952713  1.000000  0.998988  0.991404  0.996642  0.984592   \n",
      "li            0.0  0.952713  1.000000  0.995466  0.989993  0.997386  0.984592   \n",
      "mou           0.0  0.925336  0.981751  0.874012  0.927940  0.900256  0.984343   \n",
      "paoletti      0.0  0.923345  0.980185  0.867640  0.986448  0.922702  0.984592   \n",
      "\n",
      "           Class 8   Class 9  Class 10  Class 11  Class 12  Class 13  \\\n",
      "Model                                                                  \n",
      "hamida    0.987709  0.863997  0.995008  0.959673  0.949168  0.966443   \n",
      "li        0.987713  0.862040  0.995330  0.960267  0.952734  0.969948   \n",
      "mou       0.951866  0.698493  0.936374  0.778986  0.651297  0.920460   \n",
      "paoletti  0.940549  0.706501  0.989375  0.815890  0.829861  0.926756   \n",
      "\n",
      "          Class 14  Class 15  Class 16  \n",
      "Model                                   \n",
      "hamida    0.975983  0.972897  0.855881  \n",
      "li        0.975983  0.970093  0.859436  \n",
      "mou       0.823417  0.941976  0.596257  \n",
      "paoletti  0.848633  0.948998  0.628807  \n",
      "ANOVA test -> F-statistic: 0.667478108047986, p-value: 0.5753171778413795\n",
      "No significant difference in accuracies for ANOVA\n",
      "\n",
      "Paired T Tests\n",
      "hamida vs li: t-statistic = -0.31335290060488247, p-value = 0.7583275581568352\n",
      "hamida vs mou: t-statistic = 4.259417025594453, p-value = 0.0006855932563800094\n",
      "hamida vs paoletti: t-statistic = 4.1206999811925105, p-value = 0.0009073846240457723\n",
      "li vs mou: t-statistic = 4.226837362559641, p-value = 0.0007321432673885083\n",
      "li vs paoletti: t-statistic = 4.101222188386794, p-value = 0.0009439172409055625\n",
      "mou vs paoletti: t-statistic = -2.2187234049938738, p-value = 0.04235286286637155\n",
      "\n",
      "-> Salinas, PCA, 30 --------------------------------------------------------------\n",
      "          Class 1   Class 2   Class 3   Class 4   Class 5   Class 6   Class 7  \\\n",
      "Model                                                                           \n",
      "hamida        0.0  0.952713  1.000000  1.000000  0.992109  0.999254  0.984592   \n",
      "li            0.0  0.952713  1.000000  1.000000  0.992826  0.999627  0.984592   \n",
      "mou           0.0  0.952713  1.000000  0.946524  0.974910  0.960414  0.983842   \n",
      "paoletti      0.0  0.952713  0.999732  0.942718  0.978556  0.968831  0.984095   \n",
      "\n",
      "           Class 8   Class 9  Class 10  Class 11  Class 12  Class 13  \\\n",
      "Model                                                                  \n",
      "hamida    0.988265  0.931549  0.996132  0.972561  0.970974  0.971458   \n",
      "li        0.988265  0.940085  0.995811  0.972248  0.970974  0.971458   \n",
      "mou       0.986886  0.882994  0.990227  0.937443  0.945167  0.932271   \n",
      "paoletti  0.982123  0.839603  0.992601  0.918878  0.864250  0.957862   \n",
      "\n",
      "          Class 14  Class 15  Class 16  Class 17  \n",
      "Model                                             \n",
      "hamida    0.975983  0.971082  0.874834  0.859989  \n",
      "li        0.975983  0.971989  0.888132  0.860542  \n",
      "mou       0.966486  0.959259  0.813173  0.858485  \n",
      "paoletti  0.965104  0.939891  0.742974  0.855721  \n",
      "ANOVA test -> F-statistic: 0.08349746492586983, p-value: 0.968797811472866\n",
      "No significant difference in accuracies for ANOVA\n",
      "\n",
      "Paired T Tests\n",
      "hamida vs li: t-statistic = -1.558731927691846, p-value = 0.13861826853972511\n",
      "hamida vs mou: t-statistic = 3.9838396763455304, p-value = 0.0010676972210099838\n",
      "hamida vs paoletti: t-statistic = 3.2415400492593935, p-value = 0.005111187264146933\n",
      "li vs mou: t-statistic = 3.8181929766840454, p-value = 0.0015135155662012508\n",
      "li vs paoletti: t-statistic = 3.1689593928405264, p-value = 0.005953504596437184\n",
      "mou vs paoletti: t-statistic = 1.787680536258793, p-value = 0.09278160129954742\n",
      "\n",
      "-> Salinas, FastICA, 8 --------------------------------------------------------------\n",
      "          Class 1   Class 2   Class 3   Class 4   Class 5   Class 6   Class 7  \\\n",
      "Model                                                                           \n",
      "hamida        0.0  0.952713  1.000000  0.993464  0.989964  0.997391  0.984592   \n",
      "li            0.0  0.952713  1.000000  0.996973  0.992109  0.999254  0.984592   \n",
      "mou           0.0  0.952713  0.998392  0.966281  0.981415  0.970193  0.984592   \n",
      "paoletti      0.0  0.951717  0.999464  0.986915  0.970984  0.984109  0.984592   \n",
      "\n",
      "           Class 8   Class 9  Class 10  Class 11  Class 12  Class 13  \\\n",
      "Model                                                                  \n",
      "hamida    0.987430  0.994047  0.964079  0.963619  0.968410  0.975983   \n",
      "li        0.988265  0.995651  0.969808  0.970974  0.971458  0.975983   \n",
      "mou       0.983579  0.995169  0.961153  0.957049  0.970436  0.975983   \n",
      "paoletti  0.987985  0.993884  0.954587  0.957447  0.971458  0.975983   \n",
      "\n",
      "          Class 14  Class 15  Class 16  \n",
      "Model                                   \n",
      "hamida    0.971989  0.780945  0.857459  \n",
      "li        0.972015  0.825441  0.858329  \n",
      "mou       0.968401  0.712289  0.854455  \n",
      "paoletti  0.970205  0.807417  0.859513  \n",
      "ANOVA test -> F-statistic: 0.00877911793821102, p-value: 0.9988585772864121\n",
      "No significant difference in accuracies for ANOVA\n",
      "\n",
      "Paired T Tests\n",
      "hamida vs li: t-statistic = -1.6398733003969286, p-value = 0.12182935017537866\n",
      "hamida vs mou: t-statistic = 2.0628708057089833, p-value = 0.05688292180217685\n",
      "hamida vs paoletti: t-statistic = 0.6718719968198343, p-value = 0.5118814048909632\n",
      "li vs mou: t-statistic = 1.9606172590285798, p-value = 0.06876605040777622\n",
      "li vs paoletti: t-statistic = 3.0832164052562296, p-value = 0.00757237868444634\n",
      "mou vs paoletti: t-statistic = -1.2735468749821715, p-value = 0.22220593598529875\n",
      "\n",
      "-> Salinas, FastICA, 15 --------------------------------------------------------------\n",
      "          Class 1   Class 2   Class 3   Class 4   Class 5   Class 6   Class 7  \\\n",
      "Model                                                                           \n",
      "hamida        0.0  0.934282  0.993576  0.885036  0.942693  0.923789  0.977604   \n",
      "li            0.0  0.000000  0.000000  0.000000  0.000000  0.000000  0.000000   \n",
      "mou           0.0  0.952713  0.998926  0.978109  0.962116  0.964129  0.984592   \n",
      "paoletti      0.0  0.952713  0.999732  0.999494  0.987088  0.994799  0.984095   \n",
      "\n",
      "           Class 8   Class 9  Class 10  Class 11  Class 12  Class 13  \\\n",
      "Model                                                                  \n",
      "hamida    0.983278  0.653063  0.951553  0.859353  0.826679  0.877541   \n",
      "li        0.000000  0.209033  0.000000  0.000000  0.000000  0.000000   \n",
      "mou       0.987427  0.830750  0.967874  0.925000  0.931545  0.955102   \n",
      "paoletti  0.986607  0.960178  0.995810  0.968104  0.965388  0.971458   \n",
      "\n",
      "          Class 14  Class 15  Class 16  \n",
      "Model                                   \n",
      "hamida    0.736892  0.750645  0.828933  \n",
      "li        0.000000  0.000000  0.000000  \n",
      "mou       0.963243  0.953747  0.853901  \n",
      "paoletti  0.973856  0.968224  0.860542  \n",
      "ANOVA test -> F-statistic: 66.92589745230302, p-value: 3.963787263626312e-19\n",
      "ANOVA indicates a significant difference in accuracies.\n",
      "\n",
      "Paired T Tests\n",
      "hamida vs li: t-statistic = 12.698320674940582, p-value = 1.9878924143736116e-09\n",
      "hamida vs mou: t-statistic = -3.624510113035914, p-value = 0.0024969649840916102\n",
      "hamida vs paoletti: t-statistic = -3.8602633464165366, p-value = 0.0015412803679231313\n",
      "li vs mou: t-statistic = -14.002671042478907, p-value = 5.106754115100974e-10\n",
      "li vs paoletti: t-statistic = -14.48957207006114, p-value = 3.1616281507830397e-10\n",
      "mou vs paoletti: t-statistic = -2.8242145196232133, p-value = 0.012817538213034713\n",
      "\n",
      "-> Salinas, FastICA, 30 --------------------------------------------------------------\n",
      "          Class 1   Class 2  Class 3   Class 4   Class 5   Class 6   Class 7  \\\n",
      "Model                                                                          \n",
      "hamida        0.0  0.952713      1.0  0.996465  0.985765  0.992543  0.984592   \n",
      "li            0.0  0.952713      1.0  0.987988  0.974414  0.984921  0.984592   \n",
      "mou           0.0  0.952239      1.0  0.982966  0.959068  0.970447  0.984592   \n",
      "paoletti      0.0  0.952713      1.0  0.959960  0.969718  0.944385  0.984592   \n",
      "\n",
      "           Class 8   Class 9  Class 10  Class 11  Class 12  Class 13  \\\n",
      "Model                                                                  \n",
      "hamida    0.988265  0.923492  0.995971  0.967113  0.959297  0.968912   \n",
      "li        0.987706  0.852884  0.995490  0.959927  0.935393  0.959016   \n",
      "mou       0.988265  0.880221  0.991787  0.956837  0.922252  0.968896   \n",
      "paoletti  0.988265  0.915324  0.995330  0.952729  0.942884  0.970954   \n",
      "\n",
      "          Class 14  Class 15  Class 16  Class 17  \n",
      "Model                                             \n",
      "hamida    0.973856  0.971028  0.863043  0.860542  \n",
      "li        0.972737  0.966512  0.722441  0.856115  \n",
      "mou       0.968581  0.953271  0.798060  0.857222  \n",
      "paoletti  0.959227  0.958879  0.854928  0.861096  \n",
      "ANOVA test -> F-statistic: 0.01732168086539894, p-value: 0.9968642026168587\n",
      "No significant difference in accuracies for ANOVA\n",
      "\n",
      "Paired T Tests\n",
      "hamida vs li: t-statistic = 1.9556206624774388, p-value = 0.06820465786092852\n",
      "hamida vs mou: t-statistic = 3.2026970401000248, p-value = 0.005546180975493337\n",
      "hamida vs paoletti: t-statistic = 2.99222805440919, p-value = 0.008618067968285585\n",
      "li vs mou: t-statistic = -0.47456497732817243, p-value = 0.6415094936866678\n",
      "li vs paoletti: t-statistic = -0.7460717237439783, p-value = 0.4664451485053306\n",
      "mou vs paoletti: t-statistic = -0.9522736398891085, p-value = 0.3551236073115366\n",
      "\n",
      "-> Salinas, UMAP, 8 --------------------------------------------------------------\n",
      "          Class 1   Class 2   Class 3   Class 4   Class 5   Class 6   Class 7  \\\n",
      "Model                                                                           \n",
      "hamida        0.0  0.952215  0.999463  0.992462  0.991404  0.997388  0.984091   \n",
      "li            0.0  0.952215  0.999463  0.991397  0.993544  0.999627  0.984592   \n",
      "mou           0.0  0.952215  0.999732  0.999494  0.992120  0.999253  0.984592   \n",
      "paoletti      0.0  0.952713  1.000000  0.997476  0.989979  0.996269  0.984343   \n",
      "\n",
      "           Class 8   Class 9  Class 10  Class 11  Class 12  Class 13  \\\n",
      "Model                                                                  \n",
      "hamida    0.987985  0.994850  0.957113  0.964585  0.971458  0.973828   \n",
      "li        0.988265  0.994689  0.966091  0.970974  0.971458  0.975983   \n",
      "mou       0.988265  0.996453  0.965475  0.970974  0.971458  0.974891   \n",
      "paoletti  0.988265  0.996292  0.971681  0.968165  0.971458  0.975983   \n",
      "\n",
      "          Class 14  Class 15  Class 16  \n",
      "Model                                   \n",
      "hamida    0.965517  0.683198  0.860066  \n",
      "li        0.970121  0.733010  0.861096  \n",
      "mou       0.969302  0.722106  0.861096  \n",
      "paoletti  0.973832  0.697073  0.861096  \n",
      "ANOVA test -> F-statistic: 0.001234214269956476, p-value: 0.9999394032715588\n",
      "No significant difference in accuracies for ANOVA\n",
      "\n",
      "Paired T Tests\n",
      "hamida vs li: t-statistic = -1.5624447556043546, p-value = 0.13903095547162952\n",
      "hamida vs mou: t-statistic = -1.8746949499446754, p-value = 0.08044226050797806\n",
      "hamida vs paoletti: t-statistic = -2.454807717296215, p-value = 0.026787121374469383\n",
      "li vs mou: t-statistic = 0.3577316350069532, p-value = 0.7255279553060354\n",
      "li vs paoletti: t-statistic = 0.7326147350872434, p-value = 0.4750867026758909\n",
      "mou vs paoletti: t-statistic = 0.8465584534911565, p-value = 0.4105443320660698\n",
      "\n",
      "-> Salinas, UMAP, 15 --------------------------------------------------------------\n",
      "          Class 1   Class 2   Class 3   Class 4   Class 5   Class 6   Class 7  \\\n",
      "Model                                                                           \n",
      "hamida        0.0  0.952713  0.999463  0.991968  0.992826  0.998507  0.984343   \n",
      "li            0.0  0.952713  1.000000  0.998484  0.993544  0.998880  0.984592   \n",
      "mou           0.0  0.952713  1.000000  0.998988  0.993544  1.000000  0.984592   \n",
      "paoletti      0.0  0.952713  1.000000  0.999494  0.992826  0.999627  0.984592   \n",
      "\n",
      "           Class 8   Class 9  Class 10  Class 11  Class 12  Class 13  \\\n",
      "Model                                                                  \n",
      "hamida    0.988265  0.789534  0.995811  0.964024  0.968254  0.971458   \n",
      "li        0.988265  0.828144  0.996132  0.972561  0.970974  0.971458   \n",
      "mou       0.988265  0.809674  0.995972  0.970776  0.970974  0.971458   \n",
      "paoletti  0.987989  0.832659  0.995809  0.972256  0.969159  0.971458   \n",
      "\n",
      "          Class 14  Class 15  Class 16  \n",
      "Model                                   \n",
      "hamida    0.975983  0.971989  0.860542  \n",
      "li        0.973856  0.971028  0.861096  \n",
      "mou       0.975983  0.972923  0.860619  \n",
      "paoletti  0.975983  0.972923  0.860542  \n",
      "ANOVA test -> F-statistic: 0.0008099369544190748, p-value: 0.9999677734182189\n",
      "No significant difference in accuracies for ANOVA\n",
      "\n",
      "Paired T Tests\n",
      "hamida vs li: t-statistic = -1.438065711682812, p-value = 0.17095126826399837\n",
      "hamida vs mou: t-statistic = -1.9561093664534894, p-value = 0.06933838784020313\n",
      "hamida vs paoletti: t-statistic = -1.4453573725519533, p-value = 0.1689251703762819\n",
      "li vs mou: t-statistic = 0.800996461406284, p-value = 0.4356384050409198\n",
      "li vs paoletti: t-statistic = -1.0792398743762572, p-value = 0.2975298311099193\n",
      "mou vs paoletti: t-statistic = -0.9277840552541194, p-value = 0.368208819084592\n",
      "\n",
      "No significant difference found with T Tests\n",
      "\n",
      "-> Salinas, UMAP, 30 --------------------------------------------------------------\n",
      "          Class 1   Class 2   Class 3  Class 4   Class 5   Class 6   Class 7  \\\n",
      "Model                                                                          \n",
      "hamida        0.0  0.952215  0.999732  0.99798  0.992832  0.998133  0.984592   \n",
      "li            0.0  0.952713  1.000000  1.00000  0.993544  1.000000  0.984592   \n",
      "mou           0.0  0.952713  1.000000  1.00000  0.991392  0.998881  0.984592   \n",
      "paoletti      0.0  0.952713  1.000000  0.99647  0.992832  0.997013  0.984592   \n",
      "\n",
      "           Class 8   Class 9  Class 10  Class 11  Class 12  Class 13  \\\n",
      "Model                                                                  \n",
      "hamida    0.988265  0.827892  0.996453  0.971985  0.970974  0.971458   \n",
      "li        0.988265  0.860461  0.996453  0.973468  0.970974  0.971458   \n",
      "mou       0.988265  0.845413  0.996453  0.972578  0.970974  0.971458   \n",
      "paoletti  0.988265  0.848969  0.996293  0.973764  0.970974  0.971458   \n",
      "\n",
      "          Class 14  Class 15  Class 16  Class 17  \n",
      "Model                                             \n",
      "hamida    0.975983  0.970093  0.718978  0.861096  \n",
      "li        0.975983  0.972897  0.775424  0.861096  \n",
      "mou       0.975983  0.972897  0.764263  0.860542  \n",
      "paoletti  0.974891  0.972923  0.770490  0.861096  \n",
      "ANOVA test -> F-statistic: 0.0018124993644259525, p-value: 0.99989230067922\n",
      "No significant difference in accuracies for ANOVA\n",
      "\n",
      "Paired T Tests\n",
      "hamida vs li: t-statistic = -1.5751895167914733, p-value = 0.13477669667953054\n",
      "hamida vs mou: t-statistic = -1.4330078931009158, p-value = 0.17110608314035752\n",
      "hamida vs paoletti: t-statistic = -1.3603434401640107, p-value = 0.19257965870227609\n",
      "li vs mou: t-statistic = 1.7270427891083002, p-value = 0.10341124914530522\n",
      "li vs paoletti: t-statistic = 1.987230129186328, p-value = 0.06429365448616102\n",
      "mou vs paoletti: t-statistic = -0.7347670910976244, p-value = 0.4731139517253852\n",
      "\n",
      "No significant difference found with T Tests\n",
      "\n",
      "-> Salinas, SOM, 8 --------------------------------------------------------------\n",
      "          Class 1   Class 2   Class 3   Class 4   Class 5   Class 6   Class 7  \\\n",
      "Model                                                                           \n",
      "hamida        0.0  0.951717  0.994099  0.944444  0.987857  0.958561  0.981346   \n",
      "li            0.0  0.951717  0.998659  0.906710  0.989247  0.957185  0.983346   \n",
      "mou           0.0  0.865215  0.936903  0.915303  0.987848  0.935916  0.965630   \n",
      "paoletti      0.0  0.828872  0.893351  0.858670  0.989957  0.935334  0.961367   \n",
      "\n",
      "           Class 8   Class 9  Class 10  Class 11  Class 12  Class 13  \\\n",
      "Model                                                                  \n",
      "hamida    0.982212  0.915427  0.777957  0.621410  0.816518  0.898925   \n",
      "li        0.986057  0.894970  0.653457  0.765343  0.658208  0.911017   \n",
      "mou       0.939898  0.885818  0.728289  0.585385  0.759544  0.883526   \n",
      "paoletti  0.919915  0.792383  0.580682  0.099027  0.605138  0.689938   \n",
      "\n",
      "          Class 14  Class 15  Class 16  \n",
      "Model                                   \n",
      "hamida    0.908004  0.625604  0.855169  \n",
      "li        0.869767  0.581352  0.816596  \n",
      "mou       0.779032  0.657926  0.723264  \n",
      "paoletti  0.705926  0.455118  0.578041  \n",
      "ANOVA test -> F-statistic: 0.9987109232357033, p-value: 0.39973979155167816\n",
      "No significant difference in accuracies for ANOVA\n",
      "\n",
      "Paired T Tests\n",
      "hamida vs li: t-statistic = 1.1425709620310345, p-value = 0.2711268812964172\n",
      "hamida vs mou: t-statistic = 3.7872183820331338, p-value = 0.0017893888350159787\n",
      "hamida vs paoletti: t-statistic = 4.403948791395465, p-value = 0.0005128365947135683\n",
      "li vs mou: t-statistic = 1.3019202347383672, p-value = 0.21258267071743142\n",
      "li vs paoletti: t-statistic = 3.1575179987302944, p-value = 0.006505547868786394\n",
      "mou vs paoletti: t-statistic = 3.3324791134496103, p-value = 0.004545813272924533\n",
      "\n",
      "-> Salinas, SOM, 15 --------------------------------------------------------------\n",
      "          Class 1   Class 2   Class 3   Class 4   Class 5   Class 6   Class 7  \\\n",
      "Model                                                                           \n",
      "hamida        0.0  0.899452  0.970044  0.976756  0.985765  0.980861  0.981617   \n",
      "li            0.0  0.952713  0.999732  0.954920  0.990701  0.966779  0.984592   \n",
      "mou           0.0  0.876836  0.941658  0.893577  0.982869  0.935870  0.976137   \n",
      "paoletti      0.0  0.942956  0.989837  0.951113  0.986399  0.955975  0.976412   \n",
      "\n",
      "           Class 8   Class 9  Class 10  Class 11  Class 12  Class 13  \\\n",
      "Model                                                                  \n",
      "hamida    0.985758  0.876628  0.969380  0.851070  0.670588  0.964858   \n",
      "li        0.987706  0.838890  0.970980  0.842970  0.705924  0.967909   \n",
      "mou       0.965527  0.828948  0.957828  0.784502  0.601968  0.947125   \n",
      "paoletti  0.953451  0.849879  0.966104  0.796311  0.572766  0.959016   \n",
      "\n",
      "          Class 14  Class 15  Class 16  \n",
      "Model                                   \n",
      "hamida    0.939262  0.960037  0.859989  \n",
      "li        0.938111  0.965677  0.859436  \n",
      "mou       0.922199  0.947075  0.819277  \n",
      "paoletti  0.966194  0.940585  0.798561  \n",
      "ANOVA test -> F-statistic: 0.0658052332262878, p-value: 0.9777952973952552\n",
      "No significant difference in accuracies for ANOVA\n",
      "\n",
      "Paired T Tests\n",
      "hamida vs li: t-statistic = -0.6350587116658265, p-value = 0.5349580877073153\n",
      "hamida vs mou: t-statistic = 4.839139504010619, p-value = 0.00021662504165482672\n",
      "hamida vs paoletti: t-statistic = 1.9023964847715378, p-value = 0.0764966837433652\n",
      "li vs mou: t-statistic = 4.632515979857147, p-value = 0.0003253340551193223\n",
      "li vs paoletti: t-statistic = 2.1804174603575257, p-value = 0.04556484871479252\n",
      "mou vs paoletti: t-statistic = -2.0263789333172735, p-value = 0.06088987612180583\n",
      "\n",
      "-> Salinas, SOM, 30 --------------------------------------------------------------\n",
      "          Class 1   Class 2   Class 3   Class 4   Class 5   Class 6   Class 7  \\\n",
      "Model                                                                           \n",
      "hamida        0.0  0.952713  0.991680  0.995455  0.989957  0.995908  0.984343   \n",
      "li            0.0  0.952713  0.995974  0.999494  0.989957  0.997022  0.984343   \n",
      "mou           0.0  0.881161  0.951435  0.981592  0.986380  0.985523  0.980367   \n",
      "paoletti      0.0  0.898722  0.954630  0.930740  0.983560  0.964418  0.983346   \n",
      "\n",
      "           Class 8   Class 9  Class 10  Class 11  Class 12  Class 13  \\\n",
      "Model                                                                  \n",
      "hamida    0.979501  0.884009  0.971099  0.959016  0.820976  0.966925   \n",
      "li        0.984140  0.874003  0.986236  0.940083  0.907735  0.969901   \n",
      "mou       0.977273  0.813429  0.964489  0.873367  0.864747  0.962157   \n",
      "paoletti  0.974062  0.833717  0.953727  0.883822  0.789336  0.900435   \n",
      "\n",
      "          Class 14  Class 15  Class 16  Class 17  \n",
      "Model                                             \n",
      "hamida    0.975983  0.967472  0.797865  0.859038  \n",
      "li        0.975983  0.972897  0.800582  0.859989  \n",
      "mou       0.971739  0.948148  0.698392  0.848401  \n",
      "paoletti  0.963362  0.961682  0.751237  0.858882  \n",
      "ANOVA test -> F-statistic: 0.09346068084876957, p-value: 0.9633884236124816\n",
      "No significant difference in accuracies for ANOVA\n",
      "\n",
      "Paired T Tests\n",
      "hamida vs li: t-statistic = -1.0928313405159538, p-value = 0.29064964074222965\n",
      "hamida vs mou: t-statistic = 2.6260773507071296, p-value = 0.018341930304491313\n",
      "hamida vs paoletti: t-statistic = 4.7400201925015075, p-value = 0.00022190557252009418\n",
      "li vs mou: t-statistic = 4.049427217087805, p-value = 0.0009302214891818191\n",
      "li vs paoletti: t-statistic = 4.584534612979109, p-value = 0.0003053352506217481\n",
      "mou vs paoletti: t-statistic = 0.7883287088012765, p-value = 0.44202859956241525\n",
      "\n",
      "-> Salinas, Var, 8 --------------------------------------------------------------\n",
      "          Class 1   Class 2   Class 3   Class 4   Class 5   Class 6   Class 7  \\\n",
      "Model                                                                           \n",
      "hamida        0.0  0.862194  0.916555  0.749557  0.986419  0.912819  0.980600   \n",
      "li            0.0  0.921354  0.954078  0.727666  0.988580  0.904035  0.982602   \n",
      "mou           0.0  0.888112  0.950201  0.873608  0.990694  0.945078  0.980605   \n",
      "paoletti      0.0  0.939921  0.983240  0.726173  0.980714  0.901934  0.978847   \n",
      "\n",
      "           Class 8   Class 9  Class 10  Class 11  Class 12  Class 13  \\\n",
      "Model                                                                  \n",
      "hamida    0.959815  0.912751  0.708252  0.777108  0.672772  0.963362   \n",
      "li        0.952265  0.908817  0.792087  0.751099  0.612689  0.955240   \n",
      "mou       0.963964  0.953766  0.807583  0.832767  0.886386  0.962284   \n",
      "paoletti  0.929061  0.939446  0.717418  0.734043  0.793483  0.949517   \n",
      "\n",
      "          Class 14  Class 15  Class 16  \n",
      "Model                                   \n",
      "hamida    0.952425  0.557093  0.767064  \n",
      "li        0.924866  0.486555  0.735213  \n",
      "mou       0.901890  0.561890  0.716049  \n",
      "paoletti  0.670982  0.557801  0.472468  \n",
      "ANOVA test -> F-statistic: 0.14968990731138032, p-value: 0.9294958804474593\n",
      "No significant difference in accuracies for ANOVA\n",
      "\n",
      "Paired T Tests\n",
      "hamida vs li: t-statistic = 0.5183135072760618, p-value = 0.6118004050216845\n",
      "hamida vs mou: t-statistic = -2.0240844933501205, p-value = 0.061150229263475665\n",
      "hamida vs paoletti: t-statistic = 0.9079858134406296, p-value = 0.37824274802195923\n",
      "li vs mou: t-statistic = -1.984268749514028, p-value = 0.06583268917052565\n",
      "li vs paoletti: t-statistic = 0.7488933399672439, p-value = 0.4655038185438499\n",
      "mou vs paoletti: t-statistic = 2.7066608890985075, p-value = 0.016240367848397965\n",
      "\n",
      "-> Salinas, Var, 15 --------------------------------------------------------------\n",
      "          Class 1   Class 2   Class 3   Class 4   Class 5   Class 6   Class 7  \\\n",
      "Model                                                                           \n",
      "hamida        0.0  0.949279  0.997588  0.847399  0.989278  0.913876  0.984592   \n",
      "li            0.0  0.942857  0.953326  0.858329  0.987874  0.949233  0.983582   \n",
      "mou           0.0  0.929936  0.978621  0.817854  0.981547  0.930829  0.981814   \n",
      "paoletti      0.0  0.936790  0.982367  0.909477  0.987088  0.961001  0.980832   \n",
      "\n",
      "           Class 8   Class 9  Class 10  Class 11  Class 12  Class 13  \\\n",
      "Model                                                                  \n",
      "hamida    0.987989  0.726178  0.961039  0.893585  0.762288  0.930186   \n",
      "li        0.945664  0.744252  0.970076  0.910264  0.812844  0.861022   \n",
      "mou       0.976519  0.718120  0.955653  0.819012  0.833187  0.836491   \n",
      "paoletti  0.959669  0.775012  0.961174  0.873215  0.832903  0.894872   \n",
      "\n",
      "          Class 14  Class 15  Class 16  \n",
      "Model                                   \n",
      "hamida    0.974918  0.969245  0.844639  \n",
      "li        0.954936  0.918140  0.813228  \n",
      "mou       0.933754  0.897887  0.734716  \n",
      "paoletti  0.956150  0.914742  0.779318  \n",
      "ANOVA test -> F-statistic: 0.03756913844327847, p-value: 0.9901653159022437\n",
      "No significant difference in accuracies for ANOVA\n",
      "\n",
      "Paired T Tests\n",
      "hamida vs li: t-statistic = 0.9622917938206514, p-value = 0.35116033487716714\n",
      "hamida vs mou: t-statistic = 2.266078162726377, p-value = 0.03867367828210154\n",
      "hamida vs paoletti: t-statistic = 0.17219628244803747, p-value = 0.8655849925510475\n",
      "li vs mou: t-statistic = 2.131175847851105, p-value = 0.05002587429506309\n",
      "li vs paoletti: t-statistic = -1.0497165502775232, p-value = 0.310467648614866\n",
      "mou vs paoletti: t-statistic = -3.2023552636760173, p-value = 0.00593515886173561\n",
      "\n",
      "-> Salinas, Var, 30 --------------------------------------------------------------\n",
      "          Class 1   Class 2   Class 3   Class 4   Class 5   Class 6   Class 7  \\\n",
      "Model                                                                           \n",
      "hamida        0.0  0.948233  0.997323  0.964444  0.988530  0.989239  0.984343   \n",
      "li            0.0  0.947735  0.997323  0.971154  0.992109  0.994061  0.984592   \n",
      "mou           0.0  0.941728  0.988500  0.960949  0.988522  0.982887  0.984592   \n",
      "paoletti      0.0  0.949726  0.997590  0.964851  0.984263  0.982521  0.984592   \n",
      "\n",
      "           Class 8   Class 9  Class 10  Class 11  Class 12  Class 13  \\\n",
      "Model                                                                  \n",
      "hamida    0.986872  0.783547  0.986832  0.933775  0.916370  0.968443   \n",
      "li        0.986061  0.835144  0.983840  0.928696  0.873488  0.970954   \n",
      "mou       0.960447  0.841818  0.977013  0.909387  0.860621  0.967942   \n",
      "paoletti  0.964148  0.816697  0.974588  0.865242  0.824760  0.953704   \n",
      "\n",
      "          Class 14  Class 15  Class 16  Class 17  \n",
      "Model                                             \n",
      "hamida    0.975983  0.965677  0.687450  0.858882  \n",
      "li        0.975983  0.972897  0.741487  0.854455  \n",
      "mou       0.975983  0.968343  0.753060  0.816777  \n",
      "paoletti  0.972797  0.953211  0.703055  0.823081  \n",
      "ANOVA test -> F-statistic: 0.016269387056358196, p-value: 0.9971427464818923\n",
      "No significant difference in accuracies for ANOVA\n",
      "\n",
      "Paired T Tests\n",
      "hamida vs li: t-statistic = -0.841037540097425, p-value = 0.41272032579173257\n",
      "hamida vs mou: t-statistic = 0.4711415516273444, p-value = 0.6438994500692625\n",
      "hamida vs paoletti: t-statistic = 1.8160789667207928, p-value = 0.08814222800668267\n",
      "li vs mou: t-statistic = 2.7124875224587, p-value = 0.015373550224381034\n",
      "li vs paoletti: t-statistic = 3.8340690689373518, p-value = 0.001463675918570733\n",
      "mou vs paoletti: t-statistic = 2.147756159032975, p-value = 0.047396407686349215\n",
      "\n",
      "-> Salinas, Corr, 8 --------------------------------------------------------------\n",
      "          Class 1   Class 2   Class 3   Class 4   Class 5   Class 6   Class 7  \\\n",
      "Model                                                                           \n",
      "hamida        0.0  0.938695  0.992754  0.937251  0.989993  0.977532  0.984592   \n",
      "li            0.0  0.951717  0.998928  0.977183  0.992120  0.993666  0.984592   \n",
      "mou           0.0  0.952215  0.998660  0.955370  0.990688  0.990727  0.984592   \n",
      "paoletti      0.0  0.944749  0.994130  0.830926  0.950855  0.891320  0.984087   \n",
      "\n",
      "           Class 8   Class 9  Class 10  Class 11  Class 12  Class 13  \\\n",
      "Model                                                                  \n",
      "hamida    0.987706  0.967484  0.931189  0.819218  0.964930  0.965443   \n",
      "li        0.987989  0.942630  0.951990  0.643454  0.969948  0.969631   \n",
      "mou       0.987989  0.959203  0.929323  0.801282  0.949328  0.953763   \n",
      "paoletti  0.982197  0.952494  0.863784  0.747467  0.945932  0.914697   \n",
      "\n",
      "          Class 14  Class 15  Class 16  \n",
      "Model                                   \n",
      "hamida    0.959851  0.569612  0.853120  \n",
      "li        0.964585  0.632243  0.859989  \n",
      "mou       0.946828  0.690481  0.858485  \n",
      "paoletti  0.898242  0.567159  0.840708  \n",
      "ANOVA test -> F-statistic: 0.0810662993846339, p-value: 0.9700669725323746\n",
      "No significant difference in accuracies for ANOVA\n",
      "\n",
      "Paired T Tests\n",
      "hamida vs li: t-statistic = 0.09287037769576446, p-value = 0.9272355958676912\n",
      "hamida vs mou: t-statistic = -0.8506923359247721, p-value = 0.4083151862516823\n",
      "hamida vs paoletti: t-statistic = 3.6745781541724867, p-value = 0.0022534393447464184\n",
      "li vs mou: t-statistic = -0.7225726535742559, p-value = 0.48105739220956845\n",
      "li vs paoletti: t-statistic = 2.2484847048301044, p-value = 0.04000427058492056\n",
      "mou vs paoletti: t-statistic = 3.6971719104109395, p-value = 0.0021515151848411104\n",
      "\n",
      "-> Salinas, Corr, 15 --------------------------------------------------------------\n",
      "          Class 1   Class 2   Class 3   Class 4   Class 5   Class 6   Class 7  \\\n",
      "Model                                                                           \n",
      "hamida        0.0  0.952713  0.998928  0.870811  0.989957  0.909668  0.984592   \n",
      "li            0.0  0.952713  0.999464  0.984947  0.993544  0.995169  0.984592   \n",
      "mou           0.0  0.949254  0.995456  0.872380  0.980714  0.953047  0.983350   \n",
      "paoletti      0.0  0.920178  0.981296  0.943669  0.986380  0.973762  0.984091   \n",
      "\n",
      "           Class 8   Class 9  Class 10  Class 11  Class 12  Class 13  \\\n",
      "Model                                                                  \n",
      "hamida    0.987985  0.778911  0.971186  0.946841  0.848346  0.961100   \n",
      "li        0.988265  0.808469  0.976344  0.952845  0.849793  0.971458   \n",
      "mou       0.982985  0.656661  0.922184  0.881217  0.604982  0.946557   \n",
      "paoletti  0.972576  0.781856  0.930716  0.887798  0.637121  0.947689   \n",
      "\n",
      "          Class 14  Class 15  Class 16  \n",
      "Model                                   \n",
      "hamida    0.962284  0.958917  0.859436  \n",
      "li        0.975983  0.968372  0.859436  \n",
      "mou       0.911249  0.900644  0.848953  \n",
      "paoletti  0.953863  0.933702  0.837734  \n",
      "ANOVA test -> F-statistic: 0.1481252828920154, p-value: 0.9304989965064023\n",
      "No significant difference in accuracies for ANOVA\n",
      "\n",
      "Paired T Tests\n",
      "hamida vs li: t-statistic = -2.090582751171521, p-value = 0.054003017083371796\n",
      "hamida vs mou: t-statistic = 2.2094670377107466, p-value = 0.04310912144440589\n",
      "hamida vs paoletti: t-statistic = 1.2634292508029126, p-value = 0.22571956782296454\n",
      "li vs mou: t-statistic = 3.2436000439762114, p-value = 0.005454365376744613\n",
      "li vs paoletti: t-statistic = 2.9587880055219316, p-value = 0.009757558735330556\n",
      "mou vs paoletti: t-statistic = -1.864901300612728, p-value = 0.08188018342722683\n",
      "\n",
      "-> Salinas, Corr, 30 --------------------------------------------------------------\n",
      "          Class 1   Class 2   Class 3   Class 4   Class 5   Class 6   Class 7  \\\n",
      "Model                                                                           \n",
      "hamida        0.0  0.952713  1.000000  0.990946  0.991398  0.989948  0.984592   \n",
      "li            0.0  0.952713  1.000000  0.994944  0.992832  0.996277  0.984592   \n",
      "mou           0.0  0.950224  0.997321  0.844677  0.975904  0.967407  0.984592   \n",
      "paoletti      0.0  0.894030  0.969555  0.792028  0.936022  0.928881  0.975548   \n",
      "\n",
      "           Class 8   Class 9  Class 10  Class 11  Class 12  Class 13  \\\n",
      "Model                                                                  \n",
      "hamida    0.987713  0.832207  0.982246  0.958144  0.906475  0.967909   \n",
      "li        0.988265  0.880376  0.946265  0.967063  0.664804  0.968944   \n",
      "mou       0.983552  0.783014  0.938104  0.882597  0.592271  0.941086   \n",
      "paoletti  0.984950  0.680829  0.894168  0.776532  0.308993  0.924911   \n",
      "\n",
      "          Class 14  Class 15  Class 16  Class 17  \n",
      "Model                                             \n",
      "hamida    0.963362  0.955224  0.744638  0.856748  \n",
      "li        0.975983  0.973832  0.793310  0.860542  \n",
      "mou       0.920916  0.910517  0.661292  0.848401  \n",
      "paoletti  0.911550  0.911765  0.579278  0.844580  \n",
      "ANOVA test -> F-statistic: 0.6244569463495924, p-value: 0.6017999529573057\n",
      "No significant difference in accuracies for ANOVA\n",
      "\n",
      "Paired T Tests\n",
      "hamida vs li: t-statistic = 0.47312249036837833, p-value = 0.6425160260593621\n",
      "hamida vs mou: t-statistic = 2.752711527929424, p-value = 0.014154937654258168\n",
      "hamida vs paoletti: t-statistic = 2.9786845899251158, p-value = 0.00886484663651448\n",
      "li vs mou: t-statistic = 3.8172906412620606, p-value = 0.0015163990210771223\n",
      "li vs paoletti: t-statistic = 3.9573025240026776, p-value = 0.0011289991898747662\n",
      "mou vs paoletti: t-statistic = 3.045963435142, p-value = 0.007703482754554654\n",
      "\n",
      "-> IndianPines, PCA, 8 --------------------------------------------------------------\n",
      "          Class 1   Class 2   Class 3   Class 4   Class 5   Class 6   Class 7  \\\n",
      "Model                                                                           \n",
      "hamida        0.0  1.000000  0.993012  0.897714  0.995798  0.927536  1.000000   \n",
      "li            0.0  1.000000  0.995122  0.899038  1.000000  0.933747  1.000000   \n",
      "mou           0.0  0.608696  0.868267  0.800226  0.899225  0.898580  0.983651   \n",
      "paoletti      0.0  0.865385  0.950137  0.856643  0.959184  0.929607  0.997264   \n",
      "\n",
      "           Class 8   Class 9  Class 10  Class 11  Class 12  Class 13  \\\n",
      "Model                                                                  \n",
      "hamida    1.000000  1.000000  0.985656  0.969131  0.983221  1.000000   \n",
      "li        1.000000  1.000000  0.993802  0.972301  0.984899  1.000000   \n",
      "mou       0.964286  0.900000  0.844246  0.869764  0.827258  1.000000   \n",
      "paoletti  0.965517  0.952381  0.918307  0.933333  0.903382  0.995122   \n",
      "\n",
      "          Class 14  Class 15  Class 16  \n",
      "Model                                   \n",
      "hamida    0.983670  0.772021  1.000000  \n",
      "li        0.996848  0.808290  1.000000  \n",
      "mou       0.982812  0.764103  0.978723  \n",
      "paoletti  0.996845  0.804124  0.989362  \n",
      "ANOVA test -> F-statistic: 0.42848090811481715, p-value: 0.7333227941522662\n",
      "No significant difference in accuracies for ANOVA\n",
      "\n",
      "Paired T Tests\n",
      "hamida vs li: t-statistic = -2.0751766066821786, p-value = 0.05558710716929571\n",
      "hamida vs mou: t-statistic = 3.339111912713714, p-value = 0.0044843875519800964\n",
      "hamida vs paoletti: t-statistic = 3.0131748279503303, p-value = 0.008735173283345941\n",
      "li vs mou: t-statistic = 3.5981739843420635, p-value = 0.002635511598046665\n",
      "li vs paoletti: t-statistic = 3.7931438693963386, p-value = 0.0017678378063831458\n",
      "mou vs paoletti: t-statistic = -3.3296682875703234, p-value = 0.004572096172774857\n",
      "\n",
      "-> IndianPines, PCA, 15 --------------------------------------------------------------\n",
      "          Class 1   Class 2   Class 3   Class 4   Class 5   Class 6   Class 7  \\\n",
      "Model                                                                           \n",
      "hamida        0.0  1.000000  0.970056  0.894611  0.978903  0.935818  1.000000   \n",
      "li            0.0  0.938776  0.813151  0.770582  0.921811  0.917355  0.979866   \n",
      "mou           0.0  0.021739  0.689594  0.646624  0.597101  0.600760  0.753483   \n",
      "paoletti      0.0  0.043478  0.365487  0.212628  0.447099  0.570523  0.750785   \n",
      "\n",
      "          Class 8   Class 9  Class 10  Class 11  Class 12  Class 13  Class 14  \\\n",
      "Model                                                                           \n",
      "hamida        1.0  1.000000       1.0  0.988683  0.960257  0.976471  1.000000   \n",
      "li            1.0  1.000000       1.0  0.814453  0.829387  0.794406  0.995122   \n",
      "mou           0.0  0.820998       0.0  0.609250  0.732369  0.585859  0.750000   \n",
      "paoletti      0.0  0.829565       0.0  0.460073  0.523471  0.249364  0.687500   \n",
      "\n",
      "          Class 15  Class 16  \n",
      "Model                         \n",
      "hamida    0.991345  1.000000  \n",
      "li        0.954683  0.956989  \n",
      "mou       0.863768  0.875000  \n",
      "paoletti  0.815534  0.989247  \n",
      "ANOVA test -> F-statistic: 10.805770068179946, p-value: 8.97991810364552e-06\n",
      "ANOVA indicates a significant difference in accuracies.\n",
      "\n",
      "Paired T Tests\n",
      "hamida vs li: t-statistic = 3.751214438433994, p-value = 0.0019261592798013206\n",
      "hamida vs mou: t-statistic = 4.818062184535724, p-value = 0.00022575145985353454\n",
      "hamida vs paoletti: t-statistic = 5.8871050303401695, p-value = 2.9855436664311526e-05\n",
      "li vs mou: t-statistic = 3.840398875740667, p-value = 0.0016050913253336568\n",
      "li vs paoletti: t-statistic = 5.275723514271992, p-value = 9.325672494755433e-05\n",
      "mou vs paoletti: t-statistic = 2.601503523340531, p-value = 0.020038931859866715\n",
      "\n",
      "-> IndianPines, PCA, 30 --------------------------------------------------------------\n",
      "          Class 1   Class 2   Class 3   Class 4   Class 5   Class 6   Class 7  \\\n",
      "Model                                                                           \n",
      "hamida        0.0  1.000000  0.990941  0.892771  0.983122  0.937888  1.000000   \n",
      "li            0.0  0.739130  0.488115  0.412865  0.349908  0.757914  0.986450   \n",
      "mou           0.0  0.217391  0.294508  0.251075  0.430894  0.486395  0.773585   \n",
      "paoletti      0.0  0.178571  0.348749  0.059152  0.251852  0.574040  0.819026   \n",
      "\n",
      "           Class 8   Class 9  Class 10  Class 11  Class 12  Class 13  \\\n",
      "Model                                                                  \n",
      "hamida    1.000000  1.000000  1.000000  0.990731  0.967167  0.973289   \n",
      "li        0.928571  0.975510  0.681818  0.442829  0.589398  0.552180   \n",
      "mou       0.035714  0.782537  0.000000  0.470493  0.511740  0.213099   \n",
      "paoletti  0.000000  0.822917  0.000000  0.448661  0.492961  0.213379   \n",
      "\n",
      "          Class 14  Class 15  Class 16  Class 17  \n",
      "Model                                             \n",
      "hamida    1.000000  0.996848  0.797436  0.989362  \n",
      "li        0.816000  0.869748  0.358779  0.968421  \n",
      "mou       0.692308  0.806630  0.198547  0.870968  \n",
      "paoletti  0.679104  0.844901  0.224771  0.989247  \n",
      "ANOVA test -> F-statistic: 11.71524544329921, p-value: 3.261262021347245e-06\n",
      "ANOVA indicates a significant difference in accuracies.\n",
      "\n",
      "Paired T Tests\n",
      "hamida vs li: t-statistic = 5.302004535044886, p-value = 7.155140800661929e-05\n",
      "hamida vs mou: t-statistic = 7.025841397367378, p-value = 2.8633011450000534e-06\n",
      "hamida vs paoletti: t-statistic = 6.302781155252741, p-value = 1.0516481703226119e-05\n",
      "li vs mou: t-statistic = 3.6739676039608105, p-value = 0.0020521493089461326\n",
      "li vs paoletti: t-statistic = 3.64733500922374, p-value = 0.002170903863473932\n",
      "mou vs paoletti: t-statistic = 0.2680987030297052, p-value = 0.7920490381417334\n",
      "\n",
      "-> IndianPines, FastICA, 8 --------------------------------------------------------------\n",
      "          Class 1   Class 2   Class 3   Class 4   Class 5   Class 6   Class 7  \\\n",
      "Model                                                                           \n",
      "hamida        0.0  1.000000  0.981315  0.857656  0.987448  0.935818  0.989041   \n",
      "li            0.0  1.000000  0.982517  0.896386  1.000000  0.935818  0.998630   \n",
      "mou           0.0  0.693878  0.748837  0.713697  0.698582  0.861868  0.941634   \n",
      "paoletti      0.0  0.869565  0.890293  0.814351  0.866920  0.846774  0.993151   \n",
      "\n",
      "           Class 8   Class 9  Class 10  Class 11  Class 12  Class 13  \\\n",
      "Model                                                                  \n",
      "hamida    1.000000  1.000000  0.985626  0.965224  0.970100  1.000000   \n",
      "li        1.000000  1.000000  0.980453  0.957882  0.984899  1.000000   \n",
      "mou       0.862069  0.857143  0.736994  0.834358  0.705706  0.975845   \n",
      "paoletti  0.964286  0.826087  0.879960  0.898477  0.884494  1.000000   \n",
      "\n",
      "          Class 14  Class 15  Class 16  \n",
      "Model                                   \n",
      "hamida    0.996848  0.789340  0.989362  \n",
      "li        0.997634  0.810881  1.000000  \n",
      "mou       0.967568  0.630769  0.947917  \n",
      "paoletti  0.957562  0.763547  0.989247  \n",
      "ANOVA test -> F-statistic: 1.3154668730043704, p-value: 0.2777238983110964\n",
      "No significant difference in accuracies for ANOVA\n",
      "\n",
      "Paired T Tests\n",
      "hamida vs li: t-statistic = -2.0881393800617762, p-value = 0.05425145039933787\n",
      "hamida vs mou: t-statistic = 5.604712093520893, p-value = 5.0211850851316274e-05\n",
      "hamida vs paoletti: t-statistic = 4.659745378830168, p-value = 0.0003082747267984167\n",
      "li vs mou: t-statistic = 5.745498899554668, p-value = 3.869505564440991e-05\n",
      "li vs paoletti: t-statistic = 5.234393540854536, p-value = 0.00010089990299933894\n",
      "mou vs paoletti: t-statistic = -4.348029322980006, p-value = 0.0005736765496535861\n",
      "\n",
      "-> IndianPines, FastICA, 15 --------------------------------------------------------------\n",
      "          Class 1   Class 2   Class 3   Class 4   Class 5   Class 6   Class 7  \\\n",
      "Model                                                                           \n",
      "hamida        0.0  1.000000  0.997205  0.884892  1.000000  0.937888  1.000000   \n",
      "li            0.0  1.000000  0.960837  0.848193  0.967078  0.935818  1.000000   \n",
      "mou           0.0  0.978261  0.861914  0.780963  0.897638  0.900204  0.983607   \n",
      "paoletti      0.0  0.978261  0.968815  0.866825  0.966667  0.924335  0.990437   \n",
      "\n",
      "          Class 8  Class 9  Class 10  Class 11  Class 12  Class 13  Class 14  \\\n",
      "Model                                                                          \n",
      "hamida        1.0      1.0  1.000000  0.985656  0.969955  0.979832       1.0   \n",
      "li            1.0      1.0  1.000000  0.971429  0.950081  0.966833       1.0   \n",
      "mou           1.0      1.0  0.782609  0.867195  0.896274  0.789474       1.0   \n",
      "paoletti      1.0      1.0  0.952381  0.934589  0.941365  0.940226       1.0   \n",
      "\n",
      "          Class 15  Class 16  \n",
      "Model                         \n",
      "hamida    1.000000  1.000000  \n",
      "li        0.999210  1.000000  \n",
      "mou       0.969838  0.956989  \n",
      "paoletti  0.984289  0.967742  \n",
      "ANOVA test -> F-statistic: 0.24385613013025148, p-value: 0.8653789685830504\n",
      "No significant difference in accuracies for ANOVA\n",
      "\n",
      "Paired T Tests\n",
      "hamida vs li: t-statistic = 2.7547432199088213, p-value = 0.014744826748030942\n",
      "hamida vs mou: t-statistic = 3.904043086125548, p-value = 0.0014095571520561445\n",
      "hamida vs paoletti: t-statistic = 4.99173203435989, p-value = 0.00016092781853262132\n",
      "li vs mou: t-statistic = 3.641486154676505, p-value = 0.002411563394086781\n",
      "li vs paoletti: t-statistic = 2.599708519819391, p-value = 0.02011066641618194\n",
      "mou vs paoletti: t-statistic = -3.339939472560776, p-value = 0.004476781836856185\n",
      "\n",
      "-> IndianPines, FastICA, 30 --------------------------------------------------------------\n",
      "          Class 1   Class 2   Class 3   Class 4   Class 5   Class 6   Class 7  \\\n",
      "Model                                                                           \n",
      "hamida        0.0  1.000000  0.997207  0.902410  1.000000  0.937888  1.000000   \n",
      "li            0.0  0.000000  0.000000  0.000000  0.000000  0.000000  0.000000   \n",
      "mou           0.0  0.869565  0.844315  0.751092  0.816406  0.857143  0.978142   \n",
      "paoletti      0.0  0.936170  0.940165  0.793757  0.802158  0.878543  0.983784   \n",
      "\n",
      "           Class 8   Class 9  Class 10  Class 11  Class 12  Class 13  \\\n",
      "Model                                                                  \n",
      "hamida    1.000000  1.000000  1.000000  0.994829  0.973149  0.983137   \n",
      "li        0.000000  0.000000  0.000000  0.000000  0.237844  0.000000   \n",
      "mou       0.857143  0.981366  0.521739  0.827017  0.836249  0.746224   \n",
      "paoletti  0.821429  0.993750  0.600000  0.907646  0.911508  0.854325   \n",
      "\n",
      "          Class 14  Class 15  Class 16  Class 17  \n",
      "Model                                             \n",
      "hamida    1.000000  0.997634  0.797436  1.000000  \n",
      "li        0.000000  0.000000  0.000000  0.000000  \n",
      "mou       0.966507  0.933133  0.624079  0.947368  \n",
      "paoletti  1.000000  0.973015  0.700767  1.000000  \n",
      "ANOVA test -> F-statistic: 67.65245158720124, p-value: 8.020986089379278e-20\n",
      "ANOVA indicates a significant difference in accuracies.\n",
      "\n",
      "Paired T Tests\n",
      "hamida vs li: t-statistic = 15.164293284069887, p-value = 6.488491185798087e-11\n",
      "hamida vs mou: t-statistic = 4.792465756810322, p-value = 0.00019936641536637145\n",
      "hamida vs paoletti: t-statistic = 3.5842834594647757, p-value = 0.002480211834293812\n",
      "li vs mou: t-statistic = -13.220602258246023, p-value = 4.995197294771664e-10\n",
      "li vs paoletti: t-statistic = -13.849395907314587, p-value = 2.513061826137553e-10\n",
      "mou vs paoletti: t-statistic = -4.387922652604769, p-value = 0.0004586008671092653\n",
      "\n",
      "-> IndianPines, UMAP, 8 --------------------------------------------------------------\n",
      "          Class 1   Class 2   Class 3   Class 4   Class 5   Class 6   Class 7  \\\n",
      "Model                                                                           \n",
      "hamida        0.0  0.934783  0.953408  0.883971  0.825784  0.933747  0.972603   \n",
      "li            0.0  1.000000  0.989525  0.880866  1.000000  0.937888  1.000000   \n",
      "mou           0.0  0.260870  0.636308  0.543689  0.591837  0.803607  0.903599   \n",
      "paoletti      0.0  0.595745  0.810945  0.769759  0.792969  0.899177  0.968665   \n",
      "\n",
      "           Class 8   Class 9  Class 10  Class 11  Class 12  Class 13  \\\n",
      "Model                                                                  \n",
      "hamida    1.000000  1.000000  0.983539  0.965978  0.960265  0.975610   \n",
      "li        0.965517  1.000000  0.978637  0.968003  0.974832  1.000000   \n",
      "mou       0.509804  0.458333  0.718805  0.757076  0.622193  0.878641   \n",
      "paoletti  0.771429  0.800000  0.834942  0.874467  0.770893  0.970874   \n",
      "\n",
      "          Class 14  Class 15  Class 16  \n",
      "Model                                   \n",
      "hamida    0.986572  0.737089  1.000000  \n",
      "li        0.999210  0.802564  1.000000  \n",
      "mou       0.962337  0.571429  0.968085  \n",
      "paoletti  0.990581  0.735802  0.958763  \n",
      "ANOVA test -> F-statistic: 3.9367440881864417, p-value: 0.012456764702775706\n",
      "ANOVA indicates a significant difference in accuracies.\n",
      "\n",
      "Paired T Tests\n",
      "hamida vs li: t-statistic = -2.0161061960116053, p-value = 0.06206345944368075\n",
      "hamida vs mou: t-statistic = 4.977793870255838, p-value = 0.00016533759992882628\n",
      "hamida vs paoletti: t-statistic = 3.8306542802749517, p-value = 0.0016373643240543635\n",
      "li vs mou: t-statistic = 5.277437767768468, p-value = 9.295296536034299e-05\n",
      "li vs paoletti: t-statistic = 4.576137799683324, p-value = 0.00036380553917603344\n",
      "mou vs paoletti: t-statistic = -5.523483090735771, p-value = 5.8427320154458325e-05\n",
      "\n",
      "-> IndianPines, UMAP, 15 --------------------------------------------------------------\n",
      "          Class 1   Class 2   Class 3   Class 4   Class 5   Class 6   Class 7  \\\n",
      "Model                                                                           \n",
      "hamida        0.0  1.000000  0.996511  0.887952  0.991561  0.935818  0.995907   \n",
      "li            0.0  1.000000  0.996511  0.893029  1.000000  0.935818  0.998632   \n",
      "mou           0.0  0.808511  0.847625  0.750000  0.806452  0.904082  0.980926   \n",
      "paoletti      0.0  0.913043  0.823907  0.772348  0.802419  0.918699  0.993197   \n",
      "\n",
      "           Class 8   Class 9  Class 10  Class 11  Class 12  Class 13  \\\n",
      "Model                                                                  \n",
      "hamida    1.000000  1.000000  1.000000  0.988695  0.972709  0.978405   \n",
      "li        1.000000  1.000000  1.000000  0.994829  0.971545  0.970050   \n",
      "mou       0.862069  0.975510  0.904762  0.894373  0.923559  0.780089   \n",
      "paoletti  0.750000  0.995833  0.857143  0.912263  0.896696  0.779940   \n",
      "\n",
      "          Class 14  Class 15  Class 16  \n",
      "Model                                   \n",
      "hamida    1.000000  0.995279  1.000000  \n",
      "li        1.000000  0.996063  1.000000  \n",
      "mou       1.000000  0.987510  0.946237  \n",
      "paoletti  0.995146  0.961890  0.968421  \n",
      "ANOVA test -> F-statistic: 0.6893777766077465, p-value: 0.5620801629567447\n",
      "No significant difference in accuracies for ANOVA\n",
      "\n",
      "Paired T Tests\n",
      "hamida vs li: t-statistic = -0.9287324223847493, p-value = 0.36773280051786617\n",
      "hamida vs mou: t-statistic = 4.748978243401617, p-value = 0.00025853872383230654\n",
      "hamida vs paoletti: t-statistic = 4.291729086756432, p-value = 0.0006424054383629694\n",
      "li vs mou: t-statistic = 4.789723398162311, p-value = 0.00023865004199336538\n",
      "li vs paoletti: t-statistic = 4.340224772854236, p-value = 0.0005827363898384121\n",
      "mou vs paoletti: t-statistic = 0.172620173333246, p-value = 0.8652575892007085\n",
      "\n",
      "-> IndianPines, UMAP, 30 --------------------------------------------------------------\n",
      "          Class 1   Class 2   Class 3   Class 4   Class 5   Class 6   Class 7  \\\n",
      "Model                                                                           \n",
      "hamida        0.0  1.000000  0.997904  0.894484  0.991561  0.935818  1.000000   \n",
      "li            0.0  1.000000  0.998601  0.897837  1.000000  0.935818  1.000000   \n",
      "mou           0.0  0.782609  0.887399  0.842710  0.883065  0.895492  0.982313   \n",
      "paoletti      0.0  0.527273  0.837820  0.802497  0.873563  0.906122  0.981107   \n",
      "\n",
      "           Class 8   Class 9  Class 10  Class 11  Class 12  Class 13  \\\n",
      "Model                                                                  \n",
      "hamida    1.000000  1.000000  1.000000  0.991744  0.974338  0.978297   \n",
      "li        1.000000  1.000000  1.000000  0.990731  0.973931  0.983221   \n",
      "mou       0.750000  0.981520  0.909091  0.895712  0.931252  0.867099   \n",
      "paoletti  0.736842  0.963115  0.950000  0.875490  0.905447  0.823349   \n",
      "\n",
      "          Class 14  Class 15  Class 16  Class 17  \n",
      "Model                                             \n",
      "hamida    1.000000  0.994497  0.795337  1.000000  \n",
      "li        1.000000  0.995279  0.800518  1.000000  \n",
      "mou       1.000000  0.983504  0.761557  1.000000  \n",
      "paoletti  0.985437  0.985793  0.738916  0.968085  \n",
      "ANOVA test -> F-statistic: 0.7697062352467553, p-value: 0.5152095473142007\n",
      "No significant difference in accuracies for ANOVA\n",
      "\n",
      "Paired T Tests\n",
      "hamida vs li: t-statistic = -2.0546732488591886, p-value = 0.056619269213388494\n",
      "hamida vs mou: t-statistic = 3.9519405086905417, p-value = 0.001141811039640826\n",
      "hamida vs paoletti: t-statistic = 3.4708229283009295, p-value = 0.0031519002693987034\n",
      "li vs mou: t-statistic = 4.011043855821902, p-value = 0.0010083417610923342\n",
      "li vs paoletti: t-statistic = 3.512711376756071, p-value = 0.0028850402394479785\n",
      "mou vs paoletti: t-statistic = 1.916673171488131, p-value = 0.07331733934192072\n",
      "\n",
      "-> IndianPines, SOM, 8 --------------------------------------------------------------\n",
      "          Class 1   Class 2   Class 3   Class 4   Class 5   Class 6   Class 7  \\\n",
      "Model                                                                           \n",
      "hamida        0.0  0.978261  0.793640  0.765040  0.843866  0.881048  0.928113   \n",
      "li            0.0  0.913043  0.700189  0.603330  0.752768  0.808795  0.873592   \n",
      "mou           0.0  0.854167  0.583137  0.423043  0.560976  0.748996  0.809639   \n",
      "paoletti      0.0  0.382979  0.729598  0.526953  0.672727  0.785185  0.899614   \n",
      "\n",
      "           Class 8   Class 9  Class 10  Class 11  Class 12  Class 13  \\\n",
      "Model                                                                  \n",
      "hamida    0.862069  0.800000  0.828598  0.828633  0.881864  0.990244   \n",
      "li        0.900000  0.800000  0.588929  0.703900  0.649709  0.932039   \n",
      "mou       0.682927  0.240000  0.501931  0.646069  0.483562  0.889868   \n",
      "paoletti  0.621622  0.545455  0.621962  0.738633  0.646154  0.956938   \n",
      "\n",
      "          Class 14  Class 15  Class 16  \n",
      "Model                                   \n",
      "hamida    0.977291  0.691139  0.978723  \n",
      "li        0.897974  0.597674  0.989362  \n",
      "mou       0.941088  0.610048  0.801802  \n",
      "paoletti  0.937549  0.636364  0.978723  \n",
      "ANOVA test -> F-statistic: 2.1135927487053547, p-value: 0.10791993801854376\n",
      "No significant difference in accuracies for ANOVA\n",
      "\n",
      "Paired T Tests\n",
      "hamida vs li: t-statistic = 4.1588339602461275, p-value = 0.0008399711301068863\n",
      "hamida vs mou: t-statistic = 5.555123611740417, p-value = 5.507267001954627e-05\n",
      "hamida vs paoletti: t-statistic = 3.8734828173104106, p-value = 0.0015002433198639086\n",
      "li vs mou: t-statistic = 3.4272870487560385, p-value = 0.0037422641397910944\n",
      "li vs paoletti: t-statistic = 1.6249709596635562, p-value = 0.12499037397318288\n",
      "mou vs paoletti: t-statistic = -1.3688666563285308, p-value = 0.19119215277316368\n",
      "\n",
      "-> IndianPines, SOM, 15 --------------------------------------------------------------\n",
      "          Class 1   Class 2   Class 3   Class 4   Class 5   Class 6   Class 7  \\\n",
      "Model                                                                           \n",
      "hamida        0.0  1.000000  0.905387  0.848485  0.975104  0.935818  0.998632   \n",
      "li            0.0  0.957447  0.669670  0.598282  0.939024  0.842004  0.947160   \n",
      "mou           0.0  0.630435  0.630006  0.397985  0.603509  0.805556  0.861446   \n",
      "paoletti      0.0  0.826087  0.796515  0.628697  0.825397  0.868421  0.940945   \n",
      "\n",
      "           Class 8   Class 9  Class 10  Class 11  Class 12  Class 13  \\\n",
      "Model                                                                  \n",
      "hamida    1.000000  1.000000  1.000000  0.932049  0.908812  0.945000   \n",
      "li        0.857143  0.993763  1.000000  0.480069  0.657377  0.733138   \n",
      "mou       0.827586  0.948310  0.380952  0.542616  0.652523  0.454290   \n",
      "paoletti  0.862069  0.975258  0.333333  0.803172  0.787264  0.745192   \n",
      "\n",
      "          Class 14  Class 15  Class 16  \n",
      "Model                                   \n",
      "hamida    1.000000  0.992126  0.989362  \n",
      "li        0.971564  0.938902  0.989247  \n",
      "mou       0.947867  0.930983  0.837838  \n",
      "paoletti  0.975962  0.977918  1.000000  \n",
      "ANOVA test -> F-statistic: 2.483585352910044, p-value: 0.06936815295394093\n",
      "No significant difference in accuracies for ANOVA\n",
      "\n",
      "Paired T Tests\n",
      "hamida vs li: t-statistic = 3.566291203717927, p-value = 0.0028136126733913054\n",
      "hamida vs mou: t-statistic = 5.432332574088144, p-value = 6.932934254097514e-05\n",
      "hamida vs paoletti: t-statistic = 3.251238974188564, p-value = 0.005369656873445826\n",
      "li vs mou: t-statistic = 2.968033885231434, p-value = 0.00957582610407467\n",
      "li vs paoletti: t-statistic = 0.28276309991760035, p-value = 0.7812231209449083\n",
      "mou vs paoletti: t-statistic = -4.605634044955524, p-value = 0.0003431279032187423\n",
      "\n",
      "-> IndianPines, SOM, 30 --------------------------------------------------------------\n",
      "          Class 1   Class 2   Class 3   Class 4   Class 5   Class 6   Class 7  \\\n",
      "Model                                                                           \n",
      "hamida        0.0  1.000000  0.989605  0.870968  0.991561  0.935818  1.000000   \n",
      "li            0.0  0.978261  0.758114  0.687500  0.966527  0.876471  0.947154   \n",
      "mou           0.0  0.773585  0.763303  0.595472  0.604000  0.847826  0.929239   \n",
      "paoletti      0.0  0.875000  0.813038  0.658065  0.817829  0.846154  0.930323   \n",
      "\n",
      "           Class 8   Class 9  Class 10  Class 11  Class 12  Class 13  \\\n",
      "Model                                                                  \n",
      "hamida    1.000000  1.000000  1.000000  0.986667  0.966748  0.974916   \n",
      "li        0.964286  0.997912  0.850000  0.814414  0.819763  0.860616   \n",
      "mou       0.685714  0.925049  0.351351  0.742259  0.791006  0.730044   \n",
      "paoletti  0.675676  0.989562  0.461538  0.763757  0.817684  0.705600   \n",
      "\n",
      "          Class 14  Class 15  Class 16  Class 17  \n",
      "Model                                             \n",
      "hamida    1.000000  0.998421  0.810881  1.000000  \n",
      "li        1.000000  0.978278  0.747449  1.000000  \n",
      "mou       0.960976  0.988198  0.779747  0.967742  \n",
      "paoletti  0.962085  0.983491  0.759305  0.968421  \n",
      "ANOVA test -> F-statistic: 1.8822008670736303, p-value: 0.14147947209868403\n",
      "No significant difference in accuracies for ANOVA\n",
      "\n",
      "Paired T Tests\n",
      "hamida vs li: t-statistic = 4.1125126728082915, p-value = 0.0008148925008492552\n",
      "hamida vs mou: t-statistic = 4.424813821877153, p-value = 0.0004247937673623718\n",
      "hamida vs paoletti: t-statistic = 4.330918076031527, p-value = 0.0005163168856272038\n",
      "li vs mou: t-statistic = 2.977244639940517, p-value = 0.008891486877872187\n",
      "li vs paoletti: t-statistic = 2.5575393867914182, p-value = 0.021079363699439496\n",
      "mou vs paoletti: t-statistic = -2.3368848982089716, p-value = 0.03277452752193298\n",
      "\n",
      "-> IndianPines, Var, 8 --------------------------------------------------------------\n",
      "          Class 1   Class 2   Class 3   Class 4   Class 5   Class 6   Class 7  \\\n",
      "Model                                                                           \n",
      "hamida        0.0  0.956522  0.574684  0.514100  0.636704  0.858546  0.764163   \n",
      "li            0.0  1.000000  0.736369  0.729944  0.780769  0.921811  0.959103   \n",
      "mou           0.0  0.771930  0.519283  0.385239  0.510703  0.814371  0.943166   \n",
      "paoletti      0.0  0.860000  0.576360  0.519663  0.627329  0.831325  0.925587   \n",
      "\n",
      "           Class 8   Class 9  Class 10  Class 11  Class 12  Class 13  \\\n",
      "Model                                                                  \n",
      "hamida    0.964286  0.904762  0.526882  0.691996  0.538136  0.561983   \n",
      "li        0.965517  1.000000  0.611524  0.764466  0.756063  0.923077   \n",
      "mou       0.896552  0.750000  0.302573  0.588270  0.548649  0.905405   \n",
      "paoletti  0.827586  0.826087  0.469013  0.670715  0.587828  0.874419   \n",
      "\n",
      "          Class 14  Class 15  Class 16  \n",
      "Model                                   \n",
      "hamida    0.956454  0.635468  0.860215  \n",
      "li        0.983645  0.739691  0.869159  \n",
      "mou       0.954511  0.700000  0.798165  \n",
      "paoletti  0.964724  0.698254  0.810811  \n",
      "ANOVA test -> F-statistic: 1.0415508608851527, p-value: 0.3807907489887826\n",
      "No significant difference in accuracies for ANOVA\n",
      "\n",
      "Paired T Tests\n",
      "hamida vs li: t-statistic = -4.5396416077281785, p-value = 0.00039117157112566006\n",
      "hamida vs mou: t-statistic = 0.9830714853936238, p-value = 0.34116404355907004\n",
      "hamida vs paoletti: t-statistic = -0.2926682670653514, p-value = 0.7737852935862506\n",
      "li vs mou: t-statistic = 5.075089674499106, p-value = 0.00013697146527489777\n",
      "li vs paoletti: t-statistic = 6.489604186168568, p-value = 1.021327939394529e-05\n",
      "mou vs paoletti: t-statistic = -2.645234302829448, p-value = 0.01836539211054384\n",
      "\n",
      "-> IndianPines, Var, 15 --------------------------------------------------------------\n",
      "          Class 1   Class 2   Class 3   Class 4   Class 5   Class 6   Class 7  \\\n",
      "Model                                                                           \n",
      "hamida        0.0  1.000000  0.896552  0.840136  0.975309  0.901639  0.987821   \n",
      "li            0.0  0.958333  0.739185  0.674446  0.932540  0.896694  0.982480   \n",
      "mou           0.0  0.914894  0.722155  0.622015  0.814545  0.818363  0.956522   \n",
      "paoletti      0.0  0.818182  0.688626  0.592480  0.787313  0.875494  0.979508   \n",
      "\n",
      "           Class 8   Class 9  Class 10  Class 11  Class 12  Class 13  \\\n",
      "Model                                                                  \n",
      "hamida    1.000000  1.000000  1.000000  0.935223  0.920815  0.905363   \n",
      "li        1.000000  0.995816  1.000000  0.825383  0.800863  0.814992   \n",
      "mou       0.857143  0.993763  0.652174  0.733072  0.795999  0.712389   \n",
      "paoletti  0.800000  0.981211  0.695652  0.635927  0.748354  0.666667   \n",
      "\n",
      "          Class 14  Class 15  Class 16  \n",
      "Model                                   \n",
      "hamida    0.995146  0.984436  0.978495  \n",
      "li        0.980488  0.961948  0.989247  \n",
      "mou       0.891304  0.938806  0.978495  \n",
      "paoletti  0.952153  0.950420  0.957895  \n",
      "ANOVA test -> F-statistic: 1.1088722048630606, p-value: 0.3526363198557942\n",
      "No significant difference in accuracies for ANOVA\n",
      "\n",
      "Paired T Tests\n",
      "hamida vs li: t-statistic = 3.1904890453067547, p-value = 0.006081106341651125\n",
      "hamida vs mou: t-statistic = 5.0254928593737755, p-value = 0.00015074247266161033\n",
      "hamida vs paoletti: t-statistic = 4.914014058720945, p-value = 0.0001871645896370872\n",
      "li vs mou: t-statistic = 3.3299641012651704, p-value = 0.0045693230289960245\n",
      "li vs paoletti: t-statistic = 3.9860517380632983, p-value = 0.001192684994949012\n",
      "mou vs paoletti: t-statistic = 1.413754555312254, p-value = 0.17785176563627855\n",
      "\n",
      "-> IndianPines, Var, 30 --------------------------------------------------------------\n",
      "          Class 1   Class 2   Class 3   Class 4   Class 5   Class 6   Class 7  \\\n",
      "Model                                                                           \n",
      "hamida        0.0  1.000000  0.973684  0.887290  0.987342  0.933747  1.000000   \n",
      "li            0.0  0.978261  0.800868  0.794216  0.907173  0.809524  0.981004   \n",
      "mou           0.0  0.765957  0.684647  0.572016  0.696552  0.880567  0.951634   \n",
      "paoletti      0.0  0.711538  0.707824  0.586957  0.750000  0.898580  0.986468   \n",
      "\n",
      "           Class 8   Class 9  Class 10  Class 11  Class 12  Class 13  \\\n",
      "Model                                                                  \n",
      "hamida    1.000000  1.000000  1.000000  0.960245  0.955529  0.978078   \n",
      "li        1.000000  1.000000  0.769231  0.797493  0.860335  0.747927   \n",
      "mou       0.827586  0.967546  0.863636  0.690192  0.748596  0.661041   \n",
      "paoletti  0.718750  0.969388  0.800000  0.710171  0.773552  0.670851   \n",
      "\n",
      "          Class 14  Class 15  Class 16  Class 17  \n",
      "Model                                             \n",
      "hamida    1.000000  0.998421  0.813472  1.000000  \n",
      "li        1.000000  0.930389  0.704878  0.978723  \n",
      "mou       0.953488  0.977219  0.659314  0.978947  \n",
      "paoletti  0.985437  0.984351  0.731156  0.917526  \n",
      "ANOVA test -> F-statistic: 1.6055447006380852, p-value: 0.1968005859138965\n",
      "No significant difference in accuracies for ANOVA\n",
      "\n",
      "Paired T Tests\n",
      "hamida vs li: t-statistic = 4.381307158543623, p-value = 0.00046494725705151604\n",
      "hamida vs mou: t-statistic = 5.401764125758512, p-value = 5.875688033386504e-05\n",
      "hamida vs paoletti: t-statistic = 5.198598195278857, p-value = 8.7875560653461e-05\n",
      "li vs mou: t-statistic = 2.9213307527865893, p-value = 0.009988596500349462\n",
      "li vs paoletti: t-statistic = 2.601933990961942, p-value = 0.019264976670529024\n",
      "mou vs paoletti: t-statistic = -0.12224040770148735, p-value = 0.9042308253570069\n",
      "\n",
      "-> IndianPines, Corr, 8 --------------------------------------------------------------\n",
      "          Class 1   Class 2   Class 3   Class 4   Class 5   Class 6   Class 7  \\\n",
      "Model                                                                           \n",
      "hamida        0.0  0.695652  0.643167  0.534972  0.927711  0.731959  0.953271   \n",
      "li            0.0  0.456522  0.436667  0.444746  0.700997  0.896480  0.906332   \n",
      "mou           0.0  0.541667  0.518540  0.366483  0.665480  0.817669  0.883085   \n",
      "paoletti      0.0  0.411765  0.546073  0.444211  0.707006  0.873518  0.901863   \n",
      "\n",
      "           Class 8  Class 9  Class 10  Class 11  Class 12  Class 13  Class 14  \\\n",
      "Model                                                                           \n",
      "hamida    0.892857  1.00000  0.593702  0.623911  0.570325  0.995122  0.905891   \n",
      "li        0.892857  1.00000  0.303181  0.540655  0.479076  0.985366  0.945584   \n",
      "mou       0.172414  0.53125  0.462298  0.594587  0.389594  0.990291  0.956522   \n",
      "paoletti  0.666667  0.50000  0.561102  0.628350  0.482500  0.990291  0.947688   \n",
      "\n",
      "          Class 15  Class 16  \n",
      "Model                         \n",
      "hamida    0.666667  0.852632  \n",
      "li        0.585317  0.873786  \n",
      "mou       0.531807  0.731959  \n",
      "paoletti  0.519280  0.790000  \n",
      "ANOVA test -> F-statistic: 0.9124153302585245, p-value: 0.4404459674554183\n",
      "No significant difference in accuracies for ANOVA\n",
      "\n",
      "Paired T Tests\n",
      "hamida vs li: t-statistic = 2.376834381536112, p-value = 0.031204635951501938\n",
      "hamida vs mou: t-statistic = 3.0345842679614825, p-value = 0.008362247277301293\n",
      "hamida vs paoletti: t-statistic = 2.6722292760203454, p-value = 0.01740039209817451\n",
      "li vs mou: t-statistic = 1.4748705189552873, p-value = 0.16092645754387325\n",
      "li vs paoletti: t-statistic = 0.7426994067348759, p-value = 0.46913604247070295\n",
      "mou vs paoletti: t-statistic = -1.5640961004291591, p-value = 0.13864356993589844\n",
      "\n",
      "-> IndianPines, Corr, 15 --------------------------------------------------------------\n",
      "          Class 1   Class 2   Class 3   Class 4   Class 5   Class 6   Class 7  \\\n",
      "Model                                                                           \n",
      "hamida        0.0  0.489796  0.710349  0.580899  0.884462  0.894309  0.917949   \n",
      "li            0.0  0.784314  0.322758  0.275100  0.597826  0.387597  0.920424   \n",
      "mou           0.0  0.608696  0.604324  0.443572  0.726644  0.846465  0.899628   \n",
      "paoletti      0.0  0.693878  0.558074  0.407908  0.698473  0.872470  0.940397   \n",
      "\n",
      "           Class 8   Class 9  Class 10  Class 11  Class 12  Class 13  \\\n",
      "Model                                                                  \n",
      "hamida    0.793103  0.935421  0.782609  0.642095  0.702316  0.795745   \n",
      "li        0.964286  0.987603  0.900000  0.307506  0.469279  0.332645   \n",
      "mou       0.718750  0.959839  1.000000  0.524976  0.641600  0.426170   \n",
      "paoletti  0.608696  0.967347  1.000000  0.548441  0.638864  0.430851   \n",
      "\n",
      "          Class 14  Class 15  Class 16  \n",
      "Model                                   \n",
      "hamida    0.995122  0.965170  0.886598  \n",
      "li        0.956731  0.816340  0.759259  \n",
      "mou       0.985366  0.960496  0.776699  \n",
      "paoletti  0.995122  0.977467  0.767677  \n",
      "ANOVA test -> F-statistic: 0.6764565188368226, p-value: 0.5698627168318521\n",
      "No significant difference in accuracies for ANOVA\n",
      "\n",
      "Paired T Tests\n",
      "hamida vs li: t-statistic = 2.325277410864493, p-value = 0.03449456444051216\n",
      "hamida vs mou: t-statistic = 1.6650226440094082, p-value = 0.11665092387043799\n",
      "hamida vs paoletti: t-statistic = 1.4769088506598467, p-value = 0.16038585168093544\n",
      "li vs mou: t-statistic = -1.9756086326190014, p-value = 0.06689332473465706\n",
      "li vs paoletti: t-statistic = -1.8540631357190431, p-value = 0.08349819475771453\n",
      "mou vs paoletti: t-statistic = 0.10349388013713304, p-value = 0.918942042365662\n",
      "\n",
      "-> IndianPines, Corr, 30 --------------------------------------------------------------\n",
      "          Class 1   Class 2   Class 3   Class 4   Class 5   Class 6   Class 7  \\\n",
      "Model                                                                           \n",
      "hamida        0.0  0.913043  0.892265  0.783493  0.983264  0.913043  0.989160   \n",
      "li            0.0  0.521739  0.333026  0.209730  0.444126  0.824859  0.858364   \n",
      "mou           0.0  0.820000  0.599872  0.518210  0.714859  0.897751  0.919481   \n",
      "paoletti      0.0  0.763636  0.542197  0.359733  0.581081  0.859470  0.932450   \n",
      "\n",
      "           Class 8   Class 9  Class 10  Class 11  Class 12  Class 13  \\\n",
      "Model                                                                  \n",
      "hamida    1.000000  0.991701      1.00  0.894040  0.862313  0.964765   \n",
      "li        0.781250  0.928571      0.10  0.169163  0.431414  0.240268   \n",
      "mou       0.785714  0.983437      1.00  0.652174  0.680127  0.657353   \n",
      "paoletti  0.519231  0.966527      0.64  0.510989  0.616553  0.337094   \n",
      "\n",
      "          Class 14  Class 15  Class 16  Class 17  \n",
      "Model                                             \n",
      "hamida    0.995146  0.970046  0.723514  0.958763  \n",
      "li        0.985507  0.950655  0.552885  0.529412  \n",
      "mou       0.980488  0.966102  0.622276  0.833333  \n",
      "paoletti  0.971429  0.964424  0.654930  0.823529  \n",
      "ANOVA test -> F-statistic: 5.172648947861338, p-value: 0.0029047929028783643\n",
      "ANOVA indicates a significant difference in accuracies.\n",
      "\n",
      "Paired T Tests\n",
      "hamida vs li: t-statistic = 5.03769392661858, p-value = 0.00012129713226281837\n",
      "hamida vs mou: t-statistic = 4.615784000912559, p-value = 0.00028631088167297645\n",
      "hamida vs paoletti: t-statistic = 4.623630892187877, p-value = 0.0002817270181738158\n",
      "li vs mou: t-statistic = -3.896573290607366, p-value = 0.0012830008577172465\n",
      "li vs paoletti: t-statistic = -3.025838824400576, p-value = 0.00803429822630402\n",
      "mou vs paoletti: t-statistic = 3.2016160605322117, p-value = 0.005558795231563692\n"
     ]
    }
   ],
   "source": [
    "\n",
    "print('Comparing Model\\'s performances with different Data Reduction methods.')\n",
    "tests_results = []\n",
    "for ds in ['Salinas', 'IndianPines']:\n",
    "    for dr in ['PCA', 'FastICA', 'UMAP', 'SOM', 'Var', 'Corr']:\n",
    "        for n_comps in [8, 15, 30]:\n",
    "            print(f'\\n-> {ds}, {dr}, {n_comps} --------------------------------------------------------------')\n",
    "            scores_df = scores_by_model(df_results, #[df_results['Model'].isin(['mou', 'paoletti'])], \n",
    "                                        dataset=ds, \n",
    "                                        dr_method=dr, \n",
    "                                        n_comps=n_comps,\n",
    "                                        scores='IOU')\n",
    "            print(scores_df)\n",
    "            ANOVA_result, T_test_results = ANOVA_TTest(scores_df, transposed=False)\n",
    "            \n",
    "            tests_results.append({\n",
    "                'Dataset': ds, \n",
    "                'Data Reduction': dr,\n",
    "                'ANOVA': ANOVA_result,\n",
    "                'T Tests': T_test_results\n",
    "            }\n",
    "            )\n"
   ]
  },
  {
   "cell_type": "code",
   "execution_count": 37,
   "metadata": {},
   "outputs": [
    {
     "name": "stdout",
     "output_type": "stream",
     "text": [
      "          Class 1   Class 2   Class 3   Class 4   Class 5   Class 6   Class 7  \\\n",
      "Model                                                                           \n",
      "hamida        0.0  0.489796  0.710349  0.580899  0.884462  0.894309  0.917949   \n",
      "li            0.0  0.784314  0.322758  0.275100  0.597826  0.387597  0.920424   \n",
      "mou           0.0  0.608696  0.604324  0.443572  0.726644  0.846465  0.899628   \n",
      "paoletti      0.0  0.693878  0.558074  0.407908  0.698473  0.872470  0.940397   \n",
      "\n",
      "           Class 8   Class 9  Class 10  Class 11  Class 12  Class 13  \\\n",
      "Model                                                                  \n",
      "hamida    0.793103  0.935421  0.782609  0.642095  0.702316  0.795745   \n",
      "li        0.964286  0.987603  0.900000  0.307506  0.469279  0.332645   \n",
      "mou       0.718750  0.959839  1.000000  0.524976  0.641600  0.426170   \n",
      "paoletti  0.608696  0.967347  1.000000  0.548441  0.638864  0.430851   \n",
      "\n",
      "          Class 14  Class 15  Class 16  \n",
      "Model                                   \n",
      "hamida    0.995122  0.965170  0.886598  \n",
      "li        0.956731  0.816340  0.759259  \n",
      "mou       0.985366  0.960496  0.776699  \n",
      "paoletti  0.995122  0.977467  0.767677  \n",
      "ANOVA test -> F-statistic: 0.6764565188368226, p-value: 0.5698627168318521\n",
      "No significant difference in accuracies for ANOVA\n",
      "\n",
      "Paired T Tests\n",
      "hamida vs li: t-statistic = 2.325277410864493, p-value = 0.03449456444051216\n",
      "hamida vs mou: t-statistic = 1.6650226440094082, p-value = 0.11665092387043799\n",
      "hamida vs paoletti: t-statistic = 1.4769088506598467, p-value = 0.16038585168093544\n",
      "li vs mou: t-statistic = -1.9756086326190014, p-value = 0.06689332473465706\n",
      "li vs paoletti: t-statistic = -1.8540631357190431, p-value = 0.08349819475771453\n",
      "mou vs paoletti: t-statistic = 0.10349388013713304, p-value = 0.918942042365662\n"
     ]
    },
    {
     "data": {
      "text/plain": [
       "(False, ['hamida > li'])"
      ]
     },
     "execution_count": 37,
     "metadata": {},
     "output_type": "execute_result"
    }
   ],
   "source": [
    "scores_df = scores_by_model(df_results, #[df_results['Model'].isin(['mou', 'paoletti'])], \n",
    "                            dataset=ds, \n",
    "                            dr_method=dr, \n",
    "                            n_comps=15,\n",
    "                            scores='IOU')\n",
    "ANOVA_TTest(scores_df, transposed=False)"
   ]
  },
  {
   "cell_type": "markdown",
   "metadata": {},
   "source": [
    "# Statistical Inference with Paired T-Tests\n"
   ]
  },
  {
   "cell_type": "markdown",
   "metadata": {},
   "source": [
    "## Compare models with the same architecture, different sizes"
   ]
  },
  {
   "cell_type": "code",
   "execution_count": 9,
   "metadata": {},
   "outputs": [
    {
     "name": "stdout",
     "output_type": "stream",
     "text": [
      "\n",
      "mou vs paoletti - IOU in Salinas\n",
      "          8         15   30\n",
      "PCA        =  paoletti    =\n",
      "FastICA    =  paoletti    =\n",
      "UMAP       =         =    =\n",
      "SOM      mou         =    =\n",
      "Var      mou  paoletti  mou\n",
      "Corr     mou         =  mou\n",
      "\n",
      "li vs hamida - IOU in Salinas\n",
      "        8       15 30\n",
      "PCA      =       =  =\n",
      "FastICA  =  hamida  =\n",
      "UMAP     =       =  =\n",
      "SOM      =       =  =\n",
      "Var      =       =  =\n",
      "Corr     =       =  =\n",
      "\n",
      "mou vs paoletti - IOU in IndianPines\n",
      "               8         15        30\n",
      "PCA      paoletti       mou         =\n",
      "FastICA  paoletti  paoletti  paoletti\n",
      "UMAP     paoletti         =         =\n",
      "SOM             =  paoletti  paoletti\n",
      "Var      paoletti         =         =\n",
      "Corr            =         =       mou\n",
      "\n",
      "li vs hamida - IOU in IndianPines\n",
      "             8       15      30\n",
      "PCA           =  hamida  hamida\n",
      "FastICA       =  hamida  hamida\n",
      "UMAP          =       =       =\n",
      "SOM      hamida  hamida  hamida\n",
      "Var          li  hamida  hamida\n",
      "Corr     hamida  hamida  hamida\n"
     ]
    }
   ],
   "source": [
    "metric = 'IOU'\n",
    "\n",
    "for ds in ['Salinas', 'IndianPines']:\n",
    "    for paired_models in [['mou', 'paoletti'], ['li', 'hamida']]:\n",
    "        df_ttest = pd.DataFrame(columns=[8, 15, 30])\n",
    "        print(f'\\n{paired_models[0]} vs {paired_models[1]} - {metric} in {ds}')\n",
    "        for dr_method in ['PCA', 'FastICA', 'UMAP', 'SOM', 'Var', 'Corr']:\n",
    "            diffs = []\n",
    "            for n_comps in [8, 15, 30]:\n",
    "                scores_df = scores_by_model(df_results[df_results['Model'].isin(paired_models)], \n",
    "                                            dataset=ds, \n",
    "                                            dr_method=dr_method, \n",
    "                                            n_comps=n_comps,\n",
    "                                            scores=metric)\n",
    "                \n",
    "                diffs.append(paired_t_test(scores_df))\n",
    "            df_ttest.loc[dr_method] = diffs\n",
    "        print(df_ttest)\n",
    "\n",
    "\n"
   ]
  },
  {
   "cell_type": "markdown",
   "metadata": {},
   "source": [
    "Comparing models with different architectures, but \"same\" size"
   ]
  },
  {
   "cell_type": "code",
   "execution_count": 10,
   "metadata": {},
   "outputs": [
    {
     "name": "stdout",
     "output_type": "stream",
     "text": [
      "\n",
      "hamida vs paoletti - IOU in Salinas\n",
      "        8         15      30\n",
      "PCA      =    hamida  hamida\n",
      "FastICA  =  paoletti  hamida\n",
      "\n",
      "li vs mou - IOU in Salinas\n",
      "         8    15  30\n",
      "PCA      li   li  li\n",
      "FastICA   =  mou   =\n",
      "\n",
      "hamida vs paoletti - IOU in IndianPines\n",
      "             8       15      30\n",
      "PCA      hamida  hamida  hamida\n",
      "FastICA  hamida  hamida  hamida\n",
      "\n",
      "li vs mou - IOU in IndianPines\n",
      "         8   15   30\n",
      "PCA      li  li   li\n",
      "FastICA  li  li  mou\n"
     ]
    }
   ],
   "source": [
    "metric = 'IOU'\n",
    "\n",
    "for ds in ['Salinas', 'IndianPines']:\n",
    "    for paired_models in [['hamida', 'paoletti'], ['li', 'mou']]:\n",
    "        df_ttest = pd.DataFrame(columns=[8, 15, 30])\n",
    "        print(f'\\n{paired_models[0]} vs {paired_models[1]} - {metric} in {ds}')\n",
    "        for dr_method in ['PCA', 'FastICA']:\n",
    "            diffs = []\n",
    "            for n_comps in [8, 15, 30]:\n",
    "                scores_df = scores_by_model(df_results[df_results['Model'].isin(paired_models)], \n",
    "                                            dataset=ds, \n",
    "                                            dr_method=dr_method, \n",
    "                                            n_comps=n_comps,\n",
    "                                            scores=metric)\n",
    "                \n",
    "                diffs.append(paired_t_test(scores_df))\n",
    "            df_ttest.loc[dr_method] = diffs\n",
    "        print(df_ttest)\n",
    "\n",
    "\n"
   ]
  },
  {
   "cell_type": "code",
   "execution_count": 11,
   "metadata": {},
   "outputs": [
    {
     "data": {
      "text/html": [
       "<div>\n",
       "<style scoped>\n",
       "    .dataframe tbody tr th:only-of-type {\n",
       "        vertical-align: middle;\n",
       "    }\n",
       "\n",
       "    .dataframe tbody tr th {\n",
       "        vertical-align: top;\n",
       "    }\n",
       "\n",
       "    .dataframe thead th {\n",
       "        text-align: right;\n",
       "    }\n",
       "</style>\n",
       "<table border=\"1\" class=\"dataframe\">\n",
       "  <thead>\n",
       "    <tr style=\"text-align: right;\">\n",
       "      <th></th>\n",
       "      <th>Class 1</th>\n",
       "      <th>Class 2</th>\n",
       "      <th>Class 3</th>\n",
       "      <th>Class 4</th>\n",
       "      <th>Class 5</th>\n",
       "      <th>Class 6</th>\n",
       "      <th>Class 7</th>\n",
       "      <th>Class 8</th>\n",
       "      <th>Class 9</th>\n",
       "      <th>Class 10</th>\n",
       "      <th>Class 11</th>\n",
       "      <th>Class 12</th>\n",
       "      <th>Class 13</th>\n",
       "      <th>Class 14</th>\n",
       "      <th>Class 15</th>\n",
       "      <th>Class 16</th>\n",
       "      <th>Class 17</th>\n",
       "      <th>Mean</th>\n",
       "    </tr>\n",
       "    <tr>\n",
       "      <th>Model</th>\n",
       "      <th></th>\n",
       "      <th></th>\n",
       "      <th></th>\n",
       "      <th></th>\n",
       "      <th></th>\n",
       "      <th></th>\n",
       "      <th></th>\n",
       "      <th></th>\n",
       "      <th></th>\n",
       "      <th></th>\n",
       "      <th></th>\n",
       "      <th></th>\n",
       "      <th></th>\n",
       "      <th></th>\n",
       "      <th></th>\n",
       "      <th></th>\n",
       "      <th></th>\n",
       "      <th></th>\n",
       "    </tr>\n",
       "  </thead>\n",
       "  <tbody>\n",
       "    <tr>\n",
       "      <th>hamida</th>\n",
       "      <td>0.0</td>\n",
       "      <td>0.952713</td>\n",
       "      <td>1.0</td>\n",
       "      <td>1.0</td>\n",
       "      <td>0.992109</td>\n",
       "      <td>0.999254</td>\n",
       "      <td>0.984592</td>\n",
       "      <td>0.988265</td>\n",
       "      <td>0.931549</td>\n",
       "      <td>0.996132</td>\n",
       "      <td>0.972561</td>\n",
       "      <td>0.970974</td>\n",
       "      <td>0.971458</td>\n",
       "      <td>0.975983</td>\n",
       "      <td>0.971082</td>\n",
       "      <td>0.874834</td>\n",
       "      <td>0.859989</td>\n",
       "      <td>0.908323</td>\n",
       "    </tr>\n",
       "    <tr>\n",
       "      <th>li</th>\n",
       "      <td>0.0</td>\n",
       "      <td>0.952713</td>\n",
       "      <td>1.0</td>\n",
       "      <td>1.0</td>\n",
       "      <td>0.992826</td>\n",
       "      <td>0.999627</td>\n",
       "      <td>0.984592</td>\n",
       "      <td>0.988265</td>\n",
       "      <td>0.940085</td>\n",
       "      <td>0.995811</td>\n",
       "      <td>0.972248</td>\n",
       "      <td>0.970974</td>\n",
       "      <td>0.971458</td>\n",
       "      <td>0.975983</td>\n",
       "      <td>0.971989</td>\n",
       "      <td>0.888132</td>\n",
       "      <td>0.860542</td>\n",
       "      <td>0.909720</td>\n",
       "    </tr>\n",
       "  </tbody>\n",
       "</table>\n",
       "</div>"
      ],
      "text/plain": [
       "        Class 1   Class 2  Class 3  Class 4   Class 5   Class 6   Class 7  \\\n",
       "Model                                                                       \n",
       "hamida      0.0  0.952713      1.0      1.0  0.992109  0.999254  0.984592   \n",
       "li          0.0  0.952713      1.0      1.0  0.992826  0.999627  0.984592   \n",
       "\n",
       "         Class 8   Class 9  Class 10  Class 11  Class 12  Class 13  Class 14  \\\n",
       "Model                                                                          \n",
       "hamida  0.988265  0.931549  0.996132  0.972561  0.970974  0.971458  0.975983   \n",
       "li      0.988265  0.940085  0.995811  0.972248  0.970974  0.971458  0.975983   \n",
       "\n",
       "        Class 15  Class 16  Class 17      Mean  \n",
       "Model                                           \n",
       "hamida  0.971082  0.874834  0.859989  0.908323  \n",
       "li      0.971989  0.888132  0.860542  0.909720  "
      ]
     },
     "execution_count": 11,
     "metadata": {},
     "output_type": "execute_result"
    }
   ],
   "source": [
    "ds = 'Salinas'\n",
    "dr = 'PCA'\n",
    "n_comps=30\n",
    "metric = 'IOU'\n",
    "\n",
    "scores_df = scores_by_model(df_results[df_results['Model'].isin(['li', 'hamida'])], \n",
    "                            dataset=ds, \n",
    "                            dr_method=dr, \n",
    "                            n_comps=n_comps,\n",
    "                            scores=metric)\n",
    "scores_df['Mean'] = scores_df.agg('mean', axis=1).values\n",
    "scores_df"
   ]
  },
  {
   "cell_type": "code",
   "execution_count": null,
   "metadata": {},
   "outputs": [
    {
     "data": {
      "text/html": [
       "<div>\n",
       "<style scoped>\n",
       "    .dataframe tbody tr th:only-of-type {\n",
       "        vertical-align: middle;\n",
       "    }\n",
       "\n",
       "    .dataframe tbody tr th {\n",
       "        vertical-align: top;\n",
       "    }\n",
       "\n",
       "    .dataframe thead th {\n",
       "        text-align: right;\n",
       "    }\n",
       "</style>\n",
       "<table border=\"1\" class=\"dataframe\">\n",
       "  <thead>\n",
       "    <tr style=\"text-align: right;\">\n",
       "      <th>N Components</th>\n",
       "      <th>8</th>\n",
       "      <th>15</th>\n",
       "      <th>30</th>\n",
       "    </tr>\n",
       "    <tr>\n",
       "      <th>Model</th>\n",
       "      <th></th>\n",
       "      <th></th>\n",
       "      <th></th>\n",
       "    </tr>\n",
       "  </thead>\n",
       "  <tbody>\n",
       "    <tr>\n",
       "      <th>hamida</th>\n",
       "      <td>96.614304</td>\n",
       "      <td>97.346083</td>\n",
       "      <td>97.404625</td>\n",
       "    </tr>\n",
       "    <tr>\n",
       "      <th>li</th>\n",
       "      <td>94.175041</td>\n",
       "      <td>97.199727</td>\n",
       "      <td>23.338862</td>\n",
       "    </tr>\n",
       "    <tr>\n",
       "      <th>mou</th>\n",
       "      <td>87.423163</td>\n",
       "      <td>93.013953</td>\n",
       "      <td>87.657332</td>\n",
       "    </tr>\n",
       "    <tr>\n",
       "      <th>paoletti</th>\n",
       "      <td>89.745341</td>\n",
       "      <td>96.848473</td>\n",
       "      <td>91.911406</td>\n",
       "    </tr>\n",
       "  </tbody>\n",
       "</table>\n",
       "</div>"
      ],
      "text/plain": [
       "N Components         8          15         30\n",
       "Model                                        \n",
       "hamida        96.614304  97.346083  97.404625\n",
       "li            94.175041  97.199727  23.338862\n",
       "mou           87.423163  93.013953  87.657332\n",
       "paoletti      89.745341  96.848473  91.911406"
      ]
     },
     "execution_count": 127,
     "metadata": {},
     "output_type": "execute_result"
    }
   ],
   "source": [
    "accuracies = accuracies_by_n_comps(df_results, ds, dr)\n",
    "accuracies"
   ]
  },
  {
   "cell_type": "markdown",
   "metadata": {},
   "source": [
    "# Analyzing classes "
   ]
  },
  {
   "cell_type": "code",
   "execution_count": null,
   "metadata": {},
   "outputs": [
    {
     "data": {
      "text/html": [
       "<div>\n",
       "<style scoped>\n",
       "    .dataframe tbody tr th:only-of-type {\n",
       "        vertical-align: middle;\n",
       "    }\n",
       "\n",
       "    .dataframe tbody tr th {\n",
       "        vertical-align: top;\n",
       "    }\n",
       "\n",
       "    .dataframe thead th {\n",
       "        text-align: right;\n",
       "    }\n",
       "</style>\n",
       "<table border=\"1\" class=\"dataframe\">\n",
       "  <thead>\n",
       "    <tr style=\"text-align: right;\">\n",
       "      <th></th>\n",
       "      <th>Undefined</th>\n",
       "      <th>Brocoli_green_weeds_1</th>\n",
       "      <th>Brocoli_green_weeds_2</th>\n",
       "      <th>Fallow</th>\n",
       "      <th>Fallow_rough_plow</th>\n",
       "      <th>Fallow_smooth</th>\n",
       "      <th>Stubble</th>\n",
       "      <th>Celery</th>\n",
       "      <th>Grapes_untrained</th>\n",
       "      <th>Soil_vinyard_develop</th>\n",
       "      <th>Corn_senesced_green_weeds</th>\n",
       "      <th>Lettuce_romaine_4wk</th>\n",
       "      <th>Lettuce_romaine_5wk</th>\n",
       "      <th>Lettuce_romaine_6wk</th>\n",
       "      <th>Lettuce_romaine_7wk</th>\n",
       "      <th>Vinyard_untrained</th>\n",
       "      <th>Vinyard_vertical_trellis</th>\n",
       "    </tr>\n",
       "  </thead>\n",
       "  <tbody>\n",
       "    <tr>\n",
       "      <th>Salinas_PCA_8_mou</th>\n",
       "      <td>0.0</td>\n",
       "      <td>0.978261</td>\n",
       "      <td>0.890293</td>\n",
       "      <td>0.778139</td>\n",
       "      <td>0.777372</td>\n",
       "      <td>0.880325</td>\n",
       "      <td>0.983651</td>\n",
       "      <td>0.866667</td>\n",
       "      <td>0.993750</td>\n",
       "      <td>0.900000</td>\n",
       "      <td>0.872024</td>\n",
       "      <td>0.868360</td>\n",
       "      <td>0.716176</td>\n",
       "      <td>0.980676</td>\n",
       "      <td>0.939117</td>\n",
       "      <td>0.662651</td>\n",
       "      <td>0.968750</td>\n",
       "    </tr>\n",
       "    <tr>\n",
       "      <th>Salinas_PCA_8_hamida</th>\n",
       "      <td>0.0</td>\n",
       "      <td>0.947237</td>\n",
       "      <td>0.996522</td>\n",
       "      <td>0.969955</td>\n",
       "      <td>0.987097</td>\n",
       "      <td>0.992584</td>\n",
       "      <td>0.984592</td>\n",
       "      <td>0.987427</td>\n",
       "      <td>0.806308</td>\n",
       "      <td>0.981399</td>\n",
       "      <td>0.909651</td>\n",
       "      <td>0.867925</td>\n",
       "      <td>0.962468</td>\n",
       "      <td>0.973856</td>\n",
       "      <td>0.969245</td>\n",
       "      <td>0.693245</td>\n",
       "      <td>0.855881</td>\n",
       "    </tr>\n",
       "    <tr>\n",
       "      <th>Salinas_PCA_8_li</th>\n",
       "      <td>0.0</td>\n",
       "      <td>0.952713</td>\n",
       "      <td>1.000000</td>\n",
       "      <td>0.972713</td>\n",
       "      <td>0.989979</td>\n",
       "      <td>0.996274</td>\n",
       "      <td>0.984592</td>\n",
       "      <td>0.987151</td>\n",
       "      <td>0.796321</td>\n",
       "      <td>0.977328</td>\n",
       "      <td>0.932219</td>\n",
       "      <td>0.855953</td>\n",
       "      <td>0.963955</td>\n",
       "      <td>0.975983</td>\n",
       "      <td>0.970093</td>\n",
       "      <td>0.655603</td>\n",
       "      <td>0.856195</td>\n",
       "    </tr>\n",
       "    <tr>\n",
       "      <th>Salinas_PCA_8_paoletti</th>\n",
       "      <td>0.0</td>\n",
       "      <td>0.896852</td>\n",
       "      <td>0.963305</td>\n",
       "      <td>0.867342</td>\n",
       "      <td>0.968436</td>\n",
       "      <td>0.904864</td>\n",
       "      <td>0.984592</td>\n",
       "      <td>0.947866</td>\n",
       "      <td>0.710404</td>\n",
       "      <td>0.962285</td>\n",
       "      <td>0.823934</td>\n",
       "      <td>0.772905</td>\n",
       "      <td>0.932203</td>\n",
       "      <td>0.899796</td>\n",
       "      <td>0.952778</td>\n",
       "      <td>0.624042</td>\n",
       "      <td>0.603328</td>\n",
       "    </tr>\n",
       "    <tr>\n",
       "      <th>Salinas_PCA_15_mou</th>\n",
       "      <td>0.0</td>\n",
       "      <td>0.923529</td>\n",
       "      <td>0.977394</td>\n",
       "      <td>0.840789</td>\n",
       "      <td>0.947038</td>\n",
       "      <td>0.875546</td>\n",
       "      <td>0.984592</td>\n",
       "      <td>0.944745</td>\n",
       "      <td>0.693102</td>\n",
       "      <td>0.950352</td>\n",
       "      <td>0.813233</td>\n",
       "      <td>0.672453</td>\n",
       "      <td>0.907579</td>\n",
       "      <td>0.828735</td>\n",
       "      <td>0.935018</td>\n",
       "      <td>0.617453</td>\n",
       "      <td>0.572239</td>\n",
       "    </tr>\n",
       "    <tr>\n",
       "      <th>Salinas_PCA_15_hamida</th>\n",
       "      <td>0.0</td>\n",
       "      <td>0.951220</td>\n",
       "      <td>0.999195</td>\n",
       "      <td>0.989383</td>\n",
       "      <td>0.989270</td>\n",
       "      <td>0.995151</td>\n",
       "      <td>0.984343</td>\n",
       "      <td>0.987434</td>\n",
       "      <td>0.859222</td>\n",
       "      <td>0.994528</td>\n",
       "      <td>0.947463</td>\n",
       "      <td>0.943779</td>\n",
       "      <td>0.964451</td>\n",
       "      <td>0.973856</td>\n",
       "      <td>0.970149</td>\n",
       "      <td>0.775839</td>\n",
       "      <td>0.855881</td>\n",
       "    </tr>\n",
       "    <tr>\n",
       "      <th>Salinas_PCA_15_li</th>\n",
       "      <td>0.0</td>\n",
       "      <td>0.952713</td>\n",
       "      <td>1.000000</td>\n",
       "      <td>0.994461</td>\n",
       "      <td>0.992120</td>\n",
       "      <td>0.997387</td>\n",
       "      <td>0.984592</td>\n",
       "      <td>0.987713</td>\n",
       "      <td>0.847848</td>\n",
       "      <td>0.995170</td>\n",
       "      <td>0.955428</td>\n",
       "      <td>0.943275</td>\n",
       "      <td>0.967942</td>\n",
       "      <td>0.975983</td>\n",
       "      <td>0.966355</td>\n",
       "      <td>0.758608</td>\n",
       "      <td>0.859436</td>\n",
       "    </tr>\n",
       "    <tr>\n",
       "      <th>Salinas_PCA_15_paoletti</th>\n",
       "      <td>0.0</td>\n",
       "      <td>0.792932</td>\n",
       "      <td>0.917757</td>\n",
       "      <td>0.852645</td>\n",
       "      <td>0.973534</td>\n",
       "      <td>0.900111</td>\n",
       "      <td>0.984592</td>\n",
       "      <td>0.942380</td>\n",
       "      <td>0.697958</td>\n",
       "      <td>0.984122</td>\n",
       "      <td>0.847214</td>\n",
       "      <td>0.819835</td>\n",
       "      <td>0.945269</td>\n",
       "      <td>0.849275</td>\n",
       "      <td>0.952250</td>\n",
       "      <td>0.629258</td>\n",
       "      <td>0.587243</td>\n",
       "    </tr>\n",
       "    <tr>\n",
       "      <th>Salinas_PCA_30_mou</th>\n",
       "      <td>0.0</td>\n",
       "      <td>0.908412</td>\n",
       "      <td>0.971166</td>\n",
       "      <td>0.855634</td>\n",
       "      <td>0.962062</td>\n",
       "      <td>0.895511</td>\n",
       "      <td>0.984339</td>\n",
       "      <td>0.930164</td>\n",
       "      <td>0.692671</td>\n",
       "      <td>0.936518</td>\n",
       "      <td>0.762850</td>\n",
       "      <td>0.623044</td>\n",
       "      <td>0.885207</td>\n",
       "      <td>0.830189</td>\n",
       "      <td>0.944495</td>\n",
       "      <td>0.605537</td>\n",
       "      <td>0.581505</td>\n",
       "    </tr>\n",
       "    <tr>\n",
       "      <th>Salinas_PCA_30_hamida</th>\n",
       "      <td>0.0</td>\n",
       "      <td>0.952713</td>\n",
       "      <td>0.999732</td>\n",
       "      <td>0.998988</td>\n",
       "      <td>0.988555</td>\n",
       "      <td>0.997764</td>\n",
       "      <td>0.984095</td>\n",
       "      <td>0.987709</td>\n",
       "      <td>0.876836</td>\n",
       "      <td>0.994368</td>\n",
       "      <td>0.953600</td>\n",
       "      <td>0.964552</td>\n",
       "      <td>0.968427</td>\n",
       "      <td>0.975983</td>\n",
       "      <td>0.970149</td>\n",
       "      <td>0.806371</td>\n",
       "      <td>0.856669</td>\n",
       "    </tr>\n",
       "    <tr>\n",
       "      <th>Salinas_PCA_30_li</th>\n",
       "      <td>0.0</td>\n",
       "      <td>0.952713</td>\n",
       "      <td>1.000000</td>\n",
       "      <td>0.999494</td>\n",
       "      <td>0.992832</td>\n",
       "      <td>0.999627</td>\n",
       "      <td>0.984592</td>\n",
       "      <td>0.987989</td>\n",
       "      <td>0.896274</td>\n",
       "      <td>0.995330</td>\n",
       "      <td>0.966819</td>\n",
       "      <td>0.966324</td>\n",
       "      <td>0.970451</td>\n",
       "      <td>0.975983</td>\n",
       "      <td>0.970121</td>\n",
       "      <td>0.826120</td>\n",
       "      <td>0.860066</td>\n",
       "    </tr>\n",
       "    <tr>\n",
       "      <th>Salinas_PCA_30_paoletti</th>\n",
       "      <td>0.0</td>\n",
       "      <td>0.949228</td>\n",
       "      <td>0.993590</td>\n",
       "      <td>0.776377</td>\n",
       "      <td>0.968772</td>\n",
       "      <td>0.882196</td>\n",
       "      <td>0.984592</td>\n",
       "      <td>0.941113</td>\n",
       "      <td>0.766363</td>\n",
       "      <td>0.958026</td>\n",
       "      <td>0.823479</td>\n",
       "      <td>0.633708</td>\n",
       "      <td>0.907571</td>\n",
       "      <td>0.896552</td>\n",
       "      <td>0.934486</td>\n",
       "      <td>0.676925</td>\n",
       "      <td>0.769525</td>\n",
       "    </tr>\n",
       "    <tr>\n",
       "      <th>Salinas_FastICA_8_mou</th>\n",
       "      <td>0.0</td>\n",
       "      <td>0.952713</td>\n",
       "      <td>1.000000</td>\n",
       "      <td>0.982072</td>\n",
       "      <td>0.973852</td>\n",
       "      <td>0.986984</td>\n",
       "      <td>0.984592</td>\n",
       "      <td>0.987151</td>\n",
       "      <td>0.795308</td>\n",
       "      <td>0.995009</td>\n",
       "      <td>0.957498</td>\n",
       "      <td>0.968165</td>\n",
       "      <td>0.969948</td>\n",
       "      <td>0.973856</td>\n",
       "      <td>0.968254</td>\n",
       "      <td>0.662132</td>\n",
       "      <td>0.857775</td>\n",
       "    </tr>\n",
       "    <tr>\n",
       "      <th>Salinas_FastICA_8_hamida</th>\n",
       "      <td>0.0</td>\n",
       "      <td>0.952713</td>\n",
       "      <td>1.000000</td>\n",
       "      <td>0.996971</td>\n",
       "      <td>0.983595</td>\n",
       "      <td>0.994043</td>\n",
       "      <td>0.984339</td>\n",
       "      <td>0.987989</td>\n",
       "      <td>0.866024</td>\n",
       "      <td>0.994528</td>\n",
       "      <td>0.963515</td>\n",
       "      <td>0.960894</td>\n",
       "      <td>0.969933</td>\n",
       "      <td>0.973856</td>\n",
       "      <td>0.971082</td>\n",
       "      <td>0.780982</td>\n",
       "      <td>0.859513</td>\n",
       "    </tr>\n",
       "    <tr>\n",
       "      <th>Salinas_FastICA_8_li</th>\n",
       "      <td>0.0</td>\n",
       "      <td>0.952713</td>\n",
       "      <td>0.999732</td>\n",
       "      <td>0.991453</td>\n",
       "      <td>0.987115</td>\n",
       "      <td>0.994420</td>\n",
       "      <td>0.984592</td>\n",
       "      <td>0.988265</td>\n",
       "      <td>0.853721</td>\n",
       "      <td>0.994526</td>\n",
       "      <td>0.955865</td>\n",
       "      <td>0.968165</td>\n",
       "      <td>0.969948</td>\n",
       "      <td>0.974918</td>\n",
       "      <td>0.964782</td>\n",
       "      <td>0.767908</td>\n",
       "      <td>0.858329</td>\n",
       "    </tr>\n",
       "    <tr>\n",
       "      <th>Salinas_FastICA_8_paoletti</th>\n",
       "      <td>0.0</td>\n",
       "      <td>0.952215</td>\n",
       "      <td>0.999732</td>\n",
       "      <td>0.988494</td>\n",
       "      <td>0.982105</td>\n",
       "      <td>0.986989</td>\n",
       "      <td>0.984592</td>\n",
       "      <td>0.987989</td>\n",
       "      <td>0.879845</td>\n",
       "      <td>0.995649</td>\n",
       "      <td>0.963669</td>\n",
       "      <td>0.968254</td>\n",
       "      <td>0.969948</td>\n",
       "      <td>0.971739</td>\n",
       "      <td>0.970093</td>\n",
       "      <td>0.814145</td>\n",
       "      <td>0.860542</td>\n",
       "    </tr>\n",
       "    <tr>\n",
       "      <th>Salinas_FastICA_15_mou</th>\n",
       "      <td>0.0</td>\n",
       "      <td>0.951717</td>\n",
       "      <td>0.999195</td>\n",
       "      <td>0.978777</td>\n",
       "      <td>0.964714</td>\n",
       "      <td>0.965341</td>\n",
       "      <td>0.984592</td>\n",
       "      <td>0.986309</td>\n",
       "      <td>0.866250</td>\n",
       "      <td>0.985127</td>\n",
       "      <td>0.945296</td>\n",
       "      <td>0.940585</td>\n",
       "      <td>0.960986</td>\n",
       "      <td>0.958019</td>\n",
       "      <td>0.956157</td>\n",
       "      <td>0.794716</td>\n",
       "      <td>0.854937</td>\n",
       "    </tr>\n",
       "    <tr>\n",
       "      <th>Salinas_FastICA_15_hamida</th>\n",
       "      <td>0.0</td>\n",
       "      <td>0.940365</td>\n",
       "      <td>0.920987</td>\n",
       "      <td>0.808008</td>\n",
       "      <td>0.931770</td>\n",
       "      <td>0.870882</td>\n",
       "      <td>0.974918</td>\n",
       "      <td>0.977710</td>\n",
       "      <td>0.696366</td>\n",
       "      <td>0.942481</td>\n",
       "      <td>0.868413</td>\n",
       "      <td>0.789887</td>\n",
       "      <td>0.869675</td>\n",
       "      <td>0.621951</td>\n",
       "      <td>0.716058</td>\n",
       "      <td>0.418348</td>\n",
       "      <td>0.813915</td>\n",
       "    </tr>\n",
       "    <tr>\n",
       "      <th>Salinas_FastICA_15_li</th>\n",
       "      <td>0.0</td>\n",
       "      <td>0.000000</td>\n",
       "      <td>0.000000</td>\n",
       "      <td>0.000000</td>\n",
       "      <td>0.000000</td>\n",
       "      <td>0.000000</td>\n",
       "      <td>0.000000</td>\n",
       "      <td>0.000000</td>\n",
       "      <td>0.209033</td>\n",
       "      <td>0.000000</td>\n",
       "      <td>0.000000</td>\n",
       "      <td>0.000000</td>\n",
       "      <td>0.000000</td>\n",
       "      <td>0.000000</td>\n",
       "      <td>0.000000</td>\n",
       "      <td>0.000000</td>\n",
       "      <td>0.000000</td>\n",
       "    </tr>\n",
       "    <tr>\n",
       "      <th>Salinas_FastICA_15_paoletti</th>\n",
       "      <td>0.0</td>\n",
       "      <td>0.952713</td>\n",
       "      <td>1.000000</td>\n",
       "      <td>0.996964</td>\n",
       "      <td>0.980645</td>\n",
       "      <td>0.990744</td>\n",
       "      <td>0.984343</td>\n",
       "      <td>0.988265</td>\n",
       "      <td>0.957575</td>\n",
       "      <td>0.995326</td>\n",
       "      <td>0.969909</td>\n",
       "      <td>0.970974</td>\n",
       "      <td>0.970954</td>\n",
       "      <td>0.972797</td>\n",
       "      <td>0.971963</td>\n",
       "      <td>0.915231</td>\n",
       "      <td>0.859513</td>\n",
       "    </tr>\n",
       "    <tr>\n",
       "      <th>Salinas_FastICA_30_mou</th>\n",
       "      <td>0.0</td>\n",
       "      <td>0.000000</td>\n",
       "      <td>0.000000</td>\n",
       "      <td>0.000000</td>\n",
       "      <td>0.000000</td>\n",
       "      <td>0.000000</td>\n",
       "      <td>0.000000</td>\n",
       "      <td>0.000000</td>\n",
       "      <td>0.209033</td>\n",
       "      <td>0.000000</td>\n",
       "      <td>0.000000</td>\n",
       "      <td>0.000000</td>\n",
       "      <td>0.000000</td>\n",
       "      <td>0.000000</td>\n",
       "      <td>0.000000</td>\n",
       "      <td>0.000000</td>\n",
       "      <td>0.000000</td>\n",
       "    </tr>\n",
       "    <tr>\n",
       "      <th>Salinas_FastICA_30_hamida</th>\n",
       "      <td>0.0</td>\n",
       "      <td>0.952713</td>\n",
       "      <td>0.999732</td>\n",
       "      <td>0.996470</td>\n",
       "      <td>0.976429</td>\n",
       "      <td>0.991466</td>\n",
       "      <td>0.984592</td>\n",
       "      <td>0.987706</td>\n",
       "      <td>0.884729</td>\n",
       "      <td>0.995490</td>\n",
       "      <td>0.968931</td>\n",
       "      <td>0.970974</td>\n",
       "      <td>0.971458</td>\n",
       "      <td>0.975983</td>\n",
       "      <td>0.971082</td>\n",
       "      <td>0.794964</td>\n",
       "      <td>0.859989</td>\n",
       "    </tr>\n",
       "    <tr>\n",
       "      <th>Salinas_FastICA_30_li</th>\n",
       "      <td>0.0</td>\n",
       "      <td>0.000000</td>\n",
       "      <td>0.000000</td>\n",
       "      <td>0.000000</td>\n",
       "      <td>0.000000</td>\n",
       "      <td>0.000000</td>\n",
       "      <td>0.000000</td>\n",
       "      <td>0.000000</td>\n",
       "      <td>0.209033</td>\n",
       "      <td>0.000000</td>\n",
       "      <td>0.000000</td>\n",
       "      <td>0.000000</td>\n",
       "      <td>0.000000</td>\n",
       "      <td>0.000000</td>\n",
       "      <td>0.000000</td>\n",
       "      <td>0.000000</td>\n",
       "      <td>0.000000</td>\n",
       "    </tr>\n",
       "    <tr>\n",
       "      <th>Salinas_FastICA_30_paoletti</th>\n",
       "      <td>0.0</td>\n",
       "      <td>0.947865</td>\n",
       "      <td>0.998659</td>\n",
       "      <td>0.955825</td>\n",
       "      <td>0.937024</td>\n",
       "      <td>0.952085</td>\n",
       "      <td>0.983085</td>\n",
       "      <td>0.982980</td>\n",
       "      <td>0.825719</td>\n",
       "      <td>0.993563</td>\n",
       "      <td>0.931270</td>\n",
       "      <td>0.960784</td>\n",
       "      <td>0.949006</td>\n",
       "      <td>0.954348</td>\n",
       "      <td>0.947075</td>\n",
       "      <td>0.752952</td>\n",
       "      <td>0.851545</td>\n",
       "    </tr>\n",
       "  </tbody>\n",
       "</table>\n",
       "</div>"
      ],
      "text/plain": [
       "                             Undefined  Brocoli_green_weeds_1  \\\n",
       "Salinas_PCA_8_mou                  0.0               0.978261   \n",
       "Salinas_PCA_8_hamida               0.0               0.947237   \n",
       "Salinas_PCA_8_li                   0.0               0.952713   \n",
       "Salinas_PCA_8_paoletti             0.0               0.896852   \n",
       "Salinas_PCA_15_mou                 0.0               0.923529   \n",
       "Salinas_PCA_15_hamida              0.0               0.951220   \n",
       "Salinas_PCA_15_li                  0.0               0.952713   \n",
       "Salinas_PCA_15_paoletti            0.0               0.792932   \n",
       "Salinas_PCA_30_mou                 0.0               0.908412   \n",
       "Salinas_PCA_30_hamida              0.0               0.952713   \n",
       "Salinas_PCA_30_li                  0.0               0.952713   \n",
       "Salinas_PCA_30_paoletti            0.0               0.949228   \n",
       "Salinas_FastICA_8_mou              0.0               0.952713   \n",
       "Salinas_FastICA_8_hamida           0.0               0.952713   \n",
       "Salinas_FastICA_8_li               0.0               0.952713   \n",
       "Salinas_FastICA_8_paoletti         0.0               0.952215   \n",
       "Salinas_FastICA_15_mou             0.0               0.951717   \n",
       "Salinas_FastICA_15_hamida          0.0               0.940365   \n",
       "Salinas_FastICA_15_li              0.0               0.000000   \n",
       "Salinas_FastICA_15_paoletti        0.0               0.952713   \n",
       "Salinas_FastICA_30_mou             0.0               0.000000   \n",
       "Salinas_FastICA_30_hamida          0.0               0.952713   \n",
       "Salinas_FastICA_30_li              0.0               0.000000   \n",
       "Salinas_FastICA_30_paoletti        0.0               0.947865   \n",
       "\n",
       "                             Brocoli_green_weeds_2    Fallow  \\\n",
       "Salinas_PCA_8_mou                         0.890293  0.778139   \n",
       "Salinas_PCA_8_hamida                      0.996522  0.969955   \n",
       "Salinas_PCA_8_li                          1.000000  0.972713   \n",
       "Salinas_PCA_8_paoletti                    0.963305  0.867342   \n",
       "Salinas_PCA_15_mou                        0.977394  0.840789   \n",
       "Salinas_PCA_15_hamida                     0.999195  0.989383   \n",
       "Salinas_PCA_15_li                         1.000000  0.994461   \n",
       "Salinas_PCA_15_paoletti                   0.917757  0.852645   \n",
       "Salinas_PCA_30_mou                        0.971166  0.855634   \n",
       "Salinas_PCA_30_hamida                     0.999732  0.998988   \n",
       "Salinas_PCA_30_li                         1.000000  0.999494   \n",
       "Salinas_PCA_30_paoletti                   0.993590  0.776377   \n",
       "Salinas_FastICA_8_mou                     1.000000  0.982072   \n",
       "Salinas_FastICA_8_hamida                  1.000000  0.996971   \n",
       "Salinas_FastICA_8_li                      0.999732  0.991453   \n",
       "Salinas_FastICA_8_paoletti                0.999732  0.988494   \n",
       "Salinas_FastICA_15_mou                    0.999195  0.978777   \n",
       "Salinas_FastICA_15_hamida                 0.920987  0.808008   \n",
       "Salinas_FastICA_15_li                     0.000000  0.000000   \n",
       "Salinas_FastICA_15_paoletti               1.000000  0.996964   \n",
       "Salinas_FastICA_30_mou                    0.000000  0.000000   \n",
       "Salinas_FastICA_30_hamida                 0.999732  0.996470   \n",
       "Salinas_FastICA_30_li                     0.000000  0.000000   \n",
       "Salinas_FastICA_30_paoletti               0.998659  0.955825   \n",
       "\n",
       "                             Fallow_rough_plow  Fallow_smooth   Stubble  \\\n",
       "Salinas_PCA_8_mou                     0.777372       0.880325  0.983651   \n",
       "Salinas_PCA_8_hamida                  0.987097       0.992584  0.984592   \n",
       "Salinas_PCA_8_li                      0.989979       0.996274  0.984592   \n",
       "Salinas_PCA_8_paoletti                0.968436       0.904864  0.984592   \n",
       "Salinas_PCA_15_mou                    0.947038       0.875546  0.984592   \n",
       "Salinas_PCA_15_hamida                 0.989270       0.995151  0.984343   \n",
       "Salinas_PCA_15_li                     0.992120       0.997387  0.984592   \n",
       "Salinas_PCA_15_paoletti               0.973534       0.900111  0.984592   \n",
       "Salinas_PCA_30_mou                    0.962062       0.895511  0.984339   \n",
       "Salinas_PCA_30_hamida                 0.988555       0.997764  0.984095   \n",
       "Salinas_PCA_30_li                     0.992832       0.999627  0.984592   \n",
       "Salinas_PCA_30_paoletti               0.968772       0.882196  0.984592   \n",
       "Salinas_FastICA_8_mou                 0.973852       0.986984  0.984592   \n",
       "Salinas_FastICA_8_hamida              0.983595       0.994043  0.984339   \n",
       "Salinas_FastICA_8_li                  0.987115       0.994420  0.984592   \n",
       "Salinas_FastICA_8_paoletti            0.982105       0.986989  0.984592   \n",
       "Salinas_FastICA_15_mou                0.964714       0.965341  0.984592   \n",
       "Salinas_FastICA_15_hamida             0.931770       0.870882  0.974918   \n",
       "Salinas_FastICA_15_li                 0.000000       0.000000  0.000000   \n",
       "Salinas_FastICA_15_paoletti           0.980645       0.990744  0.984343   \n",
       "Salinas_FastICA_30_mou                0.000000       0.000000  0.000000   \n",
       "Salinas_FastICA_30_hamida             0.976429       0.991466  0.984592   \n",
       "Salinas_FastICA_30_li                 0.000000       0.000000  0.000000   \n",
       "Salinas_FastICA_30_paoletti           0.937024       0.952085  0.983085   \n",
       "\n",
       "                               Celery  Grapes_untrained  Soil_vinyard_develop  \\\n",
       "Salinas_PCA_8_mou            0.866667          0.993750              0.900000   \n",
       "Salinas_PCA_8_hamida         0.987427          0.806308              0.981399   \n",
       "Salinas_PCA_8_li             0.987151          0.796321              0.977328   \n",
       "Salinas_PCA_8_paoletti       0.947866          0.710404              0.962285   \n",
       "Salinas_PCA_15_mou           0.944745          0.693102              0.950352   \n",
       "Salinas_PCA_15_hamida        0.987434          0.859222              0.994528   \n",
       "Salinas_PCA_15_li            0.987713          0.847848              0.995170   \n",
       "Salinas_PCA_15_paoletti      0.942380          0.697958              0.984122   \n",
       "Salinas_PCA_30_mou           0.930164          0.692671              0.936518   \n",
       "Salinas_PCA_30_hamida        0.987709          0.876836              0.994368   \n",
       "Salinas_PCA_30_li            0.987989          0.896274              0.995330   \n",
       "Salinas_PCA_30_paoletti      0.941113          0.766363              0.958026   \n",
       "Salinas_FastICA_8_mou        0.987151          0.795308              0.995009   \n",
       "Salinas_FastICA_8_hamida     0.987989          0.866024              0.994528   \n",
       "Salinas_FastICA_8_li         0.988265          0.853721              0.994526   \n",
       "Salinas_FastICA_8_paoletti   0.987989          0.879845              0.995649   \n",
       "Salinas_FastICA_15_mou       0.986309          0.866250              0.985127   \n",
       "Salinas_FastICA_15_hamida    0.977710          0.696366              0.942481   \n",
       "Salinas_FastICA_15_li        0.000000          0.209033              0.000000   \n",
       "Salinas_FastICA_15_paoletti  0.988265          0.957575              0.995326   \n",
       "Salinas_FastICA_30_mou       0.000000          0.209033              0.000000   \n",
       "Salinas_FastICA_30_hamida    0.987706          0.884729              0.995490   \n",
       "Salinas_FastICA_30_li        0.000000          0.209033              0.000000   \n",
       "Salinas_FastICA_30_paoletti  0.982980          0.825719              0.993563   \n",
       "\n",
       "                             Corn_senesced_green_weeds  Lettuce_romaine_4wk  \\\n",
       "Salinas_PCA_8_mou                             0.872024             0.868360   \n",
       "Salinas_PCA_8_hamida                          0.909651             0.867925   \n",
       "Salinas_PCA_8_li                              0.932219             0.855953   \n",
       "Salinas_PCA_8_paoletti                        0.823934             0.772905   \n",
       "Salinas_PCA_15_mou                            0.813233             0.672453   \n",
       "Salinas_PCA_15_hamida                         0.947463             0.943779   \n",
       "Salinas_PCA_15_li                             0.955428             0.943275   \n",
       "Salinas_PCA_15_paoletti                       0.847214             0.819835   \n",
       "Salinas_PCA_30_mou                            0.762850             0.623044   \n",
       "Salinas_PCA_30_hamida                         0.953600             0.964552   \n",
       "Salinas_PCA_30_li                             0.966819             0.966324   \n",
       "Salinas_PCA_30_paoletti                       0.823479             0.633708   \n",
       "Salinas_FastICA_8_mou                         0.957498             0.968165   \n",
       "Salinas_FastICA_8_hamida                      0.963515             0.960894   \n",
       "Salinas_FastICA_8_li                          0.955865             0.968165   \n",
       "Salinas_FastICA_8_paoletti                    0.963669             0.968254   \n",
       "Salinas_FastICA_15_mou                        0.945296             0.940585   \n",
       "Salinas_FastICA_15_hamida                     0.868413             0.789887   \n",
       "Salinas_FastICA_15_li                         0.000000             0.000000   \n",
       "Salinas_FastICA_15_paoletti                   0.969909             0.970974   \n",
       "Salinas_FastICA_30_mou                        0.000000             0.000000   \n",
       "Salinas_FastICA_30_hamida                     0.968931             0.970974   \n",
       "Salinas_FastICA_30_li                         0.000000             0.000000   \n",
       "Salinas_FastICA_30_paoletti                   0.931270             0.960784   \n",
       "\n",
       "                             Lettuce_romaine_5wk  Lettuce_romaine_6wk  \\\n",
       "Salinas_PCA_8_mou                       0.716176             0.980676   \n",
       "Salinas_PCA_8_hamida                    0.962468             0.973856   \n",
       "Salinas_PCA_8_li                        0.963955             0.975983   \n",
       "Salinas_PCA_8_paoletti                  0.932203             0.899796   \n",
       "Salinas_PCA_15_mou                      0.907579             0.828735   \n",
       "Salinas_PCA_15_hamida                   0.964451             0.973856   \n",
       "Salinas_PCA_15_li                       0.967942             0.975983   \n",
       "Salinas_PCA_15_paoletti                 0.945269             0.849275   \n",
       "Salinas_PCA_30_mou                      0.885207             0.830189   \n",
       "Salinas_PCA_30_hamida                   0.968427             0.975983   \n",
       "Salinas_PCA_30_li                       0.970451             0.975983   \n",
       "Salinas_PCA_30_paoletti                 0.907571             0.896552   \n",
       "Salinas_FastICA_8_mou                   0.969948             0.973856   \n",
       "Salinas_FastICA_8_hamida                0.969933             0.973856   \n",
       "Salinas_FastICA_8_li                    0.969948             0.974918   \n",
       "Salinas_FastICA_8_paoletti              0.969948             0.971739   \n",
       "Salinas_FastICA_15_mou                  0.960986             0.958019   \n",
       "Salinas_FastICA_15_hamida               0.869675             0.621951   \n",
       "Salinas_FastICA_15_li                   0.000000             0.000000   \n",
       "Salinas_FastICA_15_paoletti             0.970954             0.972797   \n",
       "Salinas_FastICA_30_mou                  0.000000             0.000000   \n",
       "Salinas_FastICA_30_hamida               0.971458             0.975983   \n",
       "Salinas_FastICA_30_li                   0.000000             0.000000   \n",
       "Salinas_FastICA_30_paoletti             0.949006             0.954348   \n",
       "\n",
       "                             Lettuce_romaine_7wk  Vinyard_untrained  \\\n",
       "Salinas_PCA_8_mou                       0.939117           0.662651   \n",
       "Salinas_PCA_8_hamida                    0.969245           0.693245   \n",
       "Salinas_PCA_8_li                        0.970093           0.655603   \n",
       "Salinas_PCA_8_paoletti                  0.952778           0.624042   \n",
       "Salinas_PCA_15_mou                      0.935018           0.617453   \n",
       "Salinas_PCA_15_hamida                   0.970149           0.775839   \n",
       "Salinas_PCA_15_li                       0.966355           0.758608   \n",
       "Salinas_PCA_15_paoletti                 0.952250           0.629258   \n",
       "Salinas_PCA_30_mou                      0.944495           0.605537   \n",
       "Salinas_PCA_30_hamida                   0.970149           0.806371   \n",
       "Salinas_PCA_30_li                       0.970121           0.826120   \n",
       "Salinas_PCA_30_paoletti                 0.934486           0.676925   \n",
       "Salinas_FastICA_8_mou                   0.968254           0.662132   \n",
       "Salinas_FastICA_8_hamida                0.971082           0.780982   \n",
       "Salinas_FastICA_8_li                    0.964782           0.767908   \n",
       "Salinas_FastICA_8_paoletti              0.970093           0.814145   \n",
       "Salinas_FastICA_15_mou                  0.956157           0.794716   \n",
       "Salinas_FastICA_15_hamida               0.716058           0.418348   \n",
       "Salinas_FastICA_15_li                   0.000000           0.000000   \n",
       "Salinas_FastICA_15_paoletti             0.971963           0.915231   \n",
       "Salinas_FastICA_30_mou                  0.000000           0.000000   \n",
       "Salinas_FastICA_30_hamida               0.971082           0.794964   \n",
       "Salinas_FastICA_30_li                   0.000000           0.000000   \n",
       "Salinas_FastICA_30_paoletti             0.947075           0.752952   \n",
       "\n",
       "                             Vinyard_vertical_trellis  \n",
       "Salinas_PCA_8_mou                            0.968750  \n",
       "Salinas_PCA_8_hamida                         0.855881  \n",
       "Salinas_PCA_8_li                             0.856195  \n",
       "Salinas_PCA_8_paoletti                       0.603328  \n",
       "Salinas_PCA_15_mou                           0.572239  \n",
       "Salinas_PCA_15_hamida                        0.855881  \n",
       "Salinas_PCA_15_li                            0.859436  \n",
       "Salinas_PCA_15_paoletti                      0.587243  \n",
       "Salinas_PCA_30_mou                           0.581505  \n",
       "Salinas_PCA_30_hamida                        0.856669  \n",
       "Salinas_PCA_30_li                            0.860066  \n",
       "Salinas_PCA_30_paoletti                      0.769525  \n",
       "Salinas_FastICA_8_mou                        0.857775  \n",
       "Salinas_FastICA_8_hamida                     0.859513  \n",
       "Salinas_FastICA_8_li                         0.858329  \n",
       "Salinas_FastICA_8_paoletti                   0.860542  \n",
       "Salinas_FastICA_15_mou                       0.854937  \n",
       "Salinas_FastICA_15_hamida                    0.813915  \n",
       "Salinas_FastICA_15_li                        0.000000  \n",
       "Salinas_FastICA_15_paoletti                  0.859513  \n",
       "Salinas_FastICA_30_mou                       0.000000  \n",
       "Salinas_FastICA_30_hamida                    0.859989  \n",
       "Salinas_FastICA_30_li                        0.000000  \n",
       "Salinas_FastICA_30_paoletti                  0.851545  "
      ]
     },
     "execution_count": 66,
     "metadata": {},
     "output_type": "execute_result"
    }
   ],
   "source": [
    "# df = pd.DataFrame(data=df_results['IOU'])\n",
    "# df\n",
    "ds = 'Salinas'\n",
    "\n",
    "df = df_results[df_results['Dataset']==ds].copy()\n",
    "\n",
    "df = pd.DataFrame(columns=LABELS[ds], data=[val for val in df['IOU'].values], index=df['Experiment'].values)\n",
    "# df['exp_mean'] = df.agg('mean', axis=1)\n",
    "\n",
    "\n",
    "#filter experiments that didn't converge\n",
    "\n",
    "# df = df[df['exp_mean'] > 0.5]\n",
    "df"
   ]
  },
  {
   "cell_type": "code",
   "execution_count": null,
   "metadata": {},
   "outputs": [
    {
     "ename": "ValueError",
     "evalue": "setting an array element with a sequence.",
     "output_type": "error",
     "traceback": [
      "\u001b[1;31m---------------------------------------------------------------------------\u001b[0m",
      "\u001b[1;31mTypeError\u001b[0m                                 Traceback (most recent call last)",
      "\u001b[1;31mTypeError\u001b[0m: only length-1 arrays can be converted to Python scalars",
      "\nThe above exception was the direct cause of the following exception:\n",
      "\u001b[1;31mValueError\u001b[0m                                Traceback (most recent call last)",
      "Cell \u001b[1;32mIn[67], line 9\u001b[0m\n\u001b[0;32m      7\u001b[0m \u001b[38;5;66;03m# Plot heatmap\u001b[39;00m\n\u001b[0;32m      8\u001b[0m plt\u001b[38;5;241m.\u001b[39mfigure(figsize\u001b[38;5;241m=\u001b[39m(\u001b[38;5;241m12\u001b[39m, \u001b[38;5;241m8\u001b[39m))\n\u001b[1;32m----> 9\u001b[0m sns\u001b[38;5;241m.\u001b[39mheatmap(new_df\u001b[38;5;241m.\u001b[39mastype(\u001b[38;5;28mfloat\u001b[39m), cmap\u001b[38;5;241m=\u001b[39m\u001b[38;5;124m'\u001b[39m\u001b[38;5;124mviridis\u001b[39m\u001b[38;5;124m'\u001b[39m, annot\u001b[38;5;241m=\u001b[39m\u001b[38;5;28;01mTrue\u001b[39;00m, fmt\u001b[38;5;241m=\u001b[39m\u001b[38;5;124m'\u001b[39m\u001b[38;5;124m.2f\u001b[39m\u001b[38;5;124m'\u001b[39m, cbar\u001b[38;5;241m=\u001b[39m\u001b[38;5;28;01mTrue\u001b[39;00m)\n\u001b[0;32m     10\u001b[0m plt\u001b[38;5;241m.\u001b[39mtitle(\u001b[38;5;124m'\u001b[39m\u001b[38;5;124mHeatmap of DataFrame\u001b[39m\u001b[38;5;124m'\u001b[39m)\n\u001b[0;32m     11\u001b[0m plt\u001b[38;5;241m.\u001b[39mshow()\n",
      "File \u001b[1;32mc:\\Users\\Dell\\anaconda3\\envs\\dslab\\Lib\\site-packages\\pandas\\core\\generic.py:6640\u001b[0m, in \u001b[0;36mNDFrame.astype\u001b[1;34m(self, dtype, copy, errors)\u001b[0m\n\u001b[0;32m   6634\u001b[0m     results \u001b[38;5;241m=\u001b[39m [\n\u001b[0;32m   6635\u001b[0m         ser\u001b[38;5;241m.\u001b[39mastype(dtype, copy\u001b[38;5;241m=\u001b[39mcopy, errors\u001b[38;5;241m=\u001b[39merrors) \u001b[38;5;28;01mfor\u001b[39;00m _, ser \u001b[38;5;129;01min\u001b[39;00m \u001b[38;5;28mself\u001b[39m\u001b[38;5;241m.\u001b[39mitems()\n\u001b[0;32m   6636\u001b[0m     ]\n\u001b[0;32m   6638\u001b[0m \u001b[38;5;28;01melse\u001b[39;00m:\n\u001b[0;32m   6639\u001b[0m     \u001b[38;5;66;03m# else, only a single dtype is given\u001b[39;00m\n\u001b[1;32m-> 6640\u001b[0m     new_data \u001b[38;5;241m=\u001b[39m \u001b[38;5;28mself\u001b[39m\u001b[38;5;241m.\u001b[39m_mgr\u001b[38;5;241m.\u001b[39mastype(dtype\u001b[38;5;241m=\u001b[39mdtype, copy\u001b[38;5;241m=\u001b[39mcopy, errors\u001b[38;5;241m=\u001b[39merrors)\n\u001b[0;32m   6641\u001b[0m     res \u001b[38;5;241m=\u001b[39m \u001b[38;5;28mself\u001b[39m\u001b[38;5;241m.\u001b[39m_constructor_from_mgr(new_data, axes\u001b[38;5;241m=\u001b[39mnew_data\u001b[38;5;241m.\u001b[39maxes)\n\u001b[0;32m   6642\u001b[0m     \u001b[38;5;28;01mreturn\u001b[39;00m res\u001b[38;5;241m.\u001b[39m__finalize__(\u001b[38;5;28mself\u001b[39m, method\u001b[38;5;241m=\u001b[39m\u001b[38;5;124m\"\u001b[39m\u001b[38;5;124mastype\u001b[39m\u001b[38;5;124m\"\u001b[39m)\n",
      "File \u001b[1;32mc:\\Users\\Dell\\anaconda3\\envs\\dslab\\Lib\\site-packages\\pandas\\core\\internals\\managers.py:430\u001b[0m, in \u001b[0;36mBaseBlockManager.astype\u001b[1;34m(self, dtype, copy, errors)\u001b[0m\n\u001b[0;32m    427\u001b[0m \u001b[38;5;28;01melif\u001b[39;00m using_copy_on_write():\n\u001b[0;32m    428\u001b[0m     copy \u001b[38;5;241m=\u001b[39m \u001b[38;5;28;01mFalse\u001b[39;00m\n\u001b[1;32m--> 430\u001b[0m \u001b[38;5;28;01mreturn\u001b[39;00m \u001b[38;5;28mself\u001b[39m\u001b[38;5;241m.\u001b[39mapply(\n\u001b[0;32m    431\u001b[0m     \u001b[38;5;124m\"\u001b[39m\u001b[38;5;124mastype\u001b[39m\u001b[38;5;124m\"\u001b[39m,\n\u001b[0;32m    432\u001b[0m     dtype\u001b[38;5;241m=\u001b[39mdtype,\n\u001b[0;32m    433\u001b[0m     copy\u001b[38;5;241m=\u001b[39mcopy,\n\u001b[0;32m    434\u001b[0m     errors\u001b[38;5;241m=\u001b[39merrors,\n\u001b[0;32m    435\u001b[0m     using_cow\u001b[38;5;241m=\u001b[39musing_copy_on_write(),\n\u001b[0;32m    436\u001b[0m )\n",
      "File \u001b[1;32mc:\\Users\\Dell\\anaconda3\\envs\\dslab\\Lib\\site-packages\\pandas\\core\\internals\\managers.py:363\u001b[0m, in \u001b[0;36mBaseBlockManager.apply\u001b[1;34m(self, f, align_keys, **kwargs)\u001b[0m\n\u001b[0;32m    361\u001b[0m         applied \u001b[38;5;241m=\u001b[39m b\u001b[38;5;241m.\u001b[39mapply(f, \u001b[38;5;241m*\u001b[39m\u001b[38;5;241m*\u001b[39mkwargs)\n\u001b[0;32m    362\u001b[0m     \u001b[38;5;28;01melse\u001b[39;00m:\n\u001b[1;32m--> 363\u001b[0m         applied \u001b[38;5;241m=\u001b[39m \u001b[38;5;28mgetattr\u001b[39m(b, f)(\u001b[38;5;241m*\u001b[39m\u001b[38;5;241m*\u001b[39mkwargs)\n\u001b[0;32m    364\u001b[0m     result_blocks \u001b[38;5;241m=\u001b[39m extend_blocks(applied, result_blocks)\n\u001b[0;32m    366\u001b[0m out \u001b[38;5;241m=\u001b[39m \u001b[38;5;28mtype\u001b[39m(\u001b[38;5;28mself\u001b[39m)\u001b[38;5;241m.\u001b[39mfrom_blocks(result_blocks, \u001b[38;5;28mself\u001b[39m\u001b[38;5;241m.\u001b[39maxes)\n",
      "File \u001b[1;32mc:\\Users\\Dell\\anaconda3\\envs\\dslab\\Lib\\site-packages\\pandas\\core\\internals\\blocks.py:758\u001b[0m, in \u001b[0;36mBlock.astype\u001b[1;34m(self, dtype, copy, errors, using_cow, squeeze)\u001b[0m\n\u001b[0;32m    755\u001b[0m         \u001b[38;5;28;01mraise\u001b[39;00m \u001b[38;5;167;01mValueError\u001b[39;00m(\u001b[38;5;124m\"\u001b[39m\u001b[38;5;124mCan not squeeze with more than one column.\u001b[39m\u001b[38;5;124m\"\u001b[39m)\n\u001b[0;32m    756\u001b[0m     values \u001b[38;5;241m=\u001b[39m values[\u001b[38;5;241m0\u001b[39m, :]  \u001b[38;5;66;03m# type: ignore[call-overload]\u001b[39;00m\n\u001b[1;32m--> 758\u001b[0m new_values \u001b[38;5;241m=\u001b[39m astype_array_safe(values, dtype, copy\u001b[38;5;241m=\u001b[39mcopy, errors\u001b[38;5;241m=\u001b[39merrors)\n\u001b[0;32m    760\u001b[0m new_values \u001b[38;5;241m=\u001b[39m maybe_coerce_values(new_values)\n\u001b[0;32m    762\u001b[0m refs \u001b[38;5;241m=\u001b[39m \u001b[38;5;28;01mNone\u001b[39;00m\n",
      "File \u001b[1;32mc:\\Users\\Dell\\anaconda3\\envs\\dslab\\Lib\\site-packages\\pandas\\core\\dtypes\\astype.py:237\u001b[0m, in \u001b[0;36mastype_array_safe\u001b[1;34m(values, dtype, copy, errors)\u001b[0m\n\u001b[0;32m    234\u001b[0m     dtype \u001b[38;5;241m=\u001b[39m dtype\u001b[38;5;241m.\u001b[39mnumpy_dtype\n\u001b[0;32m    236\u001b[0m \u001b[38;5;28;01mtry\u001b[39;00m:\n\u001b[1;32m--> 237\u001b[0m     new_values \u001b[38;5;241m=\u001b[39m astype_array(values, dtype, copy\u001b[38;5;241m=\u001b[39mcopy)\n\u001b[0;32m    238\u001b[0m \u001b[38;5;28;01mexcept\u001b[39;00m (\u001b[38;5;167;01mValueError\u001b[39;00m, \u001b[38;5;167;01mTypeError\u001b[39;00m):\n\u001b[0;32m    239\u001b[0m     \u001b[38;5;66;03m# e.g. _astype_nansafe can fail on object-dtype of strings\u001b[39;00m\n\u001b[0;32m    240\u001b[0m     \u001b[38;5;66;03m#  trying to convert to float\u001b[39;00m\n\u001b[0;32m    241\u001b[0m     \u001b[38;5;28;01mif\u001b[39;00m errors \u001b[38;5;241m==\u001b[39m \u001b[38;5;124m\"\u001b[39m\u001b[38;5;124mignore\u001b[39m\u001b[38;5;124m\"\u001b[39m:\n",
      "File \u001b[1;32mc:\\Users\\Dell\\anaconda3\\envs\\dslab\\Lib\\site-packages\\pandas\\core\\dtypes\\astype.py:182\u001b[0m, in \u001b[0;36mastype_array\u001b[1;34m(values, dtype, copy)\u001b[0m\n\u001b[0;32m    179\u001b[0m     values \u001b[38;5;241m=\u001b[39m values\u001b[38;5;241m.\u001b[39mastype(dtype, copy\u001b[38;5;241m=\u001b[39mcopy)\n\u001b[0;32m    181\u001b[0m \u001b[38;5;28;01melse\u001b[39;00m:\n\u001b[1;32m--> 182\u001b[0m     values \u001b[38;5;241m=\u001b[39m _astype_nansafe(values, dtype, copy\u001b[38;5;241m=\u001b[39mcopy)\n\u001b[0;32m    184\u001b[0m \u001b[38;5;66;03m# in pandas we don't store numpy str dtypes, so convert to object\u001b[39;00m\n\u001b[0;32m    185\u001b[0m \u001b[38;5;28;01mif\u001b[39;00m \u001b[38;5;28misinstance\u001b[39m(dtype, np\u001b[38;5;241m.\u001b[39mdtype) \u001b[38;5;129;01mand\u001b[39;00m \u001b[38;5;28missubclass\u001b[39m(values\u001b[38;5;241m.\u001b[39mdtype\u001b[38;5;241m.\u001b[39mtype, \u001b[38;5;28mstr\u001b[39m):\n",
      "File \u001b[1;32mc:\\Users\\Dell\\anaconda3\\envs\\dslab\\Lib\\site-packages\\pandas\\core\\dtypes\\astype.py:133\u001b[0m, in \u001b[0;36m_astype_nansafe\u001b[1;34m(arr, dtype, copy, skipna)\u001b[0m\n\u001b[0;32m    129\u001b[0m     \u001b[38;5;28;01mraise\u001b[39;00m \u001b[38;5;167;01mValueError\u001b[39;00m(msg)\n\u001b[0;32m    131\u001b[0m \u001b[38;5;28;01mif\u001b[39;00m copy \u001b[38;5;129;01mor\u001b[39;00m arr\u001b[38;5;241m.\u001b[39mdtype \u001b[38;5;241m==\u001b[39m \u001b[38;5;28mobject\u001b[39m \u001b[38;5;129;01mor\u001b[39;00m dtype \u001b[38;5;241m==\u001b[39m \u001b[38;5;28mobject\u001b[39m:\n\u001b[0;32m    132\u001b[0m     \u001b[38;5;66;03m# Explicit copy, or required since NumPy can't view from / to object.\u001b[39;00m\n\u001b[1;32m--> 133\u001b[0m     \u001b[38;5;28;01mreturn\u001b[39;00m arr\u001b[38;5;241m.\u001b[39mastype(dtype, copy\u001b[38;5;241m=\u001b[39m\u001b[38;5;28;01mTrue\u001b[39;00m)\n\u001b[0;32m    135\u001b[0m \u001b[38;5;28;01mreturn\u001b[39;00m arr\u001b[38;5;241m.\u001b[39mastype(dtype, copy\u001b[38;5;241m=\u001b[39mcopy)\n",
      "\u001b[1;31mValueError\u001b[0m: setting an array element with a sequence."
     ]
    },
    {
     "data": {
      "text/plain": [
       "<Figure size 1200x800 with 0 Axes>"
      ]
     },
     "metadata": {},
     "output_type": "display_data"
    }
   ],
   "source": [
    "import seaborn as sns\n",
    "import matplotlib.pyplot as plt\n",
    "\n",
    "if 'mean' in df.index:\n",
    "    new_df = df.drop('mean')\n",
    "\n",
    "# Plot heatmap\n",
    "plt.figure(figsize=(12, 8))\n",
    "sns.heatmap(new_df.astype(float), cmap='viridis', annot=True, fmt='.2f', cbar=True)\n",
    "plt.title('Heatmap of DataFrame')\n",
    "plt.show()"
   ]
  },
  {
   "cell_type": "markdown",
   "metadata": {},
   "source": [
    "# LATEX TABLES"
   ]
  },
  {
   "cell_type": "code",
   "execution_count": null,
   "metadata": {},
   "outputs": [
    {
     "name": "stdout",
     "output_type": "stream",
     "text": [
      "\\begin{table}[h]\n",
      "\\caption{Paired T Test of Mou (Shallow RNN) and Paoletti (Deep RNN) on Indian Pines Dataset}\n",
      "\\centering\n",
      "\\begin{tabular}{llll}\n",
      "\\hline\n",
      "         & 8   & 15       & 30       \\\\\n",
      "\\hline\n",
      " PCA     & =   & =        & =        \\\\\n",
      " FastICA & =   & paoletti & paoletti \\\\\n",
      "\\hline\n",
      "\\end{tabular}\n",
      "\\end{table}\n"
     ]
    }
   ],
   "source": [
    "from tabulate import tabulate\n",
    "\n",
    "# mou vs paoletti - IOU in Salinas\n",
    "#                8         15        30\n",
    "# PCA      paoletti         =  paoletti\n",
    "# FastICA         =  paoletti  paoletti\n",
    "\n",
    "# li vs hamida - IOU in Salinas\n",
    "#         8       15      30\n",
    "# PCA      =       =      li\n",
    "# FastICA  =  hamida  hamida\n",
    "\n",
    "# mou vs paoletti - IOU in IndianPines\n",
    "#         8         15        30\n",
    "# PCA      =         =         =\n",
    "# FastICA  =  paoletti  paoletti\n",
    "\n",
    "# li vs hamida - IOU in IndianPines\n",
    "#              8       15      30\n",
    "# PCA           =  hamida  hamida\n",
    "# FastICA  hamida  hamida  hamida\n",
    "\n",
    "# Define the DataFrame data\n",
    "data = {\n",
    "    8: ['=', '='],\n",
    "    15: ['=', 'paoletti'],\n",
    "    30: ['=', 'paoletti']\n",
    "}\n",
    "\n",
    "\n",
    "# Define custom row labels\n",
    "index = ['PCA', 'FastICA']\n",
    "\n",
    "# Generate the LaTeX code for the table with centered content\n",
    "table = tabulate(data, headers='keys', tablefmt='latex_raw', showindex=index)\n",
    "\n",
    "# Add \\centering to center the content of each cell\n",
    "table = \"\\\\begin{table}[h]\\n\\\\caption{Paired T Test of Mou (Shallow RNN) and Paoletti (Deep RNN) on Indian Pines Dataset}\\n\\\\centering\\n\" + table + \"\\n\\\\end{table}\"\n",
    "\n",
    "# Print the LaTeX code\n",
    "print(table)"
   ]
  }
 ],
 "metadata": {
  "kernelspec": {
   "display_name": "dslab",
   "language": "python",
   "name": "python3"
  },
  "language_info": {
   "codemirror_mode": {
    "name": "ipython",
    "version": 3
   },
   "file_extension": ".py",
   "mimetype": "text/x-python",
   "name": "python",
   "nbconvert_exporter": "python",
   "pygments_lexer": "ipython3",
   "version": "3.12.2"
  }
 },
 "nbformat": 4,
 "nbformat_minor": 2
}
