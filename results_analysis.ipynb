{
 "cells": [
  {
   "cell_type": "markdown",
   "metadata": {},
   "source": [
    "#### Analysis to do in one dataset\n",
    "\n",
    "For each model, analyze if more components lead to a better performance.\n",
    "\n",
    "For each model, and each number of components analyze which DR method leads to a better performance.\n",
    "\n",
    "For each type of model, analyze \n",
    "\n",
    "\n",
    "#### Extra analysis\n",
    "\n",
    "Compare the behavior of each experiment with and without class balancing. "
   ]
  },
  {
   "cell_type": "code",
   "execution_count": 1,
   "metadata": {},
   "outputs": [],
   "source": [
    "import models"
   ]
  },
  {
   "cell_type": "code",
   "execution_count": 2,
   "metadata": {},
   "outputs": [
    {
     "name": "stdout",
     "output_type": "stream",
     "text": [
      "\n",
      "Salinas_PCA_8_mou_30epochs.csv\n",
      "Loaded.\n",
      "Columns unpickled.\n",
      "\n",
      "Salinas_PCA_8_hamida_30epochs.csv\n",
      "Loaded.\n",
      "Columns unpickled.\n",
      "\n",
      "Salinas_PCA_8_li_30epochs.csv\n",
      "Loaded.\n",
      "Columns unpickled.\n",
      "\n",
      "Salinas_PCA_8_paoletti_30epochs.csv\n",
      "Loaded.\n",
      "Columns unpickled.\n",
      "\n",
      "Salinas_PCA_15_mou_30epochs.csv\n",
      "Loaded.\n",
      "Columns unpickled.\n",
      "\n",
      "Salinas_PCA_15_hamida_30epochs.csv\n",
      "Loaded.\n",
      "Columns unpickled.\n",
      "\n",
      "Salinas_PCA_15_li_30epochs.csv\n",
      "Loaded.\n",
      "Columns unpickled.\n",
      "\n",
      "Salinas_PCA_15_paoletti_30epochs.csv\n",
      "Loaded.\n",
      "Columns unpickled.\n",
      "\n",
      "Salinas_PCA_30_mou_30epochs.csv\n",
      "Loaded.\n",
      "Columns unpickled.\n",
      "\n",
      "Salinas_PCA_30_hamida_30epochs.csv\n",
      "Loaded.\n",
      "Columns unpickled.\n",
      "\n",
      "Salinas_PCA_30_li_30epochs.csv\n",
      "Loaded.\n",
      "Columns unpickled.\n",
      "\n",
      "Salinas_PCA_30_paoletti_30epochs.csv\n",
      "Loaded.\n",
      "Columns unpickled.\n",
      "\n",
      "Salinas_FastICA_8_mou_30epochs.csv\n",
      "Loaded.\n",
      "Columns unpickled.\n",
      "\n",
      "Salinas_FastICA_8_hamida_30epochs.csv\n",
      "Loaded.\n",
      "Columns unpickled.\n",
      "\n",
      "Salinas_FastICA_8_li_30epochs.csv\n",
      "Loaded.\n",
      "Columns unpickled.\n",
      "\n",
      "Salinas_FastICA_8_paoletti_30epochs.csv\n",
      "Loaded.\n",
      "Columns unpickled.\n",
      "\n",
      "Salinas_FastICA_15_mou_30epochs.csv\n",
      "Loaded.\n",
      "Columns unpickled.\n",
      "\n",
      "Salinas_FastICA_15_hamida_30epochs.csv\n",
      "Loaded.\n",
      "Columns unpickled.\n",
      "\n",
      "Salinas_FastICA_15_li_30epochs.csv\n",
      "Loaded.\n",
      "Columns unpickled.\n",
      "\n",
      "Salinas_FastICA_15_paoletti_30epochs.csv\n",
      "Loaded.\n",
      "Columns unpickled.\n",
      "\n",
      "Salinas_FastICA_30_mou_30epochs.csv\n",
      "Loaded.\n",
      "Columns unpickled.\n",
      "\n",
      "Salinas_FastICA_30_hamida_30epochs.csv\n",
      "Loaded.\n",
      "Columns unpickled.\n",
      "\n",
      "Salinas_FastICA_30_li_30epochs.csv\n",
      "Loaded.\n",
      "Columns unpickled.\n",
      "\n",
      "Salinas_FastICA_30_paoletti_30epochs.csv\n",
      "Loaded.\n",
      "Columns unpickled.\n",
      "\n",
      "IndianPines_PCA_8_mou_30epochs.csv\n",
      "Loaded.\n",
      "Columns unpickled.\n",
      "\n",
      "IndianPines_PCA_8_hamida_30epochs.csv\n",
      "Loaded.\n",
      "Columns unpickled.\n",
      "\n",
      "IndianPines_PCA_8_li_30epochs.csv\n",
      "Loaded.\n",
      "Columns unpickled.\n",
      "\n",
      "IndianPines_PCA_8_paoletti_30epochs.csv\n",
      "Loaded.\n",
      "Columns unpickled.\n",
      "\n",
      "IndianPines_PCA_15_mou_30epochs.csv\n",
      "Loaded.\n",
      "Columns unpickled.\n",
      "\n",
      "IndianPines_PCA_15_hamida_30epochs.csv\n",
      "Loaded.\n",
      "Columns unpickled.\n",
      "\n",
      "IndianPines_PCA_15_li_30epochs.csv\n",
      "Loaded.\n",
      "Columns unpickled.\n",
      "\n",
      "IndianPines_PCA_15_paoletti_30epochs.csv\n",
      "Loaded.\n",
      "Columns unpickled.\n",
      "\n",
      "IndianPines_PCA_30_mou_30epochs.csv\n",
      "Loaded.\n",
      "Columns unpickled.\n",
      "\n",
      "IndianPines_PCA_30_hamida_30epochs.csv\n",
      "Loaded.\n",
      "Columns unpickled.\n",
      "\n",
      "IndianPines_PCA_30_li_30epochs.csv\n",
      "Loaded.\n",
      "Columns unpickled.\n",
      "\n",
      "IndianPines_PCA_30_paoletti_30epochs.csv\n",
      "Loaded.\n",
      "Columns unpickled.\n",
      "\n",
      "IndianPines_FastICA_8_mou_30epochs.csv\n",
      "Loaded.\n",
      "Columns unpickled.\n",
      "\n",
      "IndianPines_FastICA_8_hamida_30epochs.csv\n",
      "Loaded.\n",
      "Columns unpickled.\n",
      "\n",
      "IndianPines_FastICA_8_li_30epochs.csv\n",
      "Loaded.\n",
      "Columns unpickled.\n",
      "\n",
      "IndianPines_FastICA_8_paoletti_30epochs.csv\n",
      "Loaded.\n",
      "Columns unpickled.\n",
      "\n",
      "IndianPines_FastICA_15_mou_30epochs.csv\n",
      "Loaded.\n",
      "Columns unpickled.\n",
      "\n",
      "IndianPines_FastICA_15_hamida_30epochs.csv\n",
      "Loaded.\n",
      "Columns unpickled.\n",
      "\n",
      "IndianPines_FastICA_15_li_30epochs.csv\n",
      "Loaded.\n",
      "Columns unpickled.\n",
      "\n",
      "IndianPines_FastICA_15_paoletti_30epochs.csv\n",
      "Loaded.\n",
      "Columns unpickled.\n",
      "\n",
      "IndianPines_FastICA_30_mou_30epochs.csv\n",
      "Loaded.\n",
      "Columns unpickled.\n",
      "\n",
      "IndianPines_FastICA_30_hamida_30epochs.csv\n",
      "Loaded.\n",
      "Columns unpickled.\n",
      "\n",
      "IndianPines_FastICA_30_li_30epochs.csv\n",
      "Loaded.\n",
      "Columns unpickled.\n",
      "\n",
      "IndianPines_FastICA_30_paoletti_30epochs.csv\n",
      "Loaded.\n",
      "Columns unpickled.\n"
     ]
    },
    {
     "data": {
      "text/html": [
       "<div>\n",
       "<style scoped>\n",
       "    .dataframe tbody tr th:only-of-type {\n",
       "        vertical-align: middle;\n",
       "    }\n",
       "\n",
       "    .dataframe tbody tr th {\n",
       "        vertical-align: top;\n",
       "    }\n",
       "\n",
       "    .dataframe thead th {\n",
       "        text-align: right;\n",
       "    }\n",
       "</style>\n",
       "<table border=\"1\" class=\"dataframe\">\n",
       "  <thead>\n",
       "    <tr style=\"text-align: right;\">\n",
       "      <th></th>\n",
       "      <th>Experiment</th>\n",
       "      <th>Confusion matrix</th>\n",
       "      <th>Accuracy</th>\n",
       "      <th>F1 scores</th>\n",
       "      <th>Kappa</th>\n",
       "      <th>IOU</th>\n",
       "      <th>Dataset</th>\n",
       "      <th>DR Method</th>\n",
       "      <th>N Components</th>\n",
       "      <th>Model</th>\n",
       "    </tr>\n",
       "  </thead>\n",
       "  <tbody>\n",
       "    <tr>\n",
       "      <th>0</th>\n",
       "      <td>Salinas_PCA_8_mou</td>\n",
       "      <td>[[0, 0, 0, 0, 0, 0, 0, 0, 0, 0, 0, 0, 0, 0, 0,...</td>\n",
       "      <td>88.396239</td>\n",
       "      <td>[0.0, 0.9673940949935815, 0.993193647404244, 0...</td>\n",
       "      <td>0.871131</td>\n",
       "      <td>[0.0, 0.9368473396320238, 0.9864793213149523, ...</td>\n",
       "      <td>Salinas</td>\n",
       "      <td>PCA</td>\n",
       "      <td>8</td>\n",
       "      <td>mou</td>\n",
       "    </tr>\n",
       "    <tr>\n",
       "      <th>1</th>\n",
       "      <td>Salinas_PCA_8_hamida</td>\n",
       "      <td>[[0, 0, 0, 0, 0, 0, 0, 0, 0, 0, 0, 0, 0, 0, 0,...</td>\n",
       "      <td>93.166325</td>\n",
       "      <td>[0.0, 0.9729038854805726, 0.9982580731609273, ...</td>\n",
       "      <td>0.924037</td>\n",
       "      <td>[0.0, 0.947237431557989, 0.9965222043873729, 0...</td>\n",
       "      <td>Salinas</td>\n",
       "      <td>PCA</td>\n",
       "      <td>8</td>\n",
       "      <td>hamida</td>\n",
       "    </tr>\n",
       "    <tr>\n",
       "      <th>2</th>\n",
       "      <td>Salinas_PCA_8_li</td>\n",
       "      <td>[[0, 0, 0, 0, 0, 0, 0, 0, 0, 0, 0, 0, 0, 0, 0,...</td>\n",
       "      <td>92.802380</td>\n",
       "      <td>[0.0, 0.9757838388988019, 1.0, 0.9861680327868...</td>\n",
       "      <td>0.919929</td>\n",
       "      <td>[0.0, 0.9527127924340468, 1.0, 0.9727134916624...</td>\n",
       "      <td>Salinas</td>\n",
       "      <td>PCA</td>\n",
       "      <td>8</td>\n",
       "      <td>li</td>\n",
       "    </tr>\n",
       "    <tr>\n",
       "      <th>3</th>\n",
       "      <td>Salinas_PCA_8_paoletti</td>\n",
       "      <td>[[0, 0, 0, 0, 0, 0, 0, 0, 0, 0, 0, 0, 0, 0, 0,...</td>\n",
       "      <td>89.194332</td>\n",
       "      <td>[0.0, 0.9456216492213428, 0.981309667876832, 0...</td>\n",
       "      <td>0.879867</td>\n",
       "      <td>[0.0, 0.8968523002421307, 0.9633051742344245, ...</td>\n",
       "      <td>Salinas</td>\n",
       "      <td>PCA</td>\n",
       "      <td>8</td>\n",
       "      <td>paoletti</td>\n",
       "    </tr>\n",
       "    <tr>\n",
       "      <th>4</th>\n",
       "      <td>Salinas_PCA_15_mou</td>\n",
       "      <td>[[0, 0, 0, 0, 0, 0, 0, 0, 0, 0, 0, 0, 0, 0, 0,...</td>\n",
       "      <td>88.368527</td>\n",
       "      <td>[0.0, 0.9602446483180428, 0.9885675857431069, ...</td>\n",
       "      <td>0.870863</td>\n",
       "      <td>[0.0, 0.9235294117647059, 0.9773936170212766, ...</td>\n",
       "      <td>Salinas</td>\n",
       "      <td>PCA</td>\n",
       "      <td>15</td>\n",
       "      <td>mou</td>\n",
       "    </tr>\n",
       "    <tr>\n",
       "      <th>5</th>\n",
       "      <td>Salinas_PCA_15_hamida</td>\n",
       "      <td>[[0, 0, 0, 0, 0, 0, 0, 0, 0, 0, 0, 0, 0, 0, 0,...</td>\n",
       "      <td>94.838257</td>\n",
       "      <td>[0.0, 0.975, 0.9995975855130784, 0.99466327827...</td>\n",
       "      <td>0.942666</td>\n",
       "      <td>[0.0, 0.9512195121951219, 0.999195494770716, 0...</td>\n",
       "      <td>Salinas</td>\n",
       "      <td>PCA</td>\n",
       "      <td>15</td>\n",
       "      <td>hamida</td>\n",
       "    </tr>\n",
       "    <tr>\n",
       "      <th>6</th>\n",
       "      <td>Salinas_PCA_15_li</td>\n",
       "      <td>[[0, 0, 0, 0, 0, 0, 0, 0, 0, 0, 0, 0, 0, 0, 0,...</td>\n",
       "      <td>94.620259</td>\n",
       "      <td>[0.0, 0.9757838388988019, 1.0, 0.9972229235041...</td>\n",
       "      <td>0.940243</td>\n",
       "      <td>[0.0, 0.9527127924340468, 1.0, 0.9944612286002...</td>\n",
       "      <td>Salinas</td>\n",
       "      <td>PCA</td>\n",
       "      <td>15</td>\n",
       "      <td>li</td>\n",
       "    </tr>\n",
       "    <tr>\n",
       "      <th>7</th>\n",
       "      <td>Salinas_PCA_15_paoletti</td>\n",
       "      <td>[[0, 0, 0, 0, 0, 0, 0, 0, 0, 0, 0, 0, 0, 0, 0,...</td>\n",
       "      <td>88.865488</td>\n",
       "      <td>[0.0, 0.8845086063298168, 0.9571152607855763, ...</td>\n",
       "      <td>0.876396</td>\n",
       "      <td>[0.0, 0.7929318068690892, 0.917757470980489, 0...</td>\n",
       "      <td>Salinas</td>\n",
       "      <td>PCA</td>\n",
       "      <td>15</td>\n",
       "      <td>paoletti</td>\n",
       "    </tr>\n",
       "    <tr>\n",
       "      <th>8</th>\n",
       "      <td>Salinas_PCA_30_mou</td>\n",
       "      <td>[[0, 0, 0, 0, 0, 0, 0, 0, 0, 0, 0, 0, 0, 0, 0,...</td>\n",
       "      <td>87.877108</td>\n",
       "      <td>[0.0, 0.9520083463745436, 0.9853723404255319, ...</td>\n",
       "      <td>0.865283</td>\n",
       "      <td>[0.0, 0.9084121453459433, 0.9711664482306684, ...</td>\n",
       "      <td>Salinas</td>\n",
       "      <td>PCA</td>\n",
       "      <td>30</td>\n",
       "      <td>mou</td>\n",
       "    </tr>\n",
       "    <tr>\n",
       "      <th>9</th>\n",
       "      <td>Salinas_PCA_30_hamida</td>\n",
       "      <td>[[0, 0, 0, 0, 0, 0, 0, 0, 0, 0, 0, 0, 0, 0, 0,...</td>\n",
       "      <td>95.372166</td>\n",
       "      <td>[0.0, 0.9757838388988019, 0.9998658258419428, ...</td>\n",
       "      <td>0.948605</td>\n",
       "      <td>[0.0, 0.9527127924340468, 0.9997316876844647, ...</td>\n",
       "      <td>Salinas</td>\n",
       "      <td>PCA</td>\n",
       "      <td>30</td>\n",
       "      <td>hamida</td>\n",
       "    </tr>\n",
       "    <tr>\n",
       "      <th>10</th>\n",
       "      <td>Salinas_PCA_30_li</td>\n",
       "      <td>[[0, 0, 0, 0, 0, 0, 0, 0, 0, 0, 0, 0, 0, 0, 0,...</td>\n",
       "      <td>95.834026</td>\n",
       "      <td>[0.0, 0.9757838388988019, 1.0, 0.9997468995191...</td>\n",
       "      <td>0.953717</td>\n",
       "      <td>[0.0, 0.9527127924340468, 1.0, 0.9994939271255...</td>\n",
       "      <td>Salinas</td>\n",
       "      <td>PCA</td>\n",
       "      <td>30</td>\n",
       "      <td>li</td>\n",
       "    </tr>\n",
       "    <tr>\n",
       "      <th>11</th>\n",
       "      <td>Salinas_PCA_30_paoletti</td>\n",
       "      <td>[[0, 0, 0, 0, 0, 0, 0, 0, 0, 0, 0, 0, 0, 0, 0,...</td>\n",
       "      <td>90.457980</td>\n",
       "      <td>[0.0, 0.973953013278856, 0.9967845659163987, 0...</td>\n",
       "      <td>0.894100</td>\n",
       "      <td>[0.0, 0.9492284718765555, 0.9935897435897436, ...</td>\n",
       "      <td>Salinas</td>\n",
       "      <td>PCA</td>\n",
       "      <td>30</td>\n",
       "      <td>paoletti</td>\n",
       "    </tr>\n",
       "    <tr>\n",
       "      <th>12</th>\n",
       "      <td>Salinas_FastICA_8_mou</td>\n",
       "      <td>[[0, 0, 0, 0, 0, 0, 0, 0, 0, 0, 0, 0, 0, 0, 0,...</td>\n",
       "      <td>93.116444</td>\n",
       "      <td>[0.0, 0.9757838388988019, 1.0, 0.9909547738693...</td>\n",
       "      <td>0.923446</td>\n",
       "      <td>[0.0, 0.9527127924340468, 1.0, 0.9820717131474...</td>\n",
       "      <td>Salinas</td>\n",
       "      <td>FastICA</td>\n",
       "      <td>8</td>\n",
       "      <td>mou</td>\n",
       "    </tr>\n",
       "    <tr>\n",
       "      <th>13</th>\n",
       "      <td>Salinas_FastICA_8_hamida</td>\n",
       "      <td>[[0, 0, 0, 0, 0, 0, 0, 0, 0, 0, 0, 0, 0, 0, 0,...</td>\n",
       "      <td>95.067339</td>\n",
       "      <td>[0.0, 0.9757838388988019, 1.0, 0.9984833164812...</td>\n",
       "      <td>0.945191</td>\n",
       "      <td>[0.0, 0.9527127924340468, 1.0, 0.9969712266532...</td>\n",
       "      <td>Salinas</td>\n",
       "      <td>FastICA</td>\n",
       "      <td>8</td>\n",
       "      <td>hamida</td>\n",
       "    </tr>\n",
       "    <tr>\n",
       "      <th>14</th>\n",
       "      <td>Salinas_FastICA_8_li</td>\n",
       "      <td>[[0, 0, 0, 0, 0, 0, 0, 0, 0, 0, 0, 0, 0, 0, 0,...</td>\n",
       "      <td>94.777291</td>\n",
       "      <td>[0.0, 0.9757838388988019, 0.9998657898268689, ...</td>\n",
       "      <td>0.941983</td>\n",
       "      <td>[0.0, 0.9527127924340468, 0.9997316156736447, ...</td>\n",
       "      <td>Salinas</td>\n",
       "      <td>FastICA</td>\n",
       "      <td>8</td>\n",
       "      <td>li</td>\n",
       "    </tr>\n",
       "    <tr>\n",
       "      <th>15</th>\n",
       "      <td>Salinas_FastICA_8_paoletti</td>\n",
       "      <td>[[0, 0, 0, 0, 0, 0, 0, 0, 0, 0, 0, 0, 0, 0, 0,...</td>\n",
       "      <td>95.455301</td>\n",
       "      <td>[0.0, 0.9755226925038246, 0.9998658258419428, ...</td>\n",
       "      <td>0.949551</td>\n",
       "      <td>[0.0, 0.9522150323544052, 0.9997316876844647, ...</td>\n",
       "      <td>Salinas</td>\n",
       "      <td>FastICA</td>\n",
       "      <td>8</td>\n",
       "      <td>paoletti</td>\n",
       "    </tr>\n",
       "    <tr>\n",
       "      <th>16</th>\n",
       "      <td>Salinas_FastICA_15_mou</td>\n",
       "      <td>[[0, 0, 0, 0, 0, 0, 0, 0, 0, 0, 0, 0, 0, 0, 0,...</td>\n",
       "      <td>94.845647</td>\n",
       "      <td>[0.0, 0.9752614129048712, 0.9995974775258285, ...</td>\n",
       "      <td>0.942764</td>\n",
       "      <td>[0.0, 0.9517172722747635, 0.9991952789699571, ...</td>\n",
       "      <td>Salinas</td>\n",
       "      <td>FastICA</td>\n",
       "      <td>15</td>\n",
       "      <td>mou</td>\n",
       "    </tr>\n",
       "    <tr>\n",
       "      <th>17</th>\n",
       "      <td>Salinas_FastICA_15_hamida</td>\n",
       "      <td>[[0, 0, 0, 0, 0, 0, 0, 0, 0, 0, 0, 0, 0, 0, 0,...</td>\n",
       "      <td>86.838848</td>\n",
       "      <td>[0.0, 0.969265938531877, 0.9588685610483976, 0...</td>\n",
       "      <td>0.853099</td>\n",
       "      <td>[0.0, 0.9403647116806308, 0.92098703888335, 0....</td>\n",
       "      <td>Salinas</td>\n",
       "      <td>FastICA</td>\n",
       "      <td>15</td>\n",
       "      <td>hamida</td>\n",
       "    </tr>\n",
       "    <tr>\n",
       "      <th>18</th>\n",
       "      <td>Salinas_FastICA_15_li</td>\n",
       "      <td>[[0, 0, 0, 0, 0, 0, 0, 0, 0, 0, 0, 0, 0, 0, 0,...</td>\n",
       "      <td>20.512110</td>\n",
       "      <td>[0.0, 0.0, 0.0, 0.0, 0.0, 0.0, 0.0, 0.0, 0.345...</td>\n",
       "      <td>0.001808</td>\n",
       "      <td>[0.0, 0.0, 0.0, 0.0, 0.0, 0.0, 0.0, 0.0, 0.209...</td>\n",
       "      <td>Salinas</td>\n",
       "      <td>FastICA</td>\n",
       "      <td>15</td>\n",
       "      <td>li</td>\n",
       "    </tr>\n",
       "    <tr>\n",
       "      <th>19</th>\n",
       "      <td>Salinas_FastICA_15_paoletti</td>\n",
       "      <td>[[0, 0, 0, 0, 0, 0, 0, 0, 0, 0, 0, 0, 0, 0, 0,...</td>\n",
       "      <td>97.160487</td>\n",
       "      <td>[0.0, 0.9757838388988019, 1.0, 0.9984794728839...</td>\n",
       "      <td>0.968448</td>\n",
       "      <td>[0.0, 0.9527127924340468, 1.0, 0.9969635627530...</td>\n",
       "      <td>Salinas</td>\n",
       "      <td>FastICA</td>\n",
       "      <td>15</td>\n",
       "      <td>paoletti</td>\n",
       "    </tr>\n",
       "    <tr>\n",
       "      <th>20</th>\n",
       "      <td>Salinas_FastICA_30_mou</td>\n",
       "      <td>[[0, 0, 0, 0, 0, 0, 0, 0, 0, 0, 0, 0, 0, 0, 0,...</td>\n",
       "      <td>20.512110</td>\n",
       "      <td>[0.0, 0.0, 0.0, 0.0, 0.0, 0.0, 0.0, 0.0, 0.345...</td>\n",
       "      <td>0.001808</td>\n",
       "      <td>[0.0, 0.0, 0.0, 0.0, 0.0, 0.0, 0.0, 0.0, 0.209...</td>\n",
       "      <td>Salinas</td>\n",
       "      <td>FastICA</td>\n",
       "      <td>30</td>\n",
       "      <td>mou</td>\n",
       "    </tr>\n",
       "    <tr>\n",
       "      <th>21</th>\n",
       "      <td>Salinas_FastICA_30_hamida</td>\n",
       "      <td>[[0, 0, 0, 0, 0, 0, 0, 0, 0, 0, 0, 0, 0, 0, 0,...</td>\n",
       "      <td>95.451606</td>\n",
       "      <td>[0.0, 0.9757838388988019, 0.9998658258419428, ...</td>\n",
       "      <td>0.949414</td>\n",
       "      <td>[0.0, 0.9527127924340468, 0.9997316876844647, ...</td>\n",
       "      <td>Salinas</td>\n",
       "      <td>FastICA</td>\n",
       "      <td>30</td>\n",
       "      <td>hamida</td>\n",
       "    </tr>\n",
       "    <tr>\n",
       "      <th>22</th>\n",
       "      <td>Salinas_FastICA_30_li</td>\n",
       "      <td>[[0, 0, 0, 0, 0, 0, 0, 0, 0, 0, 0, 0, 0, 0, 0,...</td>\n",
       "      <td>20.512110</td>\n",
       "      <td>[0.0, 0.0, 0.0, 0.0, 0.0, 0.0, 0.0, 0.0, 0.345...</td>\n",
       "      <td>0.001808</td>\n",
       "      <td>[0.0, 0.0, 0.0, 0.0, 0.0, 0.0, 0.0, 0.0, 0.209...</td>\n",
       "      <td>Salinas</td>\n",
       "      <td>FastICA</td>\n",
       "      <td>30</td>\n",
       "      <td>li</td>\n",
       "    </tr>\n",
       "    <tr>\n",
       "      <th>23</th>\n",
       "      <td>Salinas_FastICA_30_paoletti</td>\n",
       "      <td>[[0, 0, 0, 0, 0, 0, 0, 0, 0, 0, 0, 0, 0, 0, 0,...</td>\n",
       "      <td>93.822166</td>\n",
       "      <td>[0.0, 0.9732347693092022, 0.9993291292097142, ...</td>\n",
       "      <td>0.931475</td>\n",
       "      <td>[0.0, 0.9478649453823237, 0.9986591579511933, ...</td>\n",
       "      <td>Salinas</td>\n",
       "      <td>FastICA</td>\n",
       "      <td>30</td>\n",
       "      <td>paoletti</td>\n",
       "    </tr>\n",
       "    <tr>\n",
       "      <th>24</th>\n",
       "      <td>IndianPines_PCA_8_mou</td>\n",
       "      <td>[[0, 0, 0, 0, 0, 0, 0, 0, 0, 0, 0, 0, 0, 0, 0,...</td>\n",
       "      <td>71.567958</td>\n",
       "      <td>[0.0, 0.5833333333333334, 0.6258023106546855, ...</td>\n",
       "      <td>0.675416</td>\n",
       "      <td>[0.0, 0.4117647058823529, 0.45539467538533396,...</td>\n",
       "      <td>IndianPines</td>\n",
       "      <td>PCA</td>\n",
       "      <td>8</td>\n",
       "      <td>mou</td>\n",
       "    </tr>\n",
       "    <tr>\n",
       "      <th>25</th>\n",
       "      <td>IndianPines_PCA_8_hamida</td>\n",
       "      <td>[[0, 0, 0, 0, 0, 0, 0, 0, 0, 0, 0, 0, 0, 0, 0,...</td>\n",
       "      <td>93.531076</td>\n",
       "      <td>[0.0, 0.7567567567567568, 0.9403141361256544, ...</td>\n",
       "      <td>0.926518</td>\n",
       "      <td>[0.0, 0.6086956521739131, 0.8873517786561265, ...</td>\n",
       "      <td>IndianPines</td>\n",
       "      <td>PCA</td>\n",
       "      <td>8</td>\n",
       "      <td>hamida</td>\n",
       "    </tr>\n",
       "    <tr>\n",
       "      <th>26</th>\n",
       "      <td>IndianPines_PCA_8_li</td>\n",
       "      <td>[[0, 0, 0, 0, 0, 0, 0, 0, 0, 0, 0, 0, 0, 0, 0,...</td>\n",
       "      <td>89.277003</td>\n",
       "      <td>[0.0, 1.0, 0.8377331925378388, 0.8640321500334...</td>\n",
       "      <td>0.877482</td>\n",
       "      <td>[0.0, 1.0, 0.7207752877044216, 0.7606132075471...</td>\n",
       "      <td>IndianPines</td>\n",
       "      <td>PCA</td>\n",
       "      <td>8</td>\n",
       "      <td>li</td>\n",
       "    </tr>\n",
       "    <tr>\n",
       "      <th>27</th>\n",
       "      <td>IndianPines_PCA_8_paoletti</td>\n",
       "      <td>[[0, 0, 0, 0, 0, 0, 0, 0, 0, 0, 0, 0, 0, 0, 0,...</td>\n",
       "      <td>69.919016</td>\n",
       "      <td>[0.0, 0.6274509803921569, 0.582398912674142, 0...</td>\n",
       "      <td>0.651425</td>\n",
       "      <td>[0.0, 0.45714285714285713, 0.41083413231064236...</td>\n",
       "      <td>IndianPines</td>\n",
       "      <td>PCA</td>\n",
       "      <td>8</td>\n",
       "      <td>paoletti</td>\n",
       "    </tr>\n",
       "    <tr>\n",
       "      <th>28</th>\n",
       "      <td>IndianPines_PCA_15_mou</td>\n",
       "      <td>[[0, 0, 0, 0, 0, 0, 0, 0, 0, 0, 0, 0, 0, 0, 0,...</td>\n",
       "      <td>68.757928</td>\n",
       "      <td>[0.0, 0.345679012345679, 0.6813348001466814, 0...</td>\n",
       "      <td>0.641556</td>\n",
       "      <td>[0.0, 0.208955223880597, 0.5166852057842046, 0...</td>\n",
       "      <td>IndianPines</td>\n",
       "      <td>PCA</td>\n",
       "      <td>15</td>\n",
       "      <td>mou</td>\n",
       "    </tr>\n",
       "    <tr>\n",
       "      <th>29</th>\n",
       "      <td>IndianPines_PCA_15_hamida</td>\n",
       "      <td>[[0, 0, 0, 0, 0, 0, 0, 0, 0, 0, 0, 0, 0, 0, 0,...</td>\n",
       "      <td>96.789931</td>\n",
       "      <td>[0.0, 0.989010989010989, 0.98698557861414, 0.9...</td>\n",
       "      <td>0.963501</td>\n",
       "      <td>[0.0, 0.9782608695652174, 0.9743055555555555, ...</td>\n",
       "      <td>IndianPines</td>\n",
       "      <td>PCA</td>\n",
       "      <td>15</td>\n",
       "      <td>hamida</td>\n",
       "    </tr>\n",
       "    <tr>\n",
       "      <th>30</th>\n",
       "      <td>IndianPines_PCA_15_li</td>\n",
       "      <td>[[0, 0, 0, 0, 0, 0, 0, 0, 0, 0, 0, 0, 0, 0, 0,...</td>\n",
       "      <td>86.798712</td>\n",
       "      <td>[0.0, 1.0, 0.8056726715216558, 0.7773386034255...</td>\n",
       "      <td>0.848881</td>\n",
       "      <td>[0.0, 1.0, 0.6745827984595636, 0.6357758620689...</td>\n",
       "      <td>IndianPines</td>\n",
       "      <td>PCA</td>\n",
       "      <td>15</td>\n",
       "      <td>li</td>\n",
       "    </tr>\n",
       "    <tr>\n",
       "      <th>31</th>\n",
       "      <td>IndianPines_PCA_15_paoletti</td>\n",
       "      <td>[[0, 0, 0, 0, 0, 0, 0, 0, 0, 0, 0, 0, 0, 0, 0,...</td>\n",
       "      <td>66.777247</td>\n",
       "      <td>[0.0, 0.2857142857142857, 0.5578099838969404, ...</td>\n",
       "      <td>0.617421</td>\n",
       "      <td>[0.0, 0.16666666666666666, 0.38677981241625725...</td>\n",
       "      <td>IndianPines</td>\n",
       "      <td>PCA</td>\n",
       "      <td>15</td>\n",
       "      <td>paoletti</td>\n",
       "    </tr>\n",
       "    <tr>\n",
       "      <th>32</th>\n",
       "      <td>IndianPines_PCA_30_mou</td>\n",
       "      <td>[[0, 0, 0, 0, 0, 0, 0, 0, 0, 0, 0, 0, 0, 0, 0,...</td>\n",
       "      <td>62.641546</td>\n",
       "      <td>[0.0, 0.4444444444444444, 0.48086991542488927,...</td>\n",
       "      <td>0.561471</td>\n",
       "      <td>[0.0, 0.2857142857142857, 0.316542948038176, 0...</td>\n",
       "      <td>IndianPines</td>\n",
       "      <td>PCA</td>\n",
       "      <td>30</td>\n",
       "      <td>mou</td>\n",
       "    </tr>\n",
       "    <tr>\n",
       "      <th>33</th>\n",
       "      <td>IndianPines_PCA_30_hamida</td>\n",
       "      <td>[[0, 0, 0, 0, 0, 0, 0, 0, 0, 0, 0, 0, 0, 0, 0,...</td>\n",
       "      <td>97.256931</td>\n",
       "      <td>[0.0, 1.0, 0.9964985994397759, 0.9426751592356...</td>\n",
       "      <td>0.968805</td>\n",
       "      <td>[0.0, 1.0, 0.9930216329378926, 0.8915662650602...</td>\n",
       "      <td>IndianPines</td>\n",
       "      <td>PCA</td>\n",
       "      <td>30</td>\n",
       "      <td>hamida</td>\n",
       "    </tr>\n",
       "    <tr>\n",
       "      <th>34</th>\n",
       "      <td>IndianPines_PCA_30_li</td>\n",
       "      <td>[[0, 0, 0, 0, 0, 0, 0, 0, 0, 0, 0, 0, 0, 0, 0,...</td>\n",
       "      <td>23.350254</td>\n",
       "      <td>[0.0, 0.0, 0.0, 0.0, 0.0, 0.0, 0.0, 0.0, 0.0, ...</td>\n",
       "      <td>-0.000393</td>\n",
       "      <td>[0.0, 0.0, 0.0, 0.0, 0.0, 0.0, 0.0, 0.0, 0.0, ...</td>\n",
       "      <td>IndianPines</td>\n",
       "      <td>PCA</td>\n",
       "      <td>30</td>\n",
       "      <td>li</td>\n",
       "    </tr>\n",
       "    <tr>\n",
       "      <th>35</th>\n",
       "      <td>IndianPines_PCA_30_paoletti</td>\n",
       "      <td>[[0, 0, 0, 0, 0, 0, 0, 0, 0, 0, 0, 0, 0, 0, 0,...</td>\n",
       "      <td>63.772075</td>\n",
       "      <td>[0.0, 0.31746031746031744, 0.5379639087504257,...</td>\n",
       "      <td>0.581231</td>\n",
       "      <td>[0.0, 0.18867924528301888, 0.367955286446204, ...</td>\n",
       "      <td>IndianPines</td>\n",
       "      <td>PCA</td>\n",
       "      <td>30</td>\n",
       "      <td>paoletti</td>\n",
       "    </tr>\n",
       "    <tr>\n",
       "      <th>36</th>\n",
       "      <td>IndianPines_FastICA_8_mou</td>\n",
       "      <td>[[0, 0, 0, 0, 0, 0, 0, 0, 0, 0, 0, 0, 0, 0, 0,...</td>\n",
       "      <td>87.423163</td>\n",
       "      <td>[0.0, 0.8051948051948052, 0.8654813820865481, ...</td>\n",
       "      <td>0.856746</td>\n",
       "      <td>[0.0, 0.6739130434782609, 0.7628622117090479, ...</td>\n",
       "      <td>IndianPines</td>\n",
       "      <td>FastICA</td>\n",
       "      <td>8</td>\n",
       "      <td>mou</td>\n",
       "    </tr>\n",
       "    <tr>\n",
       "      <th>37</th>\n",
       "      <td>IndianPines_FastICA_8_hamida</td>\n",
       "      <td>[[0, 0, 0, 0, 0, 0, 0, 0, 0, 0, 0, 0, 0, 0, 0,...</td>\n",
       "      <td>96.614304</td>\n",
       "      <td>[0.0, 1.0, 0.984182776801406, 0.93485135989879...</td>\n",
       "      <td>0.961510</td>\n",
       "      <td>[0.0, 1.0, 0.9688581314878892, 0.8776722090261...</td>\n",
       "      <td>IndianPines</td>\n",
       "      <td>FastICA</td>\n",
       "      <td>8</td>\n",
       "      <td>hamida</td>\n",
       "    </tr>\n",
       "    <tr>\n",
       "      <th>38</th>\n",
       "      <td>IndianPines_FastICA_8_li</td>\n",
       "      <td>[[0, 0, 0, 0, 0, 0, 0, 0, 0, 0, 0, 0, 0, 0, 0,...</td>\n",
       "      <td>94.175041</td>\n",
       "      <td>[0.0, 1.0, 0.9162248144220573, 0.9011957205789...</td>\n",
       "      <td>0.933715</td>\n",
       "      <td>[0.0, 1.0, 0.8454011741682974, 0.8201603665521...</td>\n",
       "      <td>IndianPines</td>\n",
       "      <td>FastICA</td>\n",
       "      <td>8</td>\n",
       "      <td>li</td>\n",
       "    </tr>\n",
       "    <tr>\n",
       "      <th>39</th>\n",
       "      <td>IndianPines_FastICA_8_paoletti</td>\n",
       "      <td>[[0, 0, 0, 0, 0, 0, 0, 0, 0, 0, 0, 0, 0, 0, 0,...</td>\n",
       "      <td>89.745341</td>\n",
       "      <td>[0.0, 0.72, 0.900907187718074, 0.8162746344564...</td>\n",
       "      <td>0.883356</td>\n",
       "      <td>[0.0, 0.5625, 0.8196825396825397, 0.6895810955...</td>\n",
       "      <td>IndianPines</td>\n",
       "      <td>FastICA</td>\n",
       "      <td>8</td>\n",
       "      <td>paoletti</td>\n",
       "    </tr>\n",
       "    <tr>\n",
       "      <th>40</th>\n",
       "      <td>IndianPines_FastICA_15_mou</td>\n",
       "      <td>[[0, 0, 0, 0, 0, 0, 0, 0, 0, 0, 0, 0, 0, 0, 0,...</td>\n",
       "      <td>93.013953</td>\n",
       "      <td>[0.0, 0.9662921348314607, 0.932536893886156, 0...</td>\n",
       "      <td>0.920556</td>\n",
       "      <td>[0.0, 0.9347826086956522, 0.8736010533245556, ...</td>\n",
       "      <td>IndianPines</td>\n",
       "      <td>FastICA</td>\n",
       "      <td>15</td>\n",
       "      <td>mou</td>\n",
       "    </tr>\n",
       "    <tr>\n",
       "      <th>41</th>\n",
       "      <td>IndianPines_FastICA_15_hamida</td>\n",
       "      <td>[[0, 0, 0, 0, 0, 0, 0, 0, 0, 0, 0, 0, 0, 0, 0,...</td>\n",
       "      <td>97.346083</td>\n",
       "      <td>[0.0, 1.0, 0.9993002099370188, 0.9443037974683...</td>\n",
       "      <td>0.969830</td>\n",
       "      <td>[0.0, 1.0, 0.9986013986013986, 0.8944844124700...</td>\n",
       "      <td>IndianPines</td>\n",
       "      <td>FastICA</td>\n",
       "      <td>15</td>\n",
       "      <td>hamida</td>\n",
       "    </tr>\n",
       "    <tr>\n",
       "      <th>42</th>\n",
       "      <td>IndianPines_FastICA_15_li</td>\n",
       "      <td>[[0, 0, 0, 0, 0, 0, 0, 0, 0, 0, 0, 0, 0, 0, 0,...</td>\n",
       "      <td>97.199727</td>\n",
       "      <td>[0.0, 1.0, 0.9957953749124037, 0.9426751592356...</td>\n",
       "      <td>0.968167</td>\n",
       "      <td>[0.0, 1.0, 0.9916259595254711, 0.8915662650602...</td>\n",
       "      <td>IndianPines</td>\n",
       "      <td>FastICA</td>\n",
       "      <td>15</td>\n",
       "      <td>li</td>\n",
       "    </tr>\n",
       "    <tr>\n",
       "      <th>43</th>\n",
       "      <td>IndianPines_FastICA_15_paoletti</td>\n",
       "      <td>[[0, 0, 0, 0, 0, 0, 0, 0, 0, 0, 0, 0, 0, 0, 0,...</td>\n",
       "      <td>96.848473</td>\n",
       "      <td>[0.0, 0.9777777777777777, 0.9898636840265641, ...</td>\n",
       "      <td>0.964188</td>\n",
       "      <td>[0.0, 0.9565217391304348, 0.9799307958477509, ...</td>\n",
       "      <td>IndianPines</td>\n",
       "      <td>FastICA</td>\n",
       "      <td>15</td>\n",
       "      <td>paoletti</td>\n",
       "    </tr>\n",
       "    <tr>\n",
       "      <th>44</th>\n",
       "      <td>IndianPines_FastICA_30_mou</td>\n",
       "      <td>[[0, 0, 0, 0, 0, 0, 0, 0, 0, 0, 0, 0, 0, 0, 0,...</td>\n",
       "      <td>87.657332</td>\n",
       "      <td>[0.0, 0.967032967032967, 0.8526754690757471, 0...</td>\n",
       "      <td>0.859350</td>\n",
       "      <td>[0.0, 0.9361702127659575, 0.7431859479103574, ...</td>\n",
       "      <td>IndianPines</td>\n",
       "      <td>FastICA</td>\n",
       "      <td>30</td>\n",
       "      <td>mou</td>\n",
       "    </tr>\n",
       "    <tr>\n",
       "      <th>45</th>\n",
       "      <td>IndianPines_FastICA_30_hamida</td>\n",
       "      <td>[[0, 0, 0, 0, 0, 0, 0, 0, 0, 0, 0, 0, 0, 0, 0,...</td>\n",
       "      <td>97.404625</td>\n",
       "      <td>[0.0, 1.0, 0.999649982499125, 0.94936708860759...</td>\n",
       "      <td>0.970494</td>\n",
       "      <td>[0.0, 1.0, 0.9993002099370188, 0.9036144578313...</td>\n",
       "      <td>IndianPines</td>\n",
       "      <td>FastICA</td>\n",
       "      <td>30</td>\n",
       "      <td>hamida</td>\n",
       "    </tr>\n",
       "    <tr>\n",
       "      <th>46</th>\n",
       "      <td>IndianPines_FastICA_30_li</td>\n",
       "      <td>[[0, 0, 0, 0, 0, 0, 0, 0, 0, 0, 0, 0, 0, 0, 0,...</td>\n",
       "      <td>23.338862</td>\n",
       "      <td>[0.0, 0.0, 0.0, 0.0, 0.0, 0.0, 0.0, 0.0, 0.0, ...</td>\n",
       "      <td>-0.000244</td>\n",
       "      <td>[0.0, 0.0, 0.0, 0.0, 0.0, 0.0, 0.0, 0.0, 0.0, ...</td>\n",
       "      <td>IndianPines</td>\n",
       "      <td>FastICA</td>\n",
       "      <td>30</td>\n",
       "      <td>li</td>\n",
       "    </tr>\n",
       "    <tr>\n",
       "      <th>47</th>\n",
       "      <td>IndianPines_FastICA_30_paoletti</td>\n",
       "      <td>[[0, 0, 0, 0, 0, 0, 0, 0, 0, 0, 0, 0, 0, 0, 0,...</td>\n",
       "      <td>91.911406</td>\n",
       "      <td>[0.0, 0.989010989010989, 0.9419627154414351, 0...</td>\n",
       "      <td>0.908048</td>\n",
       "      <td>[0.0, 0.9782608695652174, 0.8902925531914894, ...</td>\n",
       "      <td>IndianPines</td>\n",
       "      <td>FastICA</td>\n",
       "      <td>30</td>\n",
       "      <td>paoletti</td>\n",
       "    </tr>\n",
       "  </tbody>\n",
       "</table>\n",
       "</div>"
      ],
      "text/plain": [
       "                         Experiment  \\\n",
       "0                 Salinas_PCA_8_mou   \n",
       "1              Salinas_PCA_8_hamida   \n",
       "2                  Salinas_PCA_8_li   \n",
       "3            Salinas_PCA_8_paoletti   \n",
       "4                Salinas_PCA_15_mou   \n",
       "5             Salinas_PCA_15_hamida   \n",
       "6                 Salinas_PCA_15_li   \n",
       "7           Salinas_PCA_15_paoletti   \n",
       "8                Salinas_PCA_30_mou   \n",
       "9             Salinas_PCA_30_hamida   \n",
       "10                Salinas_PCA_30_li   \n",
       "11          Salinas_PCA_30_paoletti   \n",
       "12            Salinas_FastICA_8_mou   \n",
       "13         Salinas_FastICA_8_hamida   \n",
       "14             Salinas_FastICA_8_li   \n",
       "15       Salinas_FastICA_8_paoletti   \n",
       "16           Salinas_FastICA_15_mou   \n",
       "17        Salinas_FastICA_15_hamida   \n",
       "18            Salinas_FastICA_15_li   \n",
       "19      Salinas_FastICA_15_paoletti   \n",
       "20           Salinas_FastICA_30_mou   \n",
       "21        Salinas_FastICA_30_hamida   \n",
       "22            Salinas_FastICA_30_li   \n",
       "23      Salinas_FastICA_30_paoletti   \n",
       "24            IndianPines_PCA_8_mou   \n",
       "25         IndianPines_PCA_8_hamida   \n",
       "26             IndianPines_PCA_8_li   \n",
       "27       IndianPines_PCA_8_paoletti   \n",
       "28           IndianPines_PCA_15_mou   \n",
       "29        IndianPines_PCA_15_hamida   \n",
       "30            IndianPines_PCA_15_li   \n",
       "31      IndianPines_PCA_15_paoletti   \n",
       "32           IndianPines_PCA_30_mou   \n",
       "33        IndianPines_PCA_30_hamida   \n",
       "34            IndianPines_PCA_30_li   \n",
       "35      IndianPines_PCA_30_paoletti   \n",
       "36        IndianPines_FastICA_8_mou   \n",
       "37     IndianPines_FastICA_8_hamida   \n",
       "38         IndianPines_FastICA_8_li   \n",
       "39   IndianPines_FastICA_8_paoletti   \n",
       "40       IndianPines_FastICA_15_mou   \n",
       "41    IndianPines_FastICA_15_hamida   \n",
       "42        IndianPines_FastICA_15_li   \n",
       "43  IndianPines_FastICA_15_paoletti   \n",
       "44       IndianPines_FastICA_30_mou   \n",
       "45    IndianPines_FastICA_30_hamida   \n",
       "46        IndianPines_FastICA_30_li   \n",
       "47  IndianPines_FastICA_30_paoletti   \n",
       "\n",
       "                                     Confusion matrix   Accuracy  \\\n",
       "0   [[0, 0, 0, 0, 0, 0, 0, 0, 0, 0, 0, 0, 0, 0, 0,...  88.396239   \n",
       "1   [[0, 0, 0, 0, 0, 0, 0, 0, 0, 0, 0, 0, 0, 0, 0,...  93.166325   \n",
       "2   [[0, 0, 0, 0, 0, 0, 0, 0, 0, 0, 0, 0, 0, 0, 0,...  92.802380   \n",
       "3   [[0, 0, 0, 0, 0, 0, 0, 0, 0, 0, 0, 0, 0, 0, 0,...  89.194332   \n",
       "4   [[0, 0, 0, 0, 0, 0, 0, 0, 0, 0, 0, 0, 0, 0, 0,...  88.368527   \n",
       "5   [[0, 0, 0, 0, 0, 0, 0, 0, 0, 0, 0, 0, 0, 0, 0,...  94.838257   \n",
       "6   [[0, 0, 0, 0, 0, 0, 0, 0, 0, 0, 0, 0, 0, 0, 0,...  94.620259   \n",
       "7   [[0, 0, 0, 0, 0, 0, 0, 0, 0, 0, 0, 0, 0, 0, 0,...  88.865488   \n",
       "8   [[0, 0, 0, 0, 0, 0, 0, 0, 0, 0, 0, 0, 0, 0, 0,...  87.877108   \n",
       "9   [[0, 0, 0, 0, 0, 0, 0, 0, 0, 0, 0, 0, 0, 0, 0,...  95.372166   \n",
       "10  [[0, 0, 0, 0, 0, 0, 0, 0, 0, 0, 0, 0, 0, 0, 0,...  95.834026   \n",
       "11  [[0, 0, 0, 0, 0, 0, 0, 0, 0, 0, 0, 0, 0, 0, 0,...  90.457980   \n",
       "12  [[0, 0, 0, 0, 0, 0, 0, 0, 0, 0, 0, 0, 0, 0, 0,...  93.116444   \n",
       "13  [[0, 0, 0, 0, 0, 0, 0, 0, 0, 0, 0, 0, 0, 0, 0,...  95.067339   \n",
       "14  [[0, 0, 0, 0, 0, 0, 0, 0, 0, 0, 0, 0, 0, 0, 0,...  94.777291   \n",
       "15  [[0, 0, 0, 0, 0, 0, 0, 0, 0, 0, 0, 0, 0, 0, 0,...  95.455301   \n",
       "16  [[0, 0, 0, 0, 0, 0, 0, 0, 0, 0, 0, 0, 0, 0, 0,...  94.845647   \n",
       "17  [[0, 0, 0, 0, 0, 0, 0, 0, 0, 0, 0, 0, 0, 0, 0,...  86.838848   \n",
       "18  [[0, 0, 0, 0, 0, 0, 0, 0, 0, 0, 0, 0, 0, 0, 0,...  20.512110   \n",
       "19  [[0, 0, 0, 0, 0, 0, 0, 0, 0, 0, 0, 0, 0, 0, 0,...  97.160487   \n",
       "20  [[0, 0, 0, 0, 0, 0, 0, 0, 0, 0, 0, 0, 0, 0, 0,...  20.512110   \n",
       "21  [[0, 0, 0, 0, 0, 0, 0, 0, 0, 0, 0, 0, 0, 0, 0,...  95.451606   \n",
       "22  [[0, 0, 0, 0, 0, 0, 0, 0, 0, 0, 0, 0, 0, 0, 0,...  20.512110   \n",
       "23  [[0, 0, 0, 0, 0, 0, 0, 0, 0, 0, 0, 0, 0, 0, 0,...  93.822166   \n",
       "24  [[0, 0, 0, 0, 0, 0, 0, 0, 0, 0, 0, 0, 0, 0, 0,...  71.567958   \n",
       "25  [[0, 0, 0, 0, 0, 0, 0, 0, 0, 0, 0, 0, 0, 0, 0,...  93.531076   \n",
       "26  [[0, 0, 0, 0, 0, 0, 0, 0, 0, 0, 0, 0, 0, 0, 0,...  89.277003   \n",
       "27  [[0, 0, 0, 0, 0, 0, 0, 0, 0, 0, 0, 0, 0, 0, 0,...  69.919016   \n",
       "28  [[0, 0, 0, 0, 0, 0, 0, 0, 0, 0, 0, 0, 0, 0, 0,...  68.757928   \n",
       "29  [[0, 0, 0, 0, 0, 0, 0, 0, 0, 0, 0, 0, 0, 0, 0,...  96.789931   \n",
       "30  [[0, 0, 0, 0, 0, 0, 0, 0, 0, 0, 0, 0, 0, 0, 0,...  86.798712   \n",
       "31  [[0, 0, 0, 0, 0, 0, 0, 0, 0, 0, 0, 0, 0, 0, 0,...  66.777247   \n",
       "32  [[0, 0, 0, 0, 0, 0, 0, 0, 0, 0, 0, 0, 0, 0, 0,...  62.641546   \n",
       "33  [[0, 0, 0, 0, 0, 0, 0, 0, 0, 0, 0, 0, 0, 0, 0,...  97.256931   \n",
       "34  [[0, 0, 0, 0, 0, 0, 0, 0, 0, 0, 0, 0, 0, 0, 0,...  23.350254   \n",
       "35  [[0, 0, 0, 0, 0, 0, 0, 0, 0, 0, 0, 0, 0, 0, 0,...  63.772075   \n",
       "36  [[0, 0, 0, 0, 0, 0, 0, 0, 0, 0, 0, 0, 0, 0, 0,...  87.423163   \n",
       "37  [[0, 0, 0, 0, 0, 0, 0, 0, 0, 0, 0, 0, 0, 0, 0,...  96.614304   \n",
       "38  [[0, 0, 0, 0, 0, 0, 0, 0, 0, 0, 0, 0, 0, 0, 0,...  94.175041   \n",
       "39  [[0, 0, 0, 0, 0, 0, 0, 0, 0, 0, 0, 0, 0, 0, 0,...  89.745341   \n",
       "40  [[0, 0, 0, 0, 0, 0, 0, 0, 0, 0, 0, 0, 0, 0, 0,...  93.013953   \n",
       "41  [[0, 0, 0, 0, 0, 0, 0, 0, 0, 0, 0, 0, 0, 0, 0,...  97.346083   \n",
       "42  [[0, 0, 0, 0, 0, 0, 0, 0, 0, 0, 0, 0, 0, 0, 0,...  97.199727   \n",
       "43  [[0, 0, 0, 0, 0, 0, 0, 0, 0, 0, 0, 0, 0, 0, 0,...  96.848473   \n",
       "44  [[0, 0, 0, 0, 0, 0, 0, 0, 0, 0, 0, 0, 0, 0, 0,...  87.657332   \n",
       "45  [[0, 0, 0, 0, 0, 0, 0, 0, 0, 0, 0, 0, 0, 0, 0,...  97.404625   \n",
       "46  [[0, 0, 0, 0, 0, 0, 0, 0, 0, 0, 0, 0, 0, 0, 0,...  23.338862   \n",
       "47  [[0, 0, 0, 0, 0, 0, 0, 0, 0, 0, 0, 0, 0, 0, 0,...  91.911406   \n",
       "\n",
       "                                            F1 scores     Kappa  \\\n",
       "0   [0.0, 0.9673940949935815, 0.993193647404244, 0...  0.871131   \n",
       "1   [0.0, 0.9729038854805726, 0.9982580731609273, ...  0.924037   \n",
       "2   [0.0, 0.9757838388988019, 1.0, 0.9861680327868...  0.919929   \n",
       "3   [0.0, 0.9456216492213428, 0.981309667876832, 0...  0.879867   \n",
       "4   [0.0, 0.9602446483180428, 0.9885675857431069, ...  0.870863   \n",
       "5   [0.0, 0.975, 0.9995975855130784, 0.99466327827...  0.942666   \n",
       "6   [0.0, 0.9757838388988019, 1.0, 0.9972229235041...  0.940243   \n",
       "7   [0.0, 0.8845086063298168, 0.9571152607855763, ...  0.876396   \n",
       "8   [0.0, 0.9520083463745436, 0.9853723404255319, ...  0.865283   \n",
       "9   [0.0, 0.9757838388988019, 0.9998658258419428, ...  0.948605   \n",
       "10  [0.0, 0.9757838388988019, 1.0, 0.9997468995191...  0.953717   \n",
       "11  [0.0, 0.973953013278856, 0.9967845659163987, 0...  0.894100   \n",
       "12  [0.0, 0.9757838388988019, 1.0, 0.9909547738693...  0.923446   \n",
       "13  [0.0, 0.9757838388988019, 1.0, 0.9984833164812...  0.945191   \n",
       "14  [0.0, 0.9757838388988019, 0.9998657898268689, ...  0.941983   \n",
       "15  [0.0, 0.9755226925038246, 0.9998658258419428, ...  0.949551   \n",
       "16  [0.0, 0.9752614129048712, 0.9995974775258285, ...  0.942764   \n",
       "17  [0.0, 0.969265938531877, 0.9588685610483976, 0...  0.853099   \n",
       "18  [0.0, 0.0, 0.0, 0.0, 0.0, 0.0, 0.0, 0.0, 0.345...  0.001808   \n",
       "19  [0.0, 0.9757838388988019, 1.0, 0.9984794728839...  0.968448   \n",
       "20  [0.0, 0.0, 0.0, 0.0, 0.0, 0.0, 0.0, 0.0, 0.345...  0.001808   \n",
       "21  [0.0, 0.9757838388988019, 0.9998658258419428, ...  0.949414   \n",
       "22  [0.0, 0.0, 0.0, 0.0, 0.0, 0.0, 0.0, 0.0, 0.345...  0.001808   \n",
       "23  [0.0, 0.9732347693092022, 0.9993291292097142, ...  0.931475   \n",
       "24  [0.0, 0.5833333333333334, 0.6258023106546855, ...  0.675416   \n",
       "25  [0.0, 0.7567567567567568, 0.9403141361256544, ...  0.926518   \n",
       "26  [0.0, 1.0, 0.8377331925378388, 0.8640321500334...  0.877482   \n",
       "27  [0.0, 0.6274509803921569, 0.582398912674142, 0...  0.651425   \n",
       "28  [0.0, 0.345679012345679, 0.6813348001466814, 0...  0.641556   \n",
       "29  [0.0, 0.989010989010989, 0.98698557861414, 0.9...  0.963501   \n",
       "30  [0.0, 1.0, 0.8056726715216558, 0.7773386034255...  0.848881   \n",
       "31  [0.0, 0.2857142857142857, 0.5578099838969404, ...  0.617421   \n",
       "32  [0.0, 0.4444444444444444, 0.48086991542488927,...  0.561471   \n",
       "33  [0.0, 1.0, 0.9964985994397759, 0.9426751592356...  0.968805   \n",
       "34  [0.0, 0.0, 0.0, 0.0, 0.0, 0.0, 0.0, 0.0, 0.0, ... -0.000393   \n",
       "35  [0.0, 0.31746031746031744, 0.5379639087504257,...  0.581231   \n",
       "36  [0.0, 0.8051948051948052, 0.8654813820865481, ...  0.856746   \n",
       "37  [0.0, 1.0, 0.984182776801406, 0.93485135989879...  0.961510   \n",
       "38  [0.0, 1.0, 0.9162248144220573, 0.9011957205789...  0.933715   \n",
       "39  [0.0, 0.72, 0.900907187718074, 0.8162746344564...  0.883356   \n",
       "40  [0.0, 0.9662921348314607, 0.932536893886156, 0...  0.920556   \n",
       "41  [0.0, 1.0, 0.9993002099370188, 0.9443037974683...  0.969830   \n",
       "42  [0.0, 1.0, 0.9957953749124037, 0.9426751592356...  0.968167   \n",
       "43  [0.0, 0.9777777777777777, 0.9898636840265641, ...  0.964188   \n",
       "44  [0.0, 0.967032967032967, 0.8526754690757471, 0...  0.859350   \n",
       "45  [0.0, 1.0, 0.999649982499125, 0.94936708860759...  0.970494   \n",
       "46  [0.0, 0.0, 0.0, 0.0, 0.0, 0.0, 0.0, 0.0, 0.0, ... -0.000244   \n",
       "47  [0.0, 0.989010989010989, 0.9419627154414351, 0...  0.908048   \n",
       "\n",
       "                                                  IOU      Dataset DR Method  \\\n",
       "0   [0.0, 0.9368473396320238, 0.9864793213149523, ...      Salinas       PCA   \n",
       "1   [0.0, 0.947237431557989, 0.9965222043873729, 0...      Salinas       PCA   \n",
       "2   [0.0, 0.9527127924340468, 1.0, 0.9727134916624...      Salinas       PCA   \n",
       "3   [0.0, 0.8968523002421307, 0.9633051742344245, ...      Salinas       PCA   \n",
       "4   [0.0, 0.9235294117647059, 0.9773936170212766, ...      Salinas       PCA   \n",
       "5   [0.0, 0.9512195121951219, 0.999195494770716, 0...      Salinas       PCA   \n",
       "6   [0.0, 0.9527127924340468, 1.0, 0.9944612286002...      Salinas       PCA   \n",
       "7   [0.0, 0.7929318068690892, 0.917757470980489, 0...      Salinas       PCA   \n",
       "8   [0.0, 0.9084121453459433, 0.9711664482306684, ...      Salinas       PCA   \n",
       "9   [0.0, 0.9527127924340468, 0.9997316876844647, ...      Salinas       PCA   \n",
       "10  [0.0, 0.9527127924340468, 1.0, 0.9994939271255...      Salinas       PCA   \n",
       "11  [0.0, 0.9492284718765555, 0.9935897435897436, ...      Salinas       PCA   \n",
       "12  [0.0, 0.9527127924340468, 1.0, 0.9820717131474...      Salinas   FastICA   \n",
       "13  [0.0, 0.9527127924340468, 1.0, 0.9969712266532...      Salinas   FastICA   \n",
       "14  [0.0, 0.9527127924340468, 0.9997316156736447, ...      Salinas   FastICA   \n",
       "15  [0.0, 0.9522150323544052, 0.9997316876844647, ...      Salinas   FastICA   \n",
       "16  [0.0, 0.9517172722747635, 0.9991952789699571, ...      Salinas   FastICA   \n",
       "17  [0.0, 0.9403647116806308, 0.92098703888335, 0....      Salinas   FastICA   \n",
       "18  [0.0, 0.0, 0.0, 0.0, 0.0, 0.0, 0.0, 0.0, 0.209...      Salinas   FastICA   \n",
       "19  [0.0, 0.9527127924340468, 1.0, 0.9969635627530...      Salinas   FastICA   \n",
       "20  [0.0, 0.0, 0.0, 0.0, 0.0, 0.0, 0.0, 0.0, 0.209...      Salinas   FastICA   \n",
       "21  [0.0, 0.9527127924340468, 0.9997316876844647, ...      Salinas   FastICA   \n",
       "22  [0.0, 0.0, 0.0, 0.0, 0.0, 0.0, 0.0, 0.0, 0.209...      Salinas   FastICA   \n",
       "23  [0.0, 0.9478649453823237, 0.9986591579511933, ...      Salinas   FastICA   \n",
       "24  [0.0, 0.4117647058823529, 0.45539467538533396,...  IndianPines       PCA   \n",
       "25  [0.0, 0.6086956521739131, 0.8873517786561265, ...  IndianPines       PCA   \n",
       "26  [0.0, 1.0, 0.7207752877044216, 0.7606132075471...  IndianPines       PCA   \n",
       "27  [0.0, 0.45714285714285713, 0.41083413231064236...  IndianPines       PCA   \n",
       "28  [0.0, 0.208955223880597, 0.5166852057842046, 0...  IndianPines       PCA   \n",
       "29  [0.0, 0.9782608695652174, 0.9743055555555555, ...  IndianPines       PCA   \n",
       "30  [0.0, 1.0, 0.6745827984595636, 0.6357758620689...  IndianPines       PCA   \n",
       "31  [0.0, 0.16666666666666666, 0.38677981241625725...  IndianPines       PCA   \n",
       "32  [0.0, 0.2857142857142857, 0.316542948038176, 0...  IndianPines       PCA   \n",
       "33  [0.0, 1.0, 0.9930216329378926, 0.8915662650602...  IndianPines       PCA   \n",
       "34  [0.0, 0.0, 0.0, 0.0, 0.0, 0.0, 0.0, 0.0, 0.0, ...  IndianPines       PCA   \n",
       "35  [0.0, 0.18867924528301888, 0.367955286446204, ...  IndianPines       PCA   \n",
       "36  [0.0, 0.6739130434782609, 0.7628622117090479, ...  IndianPines   FastICA   \n",
       "37  [0.0, 1.0, 0.9688581314878892, 0.8776722090261...  IndianPines   FastICA   \n",
       "38  [0.0, 1.0, 0.8454011741682974, 0.8201603665521...  IndianPines   FastICA   \n",
       "39  [0.0, 0.5625, 0.8196825396825397, 0.6895810955...  IndianPines   FastICA   \n",
       "40  [0.0, 0.9347826086956522, 0.8736010533245556, ...  IndianPines   FastICA   \n",
       "41  [0.0, 1.0, 0.9986013986013986, 0.8944844124700...  IndianPines   FastICA   \n",
       "42  [0.0, 1.0, 0.9916259595254711, 0.8915662650602...  IndianPines   FastICA   \n",
       "43  [0.0, 0.9565217391304348, 0.9799307958477509, ...  IndianPines   FastICA   \n",
       "44  [0.0, 0.9361702127659575, 0.7431859479103574, ...  IndianPines   FastICA   \n",
       "45  [0.0, 1.0, 0.9993002099370188, 0.9036144578313...  IndianPines   FastICA   \n",
       "46  [0.0, 0.0, 0.0, 0.0, 0.0, 0.0, 0.0, 0.0, 0.0, ...  IndianPines   FastICA   \n",
       "47  [0.0, 0.9782608695652174, 0.8902925531914894, ...  IndianPines   FastICA   \n",
       "\n",
       "    N Components     Model  \n",
       "0              8       mou  \n",
       "1              8    hamida  \n",
       "2              8        li  \n",
       "3              8  paoletti  \n",
       "4             15       mou  \n",
       "5             15    hamida  \n",
       "6             15        li  \n",
       "7             15  paoletti  \n",
       "8             30       mou  \n",
       "9             30    hamida  \n",
       "10            30        li  \n",
       "11            30  paoletti  \n",
       "12             8       mou  \n",
       "13             8    hamida  \n",
       "14             8        li  \n",
       "15             8  paoletti  \n",
       "16            15       mou  \n",
       "17            15    hamida  \n",
       "18            15        li  \n",
       "19            15  paoletti  \n",
       "20            30       mou  \n",
       "21            30    hamida  \n",
       "22            30        li  \n",
       "23            30  paoletti  \n",
       "24             8       mou  \n",
       "25             8    hamida  \n",
       "26             8        li  \n",
       "27             8  paoletti  \n",
       "28            15       mou  \n",
       "29            15    hamida  \n",
       "30            15        li  \n",
       "31            15  paoletti  \n",
       "32            30       mou  \n",
       "33            30    hamida  \n",
       "34            30        li  \n",
       "35            30  paoletti  \n",
       "36             8       mou  \n",
       "37             8    hamida  \n",
       "38             8        li  \n",
       "39             8  paoletti  \n",
       "40            15       mou  \n",
       "41            15    hamida  \n",
       "42            15        li  \n",
       "43            15  paoletti  \n",
       "44            30       mou  \n",
       "45            30    hamida  \n",
       "46            30        li  \n",
       "47            30  paoletti  "
      ]
     },
     "execution_count": 2,
     "metadata": {},
     "output_type": "execute_result"
    }
   ],
   "source": [
    "import pandas as pd\n",
    "import numpy as np\n",
    "import pickle\n",
    "import matplotlib.pyplot as plt\n",
    "import plotly.graph_objs as go\n",
    "import plotly.express as px\n",
    "\n",
    "dict_results = {}\n",
    "for ds in ['Salinas', 'IndianPines']:\n",
    "    for dr_method in ['PCA', 'FastICA']:\n",
    "        for n_components in [8, 15, 30]:\n",
    "            for model in ['mou', 'hamida', 'li', 'paoletti']:\n",
    "                filename = f'{ds}_{dr_method}_{n_components}_{model}_30epochs.csv'\n",
    "                print('\\n' + filename)\n",
    "\n",
    "                try:\n",
    "                    df = pd.read_csv(f'./Results/Not Balanced/{model}/{filename}', index_col=0)\n",
    "                    # df = pd.read_csv(f'../Results/Class Balancing/{model}/{filename}', index_col=0)\n",
    "\n",
    "                    print('Loaded.')\n",
    "                    try:\n",
    "                        df['Confusion matrix'] = df['Confusion matrix'].apply(lambda x: pickle.loads(eval(x)))\n",
    "                        df['F1 scores'] = df['F1 scores'].apply(lambda x: pickle.loads(eval(x)))\n",
    "                        df['IOU'] = df['IOU'].apply(lambda x: pickle.loads(eval(x)))\n",
    "                        dict_results[f'{ds}_{dr_method}_{n_components}_{model}'] = df\n",
    "                        print('Columns unpickled.')\n",
    "                    except:\n",
    "                        print(\"Problem with pickled columns\")\n",
    "                except:\n",
    "                    print(\"Couldn't find CSV file.\")\n",
    "                \n",
    "dfs = []\n",
    "for key, value in dict_results.items():\n",
    "    df = pd.DataFrame(value)\n",
    "    df.insert(0, 'Experiment', key)  # Inserting the 'Method' column as the first column\n",
    "    dfs.append(df)\n",
    "\n",
    "# Concatenate all DataFrames\n",
    "df_results = pd.concat(dfs, ignore_index=True)\n",
    "df_results['Dataset'] = df_results['Experiment'].apply(lambda x: x.split('_')[0])\n",
    "df_results['DR Method'] = df_results['Experiment'].apply(lambda x: x.split('_')[1])\n",
    "df_results['N Components'] = df_results['Experiment'].apply(lambda x: int(x.split('_')[2]))\n",
    "df_results['Model'] = df_results['Experiment'].apply(lambda x: '_'.join(x.split('_')[3:]))\n",
    "df_results"
   ]
  },
  {
   "cell_type": "code",
   "execution_count": 3,
   "metadata": {},
   "outputs": [],
   "source": [
    "import pickle \n",
    "df_to_save = df_results.copy()\n",
    "df_to_save['Confusion matrix'] = df_to_save['Confusion matrix'].apply(lambda x: pickle.dumps(x))\n",
    "df_to_save['F1 scores'] = df_to_save['F1 scores'].apply(lambda x: pickle.dumps(x))\n",
    "df_to_save['IOU'] = df_to_save['IOU'].apply(lambda x: pickle.dumps(x))\n",
    "df_to_save.to_csv('exp_results.csv')"
   ]
  },
  {
   "cell_type": "code",
   "execution_count": 4,
   "metadata": {},
   "outputs": [],
   "source": [
    "LABELS = {\n",
    "    \"Salinas\": [\n",
    "        \"Undefined\",\n",
    "        \"Brocoli_green_weeds_1\",\n",
    "        \"Brocoli_green_weeds_2\",\n",
    "        \"Fallow\",\n",
    "        \"Fallow_rough_plow\",\n",
    "        \"Fallow_smooth\",\n",
    "        \"Stubble\",\n",
    "        \"Celery\",\n",
    "        \"Grapes_untrained\",\n",
    "        \"Soil_vinyard_develop\",\n",
    "        \"Corn_senesced_green_weeds\",\n",
    "        \"Lettuce_romaine_4wk\",\n",
    "        \"Lettuce_romaine_5wk\",\n",
    "        \"Lettuce_romaine_6wk\",\n",
    "        \"Lettuce_romaine_7wk\",\n",
    "        \"Vinyard_untrained\",\n",
    "        \"Vinyard_vertical_trellis\",\n",
    "    ],\n",
    "\n",
    "    'IndianPines': [\n",
    "        \"Undefined\",\n",
    "        \"Alfalfa\",\n",
    "        \"Corn-notill\",\n",
    "        \"Corn-mintill\",\n",
    "        \"Corn\",\n",
    "        \"Grass-pasture\",\n",
    "        \"Grass-trees\",\n",
    "        \"Grass-pasture-mowed\",\n",
    "        \"Hay-windrowed\",\n",
    "        \"Oats\",\n",
    "        \"Soybean-notill\",\n",
    "        \"Soybean-mintill\",\n",
    "        \"Soybean-clean\",\n",
    "        \"Wheat\",\n",
    "        \"Woods\",\n",
    "        \"Buildings-Grass-Trees-Drives\",\n",
    "        \"Stone-Steel-Towers\",\n",
    "    ]}"
   ]
  },
  {
   "cell_type": "code",
   "execution_count": 100,
   "metadata": {},
   "outputs": [],
   "source": [
    "from plotly.subplots import make_subplots\n",
    "\n",
    "def filter_exp_by_substring(df, substrings):\n",
    "    # Check if any substrings are present in the 'Method' column\n",
    "    mask = df['Experiment'].apply(lambda x: any(substring in x for substring in substrings))\n",
    "    filtered_df = df[mask]\n",
    "    return filtered_df\n",
    "\n",
    "# def show_confusion_matrix(confusion_matrix, labels, normalize=False):\n",
    "#     if normalize:\n",
    "#         confusion_matrix = normalize_confusion_matrix(confusion_matrix)\n",
    "\n",
    "#     fig = px.imshow(confusion_matrix, text_auto=True, \n",
    "#                     labels=dict(x='Predicted labels', y='Actual labels', color='# of classification'),\n",
    "#                     x = labels,\n",
    "#                     y = labels,\n",
    "#                     height=700\n",
    "#                     )\n",
    "#     fig.update_xaxes(tickangle=45, type='category')\n",
    "#     fig.show()\n",
    "\n",
    "def show_confusion_matrix(confusion_matrix, labels, normalize=False):\n",
    "    if normalize:\n",
    "        confusion_matrix = normalize_confusion_matrix(confusion_matrix)\n",
    "\n",
    "    fig = go.Figure()\n",
    "\n",
    "    fig.add_trace(\n",
    "        go.Heatmap(z=confusion_matrix,  # Reverse the order of rows\n",
    "                   colorscale='Blues', \n",
    "                   showscale=False,\n",
    "                   x=labels, \n",
    "                   y=labels,  # Reverse the order of labels for y-axis\n",
    "                   zmin=0, \n",
    "                   zmax=1 if normalize else None,\n",
    "                   colorbar=dict(title='Normalized' if normalize else 'Counts'))\n",
    "    )\n",
    "\n",
    "    fig.update_xaxes(title='Predicted labels', tickangle=45, type='category')\n",
    "    fig.update_yaxes(title='Actual labels', type='category')\n",
    "\n",
    "    fig.update_layout(\n",
    "        title='Confusion Matrix',\n",
    "        height=800,\n",
    "        width=800,\n",
    "        showlegend=False\n",
    "    )\n",
    "\n",
    "    fig.show()\n",
    "\n",
    "import plotly.graph_objects as go\n",
    "from plotly.subplots import make_subplots\n",
    "\n",
    "def show_confusion_matrices(df_results, exps, labels, normalize=False):\n",
    "    confusion_matrices = []\n",
    "    for exp in exps:\n",
    "        confusion_matrices.append(df_results[df_results['Experiment'] == exp]['Confusion matrix'].values[0])\n",
    "\n",
    "    fig = make_subplots(rows=2, cols=2, subplot_titles=exps)\n",
    "\n",
    "    for i, (confusion_matrix, label) in enumerate(zip(confusion_matrices, labels)):\n",
    "        if normalize:\n",
    "            confusion_matrix = normalize_confusion_matrix(confusion_matrix)\n",
    "\n",
    "        row = i // 2 + 1\n",
    "        col = i % 2 + 1\n",
    "\n",
    "        fig.add_trace(\n",
    "            go.Heatmap(z=confusion_matrix, colorscale='Blues', showscale=False,\n",
    "                       x=labels, y=labels, zmin=0, zmax=1 if normalize else None,\n",
    "                       colorbar=dict(title='Normalized' if normalize else 'Counts')),\n",
    "            row=row, col=col\n",
    "        )\n",
    "\n",
    "        # fig.update_xaxes(tickangle=45, type='category', row=row, col=col)\n",
    "        # if col == 2:  # Only update y-axis for the second subplot\n",
    "        #     fig.update_yaxes(showticklabels=False, row=row, col=col)\n",
    "\n",
    "        if row == 2:\n",
    "            fig.update_xaxes(title='Predicted labels', tickangle=45, type='category', row=row, col=col)\n",
    "        else:\n",
    "            fig.update_xaxes(showticklabels=False, row=row, col=col)\n",
    "        \n",
    "        if col == 1:\n",
    "            fig.update_yaxes(title='Actual labels', type='category', row=row, col=col)\n",
    "        else:\n",
    "            fig.update_yaxes(showticklabels=False, row=row, col=col)\n",
    "    \n",
    "    fig.update_layout(\n",
    "        title='Confusion Matrices',\n",
    "        height=1000,\n",
    "        width=1000,\n",
    "        showlegend=False\n",
    "    )\n",
    "\n",
    "    fig.show()\n",
    "\n",
    "\n",
    "def normalize_confusion_matrix(conf_matrix):\n",
    "    # Sum of true positives for each class (diagonal elements)\n",
    "    # print(conf_matrix)\n",
    "    class_totals = np.sum(conf_matrix, axis=1)\n",
    "    \n",
    "    # Normalize confusion matrix\n",
    "    normalized_conf_matrix = conf_matrix / class_totals[:, np.newaxis]\n",
    "    \n",
    "    return np.round(normalized_conf_matrix, 2)\n",
    "\n",
    "\n",
    "\n",
    "\n",
    "import plotly.graph_objs as go\n",
    "import plotly.express as px\n",
    "\n",
    "def plot_acc_by_model(df):\n",
    "    # Parse 'Experiment' column to extract model information\n",
    "    df['Model'] = df['Experiment'].apply(lambda x: x.split('_')[-1])\n",
    "\n",
    "    # Get unique model names\n",
    "    unique_models = df['Model'].unique()\n",
    "\n",
    "    # Define a color palette with enough colors for all models\n",
    "    colors = px.colors.qualitative.Plotly[:len(unique_models)]\n",
    "\n",
    "    # Create an empty list to store traces\n",
    "    data = []\n",
    "\n",
    "    # Iterate over unique models\n",
    "    for model, color in zip(unique_models, colors):\n",
    "        # Filter DataFrame for the current model\n",
    "        model_data = df[df['Model'] == model]\n",
    "        # model_data = df.loc[df['Model'] == model]\n",
    "\n",
    "        \n",
    "        # Add a trace for the current model\n",
    "        trace = go.Bar(\n",
    "            x=model_data['Experiment'],  # Method names on x-axis\n",
    "            y=model_data['Accuracy'],  # Accuracies on y-axis\n",
    "            name=model,  # Legend name\n",
    "            marker=dict(color=color)  # Assign color\n",
    "        )\n",
    "        \n",
    "        # Append trace to the list\n",
    "        data.append(trace)\n",
    "\n",
    "    # Create a bar graph\n",
    "    fig = go.Figure(data=data)\n",
    "\n",
    "    # Update layout\n",
    "    fig.update_layout(\n",
    "        title='Accuracies of Different Models',\n",
    "        xaxis=dict(title='Experiment'),\n",
    "        yaxis=dict(title='Accuracy (%)', range=[0, 100]),  # Set y-axis range\n",
    "        barmode='group',  # Grouped bars\n",
    "        # template='plotly_white'  # White background template\n",
    "    )\n",
    "\n",
    "    # Show legend\n",
    "    fig.update_layout(showlegend=True)\n",
    "\n",
    "    # Show the plot\n",
    "    fig.show()\n",
    "\n",
    "\n",
    "def plot_grouped_values(df_results, labels, metric):\n",
    "    # Create a list to store traces\n",
    "    traces = []\n",
    "\n",
    "    # Iterate over each experiment\n",
    "    for i, experiment in enumerate(df_results['Experiment']):\n",
    "        # Extract IOU values for the current experiment\n",
    "        experiment_iou = df_results[metric].values[i]\n",
    "        \n",
    "            # Create a bar trace for the current experiment\n",
    "        trace = go.Bar(\n",
    "            x=labels,  # Class labels on x-axis\n",
    "            y=experiment_iou,  # IOU values for the current experiment on y-axis\n",
    "            name=experiment  # Legend name\n",
    "        )\n",
    "        \n",
    "        # Append the trace to the list of traces\n",
    "        traces.append(trace)\n",
    "\n",
    "    # Create a layout\n",
    "    layout = go.Layout(\n",
    "        title=f'{metric} Values by Experiment',\n",
    "        xaxis=dict(title='Class'),\n",
    "        yaxis=dict(title=metric),\n",
    "        barmode='group'  # Grouped bars\n",
    "    )\n",
    "\n",
    "    # Create the figure\n",
    "    fig = go.Figure(data=traces, layout=layout)\n",
    "\n",
    "    # Show the plot\n",
    "    fig.show()\n",
    "\n",
    "\n",
    "def accuracies_by_n_comps(df, dataset, dr_method):\n",
    "    accuracy_df = filter_exp_by_substring(df, [f'{dataset}_{dr_method}_'])[['N Components', 'Model', 'Accuracy']]\n",
    "\n",
    "    # Pivot the DataFrame to have number of components as columns\n",
    "    accuracy_df = accuracy_df.pivot(index='Model', columns='N Components', values='Accuracy')\n",
    "    accuracy_df.__doc__ = f\"Accuracy values in {dataset} using {dr_method}\"\n",
    "    return accuracy_df\n",
    "\n",
    "from scipy.stats import f_oneway\n",
    "from scipy.stats import ttest_ind, ttest_rel\n",
    "\n",
    "def ANOVA_TTest(df_accuracies, transposed=False, describe=False, ind_samples=False):\n",
    "    if transposed:\n",
    "        df_accuracies = df_accuracies.transpose()\n",
    "    \n",
    "    print(df_accuracies)\n",
    "    if describe:\n",
    "        print(df_accuracies.describe().loc[['mean', 'std', 'max']])    \n",
    "\n",
    "    # Perform ANOVA\n",
    "    f_statistic, p_value = f_oneway(*df_accuracies.values)\n",
    "    print(f'ANOVA test -> F-statistic: {f_statistic}, p-value: {p_value}')\n",
    "\n",
    "    if p_value < 0.05:\n",
    "        print(\"The ANOVA test INDICATES that there is a significant difference in accuracies.\")\n",
    "    # else:\n",
    "    #     print(\"The ANOVA test DOES NOT INDICATE a significant difference in accuracies.\")\n",
    "\n",
    "    print('\\nPaired T Tests')\n",
    "\n",
    "    # Perform paired t-tests\n",
    "    found = False\n",
    "    differences = []\n",
    "    for i in range(len(df_accuracies)):\n",
    "        for j in range(i+1, len(df_accuracies)):\n",
    "            data1 = df_accuracies.iloc[i]\n",
    "            data2 = df_accuracies.iloc[j]\n",
    "            if ind_samples:\n",
    "                t_statistic, p_value = ttest_rel(data1, data2)\n",
    "            else:\n",
    "                t_statistic, p_value = ttest_rel(data1, data2)\n",
    "            print(f\"\\n{df_accuracies.index[i]} vs {df_accuracies.index[j]}: t-statistic = {t_statistic}, p-value = {p_value}\")\n",
    "            if p_value < 0.05:\n",
    "                found = True\n",
    "                if data1.mean() > data2.mean():\n",
    "                    difference = f\"THERE IS A SIGNIFICANT DIFFERENCE in accuracies in favor of {df_accuracies.index[i]} over {df_accuracies.index[j]}.\"\n",
    "                    # print(difference)\n",
    "                    differences.append(f'{df_accuracies.index[i]} > {df_accuracies.index[j]}')\n",
    "                else:\n",
    "                    difference = f\"THERE IS A SIGNIFICANT DIFFERENCE in accuracies in favor of {df_accuracies.index[j]} over {df_accuracies.index[i]}.\"\n",
    "                    # print(difference)\n",
    "                    differences.append(f'{df_accuracies.index[j]} > {df_accuracies.index[i]}')\n",
    "\n",
    "            # else:\n",
    "                # print(f\"There is NO SIGNIFICANT DIFFERENCE in accuracies between {df_accuracies.index[i]} and {df_accuracies.index[j]}.\")\n",
    "    if differences == []:\n",
    "        print(\"\\nNo significant difference found with T Tests\")\n",
    "    return differences\n",
    "\n",
    "def paired_t_test(df_accuracies):\n",
    " # Perform paired t-tests\n",
    "    found = False\n",
    "    differences = []\n",
    "\n",
    "    data1 = df_accuracies.iloc[0]\n",
    "    data2 = df_accuracies.iloc[1]\n",
    "    t_statistic, p_value = ttest_rel(data1, data2)\n",
    "    # print(f\"\\n{df_accuracies.index[0]} vs {df_accuracies.index[1]}: t-statistic = {t_statistic}, p-value = {p_value}\")\n",
    "    if p_value < 0.05:\n",
    "        found = True\n",
    "        if data1.mean() > data2.mean():\n",
    "            return scores_df.iloc[0].name\n",
    "        else:\n",
    "            return scores_df.iloc[1].name\n",
    "    return '='\n",
    "\n",
    "\n",
    "def scores_by_model(df, dataset, dr_method, n_comps, scores):\n",
    "    if scores == 'F1':\n",
    "        scores_df = filter_exp_by_substring(df, [f'{dataset}_{dr_method}_'])[['N Components', 'Model', 'F1 scores']]\n",
    "        scores_df = scores_df.pivot(index='Model', columns='N Components', values='F1 scores')\n",
    "    elif scores == 'IOU':\n",
    "        scores_df = filter_exp_by_substring(df, [f'{dataset}_{dr_method}_'])[['N Components', 'Model', 'IOU']]\n",
    "        scores_df = scores_df.pivot(index='Model', columns='N Components', values='IOU')\n",
    "\n",
    "    scores_df.__doc__ = f\"{scores} scores values in {dataset} using {dr_method}\"\n",
    "\n",
    "    # Flatten the lists into columns\n",
    "    df_flat = pd.concat([scores_df[n_comps], scores_df[n_comps].apply(pd.Series)], axis=1)\n",
    "\n",
    "    # Drop the original column\n",
    "    df_flat.drop(columns=[n_comps], inplace=True)\n",
    "\n",
    "    # Rename the columns\n",
    "    df_flat.columns = [f'Class {i+1}' for i in range(len(df_flat.columns))]\n",
    "    \n",
    "    return df_flat\n"
   ]
  },
  {
   "cell_type": "code",
   "execution_count": 99,
   "metadata": {},
   "outputs": [
    {
     "data": {
      "text/plain": [
       "'hamida'"
      ]
     },
     "execution_count": 99,
     "metadata": {},
     "output_type": "execute_result"
    }
   ],
   "source": [
    "scores_df.iloc[0].name"
   ]
  },
  {
   "cell_type": "markdown",
   "metadata": {},
   "source": [
    "## CONFUSION MATRICES"
   ]
  },
  {
   "cell_type": "code",
   "execution_count": 6,
   "metadata": {},
   "outputs": [
    {
     "name": "stderr",
     "output_type": "stream",
     "text": [
      "C:\\Users\\Dell\\AppData\\Local\\Temp\\ipykernel_21896\\742158990.py:105: RuntimeWarning:\n",
      "\n",
      "invalid value encountered in divide\n",
      "\n"
     ]
    },
    {
     "data": {
      "application/vnd.plotly.v1+json": {
       "config": {
        "plotlyServerURL": "https://plot.ly"
       },
       "data": [
        {
         "colorbar": {
          "title": {
           "text": "Normalized"
          }
         },
         "colorscale": [
          [
           0,
           "rgb(247,251,255)"
          ],
          [
           0.125,
           "rgb(222,235,247)"
          ],
          [
           0.25,
           "rgb(198,219,239)"
          ],
          [
           0.375,
           "rgb(158,202,225)"
          ],
          [
           0.5,
           "rgb(107,174,214)"
          ],
          [
           0.625,
           "rgb(66,146,198)"
          ],
          [
           0.75,
           "rgb(33,113,181)"
          ],
          [
           0.875,
           "rgb(8,81,156)"
          ],
          [
           1,
           "rgb(8,48,107)"
          ]
         ],
         "showscale": false,
         "type": "heatmap",
         "x": [
          "Undefined",
          "Brocoli_green_weeds_1",
          "Brocoli_green_weeds_2",
          "Fallow",
          "Fallow_rough_plow",
          "Fallow_smooth",
          "Stubble",
          "Celery",
          "Grapes_untrained",
          "Soil_vinyard_develop",
          "Corn_senesced_green_weeds",
          "Lettuce_romaine_4wk",
          "Lettuce_romaine_5wk",
          "Lettuce_romaine_6wk",
          "Lettuce_romaine_7wk",
          "Vinyard_untrained",
          "Vinyard_vertical_trellis"
         ],
         "xaxis": "x",
         "y": [
          "Undefined",
          "Brocoli_green_weeds_1",
          "Brocoli_green_weeds_2",
          "Fallow",
          "Fallow_rough_plow",
          "Fallow_smooth",
          "Stubble",
          "Celery",
          "Grapes_untrained",
          "Soil_vinyard_develop",
          "Corn_senesced_green_weeds",
          "Lettuce_romaine_4wk",
          "Lettuce_romaine_5wk",
          "Lettuce_romaine_6wk",
          "Lettuce_romaine_7wk",
          "Vinyard_untrained",
          "Vinyard_vertical_trellis"
         ],
         "yaxis": "y",
         "z": [
          [
           null,
           null,
           null,
           null,
           null,
           null,
           null,
           null,
           null,
           null,
           null,
           null,
           null,
           null,
           null,
           null,
           null
          ],
          [
           0.05,
           0.95,
           0,
           0,
           0,
           0,
           0,
           0,
           0,
           0,
           0,
           0,
           0,
           0,
           0,
           0,
           0
          ],
          [
           0,
           0,
           1,
           0,
           0,
           0,
           0,
           0,
           0,
           0,
           0,
           0,
           0,
           0,
           0,
           0,
           0
          ],
          [
           0,
           0,
           0,
           0.97,
           0,
           0,
           0,
           0,
           0,
           0,
           0.02,
           0,
           0,
           0,
           0,
           0,
           0
          ],
          [
           0.01,
           0,
           0,
           0,
           0.99,
           0,
           0,
           0,
           0,
           0,
           0,
           0,
           0,
           0,
           0,
           0,
           0
          ],
          [
           0,
           0,
           0,
           0,
           0,
           1,
           0,
           0,
           0,
           0,
           0,
           0,
           0,
           0,
           0,
           0,
           0
          ],
          [
           0.02,
           0,
           0,
           0,
           0,
           0,
           0.98,
           0,
           0,
           0,
           0,
           0,
           0,
           0,
           0,
           0,
           0
          ],
          [
           0.01,
           0,
           0,
           0,
           0,
           0,
           0,
           0.99,
           0,
           0,
           0,
           0,
           0,
           0,
           0,
           0,
           0
          ],
          [
           0.01,
           0,
           0,
           0,
           0,
           0,
           0,
           0,
           0.92,
           0,
           0,
           0,
           0,
           0,
           0,
           0.07,
           0
          ],
          [
           0,
           0,
           0,
           0,
           0,
           0,
           0,
           0,
           0,
           0.98,
           0,
           0.01,
           0,
           0,
           0,
           0,
           0
          ],
          [
           0.03,
           0,
           0,
           0,
           0,
           0,
           0,
           0,
           0,
           0,
           0.95,
           0.01,
           0,
           0,
           0,
           0,
           0
          ],
          [
           0.03,
           0,
           0,
           0,
           0,
           0,
           0,
           0,
           0,
           0,
           0,
           0.96,
           0,
           0,
           0,
           0,
           0
          ],
          [
           0.03,
           0,
           0,
           0,
           0,
           0,
           0,
           0,
           0,
           0,
           0,
           0,
           0.97,
           0,
           0,
           0,
           0
          ],
          [
           0.02,
           0,
           0,
           0,
           0,
           0,
           0,
           0,
           0,
           0,
           0,
           0,
           0,
           0.98,
           0,
           0,
           0
          ],
          [
           0.03,
           0,
           0,
           0,
           0,
           0,
           0,
           0,
           0,
           0,
           0,
           0,
           0,
           0,
           0.97,
           0,
           0
          ],
          [
           0.04,
           0,
           0,
           0,
           0,
           0,
           0,
           0,
           0.23,
           0,
           0,
           0,
           0,
           0,
           0,
           0.72,
           0
          ],
          [
           0.14,
           0,
           0,
           0,
           0,
           0,
           0,
           0,
           0,
           0,
           0,
           0,
           0,
           0,
           0,
           0,
           0.86
          ]
         ],
         "zmax": 1,
         "zmin": 0
        },
        {
         "colorbar": {
          "title": {
           "text": "Normalized"
          }
         },
         "colorscale": [
          [
           0,
           "rgb(247,251,255)"
          ],
          [
           0.125,
           "rgb(222,235,247)"
          ],
          [
           0.25,
           "rgb(198,219,239)"
          ],
          [
           0.375,
           "rgb(158,202,225)"
          ],
          [
           0.5,
           "rgb(107,174,214)"
          ],
          [
           0.625,
           "rgb(66,146,198)"
          ],
          [
           0.75,
           "rgb(33,113,181)"
          ],
          [
           0.875,
           "rgb(8,81,156)"
          ],
          [
           1,
           "rgb(8,48,107)"
          ]
         ],
         "showscale": false,
         "type": "heatmap",
         "x": [
          "Undefined",
          "Brocoli_green_weeds_1",
          "Brocoli_green_weeds_2",
          "Fallow",
          "Fallow_rough_plow",
          "Fallow_smooth",
          "Stubble",
          "Celery",
          "Grapes_untrained",
          "Soil_vinyard_develop",
          "Corn_senesced_green_weeds",
          "Lettuce_romaine_4wk",
          "Lettuce_romaine_5wk",
          "Lettuce_romaine_6wk",
          "Lettuce_romaine_7wk",
          "Vinyard_untrained",
          "Vinyard_vertical_trellis"
         ],
         "xaxis": "x2",
         "y": [
          "Undefined",
          "Brocoli_green_weeds_1",
          "Brocoli_green_weeds_2",
          "Fallow",
          "Fallow_rough_plow",
          "Fallow_smooth",
          "Stubble",
          "Celery",
          "Grapes_untrained",
          "Soil_vinyard_develop",
          "Corn_senesced_green_weeds",
          "Lettuce_romaine_4wk",
          "Lettuce_romaine_5wk",
          "Lettuce_romaine_6wk",
          "Lettuce_romaine_7wk",
          "Vinyard_untrained",
          "Vinyard_vertical_trellis"
         ],
         "yaxis": "y2",
         "z": [
          [
           null,
           null,
           null,
           null,
           null,
           null,
           null,
           null,
           null,
           null,
           null,
           null,
           null,
           null,
           null,
           null,
           null
          ],
          [
           0.05,
           0.95,
           0.01,
           0,
           0,
           0,
           0,
           0,
           0,
           0,
           0,
           0,
           0,
           0,
           0,
           0,
           0
          ],
          [
           0,
           0,
           1,
           0,
           0,
           0,
           0,
           0,
           0,
           0,
           0,
           0,
           0,
           0,
           0,
           0,
           0
          ],
          [
           0,
           0,
           0,
           0.98,
           0,
           0.01,
           0,
           0,
           0,
           0,
           0.01,
           0,
           0,
           0,
           0,
           0,
           0
          ],
          [
           0.01,
           0,
           0,
           0,
           0.99,
           0.01,
           0,
           0,
           0,
           0,
           0,
           0,
           0,
           0,
           0,
           0,
           0
          ],
          [
           0,
           0,
           0,
           0,
           0,
           1,
           0,
           0,
           0,
           0,
           0,
           0,
           0,
           0,
           0,
           0,
           0
          ],
          [
           0.02,
           0,
           0,
           0,
           0,
           0,
           0.98,
           0,
           0,
           0,
           0,
           0,
           0,
           0,
           0,
           0,
           0
          ],
          [
           0.01,
           0,
           0,
           0,
           0,
           0,
           0,
           0.99,
           0,
           0,
           0,
           0,
           0,
           0,
           0,
           0,
           0
          ],
          [
           0.01,
           0,
           0,
           0,
           0,
           0,
           0,
           0,
           0.9,
           0,
           0.01,
           0,
           0,
           0,
           0,
           0.08,
           0
          ],
          [
           0,
           0,
           0,
           0,
           0,
           0,
           0,
           0,
           0,
           1,
           0,
           0,
           0,
           0,
           0,
           0,
           0
          ],
          [
           0.03,
           0,
           0,
           0.01,
           0,
           0,
           0,
           0,
           0,
           0.01,
           0.95,
           0.01,
           0,
           0,
           0,
           0,
           0
          ],
          [
           0.03,
           0,
           0,
           0,
           0,
           0,
           0,
           0,
           0,
           0.05,
           0.01,
           0.9,
           0.01,
           0,
           0,
           0,
           0
          ],
          [
           0.03,
           0,
           0,
           0,
           0,
           0,
           0,
           0,
           0,
           0,
           0,
           0,
           0.97,
           0,
           0,
           0,
           0
          ],
          [
           0.02,
           0,
           0,
           0,
           0,
           0,
           0,
           0,
           0,
           0,
           0,
           0,
           0,
           0.98,
           0,
           0,
           0
          ],
          [
           0.03,
           0,
           0,
           0,
           0,
           0,
           0,
           0,
           0,
           0,
           0,
           0,
           0,
           0,
           0.97,
           0,
           0
          ],
          [
           0.04,
           0,
           0,
           0,
           0,
           0,
           0,
           0,
           0.18,
           0,
           0,
           0,
           0,
           0,
           0,
           0.78,
           0
          ],
          [
           0.14,
           0,
           0,
           0,
           0,
           0,
           0,
           0,
           0,
           0,
           0,
           0,
           0,
           0,
           0,
           0,
           0.86
          ]
         ],
         "zmax": 1,
         "zmin": 0
        },
        {
         "colorbar": {
          "title": {
           "text": "Normalized"
          }
         },
         "colorscale": [
          [
           0,
           "rgb(247,251,255)"
          ],
          [
           0.125,
           "rgb(222,235,247)"
          ],
          [
           0.25,
           "rgb(198,219,239)"
          ],
          [
           0.375,
           "rgb(158,202,225)"
          ],
          [
           0.5,
           "rgb(107,174,214)"
          ],
          [
           0.625,
           "rgb(66,146,198)"
          ],
          [
           0.75,
           "rgb(33,113,181)"
          ],
          [
           0.875,
           "rgb(8,81,156)"
          ],
          [
           1,
           "rgb(8,48,107)"
          ]
         ],
         "showscale": false,
         "type": "heatmap",
         "x": [
          "Undefined",
          "Brocoli_green_weeds_1",
          "Brocoli_green_weeds_2",
          "Fallow",
          "Fallow_rough_plow",
          "Fallow_smooth",
          "Stubble",
          "Celery",
          "Grapes_untrained",
          "Soil_vinyard_develop",
          "Corn_senesced_green_weeds",
          "Lettuce_romaine_4wk",
          "Lettuce_romaine_5wk",
          "Lettuce_romaine_6wk",
          "Lettuce_romaine_7wk",
          "Vinyard_untrained",
          "Vinyard_vertical_trellis"
         ],
         "xaxis": "x3",
         "y": [
          "Undefined",
          "Brocoli_green_weeds_1",
          "Brocoli_green_weeds_2",
          "Fallow",
          "Fallow_rough_plow",
          "Fallow_smooth",
          "Stubble",
          "Celery",
          "Grapes_untrained",
          "Soil_vinyard_develop",
          "Corn_senesced_green_weeds",
          "Lettuce_romaine_4wk",
          "Lettuce_romaine_5wk",
          "Lettuce_romaine_6wk",
          "Lettuce_romaine_7wk",
          "Vinyard_untrained",
          "Vinyard_vertical_trellis"
         ],
         "yaxis": "y3",
         "z": [
          [
           null,
           null,
           null,
           null,
           null,
           null,
           null,
           null,
           null,
           null,
           null,
           null,
           null,
           null,
           null,
           null,
           null
          ],
          [
           0.05,
           0.94,
           0.01,
           0,
           0,
           0,
           0,
           0,
           0,
           0,
           0,
           0,
           0,
           0,
           0,
           0,
           0
          ],
          [
           0,
           0,
           1,
           0,
           0,
           0,
           0,
           0,
           0,
           0,
           0,
           0,
           0,
           0,
           0,
           0,
           0
          ],
          [
           0,
           0,
           0,
           0.96,
           0,
           0.04,
           0,
           0,
           0,
           0,
           0,
           0,
           0,
           0,
           0,
           0,
           0
          ],
          [
           0.01,
           0,
           0,
           0,
           0.98,
           0.01,
           0,
           0,
           0,
           0,
           0,
           0,
           0,
           0,
           0,
           0,
           0
          ],
          [
           0,
           0,
           0,
           0.08,
           0.01,
           0.85,
           0,
           0,
           0,
           0,
           0.04,
           0,
           0.02,
           0,
           0,
           0,
           0
          ],
          [
           0.02,
           0,
           0,
           0,
           0,
           0,
           0.98,
           0,
           0,
           0,
           0,
           0,
           0,
           0,
           0,
           0,
           0
          ],
          [
           0.01,
           0,
           0,
           0,
           0,
           0,
           0,
           0.98,
           0,
           0,
           0,
           0,
           0,
           0,
           0,
           0,
           0
          ],
          [
           0.01,
           0,
           0,
           0,
           0,
           0,
           0,
           0,
           0.81,
           0,
           0.01,
           0,
           0,
           0.01,
           0,
           0.15,
           0
          ],
          [
           0,
           0,
           0,
           0,
           0,
           0,
           0,
           0,
           0,
           0.96,
           0.01,
           0.03,
           0,
           0,
           0,
           0,
           0
          ],
          [
           0.03,
           0,
           0,
           0.02,
           0,
           0,
           0,
           0,
           0,
           0,
           0.9,
           0.01,
           0.02,
           0.01,
           0,
           0,
           0
          ],
          [
           0.03,
           0,
           0,
           0.02,
           0,
           0.01,
           0,
           0,
           0,
           0,
           0.05,
           0.83,
           0.06,
           0,
           0,
           0,
           0
          ],
          [
           0.03,
           0,
           0,
           0,
           0,
           0,
           0,
           0,
           0,
           0,
           0,
           0.01,
           0.96,
           0,
           0,
           0,
           0
          ],
          [
           0.02,
           0,
           0,
           0,
           0,
           0,
           0,
           0,
           0,
           0,
           0,
           0,
           0,
           0.97,
           0.01,
           0,
           0
          ],
          [
           0.03,
           0,
           0,
           0,
           0,
           0,
           0,
           0,
           0,
           0,
           0,
           0,
           0,
           0,
           0.97,
           0,
           0
          ],
          [
           0.04,
           0,
           0,
           0,
           0,
           0,
           0,
           0,
           0.19,
           0,
           0,
           0,
           0,
           0,
           0,
           0.76,
           0
          ],
          [
           0.14,
           0,
           0,
           0,
           0,
           0,
           0,
           0.05,
           0.2,
           0,
           0,
           0,
           0,
           0,
           0,
           0.01,
           0.6
          ]
         ],
         "zmax": 1,
         "zmin": 0
        },
        {
         "colorbar": {
          "title": {
           "text": "Normalized"
          }
         },
         "colorscale": [
          [
           0,
           "rgb(247,251,255)"
          ],
          [
           0.125,
           "rgb(222,235,247)"
          ],
          [
           0.25,
           "rgb(198,219,239)"
          ],
          [
           0.375,
           "rgb(158,202,225)"
          ],
          [
           0.5,
           "rgb(107,174,214)"
          ],
          [
           0.625,
           "rgb(66,146,198)"
          ],
          [
           0.75,
           "rgb(33,113,181)"
          ],
          [
           0.875,
           "rgb(8,81,156)"
          ],
          [
           1,
           "rgb(8,48,107)"
          ]
         ],
         "showscale": false,
         "type": "heatmap",
         "x": [
          "Undefined",
          "Brocoli_green_weeds_1",
          "Brocoli_green_weeds_2",
          "Fallow",
          "Fallow_rough_plow",
          "Fallow_smooth",
          "Stubble",
          "Celery",
          "Grapes_untrained",
          "Soil_vinyard_develop",
          "Corn_senesced_green_weeds",
          "Lettuce_romaine_4wk",
          "Lettuce_romaine_5wk",
          "Lettuce_romaine_6wk",
          "Lettuce_romaine_7wk",
          "Vinyard_untrained",
          "Vinyard_vertical_trellis"
         ],
         "xaxis": "x4",
         "y": [
          "Undefined",
          "Brocoli_green_weeds_1",
          "Brocoli_green_weeds_2",
          "Fallow",
          "Fallow_rough_plow",
          "Fallow_smooth",
          "Stubble",
          "Celery",
          "Grapes_untrained",
          "Soil_vinyard_develop",
          "Corn_senesced_green_weeds",
          "Lettuce_romaine_4wk",
          "Lettuce_romaine_5wk",
          "Lettuce_romaine_6wk",
          "Lettuce_romaine_7wk",
          "Vinyard_untrained",
          "Vinyard_vertical_trellis"
         ],
         "yaxis": "y4",
         "z": [
          [
           null,
           null,
           null,
           null,
           null,
           null,
           null,
           null,
           null,
           null,
           null,
           null,
           null,
           null,
           null,
           null,
           null
          ],
          [
           0.05,
           0.92,
           0.03,
           0,
           0,
           0,
           0,
           0,
           0,
           0,
           0,
           0,
           0,
           0,
           0,
           0,
           0
          ],
          [
           0,
           0.02,
           0.98,
           0,
           0,
           0,
           0,
           0.01,
           0,
           0,
           0,
           0,
           0,
           0,
           0,
           0,
           0
          ],
          [
           0,
           0,
           0,
           0.95,
           0,
           0.04,
           0,
           0,
           0,
           0.01,
           0,
           0,
           0,
           0,
           0,
           0,
           0
          ],
          [
           0.01,
           0,
           0,
           0,
           0.97,
           0.03,
           0,
           0,
           0,
           0,
           0,
           0,
           0,
           0,
           0,
           0,
           0
          ],
          [
           0,
           0,
           0,
           0.05,
           0,
           0.94,
           0,
           0,
           0,
           0,
           0,
           0,
           0,
           0,
           0,
           0,
           0
          ],
          [
           0.02,
           0,
           0,
           0,
           0,
           0,
           0.98,
           0,
           0,
           0,
           0,
           0,
           0,
           0,
           0,
           0,
           0
          ],
          [
           0.01,
           0,
           0,
           0,
           0,
           0,
           0,
           0.98,
           0,
           0,
           0,
           0,
           0,
           0,
           0,
           0,
           0.01
          ],
          [
           0.01,
           0,
           0,
           0,
           0,
           0,
           0,
           0,
           0.83,
           0,
           0.01,
           0,
           0,
           0,
           0,
           0.14,
           0
          ],
          [
           0,
           0,
           0,
           0,
           0,
           0,
           0,
           0,
           0,
           0.97,
           0.01,
           0.02,
           0,
           0,
           0,
           0,
           0
          ],
          [
           0.03,
           0,
           0,
           0.02,
           0,
           0,
           0,
           0,
           0.05,
           0,
           0.88,
           0.02,
           0,
           0,
           0,
           0,
           0
          ],
          [
           0.03,
           0,
           0,
           0,
           0,
           0,
           0,
           0,
           0,
           0,
           0.03,
           0.92,
           0.01,
           0,
           0,
           0,
           0
          ],
          [
           0.03,
           0,
           0,
           0,
           0,
           0,
           0,
           0,
           0,
           0,
           0.03,
           0,
           0.94,
           0,
           0,
           0,
           0
          ],
          [
           0.02,
           0,
           0,
           0,
           0,
           0,
           0,
           0,
           0,
           0,
           0.02,
           0,
           0,
           0.96,
           0,
           0,
           0
          ],
          [
           0.03,
           0,
           0,
           0,
           0,
           0,
           0,
           0,
           0,
           0,
           0,
           0,
           0,
           0,
           0.96,
           0,
           0
          ],
          [
           0.04,
           0,
           0,
           0,
           0,
           0,
           0,
           0,
           0.19,
           0,
           0,
           0,
           0,
           0,
           0,
           0.76,
           0
          ],
          [
           0.14,
           0,
           0,
           0,
           0,
           0,
           0,
           0.06,
           0.18,
           0,
           0,
           0,
           0,
           0,
           0,
           0,
           0.62
          ]
         ],
         "zmax": 1,
         "zmin": 0
        }
       ],
       "layout": {
        "annotations": [
         {
          "font": {
           "size": 16
          },
          "showarrow": false,
          "text": "Salinas_PCA_8_li",
          "x": 0.225,
          "xanchor": "center",
          "xref": "paper",
          "y": 1,
          "yanchor": "bottom",
          "yref": "paper"
         },
         {
          "font": {
           "size": 16
          },
          "showarrow": false,
          "text": "Salinas_PCA_8_hamida",
          "x": 0.775,
          "xanchor": "center",
          "xref": "paper",
          "y": 1,
          "yanchor": "bottom",
          "yref": "paper"
         },
         {
          "font": {
           "size": 16
          },
          "showarrow": false,
          "text": "Salinas_PCA_8_mou",
          "x": 0.225,
          "xanchor": "center",
          "xref": "paper",
          "y": 0.375,
          "yanchor": "bottom",
          "yref": "paper"
         },
         {
          "font": {
           "size": 16
          },
          "showarrow": false,
          "text": "Salinas_PCA_8_paoletti",
          "x": 0.775,
          "xanchor": "center",
          "xref": "paper",
          "y": 0.375,
          "yanchor": "bottom",
          "yref": "paper"
         }
        ],
        "height": 1000,
        "showlegend": false,
        "template": {
         "data": {
          "bar": [
           {
            "error_x": {
             "color": "#2a3f5f"
            },
            "error_y": {
             "color": "#2a3f5f"
            },
            "marker": {
             "line": {
              "color": "#E5ECF6",
              "width": 0.5
             },
             "pattern": {
              "fillmode": "overlay",
              "size": 10,
              "solidity": 0.2
             }
            },
            "type": "bar"
           }
          ],
          "barpolar": [
           {
            "marker": {
             "line": {
              "color": "#E5ECF6",
              "width": 0.5
             },
             "pattern": {
              "fillmode": "overlay",
              "size": 10,
              "solidity": 0.2
             }
            },
            "type": "barpolar"
           }
          ],
          "carpet": [
           {
            "aaxis": {
             "endlinecolor": "#2a3f5f",
             "gridcolor": "white",
             "linecolor": "white",
             "minorgridcolor": "white",
             "startlinecolor": "#2a3f5f"
            },
            "baxis": {
             "endlinecolor": "#2a3f5f",
             "gridcolor": "white",
             "linecolor": "white",
             "minorgridcolor": "white",
             "startlinecolor": "#2a3f5f"
            },
            "type": "carpet"
           }
          ],
          "choropleth": [
           {
            "colorbar": {
             "outlinewidth": 0,
             "ticks": ""
            },
            "type": "choropleth"
           }
          ],
          "contour": [
           {
            "colorbar": {
             "outlinewidth": 0,
             "ticks": ""
            },
            "colorscale": [
             [
              0,
              "#0d0887"
             ],
             [
              0.1111111111111111,
              "#46039f"
             ],
             [
              0.2222222222222222,
              "#7201a8"
             ],
             [
              0.3333333333333333,
              "#9c179e"
             ],
             [
              0.4444444444444444,
              "#bd3786"
             ],
             [
              0.5555555555555556,
              "#d8576b"
             ],
             [
              0.6666666666666666,
              "#ed7953"
             ],
             [
              0.7777777777777778,
              "#fb9f3a"
             ],
             [
              0.8888888888888888,
              "#fdca26"
             ],
             [
              1,
              "#f0f921"
             ]
            ],
            "type": "contour"
           }
          ],
          "contourcarpet": [
           {
            "colorbar": {
             "outlinewidth": 0,
             "ticks": ""
            },
            "type": "contourcarpet"
           }
          ],
          "heatmap": [
           {
            "colorbar": {
             "outlinewidth": 0,
             "ticks": ""
            },
            "colorscale": [
             [
              0,
              "#0d0887"
             ],
             [
              0.1111111111111111,
              "#46039f"
             ],
             [
              0.2222222222222222,
              "#7201a8"
             ],
             [
              0.3333333333333333,
              "#9c179e"
             ],
             [
              0.4444444444444444,
              "#bd3786"
             ],
             [
              0.5555555555555556,
              "#d8576b"
             ],
             [
              0.6666666666666666,
              "#ed7953"
             ],
             [
              0.7777777777777778,
              "#fb9f3a"
             ],
             [
              0.8888888888888888,
              "#fdca26"
             ],
             [
              1,
              "#f0f921"
             ]
            ],
            "type": "heatmap"
           }
          ],
          "heatmapgl": [
           {
            "colorbar": {
             "outlinewidth": 0,
             "ticks": ""
            },
            "colorscale": [
             [
              0,
              "#0d0887"
             ],
             [
              0.1111111111111111,
              "#46039f"
             ],
             [
              0.2222222222222222,
              "#7201a8"
             ],
             [
              0.3333333333333333,
              "#9c179e"
             ],
             [
              0.4444444444444444,
              "#bd3786"
             ],
             [
              0.5555555555555556,
              "#d8576b"
             ],
             [
              0.6666666666666666,
              "#ed7953"
             ],
             [
              0.7777777777777778,
              "#fb9f3a"
             ],
             [
              0.8888888888888888,
              "#fdca26"
             ],
             [
              1,
              "#f0f921"
             ]
            ],
            "type": "heatmapgl"
           }
          ],
          "histogram": [
           {
            "marker": {
             "pattern": {
              "fillmode": "overlay",
              "size": 10,
              "solidity": 0.2
             }
            },
            "type": "histogram"
           }
          ],
          "histogram2d": [
           {
            "colorbar": {
             "outlinewidth": 0,
             "ticks": ""
            },
            "colorscale": [
             [
              0,
              "#0d0887"
             ],
             [
              0.1111111111111111,
              "#46039f"
             ],
             [
              0.2222222222222222,
              "#7201a8"
             ],
             [
              0.3333333333333333,
              "#9c179e"
             ],
             [
              0.4444444444444444,
              "#bd3786"
             ],
             [
              0.5555555555555556,
              "#d8576b"
             ],
             [
              0.6666666666666666,
              "#ed7953"
             ],
             [
              0.7777777777777778,
              "#fb9f3a"
             ],
             [
              0.8888888888888888,
              "#fdca26"
             ],
             [
              1,
              "#f0f921"
             ]
            ],
            "type": "histogram2d"
           }
          ],
          "histogram2dcontour": [
           {
            "colorbar": {
             "outlinewidth": 0,
             "ticks": ""
            },
            "colorscale": [
             [
              0,
              "#0d0887"
             ],
             [
              0.1111111111111111,
              "#46039f"
             ],
             [
              0.2222222222222222,
              "#7201a8"
             ],
             [
              0.3333333333333333,
              "#9c179e"
             ],
             [
              0.4444444444444444,
              "#bd3786"
             ],
             [
              0.5555555555555556,
              "#d8576b"
             ],
             [
              0.6666666666666666,
              "#ed7953"
             ],
             [
              0.7777777777777778,
              "#fb9f3a"
             ],
             [
              0.8888888888888888,
              "#fdca26"
             ],
             [
              1,
              "#f0f921"
             ]
            ],
            "type": "histogram2dcontour"
           }
          ],
          "mesh3d": [
           {
            "colorbar": {
             "outlinewidth": 0,
             "ticks": ""
            },
            "type": "mesh3d"
           }
          ],
          "parcoords": [
           {
            "line": {
             "colorbar": {
              "outlinewidth": 0,
              "ticks": ""
             }
            },
            "type": "parcoords"
           }
          ],
          "pie": [
           {
            "automargin": true,
            "type": "pie"
           }
          ],
          "scatter": [
           {
            "fillpattern": {
             "fillmode": "overlay",
             "size": 10,
             "solidity": 0.2
            },
            "type": "scatter"
           }
          ],
          "scatter3d": [
           {
            "line": {
             "colorbar": {
              "outlinewidth": 0,
              "ticks": ""
             }
            },
            "marker": {
             "colorbar": {
              "outlinewidth": 0,
              "ticks": ""
             }
            },
            "type": "scatter3d"
           }
          ],
          "scattercarpet": [
           {
            "marker": {
             "colorbar": {
              "outlinewidth": 0,
              "ticks": ""
             }
            },
            "type": "scattercarpet"
           }
          ],
          "scattergeo": [
           {
            "marker": {
             "colorbar": {
              "outlinewidth": 0,
              "ticks": ""
             }
            },
            "type": "scattergeo"
           }
          ],
          "scattergl": [
           {
            "marker": {
             "colorbar": {
              "outlinewidth": 0,
              "ticks": ""
             }
            },
            "type": "scattergl"
           }
          ],
          "scattermapbox": [
           {
            "marker": {
             "colorbar": {
              "outlinewidth": 0,
              "ticks": ""
             }
            },
            "type": "scattermapbox"
           }
          ],
          "scatterpolar": [
           {
            "marker": {
             "colorbar": {
              "outlinewidth": 0,
              "ticks": ""
             }
            },
            "type": "scatterpolar"
           }
          ],
          "scatterpolargl": [
           {
            "marker": {
             "colorbar": {
              "outlinewidth": 0,
              "ticks": ""
             }
            },
            "type": "scatterpolargl"
           }
          ],
          "scatterternary": [
           {
            "marker": {
             "colorbar": {
              "outlinewidth": 0,
              "ticks": ""
             }
            },
            "type": "scatterternary"
           }
          ],
          "surface": [
           {
            "colorbar": {
             "outlinewidth": 0,
             "ticks": ""
            },
            "colorscale": [
             [
              0,
              "#0d0887"
             ],
             [
              0.1111111111111111,
              "#46039f"
             ],
             [
              0.2222222222222222,
              "#7201a8"
             ],
             [
              0.3333333333333333,
              "#9c179e"
             ],
             [
              0.4444444444444444,
              "#bd3786"
             ],
             [
              0.5555555555555556,
              "#d8576b"
             ],
             [
              0.6666666666666666,
              "#ed7953"
             ],
             [
              0.7777777777777778,
              "#fb9f3a"
             ],
             [
              0.8888888888888888,
              "#fdca26"
             ],
             [
              1,
              "#f0f921"
             ]
            ],
            "type": "surface"
           }
          ],
          "table": [
           {
            "cells": {
             "fill": {
              "color": "#EBF0F8"
             },
             "line": {
              "color": "white"
             }
            },
            "header": {
             "fill": {
              "color": "#C8D4E3"
             },
             "line": {
              "color": "white"
             }
            },
            "type": "table"
           }
          ]
         },
         "layout": {
          "annotationdefaults": {
           "arrowcolor": "#2a3f5f",
           "arrowhead": 0,
           "arrowwidth": 1
          },
          "autotypenumbers": "strict",
          "coloraxis": {
           "colorbar": {
            "outlinewidth": 0,
            "ticks": ""
           }
          },
          "colorscale": {
           "diverging": [
            [
             0,
             "#8e0152"
            ],
            [
             0.1,
             "#c51b7d"
            ],
            [
             0.2,
             "#de77ae"
            ],
            [
             0.3,
             "#f1b6da"
            ],
            [
             0.4,
             "#fde0ef"
            ],
            [
             0.5,
             "#f7f7f7"
            ],
            [
             0.6,
             "#e6f5d0"
            ],
            [
             0.7,
             "#b8e186"
            ],
            [
             0.8,
             "#7fbc41"
            ],
            [
             0.9,
             "#4d9221"
            ],
            [
             1,
             "#276419"
            ]
           ],
           "sequential": [
            [
             0,
             "#0d0887"
            ],
            [
             0.1111111111111111,
             "#46039f"
            ],
            [
             0.2222222222222222,
             "#7201a8"
            ],
            [
             0.3333333333333333,
             "#9c179e"
            ],
            [
             0.4444444444444444,
             "#bd3786"
            ],
            [
             0.5555555555555556,
             "#d8576b"
            ],
            [
             0.6666666666666666,
             "#ed7953"
            ],
            [
             0.7777777777777778,
             "#fb9f3a"
            ],
            [
             0.8888888888888888,
             "#fdca26"
            ],
            [
             1,
             "#f0f921"
            ]
           ],
           "sequentialminus": [
            [
             0,
             "#0d0887"
            ],
            [
             0.1111111111111111,
             "#46039f"
            ],
            [
             0.2222222222222222,
             "#7201a8"
            ],
            [
             0.3333333333333333,
             "#9c179e"
            ],
            [
             0.4444444444444444,
             "#bd3786"
            ],
            [
             0.5555555555555556,
             "#d8576b"
            ],
            [
             0.6666666666666666,
             "#ed7953"
            ],
            [
             0.7777777777777778,
             "#fb9f3a"
            ],
            [
             0.8888888888888888,
             "#fdca26"
            ],
            [
             1,
             "#f0f921"
            ]
           ]
          },
          "colorway": [
           "#636efa",
           "#EF553B",
           "#00cc96",
           "#ab63fa",
           "#FFA15A",
           "#19d3f3",
           "#FF6692",
           "#B6E880",
           "#FF97FF",
           "#FECB52"
          ],
          "font": {
           "color": "#2a3f5f"
          },
          "geo": {
           "bgcolor": "white",
           "lakecolor": "white",
           "landcolor": "#E5ECF6",
           "showlakes": true,
           "showland": true,
           "subunitcolor": "white"
          },
          "hoverlabel": {
           "align": "left"
          },
          "hovermode": "closest",
          "mapbox": {
           "style": "light"
          },
          "paper_bgcolor": "white",
          "plot_bgcolor": "#E5ECF6",
          "polar": {
           "angularaxis": {
            "gridcolor": "white",
            "linecolor": "white",
            "ticks": ""
           },
           "bgcolor": "#E5ECF6",
           "radialaxis": {
            "gridcolor": "white",
            "linecolor": "white",
            "ticks": ""
           }
          },
          "scene": {
           "xaxis": {
            "backgroundcolor": "#E5ECF6",
            "gridcolor": "white",
            "gridwidth": 2,
            "linecolor": "white",
            "showbackground": true,
            "ticks": "",
            "zerolinecolor": "white"
           },
           "yaxis": {
            "backgroundcolor": "#E5ECF6",
            "gridcolor": "white",
            "gridwidth": 2,
            "linecolor": "white",
            "showbackground": true,
            "ticks": "",
            "zerolinecolor": "white"
           },
           "zaxis": {
            "backgroundcolor": "#E5ECF6",
            "gridcolor": "white",
            "gridwidth": 2,
            "linecolor": "white",
            "showbackground": true,
            "ticks": "",
            "zerolinecolor": "white"
           }
          },
          "shapedefaults": {
           "line": {
            "color": "#2a3f5f"
           }
          },
          "ternary": {
           "aaxis": {
            "gridcolor": "white",
            "linecolor": "white",
            "ticks": ""
           },
           "baxis": {
            "gridcolor": "white",
            "linecolor": "white",
            "ticks": ""
           },
           "bgcolor": "#E5ECF6",
           "caxis": {
            "gridcolor": "white",
            "linecolor": "white",
            "ticks": ""
           }
          },
          "title": {
           "x": 0.05
          },
          "xaxis": {
           "automargin": true,
           "gridcolor": "white",
           "linecolor": "white",
           "ticks": "",
           "title": {
            "standoff": 15
           },
           "zerolinecolor": "white",
           "zerolinewidth": 2
          },
          "yaxis": {
           "automargin": true,
           "gridcolor": "white",
           "linecolor": "white",
           "ticks": "",
           "title": {
            "standoff": 15
           },
           "zerolinecolor": "white",
           "zerolinewidth": 2
          }
         }
        },
        "title": {
         "text": "Confusion Matrices"
        },
        "width": 1000,
        "xaxis": {
         "anchor": "y",
         "domain": [
          0,
          0.45
         ],
         "showticklabels": false
        },
        "xaxis2": {
         "anchor": "y2",
         "domain": [
          0.55,
          1
         ],
         "showticklabels": false
        },
        "xaxis3": {
         "anchor": "y3",
         "domain": [
          0,
          0.45
         ],
         "tickangle": 45,
         "title": {
          "text": "Predicted labels"
         },
         "type": "category"
        },
        "xaxis4": {
         "anchor": "y4",
         "domain": [
          0.55,
          1
         ],
         "tickangle": 45,
         "title": {
          "text": "Predicted labels"
         },
         "type": "category"
        },
        "yaxis": {
         "anchor": "x",
         "domain": [
          0.625,
          1
         ],
         "title": {
          "text": "Actual labels"
         },
         "type": "category"
        },
        "yaxis2": {
         "anchor": "x2",
         "domain": [
          0.625,
          1
         ],
         "showticklabels": false
        },
        "yaxis3": {
         "anchor": "x3",
         "domain": [
          0,
          0.375
         ],
         "title": {
          "text": "Actual labels"
         },
         "type": "category"
        },
        "yaxis4": {
         "anchor": "x4",
         "domain": [
          0,
          0.375
         ],
         "showticklabels": false
        }
       }
      }
     },
     "metadata": {},
     "output_type": "display_data"
    }
   ],
   "source": [
    "# ds = 'IndianPines'\n",
    "ds = 'Salinas'\n",
    "dr_method = 'PCA'\n",
    "# dr_method = 'FastICA'\n",
    "n_comps = 8\n",
    "\n",
    "exps = [\n",
    "    f'{ds}_{dr_method}_{n_comps}_li',\n",
    "    f'{ds}_{dr_method}_{n_comps}_hamida',\n",
    "    f'{ds}_{dr_method}_{n_comps}_mou',\n",
    "    f'{ds}_{dr_method}_{n_comps}_paoletti'\n",
    "]\n",
    "show_confusion_matrices(df_results, exps, labels=LABELS[ds], normalize=True)"
   ]
  },
  {
   "cell_type": "code",
   "execution_count": 7,
   "metadata": {},
   "outputs": [
    {
     "name": "stderr",
     "output_type": "stream",
     "text": [
      "C:\\Users\\Dell\\AppData\\Local\\Temp\\ipykernel_21896\\742158990.py:105: RuntimeWarning:\n",
      "\n",
      "invalid value encountered in divide\n",
      "\n"
     ]
    },
    {
     "data": {
      "application/vnd.plotly.v1+json": {
       "config": {
        "plotlyServerURL": "https://plot.ly"
       },
       "data": [
        {
         "colorbar": {
          "title": {
           "text": "Normalized"
          }
         },
         "colorscale": [
          [
           0,
           "rgb(247,251,255)"
          ],
          [
           0.125,
           "rgb(222,235,247)"
          ],
          [
           0.25,
           "rgb(198,219,239)"
          ],
          [
           0.375,
           "rgb(158,202,225)"
          ],
          [
           0.5,
           "rgb(107,174,214)"
          ],
          [
           0.625,
           "rgb(66,146,198)"
          ],
          [
           0.75,
           "rgb(33,113,181)"
          ],
          [
           0.875,
           "rgb(8,81,156)"
          ],
          [
           1,
           "rgb(8,48,107)"
          ]
         ],
         "showscale": false,
         "type": "heatmap",
         "x": [
          "Undefined",
          "Brocoli_green_weeds_1",
          "Brocoli_green_weeds_2",
          "Fallow",
          "Fallow_rough_plow",
          "Fallow_smooth",
          "Stubble",
          "Celery",
          "Grapes_untrained",
          "Soil_vinyard_develop",
          "Corn_senesced_green_weeds",
          "Lettuce_romaine_4wk",
          "Lettuce_romaine_5wk",
          "Lettuce_romaine_6wk",
          "Lettuce_romaine_7wk",
          "Vinyard_untrained",
          "Vinyard_vertical_trellis"
         ],
         "y": [
          "Undefined",
          "Brocoli_green_weeds_1",
          "Brocoli_green_weeds_2",
          "Fallow",
          "Fallow_rough_plow",
          "Fallow_smooth",
          "Stubble",
          "Celery",
          "Grapes_untrained",
          "Soil_vinyard_develop",
          "Corn_senesced_green_weeds",
          "Lettuce_romaine_4wk",
          "Lettuce_romaine_5wk",
          "Lettuce_romaine_6wk",
          "Lettuce_romaine_7wk",
          "Vinyard_untrained",
          "Vinyard_vertical_trellis"
         ],
         "z": [
          [
           null,
           null,
           null,
           null,
           null,
           null,
           null,
           null,
           null,
           null,
           null,
           null,
           null,
           null,
           null,
           null,
           null
          ],
          [
           0.05,
           0.95,
           0.01,
           0,
           0,
           0,
           0,
           0,
           0,
           0,
           0,
           0,
           0,
           0,
           0,
           0,
           0
          ],
          [
           0,
           0,
           1,
           0,
           0,
           0,
           0,
           0,
           0,
           0,
           0,
           0,
           0,
           0,
           0,
           0,
           0
          ],
          [
           0,
           0,
           0,
           0.98,
           0,
           0.01,
           0,
           0,
           0,
           0,
           0.01,
           0,
           0,
           0,
           0,
           0,
           0
          ],
          [
           0.01,
           0,
           0,
           0,
           0.99,
           0.01,
           0,
           0,
           0,
           0,
           0,
           0,
           0,
           0,
           0,
           0,
           0
          ],
          [
           0,
           0,
           0,
           0,
           0,
           1,
           0,
           0,
           0,
           0,
           0,
           0,
           0,
           0,
           0,
           0,
           0
          ],
          [
           0.02,
           0,
           0,
           0,
           0,
           0,
           0.98,
           0,
           0,
           0,
           0,
           0,
           0,
           0,
           0,
           0,
           0
          ],
          [
           0.01,
           0,
           0,
           0,
           0,
           0,
           0,
           0.99,
           0,
           0,
           0,
           0,
           0,
           0,
           0,
           0,
           0
          ],
          [
           0.01,
           0,
           0,
           0,
           0,
           0,
           0,
           0,
           0.9,
           0,
           0.01,
           0,
           0,
           0,
           0,
           0.08,
           0
          ],
          [
           0,
           0,
           0,
           0,
           0,
           0,
           0,
           0,
           0,
           1,
           0,
           0,
           0,
           0,
           0,
           0,
           0
          ],
          [
           0.03,
           0,
           0,
           0.01,
           0,
           0,
           0,
           0,
           0,
           0.01,
           0.95,
           0.01,
           0,
           0,
           0,
           0,
           0
          ],
          [
           0.03,
           0,
           0,
           0,
           0,
           0,
           0,
           0,
           0,
           0.05,
           0.01,
           0.9,
           0.01,
           0,
           0,
           0,
           0
          ],
          [
           0.03,
           0,
           0,
           0,
           0,
           0,
           0,
           0,
           0,
           0,
           0,
           0,
           0.97,
           0,
           0,
           0,
           0
          ],
          [
           0.02,
           0,
           0,
           0,
           0,
           0,
           0,
           0,
           0,
           0,
           0,
           0,
           0,
           0.98,
           0,
           0,
           0
          ],
          [
           0.03,
           0,
           0,
           0,
           0,
           0,
           0,
           0,
           0,
           0,
           0,
           0,
           0,
           0,
           0.97,
           0,
           0
          ],
          [
           0.04,
           0,
           0,
           0,
           0,
           0,
           0,
           0,
           0.18,
           0,
           0,
           0,
           0,
           0,
           0,
           0.78,
           0
          ],
          [
           0.14,
           0,
           0,
           0,
           0,
           0,
           0,
           0,
           0,
           0,
           0,
           0,
           0,
           0,
           0,
           0,
           0.86
          ]
         ],
         "zmax": 1,
         "zmin": 0
        }
       ],
       "layout": {
        "height": 800,
        "showlegend": false,
        "template": {
         "data": {
          "bar": [
           {
            "error_x": {
             "color": "#2a3f5f"
            },
            "error_y": {
             "color": "#2a3f5f"
            },
            "marker": {
             "line": {
              "color": "#E5ECF6",
              "width": 0.5
             },
             "pattern": {
              "fillmode": "overlay",
              "size": 10,
              "solidity": 0.2
             }
            },
            "type": "bar"
           }
          ],
          "barpolar": [
           {
            "marker": {
             "line": {
              "color": "#E5ECF6",
              "width": 0.5
             },
             "pattern": {
              "fillmode": "overlay",
              "size": 10,
              "solidity": 0.2
             }
            },
            "type": "barpolar"
           }
          ],
          "carpet": [
           {
            "aaxis": {
             "endlinecolor": "#2a3f5f",
             "gridcolor": "white",
             "linecolor": "white",
             "minorgridcolor": "white",
             "startlinecolor": "#2a3f5f"
            },
            "baxis": {
             "endlinecolor": "#2a3f5f",
             "gridcolor": "white",
             "linecolor": "white",
             "minorgridcolor": "white",
             "startlinecolor": "#2a3f5f"
            },
            "type": "carpet"
           }
          ],
          "choropleth": [
           {
            "colorbar": {
             "outlinewidth": 0,
             "ticks": ""
            },
            "type": "choropleth"
           }
          ],
          "contour": [
           {
            "colorbar": {
             "outlinewidth": 0,
             "ticks": ""
            },
            "colorscale": [
             [
              0,
              "#0d0887"
             ],
             [
              0.1111111111111111,
              "#46039f"
             ],
             [
              0.2222222222222222,
              "#7201a8"
             ],
             [
              0.3333333333333333,
              "#9c179e"
             ],
             [
              0.4444444444444444,
              "#bd3786"
             ],
             [
              0.5555555555555556,
              "#d8576b"
             ],
             [
              0.6666666666666666,
              "#ed7953"
             ],
             [
              0.7777777777777778,
              "#fb9f3a"
             ],
             [
              0.8888888888888888,
              "#fdca26"
             ],
             [
              1,
              "#f0f921"
             ]
            ],
            "type": "contour"
           }
          ],
          "contourcarpet": [
           {
            "colorbar": {
             "outlinewidth": 0,
             "ticks": ""
            },
            "type": "contourcarpet"
           }
          ],
          "heatmap": [
           {
            "colorbar": {
             "outlinewidth": 0,
             "ticks": ""
            },
            "colorscale": [
             [
              0,
              "#0d0887"
             ],
             [
              0.1111111111111111,
              "#46039f"
             ],
             [
              0.2222222222222222,
              "#7201a8"
             ],
             [
              0.3333333333333333,
              "#9c179e"
             ],
             [
              0.4444444444444444,
              "#bd3786"
             ],
             [
              0.5555555555555556,
              "#d8576b"
             ],
             [
              0.6666666666666666,
              "#ed7953"
             ],
             [
              0.7777777777777778,
              "#fb9f3a"
             ],
             [
              0.8888888888888888,
              "#fdca26"
             ],
             [
              1,
              "#f0f921"
             ]
            ],
            "type": "heatmap"
           }
          ],
          "heatmapgl": [
           {
            "colorbar": {
             "outlinewidth": 0,
             "ticks": ""
            },
            "colorscale": [
             [
              0,
              "#0d0887"
             ],
             [
              0.1111111111111111,
              "#46039f"
             ],
             [
              0.2222222222222222,
              "#7201a8"
             ],
             [
              0.3333333333333333,
              "#9c179e"
             ],
             [
              0.4444444444444444,
              "#bd3786"
             ],
             [
              0.5555555555555556,
              "#d8576b"
             ],
             [
              0.6666666666666666,
              "#ed7953"
             ],
             [
              0.7777777777777778,
              "#fb9f3a"
             ],
             [
              0.8888888888888888,
              "#fdca26"
             ],
             [
              1,
              "#f0f921"
             ]
            ],
            "type": "heatmapgl"
           }
          ],
          "histogram": [
           {
            "marker": {
             "pattern": {
              "fillmode": "overlay",
              "size": 10,
              "solidity": 0.2
             }
            },
            "type": "histogram"
           }
          ],
          "histogram2d": [
           {
            "colorbar": {
             "outlinewidth": 0,
             "ticks": ""
            },
            "colorscale": [
             [
              0,
              "#0d0887"
             ],
             [
              0.1111111111111111,
              "#46039f"
             ],
             [
              0.2222222222222222,
              "#7201a8"
             ],
             [
              0.3333333333333333,
              "#9c179e"
             ],
             [
              0.4444444444444444,
              "#bd3786"
             ],
             [
              0.5555555555555556,
              "#d8576b"
             ],
             [
              0.6666666666666666,
              "#ed7953"
             ],
             [
              0.7777777777777778,
              "#fb9f3a"
             ],
             [
              0.8888888888888888,
              "#fdca26"
             ],
             [
              1,
              "#f0f921"
             ]
            ],
            "type": "histogram2d"
           }
          ],
          "histogram2dcontour": [
           {
            "colorbar": {
             "outlinewidth": 0,
             "ticks": ""
            },
            "colorscale": [
             [
              0,
              "#0d0887"
             ],
             [
              0.1111111111111111,
              "#46039f"
             ],
             [
              0.2222222222222222,
              "#7201a8"
             ],
             [
              0.3333333333333333,
              "#9c179e"
             ],
             [
              0.4444444444444444,
              "#bd3786"
             ],
             [
              0.5555555555555556,
              "#d8576b"
             ],
             [
              0.6666666666666666,
              "#ed7953"
             ],
             [
              0.7777777777777778,
              "#fb9f3a"
             ],
             [
              0.8888888888888888,
              "#fdca26"
             ],
             [
              1,
              "#f0f921"
             ]
            ],
            "type": "histogram2dcontour"
           }
          ],
          "mesh3d": [
           {
            "colorbar": {
             "outlinewidth": 0,
             "ticks": ""
            },
            "type": "mesh3d"
           }
          ],
          "parcoords": [
           {
            "line": {
             "colorbar": {
              "outlinewidth": 0,
              "ticks": ""
             }
            },
            "type": "parcoords"
           }
          ],
          "pie": [
           {
            "automargin": true,
            "type": "pie"
           }
          ],
          "scatter": [
           {
            "fillpattern": {
             "fillmode": "overlay",
             "size": 10,
             "solidity": 0.2
            },
            "type": "scatter"
           }
          ],
          "scatter3d": [
           {
            "line": {
             "colorbar": {
              "outlinewidth": 0,
              "ticks": ""
             }
            },
            "marker": {
             "colorbar": {
              "outlinewidth": 0,
              "ticks": ""
             }
            },
            "type": "scatter3d"
           }
          ],
          "scattercarpet": [
           {
            "marker": {
             "colorbar": {
              "outlinewidth": 0,
              "ticks": ""
             }
            },
            "type": "scattercarpet"
           }
          ],
          "scattergeo": [
           {
            "marker": {
             "colorbar": {
              "outlinewidth": 0,
              "ticks": ""
             }
            },
            "type": "scattergeo"
           }
          ],
          "scattergl": [
           {
            "marker": {
             "colorbar": {
              "outlinewidth": 0,
              "ticks": ""
             }
            },
            "type": "scattergl"
           }
          ],
          "scattermapbox": [
           {
            "marker": {
             "colorbar": {
              "outlinewidth": 0,
              "ticks": ""
             }
            },
            "type": "scattermapbox"
           }
          ],
          "scatterpolar": [
           {
            "marker": {
             "colorbar": {
              "outlinewidth": 0,
              "ticks": ""
             }
            },
            "type": "scatterpolar"
           }
          ],
          "scatterpolargl": [
           {
            "marker": {
             "colorbar": {
              "outlinewidth": 0,
              "ticks": ""
             }
            },
            "type": "scatterpolargl"
           }
          ],
          "scatterternary": [
           {
            "marker": {
             "colorbar": {
              "outlinewidth": 0,
              "ticks": ""
             }
            },
            "type": "scatterternary"
           }
          ],
          "surface": [
           {
            "colorbar": {
             "outlinewidth": 0,
             "ticks": ""
            },
            "colorscale": [
             [
              0,
              "#0d0887"
             ],
             [
              0.1111111111111111,
              "#46039f"
             ],
             [
              0.2222222222222222,
              "#7201a8"
             ],
             [
              0.3333333333333333,
              "#9c179e"
             ],
             [
              0.4444444444444444,
              "#bd3786"
             ],
             [
              0.5555555555555556,
              "#d8576b"
             ],
             [
              0.6666666666666666,
              "#ed7953"
             ],
             [
              0.7777777777777778,
              "#fb9f3a"
             ],
             [
              0.8888888888888888,
              "#fdca26"
             ],
             [
              1,
              "#f0f921"
             ]
            ],
            "type": "surface"
           }
          ],
          "table": [
           {
            "cells": {
             "fill": {
              "color": "#EBF0F8"
             },
             "line": {
              "color": "white"
             }
            },
            "header": {
             "fill": {
              "color": "#C8D4E3"
             },
             "line": {
              "color": "white"
             }
            },
            "type": "table"
           }
          ]
         },
         "layout": {
          "annotationdefaults": {
           "arrowcolor": "#2a3f5f",
           "arrowhead": 0,
           "arrowwidth": 1
          },
          "autotypenumbers": "strict",
          "coloraxis": {
           "colorbar": {
            "outlinewidth": 0,
            "ticks": ""
           }
          },
          "colorscale": {
           "diverging": [
            [
             0,
             "#8e0152"
            ],
            [
             0.1,
             "#c51b7d"
            ],
            [
             0.2,
             "#de77ae"
            ],
            [
             0.3,
             "#f1b6da"
            ],
            [
             0.4,
             "#fde0ef"
            ],
            [
             0.5,
             "#f7f7f7"
            ],
            [
             0.6,
             "#e6f5d0"
            ],
            [
             0.7,
             "#b8e186"
            ],
            [
             0.8,
             "#7fbc41"
            ],
            [
             0.9,
             "#4d9221"
            ],
            [
             1,
             "#276419"
            ]
           ],
           "sequential": [
            [
             0,
             "#0d0887"
            ],
            [
             0.1111111111111111,
             "#46039f"
            ],
            [
             0.2222222222222222,
             "#7201a8"
            ],
            [
             0.3333333333333333,
             "#9c179e"
            ],
            [
             0.4444444444444444,
             "#bd3786"
            ],
            [
             0.5555555555555556,
             "#d8576b"
            ],
            [
             0.6666666666666666,
             "#ed7953"
            ],
            [
             0.7777777777777778,
             "#fb9f3a"
            ],
            [
             0.8888888888888888,
             "#fdca26"
            ],
            [
             1,
             "#f0f921"
            ]
           ],
           "sequentialminus": [
            [
             0,
             "#0d0887"
            ],
            [
             0.1111111111111111,
             "#46039f"
            ],
            [
             0.2222222222222222,
             "#7201a8"
            ],
            [
             0.3333333333333333,
             "#9c179e"
            ],
            [
             0.4444444444444444,
             "#bd3786"
            ],
            [
             0.5555555555555556,
             "#d8576b"
            ],
            [
             0.6666666666666666,
             "#ed7953"
            ],
            [
             0.7777777777777778,
             "#fb9f3a"
            ],
            [
             0.8888888888888888,
             "#fdca26"
            ],
            [
             1,
             "#f0f921"
            ]
           ]
          },
          "colorway": [
           "#636efa",
           "#EF553B",
           "#00cc96",
           "#ab63fa",
           "#FFA15A",
           "#19d3f3",
           "#FF6692",
           "#B6E880",
           "#FF97FF",
           "#FECB52"
          ],
          "font": {
           "color": "#2a3f5f"
          },
          "geo": {
           "bgcolor": "white",
           "lakecolor": "white",
           "landcolor": "#E5ECF6",
           "showlakes": true,
           "showland": true,
           "subunitcolor": "white"
          },
          "hoverlabel": {
           "align": "left"
          },
          "hovermode": "closest",
          "mapbox": {
           "style": "light"
          },
          "paper_bgcolor": "white",
          "plot_bgcolor": "#E5ECF6",
          "polar": {
           "angularaxis": {
            "gridcolor": "white",
            "linecolor": "white",
            "ticks": ""
           },
           "bgcolor": "#E5ECF6",
           "radialaxis": {
            "gridcolor": "white",
            "linecolor": "white",
            "ticks": ""
           }
          },
          "scene": {
           "xaxis": {
            "backgroundcolor": "#E5ECF6",
            "gridcolor": "white",
            "gridwidth": 2,
            "linecolor": "white",
            "showbackground": true,
            "ticks": "",
            "zerolinecolor": "white"
           },
           "yaxis": {
            "backgroundcolor": "#E5ECF6",
            "gridcolor": "white",
            "gridwidth": 2,
            "linecolor": "white",
            "showbackground": true,
            "ticks": "",
            "zerolinecolor": "white"
           },
           "zaxis": {
            "backgroundcolor": "#E5ECF6",
            "gridcolor": "white",
            "gridwidth": 2,
            "linecolor": "white",
            "showbackground": true,
            "ticks": "",
            "zerolinecolor": "white"
           }
          },
          "shapedefaults": {
           "line": {
            "color": "#2a3f5f"
           }
          },
          "ternary": {
           "aaxis": {
            "gridcolor": "white",
            "linecolor": "white",
            "ticks": ""
           },
           "baxis": {
            "gridcolor": "white",
            "linecolor": "white",
            "ticks": ""
           },
           "bgcolor": "#E5ECF6",
           "caxis": {
            "gridcolor": "white",
            "linecolor": "white",
            "ticks": ""
           }
          },
          "title": {
           "x": 0.05
          },
          "xaxis": {
           "automargin": true,
           "gridcolor": "white",
           "linecolor": "white",
           "ticks": "",
           "title": {
            "standoff": 15
           },
           "zerolinecolor": "white",
           "zerolinewidth": 2
          },
          "yaxis": {
           "automargin": true,
           "gridcolor": "white",
           "linecolor": "white",
           "ticks": "",
           "title": {
            "standoff": 15
           },
           "zerolinecolor": "white",
           "zerolinewidth": 2
          }
         }
        },
        "title": {
         "text": "Confusion Matrix"
        },
        "width": 800,
        "xaxis": {
         "tickangle": 45,
         "title": {
          "text": "Predicted labels"
         },
         "type": "category"
        },
        "yaxis": {
         "title": {
          "text": "Actual labels"
         },
         "type": "category"
        }
       }
      }
     },
     "metadata": {},
     "output_type": "display_data"
    }
   ],
   "source": [
    "ds = 'Salinas'\n",
    "dm = 'PCA'\n",
    "n_comp = 8\n",
    "model = 'hamida'\n",
    "\n",
    "conf_matrix = df_results[df_results['Experiment'] == f'{ds}_{dm}_{n_comp}_{model}']['Confusion matrix'].values[0]\n",
    "show_confusion_matrix(conf_matrix, labels=LABELS[ds], normalize=True)\n"
   ]
  },
  {
   "cell_type": "markdown",
   "metadata": {},
   "source": [
    "## ACCURACIES"
   ]
  },
  {
   "cell_type": "code",
   "execution_count": 8,
   "metadata": {},
   "outputs": [
    {
     "name": "stderr",
     "output_type": "stream",
     "text": [
      "C:\\Users\\Dell\\AppData\\Local\\Temp\\ipykernel_21896\\742158990.py:117: SettingWithCopyWarning:\n",
      "\n",
      "\n",
      "A value is trying to be set on a copy of a slice from a DataFrame.\n",
      "Try using .loc[row_indexer,col_indexer] = value instead\n",
      "\n",
      "See the caveats in the documentation: https://pandas.pydata.org/pandas-docs/stable/user_guide/indexing.html#returning-a-view-versus-a-copy\n",
      "\n"
     ]
    },
    {
     "data": {
      "application/vnd.plotly.v1+json": {
       "config": {
        "plotlyServerURL": "https://plot.ly"
       },
       "data": [
        {
         "marker": {
          "color": "#636EFA"
         },
         "name": "mou",
         "type": "bar",
         "x": [
          "Salinas_PCA_8_mou",
          "Salinas_PCA_15_mou",
          "Salinas_PCA_30_mou"
         ],
         "y": [
          88.39623861516009,
          88.36852703726284,
          87.87710838921835
         ]
        },
        {
         "marker": {
          "color": "#EF553B"
         },
         "name": "hamida",
         "type": "bar",
         "x": [
          "Salinas_PCA_8_hamida",
          "Salinas_PCA_15_hamida",
          "Salinas_PCA_30_hamida"
         ],
         "y": [
          93.16632489053929,
          94.8382567570064,
          95.37216649116
         ]
        },
        {
         "marker": {
          "color": "#00CC96"
         },
         "name": "li",
         "type": "bar",
         "x": [
          "Salinas_PCA_8_li",
          "Salinas_PCA_15_li",
          "Salinas_PCA_30_li"
         ],
         "y": [
          92.80237950082213,
          94.6202590108814,
          95.83402612278076
         ]
        },
        {
         "marker": {
          "color": "#AB63FA"
         },
         "name": "paoletti",
         "type": "bar",
         "x": [
          "Salinas_PCA_8_paoletti",
          "Salinas_PCA_15_paoletti",
          "Salinas_PCA_30_paoletti"
         ],
         "y": [
          89.19433205860075,
          88.86548800088677,
          90.45798001071516
         ]
        }
       ],
       "layout": {
        "barmode": "group",
        "showlegend": true,
        "template": {
         "data": {
          "bar": [
           {
            "error_x": {
             "color": "#2a3f5f"
            },
            "error_y": {
             "color": "#2a3f5f"
            },
            "marker": {
             "line": {
              "color": "#E5ECF6",
              "width": 0.5
             },
             "pattern": {
              "fillmode": "overlay",
              "size": 10,
              "solidity": 0.2
             }
            },
            "type": "bar"
           }
          ],
          "barpolar": [
           {
            "marker": {
             "line": {
              "color": "#E5ECF6",
              "width": 0.5
             },
             "pattern": {
              "fillmode": "overlay",
              "size": 10,
              "solidity": 0.2
             }
            },
            "type": "barpolar"
           }
          ],
          "carpet": [
           {
            "aaxis": {
             "endlinecolor": "#2a3f5f",
             "gridcolor": "white",
             "linecolor": "white",
             "minorgridcolor": "white",
             "startlinecolor": "#2a3f5f"
            },
            "baxis": {
             "endlinecolor": "#2a3f5f",
             "gridcolor": "white",
             "linecolor": "white",
             "minorgridcolor": "white",
             "startlinecolor": "#2a3f5f"
            },
            "type": "carpet"
           }
          ],
          "choropleth": [
           {
            "colorbar": {
             "outlinewidth": 0,
             "ticks": ""
            },
            "type": "choropleth"
           }
          ],
          "contour": [
           {
            "colorbar": {
             "outlinewidth": 0,
             "ticks": ""
            },
            "colorscale": [
             [
              0,
              "#0d0887"
             ],
             [
              0.1111111111111111,
              "#46039f"
             ],
             [
              0.2222222222222222,
              "#7201a8"
             ],
             [
              0.3333333333333333,
              "#9c179e"
             ],
             [
              0.4444444444444444,
              "#bd3786"
             ],
             [
              0.5555555555555556,
              "#d8576b"
             ],
             [
              0.6666666666666666,
              "#ed7953"
             ],
             [
              0.7777777777777778,
              "#fb9f3a"
             ],
             [
              0.8888888888888888,
              "#fdca26"
             ],
             [
              1,
              "#f0f921"
             ]
            ],
            "type": "contour"
           }
          ],
          "contourcarpet": [
           {
            "colorbar": {
             "outlinewidth": 0,
             "ticks": ""
            },
            "type": "contourcarpet"
           }
          ],
          "heatmap": [
           {
            "colorbar": {
             "outlinewidth": 0,
             "ticks": ""
            },
            "colorscale": [
             [
              0,
              "#0d0887"
             ],
             [
              0.1111111111111111,
              "#46039f"
             ],
             [
              0.2222222222222222,
              "#7201a8"
             ],
             [
              0.3333333333333333,
              "#9c179e"
             ],
             [
              0.4444444444444444,
              "#bd3786"
             ],
             [
              0.5555555555555556,
              "#d8576b"
             ],
             [
              0.6666666666666666,
              "#ed7953"
             ],
             [
              0.7777777777777778,
              "#fb9f3a"
             ],
             [
              0.8888888888888888,
              "#fdca26"
             ],
             [
              1,
              "#f0f921"
             ]
            ],
            "type": "heatmap"
           }
          ],
          "heatmapgl": [
           {
            "colorbar": {
             "outlinewidth": 0,
             "ticks": ""
            },
            "colorscale": [
             [
              0,
              "#0d0887"
             ],
             [
              0.1111111111111111,
              "#46039f"
             ],
             [
              0.2222222222222222,
              "#7201a8"
             ],
             [
              0.3333333333333333,
              "#9c179e"
             ],
             [
              0.4444444444444444,
              "#bd3786"
             ],
             [
              0.5555555555555556,
              "#d8576b"
             ],
             [
              0.6666666666666666,
              "#ed7953"
             ],
             [
              0.7777777777777778,
              "#fb9f3a"
             ],
             [
              0.8888888888888888,
              "#fdca26"
             ],
             [
              1,
              "#f0f921"
             ]
            ],
            "type": "heatmapgl"
           }
          ],
          "histogram": [
           {
            "marker": {
             "pattern": {
              "fillmode": "overlay",
              "size": 10,
              "solidity": 0.2
             }
            },
            "type": "histogram"
           }
          ],
          "histogram2d": [
           {
            "colorbar": {
             "outlinewidth": 0,
             "ticks": ""
            },
            "colorscale": [
             [
              0,
              "#0d0887"
             ],
             [
              0.1111111111111111,
              "#46039f"
             ],
             [
              0.2222222222222222,
              "#7201a8"
             ],
             [
              0.3333333333333333,
              "#9c179e"
             ],
             [
              0.4444444444444444,
              "#bd3786"
             ],
             [
              0.5555555555555556,
              "#d8576b"
             ],
             [
              0.6666666666666666,
              "#ed7953"
             ],
             [
              0.7777777777777778,
              "#fb9f3a"
             ],
             [
              0.8888888888888888,
              "#fdca26"
             ],
             [
              1,
              "#f0f921"
             ]
            ],
            "type": "histogram2d"
           }
          ],
          "histogram2dcontour": [
           {
            "colorbar": {
             "outlinewidth": 0,
             "ticks": ""
            },
            "colorscale": [
             [
              0,
              "#0d0887"
             ],
             [
              0.1111111111111111,
              "#46039f"
             ],
             [
              0.2222222222222222,
              "#7201a8"
             ],
             [
              0.3333333333333333,
              "#9c179e"
             ],
             [
              0.4444444444444444,
              "#bd3786"
             ],
             [
              0.5555555555555556,
              "#d8576b"
             ],
             [
              0.6666666666666666,
              "#ed7953"
             ],
             [
              0.7777777777777778,
              "#fb9f3a"
             ],
             [
              0.8888888888888888,
              "#fdca26"
             ],
             [
              1,
              "#f0f921"
             ]
            ],
            "type": "histogram2dcontour"
           }
          ],
          "mesh3d": [
           {
            "colorbar": {
             "outlinewidth": 0,
             "ticks": ""
            },
            "type": "mesh3d"
           }
          ],
          "parcoords": [
           {
            "line": {
             "colorbar": {
              "outlinewidth": 0,
              "ticks": ""
             }
            },
            "type": "parcoords"
           }
          ],
          "pie": [
           {
            "automargin": true,
            "type": "pie"
           }
          ],
          "scatter": [
           {
            "fillpattern": {
             "fillmode": "overlay",
             "size": 10,
             "solidity": 0.2
            },
            "type": "scatter"
           }
          ],
          "scatter3d": [
           {
            "line": {
             "colorbar": {
              "outlinewidth": 0,
              "ticks": ""
             }
            },
            "marker": {
             "colorbar": {
              "outlinewidth": 0,
              "ticks": ""
             }
            },
            "type": "scatter3d"
           }
          ],
          "scattercarpet": [
           {
            "marker": {
             "colorbar": {
              "outlinewidth": 0,
              "ticks": ""
             }
            },
            "type": "scattercarpet"
           }
          ],
          "scattergeo": [
           {
            "marker": {
             "colorbar": {
              "outlinewidth": 0,
              "ticks": ""
             }
            },
            "type": "scattergeo"
           }
          ],
          "scattergl": [
           {
            "marker": {
             "colorbar": {
              "outlinewidth": 0,
              "ticks": ""
             }
            },
            "type": "scattergl"
           }
          ],
          "scattermapbox": [
           {
            "marker": {
             "colorbar": {
              "outlinewidth": 0,
              "ticks": ""
             }
            },
            "type": "scattermapbox"
           }
          ],
          "scatterpolar": [
           {
            "marker": {
             "colorbar": {
              "outlinewidth": 0,
              "ticks": ""
             }
            },
            "type": "scatterpolar"
           }
          ],
          "scatterpolargl": [
           {
            "marker": {
             "colorbar": {
              "outlinewidth": 0,
              "ticks": ""
             }
            },
            "type": "scatterpolargl"
           }
          ],
          "scatterternary": [
           {
            "marker": {
             "colorbar": {
              "outlinewidth": 0,
              "ticks": ""
             }
            },
            "type": "scatterternary"
           }
          ],
          "surface": [
           {
            "colorbar": {
             "outlinewidth": 0,
             "ticks": ""
            },
            "colorscale": [
             [
              0,
              "#0d0887"
             ],
             [
              0.1111111111111111,
              "#46039f"
             ],
             [
              0.2222222222222222,
              "#7201a8"
             ],
             [
              0.3333333333333333,
              "#9c179e"
             ],
             [
              0.4444444444444444,
              "#bd3786"
             ],
             [
              0.5555555555555556,
              "#d8576b"
             ],
             [
              0.6666666666666666,
              "#ed7953"
             ],
             [
              0.7777777777777778,
              "#fb9f3a"
             ],
             [
              0.8888888888888888,
              "#fdca26"
             ],
             [
              1,
              "#f0f921"
             ]
            ],
            "type": "surface"
           }
          ],
          "table": [
           {
            "cells": {
             "fill": {
              "color": "#EBF0F8"
             },
             "line": {
              "color": "white"
             }
            },
            "header": {
             "fill": {
              "color": "#C8D4E3"
             },
             "line": {
              "color": "white"
             }
            },
            "type": "table"
           }
          ]
         },
         "layout": {
          "annotationdefaults": {
           "arrowcolor": "#2a3f5f",
           "arrowhead": 0,
           "arrowwidth": 1
          },
          "autotypenumbers": "strict",
          "coloraxis": {
           "colorbar": {
            "outlinewidth": 0,
            "ticks": ""
           }
          },
          "colorscale": {
           "diverging": [
            [
             0,
             "#8e0152"
            ],
            [
             0.1,
             "#c51b7d"
            ],
            [
             0.2,
             "#de77ae"
            ],
            [
             0.3,
             "#f1b6da"
            ],
            [
             0.4,
             "#fde0ef"
            ],
            [
             0.5,
             "#f7f7f7"
            ],
            [
             0.6,
             "#e6f5d0"
            ],
            [
             0.7,
             "#b8e186"
            ],
            [
             0.8,
             "#7fbc41"
            ],
            [
             0.9,
             "#4d9221"
            ],
            [
             1,
             "#276419"
            ]
           ],
           "sequential": [
            [
             0,
             "#0d0887"
            ],
            [
             0.1111111111111111,
             "#46039f"
            ],
            [
             0.2222222222222222,
             "#7201a8"
            ],
            [
             0.3333333333333333,
             "#9c179e"
            ],
            [
             0.4444444444444444,
             "#bd3786"
            ],
            [
             0.5555555555555556,
             "#d8576b"
            ],
            [
             0.6666666666666666,
             "#ed7953"
            ],
            [
             0.7777777777777778,
             "#fb9f3a"
            ],
            [
             0.8888888888888888,
             "#fdca26"
            ],
            [
             1,
             "#f0f921"
            ]
           ],
           "sequentialminus": [
            [
             0,
             "#0d0887"
            ],
            [
             0.1111111111111111,
             "#46039f"
            ],
            [
             0.2222222222222222,
             "#7201a8"
            ],
            [
             0.3333333333333333,
             "#9c179e"
            ],
            [
             0.4444444444444444,
             "#bd3786"
            ],
            [
             0.5555555555555556,
             "#d8576b"
            ],
            [
             0.6666666666666666,
             "#ed7953"
            ],
            [
             0.7777777777777778,
             "#fb9f3a"
            ],
            [
             0.8888888888888888,
             "#fdca26"
            ],
            [
             1,
             "#f0f921"
            ]
           ]
          },
          "colorway": [
           "#636efa",
           "#EF553B",
           "#00cc96",
           "#ab63fa",
           "#FFA15A",
           "#19d3f3",
           "#FF6692",
           "#B6E880",
           "#FF97FF",
           "#FECB52"
          ],
          "font": {
           "color": "#2a3f5f"
          },
          "geo": {
           "bgcolor": "white",
           "lakecolor": "white",
           "landcolor": "#E5ECF6",
           "showlakes": true,
           "showland": true,
           "subunitcolor": "white"
          },
          "hoverlabel": {
           "align": "left"
          },
          "hovermode": "closest",
          "mapbox": {
           "style": "light"
          },
          "paper_bgcolor": "white",
          "plot_bgcolor": "#E5ECF6",
          "polar": {
           "angularaxis": {
            "gridcolor": "white",
            "linecolor": "white",
            "ticks": ""
           },
           "bgcolor": "#E5ECF6",
           "radialaxis": {
            "gridcolor": "white",
            "linecolor": "white",
            "ticks": ""
           }
          },
          "scene": {
           "xaxis": {
            "backgroundcolor": "#E5ECF6",
            "gridcolor": "white",
            "gridwidth": 2,
            "linecolor": "white",
            "showbackground": true,
            "ticks": "",
            "zerolinecolor": "white"
           },
           "yaxis": {
            "backgroundcolor": "#E5ECF6",
            "gridcolor": "white",
            "gridwidth": 2,
            "linecolor": "white",
            "showbackground": true,
            "ticks": "",
            "zerolinecolor": "white"
           },
           "zaxis": {
            "backgroundcolor": "#E5ECF6",
            "gridcolor": "white",
            "gridwidth": 2,
            "linecolor": "white",
            "showbackground": true,
            "ticks": "",
            "zerolinecolor": "white"
           }
          },
          "shapedefaults": {
           "line": {
            "color": "#2a3f5f"
           }
          },
          "ternary": {
           "aaxis": {
            "gridcolor": "white",
            "linecolor": "white",
            "ticks": ""
           },
           "baxis": {
            "gridcolor": "white",
            "linecolor": "white",
            "ticks": ""
           },
           "bgcolor": "#E5ECF6",
           "caxis": {
            "gridcolor": "white",
            "linecolor": "white",
            "ticks": ""
           }
          },
          "title": {
           "x": 0.05
          },
          "xaxis": {
           "automargin": true,
           "gridcolor": "white",
           "linecolor": "white",
           "ticks": "",
           "title": {
            "standoff": 15
           },
           "zerolinecolor": "white",
           "zerolinewidth": 2
          },
          "yaxis": {
           "automargin": true,
           "gridcolor": "white",
           "linecolor": "white",
           "ticks": "",
           "title": {
            "standoff": 15
           },
           "zerolinecolor": "white",
           "zerolinewidth": 2
          }
         }
        },
        "title": {
         "text": "Accuracies of Different Models"
        },
        "xaxis": {
         "title": {
          "text": "Experiment"
         }
        },
        "yaxis": {
         "range": [
          0,
          100
         ],
         "title": {
          "text": "Accuracy (%)"
         }
        }
       }
      }
     },
     "metadata": {},
     "output_type": "display_data"
    }
   ],
   "source": [
    "plot_acc_by_model(filter_exp_by_substring(df_results, ['Salinas_PCA_']))\n"
   ]
  },
  {
   "cell_type": "code",
   "execution_count": 125,
   "metadata": {},
   "outputs": [
    {
     "name": "stderr",
     "output_type": "stream",
     "text": [
      "C:\\Users\\Dell\\AppData\\Local\\Temp\\ipykernel_21896\\3489771781.py:117: SettingWithCopyWarning:\n",
      "\n",
      "\n",
      "A value is trying to be set on a copy of a slice from a DataFrame.\n",
      "Try using .loc[row_indexer,col_indexer] = value instead\n",
      "\n",
      "See the caveats in the documentation: https://pandas.pydata.org/pandas-docs/stable/user_guide/indexing.html#returning-a-view-versus-a-copy\n",
      "\n"
     ]
    },
    {
     "data": {
      "application/vnd.plotly.v1+json": {
       "config": {
        "plotlyServerURL": "https://plot.ly"
       },
       "data": [
        {
         "marker": {
          "color": "#636EFA"
         },
         "name": "mou",
         "type": "bar",
         "x": [
          "Salinas_PCA_30_mou",
          "Salinas_FastICA_30_mou"
         ],
         "y": [
          87.87710838921835,
          20.512109959541096
         ]
        },
        {
         "marker": {
          "color": "#EF553B"
         },
         "name": "hamida",
         "type": "bar",
         "x": [
          "Salinas_PCA_30_hamida",
          "Salinas_FastICA_30_hamida"
         ],
         "y": [
          95.37216649116,
          95.45160634779876
         ]
        },
        {
         "marker": {
          "color": "#00CC96"
         },
         "name": "li",
         "type": "bar",
         "x": [
          "Salinas_PCA_30_li",
          "Salinas_FastICA_30_li"
         ],
         "y": [
          95.83402612278076,
          20.512109959541096
         ]
        },
        {
         "marker": {
          "color": "#AB63FA"
         },
         "name": "paoletti",
         "type": "bar",
         "x": [
          "Salinas_PCA_30_paoletti",
          "Salinas_FastICA_30_paoletti"
         ],
         "y": [
          90.45798001071516,
          93.82216556744076
         ]
        }
       ],
       "layout": {
        "barmode": "group",
        "showlegend": true,
        "template": {
         "data": {
          "bar": [
           {
            "error_x": {
             "color": "#2a3f5f"
            },
            "error_y": {
             "color": "#2a3f5f"
            },
            "marker": {
             "line": {
              "color": "#E5ECF6",
              "width": 0.5
             },
             "pattern": {
              "fillmode": "overlay",
              "size": 10,
              "solidity": 0.2
             }
            },
            "type": "bar"
           }
          ],
          "barpolar": [
           {
            "marker": {
             "line": {
              "color": "#E5ECF6",
              "width": 0.5
             },
             "pattern": {
              "fillmode": "overlay",
              "size": 10,
              "solidity": 0.2
             }
            },
            "type": "barpolar"
           }
          ],
          "carpet": [
           {
            "aaxis": {
             "endlinecolor": "#2a3f5f",
             "gridcolor": "white",
             "linecolor": "white",
             "minorgridcolor": "white",
             "startlinecolor": "#2a3f5f"
            },
            "baxis": {
             "endlinecolor": "#2a3f5f",
             "gridcolor": "white",
             "linecolor": "white",
             "minorgridcolor": "white",
             "startlinecolor": "#2a3f5f"
            },
            "type": "carpet"
           }
          ],
          "choropleth": [
           {
            "colorbar": {
             "outlinewidth": 0,
             "ticks": ""
            },
            "type": "choropleth"
           }
          ],
          "contour": [
           {
            "colorbar": {
             "outlinewidth": 0,
             "ticks": ""
            },
            "colorscale": [
             [
              0,
              "#0d0887"
             ],
             [
              0.1111111111111111,
              "#46039f"
             ],
             [
              0.2222222222222222,
              "#7201a8"
             ],
             [
              0.3333333333333333,
              "#9c179e"
             ],
             [
              0.4444444444444444,
              "#bd3786"
             ],
             [
              0.5555555555555556,
              "#d8576b"
             ],
             [
              0.6666666666666666,
              "#ed7953"
             ],
             [
              0.7777777777777778,
              "#fb9f3a"
             ],
             [
              0.8888888888888888,
              "#fdca26"
             ],
             [
              1,
              "#f0f921"
             ]
            ],
            "type": "contour"
           }
          ],
          "contourcarpet": [
           {
            "colorbar": {
             "outlinewidth": 0,
             "ticks": ""
            },
            "type": "contourcarpet"
           }
          ],
          "heatmap": [
           {
            "colorbar": {
             "outlinewidth": 0,
             "ticks": ""
            },
            "colorscale": [
             [
              0,
              "#0d0887"
             ],
             [
              0.1111111111111111,
              "#46039f"
             ],
             [
              0.2222222222222222,
              "#7201a8"
             ],
             [
              0.3333333333333333,
              "#9c179e"
             ],
             [
              0.4444444444444444,
              "#bd3786"
             ],
             [
              0.5555555555555556,
              "#d8576b"
             ],
             [
              0.6666666666666666,
              "#ed7953"
             ],
             [
              0.7777777777777778,
              "#fb9f3a"
             ],
             [
              0.8888888888888888,
              "#fdca26"
             ],
             [
              1,
              "#f0f921"
             ]
            ],
            "type": "heatmap"
           }
          ],
          "heatmapgl": [
           {
            "colorbar": {
             "outlinewidth": 0,
             "ticks": ""
            },
            "colorscale": [
             [
              0,
              "#0d0887"
             ],
             [
              0.1111111111111111,
              "#46039f"
             ],
             [
              0.2222222222222222,
              "#7201a8"
             ],
             [
              0.3333333333333333,
              "#9c179e"
             ],
             [
              0.4444444444444444,
              "#bd3786"
             ],
             [
              0.5555555555555556,
              "#d8576b"
             ],
             [
              0.6666666666666666,
              "#ed7953"
             ],
             [
              0.7777777777777778,
              "#fb9f3a"
             ],
             [
              0.8888888888888888,
              "#fdca26"
             ],
             [
              1,
              "#f0f921"
             ]
            ],
            "type": "heatmapgl"
           }
          ],
          "histogram": [
           {
            "marker": {
             "pattern": {
              "fillmode": "overlay",
              "size": 10,
              "solidity": 0.2
             }
            },
            "type": "histogram"
           }
          ],
          "histogram2d": [
           {
            "colorbar": {
             "outlinewidth": 0,
             "ticks": ""
            },
            "colorscale": [
             [
              0,
              "#0d0887"
             ],
             [
              0.1111111111111111,
              "#46039f"
             ],
             [
              0.2222222222222222,
              "#7201a8"
             ],
             [
              0.3333333333333333,
              "#9c179e"
             ],
             [
              0.4444444444444444,
              "#bd3786"
             ],
             [
              0.5555555555555556,
              "#d8576b"
             ],
             [
              0.6666666666666666,
              "#ed7953"
             ],
             [
              0.7777777777777778,
              "#fb9f3a"
             ],
             [
              0.8888888888888888,
              "#fdca26"
             ],
             [
              1,
              "#f0f921"
             ]
            ],
            "type": "histogram2d"
           }
          ],
          "histogram2dcontour": [
           {
            "colorbar": {
             "outlinewidth": 0,
             "ticks": ""
            },
            "colorscale": [
             [
              0,
              "#0d0887"
             ],
             [
              0.1111111111111111,
              "#46039f"
             ],
             [
              0.2222222222222222,
              "#7201a8"
             ],
             [
              0.3333333333333333,
              "#9c179e"
             ],
             [
              0.4444444444444444,
              "#bd3786"
             ],
             [
              0.5555555555555556,
              "#d8576b"
             ],
             [
              0.6666666666666666,
              "#ed7953"
             ],
             [
              0.7777777777777778,
              "#fb9f3a"
             ],
             [
              0.8888888888888888,
              "#fdca26"
             ],
             [
              1,
              "#f0f921"
             ]
            ],
            "type": "histogram2dcontour"
           }
          ],
          "mesh3d": [
           {
            "colorbar": {
             "outlinewidth": 0,
             "ticks": ""
            },
            "type": "mesh3d"
           }
          ],
          "parcoords": [
           {
            "line": {
             "colorbar": {
              "outlinewidth": 0,
              "ticks": ""
             }
            },
            "type": "parcoords"
           }
          ],
          "pie": [
           {
            "automargin": true,
            "type": "pie"
           }
          ],
          "scatter": [
           {
            "fillpattern": {
             "fillmode": "overlay",
             "size": 10,
             "solidity": 0.2
            },
            "type": "scatter"
           }
          ],
          "scatter3d": [
           {
            "line": {
             "colorbar": {
              "outlinewidth": 0,
              "ticks": ""
             }
            },
            "marker": {
             "colorbar": {
              "outlinewidth": 0,
              "ticks": ""
             }
            },
            "type": "scatter3d"
           }
          ],
          "scattercarpet": [
           {
            "marker": {
             "colorbar": {
              "outlinewidth": 0,
              "ticks": ""
             }
            },
            "type": "scattercarpet"
           }
          ],
          "scattergeo": [
           {
            "marker": {
             "colorbar": {
              "outlinewidth": 0,
              "ticks": ""
             }
            },
            "type": "scattergeo"
           }
          ],
          "scattergl": [
           {
            "marker": {
             "colorbar": {
              "outlinewidth": 0,
              "ticks": ""
             }
            },
            "type": "scattergl"
           }
          ],
          "scattermapbox": [
           {
            "marker": {
             "colorbar": {
              "outlinewidth": 0,
              "ticks": ""
             }
            },
            "type": "scattermapbox"
           }
          ],
          "scatterpolar": [
           {
            "marker": {
             "colorbar": {
              "outlinewidth": 0,
              "ticks": ""
             }
            },
            "type": "scatterpolar"
           }
          ],
          "scatterpolargl": [
           {
            "marker": {
             "colorbar": {
              "outlinewidth": 0,
              "ticks": ""
             }
            },
            "type": "scatterpolargl"
           }
          ],
          "scatterternary": [
           {
            "marker": {
             "colorbar": {
              "outlinewidth": 0,
              "ticks": ""
             }
            },
            "type": "scatterternary"
           }
          ],
          "surface": [
           {
            "colorbar": {
             "outlinewidth": 0,
             "ticks": ""
            },
            "colorscale": [
             [
              0,
              "#0d0887"
             ],
             [
              0.1111111111111111,
              "#46039f"
             ],
             [
              0.2222222222222222,
              "#7201a8"
             ],
             [
              0.3333333333333333,
              "#9c179e"
             ],
             [
              0.4444444444444444,
              "#bd3786"
             ],
             [
              0.5555555555555556,
              "#d8576b"
             ],
             [
              0.6666666666666666,
              "#ed7953"
             ],
             [
              0.7777777777777778,
              "#fb9f3a"
             ],
             [
              0.8888888888888888,
              "#fdca26"
             ],
             [
              1,
              "#f0f921"
             ]
            ],
            "type": "surface"
           }
          ],
          "table": [
           {
            "cells": {
             "fill": {
              "color": "#EBF0F8"
             },
             "line": {
              "color": "white"
             }
            },
            "header": {
             "fill": {
              "color": "#C8D4E3"
             },
             "line": {
              "color": "white"
             }
            },
            "type": "table"
           }
          ]
         },
         "layout": {
          "annotationdefaults": {
           "arrowcolor": "#2a3f5f",
           "arrowhead": 0,
           "arrowwidth": 1
          },
          "autotypenumbers": "strict",
          "coloraxis": {
           "colorbar": {
            "outlinewidth": 0,
            "ticks": ""
           }
          },
          "colorscale": {
           "diverging": [
            [
             0,
             "#8e0152"
            ],
            [
             0.1,
             "#c51b7d"
            ],
            [
             0.2,
             "#de77ae"
            ],
            [
             0.3,
             "#f1b6da"
            ],
            [
             0.4,
             "#fde0ef"
            ],
            [
             0.5,
             "#f7f7f7"
            ],
            [
             0.6,
             "#e6f5d0"
            ],
            [
             0.7,
             "#b8e186"
            ],
            [
             0.8,
             "#7fbc41"
            ],
            [
             0.9,
             "#4d9221"
            ],
            [
             1,
             "#276419"
            ]
           ],
           "sequential": [
            [
             0,
             "#0d0887"
            ],
            [
             0.1111111111111111,
             "#46039f"
            ],
            [
             0.2222222222222222,
             "#7201a8"
            ],
            [
             0.3333333333333333,
             "#9c179e"
            ],
            [
             0.4444444444444444,
             "#bd3786"
            ],
            [
             0.5555555555555556,
             "#d8576b"
            ],
            [
             0.6666666666666666,
             "#ed7953"
            ],
            [
             0.7777777777777778,
             "#fb9f3a"
            ],
            [
             0.8888888888888888,
             "#fdca26"
            ],
            [
             1,
             "#f0f921"
            ]
           ],
           "sequentialminus": [
            [
             0,
             "#0d0887"
            ],
            [
             0.1111111111111111,
             "#46039f"
            ],
            [
             0.2222222222222222,
             "#7201a8"
            ],
            [
             0.3333333333333333,
             "#9c179e"
            ],
            [
             0.4444444444444444,
             "#bd3786"
            ],
            [
             0.5555555555555556,
             "#d8576b"
            ],
            [
             0.6666666666666666,
             "#ed7953"
            ],
            [
             0.7777777777777778,
             "#fb9f3a"
            ],
            [
             0.8888888888888888,
             "#fdca26"
            ],
            [
             1,
             "#f0f921"
            ]
           ]
          },
          "colorway": [
           "#636efa",
           "#EF553B",
           "#00cc96",
           "#ab63fa",
           "#FFA15A",
           "#19d3f3",
           "#FF6692",
           "#B6E880",
           "#FF97FF",
           "#FECB52"
          ],
          "font": {
           "color": "#2a3f5f"
          },
          "geo": {
           "bgcolor": "white",
           "lakecolor": "white",
           "landcolor": "#E5ECF6",
           "showlakes": true,
           "showland": true,
           "subunitcolor": "white"
          },
          "hoverlabel": {
           "align": "left"
          },
          "hovermode": "closest",
          "mapbox": {
           "style": "light"
          },
          "paper_bgcolor": "white",
          "plot_bgcolor": "#E5ECF6",
          "polar": {
           "angularaxis": {
            "gridcolor": "white",
            "linecolor": "white",
            "ticks": ""
           },
           "bgcolor": "#E5ECF6",
           "radialaxis": {
            "gridcolor": "white",
            "linecolor": "white",
            "ticks": ""
           }
          },
          "scene": {
           "xaxis": {
            "backgroundcolor": "#E5ECF6",
            "gridcolor": "white",
            "gridwidth": 2,
            "linecolor": "white",
            "showbackground": true,
            "ticks": "",
            "zerolinecolor": "white"
           },
           "yaxis": {
            "backgroundcolor": "#E5ECF6",
            "gridcolor": "white",
            "gridwidth": 2,
            "linecolor": "white",
            "showbackground": true,
            "ticks": "",
            "zerolinecolor": "white"
           },
           "zaxis": {
            "backgroundcolor": "#E5ECF6",
            "gridcolor": "white",
            "gridwidth": 2,
            "linecolor": "white",
            "showbackground": true,
            "ticks": "",
            "zerolinecolor": "white"
           }
          },
          "shapedefaults": {
           "line": {
            "color": "#2a3f5f"
           }
          },
          "ternary": {
           "aaxis": {
            "gridcolor": "white",
            "linecolor": "white",
            "ticks": ""
           },
           "baxis": {
            "gridcolor": "white",
            "linecolor": "white",
            "ticks": ""
           },
           "bgcolor": "#E5ECF6",
           "caxis": {
            "gridcolor": "white",
            "linecolor": "white",
            "ticks": ""
           }
          },
          "title": {
           "x": 0.05
          },
          "xaxis": {
           "automargin": true,
           "gridcolor": "white",
           "linecolor": "white",
           "ticks": "",
           "title": {
            "standoff": 15
           },
           "zerolinecolor": "white",
           "zerolinewidth": 2
          },
          "yaxis": {
           "automargin": true,
           "gridcolor": "white",
           "linecolor": "white",
           "ticks": "",
           "title": {
            "standoff": 15
           },
           "zerolinecolor": "white",
           "zerolinewidth": 2
          }
         }
        },
        "title": {
         "text": "Accuracies of Different Models"
        },
        "xaxis": {
         "title": {
          "text": "Experiment"
         }
        },
        "yaxis": {
         "range": [
          0,
          100
         ],
         "title": {
          "text": "Accuracy (%)"
         }
        }
       }
      }
     },
     "metadata": {},
     "output_type": "display_data"
    }
   ],
   "source": [
    "ds = 'Salinas'\n",
    "n_comps = 30\n",
    "\n",
    "plot_acc_by_model(df_results[(df_results['Dataset'] == ds) \n",
    "                & (df_results['N Components'] == n_comps)])"
   ]
  },
  {
   "cell_type": "markdown",
   "metadata": {},
   "source": [
    "## F1 SCORES"
   ]
  },
  {
   "cell_type": "code",
   "execution_count": 10,
   "metadata": {},
   "outputs": [
    {
     "data": {
      "application/vnd.plotly.v1+json": {
       "config": {
        "plotlyServerURL": "https://plot.ly"
       },
       "data": [
        {
         "name": "IndianPines_PCA_8_mou",
         "type": "bar",
         "x": [
          "Undefined",
          "Alfalfa",
          "Corn-notill",
          "Corn-mintill",
          "Corn",
          "Grass-pasture",
          "Grass-trees",
          "Grass-pasture-mowed",
          "Hay-windrowed",
          "Oats",
          "Soybean-notill",
          "Soybean-mintill",
          "Soybean-clean",
          "Wheat",
          "Woods",
          "Buildings-Grass-Trees-Drives",
          "Stone-Steel-Towers"
         ],
         "y": [
          0,
          0.5833333333333334,
          0.6258023106546855,
          0.6130268199233716,
          0.6313645621181263,
          0.5574572127139364,
          0.8751560549313359,
          0.711864406779661,
          0.9536560247167868,
          0,
          0.708768267223382,
          0.7641876664617906,
          0.40904198062432723,
          0.8666666666666667,
          0.8758568164508759,
          0.44814814814814813,
          0.978494623655914
         ]
        },
        {
         "name": "IndianPines_PCA_8_hamida",
         "type": "bar",
         "x": [
          "Undefined",
          "Alfalfa",
          "Corn-notill",
          "Corn-mintill",
          "Corn",
          "Grass-pasture",
          "Grass-trees",
          "Grass-pasture-mowed",
          "Hay-windrowed",
          "Oats",
          "Soybean-notill",
          "Soybean-mintill",
          "Soybean-clean",
          "Wheat",
          "Woods",
          "Buildings-Grass-Trees-Drives",
          "Stone-Steel-Towers"
         ],
         "y": [
          0,
          0.7567567567567568,
          0.9403141361256544,
          0.9110275689223057,
          0.9461077844311377,
          0.9128540305010894,
          0.9965682910089224,
          0.5641025641025641,
          0.9795081967213115,
          0.9743589743589743,
          0.9644351464435147,
          0.9494991652754591,
          0.9346733668341709,
          0.9753694581280788,
          0.9778296382730455,
          0.8133704735376045,
          0.9945945945945946
         ]
        },
        {
         "name": "IndianPines_PCA_8_li",
         "type": "bar",
         "x": [
          "Undefined",
          "Alfalfa",
          "Corn-notill",
          "Corn-mintill",
          "Corn",
          "Grass-pasture",
          "Grass-trees",
          "Grass-pasture-mowed",
          "Hay-windrowed",
          "Oats",
          "Soybean-notill",
          "Soybean-mintill",
          "Soybean-clean",
          "Wheat",
          "Woods",
          "Buildings-Grass-Trees-Drives",
          "Stone-Steel-Towers"
         ],
         "y": [
          0,
          1,
          0.8377331925378388,
          0.8640321500334897,
          0.947136563876652,
          0.9336235038084875,
          0.9858203916272789,
          1,
          0.9989550679205852,
          1,
          0.8953252032520326,
          0.8881501759874854,
          0.7952047952047953,
          0.9620253164556962,
          0.98328025477707,
          0.8235294117647058,
          0.9841269841269841
         ]
        },
        {
         "name": "IndianPines_PCA_8_paoletti",
         "type": "bar",
         "x": [
          "Undefined",
          "Alfalfa",
          "Corn-notill",
          "Corn-mintill",
          "Corn",
          "Grass-pasture",
          "Grass-trees",
          "Grass-pasture-mowed",
          "Hay-windrowed",
          "Oats",
          "Soybean-notill",
          "Soybean-mintill",
          "Soybean-clean",
          "Wheat",
          "Woods",
          "Buildings-Grass-Trees-Drives",
          "Stone-Steel-Towers"
         ],
         "y": [
          0,
          0.6274509803921569,
          0.582398912674142,
          0.3397212543554007,
          0.6278481012658228,
          0.7963386727688787,
          0.9215557020435069,
          0.45454545454545453,
          0.9583756345177665,
          0.32,
          0.651010376843255,
          0.7034339229968782,
          0.29871645274212366,
          0.9211822660098522,
          0.9463527595522964,
          0.59375,
          0.9726775956284153
         ]
        },
        {
         "name": "IndianPines_PCA_15_mou",
         "type": "bar",
         "x": [
          "Undefined",
          "Alfalfa",
          "Corn-notill",
          "Corn-mintill",
          "Corn",
          "Grass-pasture",
          "Grass-trees",
          "Grass-pasture-mowed",
          "Hay-windrowed",
          "Oats",
          "Soybean-notill",
          "Soybean-mintill",
          "Soybean-clean",
          "Wheat",
          "Woods",
          "Buildings-Grass-Trees-Drives",
          "Stone-Steel-Towers"
         ],
         "y": [
          0,
          0.345679012345679,
          0.6813348001466814,
          0.4447924823805795,
          0.5418502202643172,
          0.6723646723646723,
          0.781127129750983,
          0,
          0.8584643848288621,
          0.3076923076923077,
          0.7169811320754716,
          0.7232193463064425,
          0.3759733036707453,
          0.690176322418136,
          0.8811298548450373,
          0.24498886414253898,
          0.9378531073446328
         ]
        },
        {
         "name": "IndianPines_PCA_15_hamida",
         "type": "bar",
         "x": [
          "Undefined",
          "Alfalfa",
          "Corn-notill",
          "Corn-mintill",
          "Corn",
          "Grass-pasture",
          "Grass-trees",
          "Grass-pasture-mowed",
          "Hay-windrowed",
          "Oats",
          "Soybean-notill",
          "Soybean-mintill",
          "Soybean-clean",
          "Wheat",
          "Woods",
          "Buildings-Grass-Trees-Drives",
          "Stone-Steel-Towers"
         ],
         "y": [
          0,
          0.989010989010989,
          0.98698557861414,
          0.9366286438529785,
          0.9915254237288136,
          0.967948717948718,
          1,
          1,
          0.9989550679205852,
          1,
          0.9881382155750387,
          0.9790468364831553,
          0.9872557349192863,
          1,
          0.9964356435643564,
          0.8851063829787233,
          1
         ]
        },
        {
         "name": "IndianPines_PCA_15_li",
         "type": "bar",
         "x": [
          "Undefined",
          "Alfalfa",
          "Corn-notill",
          "Corn-mintill",
          "Corn",
          "Grass-pasture",
          "Grass-trees",
          "Grass-pasture-mowed",
          "Hay-windrowed",
          "Oats",
          "Soybean-notill",
          "Soybean-mintill",
          "Soybean-clean",
          "Wheat",
          "Woods",
          "Buildings-Grass-Trees-Drives",
          "Stone-Steel-Towers"
         ],
         "y": [
          0,
          1,
          0.8056726715216558,
          0.7773386034255599,
          0.9469026548672567,
          0.9433155080213904,
          0.9904371584699454,
          1,
          0.9979123173277662,
          0.9743589743589743,
          0.7617328519855595,
          0.8538906512409031,
          0.8524332810047096,
          1,
          0.9822904368358913,
          0.8563134978229318,
          0.9945945945945946
         ]
        },
        {
         "name": "IndianPines_PCA_15_paoletti",
         "type": "bar",
         "x": [
          "Undefined",
          "Alfalfa",
          "Corn-notill",
          "Corn-mintill",
          "Corn",
          "Grass-pasture",
          "Grass-trees",
          "Grass-pasture-mowed",
          "Hay-windrowed",
          "Oats",
          "Soybean-notill",
          "Soybean-mintill",
          "Soybean-clean",
          "Wheat",
          "Woods",
          "Buildings-Grass-Trees-Drives",
          "Stone-Steel-Towers"
         ],
         "y": [
          0,
          0.2857142857142857,
          0.5578099838969404,
          0.3554817275747508,
          0.5791505791505791,
          0.5634178905206942,
          0.916396629941672,
          0.3018867924528302,
          0.9164969450101833,
          0,
          0.6222466960352423,
          0.6935181715998502,
          0.35414301929625425,
          0.8436830835117773,
          0.8947750362844702,
          0.4825174825174825,
          0.9836065573770492
         ]
        },
        {
         "name": "IndianPines_PCA_30_mou",
         "type": "bar",
         "x": [
          "Undefined",
          "Alfalfa",
          "Corn-notill",
          "Corn-mintill",
          "Corn",
          "Grass-pasture",
          "Grass-trees",
          "Grass-pasture-mowed",
          "Hay-windrowed",
          "Oats",
          "Soybean-notill",
          "Soybean-mintill",
          "Soybean-clean",
          "Wheat",
          "Woods",
          "Buildings-Grass-Trees-Drives",
          "Stone-Steel-Towers"
         ],
         "y": [
          0,
          0.4444444444444444,
          0.48086991542488927,
          0.14345991561181434,
          0.5316455696202531,
          0.46745562130177515,
          0.8760124610591901,
          0.10256410256410256,
          0.9168278529980658,
          0.2608695652173913,
          0.4669909659485754,
          0.6638388123011665,
          0.37731733914940024,
          0.8214285714285714,
          0.8748221906116643,
          0.28688524590163933,
          0.9608938547486033
         ]
        },
        {
         "name": "IndianPines_PCA_30_hamida",
         "type": "bar",
         "x": [
          "Undefined",
          "Alfalfa",
          "Corn-notill",
          "Corn-mintill",
          "Corn",
          "Grass-pasture",
          "Grass-trees",
          "Grass-pasture-mowed",
          "Hay-windrowed",
          "Oats",
          "Soybean-notill",
          "Soybean-mintill",
          "Soybean-clean",
          "Wheat",
          "Woods",
          "Buildings-Grass-Trees-Drives",
          "Stone-Steel-Towers"
         ],
         "y": [
          0,
          1,
          0.9964985994397759,
          0.9426751592356688,
          1,
          0.9668449197860962,
          1,
          1,
          1,
          1,
          0.9963711767755313,
          0.9827373612823674,
          0.9906542056074766,
          1,
          0.9984214680347278,
          0.8923959827833573,
          1
         ]
        },
        {
         "name": "IndianPines_PCA_30_li",
         "type": "bar",
         "x": [
          "Undefined",
          "Alfalfa",
          "Corn-notill",
          "Corn-mintill",
          "Corn",
          "Grass-pasture",
          "Grass-trees",
          "Grass-pasture-mowed",
          "Hay-windrowed",
          "Oats",
          "Soybean-notill",
          "Soybean-mintill",
          "Soybean-clean",
          "Wheat",
          "Woods",
          "Buildings-Grass-Trees-Drives",
          "Stone-Steel-Towers"
         ],
         "y": [
          0,
          0,
          0,
          0,
          0,
          0,
          0,
          0,
          0,
          0,
          0,
          0.38428789461000884,
          0,
          0,
          0,
          0,
          0
         ]
        },
        {
         "name": "IndianPines_PCA_30_paoletti",
         "type": "bar",
         "x": [
          "Undefined",
          "Alfalfa",
          "Corn-notill",
          "Corn-mintill",
          "Corn",
          "Grass-pasture",
          "Grass-trees",
          "Grass-pasture-mowed",
          "Hay-windrowed",
          "Oats",
          "Soybean-notill",
          "Soybean-mintill",
          "Soybean-clean",
          "Wheat",
          "Woods",
          "Buildings-Grass-Trees-Drives",
          "Stone-Steel-Towers"
         ],
         "y": [
          0,
          0.31746031746031744,
          0.5379639087504257,
          0.09331919406150584,
          0.5214626391096979,
          0.677734375,
          0.8774113254511512,
          0,
          0.8916116870876531,
          0,
          0.5397030342156229,
          0.6703391289378551,
          0.36108324974924777,
          0.831353919239905,
          0.8849125660837739,
          0.41941747572815535,
          0.9666666666666667
         ]
        }
       ],
       "layout": {
        "barmode": "group",
        "template": {
         "data": {
          "bar": [
           {
            "error_x": {
             "color": "#2a3f5f"
            },
            "error_y": {
             "color": "#2a3f5f"
            },
            "marker": {
             "line": {
              "color": "#E5ECF6",
              "width": 0.5
             },
             "pattern": {
              "fillmode": "overlay",
              "size": 10,
              "solidity": 0.2
             }
            },
            "type": "bar"
           }
          ],
          "barpolar": [
           {
            "marker": {
             "line": {
              "color": "#E5ECF6",
              "width": 0.5
             },
             "pattern": {
              "fillmode": "overlay",
              "size": 10,
              "solidity": 0.2
             }
            },
            "type": "barpolar"
           }
          ],
          "carpet": [
           {
            "aaxis": {
             "endlinecolor": "#2a3f5f",
             "gridcolor": "white",
             "linecolor": "white",
             "minorgridcolor": "white",
             "startlinecolor": "#2a3f5f"
            },
            "baxis": {
             "endlinecolor": "#2a3f5f",
             "gridcolor": "white",
             "linecolor": "white",
             "minorgridcolor": "white",
             "startlinecolor": "#2a3f5f"
            },
            "type": "carpet"
           }
          ],
          "choropleth": [
           {
            "colorbar": {
             "outlinewidth": 0,
             "ticks": ""
            },
            "type": "choropleth"
           }
          ],
          "contour": [
           {
            "colorbar": {
             "outlinewidth": 0,
             "ticks": ""
            },
            "colorscale": [
             [
              0,
              "#0d0887"
             ],
             [
              0.1111111111111111,
              "#46039f"
             ],
             [
              0.2222222222222222,
              "#7201a8"
             ],
             [
              0.3333333333333333,
              "#9c179e"
             ],
             [
              0.4444444444444444,
              "#bd3786"
             ],
             [
              0.5555555555555556,
              "#d8576b"
             ],
             [
              0.6666666666666666,
              "#ed7953"
             ],
             [
              0.7777777777777778,
              "#fb9f3a"
             ],
             [
              0.8888888888888888,
              "#fdca26"
             ],
             [
              1,
              "#f0f921"
             ]
            ],
            "type": "contour"
           }
          ],
          "contourcarpet": [
           {
            "colorbar": {
             "outlinewidth": 0,
             "ticks": ""
            },
            "type": "contourcarpet"
           }
          ],
          "heatmap": [
           {
            "colorbar": {
             "outlinewidth": 0,
             "ticks": ""
            },
            "colorscale": [
             [
              0,
              "#0d0887"
             ],
             [
              0.1111111111111111,
              "#46039f"
             ],
             [
              0.2222222222222222,
              "#7201a8"
             ],
             [
              0.3333333333333333,
              "#9c179e"
             ],
             [
              0.4444444444444444,
              "#bd3786"
             ],
             [
              0.5555555555555556,
              "#d8576b"
             ],
             [
              0.6666666666666666,
              "#ed7953"
             ],
             [
              0.7777777777777778,
              "#fb9f3a"
             ],
             [
              0.8888888888888888,
              "#fdca26"
             ],
             [
              1,
              "#f0f921"
             ]
            ],
            "type": "heatmap"
           }
          ],
          "heatmapgl": [
           {
            "colorbar": {
             "outlinewidth": 0,
             "ticks": ""
            },
            "colorscale": [
             [
              0,
              "#0d0887"
             ],
             [
              0.1111111111111111,
              "#46039f"
             ],
             [
              0.2222222222222222,
              "#7201a8"
             ],
             [
              0.3333333333333333,
              "#9c179e"
             ],
             [
              0.4444444444444444,
              "#bd3786"
             ],
             [
              0.5555555555555556,
              "#d8576b"
             ],
             [
              0.6666666666666666,
              "#ed7953"
             ],
             [
              0.7777777777777778,
              "#fb9f3a"
             ],
             [
              0.8888888888888888,
              "#fdca26"
             ],
             [
              1,
              "#f0f921"
             ]
            ],
            "type": "heatmapgl"
           }
          ],
          "histogram": [
           {
            "marker": {
             "pattern": {
              "fillmode": "overlay",
              "size": 10,
              "solidity": 0.2
             }
            },
            "type": "histogram"
           }
          ],
          "histogram2d": [
           {
            "colorbar": {
             "outlinewidth": 0,
             "ticks": ""
            },
            "colorscale": [
             [
              0,
              "#0d0887"
             ],
             [
              0.1111111111111111,
              "#46039f"
             ],
             [
              0.2222222222222222,
              "#7201a8"
             ],
             [
              0.3333333333333333,
              "#9c179e"
             ],
             [
              0.4444444444444444,
              "#bd3786"
             ],
             [
              0.5555555555555556,
              "#d8576b"
             ],
             [
              0.6666666666666666,
              "#ed7953"
             ],
             [
              0.7777777777777778,
              "#fb9f3a"
             ],
             [
              0.8888888888888888,
              "#fdca26"
             ],
             [
              1,
              "#f0f921"
             ]
            ],
            "type": "histogram2d"
           }
          ],
          "histogram2dcontour": [
           {
            "colorbar": {
             "outlinewidth": 0,
             "ticks": ""
            },
            "colorscale": [
             [
              0,
              "#0d0887"
             ],
             [
              0.1111111111111111,
              "#46039f"
             ],
             [
              0.2222222222222222,
              "#7201a8"
             ],
             [
              0.3333333333333333,
              "#9c179e"
             ],
             [
              0.4444444444444444,
              "#bd3786"
             ],
             [
              0.5555555555555556,
              "#d8576b"
             ],
             [
              0.6666666666666666,
              "#ed7953"
             ],
             [
              0.7777777777777778,
              "#fb9f3a"
             ],
             [
              0.8888888888888888,
              "#fdca26"
             ],
             [
              1,
              "#f0f921"
             ]
            ],
            "type": "histogram2dcontour"
           }
          ],
          "mesh3d": [
           {
            "colorbar": {
             "outlinewidth": 0,
             "ticks": ""
            },
            "type": "mesh3d"
           }
          ],
          "parcoords": [
           {
            "line": {
             "colorbar": {
              "outlinewidth": 0,
              "ticks": ""
             }
            },
            "type": "parcoords"
           }
          ],
          "pie": [
           {
            "automargin": true,
            "type": "pie"
           }
          ],
          "scatter": [
           {
            "fillpattern": {
             "fillmode": "overlay",
             "size": 10,
             "solidity": 0.2
            },
            "type": "scatter"
           }
          ],
          "scatter3d": [
           {
            "line": {
             "colorbar": {
              "outlinewidth": 0,
              "ticks": ""
             }
            },
            "marker": {
             "colorbar": {
              "outlinewidth": 0,
              "ticks": ""
             }
            },
            "type": "scatter3d"
           }
          ],
          "scattercarpet": [
           {
            "marker": {
             "colorbar": {
              "outlinewidth": 0,
              "ticks": ""
             }
            },
            "type": "scattercarpet"
           }
          ],
          "scattergeo": [
           {
            "marker": {
             "colorbar": {
              "outlinewidth": 0,
              "ticks": ""
             }
            },
            "type": "scattergeo"
           }
          ],
          "scattergl": [
           {
            "marker": {
             "colorbar": {
              "outlinewidth": 0,
              "ticks": ""
             }
            },
            "type": "scattergl"
           }
          ],
          "scattermapbox": [
           {
            "marker": {
             "colorbar": {
              "outlinewidth": 0,
              "ticks": ""
             }
            },
            "type": "scattermapbox"
           }
          ],
          "scatterpolar": [
           {
            "marker": {
             "colorbar": {
              "outlinewidth": 0,
              "ticks": ""
             }
            },
            "type": "scatterpolar"
           }
          ],
          "scatterpolargl": [
           {
            "marker": {
             "colorbar": {
              "outlinewidth": 0,
              "ticks": ""
             }
            },
            "type": "scatterpolargl"
           }
          ],
          "scatterternary": [
           {
            "marker": {
             "colorbar": {
              "outlinewidth": 0,
              "ticks": ""
             }
            },
            "type": "scatterternary"
           }
          ],
          "surface": [
           {
            "colorbar": {
             "outlinewidth": 0,
             "ticks": ""
            },
            "colorscale": [
             [
              0,
              "#0d0887"
             ],
             [
              0.1111111111111111,
              "#46039f"
             ],
             [
              0.2222222222222222,
              "#7201a8"
             ],
             [
              0.3333333333333333,
              "#9c179e"
             ],
             [
              0.4444444444444444,
              "#bd3786"
             ],
             [
              0.5555555555555556,
              "#d8576b"
             ],
             [
              0.6666666666666666,
              "#ed7953"
             ],
             [
              0.7777777777777778,
              "#fb9f3a"
             ],
             [
              0.8888888888888888,
              "#fdca26"
             ],
             [
              1,
              "#f0f921"
             ]
            ],
            "type": "surface"
           }
          ],
          "table": [
           {
            "cells": {
             "fill": {
              "color": "#EBF0F8"
             },
             "line": {
              "color": "white"
             }
            },
            "header": {
             "fill": {
              "color": "#C8D4E3"
             },
             "line": {
              "color": "white"
             }
            },
            "type": "table"
           }
          ]
         },
         "layout": {
          "annotationdefaults": {
           "arrowcolor": "#2a3f5f",
           "arrowhead": 0,
           "arrowwidth": 1
          },
          "autotypenumbers": "strict",
          "coloraxis": {
           "colorbar": {
            "outlinewidth": 0,
            "ticks": ""
           }
          },
          "colorscale": {
           "diverging": [
            [
             0,
             "#8e0152"
            ],
            [
             0.1,
             "#c51b7d"
            ],
            [
             0.2,
             "#de77ae"
            ],
            [
             0.3,
             "#f1b6da"
            ],
            [
             0.4,
             "#fde0ef"
            ],
            [
             0.5,
             "#f7f7f7"
            ],
            [
             0.6,
             "#e6f5d0"
            ],
            [
             0.7,
             "#b8e186"
            ],
            [
             0.8,
             "#7fbc41"
            ],
            [
             0.9,
             "#4d9221"
            ],
            [
             1,
             "#276419"
            ]
           ],
           "sequential": [
            [
             0,
             "#0d0887"
            ],
            [
             0.1111111111111111,
             "#46039f"
            ],
            [
             0.2222222222222222,
             "#7201a8"
            ],
            [
             0.3333333333333333,
             "#9c179e"
            ],
            [
             0.4444444444444444,
             "#bd3786"
            ],
            [
             0.5555555555555556,
             "#d8576b"
            ],
            [
             0.6666666666666666,
             "#ed7953"
            ],
            [
             0.7777777777777778,
             "#fb9f3a"
            ],
            [
             0.8888888888888888,
             "#fdca26"
            ],
            [
             1,
             "#f0f921"
            ]
           ],
           "sequentialminus": [
            [
             0,
             "#0d0887"
            ],
            [
             0.1111111111111111,
             "#46039f"
            ],
            [
             0.2222222222222222,
             "#7201a8"
            ],
            [
             0.3333333333333333,
             "#9c179e"
            ],
            [
             0.4444444444444444,
             "#bd3786"
            ],
            [
             0.5555555555555556,
             "#d8576b"
            ],
            [
             0.6666666666666666,
             "#ed7953"
            ],
            [
             0.7777777777777778,
             "#fb9f3a"
            ],
            [
             0.8888888888888888,
             "#fdca26"
            ],
            [
             1,
             "#f0f921"
            ]
           ]
          },
          "colorway": [
           "#636efa",
           "#EF553B",
           "#00cc96",
           "#ab63fa",
           "#FFA15A",
           "#19d3f3",
           "#FF6692",
           "#B6E880",
           "#FF97FF",
           "#FECB52"
          ],
          "font": {
           "color": "#2a3f5f"
          },
          "geo": {
           "bgcolor": "white",
           "lakecolor": "white",
           "landcolor": "#E5ECF6",
           "showlakes": true,
           "showland": true,
           "subunitcolor": "white"
          },
          "hoverlabel": {
           "align": "left"
          },
          "hovermode": "closest",
          "mapbox": {
           "style": "light"
          },
          "paper_bgcolor": "white",
          "plot_bgcolor": "#E5ECF6",
          "polar": {
           "angularaxis": {
            "gridcolor": "white",
            "linecolor": "white",
            "ticks": ""
           },
           "bgcolor": "#E5ECF6",
           "radialaxis": {
            "gridcolor": "white",
            "linecolor": "white",
            "ticks": ""
           }
          },
          "scene": {
           "xaxis": {
            "backgroundcolor": "#E5ECF6",
            "gridcolor": "white",
            "gridwidth": 2,
            "linecolor": "white",
            "showbackground": true,
            "ticks": "",
            "zerolinecolor": "white"
           },
           "yaxis": {
            "backgroundcolor": "#E5ECF6",
            "gridcolor": "white",
            "gridwidth": 2,
            "linecolor": "white",
            "showbackground": true,
            "ticks": "",
            "zerolinecolor": "white"
           },
           "zaxis": {
            "backgroundcolor": "#E5ECF6",
            "gridcolor": "white",
            "gridwidth": 2,
            "linecolor": "white",
            "showbackground": true,
            "ticks": "",
            "zerolinecolor": "white"
           }
          },
          "shapedefaults": {
           "line": {
            "color": "#2a3f5f"
           }
          },
          "ternary": {
           "aaxis": {
            "gridcolor": "white",
            "linecolor": "white",
            "ticks": ""
           },
           "baxis": {
            "gridcolor": "white",
            "linecolor": "white",
            "ticks": ""
           },
           "bgcolor": "#E5ECF6",
           "caxis": {
            "gridcolor": "white",
            "linecolor": "white",
            "ticks": ""
           }
          },
          "title": {
           "x": 0.05
          },
          "xaxis": {
           "automargin": true,
           "gridcolor": "white",
           "linecolor": "white",
           "ticks": "",
           "title": {
            "standoff": 15
           },
           "zerolinecolor": "white",
           "zerolinewidth": 2
          },
          "yaxis": {
           "automargin": true,
           "gridcolor": "white",
           "linecolor": "white",
           "ticks": "",
           "title": {
            "standoff": 15
           },
           "zerolinecolor": "white",
           "zerolinewidth": 2
          }
         }
        },
        "title": {
         "text": "F1 scores Values by Experiment"
        },
        "xaxis": {
         "title": {
          "text": "Class"
         }
        },
        "yaxis": {
         "title": {
          "text": "F1 scores"
         }
        }
       }
      }
     },
     "metadata": {},
     "output_type": "display_data"
    }
   ],
   "source": [
    "ds = 'IndianPines'\n",
    "dr = 'PCA'\n",
    "plot_grouped_values(df_results[(df_results['Dataset'] == ds) \n",
    "                & (df_results['DR Method'] == dr)], \n",
    "                LABELS[ds],\n",
    "                metric='F1 scores')"
   ]
  },
  {
   "cell_type": "code",
   "execution_count": 11,
   "metadata": {},
   "outputs": [
    {
     "data": {
      "application/vnd.plotly.v1+json": {
       "config": {
        "plotlyServerURL": "https://plot.ly"
       },
       "data": [
        {
         "name": "Salinas_PCA_8_mou",
         "type": "bar",
         "x": [
          "Undefined",
          "Brocoli_green_weeds_1",
          "Brocoli_green_weeds_2",
          "Fallow",
          "Fallow_rough_plow",
          "Fallow_smooth",
          "Stubble",
          "Celery",
          "Grapes_untrained",
          "Soil_vinyard_develop",
          "Corn_senesced_green_weeds",
          "Lettuce_romaine_4wk",
          "Lettuce_romaine_5wk",
          "Lettuce_romaine_6wk",
          "Lettuce_romaine_7wk",
          "Vinyard_untrained",
          "Vinyard_vertical_trellis"
         ],
         "y": [
          0,
          0.9673940949935815,
          0.993193647404244,
          0.9084389194358116,
          0.9795479009687836,
          0.8984189723320158,
          0.9922362224767723,
          0.9757660167130919,
          0.8215123623894603,
          0.978485794054853,
          0.8949840884982573,
          0.8199445983379502,
          0.9389409678236635,
          0.9114315139031925,
          0.9709193245778611,
          0.7615384615384615,
          0.7389229720518065
         ]
        },
        {
         "name": "Salinas_PCA_15_mou",
         "type": "bar",
         "x": [
          "Undefined",
          "Brocoli_green_weeds_1",
          "Brocoli_green_weeds_2",
          "Fallow",
          "Fallow_rough_plow",
          "Fallow_smooth",
          "Stubble",
          "Celery",
          "Grapes_untrained",
          "Soil_vinyard_develop",
          "Corn_senesced_green_weeds",
          "Lettuce_romaine_4wk",
          "Lettuce_romaine_5wk",
          "Lettuce_romaine_6wk",
          "Lettuce_romaine_7wk",
          "Vinyard_untrained",
          "Vinyard_vertical_trellis"
         ],
         "y": [
          0,
          0.9602446483180428,
          0.9885675857431069,
          0.9135096497498213,
          0.9727988546886185,
          0.9336437718277066,
          0.9922362224767723,
          0.9715877437325905,
          0.8187361669452098,
          0.9745442601412383,
          0.8969976905311778,
          0.8041516245487365,
          0.9515508843886183,
          0.9063475546305931,
          0.9664179104477612,
          0.7634883400027598,
          0.7279291106005907
         ]
        },
        {
         "name": "Salinas_PCA_30_mou",
         "type": "bar",
         "x": [
          "Undefined",
          "Brocoli_green_weeds_1",
          "Brocoli_green_weeds_2",
          "Fallow",
          "Fallow_rough_plow",
          "Fallow_smooth",
          "Stubble",
          "Celery",
          "Grapes_untrained",
          "Soil_vinyard_develop",
          "Corn_senesced_green_weeds",
          "Lettuce_romaine_4wk",
          "Lettuce_romaine_5wk",
          "Lettuce_romaine_6wk",
          "Lettuce_romaine_7wk",
          "Vinyard_untrained",
          "Vinyard_vertical_trellis"
         ],
         "y": [
          0,
          0.9520083463745436,
          0.9853723404255319,
          0.9222011385199241,
          0.9806639912440716,
          0.9448757763975155,
          0.9921079429735234,
          0.9638185360423045,
          0.818435383185018,
          0.9672185430463576,
          0.8654736192533169,
          0.7677475898334793,
          0.9391082802547771,
          0.9072164948453608,
          0.9714553111839027,
          0.7543106481807306,
          0.7353815659068385
         ]
        }
       ],
       "layout": {
        "barmode": "group",
        "template": {
         "data": {
          "bar": [
           {
            "error_x": {
             "color": "#2a3f5f"
            },
            "error_y": {
             "color": "#2a3f5f"
            },
            "marker": {
             "line": {
              "color": "#E5ECF6",
              "width": 0.5
             },
             "pattern": {
              "fillmode": "overlay",
              "size": 10,
              "solidity": 0.2
             }
            },
            "type": "bar"
           }
          ],
          "barpolar": [
           {
            "marker": {
             "line": {
              "color": "#E5ECF6",
              "width": 0.5
             },
             "pattern": {
              "fillmode": "overlay",
              "size": 10,
              "solidity": 0.2
             }
            },
            "type": "barpolar"
           }
          ],
          "carpet": [
           {
            "aaxis": {
             "endlinecolor": "#2a3f5f",
             "gridcolor": "white",
             "linecolor": "white",
             "minorgridcolor": "white",
             "startlinecolor": "#2a3f5f"
            },
            "baxis": {
             "endlinecolor": "#2a3f5f",
             "gridcolor": "white",
             "linecolor": "white",
             "minorgridcolor": "white",
             "startlinecolor": "#2a3f5f"
            },
            "type": "carpet"
           }
          ],
          "choropleth": [
           {
            "colorbar": {
             "outlinewidth": 0,
             "ticks": ""
            },
            "type": "choropleth"
           }
          ],
          "contour": [
           {
            "colorbar": {
             "outlinewidth": 0,
             "ticks": ""
            },
            "colorscale": [
             [
              0,
              "#0d0887"
             ],
             [
              0.1111111111111111,
              "#46039f"
             ],
             [
              0.2222222222222222,
              "#7201a8"
             ],
             [
              0.3333333333333333,
              "#9c179e"
             ],
             [
              0.4444444444444444,
              "#bd3786"
             ],
             [
              0.5555555555555556,
              "#d8576b"
             ],
             [
              0.6666666666666666,
              "#ed7953"
             ],
             [
              0.7777777777777778,
              "#fb9f3a"
             ],
             [
              0.8888888888888888,
              "#fdca26"
             ],
             [
              1,
              "#f0f921"
             ]
            ],
            "type": "contour"
           }
          ],
          "contourcarpet": [
           {
            "colorbar": {
             "outlinewidth": 0,
             "ticks": ""
            },
            "type": "contourcarpet"
           }
          ],
          "heatmap": [
           {
            "colorbar": {
             "outlinewidth": 0,
             "ticks": ""
            },
            "colorscale": [
             [
              0,
              "#0d0887"
             ],
             [
              0.1111111111111111,
              "#46039f"
             ],
             [
              0.2222222222222222,
              "#7201a8"
             ],
             [
              0.3333333333333333,
              "#9c179e"
             ],
             [
              0.4444444444444444,
              "#bd3786"
             ],
             [
              0.5555555555555556,
              "#d8576b"
             ],
             [
              0.6666666666666666,
              "#ed7953"
             ],
             [
              0.7777777777777778,
              "#fb9f3a"
             ],
             [
              0.8888888888888888,
              "#fdca26"
             ],
             [
              1,
              "#f0f921"
             ]
            ],
            "type": "heatmap"
           }
          ],
          "heatmapgl": [
           {
            "colorbar": {
             "outlinewidth": 0,
             "ticks": ""
            },
            "colorscale": [
             [
              0,
              "#0d0887"
             ],
             [
              0.1111111111111111,
              "#46039f"
             ],
             [
              0.2222222222222222,
              "#7201a8"
             ],
             [
              0.3333333333333333,
              "#9c179e"
             ],
             [
              0.4444444444444444,
              "#bd3786"
             ],
             [
              0.5555555555555556,
              "#d8576b"
             ],
             [
              0.6666666666666666,
              "#ed7953"
             ],
             [
              0.7777777777777778,
              "#fb9f3a"
             ],
             [
              0.8888888888888888,
              "#fdca26"
             ],
             [
              1,
              "#f0f921"
             ]
            ],
            "type": "heatmapgl"
           }
          ],
          "histogram": [
           {
            "marker": {
             "pattern": {
              "fillmode": "overlay",
              "size": 10,
              "solidity": 0.2
             }
            },
            "type": "histogram"
           }
          ],
          "histogram2d": [
           {
            "colorbar": {
             "outlinewidth": 0,
             "ticks": ""
            },
            "colorscale": [
             [
              0,
              "#0d0887"
             ],
             [
              0.1111111111111111,
              "#46039f"
             ],
             [
              0.2222222222222222,
              "#7201a8"
             ],
             [
              0.3333333333333333,
              "#9c179e"
             ],
             [
              0.4444444444444444,
              "#bd3786"
             ],
             [
              0.5555555555555556,
              "#d8576b"
             ],
             [
              0.6666666666666666,
              "#ed7953"
             ],
             [
              0.7777777777777778,
              "#fb9f3a"
             ],
             [
              0.8888888888888888,
              "#fdca26"
             ],
             [
              1,
              "#f0f921"
             ]
            ],
            "type": "histogram2d"
           }
          ],
          "histogram2dcontour": [
           {
            "colorbar": {
             "outlinewidth": 0,
             "ticks": ""
            },
            "colorscale": [
             [
              0,
              "#0d0887"
             ],
             [
              0.1111111111111111,
              "#46039f"
             ],
             [
              0.2222222222222222,
              "#7201a8"
             ],
             [
              0.3333333333333333,
              "#9c179e"
             ],
             [
              0.4444444444444444,
              "#bd3786"
             ],
             [
              0.5555555555555556,
              "#d8576b"
             ],
             [
              0.6666666666666666,
              "#ed7953"
             ],
             [
              0.7777777777777778,
              "#fb9f3a"
             ],
             [
              0.8888888888888888,
              "#fdca26"
             ],
             [
              1,
              "#f0f921"
             ]
            ],
            "type": "histogram2dcontour"
           }
          ],
          "mesh3d": [
           {
            "colorbar": {
             "outlinewidth": 0,
             "ticks": ""
            },
            "type": "mesh3d"
           }
          ],
          "parcoords": [
           {
            "line": {
             "colorbar": {
              "outlinewidth": 0,
              "ticks": ""
             }
            },
            "type": "parcoords"
           }
          ],
          "pie": [
           {
            "automargin": true,
            "type": "pie"
           }
          ],
          "scatter": [
           {
            "fillpattern": {
             "fillmode": "overlay",
             "size": 10,
             "solidity": 0.2
            },
            "type": "scatter"
           }
          ],
          "scatter3d": [
           {
            "line": {
             "colorbar": {
              "outlinewidth": 0,
              "ticks": ""
             }
            },
            "marker": {
             "colorbar": {
              "outlinewidth": 0,
              "ticks": ""
             }
            },
            "type": "scatter3d"
           }
          ],
          "scattercarpet": [
           {
            "marker": {
             "colorbar": {
              "outlinewidth": 0,
              "ticks": ""
             }
            },
            "type": "scattercarpet"
           }
          ],
          "scattergeo": [
           {
            "marker": {
             "colorbar": {
              "outlinewidth": 0,
              "ticks": ""
             }
            },
            "type": "scattergeo"
           }
          ],
          "scattergl": [
           {
            "marker": {
             "colorbar": {
              "outlinewidth": 0,
              "ticks": ""
             }
            },
            "type": "scattergl"
           }
          ],
          "scattermapbox": [
           {
            "marker": {
             "colorbar": {
              "outlinewidth": 0,
              "ticks": ""
             }
            },
            "type": "scattermapbox"
           }
          ],
          "scatterpolar": [
           {
            "marker": {
             "colorbar": {
              "outlinewidth": 0,
              "ticks": ""
             }
            },
            "type": "scatterpolar"
           }
          ],
          "scatterpolargl": [
           {
            "marker": {
             "colorbar": {
              "outlinewidth": 0,
              "ticks": ""
             }
            },
            "type": "scatterpolargl"
           }
          ],
          "scatterternary": [
           {
            "marker": {
             "colorbar": {
              "outlinewidth": 0,
              "ticks": ""
             }
            },
            "type": "scatterternary"
           }
          ],
          "surface": [
           {
            "colorbar": {
             "outlinewidth": 0,
             "ticks": ""
            },
            "colorscale": [
             [
              0,
              "#0d0887"
             ],
             [
              0.1111111111111111,
              "#46039f"
             ],
             [
              0.2222222222222222,
              "#7201a8"
             ],
             [
              0.3333333333333333,
              "#9c179e"
             ],
             [
              0.4444444444444444,
              "#bd3786"
             ],
             [
              0.5555555555555556,
              "#d8576b"
             ],
             [
              0.6666666666666666,
              "#ed7953"
             ],
             [
              0.7777777777777778,
              "#fb9f3a"
             ],
             [
              0.8888888888888888,
              "#fdca26"
             ],
             [
              1,
              "#f0f921"
             ]
            ],
            "type": "surface"
           }
          ],
          "table": [
           {
            "cells": {
             "fill": {
              "color": "#EBF0F8"
             },
             "line": {
              "color": "white"
             }
            },
            "header": {
             "fill": {
              "color": "#C8D4E3"
             },
             "line": {
              "color": "white"
             }
            },
            "type": "table"
           }
          ]
         },
         "layout": {
          "annotationdefaults": {
           "arrowcolor": "#2a3f5f",
           "arrowhead": 0,
           "arrowwidth": 1
          },
          "autotypenumbers": "strict",
          "coloraxis": {
           "colorbar": {
            "outlinewidth": 0,
            "ticks": ""
           }
          },
          "colorscale": {
           "diverging": [
            [
             0,
             "#8e0152"
            ],
            [
             0.1,
             "#c51b7d"
            ],
            [
             0.2,
             "#de77ae"
            ],
            [
             0.3,
             "#f1b6da"
            ],
            [
             0.4,
             "#fde0ef"
            ],
            [
             0.5,
             "#f7f7f7"
            ],
            [
             0.6,
             "#e6f5d0"
            ],
            [
             0.7,
             "#b8e186"
            ],
            [
             0.8,
             "#7fbc41"
            ],
            [
             0.9,
             "#4d9221"
            ],
            [
             1,
             "#276419"
            ]
           ],
           "sequential": [
            [
             0,
             "#0d0887"
            ],
            [
             0.1111111111111111,
             "#46039f"
            ],
            [
             0.2222222222222222,
             "#7201a8"
            ],
            [
             0.3333333333333333,
             "#9c179e"
            ],
            [
             0.4444444444444444,
             "#bd3786"
            ],
            [
             0.5555555555555556,
             "#d8576b"
            ],
            [
             0.6666666666666666,
             "#ed7953"
            ],
            [
             0.7777777777777778,
             "#fb9f3a"
            ],
            [
             0.8888888888888888,
             "#fdca26"
            ],
            [
             1,
             "#f0f921"
            ]
           ],
           "sequentialminus": [
            [
             0,
             "#0d0887"
            ],
            [
             0.1111111111111111,
             "#46039f"
            ],
            [
             0.2222222222222222,
             "#7201a8"
            ],
            [
             0.3333333333333333,
             "#9c179e"
            ],
            [
             0.4444444444444444,
             "#bd3786"
            ],
            [
             0.5555555555555556,
             "#d8576b"
            ],
            [
             0.6666666666666666,
             "#ed7953"
            ],
            [
             0.7777777777777778,
             "#fb9f3a"
            ],
            [
             0.8888888888888888,
             "#fdca26"
            ],
            [
             1,
             "#f0f921"
            ]
           ]
          },
          "colorway": [
           "#636efa",
           "#EF553B",
           "#00cc96",
           "#ab63fa",
           "#FFA15A",
           "#19d3f3",
           "#FF6692",
           "#B6E880",
           "#FF97FF",
           "#FECB52"
          ],
          "font": {
           "color": "#2a3f5f"
          },
          "geo": {
           "bgcolor": "white",
           "lakecolor": "white",
           "landcolor": "#E5ECF6",
           "showlakes": true,
           "showland": true,
           "subunitcolor": "white"
          },
          "hoverlabel": {
           "align": "left"
          },
          "hovermode": "closest",
          "mapbox": {
           "style": "light"
          },
          "paper_bgcolor": "white",
          "plot_bgcolor": "#E5ECF6",
          "polar": {
           "angularaxis": {
            "gridcolor": "white",
            "linecolor": "white",
            "ticks": ""
           },
           "bgcolor": "#E5ECF6",
           "radialaxis": {
            "gridcolor": "white",
            "linecolor": "white",
            "ticks": ""
           }
          },
          "scene": {
           "xaxis": {
            "backgroundcolor": "#E5ECF6",
            "gridcolor": "white",
            "gridwidth": 2,
            "linecolor": "white",
            "showbackground": true,
            "ticks": "",
            "zerolinecolor": "white"
           },
           "yaxis": {
            "backgroundcolor": "#E5ECF6",
            "gridcolor": "white",
            "gridwidth": 2,
            "linecolor": "white",
            "showbackground": true,
            "ticks": "",
            "zerolinecolor": "white"
           },
           "zaxis": {
            "backgroundcolor": "#E5ECF6",
            "gridcolor": "white",
            "gridwidth": 2,
            "linecolor": "white",
            "showbackground": true,
            "ticks": "",
            "zerolinecolor": "white"
           }
          },
          "shapedefaults": {
           "line": {
            "color": "#2a3f5f"
           }
          },
          "ternary": {
           "aaxis": {
            "gridcolor": "white",
            "linecolor": "white",
            "ticks": ""
           },
           "baxis": {
            "gridcolor": "white",
            "linecolor": "white",
            "ticks": ""
           },
           "bgcolor": "#E5ECF6",
           "caxis": {
            "gridcolor": "white",
            "linecolor": "white",
            "ticks": ""
           }
          },
          "title": {
           "x": 0.05
          },
          "xaxis": {
           "automargin": true,
           "gridcolor": "white",
           "linecolor": "white",
           "ticks": "",
           "title": {
            "standoff": 15
           },
           "zerolinecolor": "white",
           "zerolinewidth": 2
          },
          "yaxis": {
           "automargin": true,
           "gridcolor": "white",
           "linecolor": "white",
           "ticks": "",
           "title": {
            "standoff": 15
           },
           "zerolinecolor": "white",
           "zerolinewidth": 2
          }
         }
        },
        "title": {
         "text": "F1 scores Values by Experiment"
        },
        "xaxis": {
         "title": {
          "text": "Class"
         }
        },
        "yaxis": {
         "title": {
          "text": "F1 scores"
         }
        }
       }
      }
     },
     "metadata": {},
     "output_type": "display_data"
    }
   ],
   "source": [
    "ds = 'Salinas'\n",
    "dr = 'PCA'\n",
    "model = 'mou'\n",
    "plot_grouped_values(df_results[(df_results['Dataset'] == ds) \n",
    "                & (df_results['DR Method'] == dr)\n",
    "                & (df_results['Model'] ==  model)], \n",
    "                LABELS[ds],\n",
    "                metric='F1 scores')"
   ]
  },
  {
   "cell_type": "markdown",
   "metadata": {},
   "source": [
    "## IOU SCORES"
   ]
  },
  {
   "cell_type": "code",
   "execution_count": 12,
   "metadata": {},
   "outputs": [
    {
     "data": {
      "application/vnd.plotly.v1+json": {
       "config": {
        "plotlyServerURL": "https://plot.ly"
       },
       "data": [
        {
         "name": "IndianPines_PCA_8_mou",
         "type": "bar",
         "x": [
          "Undefined",
          "Alfalfa",
          "Corn-notill",
          "Corn-mintill",
          "Corn",
          "Grass-pasture",
          "Grass-trees",
          "Grass-pasture-mowed",
          "Hay-windrowed",
          "Oats",
          "Soybean-notill",
          "Soybean-mintill",
          "Soybean-clean",
          "Wheat",
          "Woods",
          "Buildings-Grass-Trees-Drives",
          "Stone-Steel-Towers"
         ],
         "y": [
          0,
          0.4117647058823529,
          0.45539467538533396,
          0.4419889502762431,
          0.46130952380952384,
          0.3864406779661017,
          0.7780244173140954,
          0.5526315789473685,
          0.9114173228346457,
          0,
          0.5489086499595797,
          0.618368700265252,
          0.2571041948579161,
          0.7647058823529411,
          0.7791327913279132,
          0.28878281622911695,
          0.9578947368421052
         ]
        },
        {
         "name": "IndianPines_PCA_8_hamida",
         "type": "bar",
         "x": [
          "Undefined",
          "Alfalfa",
          "Corn-notill",
          "Corn-mintill",
          "Corn",
          "Grass-pasture",
          "Grass-trees",
          "Grass-pasture-mowed",
          "Hay-windrowed",
          "Oats",
          "Soybean-notill",
          "Soybean-mintill",
          "Soybean-clean",
          "Wheat",
          "Woods",
          "Buildings-Grass-Trees-Drives",
          "Stone-Steel-Towers"
         ],
         "y": [
          0,
          0.6086956521739131,
          0.8873517786561265,
          0.8365937859608745,
          0.8977272727272727,
          0.8396793587174348,
          0.9931600547195623,
          0.39285714285714285,
          0.9598393574297188,
          0.95,
          0.9313131313131313,
          0.9038537941994438,
          0.8773584905660378,
          0.9519230769230769,
          0.95662100456621,
          0.6854460093896714,
          0.989247311827957
         ]
        },
        {
         "name": "IndianPines_PCA_8_li",
         "type": "bar",
         "x": [
          "Undefined",
          "Alfalfa",
          "Corn-notill",
          "Corn-mintill",
          "Corn",
          "Grass-pasture",
          "Grass-trees",
          "Grass-pasture-mowed",
          "Hay-windrowed",
          "Oats",
          "Soybean-notill",
          "Soybean-mintill",
          "Soybean-clean",
          "Wheat",
          "Woods",
          "Buildings-Grass-Trees-Drives",
          "Stone-Steel-Towers"
         ],
         "y": [
          0,
          1,
          0.7207752877044216,
          0.7606132075471698,
          0.899581589958159,
          0.8755102040816326,
          0.9720372836218375,
          1,
          0.9979123173277662,
          1,
          0.8104875804967802,
          0.798804080196975,
          0.6600331674958541,
          0.926829268292683,
          0.9671104150352389,
          0.7,
          0.96875
         ]
        },
        {
         "name": "IndianPines_PCA_8_paoletti",
         "type": "bar",
         "x": [
          "Undefined",
          "Alfalfa",
          "Corn-notill",
          "Corn-mintill",
          "Corn",
          "Grass-pasture",
          "Grass-trees",
          "Grass-pasture-mowed",
          "Hay-windrowed",
          "Oats",
          "Soybean-notill",
          "Soybean-mintill",
          "Soybean-clean",
          "Wheat",
          "Woods",
          "Buildings-Grass-Trees-Drives",
          "Stone-Steel-Towers"
         ],
         "y": [
          0,
          0.45714285714285713,
          0.41083413231064236,
          0.20461699895068206,
          0.4575645756457565,
          0.6615969581749049,
          0.8545232273838631,
          0.29411764705882354,
          0.9200779727095516,
          0.19047619047619047,
          0.4825910931174089,
          0.5425361155698234,
          0.1755829903978052,
          0.8538812785388128,
          0.8981684981684982,
          0.4222222222222222,
          0.9468085106382979
         ]
        },
        {
         "name": "IndianPines_PCA_15_mou",
         "type": "bar",
         "x": [
          "Undefined",
          "Alfalfa",
          "Corn-notill",
          "Corn-mintill",
          "Corn",
          "Grass-pasture",
          "Grass-trees",
          "Grass-pasture-mowed",
          "Hay-windrowed",
          "Oats",
          "Soybean-notill",
          "Soybean-mintill",
          "Soybean-clean",
          "Wheat",
          "Woods",
          "Buildings-Grass-Trees-Drives",
          "Stone-Steel-Towers"
         ],
         "y": [
          0,
          0.208955223880597,
          0.5166852057842046,
          0.28600201409869086,
          0.3716012084592145,
          0.5064377682403434,
          0.6408602150537634,
          0,
          0.7520259319286872,
          0.18181818181818182,
          0.5588235294117647,
          0.566439775081385,
          0.23150684931506849,
          0.5269230769230769,
          0.7875175315568023,
          0.13959390862944163,
          0.8829787234042553
         ]
        },
        {
         "name": "IndianPines_PCA_15_hamida",
         "type": "bar",
         "x": [
          "Undefined",
          "Alfalfa",
          "Corn-notill",
          "Corn-mintill",
          "Corn",
          "Grass-pasture",
          "Grass-trees",
          "Grass-pasture-mowed",
          "Hay-windrowed",
          "Oats",
          "Soybean-notill",
          "Soybean-mintill",
          "Soybean-clean",
          "Wheat",
          "Woods",
          "Buildings-Grass-Trees-Drives",
          "Stone-Steel-Towers"
         ],
         "y": [
          0,
          0.9782608695652174,
          0.9743055555555555,
          0.8808104886769964,
          0.9831932773109243,
          0.937888198757764,
          1,
          1,
          0.9979123173277662,
          1,
          0.9765545361875637,
          0.958953722334004,
          0.9748322147651006,
          1,
          0.9928966061562746,
          0.7938931297709924,
          1
         ]
        },
        {
         "name": "IndianPines_PCA_15_li",
         "type": "bar",
         "x": [
          "Undefined",
          "Alfalfa",
          "Corn-notill",
          "Corn-mintill",
          "Corn",
          "Grass-pasture",
          "Grass-trees",
          "Grass-pasture-mowed",
          "Hay-windrowed",
          "Oats",
          "Soybean-notill",
          "Soybean-mintill",
          "Soybean-clean",
          "Wheat",
          "Woods",
          "Buildings-Grass-Trees-Drives",
          "Stone-Steel-Towers"
         ],
         "y": [
          0,
          1,
          0.6745827984595636,
          0.6357758620689655,
          0.8991596638655462,
          0.8927125506072875,
          0.9810554803788903,
          1,
          0.9958333333333333,
          0.95,
          0.6151603498542274,
          0.7450341908173234,
          0.7428180574555403,
          1,
          0.9651972157772621,
          0.748730964467005,
          0.989247311827957
         ]
        },
        {
         "name": "IndianPines_PCA_15_paoletti",
         "type": "bar",
         "x": [
          "Undefined",
          "Alfalfa",
          "Corn-notill",
          "Corn-mintill",
          "Corn",
          "Grass-pasture",
          "Grass-trees",
          "Grass-pasture-mowed",
          "Hay-windrowed",
          "Oats",
          "Soybean-notill",
          "Soybean-mintill",
          "Soybean-clean",
          "Wheat",
          "Woods",
          "Buildings-Grass-Trees-Drives",
          "Stone-Steel-Towers"
         ],
         "y": [
          0,
          0.16666666666666666,
          0.38677981241625725,
          0.21616161616161617,
          0.4076086956521739,
          0.39219330855018586,
          0.8456937799043063,
          0.17777777777777778,
          0.8458646616541353,
          0,
          0.451638689048761,
          0.5308287926584456,
          0.21517241379310345,
          0.7296296296296296,
          0.8095863427445831,
          0.31797235023041476,
          0.967741935483871
         ]
        },
        {
         "name": "IndianPines_PCA_30_mou",
         "type": "bar",
         "x": [
          "Undefined",
          "Alfalfa",
          "Corn-notill",
          "Corn-mintill",
          "Corn",
          "Grass-pasture",
          "Grass-trees",
          "Grass-pasture-mowed",
          "Hay-windrowed",
          "Oats",
          "Soybean-notill",
          "Soybean-mintill",
          "Soybean-clean",
          "Wheat",
          "Woods",
          "Buildings-Grass-Trees-Drives",
          "Stone-Steel-Towers"
         ],
         "y": [
          0,
          0.2857142857142857,
          0.316542948038176,
          0.07727272727272727,
          0.3620689655172414,
          0.305019305019305,
          0.779379157427938,
          0.05405405405405406,
          0.8464285714285714,
          0.15,
          0.3046237533998187,
          0.49682539682539684,
          0.2325268817204301,
          0.696969696969697,
          0.7774968394437421,
          0.1674641148325359,
          0.9247311827956989
         ]
        },
        {
         "name": "IndianPines_PCA_30_hamida",
         "type": "bar",
         "x": [
          "Undefined",
          "Alfalfa",
          "Corn-notill",
          "Corn-mintill",
          "Corn",
          "Grass-pasture",
          "Grass-trees",
          "Grass-pasture-mowed",
          "Hay-windrowed",
          "Oats",
          "Soybean-notill",
          "Soybean-mintill",
          "Soybean-clean",
          "Wheat",
          "Woods",
          "Buildings-Grass-Trees-Drives",
          "Stone-Steel-Towers"
         ],
         "y": [
          0,
          1,
          0.9930216329378926,
          0.891566265060241,
          1,
          0.9358178053830227,
          1,
          1,
          1,
          1,
          0.9927685950413223,
          0.9660606060606061,
          0.9814814814814815,
          1,
          0.9968479117415288,
          0.805699481865285,
          1
         ]
        },
        {
         "name": "IndianPines_PCA_30_li",
         "type": "bar",
         "x": [
          "Undefined",
          "Alfalfa",
          "Corn-notill",
          "Corn-mintill",
          "Corn",
          "Grass-pasture",
          "Grass-trees",
          "Grass-pasture-mowed",
          "Hay-windrowed",
          "Oats",
          "Soybean-notill",
          "Soybean-mintill",
          "Soybean-clean",
          "Wheat",
          "Woods",
          "Buildings-Grass-Trees-Drives",
          "Stone-Steel-Towers"
         ],
         "y": [
          0,
          0,
          0,
          0,
          0,
          0,
          0,
          0,
          0,
          0,
          0,
          0.23784428756090287,
          0,
          0,
          0,
          0,
          0
         ]
        },
        {
         "name": "IndianPines_PCA_30_paoletti",
         "type": "bar",
         "x": [
          "Undefined",
          "Alfalfa",
          "Corn-notill",
          "Corn-mintill",
          "Corn",
          "Grass-pasture",
          "Grass-trees",
          "Grass-pasture-mowed",
          "Hay-windrowed",
          "Oats",
          "Soybean-notill",
          "Soybean-mintill",
          "Soybean-clean",
          "Wheat",
          "Woods",
          "Buildings-Grass-Trees-Drives",
          "Stone-Steel-Towers"
         ],
         "y": [
          0,
          0.18867924528301888,
          0.367955286446204,
          0.048943270300333706,
          0.35268817204301073,
          0.5125553914327917,
          0.7815964523281597,
          0,
          0.8044217687074829,
          0,
          0.3695844385499558,
          0.5041429311237701,
          0.22031823745410037,
          0.7113821138211383,
          0.7935813274981766,
          0.26535626535626533,
          0.9354838709677419
         ]
        }
       ],
       "layout": {
        "barmode": "group",
        "template": {
         "data": {
          "bar": [
           {
            "error_x": {
             "color": "#2a3f5f"
            },
            "error_y": {
             "color": "#2a3f5f"
            },
            "marker": {
             "line": {
              "color": "#E5ECF6",
              "width": 0.5
             },
             "pattern": {
              "fillmode": "overlay",
              "size": 10,
              "solidity": 0.2
             }
            },
            "type": "bar"
           }
          ],
          "barpolar": [
           {
            "marker": {
             "line": {
              "color": "#E5ECF6",
              "width": 0.5
             },
             "pattern": {
              "fillmode": "overlay",
              "size": 10,
              "solidity": 0.2
             }
            },
            "type": "barpolar"
           }
          ],
          "carpet": [
           {
            "aaxis": {
             "endlinecolor": "#2a3f5f",
             "gridcolor": "white",
             "linecolor": "white",
             "minorgridcolor": "white",
             "startlinecolor": "#2a3f5f"
            },
            "baxis": {
             "endlinecolor": "#2a3f5f",
             "gridcolor": "white",
             "linecolor": "white",
             "minorgridcolor": "white",
             "startlinecolor": "#2a3f5f"
            },
            "type": "carpet"
           }
          ],
          "choropleth": [
           {
            "colorbar": {
             "outlinewidth": 0,
             "ticks": ""
            },
            "type": "choropleth"
           }
          ],
          "contour": [
           {
            "colorbar": {
             "outlinewidth": 0,
             "ticks": ""
            },
            "colorscale": [
             [
              0,
              "#0d0887"
             ],
             [
              0.1111111111111111,
              "#46039f"
             ],
             [
              0.2222222222222222,
              "#7201a8"
             ],
             [
              0.3333333333333333,
              "#9c179e"
             ],
             [
              0.4444444444444444,
              "#bd3786"
             ],
             [
              0.5555555555555556,
              "#d8576b"
             ],
             [
              0.6666666666666666,
              "#ed7953"
             ],
             [
              0.7777777777777778,
              "#fb9f3a"
             ],
             [
              0.8888888888888888,
              "#fdca26"
             ],
             [
              1,
              "#f0f921"
             ]
            ],
            "type": "contour"
           }
          ],
          "contourcarpet": [
           {
            "colorbar": {
             "outlinewidth": 0,
             "ticks": ""
            },
            "type": "contourcarpet"
           }
          ],
          "heatmap": [
           {
            "colorbar": {
             "outlinewidth": 0,
             "ticks": ""
            },
            "colorscale": [
             [
              0,
              "#0d0887"
             ],
             [
              0.1111111111111111,
              "#46039f"
             ],
             [
              0.2222222222222222,
              "#7201a8"
             ],
             [
              0.3333333333333333,
              "#9c179e"
             ],
             [
              0.4444444444444444,
              "#bd3786"
             ],
             [
              0.5555555555555556,
              "#d8576b"
             ],
             [
              0.6666666666666666,
              "#ed7953"
             ],
             [
              0.7777777777777778,
              "#fb9f3a"
             ],
             [
              0.8888888888888888,
              "#fdca26"
             ],
             [
              1,
              "#f0f921"
             ]
            ],
            "type": "heatmap"
           }
          ],
          "heatmapgl": [
           {
            "colorbar": {
             "outlinewidth": 0,
             "ticks": ""
            },
            "colorscale": [
             [
              0,
              "#0d0887"
             ],
             [
              0.1111111111111111,
              "#46039f"
             ],
             [
              0.2222222222222222,
              "#7201a8"
             ],
             [
              0.3333333333333333,
              "#9c179e"
             ],
             [
              0.4444444444444444,
              "#bd3786"
             ],
             [
              0.5555555555555556,
              "#d8576b"
             ],
             [
              0.6666666666666666,
              "#ed7953"
             ],
             [
              0.7777777777777778,
              "#fb9f3a"
             ],
             [
              0.8888888888888888,
              "#fdca26"
             ],
             [
              1,
              "#f0f921"
             ]
            ],
            "type": "heatmapgl"
           }
          ],
          "histogram": [
           {
            "marker": {
             "pattern": {
              "fillmode": "overlay",
              "size": 10,
              "solidity": 0.2
             }
            },
            "type": "histogram"
           }
          ],
          "histogram2d": [
           {
            "colorbar": {
             "outlinewidth": 0,
             "ticks": ""
            },
            "colorscale": [
             [
              0,
              "#0d0887"
             ],
             [
              0.1111111111111111,
              "#46039f"
             ],
             [
              0.2222222222222222,
              "#7201a8"
             ],
             [
              0.3333333333333333,
              "#9c179e"
             ],
             [
              0.4444444444444444,
              "#bd3786"
             ],
             [
              0.5555555555555556,
              "#d8576b"
             ],
             [
              0.6666666666666666,
              "#ed7953"
             ],
             [
              0.7777777777777778,
              "#fb9f3a"
             ],
             [
              0.8888888888888888,
              "#fdca26"
             ],
             [
              1,
              "#f0f921"
             ]
            ],
            "type": "histogram2d"
           }
          ],
          "histogram2dcontour": [
           {
            "colorbar": {
             "outlinewidth": 0,
             "ticks": ""
            },
            "colorscale": [
             [
              0,
              "#0d0887"
             ],
             [
              0.1111111111111111,
              "#46039f"
             ],
             [
              0.2222222222222222,
              "#7201a8"
             ],
             [
              0.3333333333333333,
              "#9c179e"
             ],
             [
              0.4444444444444444,
              "#bd3786"
             ],
             [
              0.5555555555555556,
              "#d8576b"
             ],
             [
              0.6666666666666666,
              "#ed7953"
             ],
             [
              0.7777777777777778,
              "#fb9f3a"
             ],
             [
              0.8888888888888888,
              "#fdca26"
             ],
             [
              1,
              "#f0f921"
             ]
            ],
            "type": "histogram2dcontour"
           }
          ],
          "mesh3d": [
           {
            "colorbar": {
             "outlinewidth": 0,
             "ticks": ""
            },
            "type": "mesh3d"
           }
          ],
          "parcoords": [
           {
            "line": {
             "colorbar": {
              "outlinewidth": 0,
              "ticks": ""
             }
            },
            "type": "parcoords"
           }
          ],
          "pie": [
           {
            "automargin": true,
            "type": "pie"
           }
          ],
          "scatter": [
           {
            "fillpattern": {
             "fillmode": "overlay",
             "size": 10,
             "solidity": 0.2
            },
            "type": "scatter"
           }
          ],
          "scatter3d": [
           {
            "line": {
             "colorbar": {
              "outlinewidth": 0,
              "ticks": ""
             }
            },
            "marker": {
             "colorbar": {
              "outlinewidth": 0,
              "ticks": ""
             }
            },
            "type": "scatter3d"
           }
          ],
          "scattercarpet": [
           {
            "marker": {
             "colorbar": {
              "outlinewidth": 0,
              "ticks": ""
             }
            },
            "type": "scattercarpet"
           }
          ],
          "scattergeo": [
           {
            "marker": {
             "colorbar": {
              "outlinewidth": 0,
              "ticks": ""
             }
            },
            "type": "scattergeo"
           }
          ],
          "scattergl": [
           {
            "marker": {
             "colorbar": {
              "outlinewidth": 0,
              "ticks": ""
             }
            },
            "type": "scattergl"
           }
          ],
          "scattermapbox": [
           {
            "marker": {
             "colorbar": {
              "outlinewidth": 0,
              "ticks": ""
             }
            },
            "type": "scattermapbox"
           }
          ],
          "scatterpolar": [
           {
            "marker": {
             "colorbar": {
              "outlinewidth": 0,
              "ticks": ""
             }
            },
            "type": "scatterpolar"
           }
          ],
          "scatterpolargl": [
           {
            "marker": {
             "colorbar": {
              "outlinewidth": 0,
              "ticks": ""
             }
            },
            "type": "scatterpolargl"
           }
          ],
          "scatterternary": [
           {
            "marker": {
             "colorbar": {
              "outlinewidth": 0,
              "ticks": ""
             }
            },
            "type": "scatterternary"
           }
          ],
          "surface": [
           {
            "colorbar": {
             "outlinewidth": 0,
             "ticks": ""
            },
            "colorscale": [
             [
              0,
              "#0d0887"
             ],
             [
              0.1111111111111111,
              "#46039f"
             ],
             [
              0.2222222222222222,
              "#7201a8"
             ],
             [
              0.3333333333333333,
              "#9c179e"
             ],
             [
              0.4444444444444444,
              "#bd3786"
             ],
             [
              0.5555555555555556,
              "#d8576b"
             ],
             [
              0.6666666666666666,
              "#ed7953"
             ],
             [
              0.7777777777777778,
              "#fb9f3a"
             ],
             [
              0.8888888888888888,
              "#fdca26"
             ],
             [
              1,
              "#f0f921"
             ]
            ],
            "type": "surface"
           }
          ],
          "table": [
           {
            "cells": {
             "fill": {
              "color": "#EBF0F8"
             },
             "line": {
              "color": "white"
             }
            },
            "header": {
             "fill": {
              "color": "#C8D4E3"
             },
             "line": {
              "color": "white"
             }
            },
            "type": "table"
           }
          ]
         },
         "layout": {
          "annotationdefaults": {
           "arrowcolor": "#2a3f5f",
           "arrowhead": 0,
           "arrowwidth": 1
          },
          "autotypenumbers": "strict",
          "coloraxis": {
           "colorbar": {
            "outlinewidth": 0,
            "ticks": ""
           }
          },
          "colorscale": {
           "diverging": [
            [
             0,
             "#8e0152"
            ],
            [
             0.1,
             "#c51b7d"
            ],
            [
             0.2,
             "#de77ae"
            ],
            [
             0.3,
             "#f1b6da"
            ],
            [
             0.4,
             "#fde0ef"
            ],
            [
             0.5,
             "#f7f7f7"
            ],
            [
             0.6,
             "#e6f5d0"
            ],
            [
             0.7,
             "#b8e186"
            ],
            [
             0.8,
             "#7fbc41"
            ],
            [
             0.9,
             "#4d9221"
            ],
            [
             1,
             "#276419"
            ]
           ],
           "sequential": [
            [
             0,
             "#0d0887"
            ],
            [
             0.1111111111111111,
             "#46039f"
            ],
            [
             0.2222222222222222,
             "#7201a8"
            ],
            [
             0.3333333333333333,
             "#9c179e"
            ],
            [
             0.4444444444444444,
             "#bd3786"
            ],
            [
             0.5555555555555556,
             "#d8576b"
            ],
            [
             0.6666666666666666,
             "#ed7953"
            ],
            [
             0.7777777777777778,
             "#fb9f3a"
            ],
            [
             0.8888888888888888,
             "#fdca26"
            ],
            [
             1,
             "#f0f921"
            ]
           ],
           "sequentialminus": [
            [
             0,
             "#0d0887"
            ],
            [
             0.1111111111111111,
             "#46039f"
            ],
            [
             0.2222222222222222,
             "#7201a8"
            ],
            [
             0.3333333333333333,
             "#9c179e"
            ],
            [
             0.4444444444444444,
             "#bd3786"
            ],
            [
             0.5555555555555556,
             "#d8576b"
            ],
            [
             0.6666666666666666,
             "#ed7953"
            ],
            [
             0.7777777777777778,
             "#fb9f3a"
            ],
            [
             0.8888888888888888,
             "#fdca26"
            ],
            [
             1,
             "#f0f921"
            ]
           ]
          },
          "colorway": [
           "#636efa",
           "#EF553B",
           "#00cc96",
           "#ab63fa",
           "#FFA15A",
           "#19d3f3",
           "#FF6692",
           "#B6E880",
           "#FF97FF",
           "#FECB52"
          ],
          "font": {
           "color": "#2a3f5f"
          },
          "geo": {
           "bgcolor": "white",
           "lakecolor": "white",
           "landcolor": "#E5ECF6",
           "showlakes": true,
           "showland": true,
           "subunitcolor": "white"
          },
          "hoverlabel": {
           "align": "left"
          },
          "hovermode": "closest",
          "mapbox": {
           "style": "light"
          },
          "paper_bgcolor": "white",
          "plot_bgcolor": "#E5ECF6",
          "polar": {
           "angularaxis": {
            "gridcolor": "white",
            "linecolor": "white",
            "ticks": ""
           },
           "bgcolor": "#E5ECF6",
           "radialaxis": {
            "gridcolor": "white",
            "linecolor": "white",
            "ticks": ""
           }
          },
          "scene": {
           "xaxis": {
            "backgroundcolor": "#E5ECF6",
            "gridcolor": "white",
            "gridwidth": 2,
            "linecolor": "white",
            "showbackground": true,
            "ticks": "",
            "zerolinecolor": "white"
           },
           "yaxis": {
            "backgroundcolor": "#E5ECF6",
            "gridcolor": "white",
            "gridwidth": 2,
            "linecolor": "white",
            "showbackground": true,
            "ticks": "",
            "zerolinecolor": "white"
           },
           "zaxis": {
            "backgroundcolor": "#E5ECF6",
            "gridcolor": "white",
            "gridwidth": 2,
            "linecolor": "white",
            "showbackground": true,
            "ticks": "",
            "zerolinecolor": "white"
           }
          },
          "shapedefaults": {
           "line": {
            "color": "#2a3f5f"
           }
          },
          "ternary": {
           "aaxis": {
            "gridcolor": "white",
            "linecolor": "white",
            "ticks": ""
           },
           "baxis": {
            "gridcolor": "white",
            "linecolor": "white",
            "ticks": ""
           },
           "bgcolor": "#E5ECF6",
           "caxis": {
            "gridcolor": "white",
            "linecolor": "white",
            "ticks": ""
           }
          },
          "title": {
           "x": 0.05
          },
          "xaxis": {
           "automargin": true,
           "gridcolor": "white",
           "linecolor": "white",
           "ticks": "",
           "title": {
            "standoff": 15
           },
           "zerolinecolor": "white",
           "zerolinewidth": 2
          },
          "yaxis": {
           "automargin": true,
           "gridcolor": "white",
           "linecolor": "white",
           "ticks": "",
           "title": {
            "standoff": 15
           },
           "zerolinecolor": "white",
           "zerolinewidth": 2
          }
         }
        },
        "title": {
         "text": "IOU Values by Experiment"
        },
        "xaxis": {
         "title": {
          "text": "Class"
         }
        },
        "yaxis": {
         "title": {
          "text": "IOU"
         }
        }
       }
      }
     },
     "metadata": {},
     "output_type": "display_data"
    }
   ],
   "source": [
    "ds = 'IndianPines'\n",
    "dr = 'PCA'\n",
    "plot_grouped_values(df_results[(df_results['Dataset'] == ds) \n",
    "                & (df_results['DR Method'] == dr)], \n",
    "                LABELS[ds],\n",
    "                metric='IOU')"
   ]
  },
  {
   "cell_type": "code",
   "execution_count": 13,
   "metadata": {},
   "outputs": [
    {
     "data": {
      "application/vnd.plotly.v1+json": {
       "config": {
        "plotlyServerURL": "https://plot.ly"
       },
       "data": [
        {
         "name": "Salinas_PCA_8_li",
         "type": "bar",
         "x": [
          "Undefined",
          "Brocoli_green_weeds_1",
          "Brocoli_green_weeds_2",
          "Fallow",
          "Fallow_rough_plow",
          "Fallow_smooth",
          "Stubble",
          "Celery",
          "Grapes_untrained",
          "Soil_vinyard_develop",
          "Corn_senesced_green_weeds",
          "Lettuce_romaine_4wk",
          "Lettuce_romaine_5wk",
          "Lettuce_romaine_6wk",
          "Lettuce_romaine_7wk",
          "Vinyard_untrained",
          "Vinyard_vertical_trellis"
         ],
         "y": [
          0,
          0.9527127924340468,
          1,
          0.9727134916624558,
          0.9899785254115963,
          0.996274217585693,
          0.9845920687042182,
          0.9871508379888269,
          0.7963205295974136,
          0.9773275446213218,
          0.9322185727082711,
          0.8559533721898418,
          0.9639546858908342,
          0.9759825327510917,
          0.9700934579439252,
          0.6556026952832543,
          0.8561946902654868
         ]
        },
        {
         "name": "Salinas_PCA_15_li",
         "type": "bar",
         "x": [
          "Undefined",
          "Brocoli_green_weeds_1",
          "Brocoli_green_weeds_2",
          "Fallow",
          "Fallow_rough_plow",
          "Fallow_smooth",
          "Stubble",
          "Celery",
          "Grapes_untrained",
          "Soil_vinyard_develop",
          "Corn_senesced_green_weeds",
          "Lettuce_romaine_4wk",
          "Lettuce_romaine_5wk",
          "Lettuce_romaine_6wk",
          "Lettuce_romaine_7wk",
          "Vinyard_untrained",
          "Vinyard_vertical_trellis"
         ],
         "y": [
          0,
          0.9527127924340468,
          1,
          0.9944612286002014,
          0.9921203438395415,
          0.9973870847331093,
          0.9845920687042182,
          0.9877129293493437,
          0.8478477646667775,
          0.9951698599259379,
          0.9554275318374773,
          0.9432753888380604,
          0.96794208893485,
          0.9759825327510917,
          0.9663551401869159,
          0.7586080137238084,
          0.8594355285002767
         ]
        },
        {
         "name": "Salinas_PCA_30_li",
         "type": "bar",
         "x": [
          "Undefined",
          "Brocoli_green_weeds_1",
          "Brocoli_green_weeds_2",
          "Fallow",
          "Fallow_rough_plow",
          "Fallow_smooth",
          "Stubble",
          "Celery",
          "Grapes_untrained",
          "Soil_vinyard_develop",
          "Corn_senesced_green_weeds",
          "Lettuce_romaine_4wk",
          "Lettuce_romaine_5wk",
          "Lettuce_romaine_6wk",
          "Lettuce_romaine_7wk",
          "Vinyard_untrained",
          "Vinyard_vertical_trellis"
         ],
         "y": [
          0,
          0.9527127924340468,
          1,
          0.9994939271255061,
          0.992831541218638,
          0.9996267263904441,
          0.9845920687042182,
          0.9879888268156425,
          0.8962736609795433,
          0.995330112721417,
          0.9668188736681887,
          0.9663236669784846,
          0.9704510108864697,
          0.9759825327510917,
          0.9701213818860878,
          0.8261203585147248,
          0.860066371681416
         ]
        }
       ],
       "layout": {
        "barmode": "group",
        "template": {
         "data": {
          "bar": [
           {
            "error_x": {
             "color": "#2a3f5f"
            },
            "error_y": {
             "color": "#2a3f5f"
            },
            "marker": {
             "line": {
              "color": "#E5ECF6",
              "width": 0.5
             },
             "pattern": {
              "fillmode": "overlay",
              "size": 10,
              "solidity": 0.2
             }
            },
            "type": "bar"
           }
          ],
          "barpolar": [
           {
            "marker": {
             "line": {
              "color": "#E5ECF6",
              "width": 0.5
             },
             "pattern": {
              "fillmode": "overlay",
              "size": 10,
              "solidity": 0.2
             }
            },
            "type": "barpolar"
           }
          ],
          "carpet": [
           {
            "aaxis": {
             "endlinecolor": "#2a3f5f",
             "gridcolor": "white",
             "linecolor": "white",
             "minorgridcolor": "white",
             "startlinecolor": "#2a3f5f"
            },
            "baxis": {
             "endlinecolor": "#2a3f5f",
             "gridcolor": "white",
             "linecolor": "white",
             "minorgridcolor": "white",
             "startlinecolor": "#2a3f5f"
            },
            "type": "carpet"
           }
          ],
          "choropleth": [
           {
            "colorbar": {
             "outlinewidth": 0,
             "ticks": ""
            },
            "type": "choropleth"
           }
          ],
          "contour": [
           {
            "colorbar": {
             "outlinewidth": 0,
             "ticks": ""
            },
            "colorscale": [
             [
              0,
              "#0d0887"
             ],
             [
              0.1111111111111111,
              "#46039f"
             ],
             [
              0.2222222222222222,
              "#7201a8"
             ],
             [
              0.3333333333333333,
              "#9c179e"
             ],
             [
              0.4444444444444444,
              "#bd3786"
             ],
             [
              0.5555555555555556,
              "#d8576b"
             ],
             [
              0.6666666666666666,
              "#ed7953"
             ],
             [
              0.7777777777777778,
              "#fb9f3a"
             ],
             [
              0.8888888888888888,
              "#fdca26"
             ],
             [
              1,
              "#f0f921"
             ]
            ],
            "type": "contour"
           }
          ],
          "contourcarpet": [
           {
            "colorbar": {
             "outlinewidth": 0,
             "ticks": ""
            },
            "type": "contourcarpet"
           }
          ],
          "heatmap": [
           {
            "colorbar": {
             "outlinewidth": 0,
             "ticks": ""
            },
            "colorscale": [
             [
              0,
              "#0d0887"
             ],
             [
              0.1111111111111111,
              "#46039f"
             ],
             [
              0.2222222222222222,
              "#7201a8"
             ],
             [
              0.3333333333333333,
              "#9c179e"
             ],
             [
              0.4444444444444444,
              "#bd3786"
             ],
             [
              0.5555555555555556,
              "#d8576b"
             ],
             [
              0.6666666666666666,
              "#ed7953"
             ],
             [
              0.7777777777777778,
              "#fb9f3a"
             ],
             [
              0.8888888888888888,
              "#fdca26"
             ],
             [
              1,
              "#f0f921"
             ]
            ],
            "type": "heatmap"
           }
          ],
          "heatmapgl": [
           {
            "colorbar": {
             "outlinewidth": 0,
             "ticks": ""
            },
            "colorscale": [
             [
              0,
              "#0d0887"
             ],
             [
              0.1111111111111111,
              "#46039f"
             ],
             [
              0.2222222222222222,
              "#7201a8"
             ],
             [
              0.3333333333333333,
              "#9c179e"
             ],
             [
              0.4444444444444444,
              "#bd3786"
             ],
             [
              0.5555555555555556,
              "#d8576b"
             ],
             [
              0.6666666666666666,
              "#ed7953"
             ],
             [
              0.7777777777777778,
              "#fb9f3a"
             ],
             [
              0.8888888888888888,
              "#fdca26"
             ],
             [
              1,
              "#f0f921"
             ]
            ],
            "type": "heatmapgl"
           }
          ],
          "histogram": [
           {
            "marker": {
             "pattern": {
              "fillmode": "overlay",
              "size": 10,
              "solidity": 0.2
             }
            },
            "type": "histogram"
           }
          ],
          "histogram2d": [
           {
            "colorbar": {
             "outlinewidth": 0,
             "ticks": ""
            },
            "colorscale": [
             [
              0,
              "#0d0887"
             ],
             [
              0.1111111111111111,
              "#46039f"
             ],
             [
              0.2222222222222222,
              "#7201a8"
             ],
             [
              0.3333333333333333,
              "#9c179e"
             ],
             [
              0.4444444444444444,
              "#bd3786"
             ],
             [
              0.5555555555555556,
              "#d8576b"
             ],
             [
              0.6666666666666666,
              "#ed7953"
             ],
             [
              0.7777777777777778,
              "#fb9f3a"
             ],
             [
              0.8888888888888888,
              "#fdca26"
             ],
             [
              1,
              "#f0f921"
             ]
            ],
            "type": "histogram2d"
           }
          ],
          "histogram2dcontour": [
           {
            "colorbar": {
             "outlinewidth": 0,
             "ticks": ""
            },
            "colorscale": [
             [
              0,
              "#0d0887"
             ],
             [
              0.1111111111111111,
              "#46039f"
             ],
             [
              0.2222222222222222,
              "#7201a8"
             ],
             [
              0.3333333333333333,
              "#9c179e"
             ],
             [
              0.4444444444444444,
              "#bd3786"
             ],
             [
              0.5555555555555556,
              "#d8576b"
             ],
             [
              0.6666666666666666,
              "#ed7953"
             ],
             [
              0.7777777777777778,
              "#fb9f3a"
             ],
             [
              0.8888888888888888,
              "#fdca26"
             ],
             [
              1,
              "#f0f921"
             ]
            ],
            "type": "histogram2dcontour"
           }
          ],
          "mesh3d": [
           {
            "colorbar": {
             "outlinewidth": 0,
             "ticks": ""
            },
            "type": "mesh3d"
           }
          ],
          "parcoords": [
           {
            "line": {
             "colorbar": {
              "outlinewidth": 0,
              "ticks": ""
             }
            },
            "type": "parcoords"
           }
          ],
          "pie": [
           {
            "automargin": true,
            "type": "pie"
           }
          ],
          "scatter": [
           {
            "fillpattern": {
             "fillmode": "overlay",
             "size": 10,
             "solidity": 0.2
            },
            "type": "scatter"
           }
          ],
          "scatter3d": [
           {
            "line": {
             "colorbar": {
              "outlinewidth": 0,
              "ticks": ""
             }
            },
            "marker": {
             "colorbar": {
              "outlinewidth": 0,
              "ticks": ""
             }
            },
            "type": "scatter3d"
           }
          ],
          "scattercarpet": [
           {
            "marker": {
             "colorbar": {
              "outlinewidth": 0,
              "ticks": ""
             }
            },
            "type": "scattercarpet"
           }
          ],
          "scattergeo": [
           {
            "marker": {
             "colorbar": {
              "outlinewidth": 0,
              "ticks": ""
             }
            },
            "type": "scattergeo"
           }
          ],
          "scattergl": [
           {
            "marker": {
             "colorbar": {
              "outlinewidth": 0,
              "ticks": ""
             }
            },
            "type": "scattergl"
           }
          ],
          "scattermapbox": [
           {
            "marker": {
             "colorbar": {
              "outlinewidth": 0,
              "ticks": ""
             }
            },
            "type": "scattermapbox"
           }
          ],
          "scatterpolar": [
           {
            "marker": {
             "colorbar": {
              "outlinewidth": 0,
              "ticks": ""
             }
            },
            "type": "scatterpolar"
           }
          ],
          "scatterpolargl": [
           {
            "marker": {
             "colorbar": {
              "outlinewidth": 0,
              "ticks": ""
             }
            },
            "type": "scatterpolargl"
           }
          ],
          "scatterternary": [
           {
            "marker": {
             "colorbar": {
              "outlinewidth": 0,
              "ticks": ""
             }
            },
            "type": "scatterternary"
           }
          ],
          "surface": [
           {
            "colorbar": {
             "outlinewidth": 0,
             "ticks": ""
            },
            "colorscale": [
             [
              0,
              "#0d0887"
             ],
             [
              0.1111111111111111,
              "#46039f"
             ],
             [
              0.2222222222222222,
              "#7201a8"
             ],
             [
              0.3333333333333333,
              "#9c179e"
             ],
             [
              0.4444444444444444,
              "#bd3786"
             ],
             [
              0.5555555555555556,
              "#d8576b"
             ],
             [
              0.6666666666666666,
              "#ed7953"
             ],
             [
              0.7777777777777778,
              "#fb9f3a"
             ],
             [
              0.8888888888888888,
              "#fdca26"
             ],
             [
              1,
              "#f0f921"
             ]
            ],
            "type": "surface"
           }
          ],
          "table": [
           {
            "cells": {
             "fill": {
              "color": "#EBF0F8"
             },
             "line": {
              "color": "white"
             }
            },
            "header": {
             "fill": {
              "color": "#C8D4E3"
             },
             "line": {
              "color": "white"
             }
            },
            "type": "table"
           }
          ]
         },
         "layout": {
          "annotationdefaults": {
           "arrowcolor": "#2a3f5f",
           "arrowhead": 0,
           "arrowwidth": 1
          },
          "autotypenumbers": "strict",
          "coloraxis": {
           "colorbar": {
            "outlinewidth": 0,
            "ticks": ""
           }
          },
          "colorscale": {
           "diverging": [
            [
             0,
             "#8e0152"
            ],
            [
             0.1,
             "#c51b7d"
            ],
            [
             0.2,
             "#de77ae"
            ],
            [
             0.3,
             "#f1b6da"
            ],
            [
             0.4,
             "#fde0ef"
            ],
            [
             0.5,
             "#f7f7f7"
            ],
            [
             0.6,
             "#e6f5d0"
            ],
            [
             0.7,
             "#b8e186"
            ],
            [
             0.8,
             "#7fbc41"
            ],
            [
             0.9,
             "#4d9221"
            ],
            [
             1,
             "#276419"
            ]
           ],
           "sequential": [
            [
             0,
             "#0d0887"
            ],
            [
             0.1111111111111111,
             "#46039f"
            ],
            [
             0.2222222222222222,
             "#7201a8"
            ],
            [
             0.3333333333333333,
             "#9c179e"
            ],
            [
             0.4444444444444444,
             "#bd3786"
            ],
            [
             0.5555555555555556,
             "#d8576b"
            ],
            [
             0.6666666666666666,
             "#ed7953"
            ],
            [
             0.7777777777777778,
             "#fb9f3a"
            ],
            [
             0.8888888888888888,
             "#fdca26"
            ],
            [
             1,
             "#f0f921"
            ]
           ],
           "sequentialminus": [
            [
             0,
             "#0d0887"
            ],
            [
             0.1111111111111111,
             "#46039f"
            ],
            [
             0.2222222222222222,
             "#7201a8"
            ],
            [
             0.3333333333333333,
             "#9c179e"
            ],
            [
             0.4444444444444444,
             "#bd3786"
            ],
            [
             0.5555555555555556,
             "#d8576b"
            ],
            [
             0.6666666666666666,
             "#ed7953"
            ],
            [
             0.7777777777777778,
             "#fb9f3a"
            ],
            [
             0.8888888888888888,
             "#fdca26"
            ],
            [
             1,
             "#f0f921"
            ]
           ]
          },
          "colorway": [
           "#636efa",
           "#EF553B",
           "#00cc96",
           "#ab63fa",
           "#FFA15A",
           "#19d3f3",
           "#FF6692",
           "#B6E880",
           "#FF97FF",
           "#FECB52"
          ],
          "font": {
           "color": "#2a3f5f"
          },
          "geo": {
           "bgcolor": "white",
           "lakecolor": "white",
           "landcolor": "#E5ECF6",
           "showlakes": true,
           "showland": true,
           "subunitcolor": "white"
          },
          "hoverlabel": {
           "align": "left"
          },
          "hovermode": "closest",
          "mapbox": {
           "style": "light"
          },
          "paper_bgcolor": "white",
          "plot_bgcolor": "#E5ECF6",
          "polar": {
           "angularaxis": {
            "gridcolor": "white",
            "linecolor": "white",
            "ticks": ""
           },
           "bgcolor": "#E5ECF6",
           "radialaxis": {
            "gridcolor": "white",
            "linecolor": "white",
            "ticks": ""
           }
          },
          "scene": {
           "xaxis": {
            "backgroundcolor": "#E5ECF6",
            "gridcolor": "white",
            "gridwidth": 2,
            "linecolor": "white",
            "showbackground": true,
            "ticks": "",
            "zerolinecolor": "white"
           },
           "yaxis": {
            "backgroundcolor": "#E5ECF6",
            "gridcolor": "white",
            "gridwidth": 2,
            "linecolor": "white",
            "showbackground": true,
            "ticks": "",
            "zerolinecolor": "white"
           },
           "zaxis": {
            "backgroundcolor": "#E5ECF6",
            "gridcolor": "white",
            "gridwidth": 2,
            "linecolor": "white",
            "showbackground": true,
            "ticks": "",
            "zerolinecolor": "white"
           }
          },
          "shapedefaults": {
           "line": {
            "color": "#2a3f5f"
           }
          },
          "ternary": {
           "aaxis": {
            "gridcolor": "white",
            "linecolor": "white",
            "ticks": ""
           },
           "baxis": {
            "gridcolor": "white",
            "linecolor": "white",
            "ticks": ""
           },
           "bgcolor": "#E5ECF6",
           "caxis": {
            "gridcolor": "white",
            "linecolor": "white",
            "ticks": ""
           }
          },
          "title": {
           "x": 0.05
          },
          "xaxis": {
           "automargin": true,
           "gridcolor": "white",
           "linecolor": "white",
           "ticks": "",
           "title": {
            "standoff": 15
           },
           "zerolinecolor": "white",
           "zerolinewidth": 2
          },
          "yaxis": {
           "automargin": true,
           "gridcolor": "white",
           "linecolor": "white",
           "ticks": "",
           "title": {
            "standoff": 15
           },
           "zerolinecolor": "white",
           "zerolinewidth": 2
          }
         }
        },
        "title": {
         "text": "IOU Values by Experiment"
        },
        "xaxis": {
         "title": {
          "text": "Class"
         }
        },
        "yaxis": {
         "title": {
          "text": "IOU"
         }
        }
       }
      }
     },
     "metadata": {},
     "output_type": "display_data"
    }
   ],
   "source": [
    "ds = 'Salinas'\n",
    "dr = 'PCA'\n",
    "model = 'li'\n",
    "plot_grouped_values(df_results[(df_results['Dataset'] == ds) \n",
    "                & (df_results['DR Method'] == dr)\n",
    "                & (df_results['Model'] ==  model)], \n",
    "                LABELS[ds],\n",
    "                metric='IOU')"
   ]
  },
  {
   "cell_type": "markdown",
   "metadata": {},
   "source": [
    "# ANOVA"
   ]
  },
  {
   "cell_type": "code",
   "execution_count": 130,
   "metadata": {},
   "outputs": [
    {
     "name": "stdout",
     "output_type": "stream",
     "text": [
      "N Components         8          15         30\n",
      "Model                                        \n",
      "hamida        93.166325  94.838257  95.372166\n",
      "li            92.802380  94.620259  95.834026\n",
      "mou           88.396239  88.368527  87.877108\n",
      "paoletti      89.194332  88.865488  90.457980\n",
      "ANOVA test -> F-statistic: 28.763044974928803, p-value: 0.0001231228876635892\n",
      "The ANOVA test INDICATES that there is a significant difference in accuracies.\n",
      "\n",
      "Paired T Tests\n",
      "\n",
      "hamida vs li: t-statistic = 0.15730753782298437, p-value = 0.889448587718882\n",
      "\n",
      "hamida vs mou: t-statistic = 7.859056361637373, p-value = 0.01580758163932829\n",
      "\n",
      "hamida vs paoletti: t-statistic = 8.570658281652358, p-value = 0.013341725180644684\n",
      "\n",
      "li vs mou: t-statistic = 6.051889608143731, p-value = 0.02623382795203441\n",
      "\n",
      "li vs paoletti: t-statistic = 7.426428871908431, p-value = 0.017653062976127266\n",
      "\n",
      "mou vs paoletti: t-statistic = -1.9867842935057691, p-value = 0.18531379401074077\n"
     ]
    },
    {
     "data": {
      "text/plain": [
       "['hamida > mou', 'hamida > paoletti', 'li > mou', 'li > paoletti']"
      ]
     },
     "execution_count": 130,
     "metadata": {},
     "output_type": "execute_result"
    }
   ],
   "source": [
    "accuracies = accuracies_by_n_comps(df_results, 'Salinas', 'PCA')\n",
    "\n",
    "ANOVA_TTest(accuracies, \n",
    "            transposed=False, \n",
    "            describe=False, \n",
    "            ind_samples=False)\n",
    "# ANOVA_TTest(accuracies, transposed=True)"
   ]
  },
  {
   "cell_type": "code",
   "execution_count": 41,
   "metadata": {},
   "outputs": [
    {
     "data": {
      "text/html": [
       "<div>\n",
       "<style scoped>\n",
       "    .dataframe tbody tr th:only-of-type {\n",
       "        vertical-align: middle;\n",
       "    }\n",
       "\n",
       "    .dataframe tbody tr th {\n",
       "        vertical-align: top;\n",
       "    }\n",
       "\n",
       "    .dataframe thead th {\n",
       "        text-align: right;\n",
       "    }\n",
       "</style>\n",
       "<table border=\"1\" class=\"dataframe\">\n",
       "  <thead>\n",
       "    <tr style=\"text-align: right;\">\n",
       "      <th></th>\n",
       "      <th>Class 1</th>\n",
       "      <th>Class 2</th>\n",
       "      <th>Class 3</th>\n",
       "      <th>Class 4</th>\n",
       "      <th>Class 5</th>\n",
       "      <th>Class 6</th>\n",
       "      <th>Class 7</th>\n",
       "      <th>Class 8</th>\n",
       "      <th>Class 9</th>\n",
       "      <th>Class 10</th>\n",
       "      <th>Class 11</th>\n",
       "      <th>Class 12</th>\n",
       "      <th>Class 13</th>\n",
       "      <th>Class 14</th>\n",
       "      <th>Class 15</th>\n",
       "      <th>Class 16</th>\n",
       "    </tr>\n",
       "    <tr>\n",
       "      <th>Model</th>\n",
       "      <th></th>\n",
       "      <th></th>\n",
       "      <th></th>\n",
       "      <th></th>\n",
       "      <th></th>\n",
       "      <th></th>\n",
       "      <th></th>\n",
       "      <th></th>\n",
       "      <th></th>\n",
       "      <th></th>\n",
       "      <th></th>\n",
       "      <th></th>\n",
       "      <th></th>\n",
       "      <th></th>\n",
       "      <th></th>\n",
       "      <th></th>\n",
       "    </tr>\n",
       "  </thead>\n",
       "  <tbody>\n",
       "    <tr>\n",
       "      <th>mou</th>\n",
       "      <td>0.0</td>\n",
       "      <td>0.952713</td>\n",
       "      <td>1.000000</td>\n",
       "      <td>0.982072</td>\n",
       "      <td>0.973852</td>\n",
       "      <td>0.986984</td>\n",
       "      <td>0.984592</td>\n",
       "      <td>0.987151</td>\n",
       "      <td>0.995009</td>\n",
       "      <td>0.957498</td>\n",
       "      <td>0.968165</td>\n",
       "      <td>0.969948</td>\n",
       "      <td>0.973856</td>\n",
       "      <td>0.968254</td>\n",
       "      <td>0.662132</td>\n",
       "      <td>0.857775</td>\n",
       "    </tr>\n",
       "    <tr>\n",
       "      <th>paoletti</th>\n",
       "      <td>0.0</td>\n",
       "      <td>0.952215</td>\n",
       "      <td>0.999732</td>\n",
       "      <td>0.988494</td>\n",
       "      <td>0.982105</td>\n",
       "      <td>0.986989</td>\n",
       "      <td>0.984592</td>\n",
       "      <td>0.987989</td>\n",
       "      <td>0.995649</td>\n",
       "      <td>0.963669</td>\n",
       "      <td>0.968254</td>\n",
       "      <td>0.969948</td>\n",
       "      <td>0.971739</td>\n",
       "      <td>0.970093</td>\n",
       "      <td>0.814145</td>\n",
       "      <td>0.860542</td>\n",
       "    </tr>\n",
       "  </tbody>\n",
       "</table>\n",
       "</div>"
      ],
      "text/plain": [
       "          Class 1   Class 2   Class 3   Class 4   Class 5   Class 6   Class 7  \\\n",
       "Model                                                                           \n",
       "mou           0.0  0.952713  1.000000  0.982072  0.973852  0.986984  0.984592   \n",
       "paoletti      0.0  0.952215  0.999732  0.988494  0.982105  0.986989  0.984592   \n",
       "\n",
       "           Class 8   Class 9  Class 10  Class 11  Class 12  Class 13  \\\n",
       "Model                                                                  \n",
       "mou       0.987151  0.995009  0.957498  0.968165  0.969948  0.973856   \n",
       "paoletti  0.987989  0.995649  0.963669  0.968254  0.969948  0.971739   \n",
       "\n",
       "          Class 14  Class 15  Class 16  \n",
       "Model                                   \n",
       "mou       0.968254  0.662132  0.857775  \n",
       "paoletti  0.970093  0.814145  0.860542  "
      ]
     },
     "execution_count": 41,
     "metadata": {},
     "output_type": "execute_result"
    }
   ],
   "source": [
    "scores_df"
   ]
  },
  {
   "cell_type": "code",
   "execution_count": 27,
   "metadata": {},
   "outputs": [
    {
     "name": "stdout",
     "output_type": "stream",
     "text": [
      "          Class 1   Class 2   Class 3   Class 4   Class 5   Class 6   Class 7  \\\n",
      "Model                                                                           \n",
      "mou           0.0  0.952008  0.985372  0.922201  0.980664  0.944876  0.992108   \n",
      "paoletti      0.0  0.973953  0.996785  0.874113  0.984138  0.937412  0.992236   \n",
      "\n",
      "           Class 8   Class 9  Class 10  Class 11  Class 12  Class 13  \\\n",
      "Model                                                                  \n",
      "mou       0.963819  0.818435  0.967219  0.865474  0.767748  0.939108   \n",
      "paoletti  0.969663  0.867730  0.978563  0.903195  0.775791  0.951546   \n",
      "\n",
      "          Class 14  Class 15  Class 16  Class 17  \n",
      "Model                                             \n",
      "mou       0.907216  0.971455  0.754311  0.735382  \n",
      "paoletti  0.945455  0.966134  0.807341  0.869753  \n",
      "ANOVA test -> F-statistic: 0.057002622953611616, p-value: 0.8128201594313229\n",
      "\n",
      "Paired T Tests\n",
      "\n",
      "mou vs paoletti: t-statistic = -2.0737394025893696, p-value = 0.05460623964931263\n",
      "\n",
      "No significant difference found with T Tests\n"
     ]
    }
   ],
   "source": [
    "scores_df = scores_by_model(df_results[df_results['Model'].isin(['mou', 'paoletti'])], \n",
    "                            dataset='Salinas', \n",
    "                            dr_method='PCA', \n",
    "                            n_comps=30,\n",
    "                            scores='F1')\n",
    "ANOVA_TTest(scores_df, transposed=False)"
   ]
  },
  {
   "cell_type": "code",
   "execution_count": 40,
   "metadata": {},
   "outputs": [
    {
     "name": "stdout",
     "output_type": "stream",
     "text": [
      "          Class 1   Class 2   Class 3   Class 4   Class 5   Class 6   Class 7  \\\n",
      "Model                                                                           \n",
      "mou           0.0  0.952713  1.000000  0.982072  0.973852  0.986984  0.984592   \n",
      "paoletti      0.0  0.952215  0.999732  0.988494  0.982105  0.986989  0.984592   \n",
      "\n",
      "           Class 8   Class 9  Class 10  Class 11  Class 12  Class 13  \\\n",
      "Model                                                                  \n",
      "mou       0.987151  0.995009  0.957498  0.968165  0.969948  0.973856   \n",
      "paoletti  0.987989  0.995649  0.963669  0.968254  0.969948  0.971739   \n",
      "\n",
      "          Class 14  Class 15  Class 16  \n",
      "Model                                   \n",
      "mou       0.968254  0.662132  0.857775  \n",
      "paoletti  0.970093  0.814145  0.860542  \n",
      "ANOVA test -> F-statistic: 0.01574998620137937, p-value: 0.900965813475312\n",
      "\n",
      "Paired T Tests\n",
      "\n",
      "mou vs paoletti: t-statistic = -1.1677663354267296, p-value = 0.26112838431661317\n",
      "\n",
      "No significant difference found with T Tests\n"
     ]
    },
    {
     "data": {
      "text/plain": [
       "[]"
      ]
     },
     "execution_count": 40,
     "metadata": {},
     "output_type": "execute_result"
    }
   ],
   "source": [
    "scores_df = scores_by_model(df_results[df_results['Model'].isin(['mou', 'paoletti'])], \n",
    "                            dataset='Salinas', \n",
    "                            dr_method='FastICA', \n",
    "                            n_comps=8,\n",
    "                            scores='IOU')\n",
    "ANOVA_TTest(scores_df, transposed=False)"
   ]
  },
  {
   "cell_type": "code",
   "execution_count": 128,
   "metadata": {},
   "outputs": [
    {
     "name": "stdout",
     "output_type": "stream",
     "text": [
      "\n",
      "mou vs paoletti - IOU in Salinas\n",
      "               8         15        30\n",
      "PCA      paoletti         =  paoletti\n",
      "FastICA         =  paoletti  paoletti\n",
      "\n",
      "li vs hamida - IOU in Salinas\n",
      "        8       15      30\n",
      "PCA      =       =      li\n",
      "FastICA  =  hamida  hamida\n",
      "\n",
      "mou vs paoletti - IOU in IndianPines\n",
      "        8         15        30\n",
      "PCA      =         =         =\n",
      "FastICA  =  paoletti  paoletti\n",
      "\n",
      "li vs hamida - IOU in IndianPines\n",
      "             8       15      30\n",
      "PCA           =  hamida  hamida\n",
      "FastICA  hamida  hamida  hamida\n"
     ]
    }
   ],
   "source": [
    "metric = 'IOU'\n",
    "\n",
    "for ds in ['Salinas', 'IndianPines']:\n",
    "    for paired_models in [['mou', 'paoletti'], ['li', 'hamida']]:\n",
    "        df_ttest = pd.DataFrame(columns=[8, 15, 30])\n",
    "        print(f'\\n{paired_models[0]} vs {paired_models[1]} - {metric} in {ds}')\n",
    "        for dr_method in ['PCA', 'FastICA']:\n",
    "            diffs = []\n",
    "            for n_comps in [8, 15, 30]:\n",
    "                scores_df = scores_by_model(df_results[df_results['Model'].isin(paired_models)], \n",
    "                                            dataset=ds, \n",
    "                                            dr_method=dr_method, \n",
    "                                            n_comps=n_comps,\n",
    "                                            scores=metric)\n",
    "                \n",
    "                diffs.append(paired_t_test(scores_df))\n",
    "            df_ttest.loc[dr_method] = diffs\n",
    "        print(df_ttest)\n",
    "\n",
    "\n"
   ]
  },
  {
   "cell_type": "code",
   "execution_count": 129,
   "metadata": {},
   "outputs": [
    {
     "data": {
      "text/html": [
       "<div>\n",
       "<style scoped>\n",
       "    .dataframe tbody tr th:only-of-type {\n",
       "        vertical-align: middle;\n",
       "    }\n",
       "\n",
       "    .dataframe tbody tr th {\n",
       "        vertical-align: top;\n",
       "    }\n",
       "\n",
       "    .dataframe thead th {\n",
       "        text-align: right;\n",
       "    }\n",
       "</style>\n",
       "<table border=\"1\" class=\"dataframe\">\n",
       "  <thead>\n",
       "    <tr style=\"text-align: right;\">\n",
       "      <th></th>\n",
       "      <th>Class 1</th>\n",
       "      <th>Class 2</th>\n",
       "      <th>Class 3</th>\n",
       "      <th>Class 4</th>\n",
       "      <th>Class 5</th>\n",
       "      <th>Class 6</th>\n",
       "      <th>Class 7</th>\n",
       "      <th>Class 8</th>\n",
       "      <th>Class 9</th>\n",
       "      <th>Class 10</th>\n",
       "      <th>Class 11</th>\n",
       "      <th>Class 12</th>\n",
       "      <th>Class 13</th>\n",
       "      <th>Class 14</th>\n",
       "      <th>Class 15</th>\n",
       "      <th>Class 16</th>\n",
       "      <th>Class 17</th>\n",
       "      <th>Mean</th>\n",
       "    </tr>\n",
       "    <tr>\n",
       "      <th>Model</th>\n",
       "      <th></th>\n",
       "      <th></th>\n",
       "      <th></th>\n",
       "      <th></th>\n",
       "      <th></th>\n",
       "      <th></th>\n",
       "      <th></th>\n",
       "      <th></th>\n",
       "      <th></th>\n",
       "      <th></th>\n",
       "      <th></th>\n",
       "      <th></th>\n",
       "      <th></th>\n",
       "      <th></th>\n",
       "      <th></th>\n",
       "      <th></th>\n",
       "      <th></th>\n",
       "      <th></th>\n",
       "    </tr>\n",
       "  </thead>\n",
       "  <tbody>\n",
       "    <tr>\n",
       "      <th>hamida</th>\n",
       "      <td>0.0</td>\n",
       "      <td>0.952713</td>\n",
       "      <td>0.999732</td>\n",
       "      <td>0.998988</td>\n",
       "      <td>0.988555</td>\n",
       "      <td>0.997764</td>\n",
       "      <td>0.984095</td>\n",
       "      <td>0.987709</td>\n",
       "      <td>0.876836</td>\n",
       "      <td>0.994368</td>\n",
       "      <td>0.953600</td>\n",
       "      <td>0.964552</td>\n",
       "      <td>0.968427</td>\n",
       "      <td>0.975983</td>\n",
       "      <td>0.970149</td>\n",
       "      <td>0.806371</td>\n",
       "      <td>0.856669</td>\n",
       "      <td>0.898618</td>\n",
       "    </tr>\n",
       "    <tr>\n",
       "      <th>li</th>\n",
       "      <td>0.0</td>\n",
       "      <td>0.952713</td>\n",
       "      <td>1.000000</td>\n",
       "      <td>0.999494</td>\n",
       "      <td>0.992832</td>\n",
       "      <td>0.999627</td>\n",
       "      <td>0.984592</td>\n",
       "      <td>0.987989</td>\n",
       "      <td>0.896274</td>\n",
       "      <td>0.995330</td>\n",
       "      <td>0.966819</td>\n",
       "      <td>0.966324</td>\n",
       "      <td>0.970451</td>\n",
       "      <td>0.975983</td>\n",
       "      <td>0.970121</td>\n",
       "      <td>0.826120</td>\n",
       "      <td>0.860066</td>\n",
       "      <td>0.902631</td>\n",
       "    </tr>\n",
       "  </tbody>\n",
       "</table>\n",
       "</div>"
      ],
      "text/plain": [
       "        Class 1   Class 2   Class 3   Class 4   Class 5   Class 6   Class 7  \\\n",
       "Model                                                                         \n",
       "hamida      0.0  0.952713  0.999732  0.998988  0.988555  0.997764  0.984095   \n",
       "li          0.0  0.952713  1.000000  0.999494  0.992832  0.999627  0.984592   \n",
       "\n",
       "         Class 8   Class 9  Class 10  Class 11  Class 12  Class 13  Class 14  \\\n",
       "Model                                                                          \n",
       "hamida  0.987709  0.876836  0.994368  0.953600  0.964552  0.968427  0.975983   \n",
       "li      0.987989  0.896274  0.995330  0.966819  0.966324  0.970451  0.975983   \n",
       "\n",
       "        Class 15  Class 16  Class 17      Mean  \n",
       "Model                                           \n",
       "hamida  0.970149  0.806371  0.856669  0.898618  \n",
       "li      0.970121  0.826120  0.860066  0.902631  "
      ]
     },
     "execution_count": 129,
     "metadata": {},
     "output_type": "execute_result"
    }
   ],
   "source": [
    "ds = 'Salinas'\n",
    "dr = 'PCA'\n",
    "n_comps=30\n",
    "metric = 'IOU'\n",
    "\n",
    "scores_df = scores_by_model(df_results[df_results['Model'].isin(['li', 'hamida'])], \n",
    "                            dataset=ds, \n",
    "                            dr_method=dr, \n",
    "                            n_comps=n_comps,\n",
    "                            scores=metric)\n",
    "scores_df['Mean'] = scores_df.agg('mean', axis=1).values\n",
    "scores_df"
   ]
  },
  {
   "cell_type": "code",
   "execution_count": 127,
   "metadata": {},
   "outputs": [
    {
     "data": {
      "text/html": [
       "<div>\n",
       "<style scoped>\n",
       "    .dataframe tbody tr th:only-of-type {\n",
       "        vertical-align: middle;\n",
       "    }\n",
       "\n",
       "    .dataframe tbody tr th {\n",
       "        vertical-align: top;\n",
       "    }\n",
       "\n",
       "    .dataframe thead th {\n",
       "        text-align: right;\n",
       "    }\n",
       "</style>\n",
       "<table border=\"1\" class=\"dataframe\">\n",
       "  <thead>\n",
       "    <tr style=\"text-align: right;\">\n",
       "      <th>N Components</th>\n",
       "      <th>8</th>\n",
       "      <th>15</th>\n",
       "      <th>30</th>\n",
       "    </tr>\n",
       "    <tr>\n",
       "      <th>Model</th>\n",
       "      <th></th>\n",
       "      <th></th>\n",
       "      <th></th>\n",
       "    </tr>\n",
       "  </thead>\n",
       "  <tbody>\n",
       "    <tr>\n",
       "      <th>hamida</th>\n",
       "      <td>96.614304</td>\n",
       "      <td>97.346083</td>\n",
       "      <td>97.404625</td>\n",
       "    </tr>\n",
       "    <tr>\n",
       "      <th>li</th>\n",
       "      <td>94.175041</td>\n",
       "      <td>97.199727</td>\n",
       "      <td>23.338862</td>\n",
       "    </tr>\n",
       "    <tr>\n",
       "      <th>mou</th>\n",
       "      <td>87.423163</td>\n",
       "      <td>93.013953</td>\n",
       "      <td>87.657332</td>\n",
       "    </tr>\n",
       "    <tr>\n",
       "      <th>paoletti</th>\n",
       "      <td>89.745341</td>\n",
       "      <td>96.848473</td>\n",
       "      <td>91.911406</td>\n",
       "    </tr>\n",
       "  </tbody>\n",
       "</table>\n",
       "</div>"
      ],
      "text/plain": [
       "N Components         8          15         30\n",
       "Model                                        \n",
       "hamida        96.614304  97.346083  97.404625\n",
       "li            94.175041  97.199727  23.338862\n",
       "mou           87.423163  93.013953  87.657332\n",
       "paoletti      89.745341  96.848473  91.911406"
      ]
     },
     "execution_count": 127,
     "metadata": {},
     "output_type": "execute_result"
    }
   ],
   "source": [
    "accuracies = accuracies_by_n_comps(df_results, ds, dr)\n",
    "accuracies"
   ]
  },
  {
   "cell_type": "code",
   "execution_count": 132,
   "metadata": {},
   "outputs": [
    {
     "data": {
      "text/html": [
       "<div>\n",
       "<style scoped>\n",
       "    .dataframe tbody tr th:only-of-type {\n",
       "        vertical-align: middle;\n",
       "    }\n",
       "\n",
       "    .dataframe tbody tr th {\n",
       "        vertical-align: top;\n",
       "    }\n",
       "\n",
       "    .dataframe thead th {\n",
       "        text-align: right;\n",
       "    }\n",
       "</style>\n",
       "<table border=\"1\" class=\"dataframe\">\n",
       "  <thead>\n",
       "    <tr style=\"text-align: right;\">\n",
       "      <th></th>\n",
       "      <th>Experiment</th>\n",
       "      <th>Confusion matrix</th>\n",
       "      <th>Accuracy</th>\n",
       "      <th>F1 scores</th>\n",
       "      <th>Kappa</th>\n",
       "      <th>IOU</th>\n",
       "      <th>Dataset</th>\n",
       "      <th>DR Method</th>\n",
       "      <th>N Components</th>\n",
       "      <th>Model</th>\n",
       "    </tr>\n",
       "  </thead>\n",
       "  <tbody>\n",
       "    <tr>\n",
       "      <th>22</th>\n",
       "      <td>Salinas_FastICA_30_li</td>\n",
       "      <td>[[0, 0, 0, 0, 0, 0, 0, 0, 0, 0, 0, 0, 0, 0, 0,...</td>\n",
       "      <td>20.512110</td>\n",
       "      <td>[0.0, 0.0, 0.0, 0.0, 0.0, 0.0, 0.0, 0.0, 0.345...</td>\n",
       "      <td>0.001808</td>\n",
       "      <td>[0.0, 0.0, 0.0, 0.0, 0.0, 0.0, 0.0, 0.0, 0.209...</td>\n",
       "      <td>Salinas</td>\n",
       "      <td>FastICA</td>\n",
       "      <td>30</td>\n",
       "      <td>li</td>\n",
       "    </tr>\n",
       "    <tr>\n",
       "      <th>20</th>\n",
       "      <td>Salinas_FastICA_30_mou</td>\n",
       "      <td>[[0, 0, 0, 0, 0, 0, 0, 0, 0, 0, 0, 0, 0, 0, 0,...</td>\n",
       "      <td>20.512110</td>\n",
       "      <td>[0.0, 0.0, 0.0, 0.0, 0.0, 0.0, 0.0, 0.0, 0.345...</td>\n",
       "      <td>0.001808</td>\n",
       "      <td>[0.0, 0.0, 0.0, 0.0, 0.0, 0.0, 0.0, 0.0, 0.209...</td>\n",
       "      <td>Salinas</td>\n",
       "      <td>FastICA</td>\n",
       "      <td>30</td>\n",
       "      <td>mou</td>\n",
       "    </tr>\n",
       "    <tr>\n",
       "      <th>18</th>\n",
       "      <td>Salinas_FastICA_15_li</td>\n",
       "      <td>[[0, 0, 0, 0, 0, 0, 0, 0, 0, 0, 0, 0, 0, 0, 0,...</td>\n",
       "      <td>20.512110</td>\n",
       "      <td>[0.0, 0.0, 0.0, 0.0, 0.0, 0.0, 0.0, 0.0, 0.345...</td>\n",
       "      <td>0.001808</td>\n",
       "      <td>[0.0, 0.0, 0.0, 0.0, 0.0, 0.0, 0.0, 0.0, 0.209...</td>\n",
       "      <td>Salinas</td>\n",
       "      <td>FastICA</td>\n",
       "      <td>15</td>\n",
       "      <td>li</td>\n",
       "    </tr>\n",
       "    <tr>\n",
       "      <th>46</th>\n",
       "      <td>IndianPines_FastICA_30_li</td>\n",
       "      <td>[[0, 0, 0, 0, 0, 0, 0, 0, 0, 0, 0, 0, 0, 0, 0,...</td>\n",
       "      <td>23.338862</td>\n",
       "      <td>[0.0, 0.0, 0.0, 0.0, 0.0, 0.0, 0.0, 0.0, 0.0, ...</td>\n",
       "      <td>-0.000244</td>\n",
       "      <td>[0.0, 0.0, 0.0, 0.0, 0.0, 0.0, 0.0, 0.0, 0.0, ...</td>\n",
       "      <td>IndianPines</td>\n",
       "      <td>FastICA</td>\n",
       "      <td>30</td>\n",
       "      <td>li</td>\n",
       "    </tr>\n",
       "    <tr>\n",
       "      <th>34</th>\n",
       "      <td>IndianPines_PCA_30_li</td>\n",
       "      <td>[[0, 0, 0, 0, 0, 0, 0, 0, 0, 0, 0, 0, 0, 0, 0,...</td>\n",
       "      <td>23.350254</td>\n",
       "      <td>[0.0, 0.0, 0.0, 0.0, 0.0, 0.0, 0.0, 0.0, 0.0, ...</td>\n",
       "      <td>-0.000393</td>\n",
       "      <td>[0.0, 0.0, 0.0, 0.0, 0.0, 0.0, 0.0, 0.0, 0.0, ...</td>\n",
       "      <td>IndianPines</td>\n",
       "      <td>PCA</td>\n",
       "      <td>30</td>\n",
       "      <td>li</td>\n",
       "    </tr>\n",
       "    <tr>\n",
       "      <th>32</th>\n",
       "      <td>IndianPines_PCA_30_mou</td>\n",
       "      <td>[[0, 0, 0, 0, 0, 0, 0, 0, 0, 0, 0, 0, 0, 0, 0,...</td>\n",
       "      <td>62.641546</td>\n",
       "      <td>[0.0, 0.4444444444444444, 0.48086991542488927,...</td>\n",
       "      <td>0.561471</td>\n",
       "      <td>[0.0, 0.2857142857142857, 0.316542948038176, 0...</td>\n",
       "      <td>IndianPines</td>\n",
       "      <td>PCA</td>\n",
       "      <td>30</td>\n",
       "      <td>mou</td>\n",
       "    </tr>\n",
       "    <tr>\n",
       "      <th>35</th>\n",
       "      <td>IndianPines_PCA_30_paoletti</td>\n",
       "      <td>[[0, 0, 0, 0, 0, 0, 0, 0, 0, 0, 0, 0, 0, 0, 0,...</td>\n",
       "      <td>63.772075</td>\n",
       "      <td>[0.0, 0.31746031746031744, 0.5379639087504257,...</td>\n",
       "      <td>0.581231</td>\n",
       "      <td>[0.0, 0.18867924528301888, 0.367955286446204, ...</td>\n",
       "      <td>IndianPines</td>\n",
       "      <td>PCA</td>\n",
       "      <td>30</td>\n",
       "      <td>paoletti</td>\n",
       "    </tr>\n",
       "    <tr>\n",
       "      <th>31</th>\n",
       "      <td>IndianPines_PCA_15_paoletti</td>\n",
       "      <td>[[0, 0, 0, 0, 0, 0, 0, 0, 0, 0, 0, 0, 0, 0, 0,...</td>\n",
       "      <td>66.777247</td>\n",
       "      <td>[0.0, 0.2857142857142857, 0.5578099838969404, ...</td>\n",
       "      <td>0.617421</td>\n",
       "      <td>[0.0, 0.16666666666666666, 0.38677981241625725...</td>\n",
       "      <td>IndianPines</td>\n",
       "      <td>PCA</td>\n",
       "      <td>15</td>\n",
       "      <td>paoletti</td>\n",
       "    </tr>\n",
       "    <tr>\n",
       "      <th>28</th>\n",
       "      <td>IndianPines_PCA_15_mou</td>\n",
       "      <td>[[0, 0, 0, 0, 0, 0, 0, 0, 0, 0, 0, 0, 0, 0, 0,...</td>\n",
       "      <td>68.757928</td>\n",
       "      <td>[0.0, 0.345679012345679, 0.6813348001466814, 0...</td>\n",
       "      <td>0.641556</td>\n",
       "      <td>[0.0, 0.208955223880597, 0.5166852057842046, 0...</td>\n",
       "      <td>IndianPines</td>\n",
       "      <td>PCA</td>\n",
       "      <td>15</td>\n",
       "      <td>mou</td>\n",
       "    </tr>\n",
       "    <tr>\n",
       "      <th>27</th>\n",
       "      <td>IndianPines_PCA_8_paoletti</td>\n",
       "      <td>[[0, 0, 0, 0, 0, 0, 0, 0, 0, 0, 0, 0, 0, 0, 0,...</td>\n",
       "      <td>69.919016</td>\n",
       "      <td>[0.0, 0.6274509803921569, 0.582398912674142, 0...</td>\n",
       "      <td>0.651425</td>\n",
       "      <td>[0.0, 0.45714285714285713, 0.41083413231064236...</td>\n",
       "      <td>IndianPines</td>\n",
       "      <td>PCA</td>\n",
       "      <td>8</td>\n",
       "      <td>paoletti</td>\n",
       "    </tr>\n",
       "    <tr>\n",
       "      <th>24</th>\n",
       "      <td>IndianPines_PCA_8_mou</td>\n",
       "      <td>[[0, 0, 0, 0, 0, 0, 0, 0, 0, 0, 0, 0, 0, 0, 0,...</td>\n",
       "      <td>71.567958</td>\n",
       "      <td>[0.0, 0.5833333333333334, 0.6258023106546855, ...</td>\n",
       "      <td>0.675416</td>\n",
       "      <td>[0.0, 0.4117647058823529, 0.45539467538533396,...</td>\n",
       "      <td>IndianPines</td>\n",
       "      <td>PCA</td>\n",
       "      <td>8</td>\n",
       "      <td>mou</td>\n",
       "    </tr>\n",
       "    <tr>\n",
       "      <th>30</th>\n",
       "      <td>IndianPines_PCA_15_li</td>\n",
       "      <td>[[0, 0, 0, 0, 0, 0, 0, 0, 0, 0, 0, 0, 0, 0, 0,...</td>\n",
       "      <td>86.798712</td>\n",
       "      <td>[0.0, 1.0, 0.8056726715216558, 0.7773386034255...</td>\n",
       "      <td>0.848881</td>\n",
       "      <td>[0.0, 1.0, 0.6745827984595636, 0.6357758620689...</td>\n",
       "      <td>IndianPines</td>\n",
       "      <td>PCA</td>\n",
       "      <td>15</td>\n",
       "      <td>li</td>\n",
       "    </tr>\n",
       "    <tr>\n",
       "      <th>17</th>\n",
       "      <td>Salinas_FastICA_15_hamida</td>\n",
       "      <td>[[0, 0, 0, 0, 0, 0, 0, 0, 0, 0, 0, 0, 0, 0, 0,...</td>\n",
       "      <td>86.838848</td>\n",
       "      <td>[0.0, 0.969265938531877, 0.9588685610483976, 0...</td>\n",
       "      <td>0.853099</td>\n",
       "      <td>[0.0, 0.9403647116806308, 0.92098703888335, 0....</td>\n",
       "      <td>Salinas</td>\n",
       "      <td>FastICA</td>\n",
       "      <td>15</td>\n",
       "      <td>hamida</td>\n",
       "    </tr>\n",
       "    <tr>\n",
       "      <th>36</th>\n",
       "      <td>IndianPines_FastICA_8_mou</td>\n",
       "      <td>[[0, 0, 0, 0, 0, 0, 0, 0, 0, 0, 0, 0, 0, 0, 0,...</td>\n",
       "      <td>87.423163</td>\n",
       "      <td>[0.0, 0.8051948051948052, 0.8654813820865481, ...</td>\n",
       "      <td>0.856746</td>\n",
       "      <td>[0.0, 0.6739130434782609, 0.7628622117090479, ...</td>\n",
       "      <td>IndianPines</td>\n",
       "      <td>FastICA</td>\n",
       "      <td>8</td>\n",
       "      <td>mou</td>\n",
       "    </tr>\n",
       "    <tr>\n",
       "      <th>44</th>\n",
       "      <td>IndianPines_FastICA_30_mou</td>\n",
       "      <td>[[0, 0, 0, 0, 0, 0, 0, 0, 0, 0, 0, 0, 0, 0, 0,...</td>\n",
       "      <td>87.657332</td>\n",
       "      <td>[0.0, 0.967032967032967, 0.8526754690757471, 0...</td>\n",
       "      <td>0.859350</td>\n",
       "      <td>[0.0, 0.9361702127659575, 0.7431859479103574, ...</td>\n",
       "      <td>IndianPines</td>\n",
       "      <td>FastICA</td>\n",
       "      <td>30</td>\n",
       "      <td>mou</td>\n",
       "    </tr>\n",
       "    <tr>\n",
       "      <th>8</th>\n",
       "      <td>Salinas_PCA_30_mou</td>\n",
       "      <td>[[0, 0, 0, 0, 0, 0, 0, 0, 0, 0, 0, 0, 0, 0, 0,...</td>\n",
       "      <td>87.877108</td>\n",
       "      <td>[0.0, 0.9520083463745436, 0.9853723404255319, ...</td>\n",
       "      <td>0.865283</td>\n",
       "      <td>[0.0, 0.9084121453459433, 0.9711664482306684, ...</td>\n",
       "      <td>Salinas</td>\n",
       "      <td>PCA</td>\n",
       "      <td>30</td>\n",
       "      <td>mou</td>\n",
       "    </tr>\n",
       "    <tr>\n",
       "      <th>4</th>\n",
       "      <td>Salinas_PCA_15_mou</td>\n",
       "      <td>[[0, 0, 0, 0, 0, 0, 0, 0, 0, 0, 0, 0, 0, 0, 0,...</td>\n",
       "      <td>88.368527</td>\n",
       "      <td>[0.0, 0.9602446483180428, 0.9885675857431069, ...</td>\n",
       "      <td>0.870863</td>\n",
       "      <td>[0.0, 0.9235294117647059, 0.9773936170212766, ...</td>\n",
       "      <td>Salinas</td>\n",
       "      <td>PCA</td>\n",
       "      <td>15</td>\n",
       "      <td>mou</td>\n",
       "    </tr>\n",
       "    <tr>\n",
       "      <th>0</th>\n",
       "      <td>Salinas_PCA_8_mou</td>\n",
       "      <td>[[0, 0, 0, 0, 0, 0, 0, 0, 0, 0, 0, 0, 0, 0, 0,...</td>\n",
       "      <td>88.396239</td>\n",
       "      <td>[0.0, 0.9673940949935815, 0.993193647404244, 0...</td>\n",
       "      <td>0.871131</td>\n",
       "      <td>[0.0, 0.9368473396320238, 0.9864793213149523, ...</td>\n",
       "      <td>Salinas</td>\n",
       "      <td>PCA</td>\n",
       "      <td>8</td>\n",
       "      <td>mou</td>\n",
       "    </tr>\n",
       "    <tr>\n",
       "      <th>7</th>\n",
       "      <td>Salinas_PCA_15_paoletti</td>\n",
       "      <td>[[0, 0, 0, 0, 0, 0, 0, 0, 0, 0, 0, 0, 0, 0, 0,...</td>\n",
       "      <td>88.865488</td>\n",
       "      <td>[0.0, 0.8845086063298168, 0.9571152607855763, ...</td>\n",
       "      <td>0.876396</td>\n",
       "      <td>[0.0, 0.7929318068690892, 0.917757470980489, 0...</td>\n",
       "      <td>Salinas</td>\n",
       "      <td>PCA</td>\n",
       "      <td>15</td>\n",
       "      <td>paoletti</td>\n",
       "    </tr>\n",
       "    <tr>\n",
       "      <th>3</th>\n",
       "      <td>Salinas_PCA_8_paoletti</td>\n",
       "      <td>[[0, 0, 0, 0, 0, 0, 0, 0, 0, 0, 0, 0, 0, 0, 0,...</td>\n",
       "      <td>89.194332</td>\n",
       "      <td>[0.0, 0.9456216492213428, 0.981309667876832, 0...</td>\n",
       "      <td>0.879867</td>\n",
       "      <td>[0.0, 0.8968523002421307, 0.9633051742344245, ...</td>\n",
       "      <td>Salinas</td>\n",
       "      <td>PCA</td>\n",
       "      <td>8</td>\n",
       "      <td>paoletti</td>\n",
       "    </tr>\n",
       "    <tr>\n",
       "      <th>26</th>\n",
       "      <td>IndianPines_PCA_8_li</td>\n",
       "      <td>[[0, 0, 0, 0, 0, 0, 0, 0, 0, 0, 0, 0, 0, 0, 0,...</td>\n",
       "      <td>89.277003</td>\n",
       "      <td>[0.0, 1.0, 0.8377331925378388, 0.8640321500334...</td>\n",
       "      <td>0.877482</td>\n",
       "      <td>[0.0, 1.0, 0.7207752877044216, 0.7606132075471...</td>\n",
       "      <td>IndianPines</td>\n",
       "      <td>PCA</td>\n",
       "      <td>8</td>\n",
       "      <td>li</td>\n",
       "    </tr>\n",
       "    <tr>\n",
       "      <th>39</th>\n",
       "      <td>IndianPines_FastICA_8_paoletti</td>\n",
       "      <td>[[0, 0, 0, 0, 0, 0, 0, 0, 0, 0, 0, 0, 0, 0, 0,...</td>\n",
       "      <td>89.745341</td>\n",
       "      <td>[0.0, 0.72, 0.900907187718074, 0.8162746344564...</td>\n",
       "      <td>0.883356</td>\n",
       "      <td>[0.0, 0.5625, 0.8196825396825397, 0.6895810955...</td>\n",
       "      <td>IndianPines</td>\n",
       "      <td>FastICA</td>\n",
       "      <td>8</td>\n",
       "      <td>paoletti</td>\n",
       "    </tr>\n",
       "    <tr>\n",
       "      <th>11</th>\n",
       "      <td>Salinas_PCA_30_paoletti</td>\n",
       "      <td>[[0, 0, 0, 0, 0, 0, 0, 0, 0, 0, 0, 0, 0, 0, 0,...</td>\n",
       "      <td>90.457980</td>\n",
       "      <td>[0.0, 0.973953013278856, 0.9967845659163987, 0...</td>\n",
       "      <td>0.894100</td>\n",
       "      <td>[0.0, 0.9492284718765555, 0.9935897435897436, ...</td>\n",
       "      <td>Salinas</td>\n",
       "      <td>PCA</td>\n",
       "      <td>30</td>\n",
       "      <td>paoletti</td>\n",
       "    </tr>\n",
       "    <tr>\n",
       "      <th>47</th>\n",
       "      <td>IndianPines_FastICA_30_paoletti</td>\n",
       "      <td>[[0, 0, 0, 0, 0, 0, 0, 0, 0, 0, 0, 0, 0, 0, 0,...</td>\n",
       "      <td>91.911406</td>\n",
       "      <td>[0.0, 0.989010989010989, 0.9419627154414351, 0...</td>\n",
       "      <td>0.908048</td>\n",
       "      <td>[0.0, 0.9782608695652174, 0.8902925531914894, ...</td>\n",
       "      <td>IndianPines</td>\n",
       "      <td>FastICA</td>\n",
       "      <td>30</td>\n",
       "      <td>paoletti</td>\n",
       "    </tr>\n",
       "    <tr>\n",
       "      <th>2</th>\n",
       "      <td>Salinas_PCA_8_li</td>\n",
       "      <td>[[0, 0, 0, 0, 0, 0, 0, 0, 0, 0, 0, 0, 0, 0, 0,...</td>\n",
       "      <td>92.802380</td>\n",
       "      <td>[0.0, 0.9757838388988019, 1.0, 0.9861680327868...</td>\n",
       "      <td>0.919929</td>\n",
       "      <td>[0.0, 0.9527127924340468, 1.0, 0.9727134916624...</td>\n",
       "      <td>Salinas</td>\n",
       "      <td>PCA</td>\n",
       "      <td>8</td>\n",
       "      <td>li</td>\n",
       "    </tr>\n",
       "    <tr>\n",
       "      <th>40</th>\n",
       "      <td>IndianPines_FastICA_15_mou</td>\n",
       "      <td>[[0, 0, 0, 0, 0, 0, 0, 0, 0, 0, 0, 0, 0, 0, 0,...</td>\n",
       "      <td>93.013953</td>\n",
       "      <td>[0.0, 0.9662921348314607, 0.932536893886156, 0...</td>\n",
       "      <td>0.920556</td>\n",
       "      <td>[0.0, 0.9347826086956522, 0.8736010533245556, ...</td>\n",
       "      <td>IndianPines</td>\n",
       "      <td>FastICA</td>\n",
       "      <td>15</td>\n",
       "      <td>mou</td>\n",
       "    </tr>\n",
       "    <tr>\n",
       "      <th>12</th>\n",
       "      <td>Salinas_FastICA_8_mou</td>\n",
       "      <td>[[0, 0, 0, 0, 0, 0, 0, 0, 0, 0, 0, 0, 0, 0, 0,...</td>\n",
       "      <td>93.116444</td>\n",
       "      <td>[0.0, 0.9757838388988019, 1.0, 0.9909547738693...</td>\n",
       "      <td>0.923446</td>\n",
       "      <td>[0.0, 0.9527127924340468, 1.0, 0.9820717131474...</td>\n",
       "      <td>Salinas</td>\n",
       "      <td>FastICA</td>\n",
       "      <td>8</td>\n",
       "      <td>mou</td>\n",
       "    </tr>\n",
       "    <tr>\n",
       "      <th>1</th>\n",
       "      <td>Salinas_PCA_8_hamida</td>\n",
       "      <td>[[0, 0, 0, 0, 0, 0, 0, 0, 0, 0, 0, 0, 0, 0, 0,...</td>\n",
       "      <td>93.166325</td>\n",
       "      <td>[0.0, 0.9729038854805726, 0.9982580731609273, ...</td>\n",
       "      <td>0.924037</td>\n",
       "      <td>[0.0, 0.947237431557989, 0.9965222043873729, 0...</td>\n",
       "      <td>Salinas</td>\n",
       "      <td>PCA</td>\n",
       "      <td>8</td>\n",
       "      <td>hamida</td>\n",
       "    </tr>\n",
       "    <tr>\n",
       "      <th>25</th>\n",
       "      <td>IndianPines_PCA_8_hamida</td>\n",
       "      <td>[[0, 0, 0, 0, 0, 0, 0, 0, 0, 0, 0, 0, 0, 0, 0,...</td>\n",
       "      <td>93.531076</td>\n",
       "      <td>[0.0, 0.7567567567567568, 0.9403141361256544, ...</td>\n",
       "      <td>0.926518</td>\n",
       "      <td>[0.0, 0.6086956521739131, 0.8873517786561265, ...</td>\n",
       "      <td>IndianPines</td>\n",
       "      <td>PCA</td>\n",
       "      <td>8</td>\n",
       "      <td>hamida</td>\n",
       "    </tr>\n",
       "    <tr>\n",
       "      <th>23</th>\n",
       "      <td>Salinas_FastICA_30_paoletti</td>\n",
       "      <td>[[0, 0, 0, 0, 0, 0, 0, 0, 0, 0, 0, 0, 0, 0, 0,...</td>\n",
       "      <td>93.822166</td>\n",
       "      <td>[0.0, 0.9732347693092022, 0.9993291292097142, ...</td>\n",
       "      <td>0.931475</td>\n",
       "      <td>[0.0, 0.9478649453823237, 0.9986591579511933, ...</td>\n",
       "      <td>Salinas</td>\n",
       "      <td>FastICA</td>\n",
       "      <td>30</td>\n",
       "      <td>paoletti</td>\n",
       "    </tr>\n",
       "    <tr>\n",
       "      <th>38</th>\n",
       "      <td>IndianPines_FastICA_8_li</td>\n",
       "      <td>[[0, 0, 0, 0, 0, 0, 0, 0, 0, 0, 0, 0, 0, 0, 0,...</td>\n",
       "      <td>94.175041</td>\n",
       "      <td>[0.0, 1.0, 0.9162248144220573, 0.9011957205789...</td>\n",
       "      <td>0.933715</td>\n",
       "      <td>[0.0, 1.0, 0.8454011741682974, 0.8201603665521...</td>\n",
       "      <td>IndianPines</td>\n",
       "      <td>FastICA</td>\n",
       "      <td>8</td>\n",
       "      <td>li</td>\n",
       "    </tr>\n",
       "    <tr>\n",
       "      <th>6</th>\n",
       "      <td>Salinas_PCA_15_li</td>\n",
       "      <td>[[0, 0, 0, 0, 0, 0, 0, 0, 0, 0, 0, 0, 0, 0, 0,...</td>\n",
       "      <td>94.620259</td>\n",
       "      <td>[0.0, 0.9757838388988019, 1.0, 0.9972229235041...</td>\n",
       "      <td>0.940243</td>\n",
       "      <td>[0.0, 0.9527127924340468, 1.0, 0.9944612286002...</td>\n",
       "      <td>Salinas</td>\n",
       "      <td>PCA</td>\n",
       "      <td>15</td>\n",
       "      <td>li</td>\n",
       "    </tr>\n",
       "    <tr>\n",
       "      <th>14</th>\n",
       "      <td>Salinas_FastICA_8_li</td>\n",
       "      <td>[[0, 0, 0, 0, 0, 0, 0, 0, 0, 0, 0, 0, 0, 0, 0,...</td>\n",
       "      <td>94.777291</td>\n",
       "      <td>[0.0, 0.9757838388988019, 0.9998657898268689, ...</td>\n",
       "      <td>0.941983</td>\n",
       "      <td>[0.0, 0.9527127924340468, 0.9997316156736447, ...</td>\n",
       "      <td>Salinas</td>\n",
       "      <td>FastICA</td>\n",
       "      <td>8</td>\n",
       "      <td>li</td>\n",
       "    </tr>\n",
       "    <tr>\n",
       "      <th>5</th>\n",
       "      <td>Salinas_PCA_15_hamida</td>\n",
       "      <td>[[0, 0, 0, 0, 0, 0, 0, 0, 0, 0, 0, 0, 0, 0, 0,...</td>\n",
       "      <td>94.838257</td>\n",
       "      <td>[0.0, 0.975, 0.9995975855130784, 0.99466327827...</td>\n",
       "      <td>0.942666</td>\n",
       "      <td>[0.0, 0.9512195121951219, 0.999195494770716, 0...</td>\n",
       "      <td>Salinas</td>\n",
       "      <td>PCA</td>\n",
       "      <td>15</td>\n",
       "      <td>hamida</td>\n",
       "    </tr>\n",
       "    <tr>\n",
       "      <th>16</th>\n",
       "      <td>Salinas_FastICA_15_mou</td>\n",
       "      <td>[[0, 0, 0, 0, 0, 0, 0, 0, 0, 0, 0, 0, 0, 0, 0,...</td>\n",
       "      <td>94.845647</td>\n",
       "      <td>[0.0, 0.9752614129048712, 0.9995974775258285, ...</td>\n",
       "      <td>0.942764</td>\n",
       "      <td>[0.0, 0.9517172722747635, 0.9991952789699571, ...</td>\n",
       "      <td>Salinas</td>\n",
       "      <td>FastICA</td>\n",
       "      <td>15</td>\n",
       "      <td>mou</td>\n",
       "    </tr>\n",
       "    <tr>\n",
       "      <th>13</th>\n",
       "      <td>Salinas_FastICA_8_hamida</td>\n",
       "      <td>[[0, 0, 0, 0, 0, 0, 0, 0, 0, 0, 0, 0, 0, 0, 0,...</td>\n",
       "      <td>95.067339</td>\n",
       "      <td>[0.0, 0.9757838388988019, 1.0, 0.9984833164812...</td>\n",
       "      <td>0.945191</td>\n",
       "      <td>[0.0, 0.9527127924340468, 1.0, 0.9969712266532...</td>\n",
       "      <td>Salinas</td>\n",
       "      <td>FastICA</td>\n",
       "      <td>8</td>\n",
       "      <td>hamida</td>\n",
       "    </tr>\n",
       "    <tr>\n",
       "      <th>9</th>\n",
       "      <td>Salinas_PCA_30_hamida</td>\n",
       "      <td>[[0, 0, 0, 0, 0, 0, 0, 0, 0, 0, 0, 0, 0, 0, 0,...</td>\n",
       "      <td>95.372166</td>\n",
       "      <td>[0.0, 0.9757838388988019, 0.9998658258419428, ...</td>\n",
       "      <td>0.948605</td>\n",
       "      <td>[0.0, 0.9527127924340468, 0.9997316876844647, ...</td>\n",
       "      <td>Salinas</td>\n",
       "      <td>PCA</td>\n",
       "      <td>30</td>\n",
       "      <td>hamida</td>\n",
       "    </tr>\n",
       "    <tr>\n",
       "      <th>21</th>\n",
       "      <td>Salinas_FastICA_30_hamida</td>\n",
       "      <td>[[0, 0, 0, 0, 0, 0, 0, 0, 0, 0, 0, 0, 0, 0, 0,...</td>\n",
       "      <td>95.451606</td>\n",
       "      <td>[0.0, 0.9757838388988019, 0.9998658258419428, ...</td>\n",
       "      <td>0.949414</td>\n",
       "      <td>[0.0, 0.9527127924340468, 0.9997316876844647, ...</td>\n",
       "      <td>Salinas</td>\n",
       "      <td>FastICA</td>\n",
       "      <td>30</td>\n",
       "      <td>hamida</td>\n",
       "    </tr>\n",
       "    <tr>\n",
       "      <th>15</th>\n",
       "      <td>Salinas_FastICA_8_paoletti</td>\n",
       "      <td>[[0, 0, 0, 0, 0, 0, 0, 0, 0, 0, 0, 0, 0, 0, 0,...</td>\n",
       "      <td>95.455301</td>\n",
       "      <td>[0.0, 0.9755226925038246, 0.9998658258419428, ...</td>\n",
       "      <td>0.949551</td>\n",
       "      <td>[0.0, 0.9522150323544052, 0.9997316876844647, ...</td>\n",
       "      <td>Salinas</td>\n",
       "      <td>FastICA</td>\n",
       "      <td>8</td>\n",
       "      <td>paoletti</td>\n",
       "    </tr>\n",
       "    <tr>\n",
       "      <th>10</th>\n",
       "      <td>Salinas_PCA_30_li</td>\n",
       "      <td>[[0, 0, 0, 0, 0, 0, 0, 0, 0, 0, 0, 0, 0, 0, 0,...</td>\n",
       "      <td>95.834026</td>\n",
       "      <td>[0.0, 0.9757838388988019, 1.0, 0.9997468995191...</td>\n",
       "      <td>0.953717</td>\n",
       "      <td>[0.0, 0.9527127924340468, 1.0, 0.9994939271255...</td>\n",
       "      <td>Salinas</td>\n",
       "      <td>PCA</td>\n",
       "      <td>30</td>\n",
       "      <td>li</td>\n",
       "    </tr>\n",
       "    <tr>\n",
       "      <th>37</th>\n",
       "      <td>IndianPines_FastICA_8_hamida</td>\n",
       "      <td>[[0, 0, 0, 0, 0, 0, 0, 0, 0, 0, 0, 0, 0, 0, 0,...</td>\n",
       "      <td>96.614304</td>\n",
       "      <td>[0.0, 1.0, 0.984182776801406, 0.93485135989879...</td>\n",
       "      <td>0.961510</td>\n",
       "      <td>[0.0, 1.0, 0.9688581314878892, 0.8776722090261...</td>\n",
       "      <td>IndianPines</td>\n",
       "      <td>FastICA</td>\n",
       "      <td>8</td>\n",
       "      <td>hamida</td>\n",
       "    </tr>\n",
       "    <tr>\n",
       "      <th>29</th>\n",
       "      <td>IndianPines_PCA_15_hamida</td>\n",
       "      <td>[[0, 0, 0, 0, 0, 0, 0, 0, 0, 0, 0, 0, 0, 0, 0,...</td>\n",
       "      <td>96.789931</td>\n",
       "      <td>[0.0, 0.989010989010989, 0.98698557861414, 0.9...</td>\n",
       "      <td>0.963501</td>\n",
       "      <td>[0.0, 0.9782608695652174, 0.9743055555555555, ...</td>\n",
       "      <td>IndianPines</td>\n",
       "      <td>PCA</td>\n",
       "      <td>15</td>\n",
       "      <td>hamida</td>\n",
       "    </tr>\n",
       "    <tr>\n",
       "      <th>43</th>\n",
       "      <td>IndianPines_FastICA_15_paoletti</td>\n",
       "      <td>[[0, 0, 0, 0, 0, 0, 0, 0, 0, 0, 0, 0, 0, 0, 0,...</td>\n",
       "      <td>96.848473</td>\n",
       "      <td>[0.0, 0.9777777777777777, 0.9898636840265641, ...</td>\n",
       "      <td>0.964188</td>\n",
       "      <td>[0.0, 0.9565217391304348, 0.9799307958477509, ...</td>\n",
       "      <td>IndianPines</td>\n",
       "      <td>FastICA</td>\n",
       "      <td>15</td>\n",
       "      <td>paoletti</td>\n",
       "    </tr>\n",
       "    <tr>\n",
       "      <th>19</th>\n",
       "      <td>Salinas_FastICA_15_paoletti</td>\n",
       "      <td>[[0, 0, 0, 0, 0, 0, 0, 0, 0, 0, 0, 0, 0, 0, 0,...</td>\n",
       "      <td>97.160487</td>\n",
       "      <td>[0.0, 0.9757838388988019, 1.0, 0.9984794728839...</td>\n",
       "      <td>0.968448</td>\n",
       "      <td>[0.0, 0.9527127924340468, 1.0, 0.9969635627530...</td>\n",
       "      <td>Salinas</td>\n",
       "      <td>FastICA</td>\n",
       "      <td>15</td>\n",
       "      <td>paoletti</td>\n",
       "    </tr>\n",
       "    <tr>\n",
       "      <th>42</th>\n",
       "      <td>IndianPines_FastICA_15_li</td>\n",
       "      <td>[[0, 0, 0, 0, 0, 0, 0, 0, 0, 0, 0, 0, 0, 0, 0,...</td>\n",
       "      <td>97.199727</td>\n",
       "      <td>[0.0, 1.0, 0.9957953749124037, 0.9426751592356...</td>\n",
       "      <td>0.968167</td>\n",
       "      <td>[0.0, 1.0, 0.9916259595254711, 0.8915662650602...</td>\n",
       "      <td>IndianPines</td>\n",
       "      <td>FastICA</td>\n",
       "      <td>15</td>\n",
       "      <td>li</td>\n",
       "    </tr>\n",
       "    <tr>\n",
       "      <th>33</th>\n",
       "      <td>IndianPines_PCA_30_hamida</td>\n",
       "      <td>[[0, 0, 0, 0, 0, 0, 0, 0, 0, 0, 0, 0, 0, 0, 0,...</td>\n",
       "      <td>97.256931</td>\n",
       "      <td>[0.0, 1.0, 0.9964985994397759, 0.9426751592356...</td>\n",
       "      <td>0.968805</td>\n",
       "      <td>[0.0, 1.0, 0.9930216329378926, 0.8915662650602...</td>\n",
       "      <td>IndianPines</td>\n",
       "      <td>PCA</td>\n",
       "      <td>30</td>\n",
       "      <td>hamida</td>\n",
       "    </tr>\n",
       "    <tr>\n",
       "      <th>41</th>\n",
       "      <td>IndianPines_FastICA_15_hamida</td>\n",
       "      <td>[[0, 0, 0, 0, 0, 0, 0, 0, 0, 0, 0, 0, 0, 0, 0,...</td>\n",
       "      <td>97.346083</td>\n",
       "      <td>[0.0, 1.0, 0.9993002099370188, 0.9443037974683...</td>\n",
       "      <td>0.969830</td>\n",
       "      <td>[0.0, 1.0, 0.9986013986013986, 0.8944844124700...</td>\n",
       "      <td>IndianPines</td>\n",
       "      <td>FastICA</td>\n",
       "      <td>15</td>\n",
       "      <td>hamida</td>\n",
       "    </tr>\n",
       "    <tr>\n",
       "      <th>45</th>\n",
       "      <td>IndianPines_FastICA_30_hamida</td>\n",
       "      <td>[[0, 0, 0, 0, 0, 0, 0, 0, 0, 0, 0, 0, 0, 0, 0,...</td>\n",
       "      <td>97.404625</td>\n",
       "      <td>[0.0, 1.0, 0.999649982499125, 0.94936708860759...</td>\n",
       "      <td>0.970494</td>\n",
       "      <td>[0.0, 1.0, 0.9993002099370188, 0.9036144578313...</td>\n",
       "      <td>IndianPines</td>\n",
       "      <td>FastICA</td>\n",
       "      <td>30</td>\n",
       "      <td>hamida</td>\n",
       "    </tr>\n",
       "  </tbody>\n",
       "</table>\n",
       "</div>"
      ],
      "text/plain": [
       "                         Experiment  \\\n",
       "22            Salinas_FastICA_30_li   \n",
       "20           Salinas_FastICA_30_mou   \n",
       "18            Salinas_FastICA_15_li   \n",
       "46        IndianPines_FastICA_30_li   \n",
       "34            IndianPines_PCA_30_li   \n",
       "32           IndianPines_PCA_30_mou   \n",
       "35      IndianPines_PCA_30_paoletti   \n",
       "31      IndianPines_PCA_15_paoletti   \n",
       "28           IndianPines_PCA_15_mou   \n",
       "27       IndianPines_PCA_8_paoletti   \n",
       "24            IndianPines_PCA_8_mou   \n",
       "30            IndianPines_PCA_15_li   \n",
       "17        Salinas_FastICA_15_hamida   \n",
       "36        IndianPines_FastICA_8_mou   \n",
       "44       IndianPines_FastICA_30_mou   \n",
       "8                Salinas_PCA_30_mou   \n",
       "4                Salinas_PCA_15_mou   \n",
       "0                 Salinas_PCA_8_mou   \n",
       "7           Salinas_PCA_15_paoletti   \n",
       "3            Salinas_PCA_8_paoletti   \n",
       "26             IndianPines_PCA_8_li   \n",
       "39   IndianPines_FastICA_8_paoletti   \n",
       "11          Salinas_PCA_30_paoletti   \n",
       "47  IndianPines_FastICA_30_paoletti   \n",
       "2                  Salinas_PCA_8_li   \n",
       "40       IndianPines_FastICA_15_mou   \n",
       "12            Salinas_FastICA_8_mou   \n",
       "1              Salinas_PCA_8_hamida   \n",
       "25         IndianPines_PCA_8_hamida   \n",
       "23      Salinas_FastICA_30_paoletti   \n",
       "38         IndianPines_FastICA_8_li   \n",
       "6                 Salinas_PCA_15_li   \n",
       "14             Salinas_FastICA_8_li   \n",
       "5             Salinas_PCA_15_hamida   \n",
       "16           Salinas_FastICA_15_mou   \n",
       "13         Salinas_FastICA_8_hamida   \n",
       "9             Salinas_PCA_30_hamida   \n",
       "21        Salinas_FastICA_30_hamida   \n",
       "15       Salinas_FastICA_8_paoletti   \n",
       "10                Salinas_PCA_30_li   \n",
       "37     IndianPines_FastICA_8_hamida   \n",
       "29        IndianPines_PCA_15_hamida   \n",
       "43  IndianPines_FastICA_15_paoletti   \n",
       "19      Salinas_FastICA_15_paoletti   \n",
       "42        IndianPines_FastICA_15_li   \n",
       "33        IndianPines_PCA_30_hamida   \n",
       "41    IndianPines_FastICA_15_hamida   \n",
       "45    IndianPines_FastICA_30_hamida   \n",
       "\n",
       "                                     Confusion matrix   Accuracy  \\\n",
       "22  [[0, 0, 0, 0, 0, 0, 0, 0, 0, 0, 0, 0, 0, 0, 0,...  20.512110   \n",
       "20  [[0, 0, 0, 0, 0, 0, 0, 0, 0, 0, 0, 0, 0, 0, 0,...  20.512110   \n",
       "18  [[0, 0, 0, 0, 0, 0, 0, 0, 0, 0, 0, 0, 0, 0, 0,...  20.512110   \n",
       "46  [[0, 0, 0, 0, 0, 0, 0, 0, 0, 0, 0, 0, 0, 0, 0,...  23.338862   \n",
       "34  [[0, 0, 0, 0, 0, 0, 0, 0, 0, 0, 0, 0, 0, 0, 0,...  23.350254   \n",
       "32  [[0, 0, 0, 0, 0, 0, 0, 0, 0, 0, 0, 0, 0, 0, 0,...  62.641546   \n",
       "35  [[0, 0, 0, 0, 0, 0, 0, 0, 0, 0, 0, 0, 0, 0, 0,...  63.772075   \n",
       "31  [[0, 0, 0, 0, 0, 0, 0, 0, 0, 0, 0, 0, 0, 0, 0,...  66.777247   \n",
       "28  [[0, 0, 0, 0, 0, 0, 0, 0, 0, 0, 0, 0, 0, 0, 0,...  68.757928   \n",
       "27  [[0, 0, 0, 0, 0, 0, 0, 0, 0, 0, 0, 0, 0, 0, 0,...  69.919016   \n",
       "24  [[0, 0, 0, 0, 0, 0, 0, 0, 0, 0, 0, 0, 0, 0, 0,...  71.567958   \n",
       "30  [[0, 0, 0, 0, 0, 0, 0, 0, 0, 0, 0, 0, 0, 0, 0,...  86.798712   \n",
       "17  [[0, 0, 0, 0, 0, 0, 0, 0, 0, 0, 0, 0, 0, 0, 0,...  86.838848   \n",
       "36  [[0, 0, 0, 0, 0, 0, 0, 0, 0, 0, 0, 0, 0, 0, 0,...  87.423163   \n",
       "44  [[0, 0, 0, 0, 0, 0, 0, 0, 0, 0, 0, 0, 0, 0, 0,...  87.657332   \n",
       "8   [[0, 0, 0, 0, 0, 0, 0, 0, 0, 0, 0, 0, 0, 0, 0,...  87.877108   \n",
       "4   [[0, 0, 0, 0, 0, 0, 0, 0, 0, 0, 0, 0, 0, 0, 0,...  88.368527   \n",
       "0   [[0, 0, 0, 0, 0, 0, 0, 0, 0, 0, 0, 0, 0, 0, 0,...  88.396239   \n",
       "7   [[0, 0, 0, 0, 0, 0, 0, 0, 0, 0, 0, 0, 0, 0, 0,...  88.865488   \n",
       "3   [[0, 0, 0, 0, 0, 0, 0, 0, 0, 0, 0, 0, 0, 0, 0,...  89.194332   \n",
       "26  [[0, 0, 0, 0, 0, 0, 0, 0, 0, 0, 0, 0, 0, 0, 0,...  89.277003   \n",
       "39  [[0, 0, 0, 0, 0, 0, 0, 0, 0, 0, 0, 0, 0, 0, 0,...  89.745341   \n",
       "11  [[0, 0, 0, 0, 0, 0, 0, 0, 0, 0, 0, 0, 0, 0, 0,...  90.457980   \n",
       "47  [[0, 0, 0, 0, 0, 0, 0, 0, 0, 0, 0, 0, 0, 0, 0,...  91.911406   \n",
       "2   [[0, 0, 0, 0, 0, 0, 0, 0, 0, 0, 0, 0, 0, 0, 0,...  92.802380   \n",
       "40  [[0, 0, 0, 0, 0, 0, 0, 0, 0, 0, 0, 0, 0, 0, 0,...  93.013953   \n",
       "12  [[0, 0, 0, 0, 0, 0, 0, 0, 0, 0, 0, 0, 0, 0, 0,...  93.116444   \n",
       "1   [[0, 0, 0, 0, 0, 0, 0, 0, 0, 0, 0, 0, 0, 0, 0,...  93.166325   \n",
       "25  [[0, 0, 0, 0, 0, 0, 0, 0, 0, 0, 0, 0, 0, 0, 0,...  93.531076   \n",
       "23  [[0, 0, 0, 0, 0, 0, 0, 0, 0, 0, 0, 0, 0, 0, 0,...  93.822166   \n",
       "38  [[0, 0, 0, 0, 0, 0, 0, 0, 0, 0, 0, 0, 0, 0, 0,...  94.175041   \n",
       "6   [[0, 0, 0, 0, 0, 0, 0, 0, 0, 0, 0, 0, 0, 0, 0,...  94.620259   \n",
       "14  [[0, 0, 0, 0, 0, 0, 0, 0, 0, 0, 0, 0, 0, 0, 0,...  94.777291   \n",
       "5   [[0, 0, 0, 0, 0, 0, 0, 0, 0, 0, 0, 0, 0, 0, 0,...  94.838257   \n",
       "16  [[0, 0, 0, 0, 0, 0, 0, 0, 0, 0, 0, 0, 0, 0, 0,...  94.845647   \n",
       "13  [[0, 0, 0, 0, 0, 0, 0, 0, 0, 0, 0, 0, 0, 0, 0,...  95.067339   \n",
       "9   [[0, 0, 0, 0, 0, 0, 0, 0, 0, 0, 0, 0, 0, 0, 0,...  95.372166   \n",
       "21  [[0, 0, 0, 0, 0, 0, 0, 0, 0, 0, 0, 0, 0, 0, 0,...  95.451606   \n",
       "15  [[0, 0, 0, 0, 0, 0, 0, 0, 0, 0, 0, 0, 0, 0, 0,...  95.455301   \n",
       "10  [[0, 0, 0, 0, 0, 0, 0, 0, 0, 0, 0, 0, 0, 0, 0,...  95.834026   \n",
       "37  [[0, 0, 0, 0, 0, 0, 0, 0, 0, 0, 0, 0, 0, 0, 0,...  96.614304   \n",
       "29  [[0, 0, 0, 0, 0, 0, 0, 0, 0, 0, 0, 0, 0, 0, 0,...  96.789931   \n",
       "43  [[0, 0, 0, 0, 0, 0, 0, 0, 0, 0, 0, 0, 0, 0, 0,...  96.848473   \n",
       "19  [[0, 0, 0, 0, 0, 0, 0, 0, 0, 0, 0, 0, 0, 0, 0,...  97.160487   \n",
       "42  [[0, 0, 0, 0, 0, 0, 0, 0, 0, 0, 0, 0, 0, 0, 0,...  97.199727   \n",
       "33  [[0, 0, 0, 0, 0, 0, 0, 0, 0, 0, 0, 0, 0, 0, 0,...  97.256931   \n",
       "41  [[0, 0, 0, 0, 0, 0, 0, 0, 0, 0, 0, 0, 0, 0, 0,...  97.346083   \n",
       "45  [[0, 0, 0, 0, 0, 0, 0, 0, 0, 0, 0, 0, 0, 0, 0,...  97.404625   \n",
       "\n",
       "                                            F1 scores     Kappa  \\\n",
       "22  [0.0, 0.0, 0.0, 0.0, 0.0, 0.0, 0.0, 0.0, 0.345...  0.001808   \n",
       "20  [0.0, 0.0, 0.0, 0.0, 0.0, 0.0, 0.0, 0.0, 0.345...  0.001808   \n",
       "18  [0.0, 0.0, 0.0, 0.0, 0.0, 0.0, 0.0, 0.0, 0.345...  0.001808   \n",
       "46  [0.0, 0.0, 0.0, 0.0, 0.0, 0.0, 0.0, 0.0, 0.0, ... -0.000244   \n",
       "34  [0.0, 0.0, 0.0, 0.0, 0.0, 0.0, 0.0, 0.0, 0.0, ... -0.000393   \n",
       "32  [0.0, 0.4444444444444444, 0.48086991542488927,...  0.561471   \n",
       "35  [0.0, 0.31746031746031744, 0.5379639087504257,...  0.581231   \n",
       "31  [0.0, 0.2857142857142857, 0.5578099838969404, ...  0.617421   \n",
       "28  [0.0, 0.345679012345679, 0.6813348001466814, 0...  0.641556   \n",
       "27  [0.0, 0.6274509803921569, 0.582398912674142, 0...  0.651425   \n",
       "24  [0.0, 0.5833333333333334, 0.6258023106546855, ...  0.675416   \n",
       "30  [0.0, 1.0, 0.8056726715216558, 0.7773386034255...  0.848881   \n",
       "17  [0.0, 0.969265938531877, 0.9588685610483976, 0...  0.853099   \n",
       "36  [0.0, 0.8051948051948052, 0.8654813820865481, ...  0.856746   \n",
       "44  [0.0, 0.967032967032967, 0.8526754690757471, 0...  0.859350   \n",
       "8   [0.0, 0.9520083463745436, 0.9853723404255319, ...  0.865283   \n",
       "4   [0.0, 0.9602446483180428, 0.9885675857431069, ...  0.870863   \n",
       "0   [0.0, 0.9673940949935815, 0.993193647404244, 0...  0.871131   \n",
       "7   [0.0, 0.8845086063298168, 0.9571152607855763, ...  0.876396   \n",
       "3   [0.0, 0.9456216492213428, 0.981309667876832, 0...  0.879867   \n",
       "26  [0.0, 1.0, 0.8377331925378388, 0.8640321500334...  0.877482   \n",
       "39  [0.0, 0.72, 0.900907187718074, 0.8162746344564...  0.883356   \n",
       "11  [0.0, 0.973953013278856, 0.9967845659163987, 0...  0.894100   \n",
       "47  [0.0, 0.989010989010989, 0.9419627154414351, 0...  0.908048   \n",
       "2   [0.0, 0.9757838388988019, 1.0, 0.9861680327868...  0.919929   \n",
       "40  [0.0, 0.9662921348314607, 0.932536893886156, 0...  0.920556   \n",
       "12  [0.0, 0.9757838388988019, 1.0, 0.9909547738693...  0.923446   \n",
       "1   [0.0, 0.9729038854805726, 0.9982580731609273, ...  0.924037   \n",
       "25  [0.0, 0.7567567567567568, 0.9403141361256544, ...  0.926518   \n",
       "23  [0.0, 0.9732347693092022, 0.9993291292097142, ...  0.931475   \n",
       "38  [0.0, 1.0, 0.9162248144220573, 0.9011957205789...  0.933715   \n",
       "6   [0.0, 0.9757838388988019, 1.0, 0.9972229235041...  0.940243   \n",
       "14  [0.0, 0.9757838388988019, 0.9998657898268689, ...  0.941983   \n",
       "5   [0.0, 0.975, 0.9995975855130784, 0.99466327827...  0.942666   \n",
       "16  [0.0, 0.9752614129048712, 0.9995974775258285, ...  0.942764   \n",
       "13  [0.0, 0.9757838388988019, 1.0, 0.9984833164812...  0.945191   \n",
       "9   [0.0, 0.9757838388988019, 0.9998658258419428, ...  0.948605   \n",
       "21  [0.0, 0.9757838388988019, 0.9998658258419428, ...  0.949414   \n",
       "15  [0.0, 0.9755226925038246, 0.9998658258419428, ...  0.949551   \n",
       "10  [0.0, 0.9757838388988019, 1.0, 0.9997468995191...  0.953717   \n",
       "37  [0.0, 1.0, 0.984182776801406, 0.93485135989879...  0.961510   \n",
       "29  [0.0, 0.989010989010989, 0.98698557861414, 0.9...  0.963501   \n",
       "43  [0.0, 0.9777777777777777, 0.9898636840265641, ...  0.964188   \n",
       "19  [0.0, 0.9757838388988019, 1.0, 0.9984794728839...  0.968448   \n",
       "42  [0.0, 1.0, 0.9957953749124037, 0.9426751592356...  0.968167   \n",
       "33  [0.0, 1.0, 0.9964985994397759, 0.9426751592356...  0.968805   \n",
       "41  [0.0, 1.0, 0.9993002099370188, 0.9443037974683...  0.969830   \n",
       "45  [0.0, 1.0, 0.999649982499125, 0.94936708860759...  0.970494   \n",
       "\n",
       "                                                  IOU      Dataset DR Method  \\\n",
       "22  [0.0, 0.0, 0.0, 0.0, 0.0, 0.0, 0.0, 0.0, 0.209...      Salinas   FastICA   \n",
       "20  [0.0, 0.0, 0.0, 0.0, 0.0, 0.0, 0.0, 0.0, 0.209...      Salinas   FastICA   \n",
       "18  [0.0, 0.0, 0.0, 0.0, 0.0, 0.0, 0.0, 0.0, 0.209...      Salinas   FastICA   \n",
       "46  [0.0, 0.0, 0.0, 0.0, 0.0, 0.0, 0.0, 0.0, 0.0, ...  IndianPines   FastICA   \n",
       "34  [0.0, 0.0, 0.0, 0.0, 0.0, 0.0, 0.0, 0.0, 0.0, ...  IndianPines       PCA   \n",
       "32  [0.0, 0.2857142857142857, 0.316542948038176, 0...  IndianPines       PCA   \n",
       "35  [0.0, 0.18867924528301888, 0.367955286446204, ...  IndianPines       PCA   \n",
       "31  [0.0, 0.16666666666666666, 0.38677981241625725...  IndianPines       PCA   \n",
       "28  [0.0, 0.208955223880597, 0.5166852057842046, 0...  IndianPines       PCA   \n",
       "27  [0.0, 0.45714285714285713, 0.41083413231064236...  IndianPines       PCA   \n",
       "24  [0.0, 0.4117647058823529, 0.45539467538533396,...  IndianPines       PCA   \n",
       "30  [0.0, 1.0, 0.6745827984595636, 0.6357758620689...  IndianPines       PCA   \n",
       "17  [0.0, 0.9403647116806308, 0.92098703888335, 0....      Salinas   FastICA   \n",
       "36  [0.0, 0.6739130434782609, 0.7628622117090479, ...  IndianPines   FastICA   \n",
       "44  [0.0, 0.9361702127659575, 0.7431859479103574, ...  IndianPines   FastICA   \n",
       "8   [0.0, 0.9084121453459433, 0.9711664482306684, ...      Salinas       PCA   \n",
       "4   [0.0, 0.9235294117647059, 0.9773936170212766, ...      Salinas       PCA   \n",
       "0   [0.0, 0.9368473396320238, 0.9864793213149523, ...      Salinas       PCA   \n",
       "7   [0.0, 0.7929318068690892, 0.917757470980489, 0...      Salinas       PCA   \n",
       "3   [0.0, 0.8968523002421307, 0.9633051742344245, ...      Salinas       PCA   \n",
       "26  [0.0, 1.0, 0.7207752877044216, 0.7606132075471...  IndianPines       PCA   \n",
       "39  [0.0, 0.5625, 0.8196825396825397, 0.6895810955...  IndianPines   FastICA   \n",
       "11  [0.0, 0.9492284718765555, 0.9935897435897436, ...      Salinas       PCA   \n",
       "47  [0.0, 0.9782608695652174, 0.8902925531914894, ...  IndianPines   FastICA   \n",
       "2   [0.0, 0.9527127924340468, 1.0, 0.9727134916624...      Salinas       PCA   \n",
       "40  [0.0, 0.9347826086956522, 0.8736010533245556, ...  IndianPines   FastICA   \n",
       "12  [0.0, 0.9527127924340468, 1.0, 0.9820717131474...      Salinas   FastICA   \n",
       "1   [0.0, 0.947237431557989, 0.9965222043873729, 0...      Salinas       PCA   \n",
       "25  [0.0, 0.6086956521739131, 0.8873517786561265, ...  IndianPines       PCA   \n",
       "23  [0.0, 0.9478649453823237, 0.9986591579511933, ...      Salinas   FastICA   \n",
       "38  [0.0, 1.0, 0.8454011741682974, 0.8201603665521...  IndianPines   FastICA   \n",
       "6   [0.0, 0.9527127924340468, 1.0, 0.9944612286002...      Salinas       PCA   \n",
       "14  [0.0, 0.9527127924340468, 0.9997316156736447, ...      Salinas   FastICA   \n",
       "5   [0.0, 0.9512195121951219, 0.999195494770716, 0...      Salinas       PCA   \n",
       "16  [0.0, 0.9517172722747635, 0.9991952789699571, ...      Salinas   FastICA   \n",
       "13  [0.0, 0.9527127924340468, 1.0, 0.9969712266532...      Salinas   FastICA   \n",
       "9   [0.0, 0.9527127924340468, 0.9997316876844647, ...      Salinas       PCA   \n",
       "21  [0.0, 0.9527127924340468, 0.9997316876844647, ...      Salinas   FastICA   \n",
       "15  [0.0, 0.9522150323544052, 0.9997316876844647, ...      Salinas   FastICA   \n",
       "10  [0.0, 0.9527127924340468, 1.0, 0.9994939271255...      Salinas       PCA   \n",
       "37  [0.0, 1.0, 0.9688581314878892, 0.8776722090261...  IndianPines   FastICA   \n",
       "29  [0.0, 0.9782608695652174, 0.9743055555555555, ...  IndianPines       PCA   \n",
       "43  [0.0, 0.9565217391304348, 0.9799307958477509, ...  IndianPines   FastICA   \n",
       "19  [0.0, 0.9527127924340468, 1.0, 0.9969635627530...      Salinas   FastICA   \n",
       "42  [0.0, 1.0, 0.9916259595254711, 0.8915662650602...  IndianPines   FastICA   \n",
       "33  [0.0, 1.0, 0.9930216329378926, 0.8915662650602...  IndianPines       PCA   \n",
       "41  [0.0, 1.0, 0.9986013986013986, 0.8944844124700...  IndianPines   FastICA   \n",
       "45  [0.0, 1.0, 0.9993002099370188, 0.9036144578313...  IndianPines   FastICA   \n",
       "\n",
       "    N Components     Model  \n",
       "22            30        li  \n",
       "20            30       mou  \n",
       "18            15        li  \n",
       "46            30        li  \n",
       "34            30        li  \n",
       "32            30       mou  \n",
       "35            30  paoletti  \n",
       "31            15  paoletti  \n",
       "28            15       mou  \n",
       "27             8  paoletti  \n",
       "24             8       mou  \n",
       "30            15        li  \n",
       "17            15    hamida  \n",
       "36             8       mou  \n",
       "44            30       mou  \n",
       "8             30       mou  \n",
       "4             15       mou  \n",
       "0              8       mou  \n",
       "7             15  paoletti  \n",
       "3              8  paoletti  \n",
       "26             8        li  \n",
       "39             8  paoletti  \n",
       "11            30  paoletti  \n",
       "47            30  paoletti  \n",
       "2              8        li  \n",
       "40            15       mou  \n",
       "12             8       mou  \n",
       "1              8    hamida  \n",
       "25             8    hamida  \n",
       "23            30  paoletti  \n",
       "38             8        li  \n",
       "6             15        li  \n",
       "14             8        li  \n",
       "5             15    hamida  \n",
       "16            15       mou  \n",
       "13             8    hamida  \n",
       "9             30    hamida  \n",
       "21            30    hamida  \n",
       "15             8  paoletti  \n",
       "10            30        li  \n",
       "37             8    hamida  \n",
       "29            15    hamida  \n",
       "43            15  paoletti  \n",
       "19            15  paoletti  \n",
       "42            15        li  \n",
       "33            30    hamida  \n",
       "41            15    hamida  \n",
       "45            30    hamida  "
      ]
     },
     "execution_count": 132,
     "metadata": {},
     "output_type": "execute_result"
    }
   ],
   "source": [
    "df_results.sort_values(by='Accuracy')"
   ]
  },
  {
   "cell_type": "markdown",
   "metadata": {},
   "source": [
    "# LATEX TABLES"
   ]
  },
  {
   "cell_type": "code",
   "execution_count": null,
   "metadata": {},
   "outputs": [],
   "source": [
    "from tabulate import tabulate\n",
    "\n",
    "# Define the DataFrame data\n",
    "data = {\n",
    "    8: ['=', '='],\n",
    "    15: ['=', 'paoletti'],\n",
    "    30: ['=', 'paoletti']\n",
    "}\n",
    "\n",
    "# Define custom row labels\n",
    "index = ['PCA', 'FastICA']\n",
    "\n",
    "# Generate the LaTeX code for the table with centered content\n",
    "table = tabulate(data, headers='keys', tablefmt='latex_raw', showindex=index)\n",
    "\n",
    "# Add \\centering to center the content of each cell\n",
    "table = \"\\\\begin{table}[h]\\n\\\\centering\\n\" + table + \"\\n\\\\end{table}\"\n",
    "\n",
    "# Print the LaTeX code\n",
    "print(table)"
   ]
  }
 ],
 "metadata": {
  "kernelspec": {
   "display_name": "dslab1",
   "language": "python",
   "name": "python3"
  },
  "language_info": {
   "codemirror_mode": {
    "name": "ipython",
    "version": 3
   },
   "file_extension": ".py",
   "mimetype": "text/x-python",
   "name": "python",
   "nbconvert_exporter": "python",
   "pygments_lexer": "ipython3",
   "version": "3.12.2"
  }
 },
 "nbformat": 4,
 "nbformat_minor": 2
}
